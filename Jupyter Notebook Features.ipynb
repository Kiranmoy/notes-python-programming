{
 "cells": [
  {
   "cell_type": "markdown",
   "id": "c3f893ef",
   "metadata": {},
   "source": [
    "# KEYBOARDS SHORTCUTS"
   ]
  },
  {
   "cell_type": "markdown",
   "id": "ffefc397",
   "metadata": {},
   "source": [
    "## Cell Mode\n",
    "\n",
    "---\n",
    "**EDIT MODE** - ENTER\n",
    "\n",
    "**COMMAND MODE** - ESC"
   ]
  },
  {
   "cell_type": "markdown",
   "id": "5e68bfc8",
   "metadata": {},
   "source": [
    "## Command Mode options\n",
    "\n",
    "---\n",
    "\n",
    "> **M**                : Convert to Markdown Cell\n",
    "\n",
    "> **Y**                : Convert to Code Cell\n",
    "\n",
    "> **R**                : Convert to Raw Cell\n",
    "\n",
    "> **CTRL + ENTER**     : Execute selected cell only\n",
    "\n",
    "> **ALT + ENTER**      : Execute selected cell & Insert new cell below\n",
    "\n",
    "> **SHIFT + ENTER**    : Execute selected cell, Insert new cell below and Move to the new cell\n",
    "\n",
    "> **UP Arrow**         : Select Above Cell\n",
    "\n",
    "> **DOWN Arrow**       : Select Below Cell\n",
    "\n",
    "> **A**                : Insert Cell Above\n",
    "\n",
    "> **B**                : Insert Cell Above\n",
    "\n",
    "> **DD**               : Delete Selected Cell\n",
    "\n",
    "> **Z**                : Undo Deletion\n",
    "\n",
    "> **CTRL + S**         : Save and Checkpoint\n",
    "\n",
    "> **CTRL + A**         : Select all cells\n",
    "\n",
    "> **X**                : Cut Selected Cell\n",
    "\n",
    "> **C**                : Copy Selected Cell\n",
    "\n",
    "> **SHIFT + V**        : Paste Cell Above\n",
    "\n",
    "> **V**                : Paste Cell Below\n",
    "\n",
    "> **SHIFT + M**        : merge selected cells, or current cell with cell below if only one cell is selected\n",
    "\n",
    "> **F**                : Find and Replace\n",
    "\n"
   ]
  },
  {
   "cell_type": "markdown",
   "id": "ff338111",
   "metadata": {},
   "source": [
    "## Code Execution History\n",
    "\n",
    "> **%history -p**"
   ]
  },
  {
   "cell_type": "markdown",
   "id": "1a97eeab",
   "metadata": {},
   "source": [
    "## Markdown Syntax\n"
   ]
  },
  {
   "cell_type": "markdown",
   "id": "459fc33c",
   "metadata": {},
   "source": [
    "### Adding Italics and Bold Text"
   ]
  },
  {
   "cell_type": "raw",
   "id": "47585e93",
   "metadata": {},
   "source": [
    "*Italics*\n",
    "**Bold** "
   ]
  },
  {
   "cell_type": "markdown",
   "id": "3b6bbf18",
   "metadata": {},
   "source": [
    "### Adding Headers"
   ]
  },
  {
   "cell_type": "raw",
   "id": "433ac9fe",
   "metadata": {},
   "source": [
    "# Header 1\n",
    "## Header 2\n",
    "### Header 3"
   ]
  },
  {
   "cell_type": "markdown",
   "id": "06291b0e",
   "metadata": {},
   "source": [
    "### Adding Hyperlinks and Images"
   ]
  },
  {
   "cell_type": "raw",
   "id": "eabbe76b",
   "metadata": {},
   "source": [
    "[Link Text](URL)"
   ]
  },
  {
   "cell_type": "markdown",
   "id": "bb71ee44",
   "metadata": {},
   "source": [
    "### Adding Blockquote"
   ]
  },
  {
   "cell_type": "raw",
   "id": "1f5765df",
   "metadata": {},
   "source": [
    "> Blockquote"
   ]
  },
  {
   "cell_type": "markdown",
   "id": "cb3387ca",
   "metadata": {},
   "source": [
    "### Adding Lists"
   ]
  },
  {
   "cell_type": "raw",
   "id": "f8619c1a",
   "metadata": {},
   "source": [
    "* List 1\n",
    "* List 2\n",
    "* List 3"
   ]
  },
  {
   "cell_type": "markdown",
   "id": "75f6bfd4",
   "metadata": {},
   "source": [
    "### Adding Horizontal Line"
   ]
  },
  {
   "cell_type": "raw",
   "id": "e191118d",
   "metadata": {},
   "source": [
    "---"
   ]
  },
  {
   "cell_type": "markdown",
   "id": "8f3c9684",
   "metadata": {},
   "source": [
    "### Adding Inline Code"
   ]
  },
  {
   "cell_type": "raw",
   "id": "1c628dfc",
   "metadata": {},
   "source": [
    "`Inline code with backtick`"
   ]
  },
  {
   "cell_type": "markdown",
   "id": "a59380bf",
   "metadata": {},
   "source": [
    "### Adding Code Blocks"
   ]
  },
  {
   "cell_type": "raw",
   "id": "e82cbc6e",
   "metadata": {},
   "source": [
    "```\n",
    "Code\n",
    "Block\n",
    "```"
   ]
  }
 ],
 "metadata": {
  "kernelspec": {
   "display_name": "Python 3 (ipykernel)",
   "language": "python",
   "name": "python3"
  },
  "language_info": {
   "codemirror_mode": {
    "name": "ipython",
    "version": 3
   },
   "file_extension": ".py",
   "mimetype": "text/x-python",
   "name": "python",
   "nbconvert_exporter": "python",
   "pygments_lexer": "ipython3",
   "version": "3.9.7"
  }
 },
 "nbformat": 4,
 "nbformat_minor": 5
}
