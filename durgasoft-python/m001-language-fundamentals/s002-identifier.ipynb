{
 "cells": [
  {
   "cell_type": "markdown",
   "id": "0f3e40a0-967e-469d-a0d0-ad43ba399293",
   "metadata": {},
   "source": [
    "# Identifier"
   ]
  },
  {
   "cell_type": "markdown",
   "id": "3245c27a-2f73-4847-9ddf-7c71cdff862a",
   "metadata": {},
   "source": [
    "* A Name in Python Program is called **Identifier**.\n",
    "* It can be a Class Name/Function Name/Module Name/Variable Name.\n",
    "\n",
    "a = 10"
   ]
  },
  {
   "cell_type": "markdown",
   "id": "a7729b35-0f2e-4112-9b8e-2919972f963e",
   "metadata": {},
   "source": [
    "# Rules to define Identifiers in Python"
   ]
  },
  {
   "cell_type": "markdown",
   "id": "2934ef1e-1a3f-47fd-add8-d0a5a17313a1",
   "metadata": {},
   "source": [
    "## Rule 1"
   ]
  },
  {
   "cell_type": "markdown",
   "id": "1436c497-9cd2-4f81-92ae-3d83a1eb5252",
   "metadata": {},
   "source": [
    "**The only allowed characters in Python are**\n",
    "* alphabet symbols(either lower case or upper case)\n",
    "* digits(0 to 9)\n",
    "* underscore symbol(_)\n",
    "\n",
    "By mistake, if we use any other symbol like **'$'**, we will get a syntax error."
   ]
  },
  {
   "cell_type": "code",
   "execution_count": 4,
   "id": "2ab4b039-3eef-444b-870b-a7d4c16edfb8",
   "metadata": {},
   "outputs": [
    {
     "ename": "SyntaxError",
     "evalue": "invalid syntax (3128686679.py, line 2)",
     "output_type": "error",
     "traceback": [
      "\u001b[1;36m  Cell \u001b[1;32mIn[4], line 2\u001b[1;36m\u001b[0m\n\u001b[1;33m    ca$h =20 // Syntax Error: Invalid syntax\u001b[0m\n\u001b[1;37m      ^\u001b[0m\n\u001b[1;31mSyntaxError\u001b[0m\u001b[1;31m:\u001b[0m invalid syntax\n"
     ]
    }
   ],
   "source": [
    "cash = 10 // correct\n",
    "ca$h =20 // Syntax Error: Invalid syntax"
   ]
  },
  {
   "cell_type": "markdown",
   "id": "8ee4f700-d37b-435d-8aa5-d9290c6524b5",
   "metadata": {},
   "source": [
    "## Rule 2"
   ]
  },
  {
   "cell_type": "markdown",
   "id": "ef8fadad-71c9-43d4-b03a-a502c1bd84de",
   "metadata": {},
   "source": [
    "**Identifier should not starts with a digit.**"
   ]
  },
  {
   "cell_type": "code",
   "execution_count": 5,
   "id": "e6239a69-c75b-44f5-b370-62f1a4bbb844",
   "metadata": {},
   "outputs": [
    {
     "ename": "SyntaxError",
     "evalue": "invalid decimal literal (993030849.py, line 2)",
     "output_type": "error",
     "traceback": [
      "\u001b[1;36m  Cell \u001b[1;32mIn[5], line 2\u001b[1;36m\u001b[0m\n\u001b[1;33m    123total // Syntax Error: Invalid syntax\u001b[0m\n\u001b[1;37m      ^\u001b[0m\n\u001b[1;31mSyntaxError\u001b[0m\u001b[1;31m:\u001b[0m invalid decimal literal\n"
     ]
    }
   ],
   "source": [
    "total123 // correct\n",
    "123total // Syntax Error: Invalid syntax"
   ]
  },
  {
   "cell_type": "markdown",
   "id": "2e6616a9-01fb-4d20-868f-9b900eed8ca9",
   "metadata": {},
   "source": [
    "## Rule 3"
   ]
  },
  {
   "cell_type": "markdown",
   "id": "c2a20028-c471-4cb2-8fef-ca480343ef29",
   "metadata": {},
   "source": [
    "**Identifiers are case-sensitive. Of course, Python language is a case-sensitive language.**"
   ]
  },
  {
   "cell_type": "code",
   "execution_count": 3,
   "id": "575388c5-0473-4afe-b3c6-31ec432f4532",
   "metadata": {},
   "outputs": [
    {
     "name": "stdout",
     "output_type": "stream",
     "text": [
      "10\n",
      "999\n"
     ]
    }
   ],
   "source": [
    "total=10\n",
    "TOTAL=999\n",
    "\n",
    "print(total) #10\n",
    "print(TOTAL) #999"
   ]
  },
  {
   "cell_type": "markdown",
   "id": "770b02b9-cd47-42f6-9690-2a6a7795b305",
   "metadata": {},
   "source": [
    "## Rule 4"
   ]
  },
  {
   "cell_type": "markdown",
   "id": "4a2c95f0-7306-4815-8bbb-4625bf46471f",
   "metadata": {},
   "source": [
    "**There is no length limit for Python identifiers.**\n",
    "\n",
    "**But not recommended to use too lengthy identifiers.**"
   ]
  },
  {
   "cell_type": "markdown",
   "id": "b2f48a8b-b292-4033-8b6c-c66768655275",
   "metadata": {},
   "source": [
    "## Rule 5"
   ]
  },
  {
   "cell_type": "markdown",
   "id": "973c55b0-d3c4-47d2-b924-e1c8d2a4016d",
   "metadata": {},
   "source": [
    "**We cannot use reserved words as identifiers.**"
   ]
  },
  {
   "cell_type": "code",
   "execution_count": 6,
   "id": "a2182e91-176f-4ff4-998f-37469bb069a8",
   "metadata": {},
   "outputs": [
    {
     "ename": "SyntaxError",
     "evalue": "invalid syntax (3187998853.py, line 1)",
     "output_type": "error",
     "traceback": [
      "\u001b[1;36m  Cell \u001b[1;32mIn[6], line 1\u001b[1;36m\u001b[0m\n\u001b[1;33m    if = 10 // Syntax Error : Invalid Syntax\u001b[0m\n\u001b[1;37m       ^\u001b[0m\n\u001b[1;31mSyntaxError\u001b[0m\u001b[1;31m:\u001b[0m invalid syntax\n"
     ]
    }
   ],
   "source": [
    "if = 10 // Syntax Error : Invalid Syntax"
   ]
  },
  {
   "cell_type": "markdown",
   "id": "8e4cef6b-c848-4bef-a2ad-fad8a97e68d9",
   "metadata": {},
   "source": [
    "# IMPORTANT NOTE"
   ]
  },
  {
   "cell_type": "code",
   "execution_count": 7,
   "id": "147ccfa1-18ab-430d-a68a-502754c8d7a5",
   "metadata": {},
   "outputs": [],
   "source": [
    "x = 1        # Normal Variable\n",
    "_x = 1       # Protected Variable - Starts with one Underscore (_)\n",
    "__x = 1      # Private Variable - Starts with two Underscores (__)\n",
    "__x__ = 1    # Magic Variables - Starts & ends with two Underscores (__)\n",
    "\n",
    "# Language level pre-defined variables are called Magic Variables.\n",
    "# Example: __add__, __name__"
   ]
  },
  {
   "cell_type": "code",
   "execution_count": null,
   "id": "da4fa004-cab9-417e-8ce6-fa736f1dc893",
   "metadata": {},
   "outputs": [],
   "source": []
  }
 ],
 "metadata": {
  "kernelspec": {
   "display_name": "Python 3 (ipykernel)",
   "language": "python",
   "name": "python3"
  },
  "language_info": {
   "codemirror_mode": {
    "name": "ipython",
    "version": 3
   },
   "file_extension": ".py",
   "mimetype": "text/x-python",
   "name": "python",
   "nbconvert_exporter": "python",
   "pygments_lexer": "ipython3",
   "version": "3.12.5"
  }
 },
 "nbformat": 4,
 "nbformat_minor": 5
}
