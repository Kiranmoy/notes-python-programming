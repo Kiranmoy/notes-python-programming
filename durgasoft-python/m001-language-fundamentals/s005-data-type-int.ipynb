{
 "cells": [
  {
   "cell_type": "markdown",
   "id": "e8c3ed02-4d85-4da2-9050-ec4836646a50",
   "metadata": {},
   "source": [
    "# Introduction"
   ]
  },
  {
   "cell_type": "markdown",
   "id": "f07b0199-e1bf-48af-923a-d7998b0498ce",
   "metadata": {},
   "source": [
    "We can use the **int** data type to represent whole numbers (integral values)."
   ]
  },
  {
   "cell_type": "code",
   "execution_count": 1,
   "id": "fedcd2f6-c50b-494b-8c2a-a4709f4d7836",
   "metadata": {},
   "outputs": [
    {
     "name": "stdout",
     "output_type": "stream",
     "text": [
      "<class 'int'>\n"
     ]
    }
   ],
   "source": [
    "a = 10\n",
    "print(type(a))  # <class 'int'>"
   ]
  },
  {
   "cell_type": "markdown",
   "id": "1557980b-e081-4015-8761-1465f711ce3a",
   "metadata": {},
   "source": [
    "> ***Note***\n",
    "> \n",
    "> *In **Python2**, we have long data type to represent very large integral values.*\n",
    "> \n",
    "> *But in **Python3**, there is no long type explicitly and we can **represent long values also by using int type only**.*"
   ]
  },
  {
   "cell_type": "markdown",
   "id": "97916013-ec81-4d8a-b50e-6a5eab6bf561",
   "metadata": {},
   "source": [
    "We can represent int values in the following ways:\n",
    "* Decimal form (**Base 10**)\n",
    "* Binary form (**Base 2**)\n",
    "* Octal form (**Base 8**)\n",
    "* Hexa decimal form (**Base 16**)"
   ]
  },
  {
   "cell_type": "markdown",
   "id": "ff6e3ef9-d4a8-4749-a0e9-cb66beb30b14",
   "metadata": {},
   "source": [
    "# Decimal Form (Base-10)"
   ]
  },
  {
   "cell_type": "markdown",
   "id": "50937c80-5951-45a9-8aaf-a6d086ca2001",
   "metadata": {},
   "source": [
    "* It is the default number system in Python.\n",
    "* The allowed digits are: **0 to 9**"
   ]
  },
  {
   "cell_type": "code",
   "execution_count": 2,
   "id": "3fade9a8-856c-4631-b5b6-0113e10fd1ba",
   "metadata": {},
   "outputs": [
    {
     "name": "stdout",
     "output_type": "stream",
     "text": [
      "10\n"
     ]
    }
   ],
   "source": [
    "a = 10\n",
    "print(a)  # 10"
   ]
  },
  {
   "cell_type": "markdown",
   "id": "62b46eee-477b-44b2-92c8-d20265abfbe5",
   "metadata": {},
   "source": [
    "# Binary Form (Base-2)"
   ]
  },
  {
   "cell_type": "markdown",
   "id": "2ba9007b-a75f-4186-9b88-12ea6f3fd27a",
   "metadata": {},
   "source": [
    "* The allowed digits are : **0** & **1**\n",
    "* The literal value should be prefixed with **0b** or **0B**"
   ]
  },
  {
   "cell_type": "code",
   "execution_count": 4,
   "id": "86dff6ae-1008-48de-9f0f-c2b199c5839c",
   "metadata": {},
   "outputs": [
    {
     "name": "stdout",
     "output_type": "stream",
     "text": [
      "15\n",
      "7\n"
     ]
    }
   ],
   "source": [
    "a2 = 0B1111\n",
    "a3 = 0b111\n",
    "\n",
    "print(a2)   # 15\n",
    "print(a3)   # 7"
   ]
  },
  {
   "cell_type": "code",
   "execution_count": 5,
   "id": "df0d18cf-ab08-438b-9475-23a273908a90",
   "metadata": {},
   "outputs": [
    {
     "ename": "SyntaxError",
     "evalue": "invalid digit '2' in binary literal (3387047461.py, line 1)",
     "output_type": "error",
     "traceback": [
      "\u001b[1;36m  Cell \u001b[1;32mIn[5], line 1\u001b[1;36m\u001b[0m\n\u001b[1;33m    a1 = 0B123    # SyntaxError: invalid digit '2' in binary literal\u001b[0m\n\u001b[1;37m            ^\u001b[0m\n\u001b[1;31mSyntaxError\u001b[0m\u001b[1;31m:\u001b[0m invalid digit '2' in binary literal\n"
     ]
    }
   ],
   "source": [
    "a1 = 0B123    # SyntaxError: invalid digit '2' in binary literal"
   ]
  },
  {
   "cell_type": "markdown",
   "id": "16c20610-1469-4852-8e78-999ab62601fa",
   "metadata": {},
   "source": [
    "# Octal Form (Base-8)"
   ]
  },
  {
   "cell_type": "markdown",
   "id": "58cc3515-32e7-4838-abf7-83049f9e17b2",
   "metadata": {},
   "source": [
    "* The allowed digits are : **0** to **7**\n",
    "* The literal value should be prefixed with **0o** or **0O**."
   ]
  },
  {
   "cell_type": "code",
   "execution_count": 6,
   "id": "ea19051a-193d-4be7-979b-c878b63677bc",
   "metadata": {},
   "outputs": [
    {
     "name": "stdout",
     "output_type": "stream",
     "text": [
      "83\n"
     ]
    }
   ],
   "source": [
    "a1 = 0o123\n",
    "print(a1)   # 83"
   ]
  },
  {
   "cell_type": "code",
   "execution_count": 7,
   "id": "864046cd-cc72-4f55-b374-3caa219ac11a",
   "metadata": {},
   "outputs": [
    {
     "ename": "SyntaxError",
     "evalue": "invalid digit '8' in octal literal (100081160.py, line 1)",
     "output_type": "error",
     "traceback": [
      "\u001b[1;36m  Cell \u001b[1;32mIn[7], line 1\u001b[1;36m\u001b[0m\n\u001b[1;33m    a2 = 0o786  # SyntaxError: invalid digit '8' in octal literal\u001b[0m\n\u001b[1;37m            ^\u001b[0m\n\u001b[1;31mSyntaxError\u001b[0m\u001b[1;31m:\u001b[0m invalid digit '8' in octal literal\n"
     ]
    }
   ],
   "source": [
    "a2 = 0o786  # SyntaxError: invalid digit '8' in octal literal"
   ]
  },
  {
   "cell_type": "markdown",
   "id": "b0bdc5b1-fb03-4a3b-8f1d-90356c140465",
   "metadata": {},
   "source": [
    "# Hexa Decimal Form (Base-16)"
   ]
  },
  {
   "cell_type": "markdown",
   "id": "84fb8289-24fa-475e-b145-91b399c15b02",
   "metadata": {},
   "source": [
    "* The allowed digits are **0-9**, **8a-f**, **A-F**\n",
    "* The literal value should be prefixed with **0x** or **0X**"
   ]
  },
  {
   "cell_type": "code",
   "execution_count": 8,
   "id": "e72ccd5b-95aa-4f0c-993b-ebc94f29497e",
   "metadata": {},
   "outputs": [
    {
     "name": "stdout",
     "output_type": "stream",
     "text": [
      "64206\n",
      "48879\n"
     ]
    }
   ],
   "source": [
    "a1 = 0XFACE\n",
    "a2 = 0XBeef\n",
    "\n",
    "print(a1)   # 64206\n",
    "print(a2)   # 48879"
   ]
  },
  {
   "cell_type": "code",
   "execution_count": 9,
   "id": "bda730fe-5b28-43f9-93ad-7779e549b569",
   "metadata": {},
   "outputs": [
    {
     "ename": "SyntaxError",
     "evalue": "invalid hexadecimal literal (412263969.py, line 1)",
     "output_type": "error",
     "traceback": [
      "\u001b[1;36m  Cell \u001b[1;32mIn[9], line 1\u001b[1;36m\u001b[0m\n\u001b[1;33m    a3 = 0XBeer   # SyntaxError: invalid hexadecimal literal\u001b[0m\n\u001b[1;37m             ^\u001b[0m\n\u001b[1;31mSyntaxError\u001b[0m\u001b[1;31m:\u001b[0m invalid hexadecimal literal\n"
     ]
    }
   ],
   "source": [
    "a3 = 0XBeer   # SyntaxError: invalid hexadecimal literal"
   ]
  },
  {
   "cell_type": "markdown",
   "id": "4d85705d-0572-429f-a846-fed68565fed2",
   "metadata": {},
   "source": [
    "> **Being a programmer we can specify literal values in decimal, binary, octal and hexadecimal forms.**\n",
    "\n",
    "> **But PVM (Python Virtual Machine) will always provide values only in decimal form.**"
   ]
  },
  {
   "cell_type": "code",
   "execution_count": 10,
   "id": "fb26cc4f-6a3b-4fea-ad11-f02669c27aed",
   "metadata": {},
   "outputs": [
    {
     "name": "stdout",
     "output_type": "stream",
     "text": [
      "10\n",
      "8\n",
      "16\n",
      "2\n"
     ]
    }
   ],
   "source": [
    "a=10\n",
    "b=0o10\n",
    "c=0X10\n",
    "d=0B10\n",
    "\n",
    "print(a)  # 10\n",
    "print(b)  # 8\n",
    "print(c)  # 16\n",
    "print(d)  # 2"
   ]
  },
  {
   "cell_type": "markdown",
   "id": "70a28ee8-e457-4b11-a2a6-bf78ccbfe84e",
   "metadata": {},
   "source": [
    "# Base Conversion"
   ]
  },
  {
   "cell_type": "markdown",
   "id": "7019e1bd-a423-4fe9-894f-3db7fd3fa562",
   "metadata": {},
   "source": [
    "Base conversion refers to **converting integer values from one base to another**.\n",
    "\n",
    "Python provides the following in-built functions for base conversions:\n",
    "* **bin( )**\n",
    "* **oct( )** \n",
    "* **hex( )**"
   ]
  },
  {
   "cell_type": "markdown",
   "id": "c9c760d7-f299-420c-9575-3b90c1648cc3",
   "metadata": {},
   "source": [
    "## bin( )"
   ]
  },
  {
   "cell_type": "markdown",
   "id": "73bd6729-3b2f-4852-84cb-69c06f1b2e34",
   "metadata": {},
   "source": [
    "We can use **bin( )** to convert from any base to binary."
   ]
  },
  {
   "cell_type": "code",
   "execution_count": 11,
   "id": "f69b479f-e2dd-41f7-90b9-6877c915bbc3",
   "metadata": {},
   "outputs": [
    {
     "name": "stdout",
     "output_type": "stream",
     "text": [
      "0b1111\n",
      "0b1010011\n",
      "0b1111101011001110\n"
     ]
    }
   ],
   "source": [
    "print(bin(15))      # 0b1111\n",
    "print(bin(0O123))   # 0b1010011\n",
    "print(bin(0XFACE))  # 0b1111101011001110"
   ]
  },
  {
   "cell_type": "markdown",
   "id": "80a7bc98-8489-40ca-bc83-1314415ca361",
   "metadata": {},
   "source": [
    "## oct( )"
   ]
  },
  {
   "cell_type": "markdown",
   "id": "b4e85cd8-cd3a-48d7-a3cb-de3f89227dc5",
   "metadata": {},
   "source": [
    "We can use **oct( )** to convert from any base to octal."
   ]
  },
  {
   "cell_type": "code",
   "execution_count": 12,
   "id": "3dacb209-b7fd-4a8c-96bc-a32d39368ce4",
   "metadata": {},
   "outputs": [
    {
     "name": "stdout",
     "output_type": "stream",
     "text": [
      "0o144\n",
      "0o75\n",
      "0o175316\n"
     ]
    }
   ],
   "source": [
    "print(oct(100))       # 0o144\n",
    "print(oct(0B111101))  # 0o75\n",
    "print(oct(0XFACE))    # 0o175316"
   ]
  },
  {
   "cell_type": "markdown",
   "id": "cc2df9b9-17c6-4416-bb2c-46e5bf4cddf2",
   "metadata": {},
   "source": [
    "## hex( )"
   ]
  },
  {
   "cell_type": "markdown",
   "id": "3ed91287-65b5-449e-be44-b4f7b41bded2",
   "metadata": {},
   "source": [
    "We can use **hex( )** to convert from any base to hexadecimal."
   ]
  },
  {
   "cell_type": "code",
   "execution_count": 13,
   "id": "b778d801-fbc3-4d20-8607-cd999ad6226e",
   "metadata": {},
   "outputs": [
    {
     "name": "stdout",
     "output_type": "stream",
     "text": [
      "0x3e8\n",
      "0xbf\n",
      "0xa72e\n"
     ]
    }
   ],
   "source": [
    "print(hex(1000))        # 0x3e8\n",
    "print(hex(0B10111111))  # 0xbf\n",
    "print(hex(0o123456))    # 0xa72e"
   ]
  },
  {
   "cell_type": "code",
   "execution_count": null,
   "id": "c888246a-779e-4e15-ba97-6f2ccbc1a4a1",
   "metadata": {},
   "outputs": [],
   "source": []
  }
 ],
 "metadata": {
  "kernelspec": {
   "display_name": "Python 3 (ipykernel)",
   "language": "python",
   "name": "python3"
  },
  "language_info": {
   "codemirror_mode": {
    "name": "ipython",
    "version": 3
   },
   "file_extension": ".py",
   "mimetype": "text/x-python",
   "name": "python",
   "nbconvert_exporter": "python",
   "pygments_lexer": "ipython3",
   "version": "3.12.5"
  }
 },
 "nbformat": 4,
 "nbformat_minor": 5
}
