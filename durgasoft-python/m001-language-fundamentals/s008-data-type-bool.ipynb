{
 "cells": [
  {
   "cell_type": "markdown",
   "id": "21d4d76e-4453-4ae0-be23-994dbc63e327",
   "metadata": {},
   "source": [
    "* We can use this data type to represent boolean values.\n",
    "\n",
    "* The only allowed values for this data type are: **True** and **False**."
   ]
  },
  {
   "cell_type": "code",
   "execution_count": 3,
   "id": "9e86697b-12c9-4778-9917-153e63e4f59e",
   "metadata": {},
   "outputs": [
    {
     "name": "stdout",
     "output_type": "stream",
     "text": [
      "<class 'bool'>\n",
      "True\n",
      "<class 'bool'>\n",
      "False\n"
     ]
    }
   ],
   "source": [
    "b = True\n",
    "print(type(b)) # <class 'bool'>\n",
    "print(b)       # True\n",
    "\n",
    "c = False\n",
    "print(type(c)) # <class 'bool'>\n",
    "print(c)       # True"
   ]
  },
  {
   "cell_type": "code",
   "execution_count": 4,
   "id": "387d3794-15e4-4c83-a3fb-e5085f7ff818",
   "metadata": {},
   "outputs": [
    {
     "ename": "NameError",
     "evalue": "name 'true' is not defined",
     "output_type": "error",
     "traceback": [
      "\u001b[1;31m---------------------------------------------------------------------------\u001b[0m",
      "\u001b[1;31mNameError\u001b[0m                                 Traceback (most recent call last)",
      "Cell \u001b[1;32mIn[4], line 1\u001b[0m\n\u001b[1;32m----> 1\u001b[0m b \u001b[38;5;241m=\u001b[39m \u001b[43mtrue\u001b[49m  \u001b[38;5;66;03m# NameError: name 'true' is not defined. Did you mean: 'True'?\u001b[39;00m\n",
      "\u001b[1;31mNameError\u001b[0m: name 'true' is not defined"
     ]
    }
   ],
   "source": [
    "b = true  # NameError: name 'true' is not defined. Did you mean: 'True'?"
   ]
  },
  {
   "cell_type": "code",
   "execution_count": 5,
   "id": "149697de-de26-4176-8078-13255a47f503",
   "metadata": {},
   "outputs": [
    {
     "ename": "NameError",
     "evalue": "name 'false' is not defined",
     "output_type": "error",
     "traceback": [
      "\u001b[1;31m---------------------------------------------------------------------------\u001b[0m",
      "\u001b[1;31mNameError\u001b[0m                                 Traceback (most recent call last)",
      "Cell \u001b[1;32mIn[5], line 1\u001b[0m\n\u001b[1;32m----> 1\u001b[0m b \u001b[38;5;241m=\u001b[39m \u001b[43mfalse\u001b[49m \u001b[38;5;66;03m# NameError: name 'false' is not defined. Did you mean: 'False'?\u001b[39;00m\n",
      "\u001b[1;31mNameError\u001b[0m: name 'false' is not defined"
     ]
    }
   ],
   "source": [
    "b = false # NameError: name 'false' is not defined. Did you mean: 'False'?"
   ]
  },
  {
   "cell_type": "markdown",
   "id": "85c4b730-23a3-44d4-8f9c-f87f1cb51614",
   "metadata": {},
   "source": [
    "## Another Example"
   ]
  },
  {
   "cell_type": "code",
   "execution_count": 6,
   "id": "056837b7-7ac8-495c-858d-e2846b365094",
   "metadata": {},
   "outputs": [
    {
     "name": "stdout",
     "output_type": "stream",
     "text": [
      "True\n",
      "<class 'int'>\n"
     ]
    }
   ],
   "source": [
    "a = 10\n",
    "b = 20\n",
    "c = a < b\n",
    "print(c)        # False\n",
    "print(type(b))  # <class 'bool'>"
   ]
  },
  {
   "cell_type": "markdown",
   "id": "73d4bcb0-7797-417a-8154-6e50b215fafc",
   "metadata": {},
   "source": [
    "Internally Python represents **True** as **1** and **False** as **0**.  If we’re performing the arithmetic operation with the boolean values, then the integral for the respective boolean values will be used."
   ]
  },
  {
   "cell_type": "code",
   "execution_count": 7,
   "id": "b321c961-9c2b-4b7f-9221-356e5a6024f5",
   "metadata": {},
   "outputs": [
    {
     "name": "stdout",
     "output_type": "stream",
     "text": [
      "2\n",
      "1\n",
      "0\n"
     ]
    }
   ],
   "source": [
    "print(True + True)    # 2\n",
    "print(True - False)   # 1\n",
    "print(True * False)   # 0"
   ]
  },
  {
   "cell_type": "code",
   "execution_count": null,
   "id": "d41fbe67-62e7-4d26-a13f-e8a4c3d208f9",
   "metadata": {},
   "outputs": [],
   "source": []
  }
 ],
 "metadata": {
  "kernelspec": {
   "display_name": "Python 3 (ipykernel)",
   "language": "python",
   "name": "python3"
  },
  "language_info": {
   "codemirror_mode": {
    "name": "ipython",
    "version": 3
   },
   "file_extension": ".py",
   "mimetype": "text/x-python",
   "name": "python",
   "nbconvert_exporter": "python",
   "pygments_lexer": "ipython3",
   "version": "3.12.5"
  }
 },
 "nbformat": 4,
 "nbformat_minor": 5
}
