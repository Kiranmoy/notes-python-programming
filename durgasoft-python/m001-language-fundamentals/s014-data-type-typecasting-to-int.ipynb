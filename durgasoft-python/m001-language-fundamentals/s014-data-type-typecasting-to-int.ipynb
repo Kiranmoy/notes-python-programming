{
 "cells": [
  {
   "cell_type": "markdown",
   "id": "fe7e396c-9c79-43e7-8e40-75818d33b40a",
   "metadata": {},
   "source": [
    "We can use the **int( )** function to convert values from ***other types to int***."
   ]
  },
  {
   "cell_type": "markdown",
   "id": "76d8c53e-097b-4ba2-8003-e9794f9deb37",
   "metadata": {},
   "source": [
    "# float -> int"
   ]
  },
  {
   "cell_type": "markdown",
   "id": "c752f89c-4c07-47b0-8b8f-2e3518bfce5a",
   "metadata": {},
   "source": [
    "Digit after decimal will be removed."
   ]
  },
  {
   "cell_type": "code",
   "execution_count": 1,
   "id": "46c27c13-066f-4acb-9254-ea629da529a4",
   "metadata": {},
   "outputs": [
    {
     "data": {
      "text/plain": [
       "123"
      ]
     },
     "execution_count": 1,
     "metadata": {},
     "output_type": "execute_result"
    }
   ],
   "source": [
    "int(123.987)        # 123                   "
   ]
  },
  {
   "cell_type": "markdown",
   "id": "a7a9a3b0-1064-40d4-b01c-755cfb21375f",
   "metadata": {},
   "source": [
    "# complex -> int"
   ]
  },
  {
   "cell_type": "markdown",
   "id": "1915c339-6942-4113-87e6-7e9ec116325a",
   "metadata": {},
   "source": [
    "Complex number cannot be converted to int type."
   ]
  },
  {
   "cell_type": "code",
   "execution_count": 2,
   "id": "4f749f33-8227-4fe2-b1ab-9d9bd0d95d20",
   "metadata": {},
   "outputs": [
    {
     "ename": "TypeError",
     "evalue": "int() argument must be a string, a bytes-like object or a real number, not 'complex'",
     "output_type": "error",
     "traceback": [
      "\u001b[1;31m---------------------------------------------------------------------------\u001b[0m",
      "\u001b[1;31mTypeError\u001b[0m                                 Traceback (most recent call last)",
      "Cell \u001b[1;32mIn[2], line 1\u001b[0m\n\u001b[1;32m----> 1\u001b[0m \u001b[38;5;28;43mint\u001b[39;49m\u001b[43m(\u001b[49m\u001b[38;5;241;43m10\u001b[39;49m\u001b[38;5;241;43m+\u001b[39;49m\u001b[38;5;241;43m5\u001b[39;49m\u001b[43mj\u001b[49m\u001b[43m)\u001b[49m        \u001b[38;5;66;03m#  TypeError: can't convert complex to int\u001b[39;00m\n",
      "\u001b[1;31mTypeError\u001b[0m: int() argument must be a string, a bytes-like object or a real number, not 'complex'"
     ]
    }
   ],
   "source": [
    "int(10+5j)        #  TypeError: can't convert complex to int"
   ]
  },
  {
   "cell_type": "markdown",
   "id": "94493d53-77e9-4419-ab29-6b9e7ab841f9",
   "metadata": {},
   "source": [
    "# bool -> int"
   ]
  },
  {
   "cell_type": "markdown",
   "id": "a04ab7f1-77b0-44b3-a5a2-4b399e96bca6",
   "metadata": {},
   "source": [
    "Boolean type is internally treated as int. That is, ***True=1*** & ***False=0***."
   ]
  },
  {
   "cell_type": "code",
   "execution_count": 4,
   "id": "f2da12a4-bf82-4adb-b185-9219c52f073e",
   "metadata": {},
   "outputs": [
    {
     "name": "stdout",
     "output_type": "stream",
     "text": [
      "1\n",
      "0\n"
     ]
    }
   ],
   "source": [
    "print(int(True))         # 1\n",
    "print(int(False))        # 0"
   ]
  },
  {
   "cell_type": "markdown",
   "id": "87af0147-5267-48b1-ab25-85bfd8188fad",
   "metadata": {},
   "source": [
    "# str -> int"
   ]
  },
  {
   "cell_type": "markdown",
   "id": "5bbec3ca-3463-4d52-88ef-8dedf5f06121",
   "metadata": {},
   "source": [
    "* Compulsory the str value should be an **integral value** and should be specified in **base-10 format**.\n",
    "* base-2, base-8 & base-16 form is **not allowed**."
   ]
  },
  {
   "cell_type": "code",
   "execution_count": 5,
   "id": "cd032718-ef11-4e50-8d07-abe6bb51ed6b",
   "metadata": {},
   "outputs": [
    {
     "data": {
      "text/plain": [
       "10"
      ]
     },
     "execution_count": 5,
     "metadata": {},
     "output_type": "execute_result"
    }
   ],
   "source": [
    "int(\"10\")           # 10"
   ]
  },
  {
   "cell_type": "code",
   "execution_count": 6,
   "id": "d19a61df-5caa-428d-bce7-ab2613c206eb",
   "metadata": {},
   "outputs": [
    {
     "ename": "ValueError",
     "evalue": "invalid literal for int() with base 10: '10.5'",
     "output_type": "error",
     "traceback": [
      "\u001b[1;31m---------------------------------------------------------------------------\u001b[0m",
      "\u001b[1;31mValueError\u001b[0m                                Traceback (most recent call last)",
      "Cell \u001b[1;32mIn[6], line 1\u001b[0m\n\u001b[1;32m----> 1\u001b[0m \u001b[38;5;28;43mint\u001b[39;49m\u001b[43m(\u001b[49m\u001b[38;5;124;43m\"\u001b[39;49m\u001b[38;5;124;43m10.5\u001b[39;49m\u001b[38;5;124;43m\"\u001b[39;49m\u001b[43m)\u001b[49m         \u001b[38;5;66;03m# ValueError: invalid literal for int() with base 10: '10.5'\u001b[39;00m\n",
      "\u001b[1;31mValueError\u001b[0m: invalid literal for int() with base 10: '10.5'"
     ]
    }
   ],
   "source": [
    "int(\"10.5\")         # ValueError: invalid literal for int() with base 10: '10.5'"
   ]
  },
  {
   "cell_type": "code",
   "execution_count": 7,
   "id": "bb8eca14-b995-4b74-93e6-155a55e491e2",
   "metadata": {},
   "outputs": [
    {
     "ename": "ValueError",
     "evalue": "invalid literal for int() with base 10: 'ten'",
     "output_type": "error",
     "traceback": [
      "\u001b[1;31m---------------------------------------------------------------------------\u001b[0m",
      "\u001b[1;31mValueError\u001b[0m                                Traceback (most recent call last)",
      "Cell \u001b[1;32mIn[7], line 1\u001b[0m\n\u001b[1;32m----> 1\u001b[0m \u001b[38;5;28;43mint\u001b[39;49m\u001b[43m(\u001b[49m\u001b[38;5;124;43m\"\u001b[39;49m\u001b[38;5;124;43mten\u001b[39;49m\u001b[38;5;124;43m\"\u001b[39;49m\u001b[43m)\u001b[49m          \u001b[38;5;66;03m# ValueError: invalid literal for int() with base 10: 'ten'\u001b[39;00m\n",
      "\u001b[1;31mValueError\u001b[0m: invalid literal for int() with base 10: 'ten'"
     ]
    }
   ],
   "source": [
    "int(\"ten\")          # ValueError: invalid literal for int() with base 10: 'ten'"
   ]
  },
  {
   "cell_type": "code",
   "execution_count": 8,
   "id": "9f9362a4-f3b3-42fa-bc49-4f06e83244d8",
   "metadata": {},
   "outputs": [
    {
     "ename": "ValueError",
     "evalue": "invalid literal for int() with base 10: '0B1111'",
     "output_type": "error",
     "traceback": [
      "\u001b[1;31m---------------------------------------------------------------------------\u001b[0m",
      "\u001b[1;31mValueError\u001b[0m                                Traceback (most recent call last)",
      "Cell \u001b[1;32mIn[8], line 1\u001b[0m\n\u001b[1;32m----> 1\u001b[0m \u001b[38;5;28;43mint\u001b[39;49m\u001b[43m(\u001b[49m\u001b[38;5;124;43m\"\u001b[39;49m\u001b[38;5;124;43m0B1111\u001b[39;49m\u001b[38;5;124;43m\"\u001b[39;49m\u001b[43m)\u001b[49m       \u001b[38;5;66;03m# ValueError: invalid literal for int() with base 10: '0B1111'\u001b[39;00m\n",
      "\u001b[1;31mValueError\u001b[0m: invalid literal for int() with base 10: '0B1111'"
     ]
    }
   ],
   "source": [
    "int(\"0B1111\")       # ValueError: invalid literal for int() with base 10: '0B1111'"
   ]
  },
  {
   "cell_type": "markdown",
   "id": "bfcca8fe-277a-45c9-8ae8-9086c8e99480",
   "metadata": {},
   "source": [
    "> ***NOTE***\n",
    "\n",
    "> We can convert from any type to int except complex type.\n",
    "\n",
    "> If we want to convert str type to int type, compulsary ***str should contain only integral value*** and should be specified in **base-10** only."
   ]
  },
  {
   "cell_type": "code",
   "execution_count": null,
   "id": "9a28d8de-a183-4eae-8379-543354251118",
   "metadata": {},
   "outputs": [],
   "source": []
  }
 ],
 "metadata": {
  "kernelspec": {
   "display_name": "Python 3 (ipykernel)",
   "language": "python",
   "name": "python3"
  },
  "language_info": {
   "codemirror_mode": {
    "name": "ipython",
    "version": 3
   },
   "file_extension": ".py",
   "mimetype": "text/x-python",
   "name": "python",
   "nbconvert_exporter": "python",
   "pygments_lexer": "ipython3",
   "version": "3.12.5"
  }
 },
 "nbformat": 4,
 "nbformat_minor": 5
}
