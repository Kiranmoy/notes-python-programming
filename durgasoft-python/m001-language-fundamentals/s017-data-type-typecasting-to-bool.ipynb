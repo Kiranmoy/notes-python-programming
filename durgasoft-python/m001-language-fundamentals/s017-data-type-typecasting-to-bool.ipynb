{
 "cells": [
  {
   "cell_type": "markdown",
   "id": "4e2c5149-f5fd-455a-a305-a6b12d94807f",
   "metadata": {},
   "source": [
    "We can use the ***bool( )*** function to convert values from ***other types to bool types***."
   ]
  },
  {
   "cell_type": "markdown",
   "id": "1beb52d7-20dd-4fdf-a7fd-5ae9af7a5540",
   "metadata": {},
   "source": [
    "# int → bool"
   ]
  },
  {
   "cell_type": "markdown",
   "id": "fd537a8b-a311-4366-903b-a581e39f49df",
   "metadata": {},
   "source": [
    "* 0  → **False**\n",
    "* Non-Zero → **True**"
   ]
  },
  {
   "cell_type": "code",
   "execution_count": 1,
   "id": "3a19d7a3-788e-4853-928b-6dfce137f6f8",
   "metadata": {},
   "outputs": [
    {
     "name": "stdout",
     "output_type": "stream",
     "text": [
      "False\n",
      "True\n",
      "True\n"
     ]
    }
   ],
   "source": [
    "print(bool(0))       # False\n",
    "print(bool(10))      # True\n",
    "print(bool (-10))    # True"
   ]
  },
  {
   "cell_type": "markdown",
   "id": "851f9271-ee4e-4be2-a1e1-d0e7ab2fdb81",
   "metadata": {},
   "source": [
    "# float → bool"
   ]
  },
  {
   "cell_type": "markdown",
   "id": "942d0f18-8ef5-4d4a-bb69-ff9d985950e5",
   "metadata": {},
   "source": [
    "* 0  → **False**\n",
    "* Non-Zero → **True**"
   ]
  },
  {
   "cell_type": "code",
   "execution_count": 2,
   "id": "3c283cbc-0731-4e67-85a8-4e371ac61532",
   "metadata": {},
   "outputs": [
    {
     "name": "stdout",
     "output_type": "stream",
     "text": [
      "False\n",
      "True\n",
      "True\n"
     ]
    }
   ],
   "source": [
    "print(bool(0.0))               # False\n",
    "print(bool(0.178))             # True\n",
    "print(bool (-0.000000001))     # True"
   ]
  },
  {
   "cell_type": "markdown",
   "id": "d88972dd-838a-459b-840b-9ff3e724ca60",
   "metadata": {},
   "source": [
    "# complex → bool"
   ]
  },
  {
   "cell_type": "markdown",
   "id": "d80a9911-0176-4a04-a677-c564b3c23f76",
   "metadata": {},
   "source": [
    "* 0 = 0j  → **False** (Both real & imaginary part should be 0.)\n",
    "* Non-Zero → **True**"
   ]
  },
  {
   "cell_type": "code",
   "execution_count": 3,
   "id": "c90e41b2-8887-499e-a4bf-18709b19dcc0",
   "metadata": {},
   "outputs": [
    {
     "name": "stdout",
     "output_type": "stream",
     "text": [
      "False\n",
      "True\n",
      "True\n"
     ]
    }
   ],
   "source": [
    "print(bool(0 + 0j))       # False\n",
    "print(bool(1 + 0j))       # True\n",
    "print(bool(0 + 1.5j))     # True"
   ]
  },
  {
   "cell_type": "markdown",
   "id": "4e4ab0d7-b77d-4b49-b8ca-84f3ffaabf0e",
   "metadata": {},
   "source": [
    "# str → bool"
   ]
  },
  {
   "cell_type": "markdown",
   "id": "b1dd3197-de5b-489e-ae5c-b05dd5973254",
   "metadata": {},
   "source": [
    "* Empty String  → **False** \n",
    "* Non-Zero  → **True**"
   ]
  },
  {
   "cell_type": "code",
   "execution_count": 4,
   "id": "db4806b7-1247-4562-8f7c-d2a975c10d27",
   "metadata": {},
   "outputs": [
    {
     "name": "stdout",
     "output_type": "stream",
     "text": [
      "False\n",
      "True\n",
      "True\n",
      "True\n",
      "True\n"
     ]
    }
   ],
   "source": [
    "print(bool(\"\"))            # False\n",
    "print(bool(\"True\"))        # True\n",
    "print(bool(\"False\"))       # True\n",
    "print(bool(\"Yes\"))         # True\n",
    "print(bool(\"No\"))          # True"
   ]
  },
  {
   "cell_type": "code",
   "execution_count": null,
   "id": "fb895950-46f1-432a-a4b1-42f567d9451c",
   "metadata": {},
   "outputs": [],
   "source": []
  }
 ],
 "metadata": {
  "kernelspec": {
   "display_name": "Python 3 (ipykernel)",
   "language": "python",
   "name": "python3"
  },
  "language_info": {
   "codemirror_mode": {
    "name": "ipython",
    "version": 3
   },
   "file_extension": ".py",
   "mimetype": "text/x-python",
   "name": "python",
   "nbconvert_exporter": "python",
   "pygments_lexer": "ipython3",
   "version": "3.12.5"
  }
 },
 "nbformat": 4,
 "nbformat_minor": 5
}
