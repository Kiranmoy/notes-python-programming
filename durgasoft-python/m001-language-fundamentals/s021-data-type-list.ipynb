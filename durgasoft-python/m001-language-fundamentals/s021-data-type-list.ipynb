{
 "cells": [
  {
   "cell_type": "markdown",
   "id": "00e385e4-c5fa-4895-8b71-8e681f2fb10e",
   "metadata": {},
   "source": [
    "If we want to represent a group of values as a single entity where ***insertion order is required to preserve*** and ***duplicates are allowed*** then we should go for **list** datatype."
   ]
  },
  {
   "cell_type": "markdown",
   "id": "d32c8042-2ad4-468a-93d7-71db61aed096",
   "metadata": {},
   "source": [
    "# List Properties"
   ]
  },
  {
   "cell_type": "markdown",
   "id": "2b133567-d9aa-41e6-bfc4-849149fc9062",
   "metadata": {},
   "source": [
    "* Insertion Order is preserved. \\[ Hence **Indexing & slicing concep**t is applicable \\]\n",
    "\n",
    "* Heterogeneous Objects are allowed\n",
    "\n",
    "* Duplicates are allowed\n",
    "\n",
    "* **Growable** in nature \\[ **i.e** based on our requirement we can increase or decrease the size \\]\n",
    "\n",
    "* **Mutable** in nature \\[ **i.e.** once we created a list, we can modify the existing list object \\] \n",
    "\n",
    "* Values should be enclosed within square brackets **\\[ \\]**"
   ]
  },
  {
   "cell_type": "markdown",
   "id": "f5654966-80e6-4feb-9fad-624d31220cc3",
   "metadata": {},
   "source": [
    "> **NOTE**\n",
    "\n",
    "> A list is an **ordered**, **mutable**, **heterogenous** collection of elements where **duplicates** also **allowed**."
   ]
  },
  {
   "cell_type": "code",
   "execution_count": 1,
   "id": "f8932972-1652-4b45-a7df-b82a33ed3daa",
   "metadata": {},
   "outputs": [
    {
     "name": "stdout",
     "output_type": "stream",
     "text": [
      "<class 'list'>\n",
      "[10, 10.5, 'durga', True, 10]\n"
     ]
    }
   ],
   "source": [
    "\n",
    "# Duplicates allowed\n",
    "# Insertion order preserved\n",
    "# Heterogenoues objects allowed\n",
    "l = [ 10, 10.5, 'durga', True, 10 ]\n",
    "\n",
    "print(type(l))                     # <class 'list'>\n",
    "print(l)                           # [ 10, 10.5, 'durga', True, 10]\n"
   ]
  },
  {
   "cell_type": "markdown",
   "id": "7cbe7d35-1325-4a4f-98c9-bcc60e3a86aa",
   "metadata": {},
   "source": [
    "# List indexing: positive & negative indexing"
   ]
  },
  {
   "attachments": {
    "bcfa4606-6c24-4355-a8a3-9ab8b13b5984.png": {
     "image/png": "[encoded data removed]"
    }
   },
   "cell_type": "markdown",
   "id": "adc8d759-1097-467d-9db7-95bdcc910dcf",
   "metadata": {},
   "source": [
    "![image.png](attachment:bcfa4606-6c24-4355-a8a3-9ab8b13b5984.png)"
   ]
  },
  {
   "cell_type": "code",
   "execution_count": 2,
   "id": "b837d89d-e219-4584-8911-e0630ba39ced",
   "metadata": {},
   "outputs": [
    {
     "name": "stdout",
     "output_type": "stream",
     "text": [
      "10\n",
      "True\n"
     ]
    }
   ],
   "source": [
    "l = [ 10, 10.5, 'durga', True, 10 ]\n",
    "print(l[0])      # 10\n",
    "print(l[-2])     # True"
   ]
  },
  {
   "cell_type": "markdown",
   "id": "79d036ff-744c-4279-834e-76184e7a2d58",
   "metadata": {},
   "source": [
    "# Slicing using slice operator ( : )"
   ]
  },
  {
   "cell_type": "code",
   "execution_count": 3,
   "id": "cf6c1abe-622e-417e-b82e-fb4a1e42029f",
   "metadata": {},
   "outputs": [
    {
     "name": "stdout",
     "output_type": "stream",
     "text": [
      "[10.5, 'durga']\n"
     ]
    }
   ],
   "source": [
    "l = [ 10, 10.5, 'durga', True, 10 ]\n",
    "print(l[1:3])    # [ 10.5, 'durga' ]"
   ]
  },
  {
   "cell_type": "markdown",
   "id": "3678e241-2c48-4488-a07d-03a887cb7884",
   "metadata": {},
   "source": [
    "# Growablity & Mutability"
   ]
  },
  {
   "cell_type": "code",
   "execution_count": 4,
   "id": "c65e749f-b762-489c-9750-d5aadf8d1ea3",
   "metadata": {},
   "outputs": [
    {
     "name": "stdout",
     "output_type": "stream",
     "text": [
      "<class 'list'>\n",
      "1487387953664\n",
      "[]\n",
      "1487387953664\n",
      "[10, 20, 30, 40]\n",
      "1487387953664\n",
      "[10, 20, 30]\n"
     ]
    }
   ],
   "source": [
    "\n",
    "l = []             # CREATE EMPTY LIST\n",
    "\n",
    "print(type(l))     # <class 'list'>\n",
    "print(id(l))       # 2984325345346\n",
    "print(l)           # [ ]\n",
    "\n",
    "l.append(10)       # Object Modified\n",
    "l.append(20)       # Object Modified\n",
    "l.append(30)       # Object Modified\n",
    "l.append(40)       # Object Modified\n",
    "\n",
    "print(id(l))       # 2984325345346  (Mutability confirmed)\n",
    "print(l)           # [ 10, 20, 30, 40 ]\n",
    "\n",
    "l.remove(40)       # Object Modified\n",
    "\n",
    "print(id(l))       # 2984325345346  (Mutability confirmed)\n",
    "print(l)           # [ 10, 20, 30 ]\n"
   ]
  },
  {
   "cell_type": "markdown",
   "id": "0f1136a5-e8ab-4e3a-9ad0-28e84bec6f7f",
   "metadata": {},
   "source": [
    "# Iterating list object"
   ]
  },
  {
   "cell_type": "code",
   "execution_count": 5,
   "id": "0159f248-8847-4825-a826-750bbb24fb42",
   "metadata": {},
   "outputs": [
    {
     "name": "stdout",
     "output_type": "stream",
     "text": [
      "10\n",
      "10.5\n",
      "durga\n",
      "True\n",
      "10\n"
     ]
    }
   ],
   "source": [
    "l = [ 10, 10.5, 'durga', True, 10 ]\n",
    "for i in l:\n",
    "  print(i)"
   ]
  },
  {
   "cell_type": "code",
   "execution_count": null,
   "id": "f54f29d6-c38b-492f-803e-dba48ad25d18",
   "metadata": {},
   "outputs": [],
   "source": []
  }
 ],
 "metadata": {
  "kernelspec": {
   "display_name": "Python 3 (ipykernel)",
   "language": "python",
   "name": "python3"
  },
  "language_info": {
   "codemirror_mode": {
    "name": "ipython",
    "version": 3
   },
   "file_extension": ".py",
   "mimetype": "text/x-python",
   "name": "python",
   "nbconvert_exporter": "python",
   "pygments_lexer": "ipython3",
   "version": "3.12.5"
  }
 },
 "nbformat": 4,
 "nbformat_minor": 5
}
