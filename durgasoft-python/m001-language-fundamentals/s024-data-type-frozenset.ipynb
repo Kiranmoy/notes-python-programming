{
 "cells": [
  {
   "cell_type": "markdown",
   "id": "b67188e5-4dc4-463f-9b3b-c80b1fd6e80e",
   "metadata": {},
   "source": [
    "# Frozenset Overview"
   ]
  },
  {
   "cell_type": "markdown",
   "id": "cdc3f963-8092-4284-b43f-01cc578bf224",
   "metadata": {},
   "source": [
    "It is exactly the same as a set except that it is **immutable**.\n",
    "\n",
    "Hence we cannot use **add** or **remove** functions."
   ]
  },
  {
   "cell_type": "code",
   "execution_count": 1,
   "id": "9e39e44c-deb1-47ac-9498-c4cf1daaa4aa",
   "metadata": {},
   "outputs": [
    {
     "name": "stdout",
     "output_type": "stream",
     "text": [
      "<class 'frozenset'>\n",
      "frozenset({True, 10, 10.5, 'durga'})\n"
     ]
    }
   ],
   "source": [
    "# Duplicates are not allowed\n",
    "# Insertion order not preserved\n",
    "# Heterogenoues objects allowed\n",
    "\n",
    "s = { 10, 10.5, 'durga', True, 10 }\n",
    "\n",
    "fs = frozenset(s)\n",
    "print(type(fs))                     # <class 'frozenset'>\n",
    "print(fs)                           # { True, 10.5, 10,'durga' }"
   ]
  },
  {
   "cell_type": "markdown",
   "id": "85e3ab9d-13a9-43a9-ba97-b5a9515b1e49",
   "metadata": {},
   "source": [
    "***Since insertion order is not preserved.***\n",
    "\n",
    "***Indexing & Slicing is not applicable.***\n"
   ]
  },
  {
   "cell_type": "code",
   "execution_count": 2,
   "id": "c01c4bd6-471a-4162-ab58-60de06e950b6",
   "metadata": {},
   "outputs": [
    {
     "ename": "TypeError",
     "evalue": "'frozenset' object is not subscriptable",
     "output_type": "error",
     "traceback": [
      "\u001b[1;31m---------------------------------------------------------------------------\u001b[0m",
      "\u001b[1;31mTypeError\u001b[0m                                 Traceback (most recent call last)",
      "Cell \u001b[1;32mIn[2], line 1\u001b[0m\n\u001b[1;32m----> 1\u001b[0m \u001b[38;5;28mprint\u001b[39m(\u001b[43mfs\u001b[49m\u001b[43m[\u001b[49m\u001b[38;5;241;43m0\u001b[39;49m\u001b[43m]\u001b[49m)       \u001b[38;5;66;03m# TypeError: 'frozenset' object does not support indexing\u001b[39;00m\n",
      "\u001b[1;31mTypeError\u001b[0m: 'frozenset' object is not subscriptable"
     ]
    }
   ],
   "source": [
    "print(fs[0])       # TypeError: 'frozenset' object does not support indexing"
   ]
  },
  {
   "cell_type": "code",
   "execution_count": 3,
   "id": "6ca6cec1-a241-4d3c-ac49-308213848385",
   "metadata": {},
   "outputs": [
    {
     "ename": "TypeError",
     "evalue": "'frozenset' object is not subscriptable",
     "output_type": "error",
     "traceback": [
      "\u001b[1;31m---------------------------------------------------------------------------\u001b[0m",
      "\u001b[1;31mTypeError\u001b[0m                                 Traceback (most recent call last)",
      "Cell \u001b[1;32mIn[3], line 1\u001b[0m\n\u001b[1;32m----> 1\u001b[0m \u001b[38;5;28mprint\u001b[39m(\u001b[43mfs\u001b[49m\u001b[43m[\u001b[49m\u001b[43m \u001b[49m\u001b[38;5;241;43m1\u001b[39;49m\u001b[43m:\u001b[49m\u001b[38;5;241;43m3\u001b[39;49m\u001b[43m \u001b[49m\u001b[43m]\u001b[49m)   \u001b[38;5;66;03m# TypeError: 'frozenset' object is not subscriptable\u001b[39;00m\n",
      "\u001b[1;31mTypeError\u001b[0m: 'frozenset' object is not subscriptable"
     ]
    }
   ],
   "source": [
    "print(fs[ 1:3 ])   # TypeError: 'frozenset' object is not subscriptable"
   ]
  },
  {
   "cell_type": "markdown",
   "id": "3e8c4826-fb09-4c7b-8cd8-49d801b53a52",
   "metadata": {},
   "source": [
    "***We cannot use add or remove functions for frozenset***"
   ]
  },
  {
   "cell_type": "code",
   "execution_count": 4,
   "id": "d1468025-f77f-4fcb-be67-c1afc43a6450",
   "metadata": {},
   "outputs": [
    {
     "ename": "AttributeError",
     "evalue": "'frozenset' object has no attribute 'add'",
     "output_type": "error",
     "traceback": [
      "\u001b[1;31m---------------------------------------------------------------------------\u001b[0m",
      "\u001b[1;31mAttributeError\u001b[0m                            Traceback (most recent call last)",
      "Cell \u001b[1;32mIn[4], line 1\u001b[0m\n\u001b[1;32m----> 1\u001b[0m \u001b[43mfs\u001b[49m\u001b[38;5;241;43m.\u001b[39;49m\u001b[43madd\u001b[49m(\u001b[38;5;241m99\u001b[39m)        \u001b[38;5;66;03m# AttributeError: 'frozenset' object has no attribute 'add'\u001b[39;00m\n",
      "\u001b[1;31mAttributeError\u001b[0m: 'frozenset' object has no attribute 'add'"
     ]
    }
   ],
   "source": [
    "fs.add(99)        # AttributeError: 'frozenset' object has no attribute 'add'"
   ]
  },
  {
   "cell_type": "code",
   "execution_count": 5,
   "id": "e23e2de9-9210-4953-9f4f-c91311910568",
   "metadata": {},
   "outputs": [
    {
     "ename": "AttributeError",
     "evalue": "'frozenset' object has no attribute 'remove'",
     "output_type": "error",
     "traceback": [
      "\u001b[1;31m---------------------------------------------------------------------------\u001b[0m",
      "\u001b[1;31mAttributeError\u001b[0m                            Traceback (most recent call last)",
      "Cell \u001b[1;32mIn[5], line 1\u001b[0m\n\u001b[1;32m----> 1\u001b[0m \u001b[43mfs\u001b[49m\u001b[38;5;241;43m.\u001b[39;49m\u001b[43mremove\u001b[49m(\u001b[38;5;241m10\u001b[39m)     \u001b[38;5;66;03m# AttributeError: 'frozenset' object has no attribute 'remove'\u001b[39;00m\n",
      "\u001b[1;31mAttributeError\u001b[0m: 'frozenset' object has no attribute 'remove'"
     ]
    }
   ],
   "source": [
    "fs.remove(10)     # AttributeError: 'frozenset' object has no attribute 'remove'"
   ]
  },
  {
   "cell_type": "markdown",
   "id": "4073cd72-f754-4274-9681-52b39ae285eb",
   "metadata": {},
   "source": [
    "# Iterating frozenset object"
   ]
  },
  {
   "cell_type": "code",
   "execution_count": 6,
   "id": "64470148-5bfe-4add-abde-3c8d27f1a1e0",
   "metadata": {},
   "outputs": [
    {
     "name": "stdout",
     "output_type": "stream",
     "text": [
      "True\n",
      "10\n",
      "10.5\n",
      "durga\n"
     ]
    }
   ],
   "source": [
    "\n",
    "s = { 10, 10.5, 'durga', True, 10 }\n",
    "fs = frozenset(s)\n",
    "\n",
    "for i in fs:\n",
    "  print(i)\n"
   ]
  },
  {
   "cell_type": "markdown",
   "id": "28a20a09-5b10-4afb-8af9-678d600acfaa",
   "metadata": {},
   "source": [
    "# Tuple vs frozenset"
   ]
  },
  {
   "attachments": {
    "6603f3a3-2cd9-46ca-b7fc-4b884b1fc6b9.png": {
     "image/png": "[encoded data removed]"
    }
   },
   "cell_type": "markdown",
   "id": "594c3af3-ca0d-40e5-bcb0-f353f4d2bc76",
   "metadata": {},
   "source": [
    "![image.png](attachment:6603f3a3-2cd9-46ca-b7fc-4b884b1fc6b9.png)"
   ]
  },
  {
   "cell_type": "code",
   "execution_count": null,
   "id": "7f71946e-9ca5-48f6-bbeb-89fc424a78f1",
   "metadata": {},
   "outputs": [],
   "source": []
  }
 ],
 "metadata": {
  "kernelspec": {
   "display_name": "Python 3 (ipykernel)",
   "language": "python",
   "name": "python3"
  },
  "language_info": {
   "codemirror_mode": {
    "name": "ipython",
    "version": 3
   },
   "file_extension": ".py",
   "mimetype": "text/x-python",
   "name": "python",
   "nbconvert_exporter": "python",
   "pygments_lexer": "ipython3",
   "version": "3.12.5"
  }
 },
 "nbformat": 4,
 "nbformat_minor": 5
}
