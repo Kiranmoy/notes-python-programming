{
 "cells": [
  {
   "cell_type": "markdown",
   "id": "bdca00c1-caac-411d-a7b9-a93a082ac9c3",
   "metadata": {},
   "source": [
    "# Arithmetic Operators"
   ]
  },
  {
   "attachments": {
    "cc37edea-77da-43cc-a8ae-86dcc894cc84.png": {
     "image/png": "[encoded data removed]"
    }
   },
   "cell_type": "markdown",
   "id": "1fc7c87d-9140-4122-a262-1e0dd1ef3508",
   "metadata": {},
   "source": [
    "![image.png](attachment:cc37edea-77da-43cc-a8ae-86dcc894cc84.png)"
   ]
  },
  {
   "cell_type": "markdown",
   "id": "32e5421c-5b12-43fa-b395-9b2fb7af7490",
   "metadata": {},
   "source": [
    "**Example:**"
   ]
  },
  {
   "cell_type": "code",
   "execution_count": 1,
   "id": "d86fbe9c-1a38-4dc8-a725-80dc8cc3cee0",
   "metadata": {},
   "outputs": [
    {
     "name": "stdout",
     "output_type": "stream",
     "text": [
      "13\n",
      "7\n",
      "30\n",
      "1\n",
      "3.3333333333333335\n",
      "1000\n"
     ]
    }
   ],
   "source": [
    "a = 10\n",
    "b = 3\n",
    "print(a+b)        # 13\n",
    "print(a-b)        # 7\n",
    "print(a*b)        # 30\n",
    "print(a%b)        # 1\n",
    "print(10/3)        # 3.333333335\n",
    "print(a**b)       # 1000"
   ]
  },
  {
   "cell_type": "markdown",
   "id": "adb321ab-b804-41c3-892a-0703187ad16e",
   "metadata": {},
   "source": [
    "# Floor division operator"
   ]
  },
  {
   "cell_type": "markdown",
   "id": "0a60b534-7fc7-4b6e-b27d-3ebc11c6277e",
   "metadata": {},
   "source": [
    "**CEILING VALUE**     - 11\n",
    "\n",
    "**ACTUAL VALUE**      - 10.1\n",
    "\n",
    "**FLOOR VALUE**       - 10"
   ]
  },
  {
   "cell_type": "markdown",
   "id": "bfa46399-3528-46d2-8337-4ae4f77769f8",
   "metadata": {},
   "source": [
    "**Floor division (//)** operator can perform both **floating point** and **integral arithmetic**. \n",
    "* If arguments are int type then result is int type. \n",
    "* If atleast one argument is float type thenresult is float type\n",
    "\n",
    "***Note that floor divison always return integral value.***"
   ]
  },
  {
   "cell_type": "code",
   "execution_count": 3,
   "id": "de22ecf1-c5ff-4e4d-8c4b-97ba5478b31f",
   "metadata": {},
   "outputs": [
    {
     "name": "stdout",
     "output_type": "stream",
     "text": [
      "5\n",
      "5.0\n",
      "5.0\n",
      "3.3333333333333335\n",
      "3.3333333333333335\n",
      "3\n",
      "3.3333333333333335\n",
      "10.0\n",
      "15\n",
      "15.0\n"
     ]
    }
   ],
   "source": [
    "\n",
    "print(10//2)     # 5\n",
    "\n",
    "print(10.0//2)   # 5.0\n",
    "print(10//2.0)   # 5.0\n",
    "\n",
    "# Floating point divison operator\n",
    "print(10/3)        # 3.333333335\n",
    "print(10.0/3)      # 3.333333335\n",
    "\n",
    "# Floor divison operator\n",
    "print(10//3)       # 3\n",
    "print(10.0/3)      # 3.0\n",
    "print(20.5//2)     # 10.0\n",
    "print(30//2)       # 15\n",
    "print(30.0//2)     # 15.0\n"
   ]
  },
  {
   "cell_type": "markdown",
   "id": "58ebe7eb-ef70-46fd-a19b-2bd15dc9ed9f",
   "metadata": {},
   "source": [
    "# String concatenation operator"
   ]
  },
  {
   "cell_type": "markdown",
   "id": "5c0d393d-5ea1-4cbb-a96c-ebad7dab0db1",
   "metadata": {},
   "source": [
    "We can use the **+ operator** for the str type also, which is known as the **String concatenation operator**.\n",
    "\n",
    "***If we want to use + operator for str type then compulsory both arguments should be str type only otherwise we will get error.***"
   ]
  },
  {
   "cell_type": "code",
   "execution_count": 5,
   "id": "20be9728-bb57-4b04-b560-25e13249df8b",
   "metadata": {},
   "outputs": [
    {
     "name": "stdout",
     "output_type": "stream",
     "text": [
      "HelloWorld\n",
      "Hello10\n",
      "Hello10\n",
      "Hello\n",
      "\n"
     ]
    }
   ],
   "source": [
    "\n",
    "print(\"Hello\" + \"World\")      # HelloWorld\n",
    "\n",
    "print(\"Hello\" + '10')         # Hello10\n",
    "print(\"Hello\" + str(10))      # Hello10\n",
    "\n",
    "# Boolean values are internally treated as int ( True = 1 and False = 0)\n",
    "print(\"Hello\" * True)     # Hello\n",
    "print(\"Hello\" * False)    # '' empty_string\n"
   ]
  },
  {
   "cell_type": "code",
   "execution_count": 6,
   "id": "8f0e615f-d8d3-4335-9ee1-96f6e2b0217c",
   "metadata": {},
   "outputs": [
    {
     "ename": "TypeError",
     "evalue": "can only concatenate str (not \"int\") to str",
     "output_type": "error",
     "traceback": [
      "\u001b[1;31m---------------------------------------------------------------------------\u001b[0m",
      "\u001b[1;31mTypeError\u001b[0m                                 Traceback (most recent call last)",
      "Cell \u001b[1;32mIn[6], line 1\u001b[0m\n\u001b[1;32m----> 1\u001b[0m \u001b[38;5;28mprint\u001b[39m(\u001b[38;5;124;43m\"\u001b[39;49m\u001b[38;5;124;43mHello\u001b[39;49m\u001b[38;5;124;43m\"\u001b[39;49m\u001b[43m \u001b[49m\u001b[38;5;241;43m+\u001b[39;49m\u001b[43m \u001b[49m\u001b[38;5;241;43m10\u001b[39;49m)           \u001b[38;5;66;03m# TypeError: must be str, not int\u001b[39;00m\n",
      "\u001b[1;31mTypeError\u001b[0m: can only concatenate str (not \"int\") to str"
     ]
    }
   ],
   "source": [
    "print(\"Hello\" + 10)           # TypeError: must be str, not int"
   ]
  },
  {
   "cell_type": "markdown",
   "id": "d9d301d5-64f2-40ca-b16f-941035260bef",
   "metadata": {},
   "source": [
    "# String repetition operator"
   ]
  },
  {
   "cell_type": "markdown",
   "id": "29811223-ef44-4b86-babf-a87f09263f2b",
   "metadata": {},
   "source": [
    "We can use the **\\* operator** for the str type also, which is known as the **String repetition operator**.\n",
    "\n",
    "***If we use * operator for str type then compulsory one argument should be int and\n",
    "other argument should be str type.***"
   ]
  },
  {
   "cell_type": "code",
   "execution_count": 9,
   "id": "7525249c-2e9a-48ae-b332-92f72b9eb25a",
   "metadata": {},
   "outputs": [
    {
     "name": "stdout",
     "output_type": "stream",
     "text": [
      "HelloHello\n",
      "hellohello\n"
     ]
    }
   ],
   "source": [
    "\n",
    "print(2 * \"Hello\")          # HelloHello\n",
    "print(\"hello\" * 2)          # HelloHello"
   ]
  },
  {
   "cell_type": "code",
   "execution_count": 10,
   "id": "0d977b16-eba1-4508-b019-35f3a851b540",
   "metadata": {},
   "outputs": [
    {
     "ename": "TypeError",
     "evalue": "can't multiply sequence by non-int of type 'float'",
     "output_type": "error",
     "traceback": [
      "\u001b[1;31m---------------------------------------------------------------------------\u001b[0m",
      "\u001b[1;31mTypeError\u001b[0m                                 Traceback (most recent call last)",
      "Cell \u001b[1;32mIn[10], line 1\u001b[0m\n\u001b[1;32m----> 1\u001b[0m \u001b[38;5;28mprint\u001b[39m(\u001b[38;5;241;43m2.5\u001b[39;49m\u001b[43m \u001b[49m\u001b[38;5;241;43m*\u001b[39;49m\u001b[43m \u001b[49m\u001b[38;5;124;43m\"\u001b[39;49m\u001b[38;5;124;43mHello\u001b[39;49m\u001b[38;5;124;43m\"\u001b[39;49m)        \u001b[38;5;66;03m# TypeError: can't multiply sequence by non-int of type 'float'\u001b[39;00m\n",
      "\u001b[1;31mTypeError\u001b[0m: can't multiply sequence by non-int of type 'float'"
     ]
    }
   ],
   "source": [
    "print(2.5 * \"Hello\")        # TypeError: can't multiply sequence by non-int of type 'float'"
   ]
  },
  {
   "cell_type": "code",
   "execution_count": 11,
   "id": "e272a1af-299c-4f30-9970-22b278f36559",
   "metadata": {},
   "outputs": [
    {
     "ename": "SyntaxError",
     "evalue": "unterminated string literal (detected at line 1) (702533185.py, line 1)",
     "output_type": "error",
     "traceback": [
      "\u001b[1;36m  Cell \u001b[1;32mIn[11], line 1\u001b[1;36m\u001b[0m\n\u001b[1;33m    print(\"Hello\" * \"World\"\")   # TypeError: can't multiply sequence by non-int of type 'str'\u001b[0m\n\u001b[1;37m                           ^\u001b[0m\n\u001b[1;31mSyntaxError\u001b[0m\u001b[1;31m:\u001b[0m unterminated string literal (detected at line 1)\n"
     ]
    }
   ],
   "source": [
    "print(\"Hello\" * \"World\"\")   # TypeError: can't multiply sequence by non-int of type 'str'"
   ]
  },
  {
   "cell_type": "code",
   "execution_count": 12,
   "id": "87dbda38-cfe2-4e78-86c5-44b652cf2143",
   "metadata": {},
   "outputs": [
    {
     "ename": "TypeError",
     "evalue": "can't multiply sequence by non-int of type 'str'",
     "output_type": "error",
     "traceback": [
      "\u001b[1;31m---------------------------------------------------------------------------\u001b[0m",
      "\u001b[1;31mTypeError\u001b[0m                                 Traceback (most recent call last)",
      "Cell \u001b[1;32mIn[12], line 1\u001b[0m\n\u001b[1;32m----> 1\u001b[0m \u001b[38;5;28mprint\u001b[39m(\u001b[38;5;124;43m\"\u001b[39;49m\u001b[38;5;124;43mHello\u001b[39;49m\u001b[38;5;124;43m\"\u001b[39;49m\u001b[43m \u001b[49m\u001b[38;5;241;43m*\u001b[39;49m\u001b[43m \u001b[49m\u001b[38;5;124;43m\"\u001b[39;49m\u001b[38;5;124;43m3\u001b[39;49m\u001b[38;5;124;43m\"\u001b[39;49m )       \u001b[38;5;66;03m# TypeError: can't multiply sequence by non-int of type 'str'\u001b[39;00m\n",
      "\u001b[1;31mTypeError\u001b[0m: can't multiply sequence by non-int of type 'str'"
     ]
    }
   ],
   "source": [
    "print(\"Hello\" * \"3\" )       # TypeError: can't multiply sequence by non-int of type 'str'"
   ]
  },
  {
   "cell_type": "markdown",
   "id": "5eb238c2-fb3a-4587-a41d-5431ca45db02",
   "metadata": {},
   "source": [
    "# Zero division error"
   ]
  },
  {
   "cell_type": "markdown",
   "id": "f98ae591-816e-48fe-88a2-514f8ed6895a",
   "metadata": {},
   "source": [
    "For any number x,\n",
    "\n",
    "* x/0 \n",
    "* x%0 \n",
    "* x//0\n",
    "\n",
    "always raises **\"ZeroDivisionError\"**"
   ]
  },
  {
   "cell_type": "markdown",
   "id": "7a5340ff-d74b-478b-8912-5f209245ce7d",
   "metadata": {},
   "source": [
    "```\n",
    "\n",
    "print(10 / 0)         # ZeroDivisionError: division by zero\n",
    "print(10.0 / 0)       # ZeroDivisionError: division by zero\n",
    "print(10 // 0)        # ZeroDivisionError: division by zero\n",
    "print(10.0 // 0)      # ZeroDivisionError: division by zero\n",
    "print(10 % 0)         # ZeroDivisionError: division by zero\n",
    "\n",
    "```"
   ]
  },
  {
   "cell_type": "code",
   "execution_count": null,
   "id": "18fa710a-e0b6-4868-abd8-1b966e11859f",
   "metadata": {},
   "outputs": [],
   "source": []
  }
 ],
 "metadata": {
  "kernelspec": {
   "display_name": "Python 3 (ipykernel)",
   "language": "python",
   "name": "python3"
  },
  "language_info": {
   "codemirror_mode": {
    "name": "ipython",
    "version": 3
   },
   "file_extension": ".py",
   "mimetype": "text/x-python",
   "name": "python",
   "nbconvert_exporter": "python",
   "pygments_lexer": "ipython3",
   "version": "3.12.5"
  }
 },
 "nbformat": 4,
 "nbformat_minor": 5
}
