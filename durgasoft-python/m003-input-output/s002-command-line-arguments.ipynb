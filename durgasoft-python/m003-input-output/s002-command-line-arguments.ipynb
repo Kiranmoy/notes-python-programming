{
 "cells": [
  {
   "cell_type": "markdown",
   "id": "25297e8e-09dd-40f4-aba6-12eb64b13608",
   "metadata": {},
   "source": [
    "# Command line arguments"
   ]
  },
  {
   "cell_type": "markdown",
   "id": "2145df0b-0a89-4d37-b9a8-84806ad8601a",
   "metadata": {},
   "source": [
    "* The arguments that we pass at the time of execution are called **Command Line Arguments**. \n",
    "* Within the python program, these command-Line arguments are available in `argv` - which is present in the `sys` module. \n",
    "* `argv` is not an array, it is a List. \n",
    "* It is available `sys` module."
   ]
  },
  {
   "cell_type": "markdown",
   "id": "10c35fda-89c0-47a2-bb2a-94100e8b8423",
   "metadata": {},
   "source": [
    "**Example**"
   ]
  },
  {
   "attachments": {
    "4031ad4b-71fd-43b7-ad02-4aa3842b2c43.png": {
     "image/png": "[encoded data removed]"
    },
    "e90fbcc0-29c3-4d23-8ee8-de9d314b89ed.png": {
     "image/png": "[encoded data removed]"
    }
   },
   "cell_type": "markdown",
   "id": "7937e1be-f3f3-464f-82d1-db0a1ac9ef82",
   "metadata": {},
   "source": [
    "![image.png](attachment:e90fbcc0-29c3-4d23-8ee8-de9d314b89ed.png)![image.png](attachment:4031ad4b-71fd-43b7-ad02-4aa3842b2c43.png)"
   ]
  },
  {
   "attachments": {
    "fee60bc4-b926-4584-a725-6ee9ee32f851.png": {
     "image/png": "[encoded data removed]"
    }
   },
   "cell_type": "markdown",
   "id": "8f57bddf-62e8-4ea2-bcff-1e2c8d15cd2b",
   "metadata": {},
   "source": [
    "![image.png](attachment:fee60bc4-b926-4584-a725-6ee9ee32f851.png)"
   ]
  },
  {
   "cell_type": "markdown",
   "id": "d1180120-029c-4457-96a4-09498fa528d1",
   "metadata": {},
   "source": [
    "* `argv[0]` represents the name of the program.  But not the first command line argument. \n",
    "* `argv[1]` represents the first command line argument. Here, `argv[1] = 10`\n",
    "* `argv[2]` represents the first command line argument. Here, `argv[2] = 20`\n",
    "* `argv[3]` represents the first command line argument. Here, `argv[3] = 30`"
   ]
  },
  {
   "cell_type": "markdown",
   "id": "0bdb9956-9fb0-4dad-85bb-4add4532050e",
   "metadata": {},
   "source": [
    "```\n",
    "\n",
    "# Program to check type of argv from sys\n",
    "\n",
    "from sys import argv\n",
    "print(type(argv))       # <class 'list'>\n",
    "\n",
    "```"
   ]
  },
  {
   "cell_type": "markdown",
   "id": "38e90ea7-6b66-48e7-8c14-88483c9909c3",
   "metadata": {},
   "source": [
    "**Program to display Command Line Arguments**"
   ]
  },
  {
   "cell_type": "markdown",
   "id": "75d757a0-0275-4721-b7ba-4d6a5f730c5a",
   "metadata": {},
   "source": [
    "```\n",
    "\n",
    "from sys import argv\n",
    "print(“The Number of Command Line Arguments:”, len(argv))\n",
    "print(“The List of Command Line Arguments:”, argv)\n",
    "print(“Command Line Arguments one by one:”)\n",
    "for x in argv:\n",
    "  print(x)\n",
    "\n",
    "# OUTPUT\n",
    "\n",
    "# D:\\Python_classes>py test.py 10 20 30\n",
    "# The Number of Command Line Arguments: 4\n",
    "# The List of Command Line Arguments: [‘test.py’, ‘10’,’20’,’30’]\n",
    "Command Line Arguments one by one:\n",
    "test.py\n",
    "10\n",
    "20\n",
    "30 \n",
    "\n",
    "\n",
    "```"
   ]
  },
  {
   "cell_type": "markdown",
   "id": "e20a32e6-81bb-4897-9e4b-ac1a4787c045",
   "metadata": {},
   "source": [
    "**Note 1:**\n",
    "* Usually, space is a separator between command line arguments. \n",
    "* If our command line argument itself contains space then we should enclose within double quotes (but not single quotes)"
   ]
  },
  {
   "cell_type": "markdown",
   "id": "52bdaceb-c40a-423d-a573-1b8ed5337c36",
   "metadata": {},
   "source": [
    "```\n",
    "\n",
    "from sys import argv\n",
    "print(argv[1])\n",
    "\n",
    "# OUTPUT\n",
    "# D:\\Python_classes>py test.py Sunny Leone\n",
    "# Sunny\n",
    "\n",
    "# OUTPUT\n",
    "# D:\\Python_classes>py test.py 'Sunny Leone'\n",
    "# 'Sunny\n",
    "\n",
    "# OUTPUT\n",
    "# D:\\Python_classes>py test.py \"Sunny Leone\"\n",
    "# Sunny Leone\n",
    "\n",
    "\n",
    "```"
   ]
  },
  {
   "cell_type": "markdown",
   "id": "bcf3cb7a-e225-4674-b5e8-043034af2f6e",
   "metadata": {},
   "source": [
    "**Note 2:**\n",
    "* Within the Python program command line arguments are available in the String form. \n",
    "* Based on our requirement, we can convert it into the corresponding type by using type-casting methods."
   ]
  },
  {
   "cell_type": "markdown",
   "id": "58e9f447-b839-439c-92a4-303418a6ad4e",
   "metadata": {},
   "source": [
    "```\n",
    "\n",
    "from sys import argv\n",
    "print(argv[1]+argv[2])\n",
    "print(int(argv[1])+int(argv[2]))\n",
    "\n",
    "# OUTPUT\n",
    "# D:\\Python_classes>py test.py 10 20\n",
    "# 1020\n",
    "# 30\n",
    "\n",
    "```"
   ]
  },
  {
   "cell_type": "markdown",
   "id": "e1785664-20d0-451e-9c53-c127825a3df8",
   "metadata": {},
   "source": [
    "**Note 3:**\n",
    "* If we are trying to access command line arguments with out of range index then we will get an Error. "
   ]
  },
  {
   "cell_type": "markdown",
   "id": "2064a888-429e-4aa4-a34d-ab28a0ea88bf",
   "metadata": {},
   "source": [
    "```\n",
    "\n",
    "from sys import argv\n",
    "print(argv[100])\n",
    "\n",
    "# OUTPUT\n",
    "# D:\\Python_classes>py test.py 10 20\n",
    "# IndexError: list index out of range\n",
    "\n",
    "```"
   ]
  },
  {
   "cell_type": "code",
   "execution_count": null,
   "id": "db777486-5da3-41b2-a0c8-8cf5b9e594a5",
   "metadata": {},
   "outputs": [],
   "source": []
  }
 ],
 "metadata": {
  "kernelspec": {
   "display_name": "Python 3 (ipykernel)",
   "language": "python",
   "name": "python3"
  },
  "language_info": {
   "codemirror_mode": {
    "name": "ipython",
    "version": 3
   },
   "file_extension": ".py",
   "mimetype": "text/x-python",
   "name": "python",
   "nbconvert_exporter": "python",
   "pygments_lexer": "ipython3",
   "version": "3.12.5"
  }
 },
 "nbformat": 4,
 "nbformat_minor": 5
}
