{
 "cells": [
  {
   "cell_type": "markdown",
   "id": "78b212c0-256b-4e25-b2f4-c0607be47594",
   "metadata": {},
   "source": [
    "# What is String?"
   ]
  },
  {
   "cell_type": "markdown",
   "id": "bd70f115-5c73-4b2e-bb1a-0ab1aaab4996",
   "metadata": {},
   "source": [
    "Any **sequence of characters** within either single quotes or double quotes is considered a **String**. "
   ]
  },
  {
   "cell_type": "markdown",
   "id": "94c85aae-8a6a-49d0-8114-215521fd1ba2",
   "metadata": {},
   "source": [
    "**Example**:\n",
    "```\n",
    "s = 'durga'\n",
    "s = \"durga\"\n",
    "```\n",
    "\n",
    "> **Note** that in most of other languges like C, C++, Java, a single character within single quotes is treated as a **char** data type value.\n",
    ">\n",
    "> But in Python, we are not having a **char** data type. Hence it is treated as **String** only."
   ]
  },
  {
   "cell_type": "code",
   "execution_count": 3,
   "id": "9aee0b87-7f3c-4f0f-be83-52b2f6fce708",
   "metadata": {},
   "outputs": [
    {
     "name": "stdout",
     "output_type": "stream",
     "text": [
      "<class 'str'>\n"
     ]
    }
   ],
   "source": [
    "ch = 'a'\n",
    "print(type(ch))     # <class 'str'>"
   ]
  },
  {
   "cell_type": "markdown",
   "id": "8b48d135-ff61-4399-8f29-0a19c699edae",
   "metadata": {},
   "source": [
    "# How to define multi-line String Literals? "
   ]
  },
  {
   "cell_type": "markdown",
   "id": "66801378-37a4-4f01-80c1-702d30eae4fc",
   "metadata": {},
   "source": [
    "We can define multi-line String literals by using triple single or double quotes. "
   ]
  },
  {
   "cell_type": "code",
   "execution_count": 4,
   "id": "0ff85f8a-6d3b-46fc-8dc2-f0ca7a6199a5",
   "metadata": {},
   "outputs": [
    {
     "name": "stdout",
     "output_type": "stream",
     "text": [
      "durga\n",
      "software\n",
      "solutions\n"
     ]
    }
   ],
   "source": [
    "s = '''durga\n",
    "software\n",
    "solutions'''\n",
    "print(s)"
   ]
  },
  {
   "cell_type": "markdown",
   "id": "0272430f-f3b7-4001-8d53-f7b3ddb98215",
   "metadata": {},
   "source": [
    "> ***NOTE: We can also use triple quotes to use single quotes or double quotes as symbols inside String literal.***"
   ]
  },
  {
   "cell_type": "code",
   "execution_count": 6,
   "id": "d64e638a-65b6-420b-b047-4ee4ae894183",
   "metadata": {},
   "outputs": [
    {
     "name": "stdout",
     "output_type": "stream",
     "text": [
      "This is ' single quote symbol\n",
      "This is ' single quote symbol\n",
      "This is \" double quotes symbol\n",
      "The \"Python Notes\" by 'durga' is very helpful\n",
      "The \"Python Notes\" by 'durga' is very helpful\n"
     ]
    }
   ],
   "source": [
    "# s = 'This is ' single quote symbol'                           #   Invalid\n",
    "\n",
    "s = 'This is \\' single quote symbol'                            #   Valid\n",
    "print(s)\n",
    "\n",
    "s = \"This is ' single quote symbol\"                             #   Valid\n",
    "print(s)\n",
    "\n",
    "s = 'This is \" double quotes symbol'                            #   Valid\n",
    "print(s)\n",
    "\n",
    "\n",
    "# s = 'The \"Python Notes\" by 'durga' is very helpful'           #   Invalid\n",
    "# s = \"The \"Python Notes\" by 'durga' is very helpful\"           #   Invalid\n",
    "\n",
    "s = 'The \\\"Python Notes\\\" by \\'durga\\' is very helpful'         #   Valid\n",
    "print(s)\n",
    "\n",
    "s = '''The \"Python Notes\" by 'durga' is very helpful'''         #   Valid\n",
    "print(s)"
   ]
  },
  {
   "cell_type": "code",
   "execution_count": null,
   "id": "59d73ac3-2557-44b3-9dc6-da12ebe2a155",
   "metadata": {},
   "outputs": [],
   "source": []
  }
 ],
 "metadata": {
  "kernelspec": {
   "display_name": "Python 3 (ipykernel)",
   "language": "python",
   "name": "python3"
  },
  "language_info": {
   "codemirror_mode": {
    "name": "ipython",
    "version": 3
   },
   "file_extension": ".py",
   "mimetype": "text/x-python",
   "name": "python",
   "nbconvert_exporter": "python",
   "pygments_lexer": "ipython3",
   "version": "3.12.5"
  }
 },
 "nbformat": 4,
 "nbformat_minor": 5
}
