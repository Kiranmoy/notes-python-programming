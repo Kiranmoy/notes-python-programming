{
 "cells": [
  {
   "cell_type": "markdown",
   "id": "87f960e2-3217-4a2a-88e8-e416debc6c1b",
   "metadata": {},
   "source": [
    "We can use the following 3 methods\n",
    "\n",
    "* **rstrip( )**          → To remove spaces at the right-hand side\n",
    "* **lstrip( )**          → To remove spaces at the left-hand side\n",
    "* **strip( )**           → To remove spaces on both sides"
   ]
  },
  {
   "cell_type": "code",
   "execution_count": 1,
   "id": "7e89a10e-d7b6-4e2b-9aa5-8dc056b8c89f",
   "metadata": {},
   "outputs": [
    {
     "name": "stdin",
     "output_type": "stream",
     "text": [
      "Enter your city Name: Balurghat\n"
     ]
    },
    {
     "name": "stdout",
     "output_type": "stream",
     "text": [
      "your entered city is invalid\n"
     ]
    }
   ],
   "source": [
    "city=input(\"Enter your city Name:\")\n",
    "scity=city.strip()\n",
    "if scity=='Hyderabad':\n",
    "  print(\"Hello Hyderbadi..Adab\")\n",
    "elif scity=='Chennai':\n",
    "  print(\"Hello Madrasi...Vanakkam\")\n",
    "elif scity==\"Bangalore\":\n",
    "  print(\"Hello Kannadiga...Shubhodaya\")\n",
    "else:\n",
    "  print(\"your entered city is invalid\")"
   ]
  },
  {
   "cell_type": "code",
   "execution_count": null,
   "id": "1bedcd4a-4d96-47f0-8b59-5213388b04d8",
   "metadata": {},
   "outputs": [],
   "source": []
  }
 ],
 "metadata": {
  "kernelspec": {
   "display_name": "Python 3 (ipykernel)",
   "language": "python",
   "name": "python3"
  },
  "language_info": {
   "codemirror_mode": {
    "name": "ipython",
    "version": 3
   },
   "file_extension": ".py",
   "mimetype": "text/x-python",
   "name": "python",
   "nbconvert_exporter": "python",
   "pygments_lexer": "ipython3",
   "version": "3.12.5"
  }
 },
 "nbformat": 4,
 "nbformat_minor": 5
}
