{
 "cells": [
  {
   "cell_type": "markdown",
   "id": "5bc84758-04c5-4bf4-b811-bb286d5c73b3",
   "metadata": {},
   "source": [
    "# split( ) method"
   ]
  },
  {
   "cell_type": "markdown",
   "id": "10453519-976f-41fd-bbbc-03f9fa83cbd1",
   "metadata": {},
   "source": [
    "We can split the given string according to the specified **separator** by using the `split( )` method.\n",
    "\n",
    "**SYNTAX** → `l = s.split( separator )`\n",
    "\n",
    "The default separator is **space**. \n",
    "\n",
    "The return type of the `split( )` method is **List**."
   ]
  },
  {
   "cell_type": "markdown",
   "id": "8d71b134-0822-4367-b81a-dce39bd307e9",
   "metadata": {},
   "source": [
    "**EXAMPLE 1:**"
   ]
  },
  {
   "cell_type": "code",
   "execution_count": 1,
   "id": "d22c5216-2518-481b-bdd6-a2c8203a1811",
   "metadata": {},
   "outputs": [
    {
     "name": "stdout",
     "output_type": "stream",
     "text": [
      "durga\n",
      "software\n",
      "solutions\n"
     ]
    }
   ],
   "source": [
    "s=\"durga software solutions\"\n",
    "l=s.split()\n",
    "for x in l:\n",
    "  print(x)"
   ]
  },
  {
   "attachments": {
    "b0d7b328-4bb9-4895-b921-e61223d9c36a.png": {
     "image/png": "[encoded data removed]"
    }
   },
   "cell_type": "markdown",
   "id": "d8ab1e39-0e39-44f0-8a4a-11dbce31ef76",
   "metadata": {},
   "source": [
    "![image.png](attachment:b0d7b328-4bb9-4895-b921-e61223d9c36a.png)"
   ]
  },
  {
   "cell_type": "markdown",
   "id": "03b2e43b-2ccf-4256-9f83-11b853c04981",
   "metadata": {},
   "source": [
    "**EXAMPLE 2:**"
   ]
  },
  {
   "cell_type": "code",
   "execution_count": 2,
   "id": "ff9e70ff-1f49-4940-86ac-a49703111aac",
   "metadata": {},
   "outputs": [
    {
     "name": "stdout",
     "output_type": "stream",
     "text": [
      "22\n",
      "02\n",
      "2018\n"
     ]
    }
   ],
   "source": [
    "s=\"22-02-2018\"\n",
    "l=s.split('-')\n",
    "for x in l:\n",
    "  print(x)"
   ]
  },
  {
   "attachments": {
    "b452e689-7066-4ff6-89ef-a96f65f0c9d1.png": {
     "image/png": "[encoded data removed]"
    }
   },
   "cell_type": "markdown",
   "id": "8219b623-650e-4fb8-b857-0109d3a946db",
   "metadata": {},
   "source": [
    "![image.png](attachment:b452e689-7066-4ff6-89ef-a96f65f0c9d1.png)"
   ]
  },
  {
   "cell_type": "markdown",
   "id": "bc172b89-2250-436a-990e-ff09ca255b75",
   "metadata": {},
   "source": [
    "# join( ) method"
   ]
  },
  {
   "cell_type": "markdown",
   "id": "33211f84-cbf1-4316-8428-7970bcf87ab3",
   "metadata": {},
   "source": [
    "We can join a group of **strings** (List OR Tuple) with the specified separator.\n",
    "\n",
    "**SYNTAX** → `s = seperator.join( collection of strings )`"
   ]
  },
  {
   "cell_type": "markdown",
   "id": "6a59037c-3d3c-460d-aa06-70841ca6f78e",
   "metadata": {},
   "source": [
    "**EXAMPLE 1:**"
   ]
  },
  {
   "cell_type": "code",
   "execution_count": 4,
   "id": "77f00bba-0bcd-4d56-a618-98a0d9289202",
   "metadata": {},
   "outputs": [
    {
     "name": "stdout",
     "output_type": "stream",
     "text": [
      "sunny-bunny-chinny\n"
     ]
    }
   ],
   "source": [
    "t = ('sunny', 'bunny', 'chinny')\n",
    "s = '-'.join(t)\n",
    "print(s)                                  \n",
    "\n",
    "# OUTPUT: sunny-bunny-chinny"
   ]
  },
  {
   "cell_type": "markdown",
   "id": "f1d9e10b-68b4-4127-a871-d8d42ae324d4",
   "metadata": {},
   "source": [
    "**EXAMPLE 2:**"
   ]
  },
  {
   "cell_type": "code",
   "execution_count": 5,
   "id": "acc00efe-5219-459e-81ab-27866b29fdad",
   "metadata": {},
   "outputs": [
    {
     "name": "stdout",
     "output_type": "stream",
     "text": [
      "hyderabad:singapore:london:dubai\n"
     ]
    }
   ],
   "source": [
    "l = ['hyderabad', 'singapore', 'london', 'dubai']\n",
    "s = ':'.join(l)\n",
    "print(s)                          \n",
    "\n",
    "# OUTPUT: hyderabad:singapore:london:dubai"
   ]
  },
  {
   "cell_type": "code",
   "execution_count": null,
   "id": "41d11225-f25f-476d-b03d-bbadb72c4c74",
   "metadata": {},
   "outputs": [],
   "source": []
  }
 ],
 "metadata": {
  "kernelspec": {
   "display_name": "Python 3 (ipykernel)",
   "language": "python",
   "name": "python3"
  },
  "language_info": {
   "codemirror_mode": {
    "name": "ipython",
    "version": 3
   },
   "file_extension": ".py",
   "mimetype": "text/x-python",
   "name": "python",
   "nbconvert_exporter": "python",
   "pygments_lexer": "ipython3",
   "version": "3.12.5"
  }
 },
 "nbformat": 4,
 "nbformat_minor": 5
}
