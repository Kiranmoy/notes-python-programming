{
 "cells": [
  {
   "cell_type": "markdown",
   "id": "995f7dca-5a7c-4693-add3-4e574e95bda6",
   "metadata": {},
   "source": [
    "# Methods to check the start and end of a string: startswith( ) & endswith( )"
   ]
  },
  {
   "cell_type": "markdown",
   "id": "bd20970f-c4dd-4296-bef1-9c43c78690ae",
   "metadata": {},
   "source": [
    "Python contains the following methods for this purpose\n",
    "\n",
    "* `s.startswith( substring )` → Returns True if the string starts with the specified sub-string.\n",
    "\n",
    "* `s.endswith( substring )` → Returns True if the string ends with the specified sub-string.\n",
    "\n",
    "> ***Note that `startswith( )` and `endswith( )` methods are case sensitive.***"
   ]
  },
  {
   "cell_type": "code",
   "execution_count": 1,
   "id": "055a26c8-6395-4feb-8860-567ea84ee9c1",
   "metadata": {},
   "outputs": [
    {
     "name": "stdout",
     "output_type": "stream",
     "text": [
      "True\n",
      "False\n",
      "True\n",
      "False\n",
      "False\n"
     ]
    }
   ],
   "source": [
    "s = 'learning Python is very easy'\n",
    "\n",
    "print(s.startswith('learning'))   # True\n",
    "print(s.endswith('learning'))     # False\n",
    "print(s.endswith('easy'))         # True\n",
    "\n",
    "print(s.startswith('Learning'))   # False\n",
    "print(s.endswith('Easy'))         # False"
   ]
  },
  {
   "cell_type": "code",
   "execution_count": null,
   "id": "be98fb32-a5da-49a5-a079-2268eb51360e",
   "metadata": {},
   "outputs": [],
   "source": []
  }
 ],
 "metadata": {
  "kernelspec": {
   "display_name": "Python 3 (ipykernel)",
   "language": "python",
   "name": "python3"
  },
  "language_info": {
   "codemirror_mode": {
    "name": "ipython",
    "version": 3
   },
   "file_extension": ".py",
   "mimetype": "text/x-python",
   "name": "python",
   "nbconvert_exporter": "python",
   "pygments_lexer": "ipython3",
   "version": "3.12.5"
  }
 },
 "nbformat": 4,
 "nbformat_minor": 5
}
