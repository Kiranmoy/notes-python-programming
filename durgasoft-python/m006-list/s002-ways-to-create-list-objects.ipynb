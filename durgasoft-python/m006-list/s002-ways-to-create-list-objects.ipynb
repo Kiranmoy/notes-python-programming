{
 "cells": [
  {
   "cell_type": "markdown",
   "id": "4d7604ed-13ea-4f2b-87f1-e68884670a50",
   "metadata": {},
   "source": [
    "# Empty List Object"
   ]
  },
  {
   "cell_type": "code",
   "execution_count": 1,
   "id": "bf30acbd-3af3-417e-bfe6-09283bfefe21",
   "metadata": {},
   "outputs": [
    {
     "name": "stdout",
     "output_type": "stream",
     "text": [
      "<class 'list'>\n"
     ]
    }
   ],
   "source": [
    "l = []\n",
    "print(type(l))    # <class'list'>"
   ]
  },
  {
   "cell_type": "markdown",
   "id": "2fca2cd9-b3de-439b-a012-eb09e23aa0fc",
   "metadata": {},
   "source": [
    "# Pre-poulated List Object"
   ]
  },
  {
   "cell_type": "code",
   "execution_count": 2,
   "id": "aec982a5-7851-4dd5-9c95-cc073bdb8841",
   "metadata": {},
   "outputs": [
    {
     "name": "stdout",
     "output_type": "stream",
     "text": [
      "<class 'list'>\n"
     ]
    }
   ],
   "source": [
    "l = [10, 20, 30, 40]\n",
    "print(type(l))    # <class'list'>"
   ]
  },
  {
   "cell_type": "markdown",
   "id": "6ce4b9e1-908b-4b39-a290-d7224aea4fd1",
   "metadata": {},
   "source": [
    "# Create a list dynamically from user input"
   ]
  },
  {
   "cell_type": "code",
   "execution_count": 3,
   "id": "3b3c5621-c593-4951-b994-453ff5c4bd20",
   "metadata": {},
   "outputs": [
    {
     "name": "stdin",
     "output_type": "stream",
     "text": [
      "Enter List: [10,20,30,40]\n"
     ]
    },
    {
     "name": "stdout",
     "output_type": "stream",
     "text": [
      "[10, 20, 30, 40]\n",
      "<class 'list'>\n"
     ]
    }
   ],
   "source": [
    "my_list=eval(input(\"Enter List:\"))\n",
    "print(my_list)\n",
    "print(type(my_list))"
   ]
  },
  {
   "cell_type": "markdown",
   "id": "56fd9cfe-6f26-4efb-a8c9-362a2d61faf2",
   "metadata": {},
   "source": [
    "# Create a list from other collection objects using the list( ) function"
   ]
  },
  {
   "cell_type": "code",
   "execution_count": 4,
   "id": "acac9673-11b3-4189-be55-19ae337af801",
   "metadata": {},
   "outputs": [
    {
     "name": "stdout",
     "output_type": "stream",
     "text": [
      "[0, 2, 4, 6, 8]\n",
      "<class 'list'>\n"
     ]
    }
   ],
   "source": [
    "l=list(range(0,10,2))\n",
    "print(l)\n",
    "print(type(l))"
   ]
  },
  {
   "cell_type": "code",
   "execution_count": 5,
   "id": "8aa7e50a-c7d8-4a1a-807c-e76e2bc2ddc3",
   "metadata": {},
   "outputs": [
    {
     "name": "stdout",
     "output_type": "stream",
     "text": [
      "['d', 'u', 'r', 'g', 'a']\n"
     ]
    }
   ],
   "source": [
    "s=\"durga\"\n",
    "l=list(s)\n",
    "print(l)"
   ]
  },
  {
   "cell_type": "markdown",
   "id": "d31f3fc2-b201-4ff8-bec7-052d169efb38",
   "metadata": {},
   "source": [
    "# Create a list from a string using the split( ) function"
   ]
  },
  {
   "cell_type": "code",
   "execution_count": 6,
   "id": "b83c66d3-b257-477f-9b8c-72303d0bfc0e",
   "metadata": {},
   "outputs": [
    {
     "name": "stdout",
     "output_type": "stream",
     "text": [
      "['Learning', 'Python', 'is', 'very', 'very', 'easy', '!!!']\n",
      "<class 'list'>\n"
     ]
    }
   ],
   "source": [
    "s=\"Learning Python is very very easy !!!\"\n",
    "l=s.split()\n",
    "print(l)\n",
    "print(type(l)) "
   ]
  },
  {
   "cell_type": "markdown",
   "id": "30dced11-0f53-48c5-8009-41cf025ebf04",
   "metadata": {},
   "source": [
    "> **Note:**\n",
    "> \n",
    "> Sometimes we can take list inside another list, such type of lists are called nested lists.\n",
    "> \n",
    "> **Example:** `[10, 20, [30, 40]]` "
   ]
  },
  {
   "cell_type": "code",
   "execution_count": null,
   "id": "ce3d8b88-baa6-4aba-827a-669fb3fbd125",
   "metadata": {},
   "outputs": [],
   "source": []
  }
 ],
 "metadata": {
  "kernelspec": {
   "display_name": "Python 3 (ipykernel)",
   "language": "python",
   "name": "python3"
  },
  "language_info": {
   "codemirror_mode": {
    "name": "ipython",
    "version": 3
   },
   "file_extension": ".py",
   "mimetype": "text/x-python",
   "name": "python",
   "nbconvert_exporter": "python",
   "pygments_lexer": "ipython3",
   "version": "3.12.5"
  }
 },
 "nbformat": 4,
 "nbformat_minor": 5
}
