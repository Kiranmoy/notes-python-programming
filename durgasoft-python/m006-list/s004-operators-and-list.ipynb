{
 "cells": [
  {
   "cell_type": "markdown",
   "id": "15ddb49d-d9d8-44f2-a0cb-5b927649531c",
   "metadata": {},
   "source": [
    "# Concatenation Operator (+)"
   ]
  },
  {
   "cell_type": "markdown",
   "id": "43483129-7433-4308-9d97-3c724b129dea",
   "metadata": {},
   "source": [
    "We can use `+` to concatenate 2 lists into a single list.\n",
    "\n",
    "> **Note**:  To use the `+` operator **compulsory both arguments should be list objects**, otherwise, we will get **TypeError**."
   ]
  },
  {
   "cell_type": "code",
   "execution_count": 2,
   "id": "25af74a6-c2e5-45c0-815d-5e039615bffa",
   "metadata": {},
   "outputs": [
    {
     "name": "stdout",
     "output_type": "stream",
     "text": [
      "[10, 20, 30, 40, 50, 60]\n",
      "[10, 20, 30, 40]\n"
     ]
    }
   ],
   "source": [
    "a = [10, 20, 30]\n",
    "b = [40, 50, 60]\n",
    "c = a+b\n",
    "print(c)          # [10, 20, 30, 40, 50, 60]\n",
    "\n",
    "c = a+[40]        \n",
    "print(c)          # [10, 20, 30, 40, 50, 60, 40]"
   ]
  },
  {
   "cell_type": "code",
   "execution_count": 3,
   "id": "94d9364f-7f13-4641-94d6-5cd0c10841d1",
   "metadata": {},
   "outputs": [
    {
     "ename": "TypeError",
     "evalue": "can only concatenate list (not \"int\") to list",
     "output_type": "error",
     "traceback": [
      "\u001b[1;31m---------------------------------------------------------------------------\u001b[0m",
      "\u001b[1;31mTypeError\u001b[0m                                 Traceback (most recent call last)",
      "Cell \u001b[1;32mIn[3], line 1\u001b[0m\n\u001b[1;32m----> 1\u001b[0m c \u001b[38;5;241m=\u001b[39m \u001b[43ma\u001b[49m\u001b[38;5;241;43m+\u001b[39;49m\u001b[38;5;241;43m40\u001b[39;49m          \u001b[38;5;66;03m# TypeError: can only concatenate list (not \"int\") to list.\u001b[39;00m\n",
      "\u001b[1;31mTypeError\u001b[0m: can only concatenate list (not \"int\") to list"
     ]
    }
   ],
   "source": [
    "c = a+40          # TypeError: can only concatenate list (not \"int\") to list."
   ]
  },
  {
   "cell_type": "markdown",
   "id": "41baa1a0-b5e9-43c6-86e6-f4444a669743",
   "metadata": {},
   "source": [
    "# Repetition Operator (*) "
   ]
  },
  {
   "cell_type": "markdown",
   "id": "953608bc-4979-4135-8c3c-423c40bd2c67",
   "metadata": {},
   "source": [
    "We can use the repetition operator `*` to repeat elements of the list a specified number of times. \n",
    "\n",
    "> **Note**:  To use the `*`  operator **compulsory one argument should be a list object and another argument should an int**, otherwise, we will get **TypeError**. "
   ]
  },
  {
   "cell_type": "code",
   "execution_count": 4,
   "id": "bb9f6814-2135-40ee-871e-635ad017e515",
   "metadata": {},
   "outputs": [
    {
     "name": "stdout",
     "output_type": "stream",
     "text": [
      "[10, 20, 30, 10, 20, 30, 10, 20, 30]\n"
     ]
    }
   ],
   "source": [
    "x = [10, 20, 30]\n",
    "y = x*3\n",
    "print(y)          # [10, 20, 30, 10, 20, 30, 10, 20, 30]"
   ]
  },
  {
   "cell_type": "code",
   "execution_count": 5,
   "id": "990ee54a-0692-469a-8b3c-7eb54e643ff6",
   "metadata": {},
   "outputs": [
    {
     "ename": "TypeError",
     "evalue": "can't multiply sequence by non-int of type 'float'",
     "output_type": "error",
     "traceback": [
      "\u001b[1;31m---------------------------------------------------------------------------\u001b[0m",
      "\u001b[1;31mTypeError\u001b[0m                                 Traceback (most recent call last)",
      "Cell \u001b[1;32mIn[5], line 1\u001b[0m\n\u001b[1;32m----> 1\u001b[0m \u001b[38;5;28mprint\u001b[39m(\u001b[43mx\u001b[49m\u001b[43m \u001b[49m\u001b[38;5;241;43m*\u001b[39;49m\u001b[43m \u001b[49m\u001b[38;5;241;43m2.0\u001b[39;49m)    \u001b[38;5;66;03m# TypeError: can't multiply sequence by non-int of type 'float'.\u001b[39;00m\n",
      "\u001b[1;31mTypeError\u001b[0m: can't multiply sequence by non-int of type 'float'"
     ]
    }
   ],
   "source": [
    "print(x * 2.0)    # TypeError: can't multiply sequence by non-int of type 'float'."
   ]
  },
  {
   "cell_type": "code",
   "execution_count": 6,
   "id": "605f9bd5-4fa5-49a2-92fe-8b50f027f312",
   "metadata": {},
   "outputs": [
    {
     "ename": "TypeError",
     "evalue": "can't multiply sequence by non-int of type 'list'",
     "output_type": "error",
     "traceback": [
      "\u001b[1;31m---------------------------------------------------------------------------\u001b[0m",
      "\u001b[1;31mTypeError\u001b[0m                                 Traceback (most recent call last)",
      "Cell \u001b[1;32mIn[6], line 1\u001b[0m\n\u001b[1;32m----> 1\u001b[0m \u001b[38;5;28mprint\u001b[39m(\u001b[43mx\u001b[49m\u001b[43m \u001b[49m\u001b[38;5;241;43m*\u001b[39;49m\u001b[43m \u001b[49m\u001b[43mx\u001b[49m)    \u001b[38;5;66;03m# TypeError: can't multiply sequence by non-int of type 'list'.\u001b[39;00m\n",
      "\u001b[1;31mTypeError\u001b[0m: can't multiply sequence by non-int of type 'list'"
     ]
    }
   ],
   "source": [
    "print(x * x)    # TypeError: can't multiply sequence by non-int of type 'list'."
   ]
  },
  {
   "cell_type": "markdown",
   "id": "0b991abb-62c9-4048-a5ca-d00b6db057b5",
   "metadata": {},
   "source": [
    "# Equality Operators ( ==, != )"
   ]
  },
  {
   "cell_type": "markdown",
   "id": "872bfcc5-ff6f-4a6c-918d-44e75ff0e658",
   "metadata": {},
   "source": [
    "We can use equality operators for list-objects.\n",
    "\n",
    "Whenever we are using **equality operators (`==`, `!=`)** for list objects then the following should be considered:\n",
    "* The Number of Elements\n",
    "* The Order of Elements\n",
    "* The Content of Elements (Case Sensitive) \n",
    "\n",
    "If all three criteria were met then only the `==` operator returns `True`, else returns `False`."
   ]
  },
  {
   "cell_type": "code",
   "execution_count": 8,
   "id": "54b2db6f-eb81-43b7-a7e9-8eb82104418a",
   "metadata": {},
   "outputs": [
    {
     "name": "stdout",
     "output_type": "stream",
     "text": [
      "True\n",
      "False\n",
      "True\n",
      "False\n"
     ]
    }
   ],
   "source": [
    "x = [\"Dog\", \"Cat\", \"Rat\"]\n",
    "y = [\"Dog\", \"Cat\", \"Rat\"]\n",
    "z = [\"DOG\", \"CAT\", \"RAT\"]\n",
    "a = [\"Rat\", \"Dog\", \"Cat\"]\n",
    "\n",
    "print(x == y) # True\n",
    "print(x == z) # False\n",
    "print(x != z) # True\n",
    "print(x == a) # False"
   ]
  },
  {
   "cell_type": "markdown",
   "id": "6096ee31-7325-4718-8c56-c3ac58e894ed",
   "metadata": {},
   "source": [
    "# Relational Operators ( <, <=, > >= )`"
   ]
  },
  {
   "cell_type": "markdown",
   "id": "ed207da3-d657-4f3d-b61a-454c04b3bb44",
   "metadata": {},
   "source": [
    "We can use relational operators for list objects.\n",
    "\n",
    "Whenever we are using **relational operators (`<`, `<=`, `>`, `>=`)** between list objects, the result will be determined on the basis of content comparison, **the number of elements is not at all important**.\n",
    "\n",
    "If the result cannot be determined based on the content of the first elements of both the list then it check for the second elements and so on."
   ]
  },
  {
   "cell_type": "code",
   "execution_count": 9,
   "id": "ced4f30d-615b-46bf-bb69-586243f230c9",
   "metadata": {},
   "outputs": [
    {
     "name": "stdout",
     "output_type": "stream",
     "text": [
      "True\n",
      "True\n",
      "False\n",
      "False\n"
     ]
    }
   ],
   "source": [
    "x = [50, 20, 30]\n",
    "y = [40, 50, 60, 100, 200]\n",
    "\n",
    "print(x>y)    # True\n",
    "print(x>=y)   # True\n",
    "print(x<y)    # False\n",
    "print(x<=y)   # False"
   ]
  },
  {
   "cell_type": "code",
   "execution_count": 10,
   "id": "38654623-106a-47bc-af01-ebde1dbc9a63",
   "metadata": {},
   "outputs": [
    {
     "name": "stdout",
     "output_type": "stream",
     "text": [
      "False\n",
      "False\n",
      "True\n",
      "True\n"
     ]
    }
   ],
   "source": [
    "x = [\"Dog\", \"Cat\", \"Rat\"]\n",
    "y = [\"Rat\", \"Cat\", \"Dog\"]\n",
    "print(x>y)    # False\n",
    "print(x>=y)   # False\n",
    "print(x<y)    # True\n",
    "print(x<=y)   # True"
   ]
  },
  {
   "cell_type": "markdown",
   "id": "08080c15-2de6-45b9-88a3-bc366e95b1f2",
   "metadata": {},
   "source": [
    "# Membership Operator ( in, not in )"
   ]
  },
  {
   "cell_type": "markdown",
   "id": "cfd1c72a-342f-44dc-b8d6-d0dee559cc25",
   "metadata": {},
   "source": [
    "We can check whether the element is a member of the list or not by using membership operators. \n",
    "* **`in` operator**\n",
    "* **`not in` operator**"
   ]
  },
  {
   "cell_type": "code",
   "execution_count": 11,
   "id": "c6fd83cb-9617-4f88-b193-79734ac85aee",
   "metadata": {},
   "outputs": [
    {
     "name": "stdout",
     "output_type": "stream",
     "text": [
      "True\n",
      "False\n",
      "False\n",
      "True\n"
     ]
    }
   ],
   "source": [
    "n=[10,20,30,40]\n",
    "\n",
    "print (10 in n)       # True\n",
    "print (10 not in n)   # False\n",
    "print (50 in n)       # False\n",
    "print (50 not in n)   # True"
   ]
  },
  {
   "cell_type": "code",
   "execution_count": null,
   "id": "a54a3dd5-3f93-45a2-870d-55926f05c926",
   "metadata": {},
   "outputs": [],
   "source": []
  }
 ],
 "metadata": {
  "kernelspec": {
   "display_name": "Python 3 (ipykernel)",
   "language": "python",
   "name": "python3"
  },
  "language_info": {
   "codemirror_mode": {
    "name": "ipython",
    "version": 3
   },
   "file_extension": ".py",
   "mimetype": "text/x-python",
   "name": "python",
   "nbconvert_exporter": "python",
   "pygments_lexer": "ipython3",
   "version": "3.12.5"
  }
 },
 "nbformat": 4,
 "nbformat_minor": 5
}
