{
 "cells": [
  {
   "cell_type": "markdown",
   "id": "baee9bdd-b109-49cd-8110-a76d534e6b4f",
   "metadata": {},
   "source": [
    "**`Functions`** → Python in-built functions\n",
    "\n",
    "**`Methods`** → Object-specific functions"
   ]
  },
  {
   "cell_type": "markdown",
   "id": "e944e8ca-5de6-4281-89b9-e86fd3bf7cea",
   "metadata": {},
   "source": [
    "# len( ) function"
   ]
  },
  {
   "cell_type": "markdown",
   "id": "4b214b80-1140-4dd2-b5c3-5c79cd0b9e1a",
   "metadata": {},
   "source": [
    "Returns the number of elements present in the list "
   ]
  },
  {
   "cell_type": "code",
   "execution_count": 2,
   "id": "65460424-f8ab-4aff-bd04-c50c361f3129",
   "metadata": {},
   "outputs": [
    {
     "name": "stdout",
     "output_type": "stream",
     "text": [
      "4\n"
     ]
    }
   ],
   "source": [
    "n = [10, 20, 30, 40]\n",
    "print(len(n))          # 4"
   ]
  },
  {
   "cell_type": "markdown",
   "id": "37f48c8f-a10c-428a-9d4f-46fdeb28d096",
   "metadata": {},
   "source": [
    "# count( ) method"
   ]
  },
  {
   "cell_type": "markdown",
   "id": "40b187ce-cdd1-47f1-b15d-124d48491903",
   "metadata": {},
   "source": [
    "It returns the number of occurrences of the specified items in the list "
   ]
  },
  {
   "cell_type": "code",
   "execution_count": 3,
   "id": "477c3fcd-9ce1-4fb3-9456-b32b67026fda",
   "metadata": {},
   "outputs": [
    {
     "name": "stdout",
     "output_type": "stream",
     "text": [
      "1\n",
      "4\n",
      "2\n",
      "0\n"
     ]
    }
   ],
   "source": [
    "n=[1,2,2,2,2,3,3]\n",
    "\n",
    "print(n.count(1))   # 1\n",
    "print(n.count(2))   # 4\n",
    "print(n.count(3))   # 2\n",
    "print(n.count(4))   # 0"
   ]
  },
  {
   "cell_type": "markdown",
   "id": "35b4e9eb-79c8-450b-a9b9-404354484c47",
   "metadata": {},
   "source": [
    "# index( ) method"
   ]
  },
  {
   "cell_type": "markdown",
   "id": "554adc71-dc74-4a5a-96b2-fd4591e80798",
   "metadata": {},
   "source": [
    "Returns the index of the first occurrence of the specified item\n",
    "\n",
    "> **NOTE:**\n",
    "> * If the **specified element not present** in the list then we will get **ValueError**.\n",
    "> * Hence before the **`index()`** method we have to check whether the item is present in the list or not by using **`in`** operator."
   ]
  },
  {
   "cell_type": "code",
   "execution_count": 4,
   "id": "62ee842b-3413-4423-8a48-6cc89604723b",
   "metadata": {},
   "outputs": [
    {
     "name": "stdout",
     "output_type": "stream",
     "text": [
      "0\n",
      "1\n",
      "5\n"
     ]
    }
   ],
   "source": [
    "n = [1, 2, 2, 2, 2, 3, 3]\n",
    "\n",
    "print(n.index(1))\n",
    "print(n.index(2))\n",
    "print(n.index(3))"
   ]
  },
  {
   "cell_type": "code",
   "execution_count": 5,
   "id": "3a22e309-2b98-47b0-90b4-41f93feebebf",
   "metadata": {},
   "outputs": [
    {
     "ename": "ValueError",
     "evalue": "4 is not in list",
     "output_type": "error",
     "traceback": [
      "\u001b[1;31m---------------------------------------------------------------------------\u001b[0m",
      "\u001b[1;31mValueError\u001b[0m                                Traceback (most recent call last)",
      "Cell \u001b[1;32mIn[5], line 1\u001b[0m\n\u001b[1;32m----> 1\u001b[0m \u001b[38;5;28mprint\u001b[39m(\u001b[43mn\u001b[49m\u001b[38;5;241;43m.\u001b[39;49m\u001b[43mindex\u001b[49m\u001b[43m(\u001b[49m\u001b[38;5;241;43m4\u001b[39;49m\u001b[43m)\u001b[49m)   \u001b[38;5;66;03m# ValueError: 4 is not in list\u001b[39;00m\n",
      "\u001b[1;31mValueError\u001b[0m: 4 is not in list"
     ]
    }
   ],
   "source": [
    "print(n.index(4))   # ValueError: 4 is not in list"
   ]
  },
  {
   "cell_type": "code",
   "execution_count": 8,
   "id": "5d8617ab-6c37-4573-b0d7-04b0cfd35020",
   "metadata": {},
   "outputs": [],
   "source": [
    "n = [1, 2, 2, 2, 2, 3, 3]\n",
    "if 4 in n:\n",
    "  print(n.index(4))\n"
   ]
  },
  {
   "cell_type": "markdown",
   "id": "ba130877-a13a-4fe3-ab18-d7e7a54f5644",
   "metadata": {},
   "source": [
    "# append( ) method"
   ]
  },
  {
   "cell_type": "markdown",
   "id": "46ff2da2-4531-4569-a9fc-e4ee2f470409",
   "metadata": {},
   "source": [
    "We can use the **`append( )`** function to add items **at the end of the list**. "
   ]
  },
  {
   "cell_type": "code",
   "execution_count": 9,
   "id": "7f11e533-1597-411b-91b3-7ba347e498ca",
   "metadata": {},
   "outputs": [
    {
     "name": "stdout",
     "output_type": "stream",
     "text": [
      "['A', 'B', 'C']\n",
      "3\n",
      "['A', 'B', 'C', [10, 20]]\n",
      "4\n"
     ]
    }
   ],
   "source": [
    "list=[]\n",
    "list.append(\"A\")\n",
    "list.append(\"B\")\n",
    "list.append(\"C\")\n",
    "print(list)       # ['A', 'B', 'C']\n",
    "print(len(list))  # 3\n",
    "\n",
    "l = [10, 20]\n",
    "list.append(l)\n",
    "print(list)# ['A', 'B', 'C', [10,20]]\n",
    "print(len(list))  # 4"
   ]
  },
  {
   "cell_type": "markdown",
   "id": "adc3563e-27f6-47a7-8953-afde990193c6",
   "metadata": {},
   "source": [
    "# insert( ) method"
   ]
  },
  {
   "cell_type": "markdown",
   "id": "23a2e6b1-7ae9-4754-91a9-37603b37e5a7",
   "metadata": {},
   "source": [
    "To insert an item at a specified index position.\n",
    "\n",
    "> **NOTE:**\n",
    "> * If the specified **index is greater than the max index** then the element will be **inserted at last** position. \n",
    "> * If the specified **index is smaller than the min index** then element will be **inserted at first** position. "
   ]
  },
  {
   "cell_type": "code",
   "execution_count": 10,
   "id": "dc4af4ec-ea2b-4ab2-8d47-d596960f2fc2",
   "metadata": {},
   "outputs": [
    {
     "name": "stdout",
     "output_type": "stream",
     "text": [
      "[1, 888, 2, 3, 4, 5]\n",
      "[999, 1, 2, 3, 4, 5, 777]\n"
     ]
    }
   ],
   "source": [
    "n = [1,2,3,4,5] \n",
    "n.insert(1,888)\n",
    "print(n)          # [1, 888, 2, 3, 4, 5]\n",
    "\n",
    "n = [1,2,3,4,5]\n",
    "n.insert(10,777)\n",
    "n.insert(-10,999)\n",
    "print(n)          # [999, 1, 2, 3, 4, 5, 777]"
   ]
  },
  {
   "cell_type": "markdown",
   "id": "a0a610eb-6940-43b3-9353-ff5b12cfe0f7",
   "metadata": {},
   "source": [
    "# Differences between append() and insert()"
   ]
  },
  {
   "cell_type": "markdown",
   "id": "7b8f5038-ed7c-4cf2-8f62-bdb236a839e8",
   "metadata": {},
   "source": [
    "* `append( )`: In list when we add any element it will come in last **i.e.** it will be last element.\n",
    "* `insert( )`: In list we can insert any element in particular index number."
   ]
  },
  {
   "cell_type": "markdown",
   "id": "9f2f1814-62b6-44a7-9391-fb26011cd640",
   "metadata": {},
   "source": [
    "# extend( ) method"
   ]
  },
  {
   "cell_type": "markdown",
   "id": "b03778bf-7796-4314-8238-7d1f97a31dc8",
   "metadata": {},
   "source": [
    "To add all items of the given sequence to list **`l1.extend(l2)`** all items present in sequence **`l2`** will be added to list **`l1`**."
   ]
  },
  {
   "cell_type": "code",
   "execution_count": 11,
   "id": "d9824291-1bfc-42fe-984b-dfee8ac066a5",
   "metadata": {},
   "outputs": [
    {
     "name": "stdout",
     "output_type": "stream",
     "text": [
      "['Chicken', 'Mutton', 'Fish', 'RC', 'KF', 'FO']\n",
      "['Chicken', 'Mutton', 'Fish', 'M', 'u', 's', 'h', 'r', 'o', 'o', 'm']\n"
     ]
    }
   ],
   "source": [
    "order1=[\"Chicken\",\"Mutton\",\"Fish\"]\n",
    "order2=[\"RC\",\"KF\",\"FO\"]\n",
    "order1.extend(order2)\n",
    "print(order1)         # ['Chicken', 'Mutton', 'Fish', 'RC', 'KF', 'FO']\n",
    "\n",
    "order = [\"Chicken\",\"Mutton\",\"Fish\"]\n",
    "order.extend(\"Mushroom\")\n",
    "print(order)          # ['Chicken', 'Mutton', 'Fish', 'M', 'u', 's', 'h', 'r', 'o', 'o', 'm']"
   ]
  },
  {
   "cell_type": "markdown",
   "id": "da1fb887-a090-4e4e-84b3-3c2b296b991e",
   "metadata": {},
   "source": [
    "# remove( ) method"
   ]
  },
  {
   "cell_type": "markdown",
   "id": "571ba365-652d-45af-ac78-6218989ceb84",
   "metadata": {},
   "source": [
    "We can use this function to remove the specified items from the list. \n",
    "\n",
    "If the item is present multiple times then only the first occurrence will be removed. "
   ]
  },
  {
   "cell_type": "code",
   "execution_count": 12,
   "id": "7a7a4ea5-6bf8-4c11-9823-557e9227cea7",
   "metadata": {},
   "outputs": [
    {
     "name": "stdout",
     "output_type": "stream",
     "text": [
      "[20, 10, 30]\n"
     ]
    }
   ],
   "source": [
    "n=[10,20,10,30]\n",
    "n.remove(10)\n",
    "print(n)        # [20, 10, 30]"
   ]
  },
  {
   "cell_type": "markdown",
   "id": "957c6abd-2b74-4e37-b460-5ed5185e788e",
   "metadata": {},
   "source": [
    "If the specified item is not present in the list then we will get **ValueError**."
   ]
  },
  {
   "cell_type": "code",
   "execution_count": 13,
   "id": "6ca2de2b-54d4-487e-bb30-88993f20d36e",
   "metadata": {},
   "outputs": [
    {
     "ename": "ValueError",
     "evalue": "list.remove(x): x not in list",
     "output_type": "error",
     "traceback": [
      "\u001b[1;31m---------------------------------------------------------------------------\u001b[0m",
      "\u001b[1;31mValueError\u001b[0m                                Traceback (most recent call last)",
      "Cell \u001b[1;32mIn[13], line 2\u001b[0m\n\u001b[0;32m      1\u001b[0m n\u001b[38;5;241m=\u001b[39m[\u001b[38;5;241m10\u001b[39m,\u001b[38;5;241m20\u001b[39m,\u001b[38;5;241m10\u001b[39m,\u001b[38;5;241m30\u001b[39m]\n\u001b[1;32m----> 2\u001b[0m \u001b[43mn\u001b[49m\u001b[38;5;241;43m.\u001b[39;49m\u001b[43mremove\u001b[49m\u001b[43m(\u001b[49m\u001b[38;5;241;43m40\u001b[39;49m\u001b[43m)\u001b[49m\n",
      "\u001b[1;31mValueError\u001b[0m: list.remove(x): x not in list"
     ]
    }
   ],
   "source": [
    "n=[10,20,10,30]\n",
    "n.remove(40)"
   ]
  },
  {
   "cell_type": "markdown",
   "id": "ca870b7c-ca49-4895-862e-5197f3739c0f",
   "metadata": {},
   "source": [
    "> **NOTE:** Hence before using the **`remove()`** method first we have to check specified element present in the list or not by using **`in`** operator. "
   ]
  },
  {
   "cell_type": "markdown",
   "id": "f5f7f790-acc7-4944-9454-956024d8fd91",
   "metadata": {},
   "source": [
    "# pop( ) method"
   ]
  },
  {
   "cell_type": "markdown",
   "id": "7c31327b-37be-4d2d-9f96-b110f688eae6",
   "metadata": {},
   "source": [
    "* It removes and returns the last element of the list.\n",
    "* This is the only function that manipulates the list and returns some elements. "
   ]
  },
  {
   "cell_type": "code",
   "execution_count": 14,
   "id": "cdbb5ad6-35f9-4ba6-89ff-f6453c50d142",
   "metadata": {},
   "outputs": [
    {
     "name": "stdout",
     "output_type": "stream",
     "text": [
      "40\n",
      "30\n",
      "[10, 20]\n"
     ]
    }
   ],
   "source": [
    "n=[10,20,30,40]\n",
    "print(n.pop())    # 40\n",
    "print(n.pop())    # 30\n",
    "print(n)          # [10,20]"
   ]
  },
  {
   "cell_type": "markdown",
   "id": "8362762f-6ffe-4818-9697-6d88e153de0d",
   "metadata": {},
   "source": [
    "If the list is empty then the **`pop()`** function raises **`IndexError`**."
   ]
  },
  {
   "cell_type": "code",
   "execution_count": 15,
   "id": "30207882-1ddf-43cb-bfde-965b68e38215",
   "metadata": {},
   "outputs": [
    {
     "ename": "IndexError",
     "evalue": "pop from empty list",
     "output_type": "error",
     "traceback": [
      "\u001b[1;31m---------------------------------------------------------------------------\u001b[0m",
      "\u001b[1;31mIndexError\u001b[0m                                Traceback (most recent call last)",
      "Cell \u001b[1;32mIn[15], line 2\u001b[0m\n\u001b[0;32m      1\u001b[0m n \u001b[38;5;241m=\u001b[39m []\n\u001b[1;32m----> 2\u001b[0m \u001b[38;5;28mprint\u001b[39m(\u001b[43mn\u001b[49m\u001b[38;5;241;43m.\u001b[39;49m\u001b[43mpop\u001b[49m\u001b[43m(\u001b[49m\u001b[43m)\u001b[49m)    \u001b[38;5;66;03m# IndexError: pop from empty list\u001b[39;00m\n",
      "\u001b[1;31mIndexError\u001b[0m: pop from empty list"
     ]
    }
   ],
   "source": [
    "n = []\n",
    "print(n.pop())    # IndexError: pop from empty list"
   ]
  },
  {
   "cell_type": "markdown",
   "id": "8cce5d94-7c4c-464b-8aea-2646867544d3",
   "metadata": {},
   "source": [
    "> **NOTE**:\n",
    "> * The **`pop()`** is the only function which manipulates the list and returns some value \n",
    "> * In general, we can use **`append()`** and **`pop()`** functions to implement stack data structure by using list, which follows **`LIFO`** **(Last In First Out)** order. "
   ]
  },
  {
   "cell_type": "markdown",
   "id": "631c477a-baf1-469d-8668-3ec8fb8e9f71",
   "metadata": {},
   "source": [
    "* **`n.pop(index)`** → To remove and return elements present at the specified index. \n",
    "* **`n.pop()`** → To remove and return the last element of the list "
   ]
  },
  {
   "cell_type": "code",
   "execution_count": 16,
   "id": "9263bc61-b81a-4009-b13f-70bce9be140f",
   "metadata": {},
   "outputs": [
    {
     "name": "stdout",
     "output_type": "stream",
     "text": [
      "60\n",
      "20\n"
     ]
    }
   ],
   "source": [
    "n = [10,20,30,40,50,60]\n",
    "print(n.pop())    # 60\n",
    "print(n.pop(1))   # 20"
   ]
  },
  {
   "cell_type": "code",
   "execution_count": 17,
   "id": "d8ac3eea-ed2a-4d2a-a625-f910b57e4a9e",
   "metadata": {},
   "outputs": [
    {
     "ename": "IndexError",
     "evalue": "pop index out of range",
     "output_type": "error",
     "traceback": [
      "\u001b[1;31m---------------------------------------------------------------------------\u001b[0m",
      "\u001b[1;31mIndexError\u001b[0m                                Traceback (most recent call last)",
      "Cell \u001b[1;32mIn[17], line 1\u001b[0m\n\u001b[1;32m----> 1\u001b[0m \u001b[38;5;28mprint\u001b[39m(\u001b[43mn\u001b[49m\u001b[38;5;241;43m.\u001b[39;49m\u001b[43mpop\u001b[49m\u001b[43m(\u001b[49m\u001b[38;5;241;43m10\u001b[39;49m\u001b[43m)\u001b[49m)  \u001b[38;5;66;03m# IndexError: pop index out of range\u001b[39;00m\n",
      "\u001b[1;31mIndexError\u001b[0m: pop index out of range"
     ]
    }
   ],
   "source": [
    "print(n.pop(10))  # IndexError: pop index out of range"
   ]
  },
  {
   "cell_type": "markdown",
   "id": "99ba0f72-f1dd-4cc1-9009-ffd599927d31",
   "metadata": {},
   "source": [
    "# Differences between remove( ) and pop( )?"
   ]
  },
  {
   "attachments": {
    "c31420ee-e685-4562-bbc6-f846c6421bdb.png": {
     "image/png": "[encoded data removed]"
    }
   },
   "cell_type": "markdown",
   "id": "6697c857-10ab-46d0-a47f-59bbd5a0de4d",
   "metadata": {},
   "source": [
    "![image.png](attachment:c31420ee-e685-4562-bbc6-f846c6421bdb.png)"
   ]
  },
  {
   "cell_type": "markdown",
   "id": "b74f38f9-c401-487d-9e4c-34856a989f78",
   "metadata": {},
   "source": [
    "# clear( ) method"
   ]
  },
  {
   "cell_type": "markdown",
   "id": "95d81f1a-ac6b-4e46-b3f6-4b92998df985",
   "metadata": {},
   "source": [
    "We can use the **`clear()`** function to remove all elements of the List."
   ]
  },
  {
   "cell_type": "code",
   "execution_count": 18,
   "id": "f21e906e-a7a3-45d6-abd3-91cc8c744b69",
   "metadata": {},
   "outputs": [
    {
     "name": "stdout",
     "output_type": "stream",
     "text": [
      "[10, 20, 30, 40]\n",
      "[]\n"
     ]
    }
   ],
   "source": [
    "n = [10,20,30,40]\n",
    "print(n)    # [10,20,30,40]   \n",
    "n.clear()\n",
    "print(n)    # [ ]"
   ]
  },
  {
   "cell_type": "markdown",
   "id": "8798932d-419a-4e69-b785-5b705d27656c",
   "metadata": {},
   "source": [
    "# Conclusion"
   ]
  },
  {
   "cell_type": "markdown",
   "id": "791e2766-dfa1-4c3e-a072-a02c7c3f9fbe",
   "metadata": {},
   "source": [
    "List objects are dynamic. i.e based on our requirement we can increase and decrease the size. \n",
    "* `append()`, `insert()`, `extend()` → for increasing the size/growable nature \n",
    "* `remove()`, `pop()` →  for decreasing the size /shrinking "
   ]
  },
  {
   "cell_type": "code",
   "execution_count": null,
   "id": "00e54c8e-9ca9-4780-8c52-871ea9d8299b",
   "metadata": {},
   "outputs": [],
   "source": []
  }
 ],
 "metadata": {
  "kernelspec": {
   "display_name": "Python 3 (ipykernel)",
   "language": "python",
   "name": "python3"
  },
  "language_info": {
   "codemirror_mode": {
    "name": "ipython",
    "version": 3
   },
   "file_extension": ".py",
   "mimetype": "text/x-python",
   "name": "python",
   "nbconvert_exporter": "python",
   "pygments_lexer": "ipython3",
   "version": "3.12.5"
  }
 },
 "nbformat": 4,
 "nbformat_minor": 5
}
