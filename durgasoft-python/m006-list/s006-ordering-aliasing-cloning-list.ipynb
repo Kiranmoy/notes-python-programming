{
 "cells": [
  {
   "cell_type": "markdown",
   "id": "e57f8b58-08ca-4f9f-8b41-6366e69d9460",
   "metadata": {},
   "source": [
    "# reverse( ) method"
   ]
  },
  {
   "cell_type": "markdown",
   "id": "267d2664-549a-4eae-b119-e3e5094d2f33",
   "metadata": {},
   "source": [
    "We can use the **`reverse( )`** method to reverse the order of elements of the existing list.\n",
    "\n",
    "It will not create a new reversed list."
   ]
  },
  {
   "cell_type": "code",
   "execution_count": 1,
   "id": "9cdd4e17-f6f0-4369-9556-c45290583e63",
   "metadata": {},
   "outputs": [
    {
     "name": "stdout",
     "output_type": "stream",
     "text": [
      "[40, 30, 20, 10]\n"
     ]
    }
   ],
   "source": [
    "n=[10,20,30,40]\n",
    "n.reverse()\n",
    "print(n)          # [40, 30, 20, 10]"
   ]
  },
  {
   "cell_type": "markdown",
   "id": "2cd2c0ef-20d3-4c05-a9de-ef17bba54a4b",
   "metadata": {},
   "source": [
    "# reverse( ) list method VS. reversed( ) in-built function"
   ]
  },
  {
   "cell_type": "markdown",
   "id": "7eaccc2b-bf52-4442-ba82-cc391009627b",
   "metadata": {},
   "source": [
    "**reverse( )**\n",
    "* List specific method applicable only for list object.\n",
    "* It will not create a new `reversed list`, instead, it reverses the order of elements in the existing list.\n",
    "\n",
    "**reversed( )**\n",
    "* Python in-built function applicable for any type of sequence ( `string`, `list`, `tuple`, `set`, `dictionary` )\n",
    "* It creates a new **reversed iterator** object."
   ]
  },
  {
   "cell_type": "code",
   "execution_count": 2,
   "id": "79f09d9f-7b79-4d7e-b04c-d2f3a9fbb1f9",
   "metadata": {},
   "outputs": [
    {
     "name": "stdout",
     "output_type": "stream",
     "text": [
      "<class 'list_reverseiterator'>\n",
      "<list_reverseiterator object at 0x000001A4AE024D90>\n",
      "[40, 30, 20, 10]\n"
     ]
    }
   ],
   "source": [
    "l = [10,20,30,40]\n",
    "r = reversed(l)\n",
    "print(type(r))      # <class 'list_reverseiterator'>\n",
    "print(r)            # <list_reverseiterator object at 0x000000000021A4F98>\n",
    "\n",
    "newReversedList = list(r)\n",
    "print(newReversedList)        # [40,30,20,10]"
   ]
  },
  {
   "cell_type": "code",
   "execution_count": 3,
   "id": "54d4129e-065c-4f68-affc-a0236a4436e3",
   "metadata": {},
   "outputs": [
    {
     "name": "stdout",
     "output_type": "stream",
     "text": [
      "n\n",
      "a\n",
      "r\n",
      "i\n",
      "k\n"
     ]
    }
   ],
   "source": [
    "s = \"kiran\"\n",
    "r = reversed(s)\n",
    "for x in r:\n",
    "  print(x)        # n a r i k"
   ]
  },
  {
   "cell_type": "markdown",
   "id": "bbb9e259-dbb8-45ae-b642-e5cdb2605bab",
   "metadata": {},
   "source": [
    "# sort( ) method"
   ]
  },
  {
   "cell_type": "markdown",
   "id": "9bc844b1-62da-41ee-a061-312f09885275",
   "metadata": {},
   "source": [
    "In the list by default, **insertion order is preserved**. \n",
    "\n",
    "If want to sort the elements of the list according to the **default natural sorting order** then we should go for the **`sort( )`** method.\n",
    "\n",
    "For **`Numbers`**, →  Default Natural sorting Order in Ascending Order.\n",
    "\n",
    "For **`Strings`** → Default Natural sorting order is Alphabetical Order."
   ]
  },
  {
   "cell_type": "code",
   "execution_count": 4,
   "id": "32eeee00-6b70-4d1e-9032-f2381f20b481",
   "metadata": {},
   "outputs": [
    {
     "name": "stdout",
     "output_type": "stream",
     "text": [
      "[0, 5, 10, 15, 20]\n",
      "['Apple', 'Banana', 'Cat', 'Dog']\n"
     ]
    }
   ],
   "source": [
    "n = [20,5,15,10,0]\n",
    "n.sort()\n",
    "print(n)                   # [0,5,10,15,20]\n",
    "\n",
    "s = [\"Dog\",\"Banana\",\"Cat\",\"Apple\"]\n",
    "s.sort()\n",
    "print(s)                   # ['Apple','Banana','Cat','Dog']"
   ]
  },
  {
   "cell_type": "markdown",
   "id": "a0385810-c10d-4e49-bf63-050a84a158ad",
   "metadata": {},
   "source": [
    "> **Note**:\n",
    "> * To use the **`sort( )`** function, the compulsory list should contain only homogeneous elements.\n",
    "> * Otherwise, we will get **TypeError**."
   ]
  },
  {
   "cell_type": "code",
   "execution_count": 5,
   "id": "d13bece4-8d92-409c-a208-75d93a23c8af",
   "metadata": {},
   "outputs": [
    {
     "ename": "TypeError",
     "evalue": "'<' not supported between instances of 'str' and 'int'",
     "output_type": "error",
     "traceback": [
      "\u001b[1;31m---------------------------------------------------------------------------\u001b[0m",
      "\u001b[1;31mTypeError\u001b[0m                                 Traceback (most recent call last)",
      "Cell \u001b[1;32mIn[5], line 2\u001b[0m\n\u001b[0;32m      1\u001b[0m n\u001b[38;5;241m=\u001b[39m[\u001b[38;5;241m20\u001b[39m,\u001b[38;5;241m10\u001b[39m,\u001b[38;5;124m\"\u001b[39m\u001b[38;5;124mA\u001b[39m\u001b[38;5;124m\"\u001b[39m,\u001b[38;5;124m\"\u001b[39m\u001b[38;5;124mB\u001b[39m\u001b[38;5;124m\"\u001b[39m]\n\u001b[1;32m----> 2\u001b[0m \u001b[43mn\u001b[49m\u001b[38;5;241;43m.\u001b[39;49m\u001b[43msort\u001b[49m\u001b[43m(\u001b[49m\u001b[43m)\u001b[49m\n\u001b[0;32m      3\u001b[0m \u001b[38;5;28mprint\u001b[39m(n)    \u001b[38;5;66;03m# TypeError: '<' not supported between instances of 'str' and 'int'\u001b[39;00m\n",
      "\u001b[1;31mTypeError\u001b[0m: '<' not supported between instances of 'str' and 'int'"
     ]
    }
   ],
   "source": [
    "n=[20,10,\"A\",\"B\"]\n",
    "n.sort()\n",
    "print(n)    # TypeError: '<' not supported between instances of 'str' and 'int'"
   ]
  },
  {
   "cell_type": "markdown",
   "id": "ccbc6db3-7915-4d75-8d5d-414eb471e9ed",
   "metadata": {},
   "source": [
    "# To Sort in Reverse of Default Natural Sorting Order"
   ]
  },
  {
   "cell_type": "markdown",
   "id": "69968dfa-5be8-4ed9-8f45-5435e78154f9",
   "metadata": {},
   "source": [
    "We can sort according to the reverse of the default natural sorting order by using the **`reverse=True`** argument."
   ]
  },
  {
   "cell_type": "code",
   "execution_count": 6,
   "id": "2f5e1982-8fae-4c27-a914-ee865f1d5ddf",
   "metadata": {},
   "outputs": [
    {
     "name": "stdout",
     "output_type": "stream",
     "text": [
      "[10, 20, 30, 40]\n",
      "[40, 30, 20, 10]\n",
      "[10, 20, 30, 40]\n"
     ]
    }
   ],
   "source": [
    "n = [40,10,30,20]\n",
    "n.sort()\n",
    "print(n)      # [10,20,30,40]\n",
    "\n",
    "n.sort(reverse = True)\n",
    "print(n)      # [40,30,20,10]\n",
    "\n",
    "n.sort(reverse = False)\n",
    "print(n)      # [10,20,30,40]"
   ]
  },
  {
   "cell_type": "markdown",
   "id": "25e7842c-7c24-4f08-8594-4d4aeafcfc73",
   "metadata": {},
   "source": [
    "# sort( ) list method VS. sorted( ) in-built function"
   ]
  },
  {
   "cell_type": "markdown",
   "id": "e9136ae8-af9b-4647-9851-9cf487ecee1d",
   "metadata": {},
   "source": [
    "**`sort( )`**\n",
    "* List specific method applicable only for list object.\n",
    "* It will not create a new sorted list, instead, it sorts the elements in the existing list.\n",
    "* The return type is **`None`**.\n",
    "\n",
    "**`sorted( )`**\n",
    "* Python in-built function applicable for any type of sequence ( `string`, `list`, `tuple`, `set`, `dictionary` )\n",
    "* It creates and returns a new **sorted list** object.\n",
    "* The return type is the list."
   ]
  },
  {
   "cell_type": "code",
   "execution_count": 7,
   "id": "0fc61014-7726-469a-9b2d-98779b14828f",
   "metadata": {},
   "outputs": [
    {
     "name": "stdout",
     "output_type": "stream",
     "text": [
      "[20, 10, 30, 40]\n",
      "[10, 20, 30, 40]\n"
     ]
    }
   ],
   "source": [
    "l1 = [20,10,30,40]\n",
    "l2 = sorted(l1)\n",
    "\n",
    "print(l1)   # [20,10,30,40]\n",
    "print(l2)   # [10,20,30,40]"
   ]
  },
  {
   "cell_type": "markdown",
   "id": "620df47b-20c5-4035-a9d6-b0cbf12e1b15",
   "metadata": {},
   "source": [
    "# Aliasing"
   ]
  },
  {
   "attachments": {
    "d9f166cc-54ef-4020-8040-ce23d35749b7.png": {
     "image/png": "[encoded data removed]"
    }
   },
   "cell_type": "markdown",
   "id": "5b233fe7-133a-492f-af7a-7ab108c1b2b0",
   "metadata": {},
   "source": [
    "The process of giving another reference variable to the existing list is called **aliasing**.\n",
    "\n",
    "![image.png](attachment:d9f166cc-54ef-4020-8040-ce23d35749b7.png)"
   ]
  },
  {
   "cell_type": "code",
   "execution_count": 8,
   "id": "defa3f84-fe3d-4494-bafb-c5aa61077e26",
   "metadata": {},
   "outputs": [
    {
     "name": "stdout",
     "output_type": "stream",
     "text": [
      "1806811455232\n",
      "1806811455232\n"
     ]
    }
   ],
   "source": [
    "x=[10,20,30,40]\n",
    "y=x\n",
    "print(id(x))    # 3016248\n",
    "print(id(y))    # 3016248"
   ]
  },
  {
   "attachments": {
    "fb95ba4d-74e3-41f0-a82e-4bbe95fc7d81.png": {
     "image/png": "[encoded data removed]"
    }
   },
   "cell_type": "markdown",
   "id": "ebe81397-b432-4a6d-84a7-d1291fa0ec78",
   "metadata": {},
   "source": [
    "The problem in this approach is by using one reference variable if we are changing content, then those changes will be reflected in the other reference variable.\n",
    "\n",
    "![image.png](attachment:fb95ba4d-74e3-41f0-a82e-4bbe95fc7d81.png)"
   ]
  },
  {
   "cell_type": "code",
   "execution_count": 9,
   "id": "75b0f06b-be8b-4c71-b24a-a3f0d4f7f674",
   "metadata": {},
   "outputs": [
    {
     "name": "stdout",
     "output_type": "stream",
     "text": [
      "[10, 777, 30, 40]\n"
     ]
    }
   ],
   "source": [
    "x = [10,20,30,40]\n",
    "y = x\n",
    "y[1] = 777\n",
    "print(x)        # [10,777,30,40]"
   ]
  },
  {
   "cell_type": "markdown",
   "id": "9772faf7-5327-495e-b675-5ab1bb877972",
   "metadata": {},
   "source": [
    "To overcome this problem we should go for **cloning**."
   ]
  },
  {
   "cell_type": "markdown",
   "id": "961bc402-38bc-4566-9e6b-e6d56350a6de",
   "metadata": {},
   "source": [
    "# Cloning"
   ]
  },
  {
   "cell_type": "markdown",
   "id": "48021f83-f1fa-460e-b0e5-b82d1a7a863c",
   "metadata": {},
   "source": [
    "The process of creating an exact duplicate independent object is called **cloning**. \n",
    "We can implement cloning:\n",
    "* by using the **slice operator**\n",
    "* by using **`copy( )`** function "
   ]
  },
  {
   "cell_type": "markdown",
   "id": "9d53cca8-c46b-4a90-b1f7-0cc54a56ac96",
   "metadata": {},
   "source": [
    "## By using the slice operator"
   ]
  },
  {
   "attachments": {
    "860bc8b8-1d8f-4e41-9794-acaf426c46b0.png": {
     "image/png": "[encoded data removed]"
    }
   },
   "cell_type": "markdown",
   "id": "bd212230-499d-4f25-9539-4564ddc870d2",
   "metadata": {},
   "source": [
    "![image.png](attachment:860bc8b8-1d8f-4e41-9794-acaf426c46b0.png)"
   ]
  },
  {
   "cell_type": "code",
   "execution_count": 10,
   "id": "7fbeca48-0962-46ec-8908-bcbb3c2d17dd",
   "metadata": {},
   "outputs": [
    {
     "name": "stdout",
     "output_type": "stream",
     "text": [
      "[10, 20, 30, 40]\n",
      "[10, 777, 30, 40]\n",
      "1806811449664\n",
      "1806805643008\n"
     ]
    }
   ],
   "source": [
    "x = [10,20,30,40]\n",
    "y = x[:]\n",
    "y[1] = 777\n",
    "print(x)    # [10, 20, 30, 40]\n",
    "print(y)    # [10, 777, 30, 40]\n",
    "\n",
    "print(id(x))    # 3016248\n",
    "print(id(y))    # 4016299"
   ]
  },
  {
   "cell_type": "markdown",
   "id": "25455feb-0c40-457c-98ed-8ef613640a0c",
   "metadata": {},
   "source": [
    "## By using copy( ) function"
   ]
  },
  {
   "attachments": {
    "e42aea0f-ca86-4427-9a80-c2d83314f874.png": {
     "image/png": "[encoded data removed]"
    }
   },
   "cell_type": "markdown",
   "id": "8ed20c5f-9110-4b8f-b9fb-1d74a003b499",
   "metadata": {},
   "source": [
    "![image.png](attachment:e42aea0f-ca86-4427-9a80-c2d83314f874.png)"
   ]
  },
  {
   "cell_type": "code",
   "execution_count": 11,
   "id": "c41b2cfc-45ce-4f8b-8e67-5664fb755db5",
   "metadata": {},
   "outputs": [
    {
     "name": "stdout",
     "output_type": "stream",
     "text": [
      "[10, 20, 30, 40]\n",
      "[10, 777, 30, 40]\n",
      "1806811563008\n",
      "1806811530304\n"
     ]
    }
   ],
   "source": [
    "x = [10,20,30,40]\n",
    "y = x.copy()\n",
    "y[1] = 777\n",
    "print(x)    # [10, 20, 30, 40]\n",
    "print(y)    # [10, 777, 30, 40]\n",
    "\n",
    "print(id(x))    # 3016248\n",
    "print(id(y))    # 4016299"
   ]
  },
  {
   "cell_type": "markdown",
   "id": "953663c7-8061-44da-bae2-e37230e8e30f",
   "metadata": {},
   "source": [
    "**Difference between = operator and copy() function?**\n",
    "* The **`=`** Operator meant for **aliasing**.\n",
    "* The **`copy( )`** function is meant for **cloning**."
   ]
  },
  {
   "cell_type": "code",
   "execution_count": null,
   "id": "9e4854c9-e59f-40d1-9e87-4cc155fe4738",
   "metadata": {},
   "outputs": [],
   "source": []
  }
 ],
 "metadata": {
  "kernelspec": {
   "display_name": "Python 3 (ipykernel)",
   "language": "python",
   "name": "python3"
  },
  "language_info": {
   "codemirror_mode": {
    "name": "ipython",
    "version": 3
   },
   "file_extension": ".py",
   "mimetype": "text/x-python",
   "name": "python",
   "nbconvert_exporter": "python",
   "pygments_lexer": "ipython3",
   "version": "3.12.5"
  }
 },
 "nbformat": 4,
 "nbformat_minor": 5
}
