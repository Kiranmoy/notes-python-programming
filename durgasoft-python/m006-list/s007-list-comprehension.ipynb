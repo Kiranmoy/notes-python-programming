{
 "cells": [
  {
   "cell_type": "markdown",
   "id": "212b22c5-46ce-4be6-965f-820050b785df",
   "metadata": {},
   "source": [
    "It is a very easy and compact way of creating list objects from any iterable objects (like **`list`**, **`tuple`**, **`dictionary`**, **`range`**, etc) based on some condition. \n",
    "\n",
    "**SYNTAX:** `list - [ expression for item in list if condition]`"
   ]
  },
  {
   "cell_type": "code",
   "execution_count": 1,
   "id": "64741dc0-6cfd-4940-9f82-28b31c554725",
   "metadata": {},
   "outputs": [
    {
     "name": "stdout",
     "output_type": "stream",
     "text": [
      "[1, 4, 9, 16, 25, 36, 49, 64, 81, 100]\n",
      "[2, 4, 8, 16, 32]\n",
      "[4, 16, 36, 64, 100]\n"
     ]
    }
   ],
   "source": [
    "s = [ x*x for x in range(1,11)]\n",
    "print(s)                          # [1, 4, 9, 16, 25, 36, 49, 64, 81, 100]\n",
    "\n",
    "v = [2**x for x in range(1,6)]\n",
    "print(v)                          # [2, 4, 8, 16, 32]\n",
    "\n",
    "m = [x for x in s if x%2==0]\n",
    "print(m)                          # [4, 16, 36, 64, 100]"
   ]
  },
  {
   "cell_type": "code",
   "execution_count": 2,
   "id": "d1823407-8d5c-4dfb-8ba8-59214a61dee5",
   "metadata": {},
   "outputs": [
    {
     "name": "stdout",
     "output_type": "stream",
     "text": [
      "['B', 'N', 'V', 'C']\n"
     ]
    }
   ],
   "source": [
    "words=[\"Balaiah\",\"Nag\",\"Venkatesh\",\"Chiranjeevi\"]\n",
    "l=[w[0] for w in words]\n",
    "print(l)                  #  ['B', 'N', 'V', 'C']"
   ]
  },
  {
   "cell_type": "code",
   "execution_count": 3,
   "id": "ef88a519-e53b-4b7f-8cd0-6971b09cc3eb",
   "metadata": {},
   "outputs": [
    {
     "name": "stdout",
     "output_type": "stream",
     "text": [
      "['the', 'quick', 'brown', 'fox', 'jumps', 'over', 'the', 'lazy', 'dog']\n",
      "[['THE', 3], ['QUICK', 5], ['BROWN', 5], ['FOX', 3], ['JUMPS', 5], ['OVER', 4], ['THE', 3], ['LAZY', 4], ['DOG', 3]]\n"
     ]
    }
   ],
   "source": [
    "words=\"the quick brown fox jumps over the lazy dog\".split()\n",
    "print(words)\n",
    "l=[[w.upper(),len(w)] for w in words]\n",
    "print(l)"
   ]
  },
  {
   "cell_type": "code",
   "execution_count": null,
   "id": "5798c0b9-0409-4c84-9532-2c0cb4e6d3f8",
   "metadata": {},
   "outputs": [],
   "source": []
  }
 ],
 "metadata": {
  "kernelspec": {
   "display_name": "Python 3 (ipykernel)",
   "language": "python",
   "name": "python3"
  },
  "language_info": {
   "codemirror_mode": {
    "name": "ipython",
    "version": 3
   },
   "file_extension": ".py",
   "mimetype": "text/x-python",
   "name": "python",
   "nbconvert_exporter": "python",
   "pygments_lexer": "ipython3",
   "version": "3.12.5"
  }
 },
 "nbformat": 4,
 "nbformat_minor": 5
}
