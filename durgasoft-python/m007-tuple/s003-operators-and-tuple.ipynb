{
 "cells": [
  {
   "cell_type": "markdown",
   "id": "dfd0d6d9-859f-4564-8950-addfa56053b8",
   "metadata": {},
   "source": [
    "# Concatenation Operator (+)"
   ]
  },
  {
   "cell_type": "markdown",
   "id": "2d9b8294-f03d-48a2-a9a6-c98dfd24fa63",
   "metadata": {},
   "source": [
    "We can use the **`+`** operator to concatenate 2 tuples into a single tuple"
   ]
  },
  {
   "cell_type": "code",
   "execution_count": 1,
   "id": "d1661ecd-1946-4e1b-b1a5-f75219afd6bb",
   "metadata": {},
   "outputs": [
    {
     "name": "stdout",
     "output_type": "stream",
     "text": [
      "(10, 20, 30, 40, 50, 60)\n"
     ]
    }
   ],
   "source": [
    "t1=(10,20,30)\n",
    "t2=(40,50,60)\n",
    "t3=t1+t2\n",
    "\n",
    "print(t3)     #  (10,20,30,40,50,60)"
   ]
  },
  {
   "cell_type": "code",
   "execution_count": 2,
   "id": "86e29c99-3c30-4fc7-8712-1605e730b8d0",
   "metadata": {},
   "outputs": [
    {
     "ename": "TypeError",
     "evalue": "can only concatenate tuple (not \"int\") to tuple",
     "output_type": "error",
     "traceback": [
      "\u001b[1;31m---------------------------------------------------------------------------\u001b[0m",
      "\u001b[1;31mTypeError\u001b[0m                                 Traceback (most recent call last)",
      "Cell \u001b[1;32mIn[2], line 1\u001b[0m\n\u001b[1;32m----> 1\u001b[0m t4 \u001b[38;5;241m=\u001b[39m \u001b[43mt1\u001b[49m\u001b[43m \u001b[49m\u001b[38;5;241;43m+\u001b[39;49m\u001b[43m \u001b[49m\u001b[38;5;241;43m10\u001b[39;49m      \u001b[38;5;66;03m# TypeError: can only concatenate tuple (not \"int\") to tuple.\u001b[39;00m\n",
      "\u001b[1;31mTypeError\u001b[0m: can only concatenate tuple (not \"int\") to tuple"
     ]
    }
   ],
   "source": [
    "t4 = t1 + 10      # TypeError: can only concatenate tuple (not \"int\") to tuple."
   ]
  },
  {
   "cell_type": "code",
   "execution_count": 3,
   "id": "ff22a798-2261-4cc6-969c-ef61b16f58b1",
   "metadata": {},
   "outputs": [
    {
     "ename": "TypeError",
     "evalue": "can only concatenate tuple (not \"list\") to tuple",
     "output_type": "error",
     "traceback": [
      "\u001b[1;31m---------------------------------------------------------------------------\u001b[0m",
      "\u001b[1;31mTypeError\u001b[0m                                 Traceback (most recent call last)",
      "Cell \u001b[1;32mIn[3], line 1\u001b[0m\n\u001b[1;32m----> 1\u001b[0m t4 \u001b[38;5;241m=\u001b[39m \u001b[43mt1\u001b[49m\u001b[43m \u001b[49m\u001b[38;5;241;43m+\u001b[39;49m\u001b[43m \u001b[49m\u001b[43m[\u001b[49m\u001b[38;5;241;43m10\u001b[39;49m\u001b[43m,\u001b[49m\u001b[38;5;241;43m20\u001b[39;49m\u001b[43m]\u001b[49m    \u001b[38;5;66;03m# TypeError: can only concatenate tuple (not \"list\") to tuple.\u001b[39;00m\n",
      "\u001b[1;31mTypeError\u001b[0m: can only concatenate tuple (not \"list\") to tuple"
     ]
    }
   ],
   "source": [
    "t4 = t1 + [10,20]    # TypeError: can only concatenate tuple (not \"list\") to tuple."
   ]
  },
  {
   "cell_type": "markdown",
   "id": "9f49a54f-87f8-433e-a37e-19653ab2cefd",
   "metadata": {},
   "source": [
    "> **Note:** To use the **`+`** operator compulsory both arguments should be tuple objects, otherwise, we will get **TypeError**"
   ]
  },
  {
   "cell_type": "markdown",
   "id": "2c99cd39-a132-48f2-bb2b-b094f0ced39a",
   "metadata": {},
   "source": [
    "# Multiplication Operator OR Repetition Operator (*)"
   ]
  },
  {
   "cell_type": "markdown",
   "id": "cccc9f65-291c-4451-bb62-9c94231ce482",
   "metadata": {},
   "source": [
    "We can use the repetition operator **`*`** to repeat elements of the tuple a specified number of times."
   ]
  },
  {
   "cell_type": "code",
   "execution_count": 5,
   "id": "3d756d2b-856b-4079-baaf-2356087d2c87",
   "metadata": {},
   "outputs": [
    {
     "name": "stdout",
     "output_type": "stream",
     "text": [
      "(10, 20, 30, 10, 20, 30, 10, 20, 30)\n"
     ]
    }
   ],
   "source": [
    "t1=(10,20,30)\n",
    "t2=t1*3\n",
    "\n",
    "print(t2)       # (10,20,30,10,20,30,10,20,30)"
   ]
  },
  {
   "cell_type": "code",
   "execution_count": 6,
   "id": "bcc7f31f-6d91-4ee4-8633-a9beec2ba5f1",
   "metadata": {},
   "outputs": [
    {
     "ename": "TypeError",
     "evalue": "can't multiply sequence by non-int of type 'float'",
     "output_type": "error",
     "traceback": [
      "\u001b[1;31m---------------------------------------------------------------------------\u001b[0m",
      "\u001b[1;31mTypeError\u001b[0m                                 Traceback (most recent call last)",
      "Cell \u001b[1;32mIn[6], line 1\u001b[0m\n\u001b[1;32m----> 1\u001b[0m \u001b[38;5;28mprint\u001b[39m(\u001b[43mt1\u001b[49m\u001b[43m \u001b[49m\u001b[38;5;241;43m*\u001b[39;49m\u001b[43m \u001b[49m\u001b[38;5;241;43m2.0\u001b[39;49m)    \u001b[38;5;66;03m# TypeError: can't multiply sequence by non-int of type 'float'.\u001b[39;00m\n",
      "\u001b[1;31mTypeError\u001b[0m: can't multiply sequence by non-int of type 'float'"
     ]
    }
   ],
   "source": [
    "print(t1 * 2.0)    # TypeError: can't multiply sequence by non-int of type 'float'."
   ]
  },
  {
   "cell_type": "code",
   "execution_count": 7,
   "id": "7d7ffcf3-459f-4e12-913f-27fec0ac48b1",
   "metadata": {},
   "outputs": [
    {
     "ename": "TypeError",
     "evalue": "can't multiply sequence by non-int of type 'tuple'",
     "output_type": "error",
     "traceback": [
      "\u001b[1;31m---------------------------------------------------------------------------\u001b[0m",
      "\u001b[1;31mTypeError\u001b[0m                                 Traceback (most recent call last)",
      "Cell \u001b[1;32mIn[7], line 1\u001b[0m\n\u001b[1;32m----> 1\u001b[0m \u001b[38;5;28mprint\u001b[39m(\u001b[43mt1\u001b[49m\u001b[43m \u001b[49m\u001b[38;5;241;43m*\u001b[39;49m\u001b[43m \u001b[49m\u001b[43mt2\u001b[49m)      \u001b[38;5;66;03m# TypeError: can't multiply sequence by non-int of type 'tuple'.\u001b[39;00m\n",
      "\u001b[1;31mTypeError\u001b[0m: can't multiply sequence by non-int of type 'tuple'"
     ]
    }
   ],
   "source": [
    "print(t1 * t2)      # TypeError: can't multiply sequence by non-int of type 'tuple'."
   ]
  },
  {
   "cell_type": "markdown",
   "id": "ac2dd7ff-832c-47d8-96e3-d4addca550ad",
   "metadata": {},
   "source": [
    "> **Note:** To use the **`*`** operator compulsory one argument should be a tuple object and another argument should be an int, otherwise, we will get **TypeError**."
   ]
  },
  {
   "cell_type": "markdown",
   "id": "b9e22303-b184-4e04-ac59-4a84c7aebee7",
   "metadata": {},
   "source": [
    "# Equality Operators ( ==, != )"
   ]
  },
  {
   "cell_type": "markdown",
   "id": "7efc2547-2219-451d-b5f6-247bcdad5cbc",
   "metadata": {},
   "source": [
    "We can use equality operators for tuple objects.\n",
    "\n",
    "Whenever we are using **equality operators (`==`, `!=`)** for tuple objects then the following should be considered:\n",
    "* The Number of Elements\n",
    "* The Order of Elements\n",
    "* The Content of Elements (Case Sensitive)\n",
    "\n",
    "If all three criteria were met then only the **`==`** operator returns **`True`**, else returns **`False`**."
   ]
  },
  {
   "cell_type": "code",
   "execution_count": 9,
   "id": "f9e4ed54-cfd1-4651-870a-1f86ed94f189",
   "metadata": {},
   "outputs": [
    {
     "name": "stdout",
     "output_type": "stream",
     "text": [
      "True\n",
      "False\n",
      "True\n",
      "False\n"
     ]
    }
   ],
   "source": [
    "x = (\"Dog\", \"Cat\", \"Rat\")\n",
    "y = (\"Dog\", \"Cat\", \"Rat\")\n",
    "z = (\"DOG\", \"CAT\", \"RAT\")\n",
    "a = (\"Rat\", \"Dog\", \"Cat\")\n",
    "\n",
    "print(x == y) # True\n",
    "print(x == z) # False\n",
    "print(x != z) # True\n",
    "print(x == a) # False"
   ]
  },
  {
   "cell_type": "markdown",
   "id": "8ca535cc-46f5-4b0e-b784-62085d2745e1",
   "metadata": {},
   "source": [
    "# Relational Operators ( <, <=, > >= )"
   ]
  },
  {
   "cell_type": "markdown",
   "id": "9fb039b2-d2c8-414e-ab31-a44309c864cb",
   "metadata": {},
   "source": [
    "We can use relational operators for tuple objects.\n",
    "\n",
    "Whenever we are using **relational operators (`<`, `<=`, `>`, `>=`)** between tuple objects, the result will be determined on the basis of content comparison, **the number of elements is not at all important**.\n",
    "\n",
    "If the result cannot be determined based on the content of the first elements of both the list then it check for the second elements and so on."
   ]
  },
  {
   "cell_type": "code",
   "execution_count": 10,
   "id": "c1692528-9556-4222-9785-f46ea51934b6",
   "metadata": {},
   "outputs": [
    {
     "name": "stdout",
     "output_type": "stream",
     "text": [
      "True\n",
      "True\n",
      "False\n",
      "False\n"
     ]
    }
   ],
   "source": [
    "x = (50, 20, 30)\n",
    "y = (40, 50, 60, 100, 200)\n",
    "\n",
    "print(x>y)    # True\n",
    "print(x>=y)   # True\n",
    "print(x<y)    # False\n",
    "print(x<=y)   # False"
   ]
  },
  {
   "cell_type": "code",
   "execution_count": 11,
   "id": "78cffadd-454f-427e-91c1-3ba681da96d5",
   "metadata": {},
   "outputs": [
    {
     "name": "stdout",
     "output_type": "stream",
     "text": [
      "False\n",
      "False\n",
      "True\n",
      "True\n"
     ]
    }
   ],
   "source": [
    "x = (\"Dog\", \"Cat\", \"Rat\")\n",
    "y = (\"Rat\", \"Cat\", \"Dog\")\n",
    "print(x>y)    # False\n",
    "print(x>=y)   # False\n",
    "print(x<y)    # True\n",
    "print(x<=y)   # True"
   ]
  },
  {
   "cell_type": "markdown",
   "id": "46b8642f-d5c6-4448-b9bc-496b532fd6de",
   "metadata": {},
   "source": [
    "# Membership Operator ( in, not in )"
   ]
  },
  {
   "cell_type": "markdown",
   "id": "c49b9aab-8c30-46ac-b040-62f802e76d36",
   "metadata": {},
   "source": [
    "We can check whether the element is a member of the tuple or not by using membership operators.\n",
    "* **`in`** Operator\n",
    "* **`not in`** Operator"
   ]
  },
  {
   "cell_type": "code",
   "execution_count": 12,
   "id": "94d9ed5e-0d20-44ce-ba0d-baea5b6ee3ab",
   "metadata": {},
   "outputs": [
    {
     "name": "stdout",
     "output_type": "stream",
     "text": [
      "True\n",
      "False\n",
      "False\n",
      "True\n"
     ]
    }
   ],
   "source": [
    "n = (10,20,30,40)\n",
    "\n",
    "print (10 in n)       # True\n",
    "print (10 not in n)   # False\n",
    "print (50 in n)       # False\n",
    "print (50 not in n)   # True"
   ]
  },
  {
   "cell_type": "code",
   "execution_count": null,
   "id": "ad34831a-c3fc-469c-9463-5282cb0c7a0a",
   "metadata": {},
   "outputs": [],
   "source": []
  }
 ],
 "metadata": {
  "kernelspec": {
   "display_name": "Python 3 (ipykernel)",
   "language": "python",
   "name": "python3"
  },
  "language_info": {
   "codemirror_mode": {
    "name": "ipython",
    "version": 3
   },
   "file_extension": ".py",
   "mimetype": "text/x-python",
   "name": "python",
   "nbconvert_exporter": "python",
   "pygments_lexer": "ipython3",
   "version": "3.12.5"
  }
 },
 "nbformat": 4,
 "nbformat_minor": 5
}
