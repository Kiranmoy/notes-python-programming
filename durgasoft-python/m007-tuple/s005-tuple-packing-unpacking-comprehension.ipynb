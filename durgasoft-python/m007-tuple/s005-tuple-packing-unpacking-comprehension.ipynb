{
 "cells": [
  {
   "cell_type": "markdown",
   "id": "e9f67f98-79cd-4a0f-9498-026e27348932",
   "metadata": {},
   "source": [
    "# Tuple Packing and Unpacking"
   ]
  },
  {
   "cell_type": "markdown",
   "id": "19a3f7a6-2ca5-4137-8e29-6d375eb46940",
   "metadata": {},
   "source": [
    "We can create a tuple by packing a group of variables."
   ]
  },
  {
   "cell_type": "code",
   "execution_count": 1,
   "id": "c455fd38-9bd5-4083-a10f-c0324f6b7e9e",
   "metadata": {},
   "outputs": [
    {
     "name": "stdout",
     "output_type": "stream",
     "text": [
      "(10, 20, 30, 40)\n"
     ]
    }
   ],
   "source": [
    "a = 10\n",
    "b = 20\n",
    "c = 30\n",
    "d = 40\n",
    "\n",
    "t = a, b, c, d\n",
    "print(t)        # (10, 20, 30, 40)"
   ]
  },
  {
   "cell_type": "markdown",
   "id": "b5b1cb47-fb24-476f-8b23-c3f57ccc1996",
   "metadata": {},
   "source": [
    "* Here a, b, c, and d are packed into a Tuple **`t`**. \n",
    "* This is nothing but **Tuple packing**.\n",
    "* **Tuple unpacking** is the reverse process of Tuple packing. \n",
    "* Similarly, we can unpack a Tuple and assign its values to different variables. "
   ]
  },
  {
   "cell_type": "code",
   "execution_count": 2,
   "id": "5c9b8d55-c01b-4f0b-9f6b-de69cc60035b",
   "metadata": {},
   "outputs": [
    {
     "name": "stdout",
     "output_type": "stream",
     "text": [
      "a= 10 b= 20 c= 30 d= 40\n"
     ]
    }
   ],
   "source": [
    "t=(10,20,30,40)\n",
    "a,b,c,d=t\n",
    "print(\"a=\",a,\"b=\",b,\"c=\",c,\"d=\",d)    # a= 10 b= 20 c= 30 d= 40"
   ]
  },
  {
   "cell_type": "markdown",
   "id": "5ef2e71e-8ed6-4492-b4c2-c60f87a1f5fb",
   "metadata": {},
   "source": [
    "> **Note**: At the time of tuple unpacking the number of variables and the number of values should be the same, otherwise, we will get **ValueError**."
   ]
  },
  {
   "cell_type": "code",
   "execution_count": 3,
   "id": "c3ab2505-da61-4df4-aaef-96db2573ee00",
   "metadata": {},
   "outputs": [
    {
     "ename": "ValueError",
     "evalue": "too many values to unpack (expected 3)",
     "output_type": "error",
     "traceback": [
      "\u001b[1;31m---------------------------------------------------------------------------\u001b[0m",
      "\u001b[1;31mValueError\u001b[0m                                Traceback (most recent call last)",
      "Cell \u001b[1;32mIn[3], line 2\u001b[0m\n\u001b[0;32m      1\u001b[0m t \u001b[38;5;241m=\u001b[39m (\u001b[38;5;241m10\u001b[39m,\u001b[38;5;241m20\u001b[39m,\u001b[38;5;241m30\u001b[39m,\u001b[38;5;241m40\u001b[39m)\n\u001b[1;32m----> 2\u001b[0m a, b, c \u001b[38;5;241m=\u001b[39m t             \u001b[38;5;66;03m# ValueError: too many values to unpack (expected 3)\u001b[39;00m\n",
      "\u001b[1;31mValueError\u001b[0m: too many values to unpack (expected 3)"
     ]
    }
   ],
   "source": [
    "t = (10,20,30,40)\n",
    "a, b, c = t             # ValueError: too many values to unpack (expected 3)"
   ]
  },
  {
   "cell_type": "code",
   "execution_count": 4,
   "id": "3fcd4b44-1dec-4e47-b70f-46874ace0c26",
   "metadata": {},
   "outputs": [
    {
     "ename": "ValueError",
     "evalue": "not enough values to unpack (expected 5, got 4)",
     "output_type": "error",
     "traceback": [
      "\u001b[1;31m---------------------------------------------------------------------------\u001b[0m",
      "\u001b[1;31mValueError\u001b[0m                                Traceback (most recent call last)",
      "Cell \u001b[1;32mIn[4], line 1\u001b[0m\n\u001b[1;32m----> 1\u001b[0m a, b, c, d, e \u001b[38;5;241m=\u001b[39m t       \u001b[38;5;66;03m# ValueError: not enough values to unpack (expected 5, got 4)\u001b[39;00m\n",
      "\u001b[1;31mValueError\u001b[0m: not enough values to unpack (expected 5, got 4)"
     ]
    }
   ],
   "source": [
    "a, b, c, d, e = t       # ValueError: not enough values to unpack (expected 5, got 4)"
   ]
  },
  {
   "cell_type": "markdown",
   "id": "e8acb643-4420-47a3-a000-89d3300065b2",
   "metadata": {},
   "source": [
    "## Special Scenario: usage of variable-length argument"
   ]
  },
  {
   "cell_type": "code",
   "execution_count": 5,
   "id": "5f1ab9dc-ec05-4b7c-a997-8a3e5b207757",
   "metadata": {},
   "outputs": [
    {
     "name": "stdout",
     "output_type": "stream",
     "text": [
      "10\n",
      "[20, 30, 40]\n"
     ]
    }
   ],
   "source": [
    "t = (10,20,30,40)\n",
    "a, *b = t        # *b is variable-length argument which will store remaining values in list.\n",
    "\n",
    "print(a)    # 10\n",
    "print(b)    # [20,30,40]"
   ]
  },
  {
   "cell_type": "markdown",
   "id": "d747361c-76cd-48f6-9ccf-3315ea387662",
   "metadata": {},
   "source": [
    "# Tuple Comprehension"
   ]
  },
  {
   "cell_type": "markdown",
   "id": "806a96be-311f-4fb9-88b7-4ebce0a13cd5",
   "metadata": {},
   "source": [
    "Tuple Comprehension is **not supported** by Python. \n",
    "\n",
    "`t = ( x**2 for x in range(1,6))` \n",
    "\n",
    "Here we are not getting a **tuple** object. we are getting a **generator** object."
   ]
  },
  {
   "cell_type": "code",
   "execution_count": null,
   "id": "58bbd561-2465-4c5c-b530-6cb08c41afd9",
   "metadata": {},
   "outputs": [],
   "source": []
  }
 ],
 "metadata": {
  "kernelspec": {
   "display_name": "Python 3 (ipykernel)",
   "language": "python",
   "name": "python3"
  },
  "language_info": {
   "codemirror_mode": {
    "name": "ipython",
    "version": 3
   },
   "file_extension": ".py",
   "mimetype": "text/x-python",
   "name": "python",
   "nbconvert_exporter": "python",
   "pygments_lexer": "ipython3",
   "version": "3.12.5"
  }
 },
 "nbformat": 4,
 "nbformat_minor": 5
}
