{
 "cells": [
  {
   "cell_type": "markdown",
   "id": "0e4564b1-004e-482b-bb06-3cc1e5d1a6c3",
   "metadata": {},
   "source": [
    "# Set properties"
   ]
  },
  {
   "attachments": {
    "345daed6-f74c-4bfb-80bd-b7bf43fb68fb.png": {
     "image/png": "[encoded data removed]"
    }
   },
   "cell_type": "markdown",
   "id": "464ffafe-e590-46d6-9b7b-79b1f78d9e4d",
   "metadata": {},
   "source": [
    "* If we want to represent a group of unique values as a single entity then we should go for set.\n",
    "* Duplicates are not allowed.\n",
    "* Insertion order is not preserved. But we can sort the elements.\n",
    "* Indexing and slicing are not allowed for the set.\n",
    "* Heterogeneous elements are allowed.\n",
    "* Set objects are mutable.\n",
    "* That is, once we create a set object we can perform any changes in that object based on our requirements.\n",
    "* We can represent set elements within **curly braces `{ }`** and with comma separation.\n",
    "* We can apply mathematical operations like union, intersection, difference, etc on set objects.\n",
    "\n",
    "![image.png](attachment:345daed6-f74c-4bfb-80bd-b7bf43fb68fb.png)"
   ]
  },
  {
   "cell_type": "markdown",
   "id": "3bdd77ea-20e0-4d06-9178-65f67145b01d",
   "metadata": {},
   "source": [
    "# Set Objects won't support indexing and slicing"
   ]
  },
  {
   "cell_type": "code",
   "execution_count": 1,
   "id": "a100a345-e22e-4866-8d0e-cfa214013e54",
   "metadata": {},
   "outputs": [
    {
     "ename": "TypeError",
     "evalue": "'set' object is not subscriptable",
     "output_type": "error",
     "traceback": [
      "\u001b[1;31m---------------------------------------------------------------------------\u001b[0m",
      "\u001b[1;31mTypeError\u001b[0m                                 Traceback (most recent call last)",
      "Cell \u001b[1;32mIn[1], line 2\u001b[0m\n\u001b[0;32m      1\u001b[0m s \u001b[38;5;241m=\u001b[39m {\u001b[38;5;241m10\u001b[39m,\u001b[38;5;241m20\u001b[39m,\u001b[38;5;241m30\u001b[39m,\u001b[38;5;241m40\u001b[39m}\n\u001b[1;32m----> 2\u001b[0m \u001b[38;5;28mprint\u001b[39m(\u001b[43ms\u001b[49m\u001b[43m[\u001b[49m\u001b[38;5;241;43m0\u001b[39;49m\u001b[43m]\u001b[49m)         \u001b[38;5;66;03m# TypeError: 'set' object does not support indexing\u001b[39;00m\n",
      "\u001b[1;31mTypeError\u001b[0m: 'set' object is not subscriptable"
     ]
    }
   ],
   "source": [
    "s = {10,20,30,40}\n",
    "print(s[0])         # TypeError: 'set' object does not support indexing"
   ]
  },
  {
   "cell_type": "code",
   "execution_count": 2,
   "id": "f76657dc-21ad-4a37-bc96-0dee208c5aab",
   "metadata": {},
   "outputs": [
    {
     "ename": "TypeError",
     "evalue": "'set' object is not subscriptable",
     "output_type": "error",
     "traceback": [
      "\u001b[1;31m---------------------------------------------------------------------------\u001b[0m",
      "\u001b[1;31mTypeError\u001b[0m                                 Traceback (most recent call last)",
      "Cell \u001b[1;32mIn[2], line 1\u001b[0m\n\u001b[1;32m----> 1\u001b[0m \u001b[38;5;28mprint\u001b[39m(\u001b[43ms\u001b[49m\u001b[43m[\u001b[49m\u001b[38;5;241;43m1\u001b[39;49m\u001b[43m:\u001b[49m\u001b[38;5;241;43m3\u001b[39;49m\u001b[43m]\u001b[49m)       \u001b[38;5;66;03m# TypeError: 'set' object is not subscriptable\u001b[39;00m\n",
      "\u001b[1;31mTypeError\u001b[0m: 'set' object is not subscriptable"
     ]
    }
   ],
   "source": [
    "print(s[1:3])       # TypeError: 'set' object is not subscriptable"
   ]
  },
  {
   "cell_type": "markdown",
   "id": "0a9e3212-14cd-488c-9e74-522176764fd0",
   "metadata": {},
   "source": [
    "# Empty Set"
   ]
  },
  {
   "cell_type": "markdown",
   "id": "cfc48b66-7aed-4269-9ad2-f489312ad4b3",
   "metadata": {},
   "source": [
    "While creating an empty set we have to take special care.\n",
    "\n",
    "Compulsory we should use the **`set( )`** function.\n",
    "\n",
    "**`s = { }`** →  It is treated as a dictionary but not an empty set."
   ]
  },
  {
   "cell_type": "code",
   "execution_count": 3,
   "id": "b4bd3bb3-1525-4470-a959-1549837be85e",
   "metadata": {},
   "outputs": [
    {
     "name": "stdout",
     "output_type": "stream",
     "text": [
      "{}\n",
      "<class 'dict'>\n",
      "set()\n",
      "<class 'set'>\n",
      "{10, 'a', 20, 'Z'}\n"
     ]
    }
   ],
   "source": [
    "s1 = {}\n",
    "print(s1)        # {}\n",
    "print(type(s1))  # <class 'dict'>\n",
    "\n",
    "s2 = set()\n",
    "print(s2)        # set()\n",
    "print(type(s2))  # <class 'set'>\n",
    "\n",
    "s2.add(10)\n",
    "s2.add('Z')\n",
    "s2.add('a')\n",
    "s2.add(20)\n",
    "s2.add(10)\n",
    "print(s2)        # {10,20,'Z','a'}"
   ]
  },
  {
   "cell_type": "markdown",
   "id": "3c26794d-a76f-4f45-b326-3919de7309ee",
   "metadata": {},
   "source": [
    "# Creating a Set object when data is known"
   ]
  },
  {
   "cell_type": "code",
   "execution_count": 4,
   "id": "dfe67151-1151-44ea-8f0f-202e830030c0",
   "metadata": {},
   "outputs": [
    {
     "name": "stdout",
     "output_type": "stream",
     "text": [
      "{40, 10, 20, 30}\n",
      "<class 'set'>\n"
     ]
    }
   ],
   "source": [
    " s = {10,20,30,40}\n",
    " print(s)\n",
    " print(type(s))   # {10,20,30,40}"
   ]
  },
  {
   "cell_type": "markdown",
   "id": "969932db-3102-496f-a83e-7e8915e486d2",
   "metadata": {},
   "source": [
    "# Creating Set Object using set( ) function"
   ]
  },
  {
   "cell_type": "markdown",
   "id": "20abd691-3d0f-4347-9c3f-a8f930d98e45",
   "metadata": {},
   "source": [
    "We can create set objects by using the **`set( )`** function.\n",
    "\n",
    "**`s = set(any sequence)`**"
   ]
  },
  {
   "cell_type": "code",
   "execution_count": 5,
   "id": "35b19951-d427-4522-9e7b-5d7eb1855bac",
   "metadata": {},
   "outputs": [
    {
     "name": "stdout",
     "output_type": "stream",
     "text": [
      "{10, 'a', 20, 'Z'}\n"
     ]
    }
   ],
   "source": [
    "s = set()\n",
    "s.add(10)\n",
    "s.add('Z')\n",
    "s.add('a')\n",
    "s.add(20)\n",
    "s.add(10)\n",
    "print(s)        # {10,20,'Z','a'}"
   ]
  },
  {
   "cell_type": "code",
   "execution_count": 6,
   "id": "6708c3e4-e2b5-41fd-8cc9-9b16b77e1421",
   "metadata": {},
   "outputs": [
    {
     "name": "stdout",
     "output_type": "stream",
     "text": [
      "{40, 10, 20, 30}\n"
     ]
    }
   ],
   "source": [
    "l = [10,20,30,40,10,20,10]\n",
    "s=set(l)\n",
    "print(s) # {40, 10, 20, 30}"
   ]
  },
  {
   "cell_type": "code",
   "execution_count": 7,
   "id": "fdc66a50-c232-49db-8ef9-09c8e5db102d",
   "metadata": {},
   "outputs": [
    {
     "name": "stdout",
     "output_type": "stream",
     "text": [
      "{0, 1, 2, 3, 4}\n",
      "{'p', 'a', 'l', 'e'}\n"
     ]
    }
   ],
   "source": [
    "s = set(range(5))\n",
    "print(s)          # {0, 1, 2, 3, 4}\n",
    "\n",
    "s = set('apple')\n",
    "print(s)          # {'a', 'p', 'l', 'e'}"
   ]
  },
  {
   "cell_type": "markdown",
   "id": "bce11c6f-bc81-4223-8503-3313b28c8f48",
   "metadata": {},
   "source": [
    "# Dynamic Input"
   ]
  },
  {
   "cell_type": "markdown",
   "id": "ec34704c-66bb-4a95-b6de-c88d63b8ce29",
   "metadata": {},
   "source": [
    "The **`input( )`** function always returns the string type. we need to explicitly convert it to a set object using **`eval( )`** function."
   ]
  },
  {
   "cell_type": "code",
   "execution_count": 8,
   "id": "d0f5a5e8-13e2-4e06-bc3d-5de83f1fa091",
   "metadata": {},
   "outputs": [
    {
     "name": "stdin",
     "output_type": "stream",
     "text": [
      "Enter set values {10, 20, 30}\n"
     ]
    },
    {
     "name": "stdout",
     "output_type": "stream",
     "text": [
      "<class 'set'>\n",
      "{10, 20, 30}\n"
     ]
    }
   ],
   "source": [
    "s = eval( input('Enter set values') )   # {10, 20, 30}\n",
    "print(type(s))        # <class 'set'>\n",
    "print(s)              # {10, 20, 30}"
   ]
  },
  {
   "cell_type": "code",
   "execution_count": null,
   "id": "c1ee104a-1840-469a-93cb-d4d03b7b3cf2",
   "metadata": {},
   "outputs": [],
   "source": []
  }
 ],
 "metadata": {
  "kernelspec": {
   "display_name": "Python 3 (ipykernel)",
   "language": "python",
   "name": "python3"
  },
  "language_info": {
   "codemirror_mode": {
    "name": "ipython",
    "version": 3
   },
   "file_extension": ".py",
   "mimetype": "text/x-python",
   "name": "python",
   "nbconvert_exporter": "python",
   "pygments_lexer": "ipython3",
   "version": "3.12.5"
  }
 },
 "nbformat": 4,
 "nbformat_minor": 5
}
