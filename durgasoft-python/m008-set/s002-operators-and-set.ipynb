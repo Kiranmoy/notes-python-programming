{
 "cells": [
  {
   "cell_type": "markdown",
   "id": "f4e66f2d-4627-4d2e-8ba1-97ca02fd5c90",
   "metadata": {},
   "source": [
    "# Mathematical Operators"
   ]
  },
  {
   "cell_type": "markdown",
   "id": "7114028f-1ef2-418a-8b2c-012c2e2295e9",
   "metadata": {},
   "source": [
    "Mathematical operators are not applicable to set objects."
   ]
  },
  {
   "cell_type": "code",
   "execution_count": 1,
   "id": "90a50009-6622-4424-b411-d122eefc106d",
   "metadata": {},
   "outputs": [
    {
     "ename": "TypeError",
     "evalue": "unsupported operand type(s) for +: 'set' and 'set'",
     "output_type": "error",
     "traceback": [
      "\u001b[1;31m---------------------------------------------------------------------------\u001b[0m",
      "\u001b[1;31mTypeError\u001b[0m                                 Traceback (most recent call last)",
      "Cell \u001b[1;32mIn[1], line 4\u001b[0m\n\u001b[0;32m      1\u001b[0m s1 \u001b[38;5;241m=\u001b[39m {\u001b[38;5;241m10\u001b[39m,\u001b[38;5;241m20\u001b[39m,\u001b[38;5;241m30\u001b[39m}\n\u001b[0;32m      2\u001b[0m s2 \u001b[38;5;241m=\u001b[39m {\u001b[38;5;241m40\u001b[39m,\u001b[38;5;241m50\u001b[39m,\u001b[38;5;241m60\u001b[39m}\n\u001b[1;32m----> 4\u001b[0m s3 \u001b[38;5;241m=\u001b[39m \u001b[43ms1\u001b[49m\u001b[43m \u001b[49m\u001b[38;5;241;43m+\u001b[39;49m\u001b[43m \u001b[49m\u001b[43ms2\u001b[49m    \u001b[38;5;66;03m# TypeError: unsupported operand type(s) for +: 'set' and 'set'\u001b[39;00m\n",
      "\u001b[1;31mTypeError\u001b[0m: unsupported operand type(s) for +: 'set' and 'set'"
     ]
    }
   ],
   "source": [
    "s1 = {10,20,30}\n",
    "s2 = {40,50,60}\n",
    "\n",
    "s3 = s1 + s2    # TypeError: unsupported operand type(s) for +: 'set' and 'set'"
   ]
  },
  {
   "cell_type": "code",
   "execution_count": 2,
   "id": "9cb68fe9-b449-448f-8134-16dd518b0630",
   "metadata": {},
   "outputs": [
    {
     "ename": "TypeError",
     "evalue": "unsupported operand type(s) for *: 'set' and 'int'",
     "output_type": "error",
     "traceback": [
      "\u001b[1;31m---------------------------------------------------------------------------\u001b[0m",
      "\u001b[1;31mTypeError\u001b[0m                                 Traceback (most recent call last)",
      "Cell \u001b[1;32mIn[2], line 1\u001b[0m\n\u001b[1;32m----> 1\u001b[0m s3 \u001b[38;5;241m=\u001b[39m \u001b[43ms1\u001b[49m\u001b[43m \u001b[49m\u001b[38;5;241;43m*\u001b[39;49m\u001b[43m \u001b[49m\u001b[38;5;241;43m3\u001b[39;49m     \u001b[38;5;66;03m# TypeError: unsupported operand type(s) for *: 'set' and 'int'\u001b[39;00m\n",
      "\u001b[1;31mTypeError\u001b[0m: unsupported operand type(s) for *: 'set' and 'int'"
     ]
    }
   ],
   "source": [
    "s3 = s1 * 3     # TypeError: unsupported operand type(s) for *: 'set' and 'int'"
   ]
  },
  {
   "cell_type": "markdown",
   "id": "afad9871-498b-439f-8d32-881576577795",
   "metadata": {},
   "source": [
    "# Equality Operators"
   ]
  },
  {
   "cell_type": "markdown",
   "id": "50453760-8800-4755-8fea-ac281c208049",
   "metadata": {},
   "source": [
    "For **`==`** operators, two set objects are equal, if they both contain\n",
    "* the same elements\n",
    "* the same number of elements\n",
    "* order is not important"
   ]
  },
  {
   "cell_type": "code",
   "execution_count": 3,
   "id": "60d11f38-afbc-410d-8783-12281cd24bcc",
   "metadata": {},
   "outputs": [
    {
     "name": "stdout",
     "output_type": "stream",
     "text": [
      "True\n",
      "False\n"
     ]
    }
   ],
   "source": [
    "s1 = {10,20,30}\n",
    "s2 = {30,10,20}\n",
    "\n",
    "print(s1 == s2)     # True\n",
    "print(s1 != s2)     # False"
   ]
  },
  {
   "cell_type": "markdown",
   "id": "1327ded4-7c2d-4554-a5ce-f851f2548fb9",
   "metadata": {},
   "source": [
    "# Relational Operators"
   ]
  },
  {
   "cell_type": "markdown",
   "id": "b38863d0-f35d-4003-a8b3-2b42e0b638d9",
   "metadata": {},
   "source": [
    "Relational operators are applicable for the set object but don’t have proper logic. ***(Not Meaning fully implemented)***"
   ]
  },
  {
   "cell_type": "code",
   "execution_count": 4,
   "id": "3813d0ae-6da4-40eb-8c34-88259a70c390",
   "metadata": {},
   "outputs": [
    {
     "name": "stdout",
     "output_type": "stream",
     "text": [
      "False\n",
      "False\n",
      "False\n",
      "False\n"
     ]
    }
   ],
   "source": [
    "s1 = {10,20,30}\n",
    "s2 = {20,10,5,6,7}\n",
    "\n",
    "print(s1 > s2)        # False\n",
    "print(s1 < s2)        # False\n",
    "print(s1 >= s2)       # False\n",
    "print(s1 <= s2)       # False"
   ]
  },
  {
   "cell_type": "markdown",
   "id": "c07fd5de-5b4d-4bfc-a9ba-2dbe3d36bb51",
   "metadata": {},
   "source": [
    "# Membership Operators"
   ]
  },
  {
   "cell_type": "markdown",
   "id": "c81b0f82-4d58-439a-a233-92ad2b9acc48",
   "metadata": {},
   "source": [
    "We can check whether the element is a member of the tuple or not by using membership operators.\n",
    "* **`in`** Operator\n",
    "* **`not in`** Operator"
   ]
  },
  {
   "cell_type": "code",
   "execution_count": 5,
   "id": "1c525352-9e46-4836-8f70-fadb0266981e",
   "metadata": {},
   "outputs": [
    {
     "name": "stdout",
     "output_type": "stream",
     "text": [
      "True\n",
      "False\n",
      "True\n"
     ]
    }
   ],
   "source": [
    "s = {10,20,30,40}\n",
    "print(10 in s)        # True\n",
    "print(50 in s)        # False\n",
    "print(50 not in s)    # True"
   ]
  },
  {
   "cell_type": "code",
   "execution_count": 6,
   "id": "fedc6b9e-9cd4-4a15-b372-d13d96c93f99",
   "metadata": {},
   "outputs": [
    {
     "name": "stdout",
     "output_type": "stream",
     "text": [
      "{'a', 'd', 'u', 'g', 'r'}\n",
      "True\n",
      "False\n",
      "True\n"
     ]
    }
   ],
   "source": [
    "s=set(\"durga\")\n",
    "\n",
    "print(s)                # {'u', 'g', 'r', 'd', 'a'}\n",
    "\n",
    "print('d' in s)         # True\n",
    "print('z' in s)         # False\n",
    "print('z' not in s)     # True"
   ]
  },
  {
   "cell_type": "code",
   "execution_count": null,
   "id": "65adea43-f947-418b-be7c-fd848091280b",
   "metadata": {},
   "outputs": [],
   "source": []
  }
 ],
 "metadata": {
  "kernelspec": {
   "display_name": "Python 3 (ipykernel)",
   "language": "python",
   "name": "python3"
  },
  "language_info": {
   "codemirror_mode": {
    "name": "ipython",
    "version": 3
   },
   "file_extension": ".py",
   "mimetype": "text/x-python",
   "name": "python",
   "nbconvert_exporter": "python",
   "pygments_lexer": "ipython3",
   "version": "3.12.5"
  }
 },
 "nbformat": 4,
 "nbformat_minor": 5
}
