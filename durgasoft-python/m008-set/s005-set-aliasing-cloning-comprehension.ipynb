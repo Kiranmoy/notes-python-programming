{
 "cells": [
  {
   "cell_type": "markdown",
   "id": "4033f04b-c10e-490a-ab44-59134b68640d",
   "metadata": {},
   "source": [
    "# Aliasing"
   ]
  },
  {
   "attachments": {
    "99c1a14a-c366-4bc2-a4cb-52430310473b.png": {
     "image/png": "[encoded data removed]"
    }
   },
   "cell_type": "markdown",
   "id": "5c2cfd05-c6ca-4c6a-8e97-273fd030ab48",
   "metadata": {},
   "source": [
    "The process of giving another reference variable to the existing list is called **aliasing**.\n",
    "\n",
    "![image.png](attachment:99c1a14a-c366-4bc2-a4cb-52430310473b.png)"
   ]
  },
  {
   "cell_type": "code",
   "execution_count": 2,
   "id": "9853b970-a837-4199-a5db-26dd78b56547",
   "metadata": {},
   "outputs": [
    {
     "name": "stdout",
     "output_type": "stream",
     "text": [
      "2730591360992\n",
      "2730591360992\n"
     ]
    }
   ],
   "source": [
    "x = {10,20,30,40}\n",
    "y = x\n",
    "print(id(x))    # 3016248\n",
    "print(id(y))    # 3016248"
   ]
  },
  {
   "cell_type": "markdown",
   "id": "b65409fe-4826-4fae-8db6-6c09d29ebb11",
   "metadata": {},
   "source": [
    "The problem in this approach is by using one reference variable if we are changing content, then those changes will be reflected in the other reference variable."
   ]
  },
  {
   "cell_type": "code",
   "execution_count": 3,
   "id": "ede32fca-48b5-4f60-80be-9cebd9a04ccd",
   "metadata": {},
   "outputs": [
    {
     "name": "stdout",
     "output_type": "stream",
     "text": [
      "{40, 777, 10, 20, 30}\n"
     ]
    }
   ],
   "source": [
    "x = {10,20,30,40}\n",
    "y = x\n",
    "y.add(777)\n",
    "print(x)        # {10,20,777,30,40}"
   ]
  },
  {
   "cell_type": "markdown",
   "id": "a045d794-0183-46ce-aa5d-880644266ea5",
   "metadata": {},
   "source": [
    "To overcome this problem we should go for **cloning**. "
   ]
  },
  {
   "cell_type": "markdown",
   "id": "3cb236b5-c28d-4cde-847f-88c6f4037993",
   "metadata": {},
   "source": [
    "# Cloning"
   ]
  },
  {
   "cell_type": "markdown",
   "id": "4efc8ca0-9363-4460-8e15-565b08bf05dc",
   "metadata": {},
   "source": [
    "The process of creating an exact duplicate independent object is called **cloning**. \n",
    "\n",
    "We can implement cloning by using **`copy( )`** function."
   ]
  },
  {
   "cell_type": "markdown",
   "id": "f6bf1ac5-2efc-45cb-8296-7e30b318283b",
   "metadata": {},
   "source": [
    "## By using copy( ) function"
   ]
  },
  {
   "cell_type": "code",
   "execution_count": 4,
   "id": "4f3e382b-b828-4aec-ad71-d43d63997543",
   "metadata": {},
   "outputs": [
    {
     "name": "stdout",
     "output_type": "stream",
     "text": [
      "{40, 10, 20, 30}\n",
      "{40, 777, 10, 20, 30}\n",
      "2730591359200\n",
      "2730591361440\n"
     ]
    }
   ],
   "source": [
    "x = {10,20,30,40}\n",
    "y = x.copy()\n",
    "y.add(777)\n",
    "print(x)    # {10, 20, 30, 40}\n",
    "print(y)    # {10, 20, 777, 30, 40}\n",
    "\n",
    "print(id(x))    # 3016248\n",
    "print(id(y))    # 4016299"
   ]
  },
  {
   "cell_type": "markdown",
   "id": "d4446949-ff0b-4277-ba8e-38e0756a4a07",
   "metadata": {},
   "source": [
    "## Difference between = operator and copy() function?"
   ]
  },
  {
   "cell_type": "markdown",
   "id": "47530a0f-0ede-42d3-b335-4014899b8471",
   "metadata": {},
   "source": [
    "The **`=` operator** meant for aliasing.\n",
    "\n",
    "The **`copy( )`** function is meant for **cloning**."
   ]
  },
  {
   "cell_type": "markdown",
   "id": "c98d07cb-f060-4387-bc25-0bb38f7f4b0d",
   "metadata": {},
   "source": [
    "# Set Comprehension"
   ]
  },
  {
   "cell_type": "markdown",
   "id": "62006da4-90f6-40a3-afa8-81051ee50fe0",
   "metadata": {},
   "source": [
    "The comprehension concept is applicable to the set."
   ]
  },
  {
   "cell_type": "code",
   "execution_count": 5,
   "id": "812ba149-0c10-412d-b0a9-6f97a0f6b6ff",
   "metadata": {},
   "outputs": [
    {
     "name": "stdout",
     "output_type": "stream",
     "text": [
      "{0, 1, 4, 9, 16}\n",
      "<class 'set'>\n",
      "{16, 256, 64, 4}\n",
      "<class 'set'>\n"
     ]
    }
   ],
   "source": [
    "s = {x*x for x in range(5)}\n",
    "print (s)                         # {0, 1, 4, 9, 16}\n",
    "print(type(s))                    # <class 'set'>\n",
    "\n",
    "s = {2**x for x in range(2,10,2)}\n",
    "print (s)                         # {16, 256, 64, 4}\n",
    "print(type(s))                    # <class 'set'>"
   ]
  },
  {
   "cell_type": "code",
   "execution_count": null,
   "id": "2ff01241-2add-4518-9c28-1323109d0c17",
   "metadata": {},
   "outputs": [],
   "source": []
  }
 ],
 "metadata": {
  "kernelspec": {
   "display_name": "Python 3 (ipykernel)",
   "language": "python",
   "name": "python3"
  },
  "language_info": {
   "codemirror_mode": {
    "name": "ipython",
    "version": 3
   },
   "file_extension": ".py",
   "mimetype": "text/x-python",
   "name": "python",
   "nbconvert_exporter": "python",
   "pygments_lexer": "ipython3",
   "version": "3.12.5"
  }
 },
 "nbformat": 4,
 "nbformat_minor": 5
}
