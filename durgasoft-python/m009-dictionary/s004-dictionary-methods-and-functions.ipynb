{
 "cells": [
  {
   "cell_type": "markdown",
   "id": "9f7bf98b-e52c-4388-a994-a1bb03a71bbe",
   "metadata": {},
   "source": [
    "# len( ) in-built python function"
   ]
  },
  {
   "cell_type": "markdown",
   "id": "64fd298f-2769-4cec-b830-2b681dfb5686",
   "metadata": {},
   "source": [
    "Returns the number of items in the dictionary.\n",
    "\n",
    "Each key-value pair is called an item."
   ]
  },
  {
   "cell_type": "code",
   "execution_count": 1,
   "id": "bcf11aea-8677-438a-8877-5e24975440f0",
   "metadata": {},
   "outputs": [
    {
     "name": "stdout",
     "output_type": "stream",
     "text": [
      "3\n"
     ]
    }
   ],
   "source": [
    "d = {100: 'A', 200: 'B', 300: 'C'}\n",
    "print(len(d))   # 3"
   ]
  },
  {
   "cell_type": "markdown",
   "id": "3ad6af42-f344-487f-8e41-477c257ac6ad",
   "metadata": {},
   "source": [
    "# get( ) method"
   ]
  },
  {
   "cell_type": "markdown",
   "id": "dbc1536b-1de1-41aa-9d9f-02d762f0c86e",
   "metadata": {},
   "source": [
    "**`d.get(key)`** \n",
    "* If the key is available then return the corresponding value otherwise return None.\n",
    "* It won't raise any **KeyError**. \n",
    "\n",
    "**`d.get(key, defaultvalue)`**\n",
    "* If the key is available then return the corresponding value otherwise return the default value. "
   ]
  },
  {
   "cell_type": "code",
   "execution_count": 3,
   "id": "0d9a3333-ff0a-4f0d-88a8-1ca46e6e6e20",
   "metadata": {},
   "outputs": [
    {
     "name": "stdout",
     "output_type": "stream",
     "text": [
      "durga\n",
      "durga\n",
      "None\n",
      "durga\n",
      "Guest\n"
     ]
    }
   ],
   "source": [
    "d = {100:\"durga\",200:\"ravi\",300:\"shiva\"}\n",
    "\n",
    "print(d[100])                   # durga\n",
    "\n",
    "print(d.get(100))               # durga\n",
    "print(d.get(400))               # None\n",
    "\n",
    "print(d.get(100,\"Guest\"))       # durga\n",
    "print(d.get(400,\"Guest\"))       # Guest"
   ]
  },
  {
   "cell_type": "code",
   "execution_count": 4,
   "id": "74f21dd7-0320-426a-a51c-a0eb04acfe57",
   "metadata": {},
   "outputs": [
    {
     "ename": "KeyError",
     "evalue": "400",
     "output_type": "error",
     "traceback": [
      "\u001b[1;31m---------------------------------------------------------------------------\u001b[0m",
      "\u001b[1;31mKeyError\u001b[0m                                  Traceback (most recent call last)",
      "Cell \u001b[1;32mIn[4], line 1\u001b[0m\n\u001b[1;32m----> 1\u001b[0m \u001b[38;5;28mprint\u001b[39m(\u001b[43md\u001b[49m\u001b[43m[\u001b[49m\u001b[38;5;241;43m400\u001b[39;49m\u001b[43m]\u001b[49m)                   \u001b[38;5;66;03m# KeyError:400\u001b[39;00m\n",
      "\u001b[1;31mKeyError\u001b[0m: 400"
     ]
    }
   ],
   "source": [
    "print(d[400])                   # KeyError:400"
   ]
  },
  {
   "cell_type": "markdown",
   "id": "ced22b45-7b5d-4ced-8ad8-786a17f5c43c",
   "metadata": {},
   "source": [
    "# update( ) method"
   ]
  },
  {
   "cell_type": "markdown",
   "id": "555d4982-7068-476b-bcac-741006a49464",
   "metadata": {},
   "source": [
    "* **`d.update(x)`**\n",
    "* All items present in the dictionary x will be added to dictionary **d**.\n",
    "* If there is any duplicate key then the old value will be replaced with the new value."
   ]
  },
  {
   "cell_type": "code",
   "execution_count": 5,
   "id": "908545da-ebd3-4498-80f4-33bcc4ced7bf",
   "metadata": {},
   "outputs": [
    {
     "name": "stdout",
     "output_type": "stream",
     "text": [
      "{100: 'E', 200: 'B', 300: 'C', 400: 'D'}\n"
     ]
    }
   ],
   "source": [
    "d1 = {100: 'A', 200: 'B'}\n",
    "d2 = {300: 'C', 400: 'D', 100: 'E'}\n",
    "\n",
    "d1.update(d2)\n",
    "print(d1)       # {100: 'E', 200: 'B', 300: 'C', 400: 'D'}"
   ]
  },
  {
   "cell_type": "markdown",
   "id": "472cf276-6953-495a-b260-8523558f458f",
   "metadata": {},
   "source": [
    "# keys( ) method"
   ]
  },
  {
   "cell_type": "markdown",
   "id": "650fb8e6-148d-46ed-a7c8-2dbd98f497b0",
   "metadata": {},
   "source": [
    "It returns all the keys associated with the dictionary as **dict-keys** object."
   ]
  },
  {
   "cell_type": "code",
   "execution_count": 6,
   "id": "e8b5d915-e98e-4598-84e7-2b0e0553556a",
   "metadata": {},
   "outputs": [
    {
     "name": "stdout",
     "output_type": "stream",
     "text": [
      "dict_keys([100, 200, 300])\n",
      "100\n",
      "200\n",
      "300\n"
     ]
    }
   ],
   "source": [
    "d={100:\"durga\",200:\"ravi\",300:\"shiva\"}\n",
    "\n",
    "print(d.keys()) \n",
    "for key in d.keys():\n",
    "  print(key)    "
   ]
  },
  {
   "cell_type": "markdown",
   "id": "aba760b4-2892-4624-8183-28a8b46c1292",
   "metadata": {},
   "source": [
    "# values( ) method"
   ]
  },
  {
   "cell_type": "markdown",
   "id": "ec52f619-fbb3-44a1-8e43-fa4d2348afb2",
   "metadata": {},
   "source": [
    "It returns all the values associated with the dictionary as **dict_values** object."
   ]
  },
  {
   "cell_type": "code",
   "execution_count": 7,
   "id": "145c63b4-bb03-426a-91c3-cd8786139879",
   "metadata": {},
   "outputs": [
    {
     "name": "stdout",
     "output_type": "stream",
     "text": [
      "dict_values(['durga', 'ravi', 'shiva'])\n",
      "durga\n",
      "ravi\n",
      "shiva\n"
     ]
    }
   ],
   "source": [
    "d={100:\"durga\",200:\"ravi\",300:\"shiva\"}\n",
    "\n",
    "print(d.values()) \n",
    "for value in d.values():\n",
    "  print(value)"
   ]
  },
  {
   "cell_type": "markdown",
   "id": "35b52936-e2b3-45bc-8262-b25a7dc39e80",
   "metadata": {},
   "source": [
    "# items( ) method"
   ]
  },
  {
   "cell_type": "markdown",
   "id": "9310e2ac-b284-4b40-814a-b2d4bf4b75a3",
   "metadata": {},
   "source": [
    "* It returns all the items associated with the dictionary as a **dict_items** object.\n",
    "* Each item is a tuple containing a key-value pair of the dictionary.\n",
    "* So  dict_items object is basically a list of tuples, where each tuple is key-value pair of the dictionary.\n",
    "* **`[ (k, v), (k, v), (k, v) ]`**"
   ]
  },
  {
   "cell_type": "code",
   "execution_count": 13,
   "id": "d05e8148-d104-4f2d-8c5c-d880b3ce6923",
   "metadata": {},
   "outputs": [
    {
     "name": "stdout",
     "output_type": "stream",
     "text": [
      "100 -- durga\n",
      "200 -- ravi\n",
      "300 -- shiva\n",
      "dict_items([(100, 'durga'), (200, 'ravi'), (300, 'shiva')])\n"
     ]
    }
   ],
   "source": [
    "d={100:\"durga\",200:\"ravi\",300:\"shiva\"}\n",
    "\n",
    "for k,v in d.items():\n",
    "  print(k,\"--\",v)\n",
    "\n",
    "print(d.items())         # dict_items( [(100,'durga'), (200,'ravi'), (300,'shiva')] ) "
   ]
  },
  {
   "cell_type": "markdown",
   "id": "ddb22f7c-0472-4d2b-903e-660e08ea642a",
   "metadata": {},
   "source": [
    "# pop( ) method"
   ]
  },
  {
   "cell_type": "markdown",
   "id": "8a911dd1-73e0-4b95-842e-f3c9ab09a715",
   "metadata": {},
   "source": [
    "* **`d.pop(key)`**\n",
    "* It removes the entry associated with the specified key and returns the corresponding value.\n",
    "* If the specified key is not available then we will get **KeyError**."
   ]
  },
  {
   "cell_type": "code",
   "execution_count": 15,
   "id": "ac807852-fc39-4389-9de9-1f168216071e",
   "metadata": {},
   "outputs": [
    {
     "name": "stdout",
     "output_type": "stream",
     "text": [
      "durga\n",
      "{200: 'ravi', 300: 'shiva'}\n"
     ]
    }
   ],
   "source": [
    "d = {100:\"durga\",200:\"ravi\",300:\"shiva\"}\n",
    "\n",
    "print(d.pop(100)) # durga\n",
    "\n",
    "print(d)          # {200:\"ravi\",300:\"shiva\"}"
   ]
  },
  {
   "cell_type": "code",
   "execution_count": 16,
   "id": "f105459e-0d72-41a8-a9ab-303055486b0b",
   "metadata": {},
   "outputs": [
    {
     "ename": "KeyError",
     "evalue": "400",
     "output_type": "error",
     "traceback": [
      "\u001b[1;31m---------------------------------------------------------------------------\u001b[0m",
      "\u001b[1;31mKeyError\u001b[0m                                  Traceback (most recent call last)",
      "Cell \u001b[1;32mIn[16], line 1\u001b[0m\n\u001b[1;32m----> 1\u001b[0m \u001b[38;5;28mprint\u001b[39m(\u001b[43md\u001b[49m\u001b[38;5;241;43m.\u001b[39;49m\u001b[43mpop\u001b[49m\u001b[43m(\u001b[49m\u001b[38;5;241;43m400\u001b[39;49m\u001b[43m)\u001b[49m) \u001b[38;5;66;03m# KeyError: 400\u001b[39;00m\n",
      "\u001b[1;31mKeyError\u001b[0m: 400"
     ]
    }
   ],
   "source": [
    "print(d.pop(400)) # KeyError: 400"
   ]
  },
  {
   "cell_type": "markdown",
   "id": "7b707de0-c614-49e8-a67f-c05acb2d6b58",
   "metadata": {},
   "source": [
    "* **`d.pop(key, default-value)`**\n",
    "* It removes the entry associated with the specified key and returns the corresponding value. \n",
    "* If the specified key is not available then we will get the provided **default-value** instead of **KeyError**."
   ]
  },
  {
   "cell_type": "code",
   "execution_count": 17,
   "id": "d897ad84-18f2-4157-8384-0d7c986217d3",
   "metadata": {},
   "outputs": [
    {
     "name": "stdout",
     "output_type": "stream",
     "text": [
      "durga\n",
      "{200: 'ravi', 300: 'shiva'}\n",
      "GUEST\n"
     ]
    }
   ],
   "source": [
    "d = {100:\"durga\",200:\"ravi\",300:\"shiva\"}\n",
    "\n",
    "print(d.pop(100, 'GUEST'))  # durga\n",
    "\n",
    "print(d)                    # {200:\"ravi\",300:\"shiva\"}\n",
    "\n",
    "print(d.pop(400,'GUEST'))   # GUEST"
   ]
  },
  {
   "cell_type": "markdown",
   "id": "90452aeb-8181-4938-bf25-76220ec82851",
   "metadata": {},
   "source": [
    "# popitem( ) method"
   ]
  },
  {
   "cell_type": "markdown",
   "id": "9e2b25ca-5157-4a8e-845d-2579acb0daf2",
   "metadata": {},
   "source": [
    "It removes an arbitrary item (**key value**) from the dictionary and returns them as a tuple."
   ]
  },
  {
   "cell_type": "code",
   "execution_count": 18,
   "id": "fcf766f2-33e0-435a-a862-335af6f73483",
   "metadata": {},
   "outputs": [
    {
     "name": "stdout",
     "output_type": "stream",
     "text": [
      "{100: 'durga', 200: 'ravi', 300: 'shiva'}\n",
      "(300, 'shiva')\n",
      "{100: 'durga', 200: 'ravi'}\n"
     ]
    }
   ],
   "source": [
    "d = {100:\"durga\",200:\"ravi\",300:\"shiva\"}\n",
    "\n",
    "print(d)              # {100:\"durga\",200:\"ravi\",300:\"shiva\"}\n",
    "\n",
    "print(d.popitem())    # (300, 'shiva')\n",
    "\n",
    "print(d)              # {100: 'durga', 200: 'ravi'}"
   ]
  },
  {
   "cell_type": "markdown",
   "id": "4448764d-ed3a-486f-b8e9-e585116f5beb",
   "metadata": {},
   "source": [
    "If the **dictionary is empty** then we will get **KeyError**."
   ]
  },
  {
   "cell_type": "code",
   "execution_count": 19,
   "id": "6ef5ab37-cfd0-4605-98ef-cb4a25c92e83",
   "metadata": {},
   "outputs": [
    {
     "ename": "KeyError",
     "evalue": "'popitem(): dictionary is empty'",
     "output_type": "error",
     "traceback": [
      "\u001b[1;31m---------------------------------------------------------------------------\u001b[0m",
      "\u001b[1;31mKeyError\u001b[0m                                  Traceback (most recent call last)",
      "Cell \u001b[1;32mIn[19], line 2\u001b[0m\n\u001b[0;32m      1\u001b[0m d\u001b[38;5;241m=\u001b[39m{}\n\u001b[1;32m----> 2\u001b[0m \u001b[38;5;28mprint\u001b[39m(\u001b[43md\u001b[49m\u001b[38;5;241;43m.\u001b[39;49m\u001b[43mpopitem\u001b[49m\u001b[43m(\u001b[49m\u001b[43m)\u001b[49m) \u001b[38;5;66;03m# KeyError: 'popitem(): dictionary is empty'\u001b[39;00m\n",
      "\u001b[1;31mKeyError\u001b[0m: 'popitem(): dictionary is empty'"
     ]
    }
   ],
   "source": [
    "d={}\n",
    "print(d.popitem()) # KeyError: 'popitem(): dictionary is empty'"
   ]
  },
  {
   "cell_type": "markdown",
   "id": "4679ae11-5308-45a1-8005-2fc32cf16a9d",
   "metadata": {},
   "source": [
    "# clear( ) method"
   ]
  },
  {
   "cell_type": "markdown",
   "id": "4b84f43a-f014-48b9-b3d8-afa802001d9d",
   "metadata": {},
   "source": [
    "It removes all items (**key-value** pairs) from the dictionary."
   ]
  },
  {
   "cell_type": "code",
   "execution_count": 20,
   "id": "401a8086-27c9-4cec-bdfb-20f4294c5bde",
   "metadata": {},
   "outputs": [
    {
     "name": "stdout",
     "output_type": "stream",
     "text": [
      "{100: 'durga', 200: 'ravi', 300: 'shiva'}\n",
      "{}\n"
     ]
    }
   ],
   "source": [
    "d = {100:\"durga\",200:\"ravi\",300:\"shiva\"}\n",
    "\n",
    "print(d)    # {100:\"durga\",200:\"ravi\",300:\"shiva\"}\n",
    "d.clear()   \n",
    "print(d)    # {}"
   ]
  },
  {
   "cell_type": "markdown",
   "id": "4d1a398c-3a63-40ff-a09d-ca93c6680a54",
   "metadata": {},
   "source": [
    "# setdefault( ) method"
   ]
  },
  {
   "cell_type": "markdown",
   "id": "8194ebc9-e8a5-48b0-8c71-8f7ad7be1d94",
   "metadata": {},
   "source": [
    "* **`d.setdefault(k,v)`**\n",
    "* If the key is already available then this function returns the corresponding value.\n",
    "* If the key is not available then the specified key-value will be added as a new item to the dictionary. "
   ]
  },
  {
   "cell_type": "code",
   "execution_count": 21,
   "id": "0ba69435-a387-48af-928b-3b3ee6e9ff1b",
   "metadata": {},
   "outputs": [
    {
     "name": "stdout",
     "output_type": "stream",
     "text": [
      "pavan\n",
      "{100: 'durga', 200: 'ravi', 300: 'shiva', 400: 'pavan'}\n",
      "durga\n",
      "{100: 'durga', 200: 'ravi', 300: 'shiva', 400: 'pavan'}\n"
     ]
    }
   ],
   "source": [
    "d={100:\"durga\",200:\"ravi\",300:\"shiva\"}\n",
    "\n",
    "print(d.setdefault(400,\"pavan\"))   # pavan\n",
    "print(d)                           # {100: 'durga', 200: 'ravi', 300: 'shiva', 400: 'pavan'} \n",
    "\n",
    "print(d.setdefault(100,\"sachin\"))  # durga\n",
    "print(d)                           # {100: 'durga', 200: 'ravi', 300: 'shiva', 400: 'pavan'}"
   ]
  },
  {
   "cell_type": "code",
   "execution_count": null,
   "id": "b651d21b-1f3c-4ee8-a02c-4108e3ad6bcd",
   "metadata": {},
   "outputs": [],
   "source": []
  }
 ],
 "metadata": {
  "kernelspec": {
   "display_name": "Python 3 (ipykernel)",
   "language": "python",
   "name": "python3"
  },
  "language_info": {
   "codemirror_mode": {
    "name": "ipython",
    "version": 3
   },
   "file_extension": ".py",
   "mimetype": "text/x-python",
   "name": "python",
   "nbconvert_exporter": "python",
   "pygments_lexer": "ipython3",
   "version": "3.12.5"
  }
 },
 "nbformat": 4,
 "nbformat_minor": 5
}
