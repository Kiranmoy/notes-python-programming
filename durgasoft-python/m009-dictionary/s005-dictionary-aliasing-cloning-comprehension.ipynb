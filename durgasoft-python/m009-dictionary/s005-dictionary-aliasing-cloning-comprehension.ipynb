{
 "cells": [
  {
   "cell_type": "markdown",
   "id": "c1db62a4-13ad-4f48-aae0-f2735792dddd",
   "metadata": {},
   "source": [
    "# Aliasing"
   ]
  },
  {
   "cell_type": "markdown",
   "id": "97838f1c-31bb-41c3-9e09-0ea9d1316b95",
   "metadata": {},
   "source": [
    "The process of giving another reference variable to the existing list is called **aliasing**."
   ]
  },
  {
   "cell_type": "code",
   "execution_count": 1,
   "id": "49612872-4a64-4fa0-aac9-afd1bca5a38b",
   "metadata": {},
   "outputs": [
    {
     "name": "stdout",
     "output_type": "stream",
     "text": [
      "2040070396928\n",
      "2040070396928\n"
     ]
    }
   ],
   "source": [
    "x= {100:\"durga\",200:\"ravi\",300:\"shiva\"}\n",
    "y=x\n",
    "print(id(x))    # 3016248\n",
    "print(id(y))    # 3016248"
   ]
  },
  {
   "cell_type": "markdown",
   "id": "cc769169-8c93-4663-850b-04a0809879c8",
   "metadata": {},
   "source": [
    "The problem in this approach is by using one reference variable if we are changing content, then those changes will be reflected in the other reference variable. "
   ]
  },
  {
   "cell_type": "code",
   "execution_count": 2,
   "id": "1fa371b0-7ffb-43ec-a536-e71a67548981",
   "metadata": {},
   "outputs": [
    {
     "name": "stdout",
     "output_type": "stream",
     "text": [
      "{100: 'durga', 200: 'ravi', 300: 'shiva', 400: 'kiran'}\n",
      "{100: 'durga', 200: 'ravi', 300: 'shiva', 400: 'kiran'}\n"
     ]
    }
   ],
   "source": [
    "x = {100:\"durga\",200:\"ravi\",300:\"shiva\"}\n",
    "y = x\n",
    "\n",
    "y[400] = 'kiran'\n",
    "\n",
    "print(x)        # {100:\"durga\", 200:\"ravi\", 300:\"shiva\", 400:\"kiran\"}\n",
    "print(y)        # {100:\"durga\", 200:\"ravi\", 300:\"shiva\", 400:\"kiran\"}"
   ]
  },
  {
   "cell_type": "markdown",
   "id": "5f1dde5e-d4fc-4fcb-a3c8-24b36814c97f",
   "metadata": {},
   "source": [
    "To overcome this problem we should go for **cloning**."
   ]
  },
  {
   "cell_type": "markdown",
   "id": "3a828ac5-eeff-4a27-9048-ff0d9bebda0f",
   "metadata": {},
   "source": [
    "# Cloning"
   ]
  },
  {
   "cell_type": "markdown",
   "id": "5c74159d-2130-4e5c-822e-c68cd8abb694",
   "metadata": {},
   "source": [
    "The process of creating an exact duplicate independent object is called **cloning**. \n",
    "\n",
    "We can implement cloning by using **`copy( )`** function."
   ]
  },
  {
   "cell_type": "markdown",
   "id": "20cfee99-6ced-4626-ad9e-6affca618d77",
   "metadata": {},
   "source": [
    "## By using copy( ) function"
   ]
  },
  {
   "cell_type": "code",
   "execution_count": 4,
   "id": "b357e4af-2230-4ef7-98d7-3d75df10bc66",
   "metadata": {},
   "outputs": [
    {
     "name": "stdout",
     "output_type": "stream",
     "text": [
      "{100: 'durga', 200: 'ravi', 300: 'shiva'}\n",
      "{100: 'durga', 200: 'ravi', 300: 'shiva', 400: 'kiran'}\n"
     ]
    }
   ],
   "source": [
    "x = {100:\"durga\",200:\"ravi\",300:\"shiva\"}\n",
    "y = x.copy()\n",
    "\n",
    "y[400] = 'kiran'\n",
    "\n",
    "print(x)        # {100:\"durga\", 200:\"ravi\", 300:\"shiva\"}\n",
    "print(y)        # {100:\"durga\", 200:\"ravi\", 300:\"shiva\", 400:\"kiran\"}"
   ]
  },
  {
   "cell_type": "markdown",
   "id": "d6e19312-505d-4740-b848-5fe3141e218d",
   "metadata": {},
   "source": [
    "## Difference between = Operator and copy() Function"
   ]
  },
  {
   "cell_type": "markdown",
   "id": "3cd41af5-acda-4017-9075-018c5cedd871",
   "metadata": {},
   "source": [
    "The **`= Operator`** meant for aliasing.\n",
    "\n",
    "The **`copy( )`** function is meant for cloning."
   ]
  },
  {
   "cell_type": "markdown",
   "id": "caa6e483-4480-460b-9524-7106d42d71bc",
   "metadata": {},
   "source": [
    "# Dictionary Comprehension"
   ]
  },
  {
   "cell_type": "markdown",
   "id": "de604e1a-eae4-46e6-8f2a-e8673b0fd404",
   "metadata": {},
   "source": [
    "The comprehension concept is applicable to dictionaries also. "
   ]
  },
  {
   "cell_type": "code",
   "execution_count": 5,
   "id": "5580cac4-724e-4290-abbb-f156be3567fa",
   "metadata": {},
   "outputs": [
    {
     "name": "stdout",
     "output_type": "stream",
     "text": [
      "{1: 1, 2: 4, 3: 9, 4: 16, 5: 25}\n",
      "{1: 2, 2: 4, 3: 6, 4: 8, 5: 10}\n"
     ]
    }
   ],
   "source": [
    "squares={x:x*x for x in range(1,6)}\n",
    "print(squares)                        # {1: 1, 2: 4, 3: 9, 4: 16, 5: 25}\n",
    "\n",
    "doubles={x:2*x for x in range(1,6)}\n",
    "print(doubles)                        # {1: 2, 2: 4, 3: 6, 4: 8, 5: 10}"
   ]
  },
  {
   "cell_type": "code",
   "execution_count": null,
   "id": "977bccd3-5b61-4294-a5f6-d6d6fcb4e917",
   "metadata": {},
   "outputs": [],
   "source": []
  }
 ],
 "metadata": {
  "kernelspec": {
   "display_name": "Python 3 (ipykernel)",
   "language": "python",
   "name": "python3"
  },
  "language_info": {
   "codemirror_mode": {
    "name": "ipython",
    "version": 3
   },
   "file_extension": ".py",
   "mimetype": "text/x-python",
   "name": "python",
   "nbconvert_exporter": "python",
   "pygments_lexer": "ipython3",
   "version": "3.12.5"
  }
 },
 "nbformat": 4,
 "nbformat_minor": 5
}
