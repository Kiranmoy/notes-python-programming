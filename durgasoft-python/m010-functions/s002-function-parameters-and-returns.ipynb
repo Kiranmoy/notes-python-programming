{
 "cells": [
  {
   "cell_type": "markdown",
   "id": "ce7336dc-b77d-4015-8646-a8ef0da5d1c6",
   "metadata": {},
   "source": [
    "# Parameters"
   ]
  },
  {
   "cell_type": "markdown",
   "id": "9d0e4c2b-6d0d-445d-aaa1-85a6fea63896",
   "metadata": {},
   "source": [
    "Parameters are inputs to the function. \n",
    "\n",
    "If a function contains parameters, then at the time of calling, compulsory we should provide values otherwise, we will get an error."
   ]
  },
  {
   "cell_type": "code",
   "execution_count": 2,
   "id": "c5d27b06-8ad5-4530-ad6e-15d99364006c",
   "metadata": {},
   "outputs": [
    {
     "name": "stdout",
     "output_type": "stream",
     "text": [
      "Hello Durga  Good Morning\n",
      "Hello Ravi  Good Morning\n"
     ]
    }
   ],
   "source": [
    "def wish(name):\n",
    "  print(\"Hello\",name,\" Good Morning\")\n",
    "  \n",
    "wish(\"Durga\")   # Hello Durga Good Morning\n",
    "wish(\"Ravi\")    # Hello Ravi Good Morning"
   ]
  },
  {
   "cell_type": "code",
   "execution_count": 3,
   "id": "f1f6b4f5-60ab-470f-bd43-515b6fedcb3d",
   "metadata": {},
   "outputs": [
    {
     "ename": "TypeError",
     "evalue": "wish() missing 1 required positional argument: 'name'",
     "output_type": "error",
     "traceback": [
      "\u001b[1;31m---------------------------------------------------------------------------\u001b[0m",
      "\u001b[1;31mTypeError\u001b[0m                                 Traceback (most recent call last)",
      "Cell \u001b[1;32mIn[3], line 1\u001b[0m\n\u001b[1;32m----> 1\u001b[0m \u001b[43mwish\u001b[49m\u001b[43m(\u001b[49m\u001b[43m)\u001b[49m          \u001b[38;5;66;03m# TypeError: wish() missing 1 required positional argument: 'name'\u001b[39;00m\n",
      "\u001b[1;31mTypeError\u001b[0m: wish() missing 1 required positional argument: 'name'"
     ]
    }
   ],
   "source": [
    "wish()          # TypeError: wish() missing 1 required positional argument: 'name'"
   ]
  },
  {
   "cell_type": "markdown",
   "id": "163001cc-9ac8-4691-b819-0c2692b9f30e",
   "metadata": {},
   "source": [
    "# Return Statement"
   ]
  },
  {
   "cell_type": "markdown",
   "id": "1c563718-a73a-49d7-b269-4ae94f20625a",
   "metadata": {},
   "source": [
    "A function can take input values as parameters and executes business logic, and return output to the caller with a return statement.\n",
    "\n",
    "* A **`return`** statement is used to end the execution of the function call and returns the result (value of the expression following the return keyword) to the caller.\n",
    "* The statements after the **`return`** statements are not executed.\n",
    "* If the **`return`** statement is without any expression, then the special value None is returned.\n",
    "* The **`return`** statement can not be used outside the function."
   ]
  },
  {
   "cell_type": "code",
   "execution_count": 4,
   "id": "36565a67-65bf-499a-8e6f-e0c6f7820306",
   "metadata": {},
   "outputs": [
    {
     "name": "stdout",
     "output_type": "stream",
     "text": [
      "The sum is 30\n",
      "The sum is 300\n"
     ]
    }
   ],
   "source": [
    "def add(x,y):\n",
    "  return x+y\n",
    "\n",
    "result = add(10,20)\n",
    "print(\"The sum is\",result)          # The sum is 30\n",
    "print(\"The sum is\",add(100,200))    # The sum is 300"
   ]
  },
  {
   "cell_type": "markdown",
   "id": "fefae297-8f0c-4f8a-83a3-94de2686b00f",
   "metadata": {},
   "source": [
    "If we are not writing a return statement then the **default return value** is **None**."
   ]
  },
  {
   "cell_type": "code",
   "execution_count": 5,
   "id": "c124483a-e5a2-4064-a875-e69b6f2108d9",
   "metadata": {},
   "outputs": [
    {
     "name": "stdout",
     "output_type": "stream",
     "text": [
      "Hello\n",
      "Hello\n",
      "None\n"
     ]
    }
   ],
   "source": [
    "def f1():\n",
    "  print(\"Hello\")\n",
    "\n",
    "f1()\n",
    "print(f1())"
   ]
  },
  {
   "cell_type": "markdown",
   "id": "e7c57d44-ea39-4551-a8c2-c02f6cc3a2ee",
   "metadata": {},
   "source": [
    "# Returning multiple values from a function"
   ]
  },
  {
   "cell_type": "markdown",
   "id": "6ac4f580-e9cb-4c8e-a66d-bbb10406475e",
   "metadata": {},
   "source": [
    "In other languages like C, C++, and Java, functions can return at most one value. But in python, a function can return any number of values.\n",
    "\n",
    "**Example 1:**"
   ]
  },
  {
   "cell_type": "code",
   "execution_count": 6,
   "id": "73587aee-e1e7-4dc8-b6dd-20364ed924e8",
   "metadata": {},
   "outputs": [
    {
     "name": "stdout",
     "output_type": "stream",
     "text": [
      "The Sum is : 150\n",
      "The Subtraction is : 50\n"
     ]
    }
   ],
   "source": [
    "def sum_sub(a,b):\n",
    "  sum=a+b\n",
    "  sub=a-b\n",
    "  return sum,sub\n",
    "\n",
    "x, y = sum_sub(100,50)\n",
    "print(\"The Sum is :\",x)             # The Sum is : 150\n",
    "print(\"The Subtraction is :\",y)     # The Subtraction is : 50"
   ]
  },
  {
   "cell_type": "markdown",
   "id": "e4b056a7-6fe1-4949-b9b6-c86938cbf15c",
   "metadata": {},
   "source": [
    "**Example 2:**"
   ]
  },
  {
   "cell_type": "code",
   "execution_count": 7,
   "id": "15c44ced-5f4c-48b1-8a35-51af0caf56ed",
   "metadata": {},
   "outputs": [
    {
     "name": "stdout",
     "output_type": "stream",
     "text": [
      "<class 'tuple'>\n",
      "The Results are\n",
      "150\n",
      "50\n",
      "5000\n",
      "2.0\n"
     ]
    }
   ],
   "source": [
    "def calc(a,b):\n",
    "  sum=a+b\n",
    "  sub=a-b\n",
    "  mul=a*b\n",
    "  div=a/b\n",
    "  return sum,sub,mul,div\n",
    "\n",
    "t = calc(100,50)\n",
    "print(type(t))    # <class 'tuple'>\n",
    "\n",
    "print(\"The Results are\")\n",
    "\n",
    "for i in t:\n",
    "  print(i)"
   ]
  },
  {
   "cell_type": "code",
   "execution_count": null,
   "id": "11885644-4840-40c3-b96a-0b7dffb5d852",
   "metadata": {},
   "outputs": [],
   "source": []
  }
 ],
 "metadata": {
  "kernelspec": {
   "display_name": "Python 3 (ipykernel)",
   "language": "python",
   "name": "python3"
  },
  "language_info": {
   "codemirror_mode": {
    "name": "ipython",
    "version": 3
   },
   "file_extension": ".py",
   "mimetype": "text/x-python",
   "name": "python",
   "nbconvert_exporter": "python",
   "pygments_lexer": "ipython3",
   "version": "3.12.5"
  }
 },
 "nbformat": 4,
 "nbformat_minor": 5
}
