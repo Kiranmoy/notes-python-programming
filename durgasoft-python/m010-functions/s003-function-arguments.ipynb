{
 "cells": [
  {
   "cell_type": "markdown",
   "id": "70578933-2006-4560-9fdc-436eff88e75c",
   "metadata": {},
   "source": [
    "# Types of Arguments"
   ]
  },
  {
   "cell_type": "code",
   "execution_count": 1,
   "id": "be82d055-c21f-4a98-a35c-be903c6b6a61",
   "metadata": {},
   "outputs": [],
   "source": [
    "def f1(a, b):\n",
    "  pass\n",
    "  \n",
    "f1(10, 20)"
   ]
  },
  {
   "cell_type": "markdown",
   "id": "898f6972-d669-49dc-8e53-2837b38568fc",
   "metadata": {},
   "source": [
    "Here, a & b are **formal parameters** whereas `10` & `20` are **actual arguments**. \n",
    "\n",
    "There are 4 types are actual arguments allowed in Python.\n",
    "\n",
    "* Positional Arguments\n",
    "* Keyword Arguments\n",
    "* Default Arguments\n",
    "* Variable Length Arguments"
   ]
  },
  {
   "cell_type": "markdown",
   "id": "7405e309-460b-4688-b1fd-2e769c69d55b",
   "metadata": {},
   "source": [
    "# Positional Arguments"
   ]
  },
  {
   "cell_type": "markdown",
   "id": "c0e1d9d8-b21d-477f-bec6-784007f317ec",
   "metadata": {},
   "source": [
    "* These are the arguments passed to function in the correct positional order. \n",
    "* The **number of arguments** and **position of arguments** must be matched. \n",
    "* If we change the order then the result may be changed.\n",
    "* If we change the number of arguments then we will get a **TypeError**. "
   ]
  },
  {
   "cell_type": "code",
   "execution_count": 2,
   "id": "75d5165c-a146-4ff4-8e2e-afe9fca36061",
   "metadata": {},
   "outputs": [
    {
     "name": "stdout",
     "output_type": "stream",
     "text": [
      "-100\n",
      "100\n"
     ]
    }
   ],
   "source": [
    "def sub(a, b):\n",
    "  print(a-b)\n",
    "  \n",
    "sub(100, 200)   # -100\n",
    "sub(200, 100)   # 100"
   ]
  },
  {
   "cell_type": "code",
   "execution_count": 3,
   "id": "15f1dd50-44c5-411b-8205-529b04a7a925",
   "metadata": {},
   "outputs": [
    {
     "ename": "TypeError",
     "evalue": "sub() missing 1 required positional argument: 'b'",
     "output_type": "error",
     "traceback": [
      "\u001b[1;31m---------------------------------------------------------------------------\u001b[0m",
      "\u001b[1;31mTypeError\u001b[0m                                 Traceback (most recent call last)",
      "Cell \u001b[1;32mIn[3], line 1\u001b[0m\n\u001b[1;32m----> 1\u001b[0m \u001b[43msub\u001b[49m\u001b[43m(\u001b[49m\u001b[38;5;241;43m100\u001b[39;49m\u001b[43m)\u001b[49m        \u001b[38;5;66;03m# TypeError: sub() missing 1 required positional argument: 'b'\u001b[39;00m\n",
      "\u001b[1;31mTypeError\u001b[0m: sub() missing 1 required positional argument: 'b'"
     ]
    }
   ],
   "source": [
    "sub(100)        # TypeError: sub() missing 1 required positional argument: 'b'"
   ]
  },
  {
   "cell_type": "markdown",
   "id": "05c21d2a-4438-4b72-8cd5-2058c95a0875",
   "metadata": {},
   "source": [
    "# Keyword Arguments"
   ]
  },
  {
   "cell_type": "markdown",
   "id": "c687ae37-fdeb-4dcb-b398-162328867c51",
   "metadata": {},
   "source": [
    "We can pass argument values by keyword. That is, by **parameter name**.\n",
    "\n",
    "Here the **order of arguments is not important** but the **number of arguments must be matched**. "
   ]
  },
  {
   "cell_type": "code",
   "execution_count": 5,
   "id": "e0cd1485-7235-4d5e-a528-e74dcd59b506",
   "metadata": {},
   "outputs": [
    {
     "name": "stdout",
     "output_type": "stream",
     "text": [
      "Hello Durga Good Morning\n",
      "Hello Durga Good Morning\n"
     ]
    }
   ],
   "source": [
    "def wish(name,msg):\n",
    "  print(\"Hello\",name,msg)\n",
    "\n",
    "wish(name=\"Durga\", msg=\"Good Morning\")   # Hello Durga Good Morning\n",
    "wish(msg=\"Good Morning\", name=\"Durga\")   # Hello Durga Good Morning"
   ]
  },
  {
   "cell_type": "markdown",
   "id": "0eb6c675-ae41-4c75-8695-7b4fe363df5e",
   "metadata": {},
   "source": [
    "**NOTE:**\n",
    "* We can use both positional and keyword arguments simultaneously. \n",
    "* But first we have to take positional arguments and then keyword arguments, otherwise we will get a **syntax error**. That is, after keyword argument, we cannot take positional arguments."
   ]
  },
  {
   "cell_type": "code",
   "execution_count": 6,
   "id": "def2f81e-c829-4667-9ec2-f9e17b52638f",
   "metadata": {},
   "outputs": [
    {
     "name": "stdout",
     "output_type": "stream",
     "text": [
      "Hello Durga GoodMorning\n",
      "Hello Durga GoodMorning\n"
     ]
    }
   ],
   "source": [
    "def wish(name,msg):\n",
    "  print(\"Hello\",name,msg)\n",
    "  \n",
    "wish(\"Durga\",\"GoodMorning\")       # Hello Durga Good Morning\n",
    "wish(\"Durga\",msg=\"GoodMorning\")   # Hello Durga Good Morning"
   ]
  },
  {
   "cell_type": "code",
   "execution_count": 7,
   "id": "53b33b82-b206-4cf3-9965-0fe21a694f4a",
   "metadata": {},
   "outputs": [
    {
     "ename": "SyntaxError",
     "evalue": "positional argument follows keyword argument (3283375501.py, line 1)",
     "output_type": "error",
     "traceback": [
      "\u001b[1;36m  Cell \u001b[1;32mIn[7], line 1\u001b[1;36m\u001b[0m\n\u001b[1;33m    wish(name=\"Durga\",\"GoodMorning\")  # SyntaxError: positional argument follows keyword argument\u001b[0m\n\u001b[1;37m                                   ^\u001b[0m\n\u001b[1;31mSyntaxError\u001b[0m\u001b[1;31m:\u001b[0m positional argument follows keyword argument\n"
     ]
    }
   ],
   "source": [
    "wish(name=\"Durga\",\"GoodMorning\")  # SyntaxError: positional argument follows keyword argument"
   ]
  },
  {
   "cell_type": "markdown",
   "id": "6f45cc4a-ce0a-46a9-a773-975086c7468e",
   "metadata": {},
   "source": [
    "# Default Arguments"
   ]
  },
  {
   "cell_type": "markdown",
   "id": "018644d2-017d-4735-9d68-1c9ea416fb9d",
   "metadata": {},
   "source": [
    "Sometimes we can provide default values for our positional arguments.\n",
    "\n",
    "If we are not passing any value then only, the default value will be considered "
   ]
  },
  {
   "cell_type": "code",
   "execution_count": 8,
   "id": "8b3002bf-2db3-4143-a61f-4a960e1ffa7f",
   "metadata": {},
   "outputs": [
    {
     "name": "stdout",
     "output_type": "stream",
     "text": [
      "Hello Durga Good Morning\n",
      "Hello Guest Good Morning\n"
     ]
    }
   ],
   "source": [
    "def wish(name=\"Guest\"):\n",
    "  print(\"Hello\",name,\"Good Morning\")\n",
    "\n",
    "wish(\"Durga\")   # Hello Durga Good Morning\n",
    "wish()          # Hello Guest Good Morning"
   ]
  },
  {
   "cell_type": "markdown",
   "id": "f6eda1bb-352a-4186-8c8c-7a9cee6b6b9a",
   "metadata": {},
   "source": [
    "> ***NOTE**: After default arguments, we should not take non default arguments.*"
   ]
  },
  {
   "cell_type": "code",
   "execution_count": 11,
   "id": "c8290dcf-6241-4a5b-a000-dec83fbd3808",
   "metadata": {},
   "outputs": [],
   "source": [
    "def wish(name=\"Guest\",msg=\"Good Morning\"):    # VALID\n",
    "  pass\n",
    "\n",
    "def wish(name,msg=\"Good Morning\"):            # VALID\n",
    "    pass"
   ]
  },
  {
   "cell_type": "code",
   "execution_count": 12,
   "id": "a49212d1-9350-48e5-99f0-ce4aaf44ba83",
   "metadata": {},
   "outputs": [
    {
     "ename": "SyntaxError",
     "evalue": "parameter without a default follows parameter with a default (4290224089.py, line 1)",
     "output_type": "error",
     "traceback": [
      "\u001b[1;36m  Cell \u001b[1;32mIn[12], line 1\u001b[1;36m\u001b[0m\n\u001b[1;33m    def wish(name=\"Guest\", msg):     # SyntaxError: non-default argument follows default argument\u001b[0m\n\u001b[1;37m                           ^\u001b[0m\n\u001b[1;31mSyntaxError\u001b[0m\u001b[1;31m:\u001b[0m parameter without a default follows parameter with a default\n"
     ]
    }
   ],
   "source": [
    "def wish(name=\"Guest\", msg):     # SyntaxError: non-default argument follows default argument\n",
    "    pass"
   ]
  },
  {
   "cell_type": "markdown",
   "id": "04066712-7a76-4815-8127-90638e8765c1",
   "metadata": {},
   "source": [
    "# Variable Length Arguments"
   ]
  },
  {
   "cell_type": "markdown",
   "id": "93a7f431-b861-43a3-b7ac-0abdd229cfed",
   "metadata": {},
   "source": [
    "* Sometimes we can pass a variable number of arguments to our function, such types of arguments are called **variable-length arguments**.\n",
    "* Python uses special symbols for passing variable-length arguments:\n",
    "    * **`*args`** → variable-length positional arguments\n",
    "    * **`**kwargs`** → variable-length keyword arguments\n",
    "* We can call this function by passing any number of arguments including zero numbers."
   ]
  },
  {
   "cell_type": "markdown",
   "id": "b7198bd4-1143-435b-bfe9-05467cceb9a0",
   "metadata": {},
   "source": [
    "## Variable-length positional arguments (*args)"
   ]
  },
  {
   "cell_type": "markdown",
   "id": "5a9ab806-d681-4590-9b23-6ef177998711",
   "metadata": {},
   "source": [
    "We can declare a variable length positional argument with the `*` symbol as follows: **`def f1( *args )`**\n",
    "\n",
    "Internally all these values are represented in the form of a tuple."
   ]
  },
  {
   "cell_type": "code",
   "execution_count": 13,
   "id": "564b08ef-0b7c-4e3b-a03b-da09e6e39037",
   "metadata": {},
   "outputs": [
    {
     "name": "stdout",
     "output_type": "stream",
     "text": [
      "The Sum =  0\n",
      "The Sum =  10\n",
      "The Sum =  30\n",
      "The Sum =  100\n"
     ]
    }
   ],
   "source": [
    "def sum( *n ):\n",
    "  total = 0\n",
    "  for n1 in n:\n",
    "    total = total+n1\n",
    "  print(\"The Sum = \",total)\n",
    "\n",
    "sum()                 # The Sum = 0\n",
    "sum(10)               # The Sum = 10\n",
    "sum(10,20)            # The Sum = 30\n",
    "sum(10,20,30,40)      # The Sum = 100"
   ]
  },
  {
   "cell_type": "markdown",
   "id": "822d6324-2447-40d1-9b7c-92fff4a7abb6",
   "metadata": {},
   "source": [
    "> ***NOTE**: We can mix variable-length positional arguments with normal positional arguments.*"
   ]
  },
  {
   "cell_type": "code",
   "execution_count": 14,
   "id": "63ea462d-b610-4509-99c7-ba565ffd6e74",
   "metadata": {},
   "outputs": [
    {
     "name": "stdout",
     "output_type": "stream",
     "text": [
      "10\n",
      "10\n",
      "20\n",
      "30\n",
      "40\n",
      "10\n",
      "A\n",
      "30\n",
      "B\n"
     ]
    }
   ],
   "source": [
    "def f1(n1,*s):\n",
    "  print(n1)\n",
    "  for s1 in s:\n",
    "    print(s1)\n",
    "\n",
    "f1(10)\n",
    "f1(10,20,30,40)\n",
    "f1(10,\"A\",30,\"B\")"
   ]
  },
  {
   "cell_type": "markdown",
   "id": "b8de9b83-267b-4255-93b2-a367cd71cd45",
   "metadata": {},
   "source": [
    "**NOTE:**\n",
    "* After the **variable length positional argument**, if we are taking any other arguments then we should provide values as **keyword arguments**.\n",
    "* More than one variable argument is not allowed."
   ]
  },
  {
   "cell_type": "code",
   "execution_count": 15,
   "id": "4783fbaa-4b88-4a8c-8640-b007647fa68d",
   "metadata": {},
   "outputs": [
    {
     "name": "stdout",
     "output_type": "stream",
     "text": [
      "A\n",
      "B\n",
      "10\n"
     ]
    }
   ],
   "source": [
    "def f1(*s,n1):\n",
    "  for s1 in s:\n",
    "    print(s1)\n",
    "  print(n1)\n",
    "\n",
    "f1(\"A\",\"B\",n1=10)     # A B 10"
   ]
  },
  {
   "cell_type": "code",
   "execution_count": 16,
   "id": "cdd97fbe-db62-4369-aacf-455aae064cfe",
   "metadata": {},
   "outputs": [
    {
     "ename": "TypeError",
     "evalue": "f1() missing 1 required keyword-only argument: 'n1'",
     "output_type": "error",
     "traceback": [
      "\u001b[1;31m---------------------------------------------------------------------------\u001b[0m",
      "\u001b[1;31mTypeError\u001b[0m                                 Traceback (most recent call last)",
      "Cell \u001b[1;32mIn[16], line 1\u001b[0m\n\u001b[1;32m----> 1\u001b[0m \u001b[43mf1\u001b[49m\u001b[43m(\u001b[49m\u001b[38;5;124;43m\"\u001b[39;49m\u001b[38;5;124;43mA\u001b[39;49m\u001b[38;5;124;43m\"\u001b[39;49m\u001b[43m,\u001b[49m\u001b[38;5;124;43m\"\u001b[39;49m\u001b[38;5;124;43mB\u001b[39;49m\u001b[38;5;124;43m\"\u001b[39;49m\u001b[43m,\u001b[49m\u001b[38;5;241;43m10\u001b[39;49m\u001b[43m)\u001b[49m        \u001b[38;5;66;03m# TypeError: f1() missing 1 required keyword-only argument: 'n1'\u001b[39;00m\n",
      "\u001b[1;31mTypeError\u001b[0m: f1() missing 1 required keyword-only argument: 'n1'"
     ]
    }
   ],
   "source": [
    "f1(\"A\",\"B\",10)        # TypeError: f1() missing 1 required keyword-only argument: 'n1'"
   ]
  },
  {
   "cell_type": "code",
   "execution_count": 17,
   "id": "36e0952d-0cec-47e1-b137-2790b0ff194a",
   "metadata": {},
   "outputs": [
    {
     "ename": "SyntaxError",
     "evalue": "* argument may appear only once (1429684209.py, line 1)",
     "output_type": "error",
     "traceback": [
      "\u001b[1;36m  Cell \u001b[1;32mIn[17], line 1\u001b[1;36m\u001b[0m\n\u001b[1;33m    def f1(*s,*n1):    # SyntaxError: Invalid Syntax\u001b[0m\n\u001b[1;37m              ^\u001b[0m\n\u001b[1;31mSyntaxError\u001b[0m\u001b[1;31m:\u001b[0m * argument may appear only once\n"
     ]
    }
   ],
   "source": [
    "def f1(*s,*n1):    # SyntaxError: Invalid Syntax\n",
    "  pass"
   ]
  },
  {
   "cell_type": "markdown",
   "id": "dc44a434-111d-4a41-9573-75206c1372b1",
   "metadata": {},
   "source": [
    "## Variable-length keyword arguments (**kwargs)"
   ]
  },
  {
   "cell_type": "markdown",
   "id": "5fbcb033-4181-4e61-b8a2-cbf5eea875f9",
   "metadata": {},
   "source": [
    "* We can declare variable-length keyword arguments **`(**kwargs)`** also.\n",
    "* For this we have to use **`**`** symbol as follow → **`def f1( **n )`**\n",
    "* We can call this function by passing any number of keyword arguments. \n",
    "* Internally these **keyword arguments** will be stored inside a **dictionary**. "
   ]
  },
  {
   "cell_type": "code",
   "execution_count": 18,
   "id": "bb9eabb8-b23c-436a-9f7f-71aa87819be2",
   "metadata": {},
   "outputs": [
    {
     "name": "stdout",
     "output_type": "stream",
     "text": [
      "n1 = 10\n",
      "n2 = 20\n",
      "n3 = 30\n",
      "rno = 100\n",
      "name = Durga\n",
      "marks = 70\n",
      "subject = Java\n"
     ]
    }
   ],
   "source": [
    "def display(**kwargs):\n",
    "  for k,v in kwargs.items():\n",
    "    print(k,\"=\",v)\n",
    "  \n",
    "display(n1=10,n2=20,n3=30)\n",
    "display(rno=100,name=\"Durga\",marks=70,subject=\"Java\")"
   ]
  },
  {
   "cell_type": "markdown",
   "id": "5056e8a9-0c32-4914-a756-f69d1c34922c",
   "metadata": {},
   "source": [
    "## Difference between *args vs. **kwargs?"
   ]
  },
  {
   "attachments": {
    "96646ca2-6a90-4014-99bf-a0c0724c06b2.png": {
     "image/png": "[encoded data removed]"
    }
   },
   "cell_type": "markdown",
   "id": "1361b051-6a38-4588-8082-9635fdaac569",
   "metadata": {},
   "source": [
    "![image.png](attachment:96646ca2-6a90-4014-99bf-a0c0724c06b2.png)"
   ]
  },
  {
   "cell_type": "markdown",
   "id": "8e355e0d-0bf5-41fa-bc47-ff4eff034529",
   "metadata": {},
   "source": [
    "## Example: *args and **kwargs together"
   ]
  },
  {
   "cell_type": "code",
   "execution_count": 19,
   "id": "aa828f10-f5cb-4968-8f0a-d2fd54ac1b55",
   "metadata": {},
   "outputs": [
    {
     "name": "stdout",
     "output_type": "stream",
     "text": [
      "(10, 20)\n",
      "{'A': 30, 'B': 40}\n"
     ]
    }
   ],
   "source": [
    "def f1(*args, **kwargs):\n",
    "  print(args)\n",
    "  print(kwargs)\n",
    "  \n",
    "f1(10, 20, A=30, B=40)"
   ]
  },
  {
   "cell_type": "markdown",
   "id": "07b9ead9-f6e4-452e-abc8-75177521d041",
   "metadata": {},
   "source": [
    "**After keyword arguments, we can’t take positional arguments.**"
   ]
  },
  {
   "cell_type": "code",
   "execution_count": 20,
   "id": "d904f629-28ae-4f86-a720-2cac9b67f52a",
   "metadata": {},
   "outputs": [
    {
     "ename": "SyntaxError",
     "evalue": "arguments cannot follow var-keyword argument (1712393779.py, line 1)",
     "output_type": "error",
     "traceback": [
      "\u001b[1;36m  Cell \u001b[1;32mIn[20], line 1\u001b[1;36m\u001b[0m\n\u001b[1;33m    def f1(**kwargs, *args):    # SyntaxError: invalid syntax\u001b[0m\n\u001b[1;37m                     ^\u001b[0m\n\u001b[1;31mSyntaxError\u001b[0m\u001b[1;31m:\u001b[0m arguments cannot follow var-keyword argument\n"
     ]
    }
   ],
   "source": [
    "def f1(**kwargs, *args):    # SyntaxError: invalid syntax\n",
    "  print(args)\n",
    "  print(kwargs)\n",
    "  \n",
    "f1(A=30, B=40, 10, 20)"
   ]
  },
  {
   "cell_type": "markdown",
   "id": "7ecb4a21-e0c0-4df0-9de8-5e83dff38cf3",
   "metadata": {},
   "source": [
    "# Case Study"
   ]
  },
  {
   "cell_type": "markdown",
   "id": "c8f6f8c0-bf94-4620-99ef-dfbba2b8f3e0",
   "metadata": {},
   "source": [
    "**NOTE:**\n",
    "* Positional & Keyword argument concepts applicable in the function call.\n",
    "* Default & variable-length argument concepts applicable in the function definition."
   ]
  },
  {
   "cell_type": "markdown",
   "id": "c9d67334-894d-4c2f-b179-72e38ed5f0bf",
   "metadata": {},
   "source": [
    "## Positional vs. Keyword arguments"
   ]
  },
  {
   "cell_type": "markdown",
   "id": "697fdd31-4044-4c6c-a39e-4b1b580ee870",
   "metadata": {},
   "source": [
    "* We can use both positional arguments and keyword arguments simultaneously.\n",
    "* But first, we have to take positional arguments and then keyword arguments.\n",
    "* That is, after keyword arguments, we cannot take positional arguments."
   ]
  },
  {
   "cell_type": "markdown",
   "id": "177a54c3-dd64-49c8-b07b-756155a7c840",
   "metadata": {},
   "source": [
    "## Default vs. Non-Default Arguments"
   ]
  },
  {
   "cell_type": "markdown",
   "id": "cb871cb4-362a-4431-8135-341bf8fafe96",
   "metadata": {},
   "source": [
    "* If we’re not passing any value then only the default value will be considered.\n",
    "* After default arguments, we should not take non-default arguments.\n",
    "* That is, default arguments should be the last arguments."
   ]
  },
  {
   "cell_type": "markdown",
   "id": "4b7aee28-0ef3-4ed8-b85a-00c0529e7cd3",
   "metadata": {},
   "source": [
    "## Variable-length vs Normal arguments"
   ]
  },
  {
   "cell_type": "markdown",
   "id": "9b961c59-1844-4ff0-9e86-26614dcf16e1",
   "metadata": {},
   "source": [
    "* After variable-length arguments, if we are taking any normal argument then that must be a keyword argument.\n",
    "* More than one variable-length argument is not allowed."
   ]
  },
  {
   "cell_type": "code",
   "execution_count": 22,
   "id": "ff843f18-cc27-43e5-8256-edbd225c64cd",
   "metadata": {},
   "outputs": [
    {
     "name": "stdout",
     "output_type": "stream",
     "text": [
      "3 2 4 8\n",
      "10 20 30 40\n",
      "25 50 4 100\n",
      "3 4 4 2\n"
     ]
    }
   ],
   "source": [
    "def f(arg1, arg2, arg3=4, arg4=8): \n",
    "  print(arg1, arg2, arg3, arg4)\n",
    "  \n",
    "f(3,2)                    # 3 2 4 8\n",
    "\n",
    "f(10,20,30,40)            # 10 20 30 40\n",
    "\n",
    "f(25,50,arg4=100)         # 25 50 4 100\n",
    "\n",
    "f(arg4=2,arg1=3,arg2=4)   # 3 4 4 2"
   ]
  },
  {
   "cell_type": "code",
   "execution_count": 23,
   "id": "fcef18f7-18e0-477e-8d4f-e4932dbeef75",
   "metadata": {},
   "outputs": [
    {
     "ename": "TypeError",
     "evalue": "f() missing 2 required positional arguments: 'arg1' and 'arg2'",
     "output_type": "error",
     "traceback": [
      "\u001b[1;31m---------------------------------------------------------------------------\u001b[0m",
      "\u001b[1;31mTypeError\u001b[0m                                 Traceback (most recent call last)",
      "Cell \u001b[1;32mIn[23], line 1\u001b[0m\n\u001b[1;32m----> 1\u001b[0m \u001b[43mf\u001b[49m\u001b[43m(\u001b[49m\u001b[43m)\u001b[49m   \u001b[38;5;66;03m# TypeError: f() missing 2 required positional arguments: 'arg1' and 'arg2'\u001b[39;00m\n",
      "\u001b[1;31mTypeError\u001b[0m: f() missing 2 required positional arguments: 'arg1' and 'arg2'"
     ]
    }
   ],
   "source": [
    "f()   # TypeError: f() missing 2 required positional arguments: 'arg1' and 'arg2'"
   ]
  },
  {
   "cell_type": "code",
   "execution_count": 24,
   "id": "4c52948c-1f10-49df-9a88-c2ad8b3a1453",
   "metadata": {},
   "outputs": [
    {
     "ename": "SyntaxError",
     "evalue": "positional argument follows keyword argument (4035496096.py, line 2)",
     "output_type": "error",
     "traceback": [
      "\u001b[1;36m  Cell \u001b[1;32mIn[24], line 2\u001b[1;36m\u001b[0m\n\u001b[1;33m    f(arg3=10, arg4=20, 30, 40) # SyntaxError: positional argument follows keyword argument\u001b[0m\n\u001b[1;37m                              ^\u001b[0m\n\u001b[1;31mSyntaxError\u001b[0m\u001b[1;31m:\u001b[0m positional argument follows keyword argument\n"
     ]
    }
   ],
   "source": [
    "# After keyword arguments we should not take positional arguments\n",
    "f(arg3=10, arg4=20, 30, 40) # SyntaxError: positional argument follows keyword argument"
   ]
  },
  {
   "cell_type": "code",
   "execution_count": 25,
   "id": "668ed817-7119-4da9-8f76-b2fd63c918fb",
   "metadata": {},
   "outputs": [
    {
     "ename": "TypeError",
     "evalue": "f() got multiple values for argument 'arg2'",
     "output_type": "error",
     "traceback": [
      "\u001b[1;31m---------------------------------------------------------------------------\u001b[0m",
      "\u001b[1;31mTypeError\u001b[0m                                 Traceback (most recent call last)",
      "Cell \u001b[1;32mIn[25], line 1\u001b[0m\n\u001b[1;32m----> 1\u001b[0m \u001b[43mf\u001b[49m\u001b[43m(\u001b[49m\u001b[38;5;241;43m4\u001b[39;49m\u001b[43m,\u001b[49m\u001b[43m \u001b[49m\u001b[38;5;241;43m5\u001b[39;49m\u001b[43m,\u001b[49m\u001b[43m \u001b[49m\u001b[43marg2\u001b[49m\u001b[43m \u001b[49m\u001b[38;5;241;43m=\u001b[39;49m\u001b[43m \u001b[49m\u001b[38;5;241;43m6\u001b[39;49m\u001b[43m)\u001b[49m   \u001b[38;5;66;03m# TypeError: f() got multiple values for argument 'arg2'\u001b[39;00m\n",
      "\u001b[1;31mTypeError\u001b[0m: f() got multiple values for argument 'arg2'"
     ]
    }
   ],
   "source": [
    "f(4, 5, arg2 = 6)   # TypeError: f() got multiple values for argument 'arg2'"
   ]
  },
  {
   "cell_type": "code",
   "execution_count": 26,
   "id": "05fc3c7c-7248-4a57-8d5b-f01366bc3756",
   "metadata": {},
   "outputs": [
    {
     "ename": "TypeError",
     "evalue": "f() got an unexpected keyword argument 'arg5'",
     "output_type": "error",
     "traceback": [
      "\u001b[1;31m---------------------------------------------------------------------------\u001b[0m",
      "\u001b[1;31mTypeError\u001b[0m                                 Traceback (most recent call last)",
      "Cell \u001b[1;32mIn[26], line 1\u001b[0m\n\u001b[1;32m----> 1\u001b[0m \u001b[43mf\u001b[49m\u001b[43m(\u001b[49m\u001b[38;5;241;43m4\u001b[39;49m\u001b[43m,\u001b[49m\u001b[43m \u001b[49m\u001b[38;5;241;43m5\u001b[39;49m\u001b[43m,\u001b[49m\u001b[43m \u001b[49m\u001b[43marg3\u001b[49m\u001b[43m \u001b[49m\u001b[38;5;241;43m=\u001b[39;49m\u001b[43m \u001b[49m\u001b[38;5;241;43m5\u001b[39;49m\u001b[43m,\u001b[49m\u001b[43m \u001b[49m\u001b[43marg5\u001b[49m\u001b[43m \u001b[49m\u001b[38;5;241;43m=\u001b[39;49m\u001b[43m \u001b[49m\u001b[38;5;241;43m6\u001b[39;49m\u001b[43m)\u001b[49m   \u001b[38;5;66;03m# TypeError: f() got an unexpected keyword argument 'arg5'\u001b[39;00m\n",
      "\u001b[1;31mTypeError\u001b[0m: f() got an unexpected keyword argument 'arg5'"
     ]
    }
   ],
   "source": [
    "f(4, 5, arg3 = 5, arg5 = 6)   # TypeError: f() got an unexpected keyword argument 'arg5'"
   ]
  },
  {
   "cell_type": "markdown",
   "id": "a0515980-3ae3-4a6c-b68c-0d8832a7ac1d",
   "metadata": {},
   "source": [
    "# Function vs Module vs Library"
   ]
  },
  {
   "attachments": {
    "94318522-b9f3-4eb8-b13b-b81f20687ed9.png": {
     "image/png": "[encoded data removed]"
    }
   },
   "cell_type": "markdown",
   "id": "c3415012-0a7f-4eff-9f60-d9cbd87560b5",
   "metadata": {},
   "source": [
    "* A group of lines with some name is called a **function**.\n",
    "* A group of functions saved to a file is called **Module**.\n",
    "* A group of Modules is nothing but **Library**.\n",
    "\n",
    "![image.png](attachment:94318522-b9f3-4eb8-b13b-b81f20687ed9.png)"
   ]
  },
  {
   "cell_type": "code",
   "execution_count": null,
   "id": "c0f7e098-c21c-4fa3-af98-14092678a654",
   "metadata": {},
   "outputs": [],
   "source": []
  }
 ],
 "metadata": {
  "kernelspec": {
   "display_name": "Python 3 (ipykernel)",
   "language": "python",
   "name": "python3"
  },
  "language_info": {
   "codemirror_mode": {
    "name": "ipython",
    "version": 3
   },
   "file_extension": ".py",
   "mimetype": "text/x-python",
   "name": "python",
   "nbconvert_exporter": "python",
   "pygments_lexer": "ipython3",
   "version": "3.12.5"
  }
 },
 "nbformat": 4,
 "nbformat_minor": 5
}
