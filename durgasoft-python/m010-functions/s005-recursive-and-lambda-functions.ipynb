{
 "cells": [
  {
   "cell_type": "markdown",
   "id": "88ada9da-2b7f-4a2a-8b0e-c4bd88ae5417",
   "metadata": {},
   "source": [
    "# Recursive Functions"
   ]
  },
  {
   "cell_type": "markdown",
   "id": "7882968e-dce1-4f88-beff-6904e5586621",
   "metadata": {},
   "source": [
    "A function that calls itself is known as a Recursive function.\n",
    "\n",
    "The main advantages of recursive functions are:\n",
    "* We can solve complex problems very easily.\n",
    "* We can reduce the length of the code and improves readability.\n",
    "\n",
    "**EXAMPLE:** `n! = n * (n-1)!`\n",
    "\n",
    "```\n",
    "factorial(3) \n",
    "= 3 * factorial(2)\n",
    "= 3 * 2 * factorial(1)\n",
    "= 3 * 2 * 1 * factorial(0)\n",
    "= 3 * 2 * 1 * 1\n",
    "= 6\n",
    "```"
   ]
  },
  {
   "cell_type": "code",
   "execution_count": 1,
   "id": "29d30b4a-50d3-4754-993b-7271b768efb5",
   "metadata": {},
   "outputs": [
    {
     "name": "stdout",
     "output_type": "stream",
     "text": [
      "Factorial of 4 is : 24\n",
      "Factorial of 5 is : 120\n"
     ]
    }
   ],
   "source": [
    "def factorial(n):\n",
    "  if n==0:\n",
    "    result=1\n",
    "  else:\n",
    "    result = n * factorial(n-1)\n",
    "  return result\n",
    "  \n",
    "print(\"Factorial of 4 is :\",factorial(4))   # Factorial of 4 is : 24\n",
    "print(\"Factorial of 5 is :\",factorial(5))   # Factorial of 5 is : 120"
   ]
  },
  {
   "cell_type": "markdown",
   "id": "7d3f29fc-bf19-41dc-a6e3-f1e56cf131ce",
   "metadata": {},
   "source": [
    "**Maximum Recursion Depth supported by python = 950**"
   ]
  },
  {
   "cell_type": "markdown",
   "id": "9814fad2-9e81-47fa-8ac5-6a4d05973570",
   "metadata": {},
   "source": [
    "# Anonymous/Lambda Function"
   ]
  },
  {
   "cell_type": "markdown",
   "id": "c23973fb-87a2-4e11-aa04-85d3086029ee",
   "metadata": {},
   "source": [
    "Sometimes we can declare a function without any name, such types of nameless functions are called **anonymous functions** or **lambda functions**.\n",
    "\n",
    "The main purpose of the anonymous function is just for instant use (i.e for **one-time usage**).\n",
    "\n",
    "We can define by using the lambda keyword.\n",
    "\n",
    "**SYNTAX:** `lambda argument_list: expression`"
   ]
  },
  {
   "cell_type": "code",
   "execution_count": 4,
   "id": "71d5b737-5af0-4fe0-925e-1a9fc1012539",
   "metadata": {},
   "outputs": [
    {
     "name": "stdout",
     "output_type": "stream",
     "text": [
      "16\n",
      "16\n"
     ]
    }
   ],
   "source": [
    "# Normal Function\n",
    "def squareIt(n):\n",
    "  return n*n\n",
    "\n",
    "# Lambda Function\n",
    "s = lambda n: n * n   # Assigning name to anonymous/lambda function - s\n",
    "\n",
    "print(squareIt(4))     # 16\n",
    "print(s(4))           # 16"
   ]
  },
  {
   "cell_type": "markdown",
   "id": "267ed876-1d1e-472d-bf3a-f3c2b72b5968",
   "metadata": {},
   "source": [
    "**By using Lambda Functions we can write very concise code so that the readability of the program will be improved.**"
   ]
  },
  {
   "cell_type": "markdown",
   "id": "7e4229a4-9964-4e69-9767-1eb995060c8a",
   "metadata": {},
   "source": [
    "## Lambda function to find the sum of 2 given numbers"
   ]
  },
  {
   "cell_type": "code",
   "execution_count": 5,
   "id": "fa01ae86-628d-4149-81ec-e13d3ef79be3",
   "metadata": {},
   "outputs": [
    {
     "name": "stdout",
     "output_type": "stream",
     "text": [
      "The Sum of 10,20 is: 30\n",
      "The Sum of 100,200 is: 300\n"
     ]
    }
   ],
   "source": [
    "s = lambda a,b: a+b\n",
    "print(\"The Sum of 10,20 is:\",s(10,20))      # The Sum of 10,20 is: 30\n",
    "print(\"The Sum of 100,200 is:\",s(100,200))  # The Sum of 100,200 is: 300"
   ]
  },
  {
   "cell_type": "markdown",
   "id": "4cf5ff68-de4a-41ab-a0fc-0d421801c465",
   "metadata": {},
   "source": [
    "## Lambda function to find the biggest of given values"
   ]
  },
  {
   "cell_type": "code",
   "execution_count": 6,
   "id": "305a1e36-8fc9-48e9-b0eb-7c67163b2443",
   "metadata": {},
   "outputs": [
    {
     "name": "stdout",
     "output_type": "stream",
     "text": [
      "The Biggest of 10,20 is: 20\n",
      "The Biggest of 100,200 is: 200\n"
     ]
    }
   ],
   "source": [
    "s = lambda a,b: a if a>b else b\n",
    "print(\"The Biggest of 10,20 is:\",s(10,20))      # The Biggest of 10,20 is: 20\n",
    "print(\"The Biggest of 100,200 is:\",s(100,200))  # The Biggest of 100,200 is: 200"
   ]
  },
  {
   "cell_type": "markdown",
   "id": "4243adf8-0b4d-4195-99f1-2681b98e1a6c",
   "metadata": {},
   "source": [
    "The lambda function internally returns expression value and we are not required to write return statement explicitly.\n",
    "\n",
    "Sometimes we can pass a **function as an argument to another function**.\n",
    "\n",
    "In such cases lambda functions are the best choice.\n",
    "\n",
    "**Example:**\n",
    "* `filter( function, sequence )`\n",
    "* `map( function, sequence )`\n",
    "* `reduce( function, sequence )`"
   ]
  },
  {
   "cell_type": "markdown",
   "id": "883c90f0-9cd4-4ef8-bc2c-46958943845a",
   "metadata": {},
   "source": [
    "We can use lambda functions very commonly with **`filter( )`**, **`map( )`** and **`reduce( )`** functions, because these functions expect function as an argument."
   ]
  },
  {
   "cell_type": "code",
   "execution_count": null,
   "id": "225ce7d7-72dc-4e9c-a6f2-e46c24483c6f",
   "metadata": {},
   "outputs": [],
   "source": []
  }
 ],
 "metadata": {
  "kernelspec": {
   "display_name": "Python 3 (ipykernel)",
   "language": "python",
   "name": "python3"
  },
  "language_info": {
   "codemirror_mode": {
    "name": "ipython",
    "version": 3
   },
   "file_extension": ".py",
   "mimetype": "text/x-python",
   "name": "python",
   "nbconvert_exporter": "python",
   "pygments_lexer": "ipython3",
   "version": "3.12.5"
  }
 },
 "nbformat": 4,
 "nbformat_minor": 5
}
