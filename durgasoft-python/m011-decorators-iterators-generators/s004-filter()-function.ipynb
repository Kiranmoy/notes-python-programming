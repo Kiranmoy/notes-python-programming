{
 "cells": [
  {
   "cell_type": "markdown",
   "id": "d92ee93d-684d-45b5-aeda-1186965231bc",
   "metadata": {},
   "source": [
    "# filter( ) function"
   ]
  },
  {
   "cell_type": "markdown",
   "id": "0cc57af9-c20a-4428-ba67-94b2fbf21a9e",
   "metadata": {},
   "source": [
    "We can use the **`filter( )`** function to filter values from the given iterable sequence based on some condition.\n",
    "\n",
    "**SYNTAX:** `filter( function, iterable)` \n",
    "* where the function argument is responsible for performing the conditional check, and it filters only those elements for which the function returns **`True`**.\n",
    "* The iterable sequence can be **List** OR **Tuple** OR **String** OR any **Iterable** object.\n",
    "* The **`filter( )`** function returns a **filter** object which is a generator object."
   ]
  },
  {
   "cell_type": "markdown",
   "id": "682f87bf-0d82-463d-8d2c-facbd49bde1a",
   "metadata": {},
   "source": [
    "# Filters only even numbers from the list"
   ]
  },
  {
   "cell_type": "markdown",
   "id": "f2b32f11-3ad7-4ae0-bb60-8b76bc6bab70",
   "metadata": {},
   "source": [
    "## Without filter( ) function"
   ]
  },
  {
   "cell_type": "code",
   "execution_count": 2,
   "id": "6bdfd37d-658a-4442-bf44-ad8d41010492",
   "metadata": {},
   "outputs": [
    {
     "name": "stdout",
     "output_type": "stream",
     "text": [
      "[0, 10, 20, 30]\n"
     ]
    }
   ],
   "source": [
    "def isEven(x):\n",
    "  if x%2==0:\n",
    "    return True\n",
    "  else:\n",
    "    return False\n",
    "    \n",
    "l = [0,5,10,15,20,25,30]\n",
    "l1 = []\n",
    "for n in l:\n",
    "  if isEven(n) == True:\n",
    "    l1.append(n)\n",
    "\n",
    "print(l1)         # [0,10,20,30]"
   ]
  },
  {
   "cell_type": "markdown",
   "id": "fcb6c4e8-35e0-4058-b696-dff76ada2591",
   "metadata": {},
   "source": [
    "## Using filter( ) - without lambda function"
   ]
  },
  {
   "cell_type": "code",
   "execution_count": 3,
   "id": "86409364-2580-4dcf-a4db-033f17871bc1",
   "metadata": {},
   "outputs": [],
   "source": [
    "def isEven(x):\n",
    "  if x%2==0:\n",
    "    return True\n",
    "  else:\n",
    "    return False\n",
    "\n",
    "l = [0,5,10,15,20,25,30]"
   ]
  },
  {
   "cell_type": "markdown",
   "id": "a6f141fb-4599-498b-9671-20ea8aee311e",
   "metadata": {},
   "source": [
    "**Example 1:**"
   ]
  },
  {
   "cell_type": "code",
   "execution_count": 4,
   "id": "75e29012-91ee-45b1-b3cb-124cee12dbe4",
   "metadata": {},
   "outputs": [
    {
     "name": "stdout",
     "output_type": "stream",
     "text": [
      "<class 'filter'>\n",
      "0\n",
      "10\n",
      "20\n",
      "30\n"
     ]
    },
    {
     "ename": "StopIteration",
     "evalue": "",
     "output_type": "error",
     "traceback": [
      "\u001b[1;31m---------------------------------------------------------------------------\u001b[0m",
      "\u001b[1;31mStopIteration\u001b[0m                             Traceback (most recent call last)",
      "Cell \u001b[1;32mIn[4], line 7\u001b[0m\n\u001b[0;32m      5\u001b[0m \u001b[38;5;28mprint\u001b[39m(\u001b[38;5;28mnext\u001b[39m(l1))       \u001b[38;5;66;03m# 20\u001b[39;00m\n\u001b[0;32m      6\u001b[0m \u001b[38;5;28mprint\u001b[39m(\u001b[38;5;28mnext\u001b[39m(l1))       \u001b[38;5;66;03m# 30\u001b[39;00m\n\u001b[1;32m----> 7\u001b[0m \u001b[38;5;28mprint\u001b[39m(\u001b[38;5;28;43mnext\u001b[39;49m\u001b[43m(\u001b[49m\u001b[43ml1\u001b[49m\u001b[43m)\u001b[49m)       \u001b[38;5;66;03m# StopIteration Exception\u001b[39;00m\n",
      "\u001b[1;31mStopIteration\u001b[0m: "
     ]
    }
   ],
   "source": [
    "l1 = filter(isEven,l)\n",
    "print(type(l1))       # <class 'filter'> - an Iterable Generator\n",
    "print(next(l1))       # 0    \n",
    "print(next(l1))       # 10\n",
    "print(next(l1))       # 20\n",
    "print(next(l1))       # 30\n",
    "print(next(l1))       # StopIteration Exception"
   ]
  },
  {
   "cell_type": "markdown",
   "id": "a7012608-99c1-414a-b09d-bade7319a673",
   "metadata": {},
   "source": [
    "**Example 2:**"
   ]
  },
  {
   "cell_type": "code",
   "execution_count": 5,
   "id": "78b07f64-9126-435d-b492-998303d3d2f4",
   "metadata": {},
   "outputs": [
    {
     "name": "stdout",
     "output_type": "stream",
     "text": [
      "0\n",
      "10\n",
      "20\n",
      "30\n"
     ]
    }
   ],
   "source": [
    "l2 = filter(isEven,l)\n",
    "\n",
    "# The for loop is calling next() method in the background and stops when gets StopIteration exception.\n",
    "for x in l2:           \n",
    "  print(x)"
   ]
  },
  {
   "cell_type": "markdown",
   "id": "8bacf04e-997b-42f4-b942-0404e3566d6b",
   "metadata": {},
   "source": [
    "**Example 3:**"
   ]
  },
  {
   "cell_type": "code",
   "execution_count": 6,
   "id": "3654f9fa-c662-4cd2-b340-3f44282d62e5",
   "metadata": {},
   "outputs": [
    {
     "name": "stdout",
     "output_type": "stream",
     "text": [
      "[0, 10, 20, 30]\n",
      "[]\n"
     ]
    }
   ],
   "source": [
    "my_gen = filter(isEven,l)\n",
    "\n",
    "my_list = list(my_gen)\n",
    "print(my_list)                      # [0,10,20,30]         \n",
    "\n",
    "# Since the generator is already used and it raised StopIteration.\n",
    "# list() function does not raise StopIteration, \n",
    "# list() will simply just return an empty list on getting StopItertion exception.\n",
    "\n",
    "my_list = list(my_gen)   \n",
    "print(my_list)                      # []"
   ]
  },
  {
   "cell_type": "markdown",
   "id": "0a47ccaf-e921-4d72-a6a3-156d68d5bc13",
   "metadata": {},
   "source": [
    "## Using filter( ) - with a lambda function"
   ]
  },
  {
   "cell_type": "code",
   "execution_count": 7,
   "id": "79994b2f-1811-48d7-8cfa-720e03e0b630",
   "metadata": {},
   "outputs": [
    {
     "name": "stdout",
     "output_type": "stream",
     "text": [
      "[0, 10, 20, 30]\n",
      "[5, 15, 25]\n"
     ]
    }
   ],
   "source": [
    "l = [0,5,10,15,20,25,30]\n",
    "\n",
    "l1 = list(filter(lambda x:x%2==0,l))\n",
    "print(l1)                               # [0,10,20,30]\n",
    "                              \n",
    "l2 = list(filter(lambda x:x%2!=0,l))\n",
    "print(l2)                               # [5,15,25]"
   ]
  },
  {
   "cell_type": "markdown",
   "id": "d6f1907b-bf43-4f80-ba9b-bcec60127217",
   "metadata": {},
   "source": [
    "**Equivalent Generator comprehension for the above filter functions.**"
   ]
  },
  {
   "cell_type": "code",
   "execution_count": 8,
   "id": "32907197-ebe1-4631-872f-5ae5c33afb60",
   "metadata": {},
   "outputs": [],
   "source": [
    "my_gen1 = (g for g in l if g%2==0)  # Equivalent to l1\n",
    "\n",
    "my_gen2 = (g for g in l if g%2!=0)  # Equivalent to l2"
   ]
  },
  {
   "cell_type": "markdown",
   "id": "480fcee1-8390-434d-b30e-b9fb61adc9de",
   "metadata": {},
   "source": [
    "In this scenario, generator comprehension **performs better than the `filter( )`** function as the logic to filter elements is very simple and we can easily replace the **lambda function** with the **condition check itself**.\n",
    "\n",
    "If there is already a function defined for filtering the object or the logic is very complex to implement using lambda function, then in such a scenario **`filter( )`** function and a separate filter logic function is much more readable."
   ]
  },
  {
   "cell_type": "markdown",
   "id": "af0e00b2-fac7-4a67-a324-4203c7504b22",
   "metadata": {},
   "source": [
    "## Equivalent custom filter( ) function/generator"
   ]
  },
  {
   "cell_type": "code",
   "execution_count": 9,
   "id": "cd01560f-d135-4abd-a50f-164cb69f3175",
   "metadata": {},
   "outputs": [],
   "source": [
    "def my_custom_filter(func, iterable):\n",
    "  for i in iterable:\n",
    "    if func(i):\n",
    "      yield i\n"
   ]
  },
  {
   "cell_type": "code",
   "execution_count": 10,
   "id": "9c811736-4c8b-41de-b2b5-8059344739b1",
   "metadata": {},
   "outputs": [
    {
     "name": "stdout",
     "output_type": "stream",
     "text": [
      "<class 'generator'>\n",
      "[0, 10, 20, 30]\n"
     ]
    }
   ],
   "source": [
    "l = [0,5,10,15,20,25,30]\n",
    "\n",
    "my_gen = my_custom_filter(lambda x:x%2==0,l)\n",
    "print(type(my_gen))                 # <class 'generator'>\n",
    "l1 = list(my_gen)\n",
    "print(l1)                           # [0,10,20,30]"
   ]
  },
  {
   "cell_type": "code",
   "execution_count": null,
   "id": "ed6f0de4-bf3e-4f04-afa4-051e8101ae52",
   "metadata": {},
   "outputs": [],
   "source": []
  }
 ],
 "metadata": {
  "kernelspec": {
   "display_name": "Python 3 (ipykernel)",
   "language": "python",
   "name": "python3"
  },
  "language_info": {
   "codemirror_mode": {
    "name": "ipython",
    "version": 3
   },
   "file_extension": ".py",
   "mimetype": "text/x-python",
   "name": "python",
   "nbconvert_exporter": "python",
   "pygments_lexer": "ipython3",
   "version": "3.12.5"
  }
 },
 "nbformat": 4,
 "nbformat_minor": 5
}
