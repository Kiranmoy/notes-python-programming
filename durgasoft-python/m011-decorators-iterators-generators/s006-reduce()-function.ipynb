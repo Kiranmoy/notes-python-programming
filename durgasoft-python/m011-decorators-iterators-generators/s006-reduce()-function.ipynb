{
 "cells": [
  {
   "cell_type": "markdown",
   "id": "32f16181-93ea-4db7-99b2-167e9710f43b",
   "metadata": {},
   "source": [
    "The **`reduce( )`** function ***reduces the iterable of elements into a single element*** by applying the specified function.\n",
    "\n",
    "**SYNTAX** - `reduce( function, iterable)`\n",
    "\n",
    "The **`reduce( )`** function is not Python built-in function.\n",
    "\n",
    "It is present in **`functools`** module and hence we have to **`import`** it explicitly."
   ]
  },
  {
   "cell_type": "code",
   "execution_count": 1,
   "id": "05429fb2-c735-436b-a1cc-f787269a293e",
   "metadata": {},
   "outputs": [
    {
     "name": "stdout",
     "output_type": "stream",
     "text": [
      "150\n",
      "12000000\n"
     ]
    }
   ],
   "source": [
    "from functools import *\n",
    "\n",
    "l = [10,20,30,40,50]\n",
    "\n",
    "result = reduce(lambda x,y: x+y, l)\n",
    "print(result)                           # 150\n",
    "\n",
    "result = reduce(lambda x,y: x*y, l)\n",
    "print(result)                           # 12000000"
   ]
  },
  {
   "cell_type": "code",
   "execution_count": 2,
   "id": "2e909c88-6fa2-468f-b8e0-cadcd6c10724",
   "metadata": {},
   "outputs": [
    {
     "name": "stdout",
     "output_type": "stream",
     "text": [
      "5050\n"
     ]
    }
   ],
   "source": [
    "from functools import reduce\n",
    "result = reduce(lambda x,y: x+y, range(1,101))\n",
    "print(result)                                         # 5050"
   ]
  },
  {
   "cell_type": "code",
   "execution_count": null,
   "id": "c86c59a4-409b-4070-92f2-ecba19881191",
   "metadata": {},
   "outputs": [],
   "source": []
  }
 ],
 "metadata": {
  "kernelspec": {
   "display_name": "Python 3 (ipykernel)",
   "language": "python",
   "name": "python3"
  },
  "language_info": {
   "codemirror_mode": {
    "name": "ipython",
    "version": 3
   },
   "file_extension": ".py",
   "mimetype": "text/x-python",
   "name": "python",
   "nbconvert_exporter": "python",
   "pygments_lexer": "ipython3",
   "version": "3.12.5"
  }
 },
 "nbformat": 4,
 "nbformat_minor": 5
}
