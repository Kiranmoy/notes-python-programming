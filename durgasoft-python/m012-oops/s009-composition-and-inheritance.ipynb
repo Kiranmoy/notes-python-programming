{
 "cells": [
  {
   "cell_type": "markdown",
   "id": "69bcadf3-7a39-440b-a650-796ac0534703",
   "metadata": {},
   "source": [
    "We can use members of one class inside another class by using the following ways:\n",
    "* **`Has-A`** Relationship - **Composition** \n",
    "* **`IS-A`** Relationship - **Inheritance**"
   ]
  },
  {
   "cell_type": "markdown",
   "id": "25ec5025-2154-4bff-b865-157c596d00d1",
   "metadata": {},
   "source": [
    "# HAS-A Relationship - Composition"
   ]
  },
  {
   "cell_type": "markdown",
   "id": "b1792964-d7d2-40bf-9d02-13e22dbf62e4",
   "metadata": {},
   "source": [
    "* By using the class name or by creating an object we can access members of one class inside another class. \n",
    "* This approach is nothing but **composition** or **Has-A Relationship**.\n",
    "* The main advantage of a HAS-A relationship is **code reusability**."
   ]
  },
  {
   "cell_type": "code",
   "execution_count": 2,
   "id": "4862433f-7b36-478c-bd4a-e019d174b20b",
   "metadata": {},
   "outputs": [
    {
     "name": "stdout",
     "output_type": "stream",
     "text": [
      "Car using Engine Class Functionality\n",
      "10\n",
      "20\n",
      "Engine Specific Functionality\n"
     ]
    }
   ],
   "source": [
    "class Engine:\n",
    "    a=10\n",
    "\n",
    "    def __init__(self):\n",
    "        self.b=20\n",
    "\n",
    "    def m1(self):\n",
    "        print('Engine Specific Functionality')\n",
    "    \n",
    "class Car:\n",
    "  def __init__(self):\n",
    "    self.engine=Engine()\n",
    "\n",
    "  def m2(self):\n",
    "    print('Car using Engine Class Functionality')\n",
    "    print(self.engine.a)\n",
    "    print(self.engine.b)\n",
    "    self.engine.m1()\n",
    "\n",
    "c=Car()\n",
    "c.m2()"
   ]
  },
  {
   "cell_type": "markdown",
   "id": "ea963503-c2cc-4c6e-aa38-3b0f9a02a213",
   "metadata": {},
   "source": [
    "# IS-A Relationship - Inheritance"
   ]
  },
  {
   "cell_type": "markdown",
   "id": "0198da0f-1b06-4a39-86cb-fc76cfc2cda1",
   "metadata": {},
   "source": [
    "* Inheritance can be defined as the process where one class acquires the properties (methods and fields) of another.\n",
    "* With the use of inheritance, the information is made manageable in a hierarchical order.\n",
    "* The class that inherits the properties of the other is known as a **subclass**  (derived class or child class).\n",
    "* The class whose properties are inherited is known as a **superclass**  (base class, parent class).\n",
    "* Parent-to-child relationship.\n",
    "* Whatever variables, methods, and constructors are available in the **parent class by default are available to the child classes**, and we are not required to rewrite them - **Code reusability**.\n",
    "* The child class can define new members also, that is, the **child class can extend parent class functionality** - **Code extensibility**.\n",
    "* The main advantage of inheritance is **code reusability** and we can extend existing functionality with some more extra functionality.\n",
    "\n",
    "**SYNTAX:** `class childclass( parentclass )`"
   ]
  },
  {
   "cell_type": "code",
   "execution_count": 5,
   "id": "2470f662-628c-4950-a6e7-b52206afa21f",
   "metadata": {},
   "outputs": [
    {
     "name": "stdout",
     "output_type": "stream",
     "text": [
      "Parent constructor executed\n",
      "10\n",
      "10\n",
      "Parent instance method\n",
      "Parent class method\n",
      "Parent static method\n"
     ]
    }
   ],
   "source": [
    "class P:\n",
    "  a=10\n",
    "  def __init__(self, b):\n",
    "    self.b= b\n",
    "    print(\"Parent constructor executed\")\n",
    "\n",
    "  def m1(self):\n",
    "    print('Parent instance method')\n",
    "  \n",
    "  @classmethod\n",
    "  def m2(cls):\n",
    "    print('Parent class method')\n",
    "\n",
    "  @staticmethod\n",
    "  def m3():\n",
    "    print('Parent static method')\n",
    "\n",
    "class C(P):\n",
    "  def __init__(self, b):\n",
    "    super().__init__(b)                   # Calling parent class constructor\n",
    "\n",
    "c=C(10)       # Parent constructor executed\n",
    "print(c.a)    # 10\n",
    "print(c.b)    # 10\n",
    "c.m1()        # Parent instance method\n",
    "c.m2()        # Parent class method\n",
    "c.m3()        # Parent static method"
   ]
  },
  {
   "cell_type": "markdown",
   "id": "65268eb5-b199-4a32-ad8d-745bfdeca57e",
   "metadata": {},
   "source": [
    "# IS-A vs HAS-A Relationship"
   ]
  },
  {
   "attachments": {
    "f94579b9-2b04-44c9-bbe1-b8a7b1655774.png": {
     "image/png": "[encoded data removed]"
    }
   },
   "cell_type": "markdown",
   "id": "b1bde69f-c9ee-47de-8841-569fe92d9e18",
   "metadata": {},
   "source": [
    "If we want to extend existing functionality with some more extra functionality then we should go for an **IS-A relationship**.\n",
    "\n",
    "If we don't want to extend and just have to use existing functionality then we should go for **HAS-A relationship**.\n",
    "\n",
    "* **The Employee class extends the Person class Functionality.**\n",
    "* **But the Employee class just uses the Car functionality but not extending.**\n",
    "\n",
    "![image.png](attachment:f94579b9-2b04-44c9-bbe1-b8a7b1655774.png)"
   ]
  },
  {
   "cell_type": "code",
   "execution_count": 6,
   "id": "d2797636-7163-4ae4-8f0e-451644020bac",
   "metadata": {},
   "outputs": [],
   "source": [
    "class Car:\n",
    "  def __init__(self,name,model,color):\n",
    "    self.name=name\n",
    "    self.model=model\n",
    "    self.color=color\n",
    "\n",
    "  def getinfo(self):\n",
    "    print(\"\\tCar Name:{} \\n\\t Model:{} \\n\\t Color:{}\".format(self.name,self.model,\n",
    "    self.color))\n",
    "\n",
    "class Person:\n",
    "  def __init__(self,name,age):\n",
    "    self.name=name\n",
    "    self.age=age\n",
    "\n",
    "  def eatndrink(self):\n",
    "    print('Eat Biryani and Drink Beer')\n"
   ]
  },
  {
   "cell_type": "code",
   "execution_count": 7,
   "id": "d54ae496-7c55-4d40-bf4e-c1233ae87988",
   "metadata": {},
   "outputs": [],
   "source": [
    "class Employee(Person):\n",
    "  def __init__(self,name,age,eno,esal,car):\n",
    "    super().__init__(name,age)\n",
    "    self.eno=eno\n",
    "    self.esal=esal\n",
    "    self.car=car\n",
    "\n",
    "  def work(self):\n",
    "    print(\"Coding Python is very easy just like drinking Chilled Beer\")\n",
    "\n",
    "  def empinfo(self):\n",
    "    print(\"Employee Name:\",self.name)\n",
    "    print(\"Employee Age:\",self.age)\n",
    "    print(\"Employee Number:\",self.eno)\n",
    "    print(\"Employee Salary:\",self.esal)\n",
    "    print(\"Employee Car Info:\")\n",
    "    self.car.getinfo()\n"
   ]
  },
  {
   "cell_type": "code",
   "execution_count": 8,
   "id": "6b0623ee-218a-4f83-a768-67ee1462a29e",
   "metadata": {},
   "outputs": [
    {
     "name": "stdout",
     "output_type": "stream",
     "text": [
      "Eat Biryani and Drink Beer\n",
      "Coding Python is very easy just like drinking Chilled Beer\n",
      "Employee Name: Durga\n",
      "Employee Age: 48\n",
      "Employee Number: 100\n",
      "Employee Salary: 10000\n",
      "Employee Car Info:\n",
      "\tCar Name:Innova \n",
      "\t Model:2.5V \n",
      "\t Color:Grey\n"
     ]
    }
   ],
   "source": [
    "c = Car(\"Innova\",\"2.5V\",\"Grey\")\n",
    "e = Employee('Durga',48,100,10000,c)\n",
    "e.eatndrink()\n",
    "e.work()\n",
    "e.empinfo()"
   ]
  },
  {
   "cell_type": "code",
   "execution_count": null,
   "id": "419068c9-4c42-4186-97a0-b84ce4cb275d",
   "metadata": {},
   "outputs": [],
   "source": []
  }
 ],
 "metadata": {
  "kernelspec": {
   "display_name": "Python 3 (ipykernel)",
   "language": "python",
   "name": "python3"
  },
  "language_info": {
   "codemirror_mode": {
    "name": "ipython",
    "version": 3
   },
   "file_extension": ".py",
   "mimetype": "text/x-python",
   "name": "python",
   "nbconvert_exporter": "python",
   "pygments_lexer": "ipython3",
   "version": "3.12.5"
  }
 },
 "nbformat": 4,
 "nbformat_minor": 5
}
