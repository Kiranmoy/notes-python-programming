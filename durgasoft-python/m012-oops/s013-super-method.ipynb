{
 "cells": [
  {
   "cell_type": "markdown",
   "id": "bfe0e269-1de7-41f9-860f-e2680f224663",
   "metadata": {},
   "source": [
    "# The super( ) method"
   ]
  },
  {
   "cell_type": "markdown",
   "id": "c6b867ac-aab5-4bc1-858f-6e9dfad2b1df",
   "metadata": {},
   "source": [
    "Parent class members are by default available to the child class → Child class can access parent class members directly.\n",
    "\n",
    "But **if parent and child class contains members with the same name**, then to call immediate parent class members explicitly from the child class, we have to use the `super( )` method.\n",
    "\n",
    "The `super( )` is a built-in method that is useful **to call the immediate parent class constructors, static variables, class variables, and ( static, class & instance ) methods from the child class**.\n",
    "* Call parent class method → **`super( ).method( )`**\n",
    "* Call parent class constructor → **`super( ).__init__( self )`**\n",
    "* Call parent class variables → **`super( ).variable`**\n",
    "\n",
    "**Example 1:**"
   ]
  },
  {
   "cell_type": "code",
   "execution_count": 1,
   "id": "0690f699-2ba1-4b15-847c-3ec47b9fa744",
   "metadata": {},
   "outputs": [
    {
     "name": "stdout",
     "output_type": "stream",
     "text": [
      "Name: Durga\n",
      "Age: 22\n",
      "Roll No: 101\n",
      "Marks: 90\n"
     ]
    }
   ],
   "source": [
    "class Person:\n",
    "  def __init__(self,name,age):\n",
    "    self.name=name\n",
    "    self.age=age\n",
    "\n",
    "  def display(self):\n",
    "    print('Name:',self.name)\n",
    "    print('Age:',self.age)\n",
    "\n",
    "class Student(Person):\n",
    "  def __init__(self,name,age,rollno,marks):\n",
    "    super().__init__(name,age)\n",
    "    self.rollno=rollno\n",
    "    self.marks=marks\n",
    "\n",
    "  def display(self):\n",
    "    super().display()\n",
    "    print('Roll No:',self.rollno)\n",
    "    print('Marks:',self.marks)\n",
    "\n",
    "s1=Student('Durga',22,101,90)\n",
    "s1.display()"
   ]
  },
  {
   "cell_type": "markdown",
   "id": "2094c9c5-0778-4460-a360-8b25e38d8e91",
   "metadata": {},
   "source": [
    "In the above program, we are using the `super( )` method **to call the parent class constructor** and display( ) method.\n",
    "\n",
    "**Example 2:**"
   ]
  },
  {
   "cell_type": "code",
   "execution_count": 2,
   "id": "2a25fcfc-18c9-450d-9d97-60bb4a70a6a7",
   "metadata": {},
   "outputs": [
    {
     "name": "stdout",
     "output_type": "stream",
     "text": [
      "10\n",
      "Parent instance method\n",
      "Parent class method\n",
      "Parent static method\n"
     ]
    }
   ],
   "source": [
    "class P:\n",
    "  a=10\n",
    "  def __init__(self):\n",
    "    self.b=10\n",
    "\n",
    "  def m1(self):\n",
    "    print('Parent instance method')\n",
    "\n",
    "  @classmethod\n",
    "  def m2(cls):\n",
    "    print('Parent class method')\n",
    "\n",
    "  @staticmethod\n",
    "  def m3():\n",
    "    print('Parent static method')\n",
    "\n",
    "class C(P):\n",
    "  a=888\n",
    "  def __init__(self):\n",
    "    self.b=999\n",
    "    super().__init__()\n",
    "    print(super().a)    \n",
    "    super().m1()\n",
    "    super().m2()\n",
    "    super().m3()\n",
    "    \n",
    "c = C()"
   ]
  },
  {
   "cell_type": "markdown",
   "id": "c9b15609-8ef8-4527-9da1-9c096ae2a492",
   "metadata": {},
   "source": [
    "In the above example, we are using `super( )` **to call various members of the parent class**."
   ]
  },
  {
   "cell_type": "markdown",
   "id": "92362ea5-7005-4bc8-88fb-24aff6fe0ed8",
   "metadata": {},
   "source": [
    "# How to call members of a specific parent class other than the immediate parent?"
   ]
  },
  {
   "cell_type": "markdown",
   "id": "be17edbb-2fbb-4618-b297-a36ba6b03f59",
   "metadata": {},
   "source": [
    "There are two ways:\n",
    "* **`super( parent_class_name, self ).m1( )`** → It will call `m1( )` method of the specified parent_class_name: **`super( D, self ).m1( )`**\n",
    "* **`parent_class_name.m1( self )`** → It will call `m1( )` method of the specified parent_class_name: **`D.m1( self )`**"
   ]
  },
  {
   "cell_type": "code",
   "execution_count": 3,
   "id": "d83ebd7c-bc95-43e4-8ebc-71ba83994adf",
   "metadata": {},
   "outputs": [
    {
     "name": "stdout",
     "output_type": "stream",
     "text": [
      "A class Method\n",
      "B class Method\n"
     ]
    }
   ],
   "source": [
    "class A:\n",
    "  def m1(self):\n",
    "    print('A class Method')\n",
    "\n",
    "class B(A):\n",
    "  def m1(self):\n",
    "    print('B class Method')\n",
    "\n",
    "class C(B):\n",
    "  def m1(self):\n",
    "    print('C class Method')\n",
    "\n",
    "class D(C):\n",
    "  def m1(self):\n",
    "    print('D class Method')\n",
    "\n",
    "class E(D):\n",
    "  def m1(self): \n",
    "    A.m1(self)            # Call Parent class A m1 method - m1() method of class A\n",
    "    super(C,self).m1()    # Call C class Parent m1() method - m1() method of class B\n",
    "\n",
    "e=E()\n",
    "e.m1()              \n",
    "\n",
    "# A class Method\n",
    "# B Class Method"
   ]
  },
  {
   "cell_type": "markdown",
   "id": "0dfd0d50-1336-48bc-ad19-7ed813d13167",
   "metadata": {},
   "source": [
    "# super( ) vs parent instance variable"
   ]
  },
  {
   "cell_type": "markdown",
   "id": "411d3213-3c27-4d93-9e4d-1fe24791a359",
   "metadata": {},
   "source": [
    "From the child class, we are **not allowed to access parent class instance variables by using `super( )`**, compulsory we should use `self` only.\n",
    "\n",
    "But we can access parent class static variables by using `super( )`."
   ]
  },
  {
   "cell_type": "code",
   "execution_count": 4,
   "id": "7e15fd3d-7f40-43a1-a512-b99c7cf6881a",
   "metadata": {},
   "outputs": [
    {
     "name": "stdout",
     "output_type": "stream",
     "text": [
      "10\n",
      "20\n"
     ]
    },
    {
     "ename": "AttributeError",
     "evalue": "'super' object has no attribute 'b'",
     "output_type": "error",
     "traceback": [
      "\u001b[1;31m---------------------------------------------------------------------------\u001b[0m",
      "\u001b[1;31mAttributeError\u001b[0m                            Traceback (most recent call last)",
      "Cell \u001b[1;32mIn[4], line 13\u001b[0m\n\u001b[0;32m     10\u001b[0m     \u001b[38;5;28mprint\u001b[39m(\u001b[38;5;28msuper\u001b[39m()\u001b[38;5;241m.\u001b[39mb)  \u001b[38;5;66;03m# AttributeError: 'super' object has no attribute 'b'\u001b[39;00m\n\u001b[0;32m     12\u001b[0m c\u001b[38;5;241m=\u001b[39mC()\n\u001b[1;32m---> 13\u001b[0m \u001b[43mc\u001b[49m\u001b[38;5;241;43m.\u001b[39;49m\u001b[43mm1\u001b[49m\u001b[43m(\u001b[49m\u001b[43m)\u001b[49m\n",
      "Cell \u001b[1;32mIn[4], line 10\u001b[0m, in \u001b[0;36mC.m1\u001b[1;34m(self)\u001b[0m\n\u001b[0;32m      8\u001b[0m \u001b[38;5;28mprint\u001b[39m(\u001b[38;5;28msuper\u001b[39m()\u001b[38;5;241m.\u001b[39ma)  \u001b[38;5;66;03m# 10\u001b[39;00m\n\u001b[0;32m      9\u001b[0m \u001b[38;5;28mprint\u001b[39m(\u001b[38;5;28mself\u001b[39m\u001b[38;5;241m.\u001b[39mb)     \u001b[38;5;66;03m# 20\u001b[39;00m\n\u001b[1;32m---> 10\u001b[0m \u001b[38;5;28mprint\u001b[39m(\u001b[38;5;28;43msuper\u001b[39;49m\u001b[43m(\u001b[49m\u001b[43m)\u001b[49m\u001b[38;5;241;43m.\u001b[39;49m\u001b[43mb\u001b[49m)\n",
      "\u001b[1;31mAttributeError\u001b[0m: 'super' object has no attribute 'b'"
     ]
    }
   ],
   "source": [
    "class P:\n",
    "  a=10\n",
    "  def __init__(self):\n",
    "    self.b=20\n",
    "\n",
    "class C(P):\n",
    "  def m1(self):\n",
    "    print(super().a)  # 10\n",
    "    print(self.b)     # 20\n",
    "    print(super().b)  # AttributeError: 'super' object has no attribute 'b'\n",
    "    \n",
    "c=C()\n",
    "c.m1()"
   ]
  },
  {
   "cell_type": "markdown",
   "id": "a27f7447-0427-42f5-943d-618174fd5774",
   "metadata": {},
   "source": [
    "# Various important points about super( )"
   ]
  },
  {
   "cell_type": "markdown",
   "id": "65332b8e-cd06-4df7-aa0e-745ef3bc3893",
   "metadata": {},
   "source": [
    "From the child class **constructor** and **instance method**, we can access the parent class **instance method**, **static method**, and **class method** by using `super()`.\n",
    "\n",
    "\n",
    "From the child class, the **class method** we **cannot access** parent class **instance methods** and **constructors** by using `super()` directly  but indirectly possible. \n",
    "* But we can access parent class static and class methods.\n",
    "* **REASON:**\n",
    "    * The class method is in no way related to the object.\n",
    "    * Without an object, we can call class methods.\n",
    "    * But constructor and instance methods are always associated with an object.\n",
    "\n",
    "In the child class **static method**, we are **not allowed** to use `super( )` generally. But in a special way, we can use it."
   ]
  },
  {
   "cell_type": "code",
   "execution_count": 5,
   "id": "9084d8be-c7e4-4272-ac7b-856a7dc21872",
   "metadata": {},
   "outputs": [],
   "source": [
    "class P:\n",
    "  def __init__(self):\n",
    "    print('Parent Constructor')\n",
    "\n",
    "  def m1(self):\n",
    "    print('Parent instance method')\n",
    "\n",
    "  @classmethod\n",
    "  def m2(cls):\n",
    "    print('Parent class method')\n",
    "\n",
    "  @staticmethod\n",
    "  def m3():\n",
    "    print('Parent static method')\n",
    "    "
   ]
  },
  {
   "cell_type": "code",
   "execution_count": 6,
   "id": "5b6366be-c367-4ce9-bb95-32ab027ae6e0",
   "metadata": {},
   "outputs": [],
   "source": [
    "class C(P):\n",
    "  def __init__(self):\n",
    "    super().__init__()          # VALID\n",
    "    super().m1()                # VALID\n",
    "    super().m2()                # VALID\n",
    "    super().m3()                # VALID\n",
    "    \n",
    "  def m1(self):\n",
    "    super().__init__()          # VALID\n",
    "    super().m1()                # VALID\n",
    "    super().m2()                # VALID\n",
    "    super().m3()                # VALID\n",
    "    \n",
    "  @classmethod\n",
    "  def m2(cls):\n",
    "    super().__init__()          # IN-VALID\n",
    "    super().m1()                # IN-VALID\n",
    "    super().m2()                # VALID\n",
    "    super().m3()                # VALID\n",
    "\n",
    "  @staticmethod\n",
    "  def m3():\n",
    "    super().__init__()          # IN-VALID | RuntimeError: super(): no arguments\n",
    "    super().m1()                # IN-VALID | RuntimeError: super(): no arguments\n",
    "    super().m2()                # IN-VALID | RuntimeError: super(): no arguments\n",
    "    super().m3()                # IN-VALID | RuntimeError: super(): no arguments\n",
    "      "
   ]
  },
  {
   "cell_type": "markdown",
   "id": "6a87bc12-f610-4637-9388-eb7c5d112597",
   "metadata": {},
   "source": [
    "# From the class method of the child class, how to call parent class instance methods and constructors."
   ]
  },
  {
   "cell_type": "code",
   "execution_count": 7,
   "id": "b7b0ab8b-3d7f-4d3b-b411-67c7ca02525a",
   "metadata": {},
   "outputs": [
    {
     "name": "stdout",
     "output_type": "stream",
     "text": [
      "Parent constructor\n",
      "Parent instance method\n"
     ]
    }
   ],
   "source": [
    "class A:\n",
    "  def __init__(self):\n",
    "    print('Parent constructor')\n",
    "\n",
    "  def m1(self):\n",
    "    print('Parent instance method')\n",
    "\n",
    "class B(A):\n",
    "  @classmethod\n",
    "  def m2(cls):\n",
    "    super(B,cls).__init__(cls)\n",
    "    super(B,cls).m1(cls)\n",
    "\n",
    "B.m2()"
   ]
  },
  {
   "cell_type": "markdown",
   "id": "3691e526-890d-4640-b374-21537a3d5e40",
   "metadata": {},
   "source": [
    "# How to call the parent class static method from the child class static method by using super( )?"
   ]
  },
  {
   "cell_type": "code",
   "execution_count": 8,
   "id": "42d804db-1357-4841-9ca9-101008677015",
   "metadata": {},
   "outputs": [
    {
     "name": "stdout",
     "output_type": "stream",
     "text": [
      "Parent static method\n",
      "Parent class method\n"
     ]
    }
   ],
   "source": [
    "class A:\n",
    "  @staticmethod\n",
    "  def m1():\n",
    "    print('Parent static method')\n",
    "\n",
    "  @classmethod\n",
    "  def m2(cls):\n",
    "    print('Parent class method')\n",
    "    \n",
    "class B(A):\n",
    "  @staticmethod\n",
    "  def m2():\n",
    "    super(B,B).m1()\n",
    "    super(B,B).m2()\n",
    "\n",
    "B.m2()    \n",
    "\n",
    "# Parent static method\n",
    "# Parent class method"
   ]
  },
  {
   "cell_type": "code",
   "execution_count": null,
   "id": "3c3552ff-51d7-417e-8dce-86f8d28b90c1",
   "metadata": {},
   "outputs": [],
   "source": []
  }
 ],
 "metadata": {
  "kernelspec": {
   "display_name": "Python 3 (ipykernel)",
   "language": "python",
   "name": "python3"
  },
  "language_info": {
   "codemirror_mode": {
    "name": "ipython",
    "version": 3
   },
   "file_extension": ".py",
   "mimetype": "text/x-python",
   "name": "python",
   "nbconvert_exporter": "python",
   "pygments_lexer": "ipython3",
   "version": "3.12.5"
  }
 },
 "nbformat": 4,
 "nbformat_minor": 5
}
