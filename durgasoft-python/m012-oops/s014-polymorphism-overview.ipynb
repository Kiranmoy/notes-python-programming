{
 "cells": [
  {
   "cell_type": "markdown",
   "id": "4f099d4a-e905-4d9d-a6a6-1bfd17b9ac2f",
   "metadata": {},
   "source": [
    "**Poly** means **many**. \n",
    "\n",
    "**Morphs** mean **forms**.\n",
    "\n",
    "**Polymorphism** means **'Many Forms'**.\n",
    "\n",
    "One name but multiple forms is the concept of polymorphism.\n",
    "\n",
    "**Example 1:**\n",
    "\n",
    "Yourself is the best example of polymorphism. In front of your parents, you will have one type of behavior, and with friends another type of behavior. \n",
    "\n",
    "The same person but different behaviors at different places, which is nothing but polymorphism.\n",
    "\n",
    "**Example 2:** The `+` operator acts as **concatenation** and **arithmetic** addition\n",
    "**Example 3:** The `*` operator acts as a **multiplication** and **repetition** operator\n",
    "**Example 4:** The same method with different implementations in the parent class and child classes. (overriding)\n",
    "\n",
    " \n",
    "\n",
    "Related to Polymorphism, there are 4 important topics:\n",
    "\n",
    "**Overloading**\n",
    "* Operator Overloading\n",
    "* Method Overloading\n",
    "* Constructor Overloading\n",
    "\n",
    "**Overriding**\n",
    "* Method Overriding\n",
    "* Constructor Overriding\n",
    "\n",
    "**Pythonic behavior**\n",
    "* Duck typing\n",
    "* Easier to Ask for Forgiveness than Permission (EAFP)\n",
    "* Monkey Patching"
   ]
  },
  {
   "cell_type": "code",
   "execution_count": null,
   "id": "6d674074-5f21-44c7-b1f3-da6d90eb7c6f",
   "metadata": {},
   "outputs": [],
   "source": []
  }
 ],
 "metadata": {
  "kernelspec": {
   "display_name": "Python 3 (ipykernel)",
   "language": "python",
   "name": "python3"
  },
  "language_info": {
   "codemirror_mode": {
    "name": "ipython",
    "version": 3
   },
   "file_extension": ".py",
   "mimetype": "text/x-python",
   "name": "python",
   "nbconvert_exporter": "python",
   "pygments_lexer": "ipython3",
   "version": "3.12.5"
  }
 },
 "nbformat": 4,
 "nbformat_minor": 5
}
