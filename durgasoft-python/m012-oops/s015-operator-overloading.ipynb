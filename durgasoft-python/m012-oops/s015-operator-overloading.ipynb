{
 "cells": [
  {
   "cell_type": "markdown",
   "id": "487f3e56-096e-44a8-93ce-d904f06b451b",
   "metadata": {},
   "source": [
    "# Operator Overloading"
   ]
  },
  {
   "cell_type": "markdown",
   "id": "951a1d21-52d2-4f24-b2c7-919243f42ae5",
   "metadata": {},
   "source": [
    "We can use the same operator for multiple purposes, which is nothing but operator overloading.\n",
    "\n",
    "Python supports operator overloading.\n",
    "\n",
    "**Example 1:** The `+` operator acts as **concatenation** and **arithmetic** addition.\n",
    "```\n",
    "print(10+20)            # 30\n",
    "print('durga'+'soft')   # durgasoft\n",
    "```\n",
    "\n",
    "**Example 2:** The `*` operator acts as a **multiplication** and **repetition** operator\n",
    "```\n",
    "print(10*20)        # 200\n",
    "print('durga'*3)    # durgadurgadurga\n",
    "```"
   ]
  },
  {
   "cell_type": "markdown",
   "id": "94e585c3-9f5f-4828-8d07-48fce227ddf1",
   "metadata": {},
   "source": [
    "# Demo program to use the + operator for our class objects"
   ]
  },
  {
   "cell_type": "code",
   "execution_count": 1,
   "id": "38b91799-7df1-4bf4-a990-d3077fb5f185",
   "metadata": {},
   "outputs": [
    {
     "ename": "TypeError",
     "evalue": "unsupported operand type(s) for +: 'Book' and 'Book'",
     "output_type": "error",
     "traceback": [
      "\u001b[1;31m---------------------------------------------------------------------------\u001b[0m",
      "\u001b[1;31mTypeError\u001b[0m                                 Traceback (most recent call last)",
      "Cell \u001b[1;32mIn[1], line 7\u001b[0m\n\u001b[0;32m      5\u001b[0m b1\u001b[38;5;241m=\u001b[39mBook(\u001b[38;5;241m100\u001b[39m)\n\u001b[0;32m      6\u001b[0m b2\u001b[38;5;241m=\u001b[39mBook(\u001b[38;5;241m200\u001b[39m)\n\u001b[1;32m----> 7\u001b[0m \u001b[38;5;28mprint\u001b[39m(\u001b[43mb1\u001b[49m\u001b[38;5;241;43m+\u001b[39;49m\u001b[43mb2\u001b[49m)\n",
      "\u001b[1;31mTypeError\u001b[0m: unsupported operand type(s) for +: 'Book' and 'Book'"
     ]
    }
   ],
   "source": [
    "class Book:\n",
    "  def __init__(self,pages):\n",
    "    self.pages=pages\n",
    "\n",
    "b1=Book(100)\n",
    "b2=Book(200)\n",
    "print(b1+b2)"
   ]
  },
  {
   "cell_type": "markdown",
   "id": "fc82cd76-7e9b-47ff-b5ec-49144ca28529",
   "metadata": {},
   "source": [
    "We can overload the `+` operator to work with Book objects also. \n",
    "\n",
    "That is, python supports **Operator Overloading**.\n",
    "\n",
    "For every operator **Magic Methods** are available. \n",
    "\n",
    "To overload any operator we have to override that method in our class.\n",
    "\n",
    "Internally `+` operator is implemented by using **add( )** method. \n",
    "\n",
    "This method is called the **magic method** for the `+` operator. \n",
    "\n",
    "We have to override this method in our class.\n",
    "\n",
    "**Example:**"
   ]
  },
  {
   "cell_type": "code",
   "execution_count": 2,
   "id": "fb2054da-3f51-4179-97ca-d498d9c2b378",
   "metadata": {},
   "outputs": [
    {
     "name": "stdout",
     "output_type": "stream",
     "text": [
      "The Total Number of Pages: 300\n"
     ]
    }
   ],
   "source": [
    "class Book:\n",
    "  def __init__(self,pages):\n",
    "    self.pages=pages\n",
    "\n",
    "  def __add__(self,other):\n",
    "    return self.pages + other.pages\n",
    "\n",
    "b1 = Book(100)\n",
    "b2 = Book(200)\n",
    "b3 = Book(300)\n",
    "print('The Total Number of Pages:', b1 + b2)    # The Total Number of Pages: 300"
   ]
  },
  {
   "cell_type": "code",
   "execution_count": 3,
   "id": "d68876c5-f310-4e9d-877e-2eb2d8eba267",
   "metadata": {},
   "outputs": [
    {
     "ename": "TypeError",
     "evalue": "unsupported operand type(s) for +: 'int' and 'Book'",
     "output_type": "error",
     "traceback": [
      "\u001b[1;31m---------------------------------------------------------------------------\u001b[0m",
      "\u001b[1;31mTypeError\u001b[0m                                 Traceback (most recent call last)",
      "Cell \u001b[1;32mIn[3], line 1\u001b[0m\n\u001b[1;32m----> 1\u001b[0m \u001b[38;5;28mprint\u001b[39m(\u001b[38;5;124m'\u001b[39m\u001b[38;5;124mThe Total Number of Pages:\u001b[39m\u001b[38;5;124m'\u001b[39m, \u001b[43mb1\u001b[49m\u001b[43m \u001b[49m\u001b[38;5;241;43m+\u001b[39;49m\u001b[43m \u001b[49m\u001b[43mb2\u001b[49m\u001b[43m \u001b[49m\u001b[38;5;241;43m+\u001b[39;49m\u001b[43m \u001b[49m\u001b[43mb3\u001b[49m)   \u001b[38;5;66;03m# TypeError: unsupported operand type(s) for +: 'int' and 'Book'\u001b[39;00m\n",
      "\u001b[1;31mTypeError\u001b[0m: unsupported operand type(s) for +: 'int' and 'Book'"
     ]
    }
   ],
   "source": [
    "print('The Total Number of Pages:', b1 + b2 + b3)   # TypeError: unsupported operand type(s) for +: 'int' and 'Book'"
   ]
  },
  {
   "cell_type": "markdown",
   "id": "8c765961-1e4c-45a6-af11-c2f51955af7a",
   "metadata": {},
   "source": [
    "# List of operators and corresponding magic methods"
   ]
  },
  {
   "cell_type": "markdown",
   "id": "7819389e-e004-4d21-94f0-7e47deb70fe0",
   "metadata": {},
   "source": [
    "OPERATORS: `+`      | MAGIC METHODS: `object.__add__(self,other)`           | EXAMPLE: `a + b → a.__add__(b)`\n",
    "\n",
    "OPERATORS: `-`      | MAGIC METHODS: `object.__sub__(self,other)`           | EXAMPLE: `a - b → a.__sub__(b)`\n",
    "\n",
    "OPERATORS: `*`      | MAGIC METHODS: `object.__mul__(self,other)`           | EXAMPLE: `a * b → a.__mul__(b)`\n",
    "\n",
    "OPERATORS: `/`      | MAGIC METHODS: `object.__div__(self,other)`           | EXAMPLE: `a / b → a.__div__(b)`\n",
    "\n",
    "OPERATORS: `//`     | MAGIC METHODS: `object.__floordiv__(self,other)`      | EXAMPLE: `a // b → a.__floordiv__(b)`\n",
    "\n",
    "OPERATORS: `%`      | MAGIC METHODS: `object.__mod__(self,other)`           | EXAMPLE: `a % b → a.__mod__(b)`\n",
    "\n",
    "OPERATORS: `**`     | MAGIC METHODS: `object.__pow__(self,other)`           | EXAMPLE: `a ** b → a.__pow__(b)`\n",
    "\n",
    "OPERATORS: `+=`     | MAGIC METHODS: `object.__iadd__(self,other)`          | EXAMPLE: `a += b → a.__iadd__(b)`\n",
    "\n",
    "OPERATORS: `-=`     | MAGIC METHODS: `object.__isub__(self,other)`          | EXAMPLE: `a -= b → a.__isub__(b)`\n",
    "\n",
    "OPERATORS: `*=`     | MAGIC METHODS: `object.__imul__(self,other)`          | EXAMPLE: `a *= b → a.__imul__(b)`\n",
    "\n",
    "OPERATORS: `/=`     | MAGIC METHODS: `object.__idiv__(self,other)`          | EXAMPLE: `a /= b → a.__idiv__(b)`\n",
    "\n",
    "OPERATORS: `//=`    | MAGIC METHODS: `object.__ifloordiv__(self,other)`     | EXAMPLE: `a //= b → a.__ifloordiv__(b)`\n",
    "\n",
    "OPERATORS: `%=`     | MAGIC METHODS: `object.__imod__(self,other)`          | EXAMPLE: `a %= b → a.__imod__(b)`\n",
    "\n",
    "OPERATORS: `**=`    | MAGIC METHODS: `object.__ipow__(self,other)`          | EXAMPLE: `a **= b → a.__ipow__(b)`\n",
    "\n",
    "OPERATORS: `<`      | MAGIC METHODS: `object.__lt__(self,other)`            | EXAMPLE: `a < b → a.__lt__(b)`\n",
    "\n",
    "OPERATORS: `<=`     | MAGIC METHODS: `object.__le__(self,other)`            | EXAMPLE: `a <= b → a.__le__(b)`\n",
    "\n",
    "OPERATORS: `>`      | MAGIC METHODS: `object.__gt__(self,other)`            | EXAMPLE: `a > b → a.__gt__(b)`\n",
    "\n",
    "OPERATORS: `>=`     | MAGIC METHODS: `object.__ge__(self,other)`            | EXAMPLE: `a >= b → a.__ge__(b)`\n",
    "\n",
    "OPERATORS: `==`     | MAGIC METHODS: `object.__eq__(self,other)`            | EXAMPLE: `a == b → a.__eq__(b)`\n",
    "\n",
    "OPERATORS: `!=`     | MAGIC METHODS: `object.__ne__(self,other)`            | EXAMPLE: `a != b → a.__ne__(b)`\n"
   ]
  },
  {
   "cell_type": "markdown",
   "id": "aab259ba-ed76-4a40-a3e6-b4dcc41aa7a4",
   "metadata": {},
   "source": [
    "# Overloading > and <= Operators for Student Class Objects"
   ]
  },
  {
   "cell_type": "code",
   "execution_count": 5,
   "id": "5dcaeece-79ec-419c-951a-ef7948ffddd3",
   "metadata": {},
   "outputs": [
    {
     "name": "stdout",
     "output_type": "stream",
     "text": [
      "10>20 = False\n",
      "s1>s2= False\n",
      "s1<s2= True\n",
      "s1<=s2= True\n",
      "s1>=s2= False\n"
     ]
    }
   ],
   "source": [
    "class Student:\n",
    "  def __init__(self,name,marks):\n",
    "    self.name=name\n",
    "    self.marks=marks\n",
    "\n",
    "  def __gt__(self,other):\n",
    "    return self.marks>other.marks\n",
    "\n",
    "  def __le__(self,other):\n",
    "    return self.marks<=other.marks\n",
    "\n",
    "print(\"10>20 =\",10>20)    # 10>20 = False\n",
    "s1=Student(\"Durga\",100)\n",
    "s2=Student(\"Ravi\",200)\n",
    "print(\"s1>s2=\",s1>s2)     # s1>s2= False\n",
    "print(\"s1<s2=\",s1<s2)     # s1<s2= True\n",
    "print(\"s1<=s2=\",s1<=s2)   # s1<=s2= True\n",
    "print(\"s1>=s2=\",s1>=s2)   # s1>=s2= False"
   ]
  },
  {
   "cell_type": "markdown",
   "id": "12557927-e9bf-4c5e-afe9-ed45980a53b3",
   "metadata": {},
   "source": [
    "* If we are implement the **`__gt__( )`** magic method then we don’t need to implement the **`__lt__( )`** method explicitly.\n",
    "* By default, **`__lt__( )`** method will work. And vice-versa also.\n",
    "* If we are implement the **`__le__( )`** magic method then we don’t need to implement the **`__ge__( )`** method explicitly.\n",
    "* By default, **`__ge__( )`** method will work. And vice-versa also."
   ]
  },
  {
   "cell_type": "markdown",
   "id": "35084b2b-eb1f-4bab-80a2-4b21b0282f83",
   "metadata": {},
   "source": [
    "# Program to overload multiplication operator to work on employee objects"
   ]
  },
  {
   "cell_type": "code",
   "execution_count": 6,
   "id": "fcfddb34-fd9a-4a20-aa1c-a5c0c79a0190",
   "metadata": {},
   "outputs": [
    {
     "name": "stdout",
     "output_type": "stream",
     "text": [
      "This Month Salary: 12500\n"
     ]
    },
    {
     "ename": "TypeError",
     "evalue": "unsupported operand type(s) for *: 'TimeSheet' and 'Employee'",
     "output_type": "error",
     "traceback": [
      "\u001b[1;31m---------------------------------------------------------------------------\u001b[0m",
      "\u001b[1;31mTypeError\u001b[0m                                 Traceback (most recent call last)",
      "Cell \u001b[1;32mIn[6], line 18\u001b[0m\n\u001b[0;32m     15\u001b[0m t\u001b[38;5;241m=\u001b[39mTimeSheet(\u001b[38;5;124m'\u001b[39m\u001b[38;5;124mDurga\u001b[39m\u001b[38;5;124m'\u001b[39m,\u001b[38;5;241m25\u001b[39m)\n\u001b[0;32m     16\u001b[0m \u001b[38;5;28mprint\u001b[39m(\u001b[38;5;124m'\u001b[39m\u001b[38;5;124mThis Month Salary:\u001b[39m\u001b[38;5;124m'\u001b[39m, e \u001b[38;5;241m*\u001b[39m t)    \u001b[38;5;66;03m# This Month Salary: 12500\u001b[39;00m\n\u001b[1;32m---> 18\u001b[0m \u001b[38;5;28mprint\u001b[39m(\u001b[38;5;124m'\u001b[39m\u001b[38;5;124mThis Month Salary:\u001b[39m\u001b[38;5;124m'\u001b[39m, \u001b[43mt\u001b[49m\u001b[43m \u001b[49m\u001b[38;5;241;43m*\u001b[39;49m\u001b[43m \u001b[49m\u001b[43me\u001b[49m)    \n\u001b[0;32m     19\u001b[0m \u001b[38;5;66;03m# TypeError: unsupported operand type(s) for *: 'Timesheet' and 'Employee' \u001b[39;00m\n",
      "\u001b[1;31mTypeError\u001b[0m: unsupported operand type(s) for *: 'TimeSheet' and 'Employee'"
     ]
    }
   ],
   "source": [
    "class Employee:\n",
    "  def __init__(self,name,salary):\n",
    "    self.name=name\n",
    "    self.salary=salary\n",
    "\n",
    "  def __mul__(self,other):\n",
    "    return self.salary*other.days\n",
    "\n",
    "class TimeSheet:\n",
    "  def __init__(self,name,days):\n",
    "    self.name=name\n",
    "    self.days=days\n",
    "\n",
    "e=Employee('Durga',500)\n",
    "t=TimeSheet('Durga',25)\n",
    "print('This Month Salary:', e * t)    # This Month Salary: 12500\n",
    "\n",
    "print('This Month Salary:', t * e)    \n",
    "# TypeError: unsupported operand type(s) for *: 'Timesheet' and 'Employee' "
   ]
  },
  {
   "cell_type": "markdown",
   "id": "de5b05da-167f-4956-81f2-68ab1bc5bbec",
   "metadata": {},
   "source": [
    "# Importance of __str__( ) method"
   ]
  },
  {
   "cell_type": "markdown",
   "id": "b1ede785-8c78-41ab-aee8-16534ad282ad",
   "metadata": {},
   "source": [
    "* Whenever we are trying to print any object reference, internally **`__str__( )`** method will be called. \n",
    "* The default implementation of this method returns the string in the following format: **`<__main__.Student object at 0x000000000027ED748>`**\n",
    "* To provide meaningful string representation for our object, we have to override the **`__str__( )`** method in our class."
   ]
  },
  {
   "cell_type": "code",
   "execution_count": 7,
   "id": "845314d1-9997-4b44-9dbb-703f6339025d",
   "metadata": {},
   "outputs": [
    {
     "name": "stdout",
     "output_type": "stream",
     "text": [
      "<__main__.Student object at 0x0000015E5A535190>\n",
      "<__main__.Student object at 0x0000015E5A4B3740>\n"
     ]
    }
   ],
   "source": [
    "class Student:\n",
    "  def __init__(self, name, rollno, marks):\n",
    "    self.name = name\n",
    "    self.rollno = rollno\n",
    "    self.marks = marks\n",
    "    \n",
    "s1 = Student(\"Durga\", 101, 95)\n",
    "s2 = Student(\"Ravi\", 102, 98)\n",
    "\n",
    "print(s1)   # <__main__.Student object at 0x000000000027ED748>\n",
    "print(s2)   # <__main__.Student object at 0x000000000037ED7B8>"
   ]
  },
  {
   "cell_type": "code",
   "execution_count": 8,
   "id": "8ce3a163-0ff3-40a6-8078-5c3763394f8c",
   "metadata": {},
   "outputs": [
    {
     "name": "stdout",
     "output_type": "stream",
     "text": [
      "<__main__.Student object at 0x0000015E5A3C4D70>\n",
      "<__main__.Student object at 0x0000015E5A535190>\n"
     ]
    }
   ],
   "source": [
    "class Student:\n",
    "  def __init__(self, name, rollno, marks):\n",
    "    self.name = name\n",
    "    self.rollno = rollno\n",
    "    self.marks = marks\n",
    "\n",
    "  def __str(self):\n",
    "    return \"Name:{}, Roll:{}, Marks:{}\".format(self.name, self.rollno, self.marks)\n",
    "    \n",
    "s1 = Student(\"Durga\", 101, 95)\n",
    "s2 = Student(\"Ravi\", 102, 98)\n",
    "\n",
    "print(s1)   # Name:Durga, Roll:101, Marks:95\n",
    "print(s2)   # Name:Ravi, Roll:102, Marks:98"
   ]
  },
  {
   "cell_type": "markdown",
   "id": "225a54a7-f13b-450a-99eb-cab54e90ef50",
   "metadata": {},
   "source": [
    "# Overloading of + operator for nesting requirements - apply + operator for 3 or more operands"
   ]
  },
  {
   "cell_type": "code",
   "execution_count": 11,
   "id": "ea726f9a-7aee-4639-97b0-55d00f4c47ff",
   "metadata": {},
   "outputs": [
    {
     "name": "stdout",
     "output_type": "stream",
     "text": [
      "The Total Number of Pages: 300\n",
      "The Total Number of Pages: 600\n",
      "The Total Number of Pages: 900\n"
     ]
    }
   ],
   "source": [
    "class Book:\n",
    "  def __init__(self,pages):\n",
    "    self.pages=pages\n",
    "\n",
    "  def __add__(self,other):\n",
    "    return Book(self.pages + other.pages)           # Return new Book object instead of int.\n",
    "    \n",
    "  def __str__(self):\n",
    "    return self.pages\n",
    "\n",
    "b1 = Book(100)\n",
    "b2 = Book(200)\n",
    "b3 = Book(300)\n",
    "b4 = Book(300)\n",
    "\n",
    "print('The Total Number of Pages:', b1.pages + b2.pages)                         # The Total Number of Pages: 300\n",
    "\n",
    "print('The Total Number of Pages:', b1.pages + b2.pages + b3.pages)              # The Total Number of Pages: 600\n",
    "\n",
    "print('The Total Number of Pages:', b1.pages + b2.pages + b3.pages + b4.pages)    # The Total Number of Pages: 900"
   ]
  },
  {
   "cell_type": "code",
   "execution_count": null,
   "id": "47c36a41-0385-4f50-a33a-420a6ecc1ab8",
   "metadata": {},
   "outputs": [],
   "source": []
  }
 ],
 "metadata": {
  "kernelspec": {
   "display_name": "Python 3 (ipykernel)",
   "language": "python",
   "name": "python3"
  },
  "language_info": {
   "codemirror_mode": {
    "name": "ipython",
    "version": 3
   },
   "file_extension": ".py",
   "mimetype": "text/x-python",
   "name": "python",
   "nbconvert_exporter": "python",
   "pygments_lexer": "ipython3",
   "version": "3.12.5"
  }
 },
 "nbformat": 4,
 "nbformat_minor": 5
}
