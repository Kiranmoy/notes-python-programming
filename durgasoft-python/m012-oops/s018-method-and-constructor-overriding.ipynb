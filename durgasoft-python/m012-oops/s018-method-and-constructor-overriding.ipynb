{
 "cells": [
  {
   "cell_type": "markdown",
   "id": "951a4b36-bc99-48ad-be68-5c4f99d25968",
   "metadata": {},
   "source": [
    "# Overriding"
   ]
  },
  {
   "cell_type": "markdown",
   "id": "636e232e-dc6e-4cee-b56e-ca015ac47d2b",
   "metadata": {},
   "source": [
    "Whatever members are available in the parent class are by default available to the child class through inheritance. \n",
    "\n",
    "If the child class is not satisfied with parent class implementation then the child class is allowed to redefine that method in the child class based on its requirement. This concept is called **overriding**.\n",
    "\n",
    "The overriding concept is applicable to both methods and constructors."
   ]
  },
  {
   "cell_type": "markdown",
   "id": "b247520f-ad01-45d9-9ff6-fd213e8e71f8",
   "metadata": {},
   "source": [
    "# Method overriding"
   ]
  },
  {
   "cell_type": "code",
   "execution_count": 1,
   "id": "0945d51b-b662-4259-bdb9-f4fb118d8880",
   "metadata": {},
   "outputs": [
    {
     "name": "stdout",
     "output_type": "stream",
     "text": [
      "Gold+Land+Cash+Power\n",
      "Katrina Kaif\n"
     ]
    }
   ],
   "source": [
    "class P:\n",
    "  def property(self):\n",
    "    print('Gold+Land+Cash+Power')\n",
    "  \n",
    "  def marry(self):\n",
    "    print('Appalamma')\n",
    "\n",
    "class C(P):\n",
    "  def marry(self):\n",
    "    print('Katrina Kaif')\n",
    "\n",
    "c = C()\n",
    "c.property()  # Gold+Land+Cash+Power\n",
    "c.marry()     # Katrina Kaif\n"
   ]
  },
  {
   "cell_type": "markdown",
   "id": "3cbd2e97-864d-420b-a415-6ef0914cc2fd",
   "metadata": {},
   "source": [
    "From the overriding method of the child class, we can call the parent class method also by using the `super( )` method."
   ]
  },
  {
   "cell_type": "code",
   "execution_count": 2,
   "id": "4cc772e1-d222-4e49-b119-09189460ebd6",
   "metadata": {},
   "outputs": [
    {
     "name": "stdout",
     "output_type": "stream",
     "text": [
      "Gold+Land+Cash+Power\n",
      "Appalamma\n",
      "Katrina Kaif\n"
     ]
    }
   ],
   "source": [
    "class P:\n",
    "  def property(self):\n",
    "    print('Gold+Land+Cash+Power')\n",
    "  def marry(self):\n",
    "    print('Appalamma')\n",
    "\n",
    "class C(P):\n",
    "  def marry(self):\n",
    "    super().marry()\n",
    "    print('Katrina Kaif')\n",
    "\n",
    "c = C()       # Gold+Land+Cash+Power  \n",
    "c.property()  # Appalamma\n",
    "c.marry()     # Katrina Kaif\n"
   ]
  },
  {
   "cell_type": "markdown",
   "id": "fc8dd76d-6868-45d2-bf32-fbc858e7a03e",
   "metadata": {},
   "source": [
    "# Constructor Overriding"
   ]
  },
  {
   "cell_type": "code",
   "execution_count": 3,
   "id": "84a79ec0-8776-4b3e-8b92-da85b409f7c8",
   "metadata": {},
   "outputs": [
    {
     "name": "stdout",
     "output_type": "stream",
     "text": [
      "Child Constructor\n"
     ]
    }
   ],
   "source": [
    "class P:\n",
    "  def __init__(self):\n",
    "    print('Parent Constructor')\n",
    "  \n",
    "class C(P):\n",
    "  def __init__(self):\n",
    "    print('Child Constructor')\n",
    "\n",
    "c = C() # Child Constructor"
   ]
  },
  {
   "cell_type": "markdown",
   "id": "27e5d0d0-7385-486b-a3e7-e3c2053ad89d",
   "metadata": {},
   "source": [
    "In the above example, if the child class does not contain a constructor then the parent class constructor will be executed.\n",
    "\n",
    "From the child class constructor, we can call the parent class constructor by using the `super( )` method. "
   ]
  },
  {
   "cell_type": "code",
   "execution_count": 4,
   "id": "ad53b9af-a9ab-446c-9640-87ca2aef52b6",
   "metadata": {},
   "outputs": [
    {
     "name": "stdout",
     "output_type": "stream",
     "text": [
      "Employee Name: Durga\n",
      "Employee Age: 48\n",
      "Employee Number: 872425\n",
      "Employee Salary: 26000\n",
      "Employee Name: Sunny\n",
      "Employee Age: 39\n",
      "Employee Number: 872426\n",
      "Employee Salary: 36000\n"
     ]
    }
   ],
   "source": [
    "class Person:\n",
    "  def __init__(self,name,age):\n",
    "    self.name=name\n",
    "    self.age=age\n",
    "\n",
    "class Employee(Person):\n",
    "  def __init__(self,name,age,eno,esal):\n",
    "    super().__init__(name,age)\n",
    "    self.eno=eno\n",
    "    self.esal=esal\n",
    "\n",
    "  def display(self):\n",
    "    print('Employee Name:',self.name)\n",
    "    print('Employee Age:',self.age)\n",
    "    print('Employee Number:',self.eno)\n",
    "    print('Employee Salary:',self.esal)\n",
    "\n",
    "e1 = Employee('Durga',48,872425,26000)\n",
    "e1.display()\n",
    "e2=Employee('Sunny',39,872426,36000)\n",
    "e2.display()\n"
   ]
  },
  {
   "cell_type": "code",
   "execution_count": null,
   "id": "fcafcc53-399c-4681-9a18-737183c49289",
   "metadata": {},
   "outputs": [],
   "source": []
  }
 ],
 "metadata": {
  "kernelspec": {
   "display_name": "Python 3 (ipykernel)",
   "language": "python",
   "name": "python3"
  },
  "language_info": {
   "codemirror_mode": {
    "name": "ipython",
    "version": 3
   },
   "file_extension": ".py",
   "mimetype": "text/x-python",
   "name": "python",
   "nbconvert_exporter": "python",
   "pygments_lexer": "ipython3",
   "version": "3.12.5"
  }
 },
 "nbformat": 4,
 "nbformat_minor": 5
}
