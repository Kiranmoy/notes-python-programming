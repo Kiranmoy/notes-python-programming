{
 "cells": [
  {
   "cell_type": "markdown",
   "id": "b03571a8-e72a-44eb-9876-e91bbfc66478",
   "metadata": {},
   "source": [
    "# __str__( ) method | Overriding"
   ]
  },
  {
   "cell_type": "markdown",
   "id": "acc06adc-8e04-4f0b-815d-751839a7f0e1",
   "metadata": {},
   "source": [
    "Whenever we are printing any object reference internally **`__str__( )`** method will be called, which returns the string representation of the object in the following format:\n",
    "\n",
    "**`<__main__.classname object at 0x022144B0>`**\n",
    "\n",
    "To return meaningful string representation we have to override the **`__str__( )`** method."
   ]
  },
  {
   "cell_type": "code",
   "execution_count": 1,
   "id": "36d9d6d2-81dd-4e04-b181-0836567385d0",
   "metadata": {},
   "outputs": [
    {
     "name": "stdout",
     "output_type": "stream",
     "text": [
      "This is Student with Name:Durga and Rollno:101\n",
      "This is Student with Name:Ravi and Rollno:102\n"
     ]
    }
   ],
   "source": [
    "class Student:\n",
    "  \n",
    "  def __init__(self,name,rollno):\n",
    "    self.name=name\n",
    "    self.rollno=rollno\n",
    "\n",
    "  def __str__(self):\n",
    "    return 'This is Student with Name:{} and Rollno:{}'.format(self.name,self.rollno)\n",
    "\n",
    "s1=Student('Durga',101)\n",
    "s2=Student('Ravi',102)\n",
    "print(s1)\n",
    "print(s2)"
   ]
  },
  {
   "cell_type": "markdown",
   "id": "944d2f69-b4a5-4ab6-be44-da9efc77f2d9",
   "metadata": {},
   "source": [
    "**Output without Overriding `__str__( )`**\n",
    "* `<__main__.Student object at 0x022144B0>`\n",
    "* `<__main__.Student object at 0x022144D0>`\n",
    "\n",
    "**Output with Overriding `__str__( )`**\n",
    "* This is Student with `Name: Durga and Rollno: 101`\n",
    "* This is Student with `Name: Ravi and Rollno: 102`"
   ]
  },
  {
   "cell_type": "markdown",
   "id": "1e72f67f-8fa4-4e12-8396-e8b001f0a279",
   "metadata": {},
   "source": [
    "# Difference between str( ) and repr( )? | Difference between __str__( ) and __repr__( )?"
   ]
  },
  {
   "cell_type": "markdown",
   "id": "01dcb1f3-df8d-496a-8a66-f533b3d09cc8",
   "metadata": {},
   "source": [
    "* The `str( )` function internally calls the `__str__( )` function and hence the functionality of both is the same.\n",
    "* Similarly, the `repr( )` function internally calls the `__repr__( )` function, and hence the functionality of both is the same.\n",
    "* The str( ) function returns a string containing a nicely printable representation object.\n",
    "* The main purpose of `str( )` is for readability.\n",
    "* It may not be possible to convert the result string to the original object."
   ]
  },
  {
   "cell_type": "code",
   "execution_count": 2,
   "id": "1f4be8b2-7adb-41ec-9d72-9f150ece5494",
   "metadata": {},
   "outputs": [
    {
     "name": "stdout",
     "output_type": "stream",
     "text": [
      "2024-12-13 00:34:24.014799\n"
     ]
    },
    {
     "ename": "SyntaxError",
     "evalue": "invalid syntax (<string>, line 1)",
     "output_type": "error",
     "traceback": [
      "Traceback \u001b[1;36m(most recent call last)\u001b[0m:\n",
      "\u001b[0m  File \u001b[0;32m\\\\?\\C:\\Users\\Kiranmoy_Paul\\AppData\\Roaming\\jupyterlab-desktop\\jlab_server\\Lib\\site-packages\\IPython\\core\\interactiveshell.py:3577\u001b[0m in \u001b[0;35mrun_code\u001b[0m\n    exec(code_obj, self.user_global_ns, self.user_ns)\u001b[0m\n",
      "\u001b[1;36m  Cell \u001b[1;32mIn[2], line 6\u001b[1;36m\n\u001b[1;33m    d=eval(s)                         # converting str object to datetime\u001b[1;36m\n",
      "\u001b[1;36m  File \u001b[1;32m<string>:1\u001b[1;36m\u001b[0m\n\u001b[1;33m    2024-12-13 00:34:24.014799\u001b[0m\n\u001b[1;37m               ^\u001b[0m\n\u001b[1;31mSyntaxError\u001b[0m\u001b[1;31m:\u001b[0m invalid syntax\n"
     ]
    }
   ],
   "source": [
    "import datetime\n",
    "\n",
    "today=datetime.datetime.now()\n",
    "s = str(today)                      # converting datetime object to str\n",
    "print(s)\n",
    "d = eval(s)                         # converting str object to datetime"
   ]
  },
  {
   "cell_type": "markdown",
   "id": "3845a46e-4a1d-4de4-8ce8-7e4eba3901b1",
   "metadata": {},
   "source": [
    "* But `repr( )` returns a string containing a printable representation of the object.\n",
    "* The main goal of `repr( )` is unambiguous. \n",
    "* We can convert the result string to the original object by using the `eval( )` function, which may not be possible in the `str( )` function."
   ]
  },
  {
   "cell_type": "code",
   "execution_count": 3,
   "id": "b8ffa778-42b7-462c-8d74-bd742fd84eb9",
   "metadata": {},
   "outputs": [
    {
     "name": "stdout",
     "output_type": "stream",
     "text": [
      "datetime.datetime(2024, 12, 13, 0, 36, 33, 799700)\n",
      "2024-12-13 00:36:33.799700\n"
     ]
    }
   ],
   "source": [
    "import datetime\n",
    "\n",
    "today=datetime.datetime.now()\n",
    "s=repr(today)                   # converting datetime object to str\n",
    "print(s)                        # datetime.datetime(2018, 5, 18, 22, 51, 10, 875838)\n",
    "d=eval(s)                       # converting str object to datetime\n",
    "print(d)                        # 2018-05-18 22:51:10.875838"
   ]
  },
  {
   "cell_type": "markdown",
   "id": "edc2aef3-2fd6-46da-b248-73e0f62430b1",
   "metadata": {},
   "source": [
    "> ***Note:** It is recommended to use `repr( )` instead of `str( )`.*"
   ]
  },
  {
   "cell_type": "code",
   "execution_count": null,
   "id": "adc4dd1e-fe4c-4018-ac8b-61654c9b6643",
   "metadata": {},
   "outputs": [],
   "source": []
  }
 ],
 "metadata": {
  "kernelspec": {
   "display_name": "Python 3 (ipykernel)",
   "language": "python",
   "name": "python3"
  },
  "language_info": {
   "codemirror_mode": {
    "name": "ipython",
    "version": 3
   },
   "file_extension": ".py",
   "mimetype": "text/x-python",
   "name": "python",
   "nbconvert_exporter": "python",
   "pygments_lexer": "ipython3",
   "version": "3.12.5"
  }
 },
 "nbformat": 4,
 "nbformat_minor": 5
}
