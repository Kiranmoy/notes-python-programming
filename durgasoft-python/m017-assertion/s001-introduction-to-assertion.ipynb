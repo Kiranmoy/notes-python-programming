{
 "cells": [
  {
   "cell_type": "markdown",
   "id": "bff085f2-8ad3-4a07-abb9-f15ae5205a4b",
   "metadata": {},
   "source": [
    "# Introduction"
   ]
  },
  {
   "cell_type": "markdown",
   "id": "394b2af3-db9d-4e6d-8aa0-5d270df39591",
   "metadata": {},
   "source": [
    "Debugging python program by using **assert** keyword:\n",
    "* The process of identifying and fixing the bug is called **debugging**.\n",
    "* A very common way of debugging is to use a **`print( )`** statement.\n",
    "* But the problem with the **`print()`** statement is after fixing the bug, compulsory that we have to delete the extra added **`print( )`** statements, otherwise these will be executed at runtime which creates performance problems and disturbs console output.\n",
    "* To overcome this problem we should go for an assert statement. \n",
    "* The main advantage of an assert statement over a **`print( )`** statement is after fixing the bug we are not required to delete assert statements. \n",
    "* Based on our requirements we can enable or disable assert statements.\n",
    "* **The main purpose of assertions is to perform debugging**.\n",
    "* Usually, we can perform debugging either in development or in test environments but not in production environments.\n",
    "* Hence assertions concept is applicable only to dev and test environments but not to the production environment."
   ]
  },
  {
   "cell_type": "markdown",
   "id": "c86ae33c-c696-40f8-8b6d-45ac308e3809",
   "metadata": {},
   "source": [
    "# Types of Assertions"
   ]
  },
  {
   "cell_type": "markdown",
   "id": "279c4eab-4e37-4ddd-a971-99945699aad5",
   "metadata": {},
   "source": [
    "There are 2 types of **assert** statements\n",
    "* Simple Version\n",
    "* Augmented Version\n",
    "\n",
    "**Simple Version**\n",
    "\n",
    "`assert conditional_expression`\n",
    "\n",
    "**Augmented Version:**\n",
    "\n",
    "* **`assert conditional_expression, message`**\n",
    "* **`conditional_expression`** will be evaluated and if it is **true** then the program will be continued.\n",
    "* If it is **false** then the program will be terminated by raising **`AssertionError`**.\n",
    "* By seeing **`AssertionError`**, the programmer can analyze the code and can fix the problem."
   ]
  },
  {
   "cell_type": "code",
   "execution_count": 1,
   "id": "73e88881-2e86-4424-80a2-a25ea7b90f25",
   "metadata": {},
   "outputs": [
    {
     "ename": "AssertionError",
     "evalue": "The square of 3 should be 9",
     "output_type": "error",
     "traceback": [
      "\u001b[1;31m---------------------------------------------------------------------------\u001b[0m",
      "\u001b[1;31mAssertionError\u001b[0m                            Traceback (most recent call last)",
      "Cell \u001b[1;32mIn[1], line 5\u001b[0m\n\u001b[0;32m      2\u001b[0m   \u001b[38;5;28;01mreturn\u001b[39;00m x\u001b[38;5;241m*\u001b[39m\u001b[38;5;241m*\u001b[39mx\n\u001b[0;32m      4\u001b[0m \u001b[38;5;28;01massert\u001b[39;00m squareIt(\u001b[38;5;241m2\u001b[39m)\u001b[38;5;241m==\u001b[39m\u001b[38;5;241m4\u001b[39m,\u001b[38;5;124m\"\u001b[39m\u001b[38;5;124mThe square of 2 should be 4\u001b[39m\u001b[38;5;124m\"\u001b[39m\n\u001b[1;32m----> 5\u001b[0m \u001b[38;5;28;01massert\u001b[39;00m squareIt(\u001b[38;5;241m3\u001b[39m)\u001b[38;5;241m==\u001b[39m\u001b[38;5;241m9\u001b[39m,\u001b[38;5;124m\"\u001b[39m\u001b[38;5;124mThe square of 3 should be 9\u001b[39m\u001b[38;5;124m\"\u001b[39m\n\u001b[0;32m      6\u001b[0m \u001b[38;5;28;01massert\u001b[39;00m squareIt(\u001b[38;5;241m4\u001b[39m)\u001b[38;5;241m==\u001b[39m\u001b[38;5;241m16\u001b[39m,\u001b[38;5;124m\"\u001b[39m\u001b[38;5;124mThe square of 4 should be 16\u001b[39m\u001b[38;5;124m\"\u001b[39m\n\u001b[0;32m      7\u001b[0m \u001b[38;5;28mprint\u001b[39m(squareIt(\u001b[38;5;241m2\u001b[39m))\n",
      "\u001b[1;31mAssertionError\u001b[0m: The square of 3 should be 9"
     ]
    }
   ],
   "source": [
    "def squareIt(x):\n",
    "  return x**x\n",
    "  \n",
    "assert squareIt(2)==4,\"The square of 2 should be 4\"\n",
    "assert squareIt(3)==9,\"The square of 3 should be 9\"\n",
    "assert squareIt(4)==16,\"The square of 4 should be 16\"\n",
    "print(squareIt(2))\n",
    "print(squareIt(3))\n",
    "print(squareIt(4))"
   ]
  },
  {
   "cell_type": "code",
   "execution_count": 2,
   "id": "b77bd80c-5d8d-4446-9bb4-2a7c438d4a61",
   "metadata": {},
   "outputs": [
    {
     "name": "stdout",
     "output_type": "stream",
     "text": [
      "4\n",
      "9\n",
      "16\n"
     ]
    }
   ],
   "source": [
    "def squareIt(x):\n",
    "  return x*x\n",
    "  \n",
    "assert squareIt(2)==4,\"The square of 2 should be 4\"\n",
    "assert squareIt(3)==9,\"The square of 3 should be 9\"\n",
    "assert squareIt(4)==16,\"The square of 4 should be 16\"\n",
    "print(squareIt(2))\n",
    "print(squareIt(3))\n",
    "print(squareIt(4))"
   ]
  },
  {
   "cell_type": "markdown",
   "id": "f956103c-0fd1-4a06-bf73-9a775c8e5061",
   "metadata": {},
   "source": [
    "# Disable assertions"
   ]
  },
  {
   "cell_type": "markdown",
   "id": "7089ff7f-e17f-4383-a4da-7981ed2cdcb2",
   "metadata": {},
   "source": [
    "* **`py test.py`** → By default execute assert statements.\n",
    "* **`py -O test.py`** → Will not execute assert statements"
   ]
  },
  {
   "cell_type": "markdown",
   "id": "3bbdb288-7ba7-4cea-a44d-dea3f2ab0029",
   "metadata": {},
   "source": [
    "# Exception Handling vs Assertions"
   ]
  },
  {
   "cell_type": "markdown",
   "id": "2757a5a8-e942-4933-8b9d-58d5d852b29c",
   "metadata": {},
   "source": [
    "The **assertion** concept can be used to alert programmers to resolve development time errors. It is applicable for development & test environments.\n",
    "\n",
    "**Exception Handling** can be used to handle runtime errors. Its applicable for production environments."
   ]
  },
  {
   "cell_type": "code",
   "execution_count": null,
   "id": "fe57f7ba-9891-4c81-ad4e-fb31e6ffd56e",
   "metadata": {},
   "outputs": [],
   "source": []
  }
 ],
 "metadata": {
  "kernelspec": {
   "display_name": "Python 3 (ipykernel)",
   "language": "python",
   "name": "python3"
  },
  "language_info": {
   "codemirror_mode": {
    "name": "ipython",
    "version": 3
   },
   "file_extension": ".py",
   "mimetype": "text/x-python",
   "name": "python",
   "nbconvert_exporter": "python",
   "pygments_lexer": "ipython3",
   "version": "3.12.5"
  }
 },
 "nbformat": 4,
 "nbformat_minor": 5
}
