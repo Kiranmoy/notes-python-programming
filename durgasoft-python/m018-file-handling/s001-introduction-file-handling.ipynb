{
 "cells": [
  {
   "cell_type": "markdown",
   "id": "dbb4fbad-1cfe-4912-b86b-8154bde4ece2",
   "metadata": {},
   "source": [
    "# Introduction"
   ]
  },
  {
   "cell_type": "markdown",
   "id": "26d1fa16-d9dc-46c7-989b-078d09ba593c",
   "metadata": {},
   "source": [
    "```\n",
    "l = []\n",
    "x = input(\"Enter first name\")\n",
    "y = input(\"Enter Second name\")\n",
    "l.append(x)\n",
    "l.append(y)\n",
    "print(l)\n",
    "```\n",
    "\n",
    "* Whatever data is stored in python collections like **list**, **set**, **dict**, etc. is temporary.\n",
    "* Once the PVM shutdowns, all these objects will be destroyed and data will be lost.\n",
    "* As the part of programming requirement, we have to store our data permanently for future purposes. For such a requirement, we should go for files.\n",
    "* Files are very common permanent storage areas to store our data."
   ]
  },
  {
   "cell_type": "markdown",
   "id": "b5e19942-ec42-4532-9500-d58ced0cb438",
   "metadata": {},
   "source": [
    "# File Types"
   ]
  },
  {
   "cell_type": "markdown",
   "id": "a21af751-81c1-4a50-b8ed-85f922411fa5",
   "metadata": {},
   "source": [
    "There are 2 types of files:\n",
    "* **Text Files:** Usually we can use text files to store character data. Example →  abc.txt\n",
    "* **Binary Files:** Usually we can use binary files to store binary data like images, video files, audio files, etc."
   ]
  },
  {
   "cell_type": "markdown",
   "id": "9ebaab4b-c2e7-4f8f-9ef4-7b79841449b4",
   "metadata": {},
   "source": [
    "# Opening & Closing a File"
   ]
  },
  {
   "cell_type": "markdown",
   "id": "ab8f9b50-dcf9-404b-96ea-14d5cd3f6ea3",
   "metadata": {},
   "source": [
    "* Before performing any operation (like reading or writing) on the file, first we have to open that file. \n",
    "* For this, we should use Python's inbuilt **`open( )`** function.\n",
    "* But at the time of opening, we have to specify the mode, which represents the purpose of opening the file.\n",
    "* After completing our operations on the file, it is highly recommended to close the file. \n",
    "* For this, we have to use the **`close( )`** function.\n",
    "\n",
    "**SYNTAX** → `f = open(filename, mode)` \n",
    "\n",
    "**SYNTAX** → `f.close( )`"
   ]
  },
  {
   "cell_type": "markdown",
   "id": "1128efb0-dff6-40ba-8711-61b8d456d344",
   "metadata": {},
   "source": [
    "# File modes"
   ]
  },
  {
   "cell_type": "markdown",
   "id": "2711b582-b5ba-4b65-9673-18f556d8c80a",
   "metadata": {},
   "source": [
    "The allowed modes in Python are:\n",
    "\n",
    "**`r` → open an existing file for the read operation.**\n",
    "* The file pointer is positioned at the beginning of the file. \n",
    "* If the specified file does not exist then we will get **`FileNotFoundError`**.\n",
    "* This is the default mode.\n",
    "\n",
    "**`w` → open an existing file for the write operation.**\n",
    "* If the file already contains some data then it will be overridden.\n",
    "* If the specified file is not already available then this mode will create that file.\n",
    "\n",
    "**`a` → open an existing file for append operation.**\n",
    "* It won't override existing data.\n",
    "* If the specified file is not already available then this mode will create a new file.\n",
    "\n",
    "**`r+` → To read and write data into the file.**\n",
    "* The file pointer is placed at the beginning of the file.\n",
    "* It will override existing data while performing the write operation.\n",
    "* If the specified file is not already available then we’ll get FileNotFoundError and this mode won’t create any new file.\n",
    "\n",
    "**`w+` → To write and read data.** \n",
    "* It will override existing data.\n",
    "* If the specified file is not already available then this mode will create that file.\n",
    "\n",
    "**`a+` → To append and read data from the file.** \n",
    "* It won't override existing data.\n",
    "* If the specified file is not already available then this mode will create that file.\n",
    "\n",
    "**`x` → To open a file in exclusive creation mode for the write operation.** \n",
    "* If the file already exists then we will get **`FileExistsError`**."
   ]
  },
  {
   "cell_type": "markdown",
   "id": "d03a7685-7bb5-426d-928e-f4ff25d32282",
   "metadata": {},
   "source": [
    "```\n",
    "# opening abc.txt file for writing data\n",
    "f = open(\"abc.txt\",\"w\")\n",
    "\n",
    "# preform task\n",
    "\n",
    "# close the file\n",
    "f.close()\n",
    "```\n",
    "\n",
    "> **Note:**\n",
    "> * All the above modes are applicable for text files.\n",
    "> * If the above modes are suffixed with **'b'** then these represents for binary files.\n",
    "> * **Example:** `rb` | `wb` | `ab` | `r+b` | `w+b` | `a+b` | `xb` "
   ]
  },
  {
   "cell_type": "markdown",
   "id": "7ababc04-b083-4bd3-8159-5ee44a023310",
   "metadata": {},
   "source": [
    "# File Properties"
   ]
  },
  {
   "cell_type": "markdown",
   "id": "934eee2f-51e2-40ba-851c-30b8857318e3",
   "metadata": {},
   "source": [
    "Once we opened a file and we got a file object, we can get various details related to that file by using its properties.\n",
    "* **`name`** → Name of opened file.\n",
    "* **`mode`** → Mode in which the file is opened.\n",
    "* **`closed`** → Returns a boolean value that indicates that file is closed or not.\n",
    "* **`readable( )`** → Returns a boolean value that indicates whether the file is readable or not.\n",
    "* **`writable( )`** → Returns a boolean value that indicates whether the file is writable or not."
   ]
  },
  {
   "attachments": {
    "3c9ac7e7-f765-4204-a94a-ec903e550e20.png": {
     "image/png": "[encoded data removed]"
    }
   },
   "cell_type": "markdown",
   "id": "b707476a-8f45-42fb-a659-c2a72afd5f2d",
   "metadata": {},
   "source": [
    "```\n",
    "f=open(\"abc.txt\",'w')\n",
    "print(\"File Name: \",f.name)\n",
    "print(\"File Mode: \",f.mode)\n",
    "print(\"Is File Readable: \",f.readable())\n",
    "print(\"Is File Writable: \",f.writable())\n",
    "print(\"Is File Closed : \",f.closed)\n",
    "f.close()\n",
    "print(\"Is File Closed : \",f.closed)\n",
    "```\n",
    "\n",
    "![image.png](attachment:3c9ac7e7-f765-4204-a94a-ec903e550e20.png)"
   ]
  },
  {
   "cell_type": "markdown",
   "id": "690ed028-3f5a-459f-be7e-49acac6bed27",
   "metadata": {},
   "source": [
    "# The with statement"
   ]
  },
  {
   "attachments": {
    "60b2daf3-8535-46d1-ad7d-d67f908dd8fa.png": {
     "image/png": "[encoded data removed]"
    }
   },
   "cell_type": "markdown",
   "id": "f6a34a7f-3479-4f84-8396-84d1304618e6",
   "metadata": {},
   "source": [
    "The **`with`** statement can be used while opening a file. \n",
    "\n",
    "We can use this to group file operation statements within a block.\n",
    "\n",
    "The advantage of with statement is it will take care closing of the file, after completing all operations automatically even in the case of exceptions also, and we are not required to close explicitly\n",
    "\n",
    "```\n",
    "with open(\"abc.txt\",\"w\") as f:\n",
    "  f.write(\"Durga\\n\")\n",
    "  f.write(\"Software\\n\")\n",
    "  f.write(\"Solutions\\n\")\n",
    "  print(\"Is File Closed: \",f.closed)\n",
    "print(\"Is File Closed: \",f.closed)\n",
    "```\n",
    "\n",
    "![image.png](attachment:60b2daf3-8535-46d1-ad7d-d67f908dd8fa.png)"
   ]
  },
  {
   "cell_type": "code",
   "execution_count": null,
   "id": "e6c3d35c-960c-4057-8760-2ca8c60d84d6",
   "metadata": {},
   "outputs": [],
   "source": []
  }
 ],
 "metadata": {
  "kernelspec": {
   "display_name": "Python 3 (ipykernel)",
   "language": "python",
   "name": "python3"
  },
  "language_info": {
   "codemirror_mode": {
    "name": "ipython",
    "version": 3
   },
   "file_extension": ".py",
   "mimetype": "text/x-python",
   "name": "python",
   "nbconvert_exporter": "python",
   "pygments_lexer": "ipython3",
   "version": "3.12.5"
  }
 },
 "nbformat": 4,
 "nbformat_minor": 5
}
