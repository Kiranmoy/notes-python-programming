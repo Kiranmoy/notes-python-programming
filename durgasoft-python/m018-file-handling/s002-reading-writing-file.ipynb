{
 "cells": [
  {
   "cell_type": "markdown",
   "id": "91e89ec9-2100-444b-9ad8-bf3ed6fb5768",
   "metadata": {},
   "source": [
    "# Write data"
   ]
  },
  {
   "cell_type": "markdown",
   "id": "58734343-df8e-4cde-baa7-e401eedc02ea",
   "metadata": {},
   "source": [
    "We can write character data to the text files by using the following two methods.\n",
    "* `write(str)`\n",
    "* `writelines(list/set/tuple of lines)`"
   ]
  },
  {
   "cell_type": "markdown",
   "id": "d4b1ee72-6742-4efb-a0bf-9e463908cf04",
   "metadata": {},
   "source": [
    "For `writelines( )` method, we can pass **list**, **set**, **tuple** as well as **dictionary** object also. \n",
    "* If we are passing the dictionary then only keys will be added in the file.\n",
    "* The keys of the dictionary must be of string type, else we’ll get **`TypeError`**."
   ]
  },
  {
   "attachments": {
    "0b9c62e0-e353-4c05-ad6c-fc172f76eb62.png": {
     "image/png": "[encoded data removed]"
    }
   },
   "cell_type": "markdown",
   "id": "501b1702-a134-4f0d-84b1-1a73167dd183",
   "metadata": {},
   "source": [
    "**Example 1**\n",
    "\n",
    "```\n",
    "f=open(\"abcd.txt\",'w')\n",
    "f.write(\"Durga\\n\")\n",
    "f.write(\"Software\\n\")\n",
    "f.write(\"Solutions\\n\")\n",
    "print(\"Data written to the file successfully\")\n",
    "f.close()\n",
    "```\n",
    "\n",
    "![image.png](attachment:0b9c62e0-e353-4c05-ad6c-fc172f76eb62.png)\n",
    "\n",
    "> **Note:**\n",
    "> * In the above program, data present in the file will be overridden every time we run the program.\n",
    "> * Instead of overriding if we want an append operation then we should open the file as follows. \n",
    "> * **SYNTAX** → `f = open(\"abcd.txt\",\"a\")`"
   ]
  },
  {
   "attachments": {
    "61c9fb34-dce3-4732-81b0-68b812ec1097.png": {
     "image/png": "[encoded data removed]"
    }
   },
   "cell_type": "markdown",
   "id": "ce2460ab-5d0b-4395-9c14-774305e0db17",
   "metadata": {},
   "source": [
    "**Example 2**\n",
    "\n",
    "```\n",
    "f=open(\"abcd.txt\",'w')\n",
    "list=[\"sunny\\n\",\"bunny\\n\",\"vinny\\n\",\"chinny\"]\n",
    "f.writelines(list)\n",
    "print(\"List of lines written to the file successfully\")\n",
    "f.close()\n",
    "```\n",
    "\n",
    "![image.png](attachment:61c9fb34-dce3-4732-81b0-68b812ec1097.png)\n",
    "\n",
    "> ***Note:** While writing data by using `write( )` or `writelines( )` methods, compulsory we have to provide **line separator (`\\n`)**, otherwise total data should be written to a single line.* "
   ]
  },
  {
   "cell_type": "markdown",
   "id": "7a965159-4bc4-431f-99b9-b319ba03b9be",
   "metadata": {},
   "source": [
    "# Program to write dynamic data to a file"
   ]
  },
  {
   "cell_type": "markdown",
   "id": "d2c9810f-1ce0-452a-b7fb-d07b3f8549eb",
   "metadata": {},
   "source": [
    "```\n",
    "fname - input('Enter file name: ')                # Read dynamic file name\n",
    "f = open(fname, 'w')\n",
    "while True:\n",
    "  data = input('Enter data to write: ')\n",
    "  f.write(data + '\\n')                             # Read dynamic file data\n",
    "  option = input('Do you want to add more data? [yes|no]: ')\n",
    "  if option.lower() == 'no':\n",
    "    break;\n",
    "    \n",
    "f.close()\n",
    "print('Data written to the file successfully')\n",
    "```"
   ]
  },
  {
   "cell_type": "markdown",
   "id": "c83af01b-0ffb-48ef-a801-4467d8bd09d8",
   "metadata": {},
   "source": [
    "# Read data"
   ]
  },
  {
   "cell_type": "markdown",
   "id": "ea3eb312-affd-4fee-8fc1-07a9e87e4129",
   "metadata": {},
   "source": [
    "We can read character data from text files by using the following read methods.\n",
    "* **`read( )`** → To read total data from the file.\n",
    "* **`read(n)`** → To read ‘`n`' characters from the file including newline characters. \n",
    "    * To read **'`n`'** characters from the file:\n",
    "        * If the specified number of characters is not present then only available characters we’ll get (total file content without any error) → **`data = f.read(10000000)`**\n",
    "        * If we’re passing a negative int value as an argument, then we’ll get total file content only without any error → **`data = f.read(-1)`**\n",
    "\n",
    "* **`readline( )`** → To read only one line. If the control reaches the end-of-file, that is, if there is no next line in the file then the `readline( )` method returns an empty string.\n",
    "* **`readlines( )`** → To read all lines into a list."
   ]
  },
  {
   "attachments": {
    "4e847f52-da6a-4662-ab5e-3425c60c832e.png": {
     "image/png": "[encoded data removed]"
    }
   },
   "cell_type": "markdown",
   "id": "def058dc-3727-4646-a798-045ac2795eaa",
   "metadata": {},
   "source": [
    "**Example 1:** To read the total data from the file\n",
    "```\n",
    "f=open(\"abc.txt\",'r')\n",
    "data=f.read() \n",
    "# data = f.read(10000000) -> same output & no error\n",
    "# data = f.read(-1) -> same output & no error\n",
    "print(data)\n",
    "f.close()\n",
    "```\n",
    "\n",
    "![image.png](attachment:4e847f52-da6a-4662-ab5e-3425c60c832e.png)"
   ]
  },
  {
   "attachments": {
    "a0e40d7e-e3de-4547-bc29-c16a930ac5d0.png": {
     "image/png": "[encoded data removed]"
    }
   },
   "cell_type": "markdown",
   "id": "6e1ce69b-aa55-436f-92fb-95b996b45b66",
   "metadata": {},
   "source": [
    "**Example 2:** To read only the first 10 characters\n",
    "\n",
    "```\n",
    "f=open(\"abc.txt\",'r')\n",
    "data=f.read(10)\n",
    "print(data)\n",
    "f.close()\n",
    "```\n",
    "\n",
    "![image.png](attachment:a0e40d7e-e3de-4547-bc29-c16a930ac5d0.png)\n",
    "\n",
    "> **`sunny + '\\n' + bunn`** = 10 characters"
   ]
  },
  {
   "attachments": {
    "d7c63b0b-4e13-441f-9ca1-baf0be657462.png": {
     "image/png": "[encoded data removed]"
    }
   },
   "cell_type": "markdown",
   "id": "25ded237-2936-458d-b7c8-ed5fd9ea6541",
   "metadata": {},
   "source": [
    "**Example 3.1:** To read data line by line\n",
    "\n",
    "```\n",
    "f=open(\"abc.txt\",'r')\n",
    "line1=f.readline()\n",
    "# end='' -> for preventing extra \\n of print statement\n",
    "# because we already had newline in the file.\n",
    "print(line1,end='') \n",
    "line2=f.readline()\n",
    "print(line2,end='')\n",
    "line3=f.readline()\n",
    "print(line3,end='')\n",
    "f.close()\n",
    "```\n",
    "\n",
    "![image.png](attachment:d7c63b0b-4e13-441f-9ca1-baf0be657462.png)"
   ]
  },
  {
   "attachments": {
    "7d08f9d8-1467-4ca9-8af8-ccae70d5c36c.png": {
     "image/png": "[encoded data removed]"
    }
   },
   "cell_type": "markdown",
   "id": "2247dbf1-1259-4047-8481-972d4bf8bdbf",
   "metadata": {},
   "source": [
    "**Example 3.2:** To read all data line by line\n",
    "\n",
    "If the control reaches the end-of-file, that is, if there is no next line in the file then the **`readline( )`** method returns an empty string.\n",
    "\n",
    "```\n",
    "f=open(\"abc.txt\",'r')\n",
    "line=f.readline()\n",
    "while line != '':\n",
    "  print(line, end='')\n",
    "  line=f.readline()\n",
    "f.close()\n",
    "```\n",
    "\n",
    "![image.png](attachment:7d08f9d8-1467-4ca9-8af8-ccae70d5c36c.png)\n"
   ]
  },
  {
   "attachments": {
    "09eb74a8-91eb-4431-bfb0-9ba4a85cdd14.png": {
     "image/png": "[encoded data removed]"
    }
   },
   "cell_type": "markdown",
   "id": "006ceb3b-4199-44bf-848a-733d89d04d0e",
   "metadata": {},
   "source": [
    "**Example 4:** To read all lines into a list\n",
    "\n",
    "```\n",
    "f=open(\"abc.txt\",'r')\n",
    "lines=f.readlines()\n",
    "for line in lines:\n",
    "  print(line,end='')\n",
    "f.close()\n",
    "```\n",
    "\n",
    "![image.png](attachment:09eb74a8-91eb-4431-bfb0-9ba4a85cdd14.png)"
   ]
  },
  {
   "attachments": {
    "dfe5afc7-a877-48ee-9b5c-ccaaa7a3443f.png": {
     "image/png": "[encoded data removed]"
    }
   },
   "cell_type": "markdown",
   "id": "2881f953-be1d-4048-980c-7aa7d5194dcb",
   "metadata": {},
   "source": [
    "**Example 5:**\n",
    "\n",
    "```\n",
    "f=open(\"abc.txt\",\"r\")\n",
    "print(f.read(3))\n",
    "print(f.readline())\n",
    "print(f.read(4))\n",
    "print(\"Remaining data\")\n",
    "print(f.read())\n",
    "```\n",
    "\n",
    "![image.png](attachment:dfe5afc7-a877-48ee-9b5c-ccaaa7a3443f.png)"
   ]
  },
  {
   "cell_type": "markdown",
   "id": "f23a2cec-22f5-4199-807e-9d39e5e6cad8",
   "metadata": {},
   "source": [
    "# Program to read data from one file and write into another file"
   ]
  },
  {
   "cell_type": "markdown",
   "id": "e6e089d7-d24e-4e59-ae66-c92e58baf6fd",
   "metadata": {},
   "source": [
    "```\n",
    "f1 = open('input.txt', 'r')\n",
    "f2 = open('output.txt','w')\n",
    "data = f1.read()\n",
    "f2.write(data)\n",
    "f1.close()\n",
    "f2.close()\n",
    "print('The data copied successfully')\n",
    "```"
   ]
  },
  {
   "cell_type": "code",
   "execution_count": null,
   "id": "b31b776b-0130-4be7-a478-c6327c716a43",
   "metadata": {},
   "outputs": [],
   "source": []
  }
 ],
 "metadata": {
  "kernelspec": {
   "display_name": "Python 3 (ipykernel)",
   "language": "python",
   "name": "python3"
  },
  "language_info": {
   "codemirror_mode": {
    "name": "ipython",
    "version": 3
   },
   "file_extension": ".py",
   "mimetype": "text/x-python",
   "name": "python",
   "nbconvert_exporter": "python",
   "pygments_lexer": "ipython3",
   "version": "3.12.5"
  }
 },
 "nbformat": 4,
 "nbformat_minor": 5
}
