{
 "cells": [
  {
   "cell_type": "markdown",
   "id": "ce2b8331-434a-4e78-947c-4187b6f339ab",
   "metadata": {},
   "source": [
    "It is a very common requirement to zip and unzip files.\n",
    "\n",
    "The main advantages are:\n",
    "* To improve memory utilization\n",
    "* We can reduce transport time\n",
    "* We can improve performance.\n",
    "\n",
    "To perform **zip** and **unzip** operations, Python contains one in-built module `zipfile`. \n",
    "\n",
    "This module contains a class: **`ZipFile`**"
   ]
  },
  {
   "cell_type": "markdown",
   "id": "76fd8f42-05d4-4b4f-b42b-395865325913",
   "metadata": {},
   "source": [
    "# Create Zip File"
   ]
  },
  {
   "cell_type": "markdown",
   "id": "78c31789-27b4-43cf-a318-805af3706dbf",
   "metadata": {},
   "source": [
    "We have to create a **`ZipFile`** class object with the name of the zip file, mode, and constant **`ZIP_DEFLATED`**.\n",
    "\n",
    "This constant represents we are creating a zip file. \n",
    "\n",
    "`f = ZipFile(\"files.zip\",\"w\",ZIP_DEFLATED)`\n",
    "\n",
    "Once we create a **`ZipFile`** object, we can add files by using the `write( )` method.\n",
    "\n",
    "`f.write(filename)`\n",
    "\n",
    "**Example:**\n",
    "\n",
    "```\n",
    "from zipfile import *\n",
    "\n",
    "f=ZipFile(\"files.zip\",'w',ZIP_DEFLATED)\n",
    "f.write(\"file1.txt\")\n",
    "f.write(\"file2.txt\")\n",
    "f.write(\"file3.txt\")\n",
    "f.close()\n",
    "\n",
    "print(\"files.zip file created successfully\")\n",
    "```"
   ]
  },
  {
   "cell_type": "markdown",
   "id": "4feff4ae-0a2a-4e8d-b37e-d097fedfec9a",
   "metadata": {},
   "source": [
    "# Perform unzip Operation"
   ]
  },
  {
   "cell_type": "markdown",
   "id": "e7c36069-7774-4fe0-bf9e-4d5d733f4b8c",
   "metadata": {},
   "source": [
    "We have to create a **`ZipFile`** object as follows: `f = ZipFile(\"files.zip\",\"r\",ZIP_STORED)`\n",
    "* **`ZIP_STORED`** represents unzip operation. \n",
    "* This is the default value and hence we are not required to specify.\n",
    "\n",
    "Once we created a **`ZipFile`** object for unzip operation, we can get all file names present in that zip file by using `namelist( )` method.\n",
    "\n",
    "`names = f.namelist()`\n",
    "\n",
    "**Example:**"
   ]
  },
  {
   "cell_type": "markdown",
   "id": "5a466d3f-b911-4cfd-90a2-10c9dec2c749",
   "metadata": {},
   "source": [
    "```\n",
    "from zipfile import *\n",
    "\n",
    "f=ZipFile(\"files.zip\",'r',ZIP_STORED)\n",
    "names=f.namelist()\n",
    "\n",
    "for name in names:\n",
    "  print( \"File Name: \",name)\n",
    "  print(\"The Content of this file is:\")\n",
    "  f1=open(name,'r')\n",
    "  print(f1.read())\n",
    "  print()\n",
    "```"
   ]
  },
  {
   "cell_type": "code",
   "execution_count": null,
   "id": "46053206-a6a7-455c-909d-3767c0e07491",
   "metadata": {},
   "outputs": [],
   "source": []
  }
 ],
 "metadata": {
  "kernelspec": {
   "display_name": "Python 3 (ipykernel)",
   "language": "python",
   "name": "python3"
  },
  "language_info": {
   "codemirror_mode": {
    "name": "ipython",
    "version": 3
   },
   "file_extension": ".py",
   "mimetype": "text/x-python",
   "name": "python",
   "nbconvert_exporter": "python",
   "pygments_lexer": "ipython3",
   "version": "3.12.5"
  }
 },
 "nbformat": 4,
 "nbformat_minor": 5
}
