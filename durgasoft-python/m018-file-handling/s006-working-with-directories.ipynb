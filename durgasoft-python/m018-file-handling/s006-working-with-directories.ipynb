{
 "cells": [
  {
   "cell_type": "markdown",
   "id": "a31ec72b-812e-4978-aa43-1246d6f48ed1",
   "metadata": {},
   "source": [
    "It is a very common requirement to perform operations for directories like\n",
    "* To know the current working directory\n",
    "* To create a new directory\n",
    "* To remove an existing directory\n",
    "* To rename a directory\n",
    "* To list contents of the directory, etc.\n",
    "\n",
    "To perform these operations, Python provides an **inbuilt module `os`**, which contains several functions to perform directory-related operations."
   ]
  },
  {
   "cell_type": "markdown",
   "id": "c9f89472-fbd2-4987-bb6c-6add57a0447d",
   "metadata": {},
   "source": [
    "# To know the current working directory"
   ]
  },
  {
   "cell_type": "markdown",
   "id": "07758924-dc21-4120-863f-e7676035dfb1",
   "metadata": {},
   "source": [
    "```\n",
    "import os\n",
    "cwd = os.getcwd()\n",
    "print(\"Current Working Directory:\",cwd)\n",
    "```"
   ]
  },
  {
   "cell_type": "markdown",
   "id": "17b4c389-b7b2-46e7-b626-c148f52f8510",
   "metadata": {},
   "source": [
    "# To create a subdirectory  in the current working directory"
   ]
  },
  {
   "cell_type": "markdown",
   "id": "8c9508fe-5ba9-42ec-83b0-7fa838846aa6",
   "metadata": {},
   "source": [
    "```\n",
    "import osos.mkdir(\"mysub\")\n",
    "print(\"mysub directory created in cwd\")\n",
    "```"
   ]
  },
  {
   "cell_type": "markdown",
   "id": "529853be-af2a-48ff-835c-9be6517fa6c5",
   "metadata": {},
   "source": [
    "# To create a subdirectory in “mysub” directory"
   ]
  },
  {
   "attachments": {
    "82b887a7-6f56-4464-b892-2a553ed851ae.png": {
     "image/png": "[encoded data removed]"
    }
   },
   "cell_type": "markdown",
   "id": "721533e2-3367-47a6-879f-44e1e0170408",
   "metadata": {},
   "source": [
    "```\n",
    "import os\n",
    "os.mkdir(\"mysub/mysub2\")\n",
    "print(\"mysub2 created inside mysub\")\n",
    "```\n",
    "\n",
    "![image.png](attachment:82b887a7-6f56-4464-b892-2a553ed851ae.png)\n",
    "\n",
    "> ***Note:** Here only the `sub2` directory will be created and mysub (base directory) must be present in `CWD`, else it will throw directory not found error.*\n",
    "\n",
    "---\n",
    "**`os.mkdir(“sub1/sub2/sub3”)`**: only `sub3` drectory will be created but it is necessary that both `sub1` & `sub2` directories must be present, else directory not found error.\n",
    "\n",
    "**`os.makedirs(“sub1/sub2/sub3”)`**: In this case, all the directories will be created including parents also."
   ]
  },
  {
   "cell_type": "markdown",
   "id": "02e0108b-4616-4ebf-8ace-88aad15eff1f",
   "metadata": {},
   "source": [
    "# To remove a directory"
   ]
  },
  {
   "cell_type": "markdown",
   "id": "854137ec-fabb-4ed2-9b46-a25e2d9184bb",
   "metadata": {},
   "source": [
    "```\n",
    "import os\n",
    "os.rmdir(\"mysub/mysub2\")\n",
    "print(\"mysub2 directory deleted\")\n",
    "```\n",
    "\n",
    "* Here only **`mysub2`** directory will get removed but compulsory the directory should be empty.\n",
    "* If the directory is not empty then it will throw → **OSError: The directory is not empty**"
   ]
  },
  {
   "cell_type": "markdown",
   "id": "a0167d32-e936-4412-83db-4bf63659012e",
   "metadata": {},
   "source": [
    "# To remove multiple directories in the path (parent-child directories)"
   ]
  },
  {
   "cell_type": "markdown",
   "id": "473538c5-c2a2-4142-a605-d6f713fa330e",
   "metadata": {},
   "source": [
    "```\n",
    "import os\n",
    "os.removedirs(\"sub1/sub2/sub3\")\n",
    "print(\"All 3 directories sub1,sub2 and sub3 removed\")\n",
    "```\n",
    "\n",
    "> ***Here all directories will get removed even if the directories are not empty.***"
   ]
  },
  {
   "cell_type": "markdown",
   "id": "6617cb28-00b0-4263-9665-4659f6aa966b",
   "metadata": {},
   "source": [
    "# To rename a directory"
   ]
  },
  {
   "cell_type": "markdown",
   "id": "1b0d971e-e441-4d00-a044-c0a948a5bbed",
   "metadata": {},
   "source": [
    "```\n",
    "import os\n",
    "os.rename(\"mysub\",\"newdir\")\n",
    "print(\"mysub directory renamed to newdir\")\n",
    "```"
   ]
  },
  {
   "cell_type": "markdown",
   "id": "570a7aa9-f1b7-4a7c-b62c-0828b48cd39c",
   "metadata": {},
   "source": [
    "# To know the contents of the directory"
   ]
  },
  {
   "attachments": {
    "f10a6537-bf93-497a-8116-fa9da91c9434.png": {
     "image/png": "[encoded data removed]"
    }
   },
   "cell_type": "markdown",
   "id": "4e8114f5-0cec-443a-b656-7d28f0c155f8",
   "metadata": {},
   "source": [
    "* **`OS`** Module provides **`listdir( )`** to list out the contents of the specified directory. \n",
    "* It won't display the contents of the subdirectory.\n",
    "\n",
    "```\n",
    "import os\n",
    "print(os.listdir(\".\"))\n",
    "```\n",
    "\n",
    "* The above program display contents of the current working directory but not the contents of sub-directories.\n",
    "* If we want the contents of a directory including subdirectories then we should go for the **`walk( )`** function.\n",
    "\n",
    "![image.png](attachment:f10a6537-bf93-497a-8116-fa9da91c9434.png)"
   ]
  },
  {
   "cell_type": "markdown",
   "id": "8f024111-969d-4466-83fe-f51dcc6a298b",
   "metadata": {},
   "source": [
    "# To know the contents of a directory including sub-directories"
   ]
  },
  {
   "cell_type": "markdown",
   "id": "ac62f69c-2956-4547-abee-2ea62db11cb2",
   "metadata": {},
   "source": [
    "* We have to use the **`walk( )`** function.  \\[Can you please walk into the directory so that we can be aware of all contents of that directory].\n",
    "* **`os.walk(path, topdown = True, onerror = None, followlinks = False)`**\n",
    "* It returns an Iterator object whose contents can be displayed by using for loop\n",
    "* **`path`** → directory path. \n",
    "* **`cwd`** → current working directory.\n",
    "* **`topdown = True`** → travel from top to bottom.\n",
    "* **`onerror = None`** → on error detected which function has to execute.\n",
    "* **`followlinks = True`** → to visit directories pointed by symbolic links."
   ]
  },
  {
   "attachments": {
    "1472207e-9dc1-48ae-b677-ab56654c7b7b.png": {
     "image/png": "[encoded data removed]"
    }
   },
   "cell_type": "markdown",
   "id": "28ba96b9-71bf-49c4-8ac4-5b13d8672f3e",
   "metadata": {},
   "source": [
    "**Example:** To display all contents of the current working directory including sub-directories:\n",
    "\n",
    "```\n",
    "import os\n",
    "\n",
    "for dirpath,dirnames,filenames in os.walk('.'):\n",
    "  print(\"Current Directory Path:\",dirpath)\n",
    "  print(\"Directories:\",dirnames)\n",
    "  print(\"Files:\",filenames)\n",
    "  print()\n",
    "```\n",
    "\n",
    "![image.png](attachment:1472207e-9dc1-48ae-b677-ab56654c7b7b.png)\n",
    "\n",
    "> **Note:**\n",
    "> * To display contents of particular directory, we have to provide that directory name as argument to the **`walk( )`** function. \n",
    "> * **`os.walk(\"directoryname\")`** \n",
    "> * return type of **`os.walk()`** method is **`'<class generator>'`** object.\n",
    "> * every element returned by the generator is a tuple which contains 3 elements:\n",
    "> * **(`directory-path`, `list-of-immediate-child-directories`,  `list-of-immediate-child-files`)**"
   ]
  },
  {
   "cell_type": "markdown",
   "id": "8d0f9e34-00fc-46b9-b975-1a1e8892ea53",
   "metadata": {},
   "source": [
    "# What is the difference between listdir( ) and walk( ) Functions?"
   ]
  },
  {
   "cell_type": "markdown",
   "id": "6f2df74a-e4a6-48d7-9221-87fda5df731c",
   "metadata": {},
   "source": [
    "In the case of **`listdir( )`**, we will get contents of the specified directory but not sub-directory contents. \n",
    "\n",
    "But in the case of the **`walk( )`** function we will get the contents of the specified directory and its subdirectories also. "
   ]
  },
  {
   "cell_type": "markdown",
   "id": "9c738b62-98d8-495e-b64a-393840671342",
   "metadata": {},
   "source": [
    "# Running command-line programs from python"
   ]
  },
  {
   "cell_type": "markdown",
   "id": "b8942c9d-b200-474b-8a53-cb336cee9356",
   "metadata": {},
   "source": [
    "* OS Module contains a **`system( )`** function to run programs and commands.\n",
    "* It is exactly the same as the **`system( )`** function in C language.\n",
    "* **SYNTAX** → `os.system(\"command string\")`\n",
    "* The argument is any command which is executed from DOS."
   ]
  },
  {
   "cell_type": "markdown",
   "id": "b9da5243-7370-4b82-a362-124fd0496560",
   "metadata": {},
   "source": [
    "```\n",
    "import os\n",
    "os.system(\"dir *.py\")\n",
    "os.system(\"py abc.py\")\n",
    "```"
   ]
  },
  {
   "cell_type": "markdown",
   "id": "1bf81873-39d3-4c9e-8ea2-640ad1c3c5fc",
   "metadata": {},
   "source": [
    "# File information"
   ]
  },
  {
   "cell_type": "markdown",
   "id": "35a047d2-f9b9-4d1d-8154-6f216aae5cf1",
   "metadata": {},
   "source": [
    "We can get statistics of a file like size, last accessed time, last modified time, etc by using the **`stat( )`** function of the `os` module.\n",
    "\n",
    "**SYNTAX** → `stats = os.stat(\"abc.txt\")`"
   ]
  },
  {
   "cell_type": "markdown",
   "id": "561dae5e-21f6-41e8-8285-c7e2cf26c964",
   "metadata": {},
   "source": [
    "The statistics of a file include the following parameters:\n",
    "* **`st_mode`** → Protection Bits\n",
    "* **`st_ino`** → Inode number\n",
    "* **`st_dev`** → Device\n",
    "* **`st_nlink`** → Number of Hard Links\n",
    "* **`st_uid`** → User id of Owner\n",
    "* **`st_gid`** → Group id of Owner\n",
    "* **`st_size`** → Size of File in Bytes\n",
    "* **`st_atime`** → Time of Most Recent Access\n",
    "* **`st_mtime`** → Time of Most Recent Modification\n",
    "* **`st_ctime`** → Time of Most Recent Meta Data Change"
   ]
  },
  {
   "cell_type": "markdown",
   "id": "db01990b-08da-4f70-8a4f-bf8e682fb65f",
   "metadata": {},
   "source": [
    "**Note:** \n",
    "* `st_atime`, `st_mtime`, and `st_ctime` return the time as the number of milliseconds since `Jan 1st 1970, 12:00 AM` - this is also known as **Epoch Time Standard**.\n",
    "* By using datetime module **`fromtimestamp( )`** function, we can get the exact date and time. "
   ]
  },
  {
   "cell_type": "markdown",
   "id": "252cf5b8-7024-4feb-8b7b-76598e1a4eea",
   "metadata": {},
   "source": [
    "## To print all statistics of file abc.txt"
   ]
  },
  {
   "attachments": {
    "7e334ee6-97ba-4372-9f3f-b0c7b6482a46.png": {
     "image/png": "[encoded data removed]"
    }
   },
   "cell_type": "markdown",
   "id": "21c14f72-8a84-4579-a1dd-782f9ae8744a",
   "metadata": {},
   "source": [
    "```\n",
    "import os\n",
    "stats=os.stat(\"abc.txt\")\n",
    "print(stats)\n",
    "```\n",
    "\n",
    "![image.png](attachment:7e334ee6-97ba-4372-9f3f-b0c7b6482a46.png)"
   ]
  },
  {
   "cell_type": "markdown",
   "id": "4025d25c-6555-454a-bb8a-abdb8fcc441b",
   "metadata": {},
   "source": [
    "## To print specified properties"
   ]
  },
  {
   "attachments": {
    "a221cdd4-381a-4fb0-8364-259819349e5e.png": {
     "image/png": "[encoded data removed]"
    }
   },
   "cell_type": "markdown",
   "id": "b2690380-c13e-4f38-9da2-6869760ed113",
   "metadata": {},
   "source": [
    "```\n",
    "import os\n",
    "from datetime import *\n",
    "stats=os.stat(\"abc.txt\")\n",
    "print(\"File Size in Bytes:\",stats.st_size)\n",
    "print(\"File Last Accessed Time:\",datetime.fromtimestamp(stats.st_atime))\n",
    "print(\"File Last Modified Time:\",datetime.fromtimestamp(stats.st_mtime))\n",
    "```\n",
    "\n",
    "![image.png](attachment:a221cdd4-381a-4fb0-8364-259819349e5e.png)"
   ]
  },
  {
   "cell_type": "code",
   "execution_count": null,
   "id": "73583b89-0496-4cbd-a5d8-2c2bdc2a61d6",
   "metadata": {},
   "outputs": [],
   "source": []
  }
 ],
 "metadata": {
  "kernelspec": {
   "display_name": "Python 3 (ipykernel)",
   "language": "python",
   "name": "python3"
  },
  "language_info": {
   "codemirror_mode": {
    "name": "ipython",
    "version": 3
   },
   "file_extension": ".py",
   "mimetype": "text/x-python",
   "name": "python",
   "nbconvert_exporter": "python",
   "pygments_lexer": "ipython3",
   "version": "3.12.5"
  }
 },
 "nbformat": 4,
 "nbformat_minor": 5
}
