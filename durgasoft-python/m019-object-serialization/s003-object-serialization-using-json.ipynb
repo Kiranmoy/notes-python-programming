{
 "cells": [
  {
   "cell_type": "markdown",
   "id": "ea1334fa-7943-4fea-bea0-e6c5f7473b9c",
   "metadata": {},
   "source": [
    "# Importance of JSON"
   ]
  },
  {
   "cell_type": "markdown",
   "id": "662a1b5c-357f-44a5-a2e8-47c7ff066657",
   "metadata": {},
   "source": [
    "* **JSON** → JavaScript Object Notation\n",
    "* Any programming language can understand JSON. \n",
    "* Hence JSON is the most commonly used message format for applications irrespective of programming language and platform.\n",
    "* It is very helpful for interoperability between applications. \n",
    "* It is in human-readable format.\n",
    "* It is lightweight and required less memory to store data.\n",
    "\n",
    "**Example:**\n",
    "* Java Application sends the request to the Python application.\n",
    "* Python application provides the required response in JSON form.\n",
    "* Java applications can understand JSON form and can be used based on its requirement."
   ]
  },
  {
   "cell_type": "markdown",
   "id": "6ea09a97-24f6-4d4c-8924-c8c498b64f23",
   "metadata": {},
   "source": [
    "# Python Data Types vs JavaScript Data Types"
   ]
  },
  {
   "cell_type": "markdown",
   "id": "1d092407-14de-4c0d-bebf-de4d5a2e0c09",
   "metadata": {},
   "source": [
    "* **`int`** → number\n",
    "* **`float`** → number\n",
    "* **`list`** → array\n",
    "* **`dict`** → object(JSON)\n",
    "* **`str`** → string\n",
    "* **`True`** → true\n",
    "* **`False`** → false\n",
    "* **`None`** → null\n",
    "\n",
    "In javascript, if we want to represent a group of key-value pairs, then we should go for object data type, which is nothing but **JSON**. \n",
    "\n",
    "**JSON** is very similar to Python's **dict** object.\n",
    "\n",
    "**Why the preference for JSON over XML?**\n",
    "* Lightweight\n",
    "* Human readable"
   ]
  },
  {
   "cell_type": "markdown",
   "id": "a16f01b2-9305-4276-b3cc-226c5741f10e",
   "metadata": {},
   "source": [
    "# Python's json module"
   ]
  },
  {
   "cell_type": "markdown",
   "id": "7a9bfc0b-1cce-4aa8-9b95-74ceae410a47",
   "metadata": {},
   "source": [
    "As part of programming, it is a very common requirement to convert **Python objects into JSON form** and **from JSON form to Python object**. \n",
    "\n",
    "For these conversions (**Serialization** and **Deserialization**) Python provides inbuilt module **`json`**.\n",
    "\n",
    "The **`jso`n** module defines the following important functions.\n",
    "\n",
    "**For Serialization Purposes (From Python to JSON Form)** \n",
    "* **`dumps( )`** → It serializes the Python dict object to a JSON string.\n",
    "* **`dump( )`** → Converting Python dict object to JSON and writing that JSON to a provided JSON file. It serializes to a file.\n",
    "\n",
    "**For Deserialization Purposes (From JSON form to Python form)**\n",
    "* **`loads( )`** → Converting JSON string to Python dict. It deserializes into a string.\n",
    "* **`load( )`** → Reading JSON from a file and converting to a Python dict object. Deserializes from a JSON file."
   ]
  },
  {
   "cell_type": "markdown",
   "id": "b2fffd1c-0fb4-4e99-880f-a900c2bb1afc",
   "metadata": {},
   "source": [
    "## Program for Serialization"
   ]
  },
  {
   "cell_type": "markdown",
   "id": "ad88d65d-1951-4f06-85fb-1722f1a01ec8",
   "metadata": {},
   "source": [
    "```\n",
    "import json\n",
    "employee={'name':'durga',\n",
    "'age':35,\n",
    "'salary':1000.0,\n",
    "'ismarried':True,\n",
    "'ishavinggirlfriend':None\n",
    "}\n",
    "\n",
    "json_string = json.dumps(employee,indent=4,sort_keys=True)\n",
    "print(json_string)\n",
    "\n",
    "with open('emp.json','w') as f:\n",
    "  json.dump(employee,f,indent=4)\n",
    "```"
   ]
  },
  {
   "cell_type": "markdown",
   "id": "059b184d-a0ea-4e04-9519-4d2cdae11c61",
   "metadata": {},
   "source": [
    "## Program for Deserialization from JSON string"
   ]
  },
  {
   "cell_type": "markdown",
   "id": "02f03318-a995-4795-9c6a-f6c94a46e889",
   "metadata": {},
   "source": [
    "```\n",
    "import json\n",
    "json_string='''''{\n",
    "\"name\": \"durga\",\n",
    "\"age\": 35,\n",
    "\"salary\": 1000.0,\n",
    "\"ismarried\": true,\n",
    "\"ishavinggirlfriend\": null\n",
    "}'''\n",
    "\n",
    "emp_dict=json.loads(json_string)\n",
    "print(type(emp_dict))\n",
    "print('Employee Name:',emp_dict['name'])\n",
    "print('Employee Age:',emp_dict['age'])\n",
    "print('Employee Salary:',emp_dict['salary'])\n",
    "print('Is Employee Married:',emp_dict['ismarried'])\n",
    "print('Is Employee Has GF:',emp_dict['ishavinggirlfriend'])\n",
    "\n",
    "for k,v in emp_dict.items():\n",
    "  print('{} : {}'.format(k,v))\n",
    "```"
   ]
  },
  {
   "cell_type": "markdown",
   "id": "b4d209fb-7a6d-4388-be10-f590b04f9e38",
   "metadata": {},
   "source": [
    "## Program for Deserialization from JSON file"
   ]
  },
  {
   "cell_type": "markdown",
   "id": "856e5053-a652-4644-92e1-897aecf0b7fd",
   "metadata": {},
   "source": [
    "```\n",
    "import json\n",
    "\n",
    "with open('emp.json','r') as f:\n",
    "  emp_dict=json.load(f)\n",
    "\n",
    "print(type(emp_dict))\n",
    "print('Employee Name:',emp_dict['name'])\n",
    "print('Employee Age:',emp_dict['age'])\n",
    "print('Employee Salary:',emp_dict['salary'])\n",
    "print('Is Employee Married:',emp_dict['ismarried'])\n",
    "print('Is Employee Has GF:',emp_dict['ishavinggirlfriend'])\n",
    "\n",
    "for k,v in emp_dict.items():\n",
    "  print('{} : {}'.format(k,v))\n",
    "```"
   ]
  },
  {
   "cell_type": "markdown",
   "id": "1055bc1a-aabe-45fd-b13c-e3f0132557ff",
   "metadata": {},
   "source": [
    "# FAQs from json module"
   ]
  },
  {
   "cell_type": "markdown",
   "id": "89be893b-655a-446f-8641-deee9080bfe3",
   "metadata": {},
   "source": [
    "**Q. What is the difference between `dump()` and `dumps()` functions of `json` module?**\n",
    "* **`json.dumps( )`** → Serialization of **python dict to json string**\n",
    "* **`json.dump( )`** → Serialization of **python dict to JSON file**\n",
    "\n",
    "**Q. What is the difference between `load()` and `loads()` functions of `json` module?**\n",
    "* **`json.loads( )`** → Deserialization of **json string to python dict**\n",
    "* **`json.load( )`** → Deserialization of **JSON file to python dict**"
   ]
  },
  {
   "cell_type": "markdown",
   "id": "8e7d4404-4894-4c95-9a36-2f367e8bea13",
   "metadata": {},
   "source": [
    "# Communicate with Coindesk application to get Bitcoin price "
   ]
  },
  {
   "cell_type": "markdown",
   "id": "24ed90d7-36ac-4c57-befe-abe395ebb3aa",
   "metadata": {},
   "source": [
    "If we send an HTTP request to coindesk application it will provide Bitcoin’s current price information.\n",
    "\n",
    "We can send HTTP requests from the Python application by using the requests module. \n",
    "\n",
    "We have to install this module separately → **`pip install requests`**\n",
    "\n",
    "We can send the request to Coindesk application by using the following URL: **https://api.coindesk.com/v1/bpi/currentprice.json** \n",
    "\n",
    "It will provide the following response in JSON format shown on the right section.\n",
    "\n",
    "**Demo Program**"
   ]
  },
  {
   "cell_type": "code",
   "execution_count": 3,
   "id": "f5144633-9856-41f6-b00b-237fa0284535",
   "metadata": {},
   "outputs": [
    {
     "name": "stdout",
     "output_type": "stream",
     "text": [
      "<class 'dict'>\n",
      "\n",
      "{'time': {'updated': 'Dec 13, 2024 18:27:48 UTC', 'updatedISO': '2024-12-13T18:27:48+00:00', 'updateduk': 'Dec 13, 2024 at 18:27 GMT'}, 'disclaimer': 'This data was produced from the CoinDesk Bitcoin Price Index (USD). Non-USD currency data converted using hourly conversion rate from openexchangerates.org', 'chartName': 'Bitcoin', 'bpi': {'USD': {'code': 'USD', 'symbol': '&#36;', 'rate': '102,035.996', 'description': 'United States Dollar', 'rate_float': 102035.9964}, 'GBP': {'code': 'GBP', 'symbol': '&pound;', 'rate': '79,840.412', 'description': 'British Pound Sterling', 'rate_float': 79840.4122}, 'EUR': {'code': 'EUR', 'symbol': '&euro;', 'rate': '96,888.28', 'description': 'Euro', 'rate_float': 96888.2804}}}\n",
      "\n",
      "Bitcoin Price as on Dec 13, 2024 18:27:48 UTC\n",
      "\n",
      "1 BitCoin = $ 102,035.996\n",
      "\n"
     ]
    }
   ],
   "source": [
    "import requests\n",
    "response=requests.get('https://api.coindesk.com/v1/bpi/currentprice.json')\n",
    "binfo=response.json() # provides python's dict object\n",
    "print(type(binfo))\n",
    "print()\n",
    "print(binfo)\n",
    "print()\n",
    "print('Bitcoin Price as on',binfo['time']['updated'])\n",
    "print()\n",
    "print('1 BitCoin = $',binfo['bpi']['USD']['rate'])\n",
    "print()"
   ]
  },
  {
   "cell_type": "markdown",
   "id": "24f23d64-2928-46ad-a5cd-f85f379b0841",
   "metadata": {},
   "source": [
    "# How to perform serialization and deserialization of customized class objects?"
   ]
  },
  {
   "cell_type": "markdown",
   "id": "4076699e-f392-4705-bd90-582351aa6065",
   "metadata": {},
   "source": [
    "* **`json.dumps( )`** → python dict to json string\n",
    "* **`json.dump( )`** → python dict to JSON file\n",
    "\n",
    "> The **`dump( )`**, **`dumps( )`** functions will work only for python dict objects, and we cannot use for our customized class objects like **Employee**, **Customer**, etc.\n",
    "\n",
    "---\n",
    "\n",
    "* **`json.loads( )`** → json string to python dict\n",
    "* **`json.load( )`** → JSON file to python dict\n",
    "\n",
    "> *The **`load( )`** and **`loads( )`** functions will always provide Python dict objects as return type and we won't get our customized class objects directly.*\n",
    "\n",
    "The required conversions we have to take care of explicitly."
   ]
  },
  {
   "cell_type": "markdown",
   "id": "6303449c-94ce-49e3-8585-1a3f2adef462",
   "metadata": {},
   "source": [
    "**Demo Program**\n",
    "\n",
    "```\n",
    "import json\n",
    "class Employee:\n",
    "  def __init__(self,eno,ename,esal,eaddr):\n",
    "    self.eno=eno\n",
    "    self.ename=ename\n",
    "    self.esal=esal\n",
    "    self.eaddr=eaddr\n",
    "  def display(self):\n",
    "    print('ENO:{}, ENAME:{}, ESAL:{}, EADDR:{}'.format(self.eno,self.ename,self.esal,self.eaddr))\n",
    "\n",
    "e=Employee(100,'Durga',1000.0,'Hyderabad')12)\n",
    "# emp_dict={'eno':e.eno,'ename':e.ename,'esal':e.esal,'eaddr':e.eaddr}\n",
    "\n",
    "emp_dict=e.__dict__\n",
    "\n",
    "with open('emp.json','w') as f:\n",
    "  json.dump(emp_dict,f,indent=4)\n",
    "\n",
    "with open('emp.json','r') as f:\n",
    "  edict = json.load(f)22) \n",
    "\n",
    "# print(type(edict))23)\n",
    "newE=Employee(edict['eno'],edict['ename'],edict['esal'],edict['eaddr'])\n",
    "\n",
    "newE.display()\n",
    "```"
   ]
  },
  {
   "cell_type": "markdown",
   "id": "b398b71a-5f3d-422b-9ed3-4efd4c9ee0f4",
   "metadata": {},
   "source": [
    "> **Note:** \n",
    "> * In the above program, we converted the Employee object to a dict object explicitly to perform serialization, because the **`dump( )`** function will always accept dict type only.\n",
    "> * The **`load( )`** function always returns dict type only and hence we have to convert that dictobject to the Employee object explicitly.\n",
    "\n",
    "**Shortcut**\n",
    "\n",
    "```\n",
    "e=Employee(100,'Durga',1000.0,'Hyderabad')\n",
    "with open('emp.json','w') as f:\n",
    "  json.dump(e.__dict__,f,indent=4)\n",
    "```"
   ]
  },
  {
   "cell_type": "markdown",
   "id": "c6384a2e-9842-44cd-a4f4-8f2be18fccb4",
   "metadata": {},
   "source": [
    "# The jsonpickle module"
   ]
  },
  {
   "cell_type": "markdown",
   "id": "be207945-8631-4be1-b590-3e39239654ba",
   "metadata": {},
   "source": [
    "By using the **`jsonpickle`** module we can serialize our custom class objects directly to JSON and we can deserialize json to our custom class objects directly.\n",
    "\n",
    "The **`jsonpickle`** module is not available by default and we have to install it explicitly → **`pip install jsonpickle`**\n",
    "\n",
    "This module contains:\n",
    "* **`encode( )`** → To convert any **object to json_string** directly\n",
    "* **`decode( )`** → To convert **json_string to our original object**"
   ]
  },
  {
   "cell_type": "markdown",
   "id": "4e6db52b-b40d-46ef-a81d-b631a9ab2b6f",
   "metadata": {},
   "source": [
    "## Program for serialization and deserialization by using jsonpickle"
   ]
  },
  {
   "cell_type": "markdown",
   "id": "ea84fe98-a406-4f4f-bdfa-f3b957d0b2f3",
   "metadata": {},
   "source": [
    "```\n",
    "import jsonpickle\n",
    "\n",
    "class Employee:\n",
    "  def __init__(self,eno,ename,esal,eaddr,isMarried):\n",
    "    self.eno=eno\n",
    "    self.ename=ename\n",
    "    self.esal=esal\n",
    "    self.eaddr=eaddr\n",
    "    self.isMarried=isMarried\n",
    "  def display(self):\n",
    "    print('ENO:{}, ENAME:{}, ESAL:{}, EADDR:{}, Is Married:{}'.format(self.eno,self.ename,self.esal,self.eaddr,self.isMarried))\n",
    "\n",
    "# Serialization to String\n",
    "e=Employee(100,'Durga',1000.0,'Hyderabad',True)\n",
    "json_string = jsonpickle.encode(e)\n",
    "print(json_string)\n",
    "\n",
    "#Serialization to file\n",
    "with open('emp.json','w') as f:\n",
    "  f.write(json_string)\n",
    "\n",
    "#Deserialization\n",
    "newEmp=jsonpickle.decode(json_string)\n",
    "# print(type(newEmp))\n",
    "newEmp.display()\n",
    "\n",
    "#Deserialization From the file\n",
    "with open('emp.json','r') as f:\n",
    "  json_string=f.readline()\n",
    "  \n",
    "newEmp=jsonpickle.decode(json_string)\n",
    "newEmp.display()\n",
    "```"
   ]
  },
  {
   "cell_type": "code",
   "execution_count": null,
   "id": "16a16dba-fab2-4191-a28d-d65818a325e5",
   "metadata": {},
   "outputs": [],
   "source": []
  }
 ],
 "metadata": {
  "kernelspec": {
   "display_name": "Python 3 (ipykernel)",
   "language": "python",
   "name": "python3"
  },
  "language_info": {
   "codemirror_mode": {
    "name": "ipython",
    "version": 3
   },
   "file_extension": ".py",
   "mimetype": "text/x-python",
   "name": "python",
   "nbconvert_exporter": "python",
   "pygments_lexer": "ipython3",
   "version": "3.12.5"
  }
 },
 "nbformat": 4,
 "nbformat_minor": 5
}
