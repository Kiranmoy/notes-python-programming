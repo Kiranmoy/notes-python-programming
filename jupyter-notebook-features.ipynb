{
 "cells": [
  {
   "cell_type": "markdown",
   "id": "c3f893ef",
   "metadata": {},
   "source": [
    "# KEYBOARDS SHORTCUTS"
   ]
  },
  {
   "cell_type": "markdown",
   "id": "ffefc397",
   "metadata": {},
   "source": [
    "## Cell Mode <a id=\"1\"></a>\n",
    "\n",
    "---\n",
    "**EDIT MODE** - ENTER\n",
    "\n",
    "**COMMAND MODE** - ESC"
   ]
  },
  {
   "cell_type": "markdown",
   "id": "5e68bfc8",
   "metadata": {},
   "source": [
    "## Command Mode options\n",
    "\n",
    "---\n",
    "\n",
    "> **M**                : Convert to Markdown Cell\n",
    "\n",
    "> **Y**                : Convert to Code Cell\n",
    "\n",
    "> **R**                : Convert to Raw Cell\n",
    "\n",
    "> **CTRL + ENTER**     : Execute selected cell only\n",
    "\n",
    "> **ALT + ENTER**      : Execute selected cell & Insert new cell below\n",
    "\n",
    "> **SHIFT + ENTER**    : Execute selected cell, Insert new cell below and Move to the new cell\n",
    "\n",
    "> **UP Arrow**         : Select Above Cell\n",
    "\n",
    "> **DOWN Arrow**       : Select Below Cell\n",
    "\n",
    "> **A**                : Insert Cell Above\n",
    "\n",
    "> **B**                : Insert Cell Above\n",
    "\n",
    "> **DD**               : Delete Selected Cell\n",
    "\n",
    "> **Z**                : Undo Deletion\n",
    "\n",
    "> **CTRL + S**         : Save and Checkpoint\n",
    "\n",
    "> **CTRL + A**         : Select all cells\n",
    "\n",
    "> **X**                : Cut Selected Cell\n",
    "\n",
    "> **C**                : Copy Selected Cell\n",
    "\n",
    "> **SHIFT + V**        : Paste Cell Above\n",
    "\n",
    "> **V**                : Paste Cell Below\n",
    "\n",
    "> **SHIFT + M**        : merge selected cells, or current cell with cell below if only one cell is selected\n",
    "\n",
    "> **F**                : Find and Replace\n",
    "\n"
   ]
  },
  {
   "cell_type": "markdown",
   "id": "ff338111",
   "metadata": {},
   "source": [
    "## Code Execution History\n",
    "\n",
    "> **%history -p**"
   ]
  },
  {
   "cell_type": "markdown",
   "id": "1a97eeab",
   "metadata": {},
   "source": [
    "## Markdown Syntax\n"
   ]
  },
  {
   "cell_type": "markdown",
   "id": "459fc33c",
   "metadata": {},
   "source": [
    "### Adding Italics and Bold Text"
   ]
  },
  {
   "cell_type": "markdown",
   "id": "f4951503-4893-46f8-acfc-7c46240a32ef",
   "metadata": {},
   "source": [
    "*Italics*\n",
    "\n",
    "**Bold** "
   ]
  },
  {
   "cell_type": "markdown",
   "id": "3b6bbf18",
   "metadata": {},
   "source": [
    "### Adding Headers"
   ]
  },
  {
   "cell_type": "markdown",
   "id": "f82b44c1-5164-4376-98a5-1a4cecf38811",
   "metadata": {},
   "source": [
    "# Header 1\n",
    "## Header 2\n",
    "### Header 3"
   ]
  },
  {
   "cell_type": "markdown",
   "id": "06291b0e",
   "metadata": {},
   "source": [
    "### Adding Hyperlinks and Images"
   ]
  },
  {
   "cell_type": "markdown",
   "id": "b0015de5-8fbf-4477-b570-2db2e3bb38f4",
   "metadata": {},
   "source": [
    "[Link Text](URL)"
   ]
  },
  {
   "cell_type": "markdown",
   "id": "bb71ee44",
   "metadata": {},
   "source": [
    "### Adding Blockquote"
   ]
  },
  {
   "cell_type": "markdown",
   "id": "e9c38dd0-ef4f-4227-9190-0f94f1ef4427",
   "metadata": {},
   "source": [
    "> Blockquote"
   ]
  },
  {
   "cell_type": "markdown",
   "id": "cb3387ca",
   "metadata": {},
   "source": [
    "### Adding Lists"
   ]
  },
  {
   "cell_type": "markdown",
   "id": "27ee86d1-8384-40ad-9ec5-437574630180",
   "metadata": {},
   "source": [
    "* List 1\n",
    "* List 2\n",
    "* List 3"
   ]
  },
  {
   "cell_type": "markdown",
   "id": "75f6bfd4",
   "metadata": {},
   "source": [
    "### Adding Horizontal Line"
   ]
  },
  {
   "cell_type": "markdown",
   "id": "34ece77d-edb8-4610-a5e8-f04b04f044a3",
   "metadata": {},
   "source": [
    "---"
   ]
  },
  {
   "cell_type": "markdown",
   "id": "8f3c9684",
   "metadata": {},
   "source": [
    "### Adding Inline Code"
   ]
  },
  {
   "cell_type": "markdown",
   "id": "29316b8f-74b1-4a0d-9425-5eacc0cc92ab",
   "metadata": {},
   "source": [
    "`Inline code with backtick`"
   ]
  },
  {
   "cell_type": "markdown",
   "id": "a59380bf",
   "metadata": {},
   "source": [
    "### Adding Code Blocks"
   ]
  },
  {
   "cell_type": "markdown",
   "id": "94f6867f-d047-44cc-a09f-cd4595a41653",
   "metadata": {
    "editable": true,
    "raw_mimetype": "",
    "slideshow": {
     "slide_type": ""
    },
    "tags": []
   },
   "source": [
    "```\n",
    "Code\n",
    "\n",
    "Block\n",
    "```"
   ]
  },
  {
   "cell_type": "markdown",
   "id": "8d3886f8-29b3-4d4f-b29b-7a101c73a039",
   "metadata": {},
   "source": [
    "# Table of Contents"
   ]
  },
  {
   "cell_type": "markdown",
   "id": "aa318928-1f29-49a0-9052-729b1856a489",
   "metadata": {},
   "source": [
    "1. [Section one](#1)"
   ]
  },
  {
   "cell_type": "markdown",
   "id": "9e28082a-02e6-493c-9b8d-1991f9ed5af8",
   "metadata": {},
   "source": [
    "# Coloured boxes"
   ]
  },
  {
   "cell_type": "markdown",
   "id": "f6c426ad-649e-4446-872a-91282e5630ca",
   "metadata": {},
   "source": [
    "<div class=\"alert alert-block alert-info\"> <b>Tip:</b> Use blue boxes (alert-info) for tips and notes.  If it’s a note, you don’t have to include the word “Note”. </div>"
   ]
  },
  {
   "cell_type": "markdown",
   "id": "7f4798ab-ecc9-4377-b783-716ea377cb9a",
   "metadata": {},
   "source": [
    "<div class=\"alert alert-block alert-warning\">\n",
    "<b>Example:</b> Use yellow boxes for examples that are not  inside code cells, or use for mathematical formulas if needed.\n",
    "</div>"
   ]
  },
  {
   "cell_type": "markdown",
   "id": "b931085c-42c2-4adc-9e7f-fef2f5882608",
   "metadata": {},
   "source": [
    "<div class=\"alert alert-block alert-success\">\n",
    "<b>Up to you:</b> Use green boxes sparingly, and only for some specific  purpose that the other boxes can't cover. For example, if you have a lot  of related content to link to, maybe you decide to use green boxes for  related links from each section of a notebook.\n",
    "</div>"
   ]
  },
  {
   "cell_type": "markdown",
   "id": "de278b0e-7625-4291-90b9-a1a7aa33b7a7",
   "metadata": {},
   "source": [
    "<div class=\"alert alert-block alert-danger\"> \n",
    "<b>Just don't:</b> In general, avoid the red boxes. These should only be used for actions that might cause data loss or another major issue.\n",
    "</div>\n"
   ]
  },
  {
   "cell_type": "markdown",
   "id": "205a20a2-db54-4428-916e-f5d2cfe9c791",
   "metadata": {},
   "source": [
    "# Coloured text"
   ]
  },
  {
   "cell_type": "markdown",
   "id": "07e7265f-7bc2-40e0-bb32-e99bbd1d96f1",
   "metadata": {},
   "source": [
    "<font color = 'red'> \n",
    "Random Forest Classification algorithm accuracy is %85.24."
   ]
  },
  {
   "cell_type": "markdown",
   "id": "8b97b57d-d5b9-467d-859c-7aebf6d1964f",
   "metadata": {},
   "source": [
    "<font color = 'blue'> \n",
    "Random Forest Classification algorithm accuracy is %85.24."
   ]
  },
  {
   "cell_type": "markdown",
   "id": "48b04ce2-1d12-4d00-9a4c-13c43561d331",
   "metadata": {},
   "source": [
    "<font color = 'green'> \n",
    "Random Forest Classification algorithm accuracy is %85.24."
   ]
  },
  {
   "cell_type": "code",
   "execution_count": null,
   "id": "4dcaab8c-6666-4a0d-b6cc-2825f7083724",
   "metadata": {},
   "outputs": [],
   "source": []
  }
 ],
 "metadata": {
  "kernelspec": {
   "display_name": "Python 3 (ipykernel)",
   "language": "python",
   "name": "python3"
  },
  "language_info": {
   "codemirror_mode": {
    "name": "ipython",
    "version": 3
   },
   "file_extension": ".py",
   "mimetype": "text/x-python",
   "name": "python",
   "nbconvert_exporter": "python",
   "pygments_lexer": "ipython3",
   "version": "3.12.5"
  }
 },
 "nbformat": 4,
 "nbformat_minor": 5
}
