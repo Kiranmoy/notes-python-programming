{
 "cells": [
  {
   "cell_type": "markdown",
   "id": "0e3f4172-915c-4244-809b-f76e34f46775",
   "metadata": {},
   "source": [
    "**1. We can use float data type to represent floating point values (decimal values).**"
   ]
  },
  {
   "cell_type": "code",
   "execution_count": 1,
   "id": "da270abd-6a7b-461d-877b-95bcd580bbcd",
   "metadata": {},
   "outputs": [
    {
     "name": "stdout",
     "output_type": "stream",
     "text": [
      "<class 'float'>\n"
     ]
    }
   ],
   "source": [
    "f = 123.45\n",
    "print(type(f))    # <class 'float'>"
   ]
  },
  {
   "cell_type": "markdown",
   "id": "e5802707-f0c1-4e7c-a9c1-e6f552acfae7",
   "metadata": {},
   "source": [
    "**2. We can also represent floating point values by using the exponential form (Scientific Notation)**"
   ]
  },
  {
   "cell_type": "code",
   "execution_count": 2,
   "id": "4c8b4b8b-9245-48bf-8777-3f8b060206bd",
   "metadata": {},
   "outputs": [
    {
     "name": "stdout",
     "output_type": "stream",
     "text": [
      "1200.0\n"
     ]
    }
   ],
   "source": [
    "f = 1.2e3 # instead of 'e', we can use 'E'\n",
    "print(f)  # 1200.0"
   ]
  },
  {
   "cell_type": "markdown",
   "id": "505afc4a-9dcc-40ff-854c-730e33107a75",
   "metadata": {},
   "source": [
    "The main advantage of the exponential form is we can represent big values in less memory."
   ]
  },
  {
   "cell_type": "markdown",
   "id": "2658b422-6b35-479a-9e66-181a9481983e",
   "metadata": {},
   "source": [
    "> ***Note***\n",
    "\n",
    "> We can represent ***int*** values in ***decimal***, ***binary***, ***octal*** and ***hexadecimal*** forms. \n",
    "\n",
    "> But we can represent ***float*** values only by using decimal form. "
   ]
  },
  {
   "cell_type": "code",
   "execution_count": 4,
   "id": "6d979143-e69b-4760-9bec-24aa37299449",
   "metadata": {},
   "outputs": [
    {
     "ename": "SyntaxError",
     "evalue": "invalid syntax (4061082297.py, line 1)",
     "output_type": "error",
     "traceback": [
      "\u001b[1;36m  Cell \u001b[1;32mIn[4], line 1\u001b[1;36m\u001b[0m\n\u001b[1;33m    f = 0B1.1011  # SyntaxError: invalid syntax\u001b[0m\n\u001b[1;37m           ^\u001b[0m\n\u001b[1;31mSyntaxError\u001b[0m\u001b[1;31m:\u001b[0m invalid syntax\n"
     ]
    }
   ],
   "source": [
    "f = 0B1.1011  # SyntaxError: invalid syntax"
   ]
  },
  {
   "cell_type": "code",
   "execution_count": 5,
   "id": "e2259789-c2f3-44a5-9ba5-eea915ef16d2",
   "metadata": {},
   "outputs": [
    {
     "ename": "SyntaxError",
     "evalue": "invalid syntax (3179100626.py, line 1)",
     "output_type": "error",
     "traceback": [
      "\u001b[1;36m  Cell \u001b[1;32mIn[5], line 1\u001b[1;36m\u001b[0m\n\u001b[1;33m    f = 0o123.4   # SyntaxError: invalid syntax\u001b[0m\n\u001b[1;37m             ^\u001b[0m\n\u001b[1;31mSyntaxError\u001b[0m\u001b[1;31m:\u001b[0m invalid syntax\n"
     ]
    }
   ],
   "source": [
    "f = 0o123.4   # SyntaxError: invalid syntax"
   ]
  },
  {
   "cell_type": "code",
   "execution_count": 6,
   "id": "abebd1cf-73e3-4ca6-99a4-c47ed840e8d9",
   "metadata": {},
   "outputs": [
    {
     "ename": "SyntaxError",
     "evalue": "invalid syntax (3939474054.py, line 1)",
     "output_type": "error",
     "traceback": [
      "\u001b[1;36m  Cell \u001b[1;32mIn[6], line 1\u001b[1;36m\u001b[0m\n\u001b[1;33m    f = 0X123.45  # SyntaxError: invalid syntax\u001b[0m\n\u001b[1;37m             ^\u001b[0m\n\u001b[1;31mSyntaxError\u001b[0m\u001b[1;31m:\u001b[0m invalid syntax\n"
     ]
    }
   ],
   "source": [
    "f = 0X123.45  # SyntaxError: invalid syntax"
   ]
  },
  {
   "cell_type": "code",
   "execution_count": null,
   "id": "5f14bc63-4410-4a7d-af58-6b66d5f42741",
   "metadata": {},
   "outputs": [],
   "source": []
  }
 ],
 "metadata": {
  "kernelspec": {
   "display_name": "Python 3 (ipykernel)",
   "language": "python",
   "name": "python3"
  },
  "language_info": {
   "codemirror_mode": {
    "name": "ipython",
    "version": 3
   },
   "file_extension": ".py",
   "mimetype": "text/x-python",
   "name": "python",
   "nbconvert_exporter": "python",
   "pygments_lexer": "ipython3",
   "version": "3.12.5"
  }
 },
 "nbformat": 4,
 "nbformat_minor": 5
}
