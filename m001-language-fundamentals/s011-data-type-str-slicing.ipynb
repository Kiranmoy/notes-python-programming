{
 "cells": [
  {
   "attachments": {
    "217c14d5-c024-4bbc-a9f8-8698cc4438e1.png": {
     "image/png": "[encoded data removed]"
    }
   },
   "cell_type": "markdown",
   "id": "82a1fae9-dd5d-453c-9e03-983b83d2de8b",
   "metadata": {},
   "source": [
    "Slice means a piece\n",
    "\n",
    "The **[ ] operator** is called the slice operator, which can be used to retrieve parts of a String.\n",
    "\n",
    "SYNTAX -  **str \\[beginIndex : endIndex\\]**\n",
    "\n",
    "Returns sub-string(slice) from **beginIndex** to **(endIndex - 1)**.\n",
    "\n",
    "![image.png](attachment:217c14d5-c024-4bbc-a9f8-8698cc4438e1.png)"
   ]
  },
  {
   "cell_type": "code",
   "execution_count": 1,
   "id": "890d22dd-73bc-41bc-8abc-d93b6132972c",
   "metadata": {},
   "outputs": [
    {
     "name": "stdout",
     "output_type": "stream",
     "text": [
      "urg\n"
     ]
    }
   ],
   "source": [
    "s = \"durga\"\n",
    "print(s[1:4])   # return sun-string from index 1 to 3"
   ]
  },
  {
   "cell_type": "markdown",
   "id": "7e00d724-1a3d-48ce-afc5-b1da39f6f7b7",
   "metadata": {},
   "source": [
    "If we are not specifying ***beginIndex***, the default value is 0."
   ]
  },
  {
   "cell_type": "code",
   "execution_count": 2,
   "id": "1c875535-f41f-4bff-aee2-017bddb8701d",
   "metadata": {},
   "outputs": [
    {
     "name": "stdout",
     "output_type": "stream",
     "text": [
      "durg\n"
     ]
    }
   ],
   "source": [
    "s = \"durga\"\n",
    "print(s[:4])   # urg"
   ]
  },
  {
   "cell_type": "markdown",
   "id": "3ee6da4b-22d1-4c8a-b60f-d26db128434d",
   "metadata": {},
   "source": [
    "If we are not specifying ***endIndex***, it will consider till the end-of-string."
   ]
  },
  {
   "cell_type": "code",
   "execution_count": 3,
   "id": "04bc30f6-3374-45da-a1ef-47dc988ee7b9",
   "metadata": {},
   "outputs": [
    {
     "name": "stdout",
     "output_type": "stream",
     "text": [
      "urga\n"
     ]
    }
   ],
   "source": [
    "s = \"durga\"\n",
    "print(s[1:])   # urga"
   ]
  },
  {
   "cell_type": "markdown",
   "id": "d9867bb2-6863-4c48-b3c5-4c92e30ae888",
   "metadata": {},
   "source": [
    "If you don’t provide both **beginIndex** and **endIndex** then the total string by default will be considered."
   ]
  },
  {
   "cell_type": "code",
   "execution_count": 4,
   "id": "f295d44f-607e-4d2d-b390-afcbed4e4005",
   "metadata": {},
   "outputs": [
    {
     "name": "stdout",
     "output_type": "stream",
     "text": [
      "durga\n"
     ]
    }
   ],
   "source": [
    "s = \"durga\"\n",
    "print(s[:])   # durga"
   ]
  },
  {
   "cell_type": "markdown",
   "id": "50939635-fd97-4f01-98db-1f16b1ee3eb8",
   "metadata": {},
   "source": [
    "The slice operator never raises ***IndexError***, whatever the range is provided, within that range whatever characters are there, will be considered."
   ]
  },
  {
   "cell_type": "code",
   "execution_count": 5,
   "id": "dd77ad5e-d92c-4dba-8bcc-005a1d3b6b42",
   "metadata": {},
   "outputs": [
    {
     "name": "stdout",
     "output_type": "stream",
     "text": [
      "urga\n"
     ]
    }
   ],
   "source": [
    "s = \"durga\"\n",
    "print(s[1:10000])   # urga"
   ]
  },
  {
   "cell_type": "code",
   "execution_count": 6,
   "id": "8343a80b-4f10-453e-8d8d-d44e240a97d3",
   "metadata": {},
   "outputs": [
    {
     "name": "stdout",
     "output_type": "stream",
     "text": [
      "\n"
     ]
    }
   ],
   "source": [
    "s = \"durga\"\n",
    "print(s[5:1])   # empty string\n",
    "\n",
    "# From index 5, if we go in forward direction, we never going to fing index 1.\n",
    "# Hence it returns empty string."
   ]
  },
  {
   "cell_type": "markdown",
   "id": "239419d8-040c-4cce-8599-644c584d05e6",
   "metadata": {},
   "source": [
    "**Special applications**"
   ]
  },
  {
   "cell_type": "code",
   "execution_count": 9,
   "id": "1759f88a-9e90-4817-bcbc-dd4158005706",
   "metadata": {},
   "outputs": [
    {
     "name": "stdout",
     "output_type": "stream",
     "text": [
      "durgA\n"
     ]
    }
   ],
   "source": [
    "s = \"durga\"\n",
    "output = s[0:len(s)-1] + s[-1].upper()    # durgA\n",
    "print(output)"
   ]
  },
  {
   "cell_type": "code",
   "execution_count": null,
   "id": "72f88cd9-d332-4add-b413-16b96499f305",
   "metadata": {},
   "outputs": [],
   "source": []
  }
 ],
 "metadata": {
  "kernelspec": {
   "display_name": "Python 3 (ipykernel)",
   "language": "python",
   "name": "python3"
  },
  "language_info": {
   "codemirror_mode": {
    "name": "ipython",
    "version": 3
   },
   "file_extension": ".py",
   "mimetype": "text/x-python",
   "name": "python",
   "nbconvert_exporter": "python",
   "pygments_lexer": "ipython3",
   "version": "3.12.5"
  }
 },
 "nbformat": 4,
 "nbformat_minor": 5
}
