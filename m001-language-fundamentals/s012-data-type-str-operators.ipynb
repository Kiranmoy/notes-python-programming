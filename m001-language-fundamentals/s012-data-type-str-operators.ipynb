{
 "cells": [
  {
   "cell_type": "markdown",
   "id": "6aef1eb5-dd71-4ae1-9660-1520aadeba8b",
   "metadata": {},
   "source": [
    "# str behaviour with + and * operator"
   ]
  },
  {
   "cell_type": "markdown",
   "id": "94f7e6d4-bc12-4b80-949a-9c2b7da56519",
   "metadata": {},
   "source": [
    "The **+ operator** is also known as the **concatenation operator** for string.\n",
    "\n",
    "If you want to use the concatenation operator, then compulsory both arguments should be of string type, else we’ll get **TypeError**."
   ]
  },
  {
   "cell_type": "code",
   "execution_count": 2,
   "id": "fb2b9cd7-6fc2-407d-8c9c-bc410a86689c",
   "metadata": {},
   "outputs": [
    {
     "name": "stdout",
     "output_type": "stream",
     "text": [
      "durgasoft\n"
     ]
    }
   ],
   "source": [
    "print(\"durga\" + \"soft\")   # durgasoft"
   ]
  },
  {
   "cell_type": "code",
   "execution_count": 3,
   "id": "de2a520d-7be5-43e1-9761-edf5d21efc88",
   "metadata": {},
   "outputs": [
    {
     "ename": "TypeError",
     "evalue": "can only concatenate str (not \"int\") to str",
     "output_type": "error",
     "traceback": [
      "\u001b[1;31m---------------------------------------------------------------------------\u001b[0m",
      "\u001b[1;31mTypeError\u001b[0m                                 Traceback (most recent call last)",
      "Cell \u001b[1;32mIn[3], line 1\u001b[0m\n\u001b[1;32m----> 1\u001b[0m \u001b[38;5;28mprint\u001b[39m(\u001b[38;5;124;43m\"\u001b[39;49m\u001b[38;5;124;43mdurga\u001b[39;49m\u001b[38;5;124;43m\"\u001b[39;49m\u001b[43m \u001b[49m\u001b[38;5;241;43m+\u001b[39;49m\u001b[43m \u001b[49m\u001b[38;5;241;43m10\u001b[39;49m)       \u001b[38;5;66;03m# TypeError: can only concatenate str (not \"int\") to str\u001b[39;00m\n",
      "\u001b[1;31mTypeError\u001b[0m: can only concatenate str (not \"int\") to str"
     ]
    }
   ],
   "source": [
    "print(\"durga\" + 10)       # TypeError: can only concatenate str (not \"int\") to str"
   ]
  },
  {
   "cell_type": "code",
   "execution_count": 4,
   "id": "3db4bfc6-87e1-4d1b-8aae-38c23dbfb085",
   "metadata": {},
   "outputs": [
    {
     "ename": "TypeError",
     "evalue": "can only concatenate str (not \"bool\") to str",
     "output_type": "error",
     "traceback": [
      "\u001b[1;31m---------------------------------------------------------------------------\u001b[0m",
      "\u001b[1;31mTypeError\u001b[0m                                 Traceback (most recent call last)",
      "Cell \u001b[1;32mIn[4], line 1\u001b[0m\n\u001b[1;32m----> 1\u001b[0m \u001b[38;5;28mprint\u001b[39m(\u001b[38;5;124;43m\"\u001b[39;49m\u001b[38;5;124;43mdurga\u001b[39;49m\u001b[38;5;124;43m\"\u001b[39;49m\u001b[43m \u001b[49m\u001b[38;5;241;43m+\u001b[39;49m\u001b[43m \u001b[49m\u001b[38;5;28;43;01mTrue\u001b[39;49;00m)     \u001b[38;5;66;03m# TypeError: can only concatenate str (not \"bool\") to str\u001b[39;00m\n",
      "\u001b[1;31mTypeError\u001b[0m: can only concatenate str (not \"bool\") to str"
     ]
    }
   ],
   "source": [
    "print(\"durga\" + True)     # TypeError: can only concatenate str (not \"bool\") to str"
   ]
  },
  {
   "cell_type": "code",
   "execution_count": 5,
   "id": "72ca54c8-9a0d-44b7-9a82-ed81bd119401",
   "metadata": {},
   "outputs": [
    {
     "ename": "TypeError",
     "evalue": "can only concatenate str (not \"float\") to str",
     "output_type": "error",
     "traceback": [
      "\u001b[1;31m---------------------------------------------------------------------------\u001b[0m",
      "\u001b[1;31mTypeError\u001b[0m                                 Traceback (most recent call last)",
      "Cell \u001b[1;32mIn[5], line 1\u001b[0m\n\u001b[1;32m----> 1\u001b[0m \u001b[38;5;28mprint\u001b[39m(\u001b[38;5;124;43m\"\u001b[39;49m\u001b[38;5;124;43mdurga\u001b[39;49m\u001b[38;5;124;43m\"\u001b[39;49m\u001b[43m \u001b[49m\u001b[38;5;241;43m+\u001b[39;49m\u001b[43m \u001b[49m\u001b[38;5;241;43m3.5\u001b[39;49m)      \u001b[38;5;66;03m# TypeError: can only concatenate str (not \"float\") to str\u001b[39;00m\n",
      "\u001b[1;31mTypeError\u001b[0m: can only concatenate str (not \"float\") to str"
     ]
    }
   ],
   "source": [
    "print(\"durga\" + 3.5)      # TypeError: can only concatenate str (not \"float\") to str"
   ]
  },
  {
   "cell_type": "markdown",
   "id": "ee33af1d-4534-4cc6-9272-ccfb828d04d9",
   "metadata": {},
   "source": [
    "The **\\* operator** is also known as **String Repetition Operator**.\n",
    "\n",
    "If you want to use the string repetition operator, then compulsory one argument should be of **str** type and another should be of **int** type, else we’ll get **TypeError**."
   ]
  },
  {
   "cell_type": "code",
   "execution_count": 6,
   "id": "6c54cf47-8c60-4014-9b16-0b06e9917b41",
   "metadata": {},
   "outputs": [
    {
     "name": "stdout",
     "output_type": "stream",
     "text": [
      "##########\n",
      "Kiran\n",
      "##########\n"
     ]
    }
   ],
   "source": [
    "print(\"#\" * 10)\n",
    "print(\"Kiran\")\n",
    "print(\"#\" * 10)"
   ]
  },
  {
   "cell_type": "code",
   "execution_count": null,
   "id": "b1c91e64-66b4-4c14-b65b-0eb9eeaf2503",
   "metadata": {},
   "outputs": [],
   "source": []
  }
 ],
 "metadata": {
  "kernelspec": {
   "display_name": "Python 3 (ipykernel)",
   "language": "python",
   "name": "python3"
  },
  "language_info": {
   "codemirror_mode": {
    "name": "ipython",
    "version": 3
   },
   "file_extension": ".py",
   "mimetype": "text/x-python",
   "name": "python",
   "nbconvert_exporter": "python",
   "pygments_lexer": "ipython3",
   "version": "3.12.5"
  }
 },
 "nbformat": 4,
 "nbformat_minor": 5
}
