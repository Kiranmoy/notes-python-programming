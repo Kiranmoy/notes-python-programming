{
 "cells": [
  {
   "cell_type": "markdown",
   "id": "e593b2c6-28e5-4769-b070-37c711b56348",
   "metadata": {},
   "source": [
    "We can convert one type value to another type. \n",
    "\n",
    "This conversion is called **Typecasting** or **Type coercion**.\n",
    "\n",
    "Python provides 5 in-built functions for type casting:\n",
    "* **int( )**\n",
    "* **float( )**\n",
    "* **complex( )**\n",
    "* **bool( )**\n",
    "* **str( )**\n",
    " \n",
    "\n",
    "Python supports two types of type casting:\n",
    "* **Implicit type conversion**\n",
    "* **Explicit type conversion**"
   ]
  },
  {
   "cell_type": "markdown",
   "id": "7388dd1d-5405-4b1d-a02b-91718fa01667",
   "metadata": {},
   "source": [
    "# Implicit type conversion"
   ]
  },
  {
   "cell_type": "markdown",
   "id": "7abcb046-6955-4865-88a0-67fb642bd2f9",
   "metadata": {},
   "source": [
    "In this, method, Python automatically converts one data type into another data type. There is no user intervention."
   ]
  },
  {
   "cell_type": "code",
   "execution_count": 3,
   "id": "03721106-eb07-4909-bedc-669e53e39b3d",
   "metadata": {},
   "outputs": [
    {
     "name": "stdout",
     "output_type": "stream",
     "text": [
      "<class 'int'>\n"
     ]
    }
   ],
   "source": [
    "val = 5         # python automatically converts val to int\n",
    "print(type(val))"
   ]
  },
  {
   "cell_type": "code",
   "execution_count": 5,
   "id": "f8c2f0d6-e2de-42df-a81b-7c760c11d1a6",
   "metadata": {},
   "outputs": [
    {
     "name": "stdout",
     "output_type": "stream",
     "text": [
      "32.0\n",
      "<class 'float'>\n"
     ]
    }
   ],
   "source": [
    "a = 8.0\n",
    "b = 4.0\n",
    "m = a * b       # python automatically converts m to float\n",
    "print(m)\n",
    "print(type(m))"
   ]
  },
  {
   "cell_type": "markdown",
   "id": "536afd0f-43a2-41b8-aa10-24265437022d",
   "metadata": {},
   "source": [
    "# Explicit type conversion"
   ]
  },
  {
   "cell_type": "markdown",
   "id": "729525ad-dae2-47fb-8766-03ef69f277c8",
   "metadata": {},
   "source": [
    "In Explicit Type, the Conversion user needs to manually convert data types.\n",
    "\n",
    "Mainly in typecasting can be done with these data type functions:\n",
    "* **int( )** → int class to construct an integer literal.\n",
    "* **float( )** → float class to construct a float literal.\n",
    "* **str( )** → string class to construct a string literal."
   ]
  },
  {
   "cell_type": "code",
   "execution_count": 7,
   "id": "590e38f6-9d1c-448e-8c74-51e8fe51a390",
   "metadata": {},
   "outputs": [
    {
     "name": "stdout",
     "output_type": "stream",
     "text": [
      "5\n",
      "<class 'int'>\n"
     ]
    }
   ],
   "source": [
    "a = 5.9\n",
    "n = int(a)  # typecasting float value to int\n",
    "print(n)\n",
    "print(type(n))"
   ]
  },
  {
   "cell_type": "code",
   "execution_count": null,
   "id": "b774e301-5a73-4b18-86de-9f156be239e9",
   "metadata": {},
   "outputs": [],
   "source": []
  }
 ],
 "metadata": {
  "kernelspec": {
   "display_name": "Python 3 (ipykernel)",
   "language": "python",
   "name": "python3"
  },
  "language_info": {
   "codemirror_mode": {
    "name": "ipython",
    "version": 3
   },
   "file_extension": ".py",
   "mimetype": "text/x-python",
   "name": "python",
   "nbconvert_exporter": "python",
   "pygments_lexer": "ipython3",
   "version": "3.12.5"
  }
 },
 "nbformat": 4,
 "nbformat_minor": 5
}
