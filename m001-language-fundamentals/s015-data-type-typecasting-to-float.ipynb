{
 "cells": [
  {
   "cell_type": "markdown",
   "id": "e9b22b1d-c4df-4a21-a2da-55146247d82b",
   "metadata": {},
   "source": [
    "We can use the **float( )** function to convert values from ***other types to float type***."
   ]
  },
  {
   "cell_type": "markdown",
   "id": "5470ee4f-996f-4fe8-9a56-67088076ab1c",
   "metadata": {},
   "source": [
    "# int -> float"
   ]
  },
  {
   "cell_type": "markdown",
   "id": "76d3b036-bab1-46a4-bf5d-22d051471ff7",
   "metadata": {},
   "source": [
    "Decimal point will be added."
   ]
  },
  {
   "cell_type": "code",
   "execution_count": 2,
   "id": "19c730bb-5109-4347-8542-f5e756590deb",
   "metadata": {},
   "outputs": [
    {
     "data": {
      "text/plain": [
       "15.0"
      ]
     },
     "execution_count": 2,
     "metadata": {},
     "output_type": "execute_result"
    }
   ],
   "source": [
    "float(10)       # 10.0\n",
    "float(0B1111)   # 15.0"
   ]
  },
  {
   "cell_type": "markdown",
   "id": "e82e93be-1e38-448a-b71e-1bf1e07cf0fb",
   "metadata": {},
   "source": [
    "# complex -> float"
   ]
  },
  {
   "cell_type": "markdown",
   "id": "4a4270bb-be66-4d9b-a26c-3beb9b178b73",
   "metadata": {},
   "source": [
    "Complex number **cannot** be converted to **float** type."
   ]
  },
  {
   "cell_type": "code",
   "execution_count": 3,
   "id": "1c561618-ddec-492a-b352-5649ea0261e7",
   "metadata": {},
   "outputs": [
    {
     "ename": "TypeError",
     "evalue": "float() argument must be a string or a real number, not 'complex'",
     "output_type": "error",
     "traceback": [
      "\u001b[1;31m---------------------------------------------------------------------------\u001b[0m",
      "\u001b[1;31mTypeError\u001b[0m                                 Traceback (most recent call last)",
      "Cell \u001b[1;32mIn[3], line 1\u001b[0m\n\u001b[1;32m----> 1\u001b[0m \u001b[38;5;28;43mfloat\u001b[39;49m\u001b[43m(\u001b[49m\u001b[38;5;241;43m10\u001b[39;49m\u001b[38;5;241;43m+\u001b[39;49m\u001b[38;5;241;43m5\u001b[39;49m\u001b[43mj\u001b[49m\u001b[43m)\u001b[49m    \u001b[38;5;66;03m# TypeError: can't convert complex to float\u001b[39;00m\n",
      "\u001b[1;31mTypeError\u001b[0m: float() argument must be a string or a real number, not 'complex'"
     ]
    }
   ],
   "source": [
    "float(10+5j)    # TypeError: can't convert complex to float"
   ]
  },
  {
   "cell_type": "markdown",
   "id": "dcaa360a-2449-4541-a178-334a1d1e3ad7",
   "metadata": {},
   "source": [
    "# bool -> float"
   ]
  },
  {
   "cell_type": "markdown",
   "id": "73fde893-6815-4e6b-96fd-9f58e740eef1",
   "metadata": {},
   "source": [
    "Boolean type is internally treated as int. That is, **True=1** & **False=0**."
   ]
  },
  {
   "cell_type": "code",
   "execution_count": 5,
   "id": "c949d960-ca9c-4132-b02a-1c4addb9fe51",
   "metadata": {},
   "outputs": [
    {
     "data": {
      "text/plain": [
       "0.0"
      ]
     },
     "execution_count": 5,
     "metadata": {},
     "output_type": "execute_result"
    }
   ],
   "source": [
    "float(True)         # 1.0\n",
    "float(False)        # 0.0"
   ]
  },
  {
   "cell_type": "markdown",
   "id": "8f881171-960d-4819-8583-1d6c3325549c",
   "metadata": {},
   "source": [
    "# str -> float"
   ]
  },
  {
   "cell_type": "markdown",
   "id": "653fe6c9-3d02-41de-b032-0f00836de5e8",
   "metadata": {},
   "source": [
    "Compulsory the str value should be an **integral** or **float** value and should be specified in **base-10 format**.  Other format such as base-2, base-8 & base-16 form is **not allowed**."
   ]
  },
  {
   "cell_type": "code",
   "execution_count": 6,
   "id": "22d0dd73-068f-4193-b2a3-c8ce775d59fb",
   "metadata": {},
   "outputs": [
    {
     "data": {
      "text/plain": [
       "10.5"
      ]
     },
     "execution_count": 6,
     "metadata": {},
     "output_type": "execute_result"
    }
   ],
   "source": [
    "float(\"10\")           # 10\n",
    "float(\"10.5\")         # 10.5"
   ]
  },
  {
   "cell_type": "code",
   "execution_count": 7,
   "id": "08633e10-2238-4bd0-8f00-7baac8d6d4cc",
   "metadata": {},
   "outputs": [
    {
     "ename": "ValueError",
     "evalue": "could not convert string to float: 'ten'",
     "output_type": "error",
     "traceback": [
      "\u001b[1;31m---------------------------------------------------------------------------\u001b[0m",
      "\u001b[1;31mValueError\u001b[0m                                Traceback (most recent call last)",
      "Cell \u001b[1;32mIn[7], line 1\u001b[0m\n\u001b[1;32m----> 1\u001b[0m \u001b[38;5;28;43mfloat\u001b[39;49m\u001b[43m(\u001b[49m\u001b[38;5;124;43m\"\u001b[39;49m\u001b[38;5;124;43mten\u001b[39;49m\u001b[38;5;124;43m\"\u001b[39;49m\u001b[43m)\u001b[49m          \u001b[38;5;66;03m# ValueError: could not convert string to float: 'ten'\u001b[39;00m\n",
      "\u001b[1;31mValueError\u001b[0m: could not convert string to float: 'ten'"
     ]
    }
   ],
   "source": [
    "float(\"ten\")          # ValueError: could not convert string to float: 'ten'"
   ]
  },
  {
   "cell_type": "code",
   "execution_count": 8,
   "id": "4920b402-30d5-41ee-a2a8-e44b29d14fe4",
   "metadata": {},
   "outputs": [
    {
     "ename": "ValueError",
     "evalue": "could not convert string to float: '0B1111'",
     "output_type": "error",
     "traceback": [
      "\u001b[1;31m---------------------------------------------------------------------------\u001b[0m",
      "\u001b[1;31mValueError\u001b[0m                                Traceback (most recent call last)",
      "Cell \u001b[1;32mIn[8], line 1\u001b[0m\n\u001b[1;32m----> 1\u001b[0m \u001b[38;5;28;43mfloat\u001b[39;49m\u001b[43m(\u001b[49m\u001b[38;5;124;43m\"\u001b[39;49m\u001b[38;5;124;43m0B1111\u001b[39;49m\u001b[38;5;124;43m\"\u001b[39;49m\u001b[43m)\u001b[49m       \u001b[38;5;66;03m# ValueError: could not convert string to float: '0B1111'\u001b[39;00m\n",
      "\u001b[1;31mValueError\u001b[0m: could not convert string to float: '0B1111'"
     ]
    }
   ],
   "source": [
    "float(\"0B1111\")       # ValueError: could not convert string to float: '0B1111'"
   ]
  },
  {
   "cell_type": "code",
   "execution_count": 9,
   "id": "29242a7e-438e-4e6e-a3f6-18b011ad0a98",
   "metadata": {},
   "outputs": [
    {
     "ename": "ValueError",
     "evalue": "could not convert string to float: '0XFace'",
     "output_type": "error",
     "traceback": [
      "\u001b[1;31m---------------------------------------------------------------------------\u001b[0m",
      "\u001b[1;31mValueError\u001b[0m                                Traceback (most recent call last)",
      "Cell \u001b[1;32mIn[9], line 1\u001b[0m\n\u001b[1;32m----> 1\u001b[0m \u001b[38;5;28;43mfloat\u001b[39;49m\u001b[43m(\u001b[49m\u001b[38;5;124;43m\"\u001b[39;49m\u001b[38;5;124;43m0XFace\u001b[39;49m\u001b[38;5;124;43m\"\u001b[39;49m\u001b[43m)\u001b[49m       \u001b[38;5;66;03m# ValueError: could not convert string to float: '0XFace'\u001b[39;00m\n",
      "\u001b[1;31mValueError\u001b[0m: could not convert string to float: '0XFace'"
     ]
    }
   ],
   "source": [
    "float(\"0XFace\")       # ValueError: could not convert string to float: '0XFace'"
   ]
  },
  {
   "cell_type": "markdown",
   "id": "5fbf2183-d299-4ba0-b947-6384b2f52ccb",
   "metadata": {},
   "source": [
    "> ***NOTE***\n",
    "\n",
    "> We can convert any type value to float type except complex type .\n",
    "\n",
    "> If we want to convert str type to int type, compulsary ***str should contain only integral or float value*** and should be specified in ***base-10*** only."
   ]
  },
  {
   "cell_type": "code",
   "execution_count": null,
   "id": "38357cb4-2173-428c-a296-91f0ce6219a6",
   "metadata": {},
   "outputs": [],
   "source": []
  }
 ],
 "metadata": {
  "kernelspec": {
   "display_name": "Python 3 (ipykernel)",
   "language": "python",
   "name": "python3"
  },
  "language_info": {
   "codemirror_mode": {
    "name": "ipython",
    "version": 3
   },
   "file_extension": ".py",
   "mimetype": "text/x-python",
   "name": "python",
   "nbconvert_exporter": "python",
   "pygments_lexer": "ipython3",
   "version": "3.12.5"
  }
 },
 "nbformat": 4,
 "nbformat_minor": 5
}
