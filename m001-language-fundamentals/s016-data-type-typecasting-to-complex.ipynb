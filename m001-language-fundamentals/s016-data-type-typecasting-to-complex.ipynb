{
 "cells": [
  {
   "attachments": {
    "b3035d1b-22b3-4aea-ad5b-ef2a55511a86.png": {
     "image/png": "[encoded data removed]"
    }
   },
   "cell_type": "markdown",
   "id": "cc029f63-029b-4957-bd6f-afd7d1054b2e",
   "metadata": {},
   "source": [
    "A complex number is of the form ***“a + bj“***, where **‘a'** and **'b’** contain integers or floating point values and **j** represent the imaginary number.\n",
    "\n",
    "We can use either **‘j'** or **'J’**.\n",
    "\n",
    "![image.png](attachment:b3035d1b-22b3-4aea-ad5b-ef2a55511a86.png)\n"
   ]
  },
  {
   "cell_type": "markdown",
   "id": "f9ea0032-0b81-43f7-aa3f-bbf1135b3fe3",
   "metadata": {},
   "source": [
    "> Note that it is mandatory to use **‘j'** to represent the imaginary part. If we use any other character instead of **‘j’**, we’ll get a **compile-time error**."
   ]
  },
  {
   "cell_type": "markdown",
   "id": "474814cb-5b6e-45e2-a73e-ac69eaf05f19",
   "metadata": {},
   "source": [
    "We can use the **complex()** function to convert values from **other types to complex types**.\n",
    "\n",
    "There are two forms of **complex()** functions:\n",
    "\n",
    "**complex(x) → x + 0 j**\n",
    "\n",
    "This function converts the **x** argument into a complex number with real part **x** and imaginary part **0**. \n",
    "\n",
    "**complex(x, y) → x + y j**\n",
    "\n",
    "This function converts the **x** and **y** arguments into a complex number such that **x** will be the real part and **y** will be the imaginary part."
   ]
  },
  {
   "cell_type": "markdown",
   "id": "cd110058-2c4a-4f26-8965-a32b8071482a",
   "metadata": {},
   "source": [
    "# Form 1: complex(x) → x + 0 j"
   ]
  },
  {
   "cell_type": "markdown",
   "id": "6decf407-08d0-4945-a72f-6ed40752e766",
   "metadata": {},
   "source": [
    "This function converts the x argument into a complex number with **real part x** and **imaginary part 0**. "
   ]
  },
  {
   "cell_type": "markdown",
   "id": "e4f3e813-67f6-4229-b8e7-b265006bb3cc",
   "metadata": {},
   "source": [
    "### int → complex"
   ]
  },
  {
   "cell_type": "code",
   "execution_count": 2,
   "id": "8ed5befd-7c29-4171-9da2-8364b21d5ea3",
   "metadata": {},
   "outputs": [
    {
     "name": "stdout",
     "output_type": "stream",
     "text": [
      "(10+0j)\n",
      "(15+0j)\n"
     ]
    }
   ],
   "source": [
    "print(complex(10))         # 10 + 0j\n",
    "print(complex(0B1111))     # 15 + 0j"
   ]
  },
  {
   "cell_type": "markdown",
   "id": "e1b29b28-243f-4d0a-85f9-de4158b93175",
   "metadata": {},
   "source": [
    "### float → complex"
   ]
  },
  {
   "cell_type": "code",
   "execution_count": 3,
   "id": "d8f930ce-8d69-4c81-b3ad-681bdac893f2",
   "metadata": {},
   "outputs": [
    {
     "name": "stdout",
     "output_type": "stream",
     "text": [
      "(10.5+0j)\n"
     ]
    }
   ],
   "source": [
    "print(complex(10.5))       # 10.5 + 0j"
   ]
  },
  {
   "cell_type": "markdown",
   "id": "c3fc7305-e15f-4fe6-8a7d-2d9db8624186",
   "metadata": {},
   "source": [
    "### bool → complex"
   ]
  },
  {
   "cell_type": "markdown",
   "id": "2fd5f132-8b9b-44c7-b4b1-2f55fe451057",
   "metadata": {},
   "source": [
    "Boolean type is internally treated as int. That is, **True=1** & **False=0**."
   ]
  },
  {
   "cell_type": "code",
   "execution_count": 4,
   "id": "1d2d16fc-465c-425e-af00-34297aad2d96",
   "metadata": {},
   "outputs": [
    {
     "name": "stdout",
     "output_type": "stream",
     "text": [
      "(1+0j)\n",
      "0j\n"
     ]
    }
   ],
   "source": [
    "print(complex(True))         # 1 + 0j\n",
    "print(complex(False))        # 0j      ( 0 + 0j )"
   ]
  },
  {
   "cell_type": "markdown",
   "id": "a478e6b1-1e42-4927-9f86-376a478e3f0e",
   "metadata": {},
   "source": [
    "### str → complex"
   ]
  },
  {
   "cell_type": "markdown",
   "id": "2242a5df-c179-4f60-9e55-830070a56b07",
   "metadata": {},
   "source": [
    "Compulsory the str value should be an **integral** or **float** value and should be specified in **base-10 format**.  Other format such as base-2, base-8 & base-16 form is **not allowed**."
   ]
  },
  {
   "cell_type": "code",
   "execution_count": 6,
   "id": "e282c3ea-4462-4c6e-a213-1e698b43a540",
   "metadata": {},
   "outputs": [
    {
     "name": "stdout",
     "output_type": "stream",
     "text": [
      "(10+0j)\n",
      "(10.5+0j)\n"
     ]
    }
   ],
   "source": [
    "print(complex(\"10\"))           # 10 + 0j\n",
    "print(complex(\"10.5\"))         # 10.5 + 0j"
   ]
  },
  {
   "cell_type": "code",
   "execution_count": 7,
   "id": "bb3ea104-9455-4df3-8fb2-ee7d9ab05c4d",
   "metadata": {},
   "outputs": [
    {
     "ename": "ValueError",
     "evalue": "complex() arg is a malformed string",
     "output_type": "error",
     "traceback": [
      "\u001b[1;31m---------------------------------------------------------------------------\u001b[0m",
      "\u001b[1;31mValueError\u001b[0m                                Traceback (most recent call last)",
      "Cell \u001b[1;32mIn[7], line 1\u001b[0m\n\u001b[1;32m----> 1\u001b[0m \u001b[38;5;28;43mcomplex\u001b[39;49m\u001b[43m(\u001b[49m\u001b[38;5;124;43m\"\u001b[39;49m\u001b[38;5;124;43mten\u001b[39;49m\u001b[38;5;124;43m\"\u001b[39;49m\u001b[43m)\u001b[49m          \u001b[38;5;66;03m# ValueError: complex() arg is a malformed string\u001b[39;00m\n",
      "\u001b[1;31mValueError\u001b[0m: complex() arg is a malformed string"
     ]
    }
   ],
   "source": [
    "complex(\"ten\")          # ValueError: complex() arg is a malformed string"
   ]
  },
  {
   "cell_type": "code",
   "execution_count": 8,
   "id": "fbaf4400-04f3-4fdf-8b3f-69e78e52197c",
   "metadata": {},
   "outputs": [
    {
     "ename": "ValueError",
     "evalue": "complex() arg is a malformed string",
     "output_type": "error",
     "traceback": [
      "\u001b[1;31m---------------------------------------------------------------------------\u001b[0m",
      "\u001b[1;31mValueError\u001b[0m                                Traceback (most recent call last)",
      "Cell \u001b[1;32mIn[8], line 1\u001b[0m\n\u001b[1;32m----> 1\u001b[0m \u001b[38;5;28;43mcomplex\u001b[39;49m\u001b[43m(\u001b[49m\u001b[38;5;124;43m\"\u001b[39;49m\u001b[38;5;124;43m0B1111\u001b[39;49m\u001b[38;5;124;43m\"\u001b[39;49m\u001b[43m)\u001b[49m       \u001b[38;5;66;03m# ValueError: complex() arg is a malformed string\u001b[39;00m\n",
      "\u001b[1;31mValueError\u001b[0m: complex() arg is a malformed string"
     ]
    }
   ],
   "source": [
    "complex(\"0B1111\")       # ValueError: complex() arg is a malformed string"
   ]
  },
  {
   "cell_type": "code",
   "execution_count": 9,
   "id": "70fc10d7-ea59-4de8-a969-a89ca08dd76b",
   "metadata": {},
   "outputs": [
    {
     "ename": "ValueError",
     "evalue": "complex() arg is a malformed string",
     "output_type": "error",
     "traceback": [
      "\u001b[1;31m---------------------------------------------------------------------------\u001b[0m",
      "\u001b[1;31mValueError\u001b[0m                                Traceback (most recent call last)",
      "Cell \u001b[1;32mIn[9], line 1\u001b[0m\n\u001b[1;32m----> 1\u001b[0m \u001b[38;5;28;43mcomplex\u001b[39;49m\u001b[43m(\u001b[49m\u001b[38;5;124;43m\"\u001b[39;49m\u001b[38;5;124;43m0XFace\u001b[39;49m\u001b[38;5;124;43m\"\u001b[39;49m\u001b[43m)\u001b[49m       \u001b[38;5;66;03m# ValueError: complex() arg is a malformed string\u001b[39;00m\n",
      "\u001b[1;31mValueError\u001b[0m: complex() arg is a malformed string"
     ]
    }
   ],
   "source": [
    "complex(\"0XFace\")       # ValueError: complex() arg is a malformed string"
   ]
  },
  {
   "cell_type": "markdown",
   "id": "7b8b29d4-f528-42e9-9e45-d33aa0a67a5c",
   "metadata": {},
   "source": [
    "# Form 2: complex(x, y) → x + y j"
   ]
  },
  {
   "cell_type": "markdown",
   "id": "b659e0e7-c511-4bea-a598-ac2ed865241a",
   "metadata": {},
   "source": [
    "This function converts the **x** and **y** arguments into a complex number such that **x will be the real part and y will be the imaginary part**."
   ]
  },
  {
   "cell_type": "markdown",
   "id": "7e3e1b18-5caa-4930-ab8b-6ae3d8870554",
   "metadata": {},
   "source": [
    "### int → complex"
   ]
  },
  {
   "cell_type": "code",
   "execution_count": 10,
   "id": "28d3f93d-5c9a-45b0-a52f-c68cb6ffafad",
   "metadata": {},
   "outputs": [
    {
     "name": "stdout",
     "output_type": "stream",
     "text": [
      "(10-20j)\n",
      "(15+20j)\n"
     ]
    }
   ],
   "source": [
    "print(complex(10, -20))         # 10 - 20j\n",
    "print(complex(0B1111, 20))      # 15 + 20j"
   ]
  },
  {
   "cell_type": "markdown",
   "id": "01dc321e-a0c3-425a-b921-35d40b0721e2",
   "metadata": {},
   "source": [
    "### float → complex"
   ]
  },
  {
   "cell_type": "code",
   "execution_count": 11,
   "id": "df86cb94-8cd0-4339-829f-8232a5bef17f",
   "metadata": {},
   "outputs": [
    {
     "data": {
      "text/plain": [
       "(10.5+20.6j)"
      ]
     },
     "execution_count": 11,
     "metadata": {},
     "output_type": "execute_result"
    }
   ],
   "source": [
    "complex(10.5, 20.6)       # 10.5 + 20.6j"
   ]
  },
  {
   "cell_type": "markdown",
   "id": "e44a360a-d722-4822-a729-2724d2a16231",
   "metadata": {},
   "source": [
    "### bool → complex"
   ]
  },
  {
   "cell_type": "markdown",
   "id": "d0e8da1c-cffd-417e-ae68-837322eac64c",
   "metadata": {},
   "source": [
    "Boolean type is internally treated as int. That is, **True=1** & **False=0**."
   ]
  },
  {
   "cell_type": "code",
   "execution_count": 12,
   "id": "f4412c2d-28de-4d50-91d7-99ba7ea64ed6",
   "metadata": {},
   "outputs": [
    {
     "name": "stdout",
     "output_type": "stream",
     "text": [
      "(1+1j)\n",
      "0j\n"
     ]
    }
   ],
   "source": [
    "print(complex(True, True))          # 1 + 1j\n",
    "print(complex(False, False))        # 0j      ( 0 + 0j )"
   ]
  },
  {
   "cell_type": "markdown",
   "id": "90da8584-2eb4-4918-9f48-e809fe158ea0",
   "metadata": {},
   "source": [
    "### str → complex"
   ]
  },
  {
   "cell_type": "markdown",
   "id": "ccd93b87-1dde-4876-a561-3358f78e53c8",
   "metadata": {},
   "source": [
    "Compulsory the str value should be an **integral** or **float** value and should be specified in **base-10 format**. \n",
    "\n",
    "Other format such as base-2, base-8 & base-16 form is **not allowed**."
   ]
  },
  {
   "cell_type": "code",
   "execution_count": 15,
   "id": "d5c1b796-d790-4ac5-9b81-c6d75a862845",
   "metadata": {},
   "outputs": [
    {
     "name": "stdout",
     "output_type": "stream",
     "text": [
      "(10+0j)\n",
      "(10.5+0j)\n"
     ]
    }
   ],
   "source": [
    "print(complex(\"10\"))           # 10 + 0j\n",
    "print(complex(\"10.5\"))         # 10.5 + 0j"
   ]
  },
  {
   "cell_type": "code",
   "execution_count": 16,
   "id": "97b553ac-a53d-457e-819f-d144fe4bf0cf",
   "metadata": {},
   "outputs": [
    {
     "ename": "ValueError",
     "evalue": "complex() arg is a malformed string",
     "output_type": "error",
     "traceback": [
      "\u001b[1;31m---------------------------------------------------------------------------\u001b[0m",
      "\u001b[1;31mValueError\u001b[0m                                Traceback (most recent call last)",
      "Cell \u001b[1;32mIn[16], line 1\u001b[0m\n\u001b[1;32m----> 1\u001b[0m \u001b[38;5;28;43mcomplex\u001b[39;49m\u001b[43m(\u001b[49m\u001b[38;5;124;43m\"\u001b[39;49m\u001b[38;5;124;43mten\u001b[39;49m\u001b[38;5;124;43m\"\u001b[39;49m\u001b[43m)\u001b[49m          \u001b[38;5;66;03m# ValueError: complex() arg is a malformed string\u001b[39;00m\n",
      "\u001b[1;31mValueError\u001b[0m: complex() arg is a malformed string"
     ]
    }
   ],
   "source": [
    "complex(\"ten\")          # ValueError: complex() arg is a malformed string"
   ]
  },
  {
   "cell_type": "code",
   "execution_count": 17,
   "id": "1424fd04-c6e4-43fb-9026-67f8229a935d",
   "metadata": {},
   "outputs": [
    {
     "ename": "ValueError",
     "evalue": "complex() arg is a malformed string",
     "output_type": "error",
     "traceback": [
      "\u001b[1;31m---------------------------------------------------------------------------\u001b[0m",
      "\u001b[1;31mValueError\u001b[0m                                Traceback (most recent call last)",
      "Cell \u001b[1;32mIn[17], line 1\u001b[0m\n\u001b[1;32m----> 1\u001b[0m \u001b[38;5;28;43mcomplex\u001b[39;49m\u001b[43m(\u001b[49m\u001b[38;5;124;43m\"\u001b[39;49m\u001b[38;5;124;43m0B1111\u001b[39;49m\u001b[38;5;124;43m\"\u001b[39;49m\u001b[43m)\u001b[49m       \u001b[38;5;66;03m# ValueError: complex() arg is a malformed string\u001b[39;00m\n",
      "\u001b[1;31mValueError\u001b[0m: complex() arg is a malformed string"
     ]
    }
   ],
   "source": [
    "complex(\"0B1111\")       # ValueError: complex() arg is a malformed string"
   ]
  },
  {
   "cell_type": "code",
   "execution_count": 18,
   "id": "4cba2209-5869-4c27-abfa-dcc4bf90a648",
   "metadata": {},
   "outputs": [
    {
     "ename": "ValueError",
     "evalue": "complex() arg is a malformed string",
     "output_type": "error",
     "traceback": [
      "\u001b[1;31m---------------------------------------------------------------------------\u001b[0m",
      "\u001b[1;31mValueError\u001b[0m                                Traceback (most recent call last)",
      "Cell \u001b[1;32mIn[18], line 1\u001b[0m\n\u001b[1;32m----> 1\u001b[0m \u001b[38;5;28;43mcomplex\u001b[39;49m\u001b[43m(\u001b[49m\u001b[38;5;124;43m\"\u001b[39;49m\u001b[38;5;124;43m0XFace\u001b[39;49m\u001b[38;5;124;43m\"\u001b[39;49m\u001b[43m)\u001b[49m       \u001b[38;5;66;03m# ValueError: complex() arg is a malformed string\u001b[39;00m\n",
      "\u001b[1;31mValueError\u001b[0m: complex() arg is a malformed string"
     ]
    }
   ],
   "source": [
    "complex(\"0XFace\")       # ValueError: complex() arg is a malformed string"
   ]
  },
  {
   "cell_type": "markdown",
   "id": "6e33fe9a-39f9-4383-80b1-5b7bedc3679e",
   "metadata": {},
   "source": [
    "**RULE 1**: If **first** argument is of **str** type then **passing second argument is not allowed**."
   ]
  },
  {
   "cell_type": "code",
   "execution_count": 19,
   "id": "818339bb-8af0-40a2-bc61-afc9aa622086",
   "metadata": {},
   "outputs": [
    {
     "ename": "TypeError",
     "evalue": "complex() can't take second arg if first is a string",
     "output_type": "error",
     "traceback": [
      "\u001b[1;31m---------------------------------------------------------------------------\u001b[0m",
      "\u001b[1;31mTypeError\u001b[0m                                 Traceback (most recent call last)",
      "Cell \u001b[1;32mIn[19], line 1\u001b[0m\n\u001b[1;32m----> 1\u001b[0m \u001b[38;5;28mprint\u001b[39m(\u001b[38;5;28;43mcomplex\u001b[39;49m\u001b[43m(\u001b[49m\u001b[38;5;124;43m\"\u001b[39;49m\u001b[38;5;124;43m10\u001b[39;49m\u001b[38;5;124;43m\"\u001b[39;49m\u001b[43m,\u001b[49m\u001b[43m \u001b[49m\u001b[38;5;124;43m\"\u001b[39;49m\u001b[38;5;124;43m20\u001b[39;49m\u001b[38;5;124;43m\"\u001b[39;49m\u001b[43m)\u001b[49m)   \u001b[38;5;66;03m# TypeError: complex() can't take second arg as string if first is a string\u001b[39;00m\n",
      "\u001b[1;31mTypeError\u001b[0m: complex() can't take second arg if first is a string"
     ]
    }
   ],
   "source": [
    "print(complex(\"10\", \"20\"))   # TypeError: complex() can't take second arg as string if first is a string"
   ]
  },
  {
   "cell_type": "markdown",
   "id": "1e6231be-6de4-4aea-8221-468417390885",
   "metadata": {},
   "source": [
    "**RULE 2**: The **second** argument of **complex(x,y)** function **cannot be a string**."
   ]
  },
  {
   "cell_type": "code",
   "execution_count": 20,
   "id": "ad4bd0bc-1903-4fed-b006-ae1ca51fd4a6",
   "metadata": {},
   "outputs": [
    {
     "ename": "TypeError",
     "evalue": "complex() second arg can't be a string",
     "output_type": "error",
     "traceback": [
      "\u001b[1;31m---------------------------------------------------------------------------\u001b[0m",
      "\u001b[1;31mTypeError\u001b[0m                                 Traceback (most recent call last)",
      "Cell \u001b[1;32mIn[20], line 1\u001b[0m\n\u001b[1;32m----> 1\u001b[0m \u001b[38;5;28mprint\u001b[39m(\u001b[38;5;28;43mcomplex\u001b[39;49m\u001b[43m(\u001b[49m\u001b[38;5;241;43m10\u001b[39;49m\u001b[43m,\u001b[49m\u001b[43m \u001b[49m\u001b[38;5;124;43m\"\u001b[39;49m\u001b[38;5;124;43m20\u001b[39;49m\u001b[38;5;124;43m\"\u001b[39;49m\u001b[43m)\u001b[49m) \u001b[38;5;66;03m# TypeError: complex() second arg can't be a string\u001b[39;00m\n",
      "\u001b[1;31mTypeError\u001b[0m: complex() second arg can't be a string"
     ]
    }
   ],
   "source": [
    "print(complex(10, \"20\")) # TypeError: complex() second arg can't be a string"
   ]
  },
  {
   "cell_type": "code",
   "execution_count": null,
   "id": "6124f526-5e8f-491a-b1dd-4e47d6dc347d",
   "metadata": {},
   "outputs": [],
   "source": []
  }
 ],
 "metadata": {
  "kernelspec": {
   "display_name": "Python 3 (ipykernel)",
   "language": "python",
   "name": "python3"
  },
  "language_info": {
   "codemirror_mode": {
    "name": "ipython",
    "version": 3
   },
   "file_extension": ".py",
   "mimetype": "text/x-python",
   "name": "python",
   "nbconvert_exporter": "python",
   "pygments_lexer": "ipython3",
   "version": "3.12.5"
  }
 },
 "nbformat": 4,
 "nbformat_minor": 5
}
