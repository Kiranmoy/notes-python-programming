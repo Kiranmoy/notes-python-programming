{
 "cells": [
  {
   "cell_type": "markdown",
   "id": "af1ce75b-e144-4848-8fb1-c7fd2722c84b",
   "metadata": {},
   "source": [
    "**Mutable** → Changeable\n",
    "\n",
    "**Immutable** → Non-Changelable"
   ]
  },
  {
   "cell_type": "markdown",
   "id": "206a3bbd-70fd-460a-bc6d-3b160968e16e",
   "metadata": {},
   "source": [
    "# Immutability"
   ]
  },
  {
   "cell_type": "markdown",
   "id": "057e76e9-9c94-4e1a-b743-1a301e651402",
   "metadata": {},
   "source": [
    "All **Fundamental Data types** are **immutable**.\n",
    "\n",
    "That is **once we create an object, we cannot perform any changes in that object**.  \n",
    "\n",
    "If we are trying to change then with those changes a new object will be created. \n",
    "\n",
    "This non-changeable behavior is called **immutability**. "
   ]
  },
  {
   "attachments": {
    "9cd8feba-9ce2-4851-bbc6-f37376ac1f09.png": {
     "image/png": "[encoded data removed]"
    }
   },
   "cell_type": "markdown",
   "id": "29f576b4-6a1e-4527-bc46-8b4601a8d273",
   "metadata": {},
   "source": [
    "![image.png](attachment:9cd8feba-9ce2-4851-bbc6-f37376ac1f09.png)"
   ]
  },
  {
   "cell_type": "markdown",
   "id": "10a20f77-bee3-45ab-8386-cf71b8a22d32",
   "metadata": {},
   "source": [
    "**PROOF**"
   ]
  },
  {
   "cell_type": "code",
   "execution_count": 6,
   "id": "317924f5-27fe-41cc-86e6-c8181a8a2d2a",
   "metadata": {},
   "outputs": [
    {
     "name": "stdout",
     "output_type": "stream",
     "text": [
      "140707587001048\n",
      "140707587001080\n",
      "140707587001112\n",
      "False\n"
     ]
    }
   ],
   "source": [
    "x = 10\n",
    "print(id(x))    # 10742824 \n",
    "\n",
    "x = x + 1       # when we're trying to modify the existing object, a new object gets created.\n",
    "print(id(x))    # 10742856 (address of new object)\n",
    "\n",
    "y = x + 1\n",
    "print(id(y))\n",
    "\n",
    "print(x is y) # False"
   ]
  },
  {
   "cell_type": "markdown",
   "id": "f6289e0c-a64a-4cfa-ab99-6d7117278648",
   "metadata": {},
   "source": [
    "# Need of Immutability"
   ]
  },
  {
   "cell_type": "markdown",
   "id": "e920e45c-bb45-4aeb-a5d9-b0b38eb5d6cd",
   "metadata": {},
   "source": [
    "**PVM** - Python Virtual Machine\n",
    "\n",
    "PVM is responsible for creating a new object.\n",
    "\n",
    "In Python, if a new object is required, then PVM won’t create an object immediately. \n",
    "\n",
    "First, it will check if any object is available with the required content or not. \n",
    "\n",
    "* If available then the existing object will be reused. \n",
    "* If it is not available then only a new object will be created. \n",
    "* The advantage of this approach is ***better memory utilization*** and ***performance will be improved***. "
   ]
  },
  {
   "cell_type": "markdown",
   "id": "b896b15e-e7f7-4a00-8658-1a13b65a0f4b",
   "metadata": {},
   "source": [
    "**PROOF**"
   ]
  },
  {
   "cell_type": "code",
   "execution_count": 7,
   "id": "e9c3dc93-567c-47d0-bb62-5608511cb4f0",
   "metadata": {},
   "outputs": [
    {
     "name": "stdout",
     "output_type": "stream",
     "text": [
      "140707587001048\n",
      "140707587001048\n",
      "140707587001048\n",
      "True\n",
      "True\n",
      "True\n"
     ]
    }
   ],
   "source": [
    "x = 10\n",
    "y = 10\n",
    "z = 10\n",
    "\n",
    "# x, y, z all pointing to same object. \n",
    "# Since the value is same, PVM will resuse the same object instead of creating multiple copies of same object.\n",
    "\n",
    "print(id(x))    # 10742824 \n",
    "print(id(y))    # 10742824\n",
    "print(id(z))    # 10742824\n",
    "\n",
    "# OR\n",
    "\n",
    "print(x is y) # True\n",
    "print(y is z) # True\n",
    "print(z is x) # True"
   ]
  },
  {
   "cell_type": "markdown",
   "id": "b51e2e01-9bc0-468a-93f3-e937675beb17",
   "metadata": {},
   "source": [
    "**PROBLEM**\n",
    "\n",
    "But the problem in this approach is that ***several references point to the same object***, by using one reference if we are allowed to change the content in the existing object then the remaining references will be affected. \n",
    "\n",
    "**SOLUTION**\n",
    "\n",
    "To prevent this **immutability** concept is required. \n",
    "\n",
    "According to this once creates an object we are not allowed to change the content. \n",
    "\n",
    "If we are trying to change with those changes a new object will be created."
   ]
  },
  {
   "cell_type": "markdown",
   "id": "ac4e68ff-2176-4240-a841-720a6142cd02",
   "metadata": {},
   "source": [
    "> ***Important note***\n",
    "\n",
    "> Although all fundamental data types are ***immutable***, ***object reusability** concept is applicable only for ***int-float-bool-str*** type, but not for ***complex*** type."
   ]
  },
  {
   "cell_type": "code",
   "execution_count": 8,
   "id": "1f71f974-635e-4b4c-b396-2627bec93e79",
   "metadata": {},
   "outputs": [
    {
     "name": "stdout",
     "output_type": "stream",
     "text": [
      "True\n",
      "False\n",
      "True\n",
      "True\n",
      "False\n"
     ]
    }
   ],
   "source": [
    "# int type\n",
    "a = 10\n",
    "b = 10\n",
    "print (a is b)    # True\n",
    "\n",
    "# float type\n",
    "a = 10.5\n",
    "b = 10.5\n",
    "print (a is b)    # True\n",
    "\n",
    "# bool type\n",
    "a = True\n",
    "b = True\n",
    "print (a is b)    # True\n",
    "\n",
    "# str type\n",
    "a = \"KIRAN\"\n",
    "b = \"KIRAN\"\n",
    "print (a is b)    # True\n",
    "\n",
    "# complex type -------- Object reusablity not applicable\n",
    "a = 10 + 20j\n",
    "b = 10 + 20j\n",
    "print (a is b)    # False\n"
   ]
  },
  {
   "cell_type": "markdown",
   "id": "b778a688-a93b-4adf-96b8-02bf8637de40",
   "metadata": {},
   "source": [
    "# Mutability Example"
   ]
  },
  {
   "cell_type": "markdown",
   "id": "298081ed-dfe8-4d78-b9d5-68e51916b3f8",
   "metadata": {},
   "source": [
    "Once an object is created, we can modify the same object. This changeable behavior is called **Mutability**.\n",
    "\n",
    "For example, a list is a **mutable** data type that is used for storing a collection of objects.\n",
    "\n",
    "Whenever we modify an existing list object, the same list object gets updated, instead of creating a new list."
   ]
  },
  {
   "cell_type": "code",
   "execution_count": 9,
   "id": "80d2b11f-4fbc-4cdd-933b-d9f01b20125c",
   "metadata": {},
   "outputs": [
    {
     "name": "stdout",
     "output_type": "stream",
     "text": [
      "2091975840320\n",
      "2091975840320\n",
      "[999, 20, 30]\n"
     ]
    }
   ],
   "source": [
    "l = [10, 20, 30]\n",
    "print(id(l))  # 10742824\n",
    "\n",
    "l[0] = 999\n",
    "print(id(l))  # 10742824\n",
    "\n",
    "print(l)      # [999, 20, 30]"
   ]
  },
  {
   "cell_type": "markdown",
   "id": "2a26296e-d763-4dac-8f6e-37c7b11861f5",
   "metadata": {},
   "source": [
    "***When a mutable object is referenced by multiple variables if the object is modified by any variable then that change will be reflected for other variables also.***"
   ]
  },
  {
   "cell_type": "code",
   "execution_count": 10,
   "id": "456d2eb3-315e-4087-beb4-6172eb642634",
   "metadata": {},
   "outputs": [
    {
     "name": "stdout",
     "output_type": "stream",
     "text": [
      "[10, 20, 30]\n",
      "[10, 20, 30]\n",
      "[999, 20, 30]\n",
      "[999, 20, 30]\n"
     ]
    }
   ],
   "source": [
    "a = [10, 20, 30]\n",
    "b = a\n",
    "\n",
    "print(a)    # [10, 20, 30]\n",
    "print(b)    # [10, 20, 30]\n",
    "\n",
    "b[0] = 999\n",
    "\n",
    "print(a)    # [999, 20, 30]\n",
    "print(b)    # [999, 20, 30]"
   ]
  },
  {
   "cell_type": "code",
   "execution_count": null,
   "id": "4dffddf0-ce62-46ff-82ef-74794925317b",
   "metadata": {},
   "outputs": [],
   "source": []
  }
 ],
 "metadata": {
  "kernelspec": {
   "display_name": "Python 3 (ipykernel)",
   "language": "python",
   "name": "python3"
  },
  "language_info": {
   "codemirror_mode": {
    "name": "ipython",
    "version": 3
   },
   "file_extension": ".py",
   "mimetype": "text/x-python",
   "name": "python",
   "nbconvert_exporter": "python",
   "pygments_lexer": "ipython3",
   "version": "3.12.5"
  }
 },
 "nbformat": 4,
 "nbformat_minor": 5
}
