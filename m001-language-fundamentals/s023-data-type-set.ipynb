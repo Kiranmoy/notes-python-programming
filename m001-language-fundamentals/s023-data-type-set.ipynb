{
 "cells": [
  {
   "cell_type": "markdown",
   "id": "8a1eefcb-ace1-43b2-8168-7b85e3786670",
   "metadata": {},
   "source": [
    "If we want to represent a group of values **without duplicates** where the **order is not important** then we should go for a **set** data type."
   ]
  },
  {
   "cell_type": "markdown",
   "id": "7b67d5fe-f6b0-414b-a53e-bf369555be4b",
   "metadata": {},
   "source": [
    "# Set properties"
   ]
  },
  {
   "cell_type": "markdown",
   "id": "a2e0321a-e810-4241-841c-712469f4e214",
   "metadata": {},
   "source": [
    "* Insertion order is not preserved. \\[ Hence ***Indexing & slicing*** concept is not applicable \\]\n",
    "* Duplicates are not allowed.\n",
    "* Heterogeneous objects are allowed\n",
    "* ***Growable*** in nature \\[ **i.e.** based on our requirement we can increase or decrease the size \\]\n",
    "* ***Mutable*** in nature \\[ **i.e.** once we created a list, we can modify the existing list object \\]\n",
    "* Values should be enclosed within curly braces **{ }**."
   ]
  },
  {
   "cell_type": "code",
   "execution_count": 1,
   "id": "63487d2a-7116-4a88-b856-7b89fe36269b",
   "metadata": {},
   "outputs": [
    {
     "name": "stdout",
     "output_type": "stream",
     "text": [
      "<class 'set'>\n",
      "{True, 10, 10.5, 'durga'}\n"
     ]
    }
   ],
   "source": [
    "# Duplicates are not allowed\n",
    "# Insertion order not preserved\n",
    "# Heterogenoues objects allowed\n",
    "\n",
    "s = { 10, 10.5, 'durga', True, 10 }\n",
    "\n",
    "print(type(s))                     # <class 'set'>\n",
    "print(s)                           # { True, 10.5, 10,'durga' }"
   ]
  },
  {
   "cell_type": "markdown",
   "id": "cdd51d71-1cf1-4431-b775-9e0b31a86582",
   "metadata": {},
   "source": [
    "**Since insertion order is not preserved.**"
   ]
  },
  {
   "cell_type": "code",
   "execution_count": 2,
   "id": "82e132cf-f517-4c5b-b6da-81d836e2caf1",
   "metadata": {},
   "outputs": [
    {
     "ename": "TypeError",
     "evalue": "'set' object is not subscriptable",
     "output_type": "error",
     "traceback": [
      "\u001b[1;31m---------------------------------------------------------------------------\u001b[0m",
      "\u001b[1;31mTypeError\u001b[0m                                 Traceback (most recent call last)",
      "Cell \u001b[1;32mIn[2], line 1\u001b[0m\n\u001b[1;32m----> 1\u001b[0m \u001b[38;5;28mprint\u001b[39m(\u001b[43ms\u001b[49m\u001b[43m[\u001b[49m\u001b[38;5;241;43m0\u001b[39;49m\u001b[43m]\u001b[49m)       \u001b[38;5;66;03m# TypeError: 'set' object does not support indexing\u001b[39;00m\n",
      "\u001b[1;31mTypeError\u001b[0m: 'set' object is not subscriptable"
     ]
    }
   ],
   "source": [
    "print(s[0])       # TypeError: 'set' object does not support indexing"
   ]
  },
  {
   "cell_type": "markdown",
   "id": "65e6dacc-ae99-4377-a49d-0a05aee8c35d",
   "metadata": {},
   "source": [
    "**Indexing & Slicing is not applicable.**"
   ]
  },
  {
   "cell_type": "code",
   "execution_count": 3,
   "id": "38ef2f62-51de-4a7a-9ebe-3ec98d449b09",
   "metadata": {},
   "outputs": [
    {
     "ename": "TypeError",
     "evalue": "'set' object is not subscriptable",
     "output_type": "error",
     "traceback": [
      "\u001b[1;31m---------------------------------------------------------------------------\u001b[0m",
      "\u001b[1;31mTypeError\u001b[0m                                 Traceback (most recent call last)",
      "Cell \u001b[1;32mIn[3], line 1\u001b[0m\n\u001b[1;32m----> 1\u001b[0m \u001b[38;5;28mprint\u001b[39m(\u001b[43ms\u001b[49m\u001b[43m[\u001b[49m\u001b[43m \u001b[49m\u001b[38;5;241;43m1\u001b[39;49m\u001b[43m:\u001b[49m\u001b[38;5;241;43m3\u001b[39;49m\u001b[43m \u001b[49m\u001b[43m]\u001b[49m)   \u001b[38;5;66;03m# TypeError: 'set' object is not subscriptable\u001b[39;00m\n",
      "\u001b[1;31mTypeError\u001b[0m: 'set' object is not subscriptable"
     ]
    }
   ],
   "source": [
    "print(s[ 1:3 ])   # TypeError: 'set' object is not subscriptable"
   ]
  },
  {
   "cell_type": "markdown",
   "id": "c715e0b4-b2b8-4748-833a-f9fc97272adf",
   "metadata": {},
   "source": [
    "> ***NOTE**: By default { } is treated as empty dictionary, **not empty set**.*"
   ]
  },
  {
   "cell_type": "markdown",
   "id": "78909cfa-5f63-48b8-ae87-8d0d3b2922cd",
   "metadata": {},
   "source": [
    "**How to create an empty set?**"
   ]
  },
  {
   "cell_type": "code",
   "execution_count": 4,
   "id": "56052a5e-31d5-453a-85c9-dc4a702acc2b",
   "metadata": {},
   "outputs": [
    {
     "name": "stdout",
     "output_type": "stream",
     "text": [
      "<class 'set'>\n"
     ]
    }
   ],
   "source": [
    "s = set()         # CREATE EMPTY SET\n",
    "print(type(s))    # <class 'set'>"
   ]
  },
  {
   "cell_type": "markdown",
   "id": "258331e0-7e8d-4630-baa8-5e9cea12c512",
   "metadata": {},
   "source": []
  },
  {
   "cell_type": "markdown",
   "id": "e147f894-8383-4c8e-9a23-e3e9e39146d3",
   "metadata": {},
   "source": [
    "# Growablity & Mutability"
   ]
  },
  {
   "cell_type": "code",
   "execution_count": 5,
   "id": "5f4741cd-9096-444d-9dea-156bcd2c5920",
   "metadata": {},
   "outputs": [
    {
     "name": "stdout",
     "output_type": "stream",
     "text": [
      "<class 'set'>\n",
      "1864002978976\n",
      "set()\n",
      "1864002978976\n",
      "{40, 10, 20, 30}\n",
      "1864002978976\n",
      "{10, 20, 30}\n"
     ]
    }
   ],
   "source": [
    "\n",
    "s= set()           # CREATE EMPTY SET\n",
    "\n",
    "print(type(s))     # <class 'set'>\n",
    "print(id(s))       # 2984325345346\n",
    "print(s)           # {}\n",
    "\n",
    "s.add(10)          # Object Modified\n",
    "s.add(20)          # Object Modified\n",
    "s.add(40)          # Object Modified\n",
    "s.add(30)          # Object Modified\n",
    "\n",
    "print(id(s))       # 2984325345346  (Mutability confirmed)\n",
    "print(s)           # { 20, 30, 10, 40 }\n",
    "\n",
    "s.remove(40)       # Object Modified\n",
    "\n",
    "print(id(s))       # 2984325345346  (Mutability confirmed)\n",
    "print(s)           # { 20, 30, 10 }\n"
   ]
  },
  {
   "cell_type": "markdown",
   "id": "94148f3a-7ab5-4e99-a1fe-d97509d6ff31",
   "metadata": {},
   "source": [
    "To add elements:\n",
    "* The list has an ***append()*** method.\n",
    "* The set has an ***add()*** method."
   ]
  },
  {
   "cell_type": "markdown",
   "id": "70c57653-a449-45b2-83df-97d7cc15e8ce",
   "metadata": {},
   "source": [
    "**Why two methods are there although both are adding elements in the existing collection of elements?**\n",
    "\n",
    "* Since a list is an ordered collection of elements, the ***append()*** method is used to add a new element at the end of the list. \n",
    "* Append means adding at the end.\n",
    "* But a set is an unordered collection of elements, the ***add()*** method is used to add a new element but the position of the new element is not fixed, it can be added at any position."
   ]
  },
  {
   "cell_type": "markdown",
   "id": "e2ae3cad-9825-4feb-8fc2-6c72f4ad88c4",
   "metadata": {},
   "source": [
    "# Iterating set object"
   ]
  },
  {
   "cell_type": "code",
   "execution_count": 6,
   "id": "5f3a70df-0223-4389-b8db-9f649078be1d",
   "metadata": {},
   "outputs": [
    {
     "name": "stdout",
     "output_type": "stream",
     "text": [
      "True\n",
      "10\n",
      "10.5\n",
      "durga\n"
     ]
    }
   ],
   "source": [
    "s = { 10, 10.5, 'durga', True, 10 }\n",
    "for i in s:\n",
    "  print(i)"
   ]
  },
  {
   "cell_type": "markdown",
   "id": "ca8b4ed4-0a42-4992-8777-49f64b990f95",
   "metadata": {},
   "source": [
    "# List vs. Set"
   ]
  },
  {
   "attachments": {
    "00185707-5a45-4b4d-9519-152d930e1d9d.png": {
     "image/png": "[encoded data removed]"
    }
   },
   "cell_type": "markdown",
   "id": "1c5b9df2-a226-4d80-b185-b6388b31fb26",
   "metadata": {},
   "source": [
    "![image.png](attachment:00185707-5a45-4b4d-9519-152d930e1d9d.png)"
   ]
  },
  {
   "cell_type": "code",
   "execution_count": null,
   "id": "a20dc4f0-7d2f-4ced-b82f-963bca6ff651",
   "metadata": {},
   "outputs": [],
   "source": []
  }
 ],
 "metadata": {
  "kernelspec": {
   "display_name": "Python 3 (ipykernel)",
   "language": "python",
   "name": "python3"
  },
  "language_info": {
   "codemirror_mode": {
    "name": "ipython",
    "version": 3
   },
   "file_extension": ".py",
   "mimetype": "text/x-python",
   "name": "python",
   "nbconvert_exporter": "python",
   "pygments_lexer": "ipython3",
   "version": "3.12.5"
  }
 },
 "nbformat": 4,
 "nbformat_minor": 5
}
