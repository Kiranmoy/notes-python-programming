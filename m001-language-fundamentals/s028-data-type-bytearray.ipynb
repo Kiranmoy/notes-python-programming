{
 "cells": [
  {
   "cell_type": "markdown",
   "id": "9c2ab3dd-2206-4296-9a8e-78256b6ff2e8",
   "metadata": {},
   "source": [
    "# Bytearray overview"
   ]
  },
  {
   "cell_type": "markdown",
   "id": "6c48ef02-e7c2-48d0-b755-4153eec259e5",
   "metadata": {},
   "source": [
    "The **bytearray** is exactly the same as the bytes data type except that its elements can be modified.\n",
    "\n",
    "That is, bytearray is **mutable**."
   ]
  },
  {
   "cell_type": "code",
   "execution_count": 1,
   "id": "b97d1d6c-fb03-4347-8025-b7c41dca399c",
   "metadata": {},
   "outputs": [
    {
     "name": "stdout",
     "output_type": "stream",
     "text": [
      "<class 'bytearray'>\n",
      "10\n",
      "1821898087536\n",
      "1821898087536\n",
      "1\n"
     ]
    }
   ],
   "source": [
    "l = [ 10, 20, 30, 40 ]\n",
    "b = bytearray(l)\n",
    "print(type(b))                      # <class 'bytearray'>\n",
    "\n",
    "# Mutability Proof\n",
    "\n",
    "print(b[0])        # 10\n",
    "print(id(b))       # 2984325345346\n",
    "\n",
    "b[0] = 1           # Object Modified\n",
    "\n",
    "print(id(b))       # 2984325345346\n",
    "print(b[0])        # 1"
   ]
  },
  {
   "cell_type": "markdown",
   "id": "05695dc8-2535-48a5-bd21-2e83995d320c",
   "metadata": {},
   "source": [
    "The only allowed values for byte data type are **0 to 256**.\n",
    "\n",
    "By mistake, if we are trying to provide any other values then we will get a **ValueError**."
   ]
  },
  {
   "cell_type": "code",
   "execution_count": 2,
   "id": "e4787976-a831-4403-9e8a-21e2cf533d79",
   "metadata": {},
   "outputs": [
    {
     "ename": "ValueError",
     "evalue": "byte must be in range(0, 256)",
     "output_type": "error",
     "traceback": [
      "\u001b[1;31m---------------------------------------------------------------------------\u001b[0m",
      "\u001b[1;31mValueError\u001b[0m                                Traceback (most recent call last)",
      "Cell \u001b[1;32mIn[2], line 2\u001b[0m\n\u001b[0;32m      1\u001b[0m l \u001b[38;5;241m=\u001b[39m [ \u001b[38;5;241m10\u001b[39m, \u001b[38;5;241m256\u001b[39m ]\n\u001b[1;32m----> 2\u001b[0m b \u001b[38;5;241m=\u001b[39m \u001b[38;5;28;43mbytearray\u001b[39;49m\u001b[43m(\u001b[49m\u001b[43ml\u001b[49m\u001b[43m)\u001b[49m        \u001b[38;5;66;03m# ValueError: bytes must be in range(0, 256) --> 0 to 255\u001b[39;00m\n",
      "\u001b[1;31mValueError\u001b[0m: byte must be in range(0, 256)"
     ]
    }
   ],
   "source": [
    "l = [ 10, 256 ]\n",
    "b = bytearray(l)        # ValueError: bytes must be in range(0, 256) --> 0 to 255"
   ]
  },
  {
   "cell_type": "markdown",
   "id": "4a8a726e-2301-4b5f-b0f9-6ee50933b441",
   "metadata": {},
   "source": [
    "# Indexing and Slicing"
   ]
  },
  {
   "cell_type": "markdown",
   "id": "aaf585d3-230d-4d3c-85b0-ee9bcffcc78b",
   "metadata": {},
   "source": [
    "We can access elements present in the bytes data type by using an index. "
   ]
  },
  {
   "cell_type": "code",
   "execution_count": 4,
   "id": "399f8928-c84d-4218-8914-967ba64ce0cc",
   "metadata": {},
   "outputs": [
    {
     "name": "stdout",
     "output_type": "stream",
     "text": [
      "10\n",
      "40\n",
      "bytearray(b'\\x14\\x1e(')\n"
     ]
    }
   ],
   "source": [
    "\n",
    "l = [ 10, 20, 30, 40 ]\n",
    "b = bytearray(l)\n",
    "\n",
    "# Indexing\n",
    "print(b[0])         # 10\n",
    "print(b[-1])        # 40\n",
    "\n",
    "# Slicing\n",
    "slice = b[1:4]      # 20, 30, 40\n",
    "print(slice)"
   ]
  },
  {
   "cell_type": "code",
   "execution_count": 5,
   "id": "9ea5676e-f8cd-4c85-a4b4-b710ddf34ff9",
   "metadata": {},
   "outputs": [
    {
     "ename": "IndexError",
     "evalue": "bytearray index out of range",
     "output_type": "error",
     "traceback": [
      "\u001b[1;31m---------------------------------------------------------------------------\u001b[0m",
      "\u001b[1;31mIndexError\u001b[0m                                Traceback (most recent call last)",
      "Cell \u001b[1;32mIn[5], line 1\u001b[0m\n\u001b[1;32m----> 1\u001b[0m \u001b[38;5;28mprint\u001b[39m(\u001b[43mb\u001b[49m\u001b[43m[\u001b[49m\u001b[38;5;241;43m15\u001b[39;49m\u001b[43m]\u001b[49m)        \u001b[38;5;66;03m# IndexError: bytearray object index out of range\u001b[39;00m\n",
      "\u001b[1;31mIndexError\u001b[0m: bytearray index out of range"
     ]
    }
   ],
   "source": [
    "print(b[15])        # IndexError: bytearray object index out of range"
   ]
  },
  {
   "cell_type": "code",
   "execution_count": null,
   "id": "e74689a9-64e5-4bda-967b-1eee66e0158e",
   "metadata": {},
   "outputs": [],
   "source": []
  }
 ],
 "metadata": {
  "kernelspec": {
   "display_name": "Python 3 (ipykernel)",
   "language": "python",
   "name": "python3"
  },
  "language_info": {
   "codemirror_mode": {
    "name": "ipython",
    "version": 3
   },
   "file_extension": ".py",
   "mimetype": "text/x-python",
   "name": "python",
   "nbconvert_exporter": "python",
   "pygments_lexer": "ipython3",
   "version": "3.12.5"
  }
 },
 "nbformat": 4,
 "nbformat_minor": 5
}
