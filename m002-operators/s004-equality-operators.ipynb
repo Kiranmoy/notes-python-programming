{
 "cells": [
  {
   "cell_type": "markdown",
   "id": "1afe3e2d-0e5f-4d12-8803-92d1001545fa",
   "metadata": {},
   "source": [
    "# Equality Operators"
   ]
  },
  {
   "cell_type": "markdown",
   "id": "ca51ba12-2705-45ba-95d1-dab2871787c8",
   "metadata": {},
   "source": [
    "Equality Operators (==,!=) is used to check the equality of two values, that is, whether two values are equal or not."
   ]
  },
  {
   "cell_type": "code",
   "execution_count": 1,
   "id": "dd0bede4-59bd-4986-8055-10043b53c1b2",
   "metadata": {},
   "outputs": [
    {
     "name": "stdout",
     "output_type": "stream",
     "text": [
      "False\n",
      "True\n"
     ]
    }
   ],
   "source": [
    "print(10==20)   # False\n",
    "print(10!=20)   # True"
   ]
  },
  {
   "cell_type": "markdown",
   "id": "89f8ba95-faab-432a-9273-b1a0bd00e85c",
   "metadata": {},
   "source": [
    "Equality operator can check equality for incompatible values also.\n",
    "\n",
    "For incompatible types, equality operators always return **False**, it will not throw any error."
   ]
  },
  {
   "cell_type": "code",
   "execution_count": 2,
   "id": "edd770b1-189e-4c5a-b9da-7aec5423403a",
   "metadata": {},
   "outputs": [
    {
     "name": "stdout",
     "output_type": "stream",
     "text": [
      "True\n",
      "True\n",
      "True\n",
      "False\n",
      "True\n",
      "False\n"
     ]
    }
   ],
   "source": [
    "print(1==True)            # True\n",
    "print(10==10.0)           # True\n",
    "print(\"durga\"==\"durga\")   # True\n",
    "print(10 == \"durga\")      # False (incompatible types)\n",
    "print(10!=\"durga\")        # False (incompatible types)\n",
    "print(10 == \"10\")         # False (incompatible types)"
   ]
  },
  {
   "cell_type": "markdown",
   "id": "a48f8f61-95e0-41a6-8f44-cbca10d337a9",
   "metadata": {},
   "source": [
    "# Chaining"
   ]
  },
  {
   "cell_type": "markdown",
   "id": "49a6f9fb-aede-41fa-bd53-a11e87ff80f9",
   "metadata": {},
   "source": [
    "The chaining concept is applicable to equality operators. \n",
    "\n",
    "If at least one comparison returns False then the result is **False**. Otherwise, the result is **True**. "
   ]
  },
  {
   "cell_type": "code",
   "execution_count": 3,
   "id": "417bdfc7-bc84-4608-ba4d-debfd49c33c0",
   "metadata": {},
   "outputs": [
    {
     "name": "stdout",
     "output_type": "stream",
     "text": [
      "False\n",
      "True\n"
     ]
    }
   ],
   "source": [
    "print(10==20==30==40)   # False\n",
    "print(10==10==10==10)   # True"
   ]
  },
  {
   "cell_type": "markdown",
   "id": "ae9b4ade-26a1-4d8a-a69b-6a33163784fa",
   "metadata": {},
   "source": [
    "# Difference between the == and ‘is’ operators?"
   ]
  },
  {
   "cell_type": "markdown",
   "id": "3b338673-4b85-4fb9-9114-5d3542075755",
   "metadata": {},
   "source": [
    "* **is operator** - used for reference or address comparison.\n",
    "* If both references point to the same object then only it returns **True**."
   ]
  },
  {
   "cell_type": "markdown",
   "id": "a116abcf-0227-446e-b1d0-32a228c62aaa",
   "metadata": {},
   "source": [
    "* **== operator** - used for content comparison.\n",
    "* Even if the objects are different, if their contents are equal then the == operator will return **True**."
   ]
  },
  {
   "cell_type": "code",
   "execution_count": 4,
   "id": "ac0745d5-1013-42b9-8b5d-29d6f1387c9f",
   "metadata": {},
   "outputs": [
    {
     "name": "stdout",
     "output_type": "stream",
     "text": [
      "2873321262912\n",
      "2873321263744\n",
      "False\n",
      "True\n",
      "2873321262912\n",
      "True\n"
     ]
    }
   ],
   "source": [
    "a = [10, 20, 30]\n",
    "b = [10, 20, 30]\n",
    "\n",
    "# NOTE: For every list a new object gets cretead in memory.\n",
    "print(id(a))  # 481466678\n",
    "print(id(b))  # 481466600\n",
    "\n",
    "\n",
    "print(a is b)   # False (Reference comparison)\n",
    "print(a == b)   # True  (content comparison)\n",
    "\n",
    "c = a\n",
    "print(id(c))  # 481466678\n",
    "\n",
    "print( a is c)   # True"
   ]
  },
  {
   "cell_type": "code",
   "execution_count": null,
   "id": "aaac5432-6d04-479f-b0ff-c80f5062ef68",
   "metadata": {},
   "outputs": [],
   "source": []
  }
 ],
 "metadata": {
  "kernelspec": {
   "display_name": "Python 3 (ipykernel)",
   "language": "python",
   "name": "python3"
  },
  "language_info": {
   "codemirror_mode": {
    "name": "ipython",
    "version": 3
   },
   "file_extension": ".py",
   "mimetype": "text/x-python",
   "name": "python",
   "nbconvert_exporter": "python",
   "pygments_lexer": "ipython3",
   "version": "3.12.5"
  }
 },
 "nbformat": 4,
 "nbformat_minor": 5
}
