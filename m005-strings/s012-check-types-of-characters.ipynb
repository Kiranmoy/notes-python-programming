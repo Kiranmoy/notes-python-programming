{
 "cells": [
  {
   "cell_type": "markdown",
   "id": "7bdb4ceb-d62f-4b3b-9eee-db6b51e8cee6",
   "metadata": {},
   "source": [
    "# Methods to check the types of characters present in a string"
   ]
  },
  {
   "cell_type": "markdown",
   "id": "e262b3f3-ba86-4a88-a12d-14d9b91f00f6",
   "metadata": {},
   "source": [
    "Python contains the following methods for this purpose:\n",
    "\n",
    "* `isalnum( )` → Returns True if all characters are alphanumeric **( a-z, A-Z, 0-9 )**.\n",
    "\n",
    "* `isalpha( )`  → Returns True if all characters are only alphabet symbols **( a-z, A-Z )**.\n",
    "\n",
    "* `isdigit( )`   → Returns True if all characters are digits only **( 0-9 )**.\n",
    "\n",
    "* `islower( )`  → Returns True if all characters are lowercase alphabet symbols.\n",
    "\n",
    "* `isupper( )` → Returns True if all characters are upper-case alphabet symbols.\n",
    "\n",
    "* `istitle( )`    → Returns True if the string is in the title case.\n",
    "\n",
    "* `isspace( )` → Returns True if the string contains only spaces."
   ]
  },
  {
   "cell_type": "code",
   "execution_count": 1,
   "id": "cf072c81-dcd2-47d1-b7fc-54b87caf0a27",
   "metadata": {},
   "outputs": [
    {
     "name": "stdout",
     "output_type": "stream",
     "text": [
      "True\n",
      "False\n",
      "True\n",
      "False\n",
      "True\n",
      "True\n",
      "False\n",
      "True\n",
      "True\n",
      "True\n",
      "False\n",
      "True\n"
     ]
    }
   ],
   "source": [
    "print('Durga786'.isalnum())   # True\n",
    "\n",
    "print('durga786'.isalpha())   # False\n",
    "print('durga'.isalpha())      # True\n",
    "\n",
    "print('durga'.isdigit())      # False\n",
    "print('786786'.isdigit())     # True\n",
    "\n",
    "print('abc'.islower())        # True\n",
    "print('Abc'.islower())        # False\n",
    "print('abc123'.islower())     # True\n",
    "\n",
    "print('ABC'.isupper())        # True\n",
    "\n",
    "print(' '.isspace())          # True\n",
    "\n",
    "print('Learning python is Easy'.istitle())    # False\n",
    "print('Learning Python Is Easy'.istitle())    # True"
   ]
  },
  {
   "cell_type": "code",
   "execution_count": null,
   "id": "d7bb3a84-1aa1-4aa0-8362-0700b74ab17a",
   "metadata": {},
   "outputs": [],
   "source": []
  }
 ],
 "metadata": {
  "kernelspec": {
   "display_name": "Python 3 (ipykernel)",
   "language": "python",
   "name": "python3"
  },
  "language_info": {
   "codemirror_mode": {
    "name": "ipython",
    "version": 3
   },
   "file_extension": ".py",
   "mimetype": "text/x-python",
   "name": "python",
   "nbconvert_exporter": "python",
   "pygments_lexer": "ipython3",
   "version": "3.12.5"
  }
 },
 "nbformat": 4,
 "nbformat_minor": 5
}
