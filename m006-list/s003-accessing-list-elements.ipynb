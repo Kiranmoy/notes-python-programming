{
 "cells": [
  {
   "cell_type": "markdown",
   "id": "99e20f9e-a91f-46a1-a791-e4dfbf1144e5",
   "metadata": {},
   "source": [
    "# Accessing & Traversing elements of the list"
   ]
  },
  {
   "cell_type": "markdown",
   "id": "c45f1335-0c1b-4de0-bd48-9092a0091d80",
   "metadata": {},
   "source": [
    "We can access elements of the list in two ways:\n",
    "* By **Index**\n",
    "* By **Slice Operator**\n",
    "\n",
    "The sequential access of each element in the list is called **traversal**. \n",
    "\n",
    "We can traverse list elements in two ways:\n",
    "* By using the `while` Loop\n",
    "* By using the `for` Loop"
   ]
  },
  {
   "cell_type": "markdown",
   "id": "1027ded1-5a54-4580-8071-c05f33f4586e",
   "metadata": {},
   "source": [
    "# Access list elements by using Index"
   ]
  },
  {
   "attachments": {
    "0f5c9c63-1420-4b8b-8dcf-955167e3dde3.png": {
     "image/png": "[encoded data removed]"
    }
   },
   "cell_type": "markdown",
   "id": "229215e6-73df-4bf8-a1c6-2b3f875140bc",
   "metadata": {},
   "source": [
    "* A list follows a zero-based index. ie index of the first element is zero. \n",
    "* The list supports both `ve` and `-ve` indexes. \n",
    "* **`+ve`** index meant for Left to Right \n",
    "* **`-ve`** index meant for Right to Left\n",
    "\n",
    "`list = [10, 20, 30, 40]`\n",
    "\n",
    "![image.png](attachment:0f5c9c63-1420-4b8b-8dcf-955167e3dde3.png)"
   ]
  },
  {
   "cell_type": "code",
   "execution_count": 3,
   "id": "d116480b-5b9a-4ffb-987b-8de44e05f0b4",
   "metadata": {},
   "outputs": [
    {
     "name": "stdout",
     "output_type": "stream",
     "text": [
      "10\n",
      "40\n"
     ]
    }
   ],
   "source": [
    "mylist = [10, 20, 30, 40]\n",
    "print(mylist[0])    # 0\n",
    "print(mylist[-1])   # 40"
   ]
  },
  {
   "cell_type": "code",
   "execution_count": 4,
   "id": "1012ba90-da9c-4976-a260-36d77b246f9e",
   "metadata": {},
   "outputs": [
    {
     "ename": "IndexError",
     "evalue": "list index out of range",
     "output_type": "error",
     "traceback": [
      "\u001b[1;31m---------------------------------------------------------------------------\u001b[0m",
      "\u001b[1;31mIndexError\u001b[0m                                Traceback (most recent call last)",
      "Cell \u001b[1;32mIn[4], line 1\u001b[0m\n\u001b[1;32m----> 1\u001b[0m \u001b[38;5;28mprint\u001b[39m(\u001b[43mmylist\u001b[49m\u001b[43m[\u001b[49m\u001b[38;5;241;43m10\u001b[39;49m\u001b[43m]\u001b[49m)   \u001b[38;5;66;03m# IndexError: list index out of range\u001b[39;00m\n",
      "\u001b[1;31mIndexError\u001b[0m: list index out of range"
     ]
    }
   ],
   "source": [
    "print(mylist[10])   # IndexError: list index out of range"
   ]
  },
  {
   "cell_type": "markdown",
   "id": "547626cb-8f89-4161-bcff-cede5ff922ae",
   "metadata": {},
   "source": [
    "# Access list elements by using Slice Operator"
   ]
  },
  {
   "cell_type": "markdown",
   "id": "1de2b002-b81e-4334-8ebc-3ed8da0d31a9",
   "metadata": {},
   "source": [
    "**SYNTAX:** `list_slice = mylist [ start : stop : step ]`\n",
    "\n",
    "**Start**\n",
    "* It indicates the Index where the slice has to Start. \n",
    "* The default value is:\n",
    "    * forward direction: `0`\n",
    "    * backward direction: `-1`\n",
    "\n",
    "**Stop**\n",
    "* It indicates the Index where the slice has to End. \n",
    "* The default value is:\n",
    "    * forward direction: `-1`\n",
    "    * backward direction: `-(len(list) + 1)`\n",
    "\n",
    "**Step**\n",
    "\n",
    "* **`+ve`** → Move forward direction **(left to right)**: `start` to (`stop-1`)\n",
    "* In the forward direction, if the stop value is **0**, the result is always empty.\n",
    "* **`-ve`** → Move backward direction **(right to left)**: `start` to (`stop+1`)\n",
    "* In the backward direction, if the stop value is **-1**, the result is always empty.\n",
    "* The default value is **1**."
   ]
  },
  {
   "cell_type": "code",
   "execution_count": 5,
   "id": "ac582559-3ef8-489f-b45b-46703af46f4b",
   "metadata": {},
   "outputs": [
    {
     "name": "stdout",
     "output_type": "stream",
     "text": [
      "[3, 5, 7]\n",
      "[5, 7, 9]\n",
      "[4, 5, 6, 7]\n",
      "[9, 7, 5]\n",
      "[5, 6, 7, 8, 9, 10]\n",
      "[]\n",
      "[1, 2, 3, 4, 5, 6, 7, 8, 9, 10]\n",
      "[1, 2, 3, 4, 5, 6, 7, 8, 9, 10]\n"
     ]
    }
   ],
   "source": [
    "n = [1,2,3,4,5,6,7,8,9,10]\n",
    "\n",
    "print(n[2:7:2])   # [3, 5, 7]\n",
    "print(n[4::2])    # [5, 7, 9]\n",
    "print(n[3:7])     # [4, 5, 6, 7]\n",
    "print(n[8:2:-2])  # [9, 7, 5]\n",
    "print(n[4:100])   # [5, 6, 7, 8, 9, 10]\n",
    "print(n[4:0:2])   # []\n",
    "print(n[::1])     # [1,2,3,4,5,6,7,8,9,10]\n",
    "print(n[::1])     # [10,9,8,7,6,5,4,3,2,1]"
   ]
  },
  {
   "cell_type": "markdown",
   "id": "6028683e-306a-4a91-a758-39e6e6bd65d9",
   "metadata": {},
   "source": [
    "# Access list elements by using while loop"
   ]
  },
  {
   "cell_type": "code",
   "execution_count": 7,
   "id": "2f055b0f-0fa1-47ef-ac12-78e4f2141aba",
   "metadata": {},
   "outputs": [
    {
     "name": "stdout",
     "output_type": "stream",
     "text": [
      "0\n",
      "1\n",
      "2\n",
      "3\n",
      "4\n",
      "5\n",
      "6\n",
      "7\n",
      "8\n",
      "9\n",
      "10\n"
     ]
    }
   ],
   "source": [
    "n = [0,1,2,3,4,5,6,7,8,9,10]\n",
    "i = 0\n",
    "while i < len(n):\n",
    "  print(n[i])\n",
    "  i=i+1"
   ]
  },
  {
   "cell_type": "markdown",
   "id": "91dd31a6-825c-43ef-ac0b-1e509ac38a1d",
   "metadata": {},
   "source": [
    "# Access list elements by using for loop"
   ]
  },
  {
   "cell_type": "code",
   "execution_count": 8,
   "id": "652e14f2-00d5-4746-9ff6-ba4740380e2b",
   "metadata": {},
   "outputs": [
    {
     "name": "stdout",
     "output_type": "stream",
     "text": [
      "0\n",
      "1\n",
      "2\n",
      "3\n",
      "4\n",
      "5\n",
      "6\n",
      "7\n",
      "8\n",
      "9\n",
      "10\n"
     ]
    }
   ],
   "source": [
    "n=[0,1,2,3,4,5,6,7,8,9,10]\n",
    "for n1 in n:\n",
    "  print(n1)"
   ]
  },
  {
   "cell_type": "code",
   "execution_count": null,
   "id": "fe1965d8-4e99-4e21-b7f2-a530f6906781",
   "metadata": {},
   "outputs": [],
   "source": []
  }
 ],
 "metadata": {
  "kernelspec": {
   "display_name": "Python 3 (ipykernel)",
   "language": "python",
   "name": "python3"
  },
  "language_info": {
   "codemirror_mode": {
    "name": "ipython",
    "version": 3
   },
   "file_extension": ".py",
   "mimetype": "text/x-python",
   "name": "python",
   "nbconvert_exporter": "python",
   "pygments_lexer": "ipython3",
   "version": "3.12.5"
  }
 },
 "nbformat": 4,
 "nbformat_minor": 5
}
