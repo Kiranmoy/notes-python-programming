{
 "cells": [
  {
   "cell_type": "markdown",
   "id": "cd805d25-0156-4988-874c-9aea62c027c3",
   "metadata": {},
   "source": [
    "# Tuple Properties"
   ]
  },
  {
   "cell_type": "markdown",
   "id": "180edbdf-4c0b-43df-a07c-3b18e88d18f4",
   "metadata": {},
   "source": [
    "* Tuple is exactly the same as List except that it is **immutable**. \n",
    "    * That is, once we create a **tuple** object, we cannot perform any changes in that object.\n",
    "* Hence **tuple** is a Read-only version of List. \n",
    "* If our data is fixed and never changes then we should go for **tuple**.\n",
    "* **Insertion Order** is preserved.\n",
    "* **Duplicates** are allowed.\n",
    "* **Heterogeneous** objects are allowed.\n",
    "* We can preserve insertion order and we can differentiate duplicate objects by using an index. \n",
    "    * Hence index will play a very important role in Tuple also.\n",
    "* Tuple supports both the +ve and -ve indexes. \n",
    "    * **`+ve`** index means forward direction (from **left to right**)\n",
    "    * **`-ve`** index means backward direction (from **right to left**)\n",
    "* We can represent **tuple** elements within parenthesis and with a comma operator.\n",
    "* **Parenthesis is optional** but its recommended to use."
   ]
  },
  {
   "cell_type": "code",
   "execution_count": 2,
   "id": "9262a481-e00c-4806-839e-916d40e18435",
   "metadata": {},
   "outputs": [
    {
     "name": "stdout",
     "output_type": "stream",
     "text": [
      "<class 'tuple'>\n",
      "(10, True, 'Kiran', 40.0, 10)\n",
      "<class 'tuple'>\n",
      "10\n",
      "10\n"
     ]
    }
   ],
   "source": [
    "t=()\n",
    "print(type(t))  # <class 'tuple'>\n",
    "\n",
    "# Parenthesis is optional but its recommended to use.\n",
    "\n",
    "t = 10,True,\"Kiran\",40.0, 10\n",
    "print(t)        # (10,true,\"Kiran\",40.0,10)\n",
    "print(type(t))  # <class 'tuple'>\n",
    "print(t[0])     # 10\n",
    "print(t[-1])    # 10"
   ]
  },
  {
   "cell_type": "markdown",
   "id": "2f6f20b4-ba49-4368-ba72-810d7d11f383",
   "metadata": {},
   "source": [
    "# Tuple Immutability"
   ]
  },
  {
   "cell_type": "markdown",
   "id": "2b11081c-fbc0-472f-94c3-efbd00ac9baf",
   "metadata": {},
   "source": [
    "Once we create a tuple, we cannot change its content.\n",
    "\n",
    "Hence tuple objects are immutable."
   ]
  },
  {
   "cell_type": "markdown",
   "id": "e6b0cfc3-1f47-40b4-8fa9-256e4e89eb1b",
   "metadata": {},
   "source": [
    "## List Mutability"
   ]
  },
  {
   "cell_type": "code",
   "execution_count": 3,
   "id": "543537ef-7b13-4b0b-86e2-130fa1127ce7",
   "metadata": {},
   "outputs": [
    {
     "name": "stdout",
     "output_type": "stream",
     "text": [
      "1728038810112\n",
      "[10, 20, 30, 40]\n",
      "[10, 777, 30, 40]\n",
      "1728038810112\n"
     ]
    }
   ],
   "source": [
    "n = [10,20,30,40]\n",
    "print(id(n))    # 325636234767\n",
    "print(n)        # [10,20,30,40]\n",
    "n[1]=777\n",
    "print(n)        # [10, 777, 30, 40]\n",
    "print(id(n))    # 325636234767"
   ]
  },
  {
   "cell_type": "markdown",
   "id": "6d50c246-974a-4304-8260-1b9de1a5e1c6",
   "metadata": {},
   "source": [
    "## Tuple Immutability"
   ]
  },
  {
   "cell_type": "code",
   "execution_count": 4,
   "id": "7d0b6680-a3e8-468f-9f96-6b8862ac1fd7",
   "metadata": {},
   "outputs": [
    {
     "ename": "TypeError",
     "evalue": "'tuple' object does not support item assignment",
     "output_type": "error",
     "traceback": [
      "\u001b[1;31m---------------------------------------------------------------------------\u001b[0m",
      "\u001b[1;31mTypeError\u001b[0m                                 Traceback (most recent call last)",
      "Cell \u001b[1;32mIn[4], line 2\u001b[0m\n\u001b[0;32m      1\u001b[0m t \u001b[38;5;241m=\u001b[39m (\u001b[38;5;241m10\u001b[39m,\u001b[38;5;241m20\u001b[39m,\u001b[38;5;241m30\u001b[39m,\u001b[38;5;241m40\u001b[39m)\n\u001b[1;32m----> 2\u001b[0m \u001b[43mt\u001b[49m\u001b[43m[\u001b[49m\u001b[38;5;241;43m0\u001b[39;49m\u001b[43m]\u001b[49m \u001b[38;5;241m=\u001b[39m \u001b[38;5;241m777\u001b[39m        \u001b[38;5;66;03m#  TypeError: 'tuple' object does not support item assignment\u001b[39;00m\n",
      "\u001b[1;31mTypeError\u001b[0m: 'tuple' object does not support item assignment"
     ]
    }
   ],
   "source": [
    "t = (10,20,30,40)\n",
    "t[0] = 777        #  TypeError: 'tuple' object does not support item assignment"
   ]
  },
  {
   "cell_type": "markdown",
   "id": "2f2479a4-1ced-480f-94b8-2ea499f67737",
   "metadata": {},
   "source": [
    "# Single Valued Tuple"
   ]
  },
  {
   "cell_type": "markdown",
   "id": "909e688b-2742-4ec1-b353-6f540421ed40",
   "metadata": {},
   "source": [
    "We have to take special care of single-valued tuples. \n",
    "\n",
    "The value should end with a comma, otherwise, it is not treated as a tuple. "
   ]
  },
  {
   "cell_type": "code",
   "execution_count": 5,
   "id": "4d85375b-191a-41c9-ba2d-bfad4ffcd6a6",
   "metadata": {},
   "outputs": [
    {
     "name": "stdout",
     "output_type": "stream",
     "text": [
      "<class 'tuple'>\n",
      "<class 'tuple'>\n",
      "<class 'int'>\n",
      "<class 'int'>\n",
      "<class 'tuple'>\n",
      "<class 'tuple'>\n",
      "<class 'tuple'>\n",
      "<class 'tuple'>\n"
     ]
    }
   ],
   "source": [
    "t1 = 10, 20, 30\n",
    "print(type(t1))   # <class 'tuple'>\n",
    "\n",
    "t2 = 10, 20\n",
    "print(type(t2))   # <class 'tuple'>\n",
    "\n",
    "t3 = 10\n",
    "print(type(t3))   # <class 'int'>\n",
    "\n",
    "t4 = (10)\n",
    "print(type(t4))   # <class 'int'>\n",
    "\n",
    "# Single valued Tuple must end with a comma, otherwise, it is not treated as a tuple.\n",
    "\n",
    "t5 = 10,\n",
    "print(type(t5))   # <class 'tuple'>\n",
    "\n",
    "t6 = (10,)\n",
    "print(type(t6))   # <class 'tuple'>\n",
    "\n",
    "t7 = 10, 20, 30,\n",
    "print(type(t7))   # <class 'tuple'>\n",
    "\n",
    "t8 = (10, 20, 30,)\n",
    "print(type(t8))   # <class 'tuple'>"
   ]
  },
  {
   "cell_type": "code",
   "execution_count": null,
   "id": "8010cad4-6e50-413c-a1f3-b3f1899bb3ac",
   "metadata": {},
   "outputs": [],
   "source": []
  }
 ],
 "metadata": {
  "kernelspec": {
   "display_name": "Python 3 (ipykernel)",
   "language": "python",
   "name": "python3"
  },
  "language_info": {
   "codemirror_mode": {
    "name": "ipython",
    "version": 3
   },
   "file_extension": ".py",
   "mimetype": "text/x-python",
   "name": "python",
   "nbconvert_exporter": "python",
   "pygments_lexer": "ipython3",
   "version": "3.12.5"
  }
 },
 "nbformat": 4,
 "nbformat_minor": 5
}
