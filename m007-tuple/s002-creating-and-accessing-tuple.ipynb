{
 "cells": [
  {
   "cell_type": "markdown",
   "id": "037c5f93-395f-41a3-814e-19514f1dfaba",
   "metadata": {},
   "source": [
    "# Create Empty Tuple"
   ]
  },
  {
   "cell_type": "code",
   "execution_count": 1,
   "id": "a785dd97-339f-463a-9649-6615cf719246",
   "metadata": {},
   "outputs": [
    {
     "name": "stdout",
     "output_type": "stream",
     "text": [
      "<class 'tuple'>\n"
     ]
    }
   ],
   "source": [
    "t = ()\n",
    "print(type(t))    # <class 'tuple'>"
   ]
  },
  {
   "cell_type": "markdown",
   "id": "359e8102-509d-4a53-bb98-b4151b066341",
   "metadata": {},
   "source": [
    "# Create Single-Valued Tuple"
   ]
  },
  {
   "cell_type": "code",
   "execution_count": 2,
   "id": "3943f056-98b8-4a83-84b0-70a59ad09afc",
   "metadata": {},
   "outputs": [
    {
     "name": "stdout",
     "output_type": "stream",
     "text": [
      "<class 'tuple'>\n",
      "<class 'tuple'>\n"
     ]
    }
   ],
   "source": [
    "t = 0,\n",
    "print(type(t))    # <class 'tuple'>\n",
    "\n",
    "t = (0,)\n",
    "print(type(t))    # <class 'tuple'>"
   ]
  },
  {
   "cell_type": "markdown",
   "id": "00bc249a-a435-43f6-b9a5-307d82366c9c",
   "metadata": {},
   "source": [
    "# Create Multi-Valued Tuple"
   ]
  },
  {
   "cell_type": "code",
   "execution_count": 3,
   "id": "4170b8d7-5935-44a8-b2fd-518dfea30208",
   "metadata": {},
   "outputs": [
    {
     "name": "stdout",
     "output_type": "stream",
     "text": [
      "<class 'tuple'>\n",
      "<class 'tuple'>\n",
      "<class 'tuple'>\n",
      "<class 'tuple'>\n"
     ]
    }
   ],
   "source": [
    "t = 0,1,2,3,\n",
    "print(type(t))    # <class 'tuple'>\n",
    "\n",
    "t = (0,1,2,3,)\n",
    "print(type(t))    # <class 'tuple'>\n",
    "\n",
    "t = 0,1,2,3\n",
    "print(type(t))    # <class 'tuple'>\n",
    "\n",
    "t = (0,1,2,3)\n",
    "print(type(t))    # <class 'tuple'>"
   ]
  },
  {
   "cell_type": "markdown",
   "id": "1c12b61c-cf43-4bd4-9f0a-d179483e3573",
   "metadata": {},
   "source": [
    "# Create Using Tuple Function"
   ]
  },
  {
   "cell_type": "code",
   "execution_count": 4,
   "id": "da06b9b6-96e8-4570-8cbe-43e6454a29a1",
   "metadata": {},
   "outputs": [
    {
     "name": "stdout",
     "output_type": "stream",
     "text": [
      "<class 'tuple'>\n",
      "(10, 20, 30)\n",
      "<class 'tuple'>\n",
      "(10, 12, 14, 16, 18)\n",
      "<class 'tuple'>\n",
      "('K', 'i', 'r', 'a', 'n')\n"
     ]
    }
   ],
   "source": [
    "list=[10,20,30]\n",
    "t=tuple(list)\n",
    "print(type(t))                    # <class 'tuple'>\n",
    "print(t)                          # (10, 20, 30)\n",
    "\n",
    "t=tuple(range(10,20,2))\n",
    "print(type(t))                    # <class 'tuple'>\n",
    "print(t)                          # (10, 12, 14, 16, 18)\n",
    "  \n",
    "t = tuple(\"Kiran\")\n",
    "print(type(t))                    # <class 'tuple'>\n",
    "print(t)                          # ('K', 'i', 'r', 'a', 'n')"
   ]
  },
  {
   "cell_type": "markdown",
   "id": "55224415-c86b-4b60-884b-d6dbbac5c210",
   "metadata": {},
   "source": [
    "# Create Tuple From Dynamic Input"
   ]
  },
  {
   "cell_type": "code",
   "execution_count": 5,
   "id": "b22b4c46-cfd2-4ec6-be46-82207959610e",
   "metadata": {},
   "outputs": [
    {
     "name": "stdin",
     "output_type": "stream",
     "text": [
      "Enter tuple values:  1,2,3,4\n"
     ]
    },
    {
     "name": "stdout",
     "output_type": "stream",
     "text": [
      "<class 'tuple'>\n"
     ]
    }
   ],
   "source": [
    "t = eval( input('Enter tuple values: ') )\n",
    "print(type(t))                              # <class 'tuple'>"
   ]
  },
  {
   "cell_type": "markdown",
   "id": "5a713f77-f818-4bfa-921b-638079499c33",
   "metadata": {},
   "source": [
    "# Accessing Tuple Elements By Using Index"
   ]
  },
  {
   "cell_type": "code",
   "execution_count": 6,
   "id": "eae89494-a822-48eb-a7f4-12b558bda632",
   "metadata": {},
   "outputs": [
    {
     "name": "stdout",
     "output_type": "stream",
     "text": [
      "10\n",
      "60\n"
     ]
    }
   ],
   "source": [
    "t = (10, 20, 30, 40, 50, 60)\n",
    "\n",
    "print(t[0])   # 10\n",
    "print(t[-1])  # 60"
   ]
  },
  {
   "cell_type": "code",
   "execution_count": 7,
   "id": "ba7479c1-eb6d-46f1-ba50-271735859977",
   "metadata": {},
   "outputs": [
    {
     "ename": "IndexError",
     "evalue": "tuple index out of range",
     "output_type": "error",
     "traceback": [
      "\u001b[1;31m---------------------------------------------------------------------------\u001b[0m",
      "\u001b[1;31mIndexError\u001b[0m                                Traceback (most recent call last)",
      "Cell \u001b[1;32mIn[7], line 1\u001b[0m\n\u001b[1;32m----> 1\u001b[0m \u001b[38;5;28mprint\u001b[39m(\u001b[43mt\u001b[49m\u001b[43m[\u001b[49m\u001b[38;5;241;43m100\u001b[39;49m\u001b[43m]\u001b[49m) \u001b[38;5;66;03m# IndexError: tuple index out of range\u001b[39;00m\n",
      "\u001b[1;31mIndexError\u001b[0m: tuple index out of range"
     ]
    }
   ],
   "source": [
    "print(t[100]) # IndexError: tuple index out of range"
   ]
  },
  {
   "cell_type": "markdown",
   "id": "34e94716-a635-4a0b-8f4a-dcd25727caac",
   "metadata": {},
   "source": [
    "# Accessing Tuple Elements By Using Slice Operator"
   ]
  },
  {
   "cell_type": "code",
   "execution_count": 8,
   "id": "97041a80-f79c-4975-996a-9d5f2f76aace",
   "metadata": {},
   "outputs": [
    {
     "name": "stdout",
     "output_type": "stream",
     "text": [
      "(30, 40, 50)\n",
      "(30, 40, 50, 60)\n",
      "(10, 30, 50)\n"
     ]
    }
   ],
   "source": [
    "t=(10,20,30,40,50,60)\n",
    "\n",
    "print(t[2:5])     # (30, 40, 50)\n",
    "print(t[2:100])   # (30, 40, 50, 60)\n",
    "print(t[::2])     # (10, 30, 50)"
   ]
  },
  {
   "cell_type": "code",
   "execution_count": null,
   "id": "7a978f70-a523-4276-995b-218a807240db",
   "metadata": {},
   "outputs": [],
   "source": []
  }
 ],
 "metadata": {
  "kernelspec": {
   "display_name": "Python 3 (ipykernel)",
   "language": "python",
   "name": "python3"
  },
  "language_info": {
   "codemirror_mode": {
    "name": "ipython",
    "version": 3
   },
   "file_extension": ".py",
   "mimetype": "text/x-python",
   "name": "python",
   "nbconvert_exporter": "python",
   "pygments_lexer": "ipython3",
   "version": "3.12.5"
  }
 },
 "nbformat": 4,
 "nbformat_minor": 5
}
