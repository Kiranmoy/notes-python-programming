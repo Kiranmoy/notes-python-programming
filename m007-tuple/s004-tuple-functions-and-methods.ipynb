{
 "cells": [
  {
   "cell_type": "markdown",
   "id": "94611483-ae6f-46de-81c2-07b974f2b805",
   "metadata": {},
   "source": [
    "* **`Functions`** → Python in-built functions\n",
    "* **`Methods`** → Object-specific functions"
   ]
  },
  {
   "cell_type": "markdown",
   "id": "a3d839ba-4db1-4631-b64a-784875130bf6",
   "metadata": {},
   "source": [
    "# len( ) in-built function"
   ]
  },
  {
   "cell_type": "markdown",
   "id": "0ca546bc-d43b-4936-a941-2acfcabe1a20",
   "metadata": {},
   "source": [
    "To return the number of elements present in the tuple."
   ]
  },
  {
   "cell_type": "code",
   "execution_count": 1,
   "id": "247300ce-0332-4ad7-8670-80a3c28bad36",
   "metadata": {},
   "outputs": [
    {
     "name": "stdout",
     "output_type": "stream",
     "text": [
      "4\n"
     ]
    }
   ],
   "source": [
    " t = (10,20,30,40)\n",
    " print(len(t))      # 4"
   ]
  },
  {
   "cell_type": "markdown",
   "id": "5dd9c04d-3352-40b1-855a-f3cb525211a1",
   "metadata": {},
   "source": [
    "# count( ) method"
   ]
  },
  {
   "cell_type": "markdown",
   "id": "d402db8a-947e-4062-85ab-72c93897e2fd",
   "metadata": {},
   "source": [
    "To return the number of occurrences of a given element in the tuple."
   ]
  },
  {
   "cell_type": "code",
   "execution_count": 2,
   "id": "4018ba89-568b-4ab5-83eb-ee0f1634ba52",
   "metadata": {},
   "outputs": [
    {
     "name": "stdout",
     "output_type": "stream",
     "text": [
      "3\n"
     ]
    }
   ],
   "source": [
    " t = (10, 20, 10, 10, 20)\n",
    " print(t.count(10))       # 3"
   ]
  },
  {
   "cell_type": "markdown",
   "id": "6bb756a3-c0db-4e73-ac8b-ed71aba6d7f4",
   "metadata": {},
   "source": [
    "# index( ) method"
   ]
  },
  {
   "cell_type": "markdown",
   "id": "db16039c-4085-490b-9014-f64c597c76c2",
   "metadata": {},
   "source": [
    "* Returns **index of the first occurrence** of the given element.\n",
    "* If the specified element is not available then we will get **ValueError**. "
   ]
  },
  {
   "cell_type": "code",
   "execution_count": 15,
   "id": "12309646-f527-45fe-926b-f2a828d58d63",
   "metadata": {},
   "outputs": [
    {
     "name": "stdout",
     "output_type": "stream",
     "text": [
      "0\n"
     ]
    }
   ],
   "source": [
    "t = (10, 20, 10, 10, 20)\n",
    "print(t.index(10))        # 0"
   ]
  },
  {
   "cell_type": "code",
   "execution_count": 16,
   "id": "230f8422-3025-4113-8fa0-a61b8c51c665",
   "metadata": {},
   "outputs": [
    {
     "ename": "ValueError",
     "evalue": "tuple.index(x): x not in tuple",
     "output_type": "error",
     "traceback": [
      "\u001b[1;31m---------------------------------------------------------------------------\u001b[0m",
      "\u001b[1;31mValueError\u001b[0m                                Traceback (most recent call last)",
      "Cell \u001b[1;32mIn[16], line 1\u001b[0m\n\u001b[1;32m----> 1\u001b[0m \u001b[38;5;28mprint\u001b[39m(\u001b[43mt\u001b[49m\u001b[38;5;241;43m.\u001b[39;49m\u001b[43mindex\u001b[49m\u001b[43m(\u001b[49m\u001b[38;5;241;43m30\u001b[39;49m\u001b[43m)\u001b[49m)        \u001b[38;5;66;03m# ValueError: tuple.index(x): x not in tuple\u001b[39;00m\n",
      "\u001b[1;31mValueError\u001b[0m: tuple.index(x): x not in tuple"
     ]
    }
   ],
   "source": [
    "print(t.index(30))        # ValueError: tuple.index(x): x not in tuple"
   ]
  },
  {
   "cell_type": "markdown",
   "id": "c67aa496-5fc1-4d86-879e-5d417ed4922e",
   "metadata": {},
   "source": [
    "> **NOTE**:\n",
    "> * If the specified element not present in the tuple then we will get **ValueError**.\n",
    "> * Hence before the **index()** method we have to check whether the item is present in the tuple or not by using **`in`** operator."
   ]
  },
  {
   "cell_type": "code",
   "execution_count": 7,
   "id": "482f0773-29f8-40d9-89a1-b3050c9bf972",
   "metadata": {},
   "outputs": [],
   "source": [
    "n = (1, 2, 2, 2, 2, 3, 3)\n",
    "if 4 in n:\n",
    "  print(n.index(4))"
   ]
  },
  {
   "cell_type": "markdown",
   "id": "f088ae49-42e1-4cb6-b203-332dc080fcb6",
   "metadata": {},
   "source": [
    "# reversed( ) in-built function"
   ]
  },
  {
   "cell_type": "markdown",
   "id": "45ff1782-b40c-4bf0-901d-5a03d1e61866",
   "metadata": {},
   "source": [
    "The **`reversed( )`** function is python in-built function applicable for any type of sequence ( `string`, `list`, `tuple`, `set`, `dictionary` )\n",
    "\n",
    "It creates a **new reversed iterator** object."
   ]
  },
  {
   "cell_type": "code",
   "execution_count": 9,
   "id": "56896cca-8319-4250-8fba-cf5c6b501411",
   "metadata": {},
   "outputs": [
    {
     "name": "stdout",
     "output_type": "stream",
     "text": [
      "<class 'reversed'>\n",
      "<reversed object at 0x000001F360AA1DB0>\n",
      "(10, 20, 30, 40)\n",
      "(40, 30, 20, 10)\n"
     ]
    }
   ],
   "source": [
    "t = (10,20,30,40)\n",
    "r = reversed(t)\n",
    "print(type(r))      # <class 'list_reverseiterator'>\n",
    "print(r)            # <list_reverseiterator object at 0x000000000021A4F98>\n",
    "\n",
    "newReversedTuple = tuple(r)\n",
    "\n",
    "print(t)                       # (10,20,30,40)\n",
    "print(newReversedTuple)        # (40,30,20,10)"
   ]
  },
  {
   "cell_type": "code",
   "execution_count": 10,
   "id": "c396e3cd-1092-44ac-a7f6-bfd6f5a96a5d",
   "metadata": {},
   "outputs": [
    {
     "name": "stdout",
     "output_type": "stream",
     "text": [
      "n\n",
      "a\n",
      "r\n",
      "i\n",
      "k\n"
     ]
    }
   ],
   "source": [
    "s = \"kiran\"\n",
    "r = reversed(s)\n",
    "for x in r:\n",
    "  print(x)        # n a r i k"
   ]
  },
  {
   "cell_type": "markdown",
   "id": "16286c81-0e0b-409a-b2ca-b333c35f0968",
   "metadata": {},
   "source": [
    "# sorted( ) in-built function"
   ]
  },
  {
   "cell_type": "markdown",
   "id": "4ea843d3-d8da-4443-92c6-4eae797d56e8",
   "metadata": {},
   "source": [
    "The **`sorted( )`** python in-built function applicable for any type of sequence ( `string`, `list`, `tuple`, `set`, `dictionary` )\n",
    "\n",
    "It creates and returns a new **sorted list** object and we need to **explicitly convert it to a tuple**.\n",
    "\n",
    "The return type is the **list**."
   ]
  },
  {
   "cell_type": "code",
   "execution_count": 11,
   "id": "0d31aaaf-b0ee-4464-8c3f-c6d88bedc780",
   "metadata": {},
   "outputs": [
    {
     "name": "stdout",
     "output_type": "stream",
     "text": [
      "(20, 10, 30, 40)\n",
      "[10, 20, 30, 40]\n",
      "(10, 20, 30, 40)\n"
     ]
    }
   ],
   "source": [
    "t1 = (20,10,30,40)\n",
    "l = sorted(t1)\n",
    "t2 = tuple(l)\n",
    "\n",
    "print(t1)   # (20,10,30,40)\n",
    "print(l)    # [10,20,30,40]\n",
    "print(t2)   # (10,20,30,40)"
   ]
  },
  {
   "cell_type": "markdown",
   "id": "13d96923-4bdc-432e-ad7d-3a932dda7dc1",
   "metadata": {},
   "source": [
    "> **NOTE**:\n",
    "> * The **`sorted( )`** function always sort elements based on the default natural sorting order.\n",
    "> * To sort according to the reverse of the **default natural sorting order**, we need to use **`reverse`** attribute."
   ]
  },
  {
   "cell_type": "code",
   "execution_count": 12,
   "id": "d34cc39d-8091-45c7-bb21-a5f057ac4f7b",
   "metadata": {},
   "outputs": [
    {
     "name": "stdout",
     "output_type": "stream",
     "text": [
      "[40, 30, 20, 10]\n"
     ]
    }
   ],
   "source": [
    "t=(40,10,30,20)\n",
    "t1 = sorted(t, reverse = True)\n",
    "print(t1)     # (40,30,20,10)"
   ]
  },
  {
   "cell_type": "markdown",
   "id": "678a5086-e416-4960-988e-7e6e2f2f8ba6",
   "metadata": {},
   "source": [
    "# min( ) & max( ) in-built functions"
   ]
  },
  {
   "cell_type": "markdown",
   "id": "99de561d-e6b2-4aa6-9db0-652b6512b69c",
   "metadata": {},
   "source": [
    "These functions return min and max values according to the default natural sorting order."
   ]
  },
  {
   "cell_type": "code",
   "execution_count": 13,
   "id": "2a0ae77f-117e-4b7b-9769-431e76ff494e",
   "metadata": {},
   "outputs": [
    {
     "name": "stdout",
     "output_type": "stream",
     "text": [
      "10\n",
      "40\n"
     ]
    }
   ],
   "source": [
    "t = (40,10,30,20)\n",
    "\n",
    "print(min(t))   # 10\n",
    "print(max(t))   # 40"
   ]
  },
  {
   "cell_type": "code",
   "execution_count": null,
   "id": "4105cf1f-2311-4f4c-88a9-77912f10e875",
   "metadata": {},
   "outputs": [],
   "source": []
  }
 ],
 "metadata": {
  "kernelspec": {
   "display_name": "Python 3 (ipykernel)",
   "language": "python",
   "name": "python3"
  },
  "language_info": {
   "codemirror_mode": {
    "name": "ipython",
    "version": 3
   },
   "file_extension": ".py",
   "mimetype": "text/x-python",
   "name": "python",
   "nbconvert_exporter": "python",
   "pygments_lexer": "ipython3",
   "version": "3.12.5"
  }
 },
 "nbformat": 4,
 "nbformat_minor": 5
}
