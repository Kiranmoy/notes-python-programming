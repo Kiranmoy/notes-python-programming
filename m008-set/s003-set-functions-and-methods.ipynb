{
 "cells": [
  {
   "cell_type": "markdown",
   "id": "1d5ea580-8652-4597-9522-30bdc27186d4",
   "metadata": {},
   "source": [
    "**`Functions`** → Python in-built functions\n",
    "\n",
    "**`Methods`** → Object-specific functions"
   ]
  },
  {
   "cell_type": "markdown",
   "id": "8245c2a0-42d4-4d5f-8690-3967c960db22",
   "metadata": {},
   "source": [
    "# len( ) in-built function"
   ]
  },
  {
   "cell_type": "markdown",
   "id": "6e684b20-0236-47fd-86c0-10386b59eb2b",
   "metadata": {},
   "source": [
    "To return the number of elements present in the set."
   ]
  },
  {
   "cell_type": "code",
   "execution_count": 1,
   "id": "ab92d55d-b132-46d1-b7c1-fe887369cf0d",
   "metadata": {},
   "outputs": [
    {
     "name": "stdout",
     "output_type": "stream",
     "text": [
      "4\n"
     ]
    }
   ],
   "source": [
    " s = {10,20,30,40}\n",
    " print(len(s))      # 4"
   ]
  },
  {
   "cell_type": "markdown",
   "id": "ed9ca1d4-d0af-492a-9943-3a73dffa4900",
   "metadata": {},
   "source": [
    "# add( ) method"
   ]
  },
  {
   "cell_type": "markdown",
   "id": "ee067692-b6cf-41c5-be0c-d4da9ea83ddb",
   "metadata": {},
   "source": [
    "**SYNTAX:** **`add(x)`** → Adds item x to the set. "
   ]
  },
  {
   "cell_type": "code",
   "execution_count": 3,
   "id": "6895a72b-adc9-46c1-a7e2-43e0c9045cfd",
   "metadata": {},
   "outputs": [
    {
     "name": "stdout",
     "output_type": "stream",
     "text": [
      "{40, 10, 20, 30}\n"
     ]
    }
   ],
   "source": [
    "s={10,20,30}\n",
    "s.add(40)\n",
    "print(s)     # {40, 10, 20, 30}"
   ]
  },
  {
   "cell_type": "markdown",
   "id": "ddf6f2ee-c450-4050-9ead-2ccf4a8d64a9",
   "metadata": {},
   "source": [
    "# update( ) method"
   ]
  },
  {
   "cell_type": "markdown",
   "id": "8a70444e-509e-4fce-9db3-d382c24461ec",
   "metadata": {},
   "source": [
    "* **`update(x,y,z, …)`**  → Add multiple items to the set.\n",
    "* Any number of arguments is allowed but all of them should be **iterable**.\n",
    "* Arguments are not individual elements, these are **Iterable** objects like `list`, `range`, etc.\n",
    "* All elements present in the given **Iterable** objects will be added to the set."
   ]
  },
  {
   "cell_type": "code",
   "execution_count": 4,
   "id": "8c15dc6d-3bd2-4881-89e5-9b17c56625a4",
   "metadata": {},
   "outputs": [
    {
     "name": "stdout",
     "output_type": "stream",
     "text": [
      "{0, 1, 2, 3, 4, 40, 10, 50, 20, 60, 30}\n"
     ]
    }
   ],
   "source": [
    "s = {10,20,30}\n",
    "l = [40,50,60,10]\n",
    "s.update(l,range(5))\n",
    "print(s)              # {0, 1, 2, 3, 4, 40, 10, 50, 20, 60, 30}"
   ]
  },
  {
   "cell_type": "code",
   "execution_count": 6,
   "id": "5240eb96-f2bd-4fe8-8a07-264d6f0d78a0",
   "metadata": {},
   "outputs": [
    {
     "name": "stdout",
     "output_type": "stream",
     "text": [
      "{1, 2, 3, 4, 5, 'a', 40, 'i', 10, 'n', 20, 'k', 'r', 30}\n"
     ]
    }
   ],
   "source": [
    "s = {10,20,30, 40}\n",
    "s.update(range(1,6), \"kiran\")\n",
    "print(s)    # {1, 2, 3, 4, 40, 10, 20, 30, 'k', 'i', 'r', 'a', 'n' }"
   ]
  },
  {
   "attachments": {
    "a6088e69-65ea-4c76-9077-325cf65a83a5.png": {
     "image/png": "[encoded data removed]"
    }
   },
   "cell_type": "markdown",
   "id": "94baad4a-4f6e-4355-9f40-c64362888699",
   "metadata": {},
   "source": [
    "**What is the difference between `add( )` and `update( )` functions in Set?**\n",
    "\n",
    "![image.png](attachment:a6088e69-65ea-4c76-9077-325cf65a83a5.png)"
   ]
  },
  {
   "cell_type": "markdown",
   "id": "b6c8db6d-e5b4-484c-8afc-555a94bb680a",
   "metadata": {},
   "source": [
    "**Which of the following are valid for `set s`?**"
   ]
  },
  {
   "cell_type": "markdown",
   "id": "00423cf8-9592-4d63-8d10-dd7b63a183cf",
   "metadata": {},
   "source": [
    "```\n",
    "s = set()                        \n",
    "s.add(10)            # VALID\n",
    "s.add(10,20,30)      # TypeError: add() takes exactly one argument (3 given)\n",
    "s.update(10)         # TypeError: 'int' object is not iterable\n",
    "\n",
    "s.update(range(1,10,2),range(0,10,2))   # VALID\n",
    "```"
   ]
  },
  {
   "cell_type": "markdown",
   "id": "0095d911-1ac9-4c0c-88ae-1f34eec00890",
   "metadata": {},
   "source": [
    "# remove( ) method"
   ]
  },
  {
   "cell_type": "markdown",
   "id": "d6981da3-2dcf-4382-9128-4801b7e83bf3",
   "metadata": {},
   "source": [
    "* **`remove(x)`**  → It removes specified element from the set. \n",
    "* If the specified element not present in the Set then we will get **KeyError**."
   ]
  },
  {
   "cell_type": "code",
   "execution_count": 9,
   "id": "26a9dbe9-6908-44dd-b1bb-5fb3d10673b7",
   "metadata": {},
   "outputs": [
    {
     "name": "stdout",
     "output_type": "stream",
     "text": [
      "{40, 10, 20}\n"
     ]
    }
   ],
   "source": [
    "s = {40, 10, 30, 20}\n",
    "s.remove(30)\n",
    "print (s)     # {40, 10, 20}"
   ]
  },
  {
   "cell_type": "code",
   "execution_count": 10,
   "id": "153909fc-b2b9-4f32-aae5-5310ff2c91f7",
   "metadata": {},
   "outputs": [
    {
     "ename": "KeyError",
     "evalue": "50",
     "output_type": "error",
     "traceback": [
      "\u001b[1;31m---------------------------------------------------------------------------\u001b[0m",
      "\u001b[1;31mKeyError\u001b[0m                                  Traceback (most recent call last)",
      "Cell \u001b[1;32mIn[10], line 1\u001b[0m\n\u001b[1;32m----> 1\u001b[0m \u001b[43ms\u001b[49m\u001b[38;5;241;43m.\u001b[39;49m\u001b[43mremove\u001b[49m\u001b[43m(\u001b[49m\u001b[38;5;241;43m50\u001b[39;49m\u001b[43m)\u001b[49m  \u001b[38;5;66;03m#  KeyError: 50\u001b[39;00m\n",
      "\u001b[1;31mKeyError\u001b[0m: 50"
     ]
    }
   ],
   "source": [
    "s.remove(50)  #  KeyError: 50"
   ]
  },
  {
   "cell_type": "markdown",
   "id": "f92d782c-551c-48d6-971b-15009656fe85",
   "metadata": {},
   "source": [
    "# discard( ) method"
   ]
  },
  {
   "cell_type": "markdown",
   "id": "1faf7f40-0007-40a2-9bf4-87bbb21b4cc9",
   "metadata": {},
   "source": [
    "* **`discard(x)`** → It removes the specified element from the set.\n",
    "* If the specified element is not present in the set then we won't raise any error. "
   ]
  },
  {
   "cell_type": "code",
   "execution_count": 11,
   "id": "0f740756-a3d5-4a13-ba0c-bf458a1e0a8c",
   "metadata": {},
   "outputs": [
    {
     "name": "stdout",
     "output_type": "stream",
     "text": [
      "{40, 10, 20}\n",
      "{40, 10, 20}\n"
     ]
    }
   ],
   "source": [
    "s = {40, 10, 30, 20}\n",
    "s.discard(30)\n",
    "print (s)     # {40, 10, 20}\n",
    "\n",
    "s.discard(50) # No KeyError\n",
    "print (s)     # {40, 10, 20}"
   ]
  },
  {
   "cell_type": "markdown",
   "id": "97b74717-fe6d-4f21-bc64-e83a746dff26",
   "metadata": {},
   "source": [
    "# pop( ) method"
   ]
  },
  {
   "cell_type": "markdown",
   "id": "26a957fd-06ed-49eb-89fd-8dff77721c6f",
   "metadata": {},
   "source": [
    "It removes and returns some **random** element from the set - which element will be removed, we’re not sure."
   ]
  },
  {
   "cell_type": "code",
   "execution_count": 12,
   "id": "cd8bea79-4bda-4d7e-99fa-c2107864d7c9",
   "metadata": {},
   "outputs": [
    {
     "name": "stdout",
     "output_type": "stream",
     "text": [
      "{40, 10, 20, 30}\n",
      "40\n",
      "{10, 20, 30}\n"
     ]
    }
   ],
   "source": [
    "s={40,10,30,20}\n",
    "print(s)          # {40, 10, 20, 30}\n",
    "print(s.pop())    # 40\n",
    "print(s)          # {10, 20, 30}"
   ]
  },
  {
   "cell_type": "markdown",
   "id": "f71a1134-b55b-4a3e-bf87-df5be5067cc9",
   "metadata": {},
   "source": [
    "If we try to remove an element from an empty set using the **`pop( )`** method then we’ll get **KeyError**."
   ]
  },
  {
   "cell_type": "code",
   "execution_count": 13,
   "id": "167a757d-3170-421b-9e0c-3ac50d24fd52",
   "metadata": {},
   "outputs": [
    {
     "ename": "KeyError",
     "evalue": "'pop from an empty set'",
     "output_type": "error",
     "traceback": [
      "\u001b[1;31m---------------------------------------------------------------------------\u001b[0m",
      "\u001b[1;31mKeyError\u001b[0m                                  Traceback (most recent call last)",
      "Cell \u001b[1;32mIn[13], line 2\u001b[0m\n\u001b[0;32m      1\u001b[0m s \u001b[38;5;241m=\u001b[39m \u001b[38;5;28mset\u001b[39m()\n\u001b[1;32m----> 2\u001b[0m \u001b[38;5;28mprint\u001b[39m(\u001b[43ms\u001b[49m\u001b[38;5;241;43m.\u001b[39;49m\u001b[43mpop\u001b[49m\u001b[43m(\u001b[49m\u001b[43m)\u001b[49m)      \u001b[38;5;66;03m# KeyError: 'pop from an empty set'\u001b[39;00m\n",
      "\u001b[1;31mKeyError\u001b[0m: 'pop from an empty set'"
     ]
    }
   ],
   "source": [
    "s = set()\n",
    "print(s.pop())      # KeyError: 'pop from an empty set'"
   ]
  },
  {
   "cell_type": "markdown",
   "id": "71b6a3bb-b606-453e-80f9-f95cf2630492",
   "metadata": {},
   "source": [
    "# clear( ) method"
   ]
  },
  {
   "cell_type": "markdown",
   "id": "6c344c77-f709-4e42-bcf1-4b2505fe4fb2",
   "metadata": {},
   "source": [
    "To remove all elements from the Set."
   ]
  },
  {
   "cell_type": "code",
   "execution_count": 14,
   "id": "52438649-d2af-49cf-9b0b-66f9461dc3d3",
   "metadata": {},
   "outputs": [
    {
     "name": "stdout",
     "output_type": "stream",
     "text": [
      "{10, 20, 30}\n",
      "set()\n"
     ]
    }
   ],
   "source": [
    "s={10,20,30}\n",
    "print(s)      # {10, 20, 30}\n",
    "s.clear()\n",
    "print(s)      # set()"
   ]
  },
  {
   "cell_type": "code",
   "execution_count": null,
   "id": "bac4e680-28af-4bd1-988c-98be921bd42d",
   "metadata": {},
   "outputs": [],
   "source": []
  }
 ],
 "metadata": {
  "kernelspec": {
   "display_name": "Python 3 (ipykernel)",
   "language": "python",
   "name": "python3"
  },
  "language_info": {
   "codemirror_mode": {
    "name": "ipython",
    "version": 3
   },
   "file_extension": ".py",
   "mimetype": "text/x-python",
   "name": "python",
   "nbconvert_exporter": "python",
   "pygments_lexer": "ipython3",
   "version": "3.12.5"
  }
 },
 "nbformat": 4,
 "nbformat_minor": 5
}
