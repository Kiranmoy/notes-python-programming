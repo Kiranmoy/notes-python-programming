{
 "cells": [
  {
   "cell_type": "markdown",
   "id": "d4298026-4d96-47b9-b174-710b73b6a8ae",
   "metadata": {},
   "source": [
    "# union( ) method"
   ]
  },
  {
   "cell_type": "markdown",
   "id": "c06416fd-171d-4f32-8420-cd7b9dbfcce0",
   "metadata": {},
   "source": [
    "* **`x.union(y)`** OR **`x | y`**.\n",
    "* The **`union( )`** method combines the unique elements of both sets into a new set object and return the new set."
   ]
  },
  {
   "cell_type": "code",
   "execution_count": 1,
   "id": "74f3630a-f214-42e1-acf8-15745908a762",
   "metadata": {},
   "outputs": [
    {
     "name": "stdout",
     "output_type": "stream",
     "text": [
      "{40, 10, 50, 20, 60, 30}\n",
      "{40, 10, 50, 20, 60, 30}\n"
     ]
    }
   ],
   "source": [
    "x = {10, 20, 30, 40}\n",
    "y = {30, 40, 50, 60}\n",
    "\n",
    "print (x.union(y))      # {10, 20, 30, 40, 50, 60}\n",
    "print (x|y)             # {10, 20, 30, 40, 50, 60}"
   ]
  },
  {
   "cell_type": "markdown",
   "id": "d1a58f00-6d50-4633-b006-7a3c781ba38c",
   "metadata": {},
   "source": [
    "# intersection( ) method"
   ]
  },
  {
   "cell_type": "markdown",
   "id": "6c85ce02-898c-4302-ac1f-3d33adeb746f",
   "metadata": {},
   "source": [
    "* **`x.intersection(y)`** OR **`x & y`**.\n",
    "* Returns common elements present in both set objects."
   ]
  },
  {
   "cell_type": "code",
   "execution_count": 3,
   "id": "f28d9a81-c3f6-42bd-ba58-986b35ecd049",
   "metadata": {},
   "outputs": [
    {
     "name": "stdout",
     "output_type": "stream",
     "text": [
      "{40, 30}\n",
      "{40, 30}\n"
     ]
    }
   ],
   "source": [
    "x = {10, 20, 30, 40}\n",
    "y = {30, 40, 50, 60}\n",
    "\n",
    "print (x.intersection(y))     # {40, 30}\n",
    "print(x&y)                    # {40, 30}"
   ]
  },
  {
   "cell_type": "markdown",
   "id": "22374127-abf5-463d-9133-908e92e31d08",
   "metadata": {},
   "source": [
    "# difference( ) method"
   ]
  },
  {
   "cell_type": "markdown",
   "id": "b63aa483-b905-4db7-a199-067fe5e6dfb1",
   "metadata": {},
   "source": [
    "* **`x.difference(y)`** OR **`x - y`**.\n",
    "* Returns the elements present in set `x` but not in set `y`."
   ]
  },
  {
   "cell_type": "code",
   "execution_count": 4,
   "id": "c7075408-4b69-4083-986f-af480ae4b48a",
   "metadata": {},
   "outputs": [
    {
     "name": "stdout",
     "output_type": "stream",
     "text": [
      "{10, 20}\n",
      "{10, 20}\n",
      "{50, 60}\n"
     ]
    }
   ],
   "source": [
    "x = {10, 20, 30, 40}\n",
    "y = {30, 40, 50, 60}\n",
    "\n",
    "print (x.difference(y))       # {10, 20}\n",
    "print(x-y)                    # {10, 20}\n",
    "print(y-x)                    # {50, 60}"
   ]
  },
  {
   "cell_type": "markdown",
   "id": "bb4de3a2-ef74-4173-9ff6-c9d5d8ee7232",
   "metadata": {},
   "source": [
    "# symmetric_difference( ) method"
   ]
  },
  {
   "cell_type": "markdown",
   "id": "02ec5623-964e-4ace-be32-d5e47f1823dc",
   "metadata": {},
   "source": [
    "* **`x.symmetric_difference(y)`** OR **`x ^ y`**.\n",
    "* Returns elements present in either `x` OR `y` but not in both."
   ]
  },
  {
   "cell_type": "code",
   "execution_count": 6,
   "id": "ae410ce4-cfce-4fa5-9a90-9b9be3b303bf",
   "metadata": {},
   "outputs": [
    {
     "name": "stdout",
     "output_type": "stream",
     "text": [
      "{10, 50, 20, 60}\n",
      "{10, 50, 20, 60}\n"
     ]
    }
   ],
   "source": [
    "x = {10, 20, 30, 40}\n",
    "y = {30, 40, 50, 60}\n",
    "\n",
    "print (x.symmetric_difference(y))       # {10, 50, 20, 60}\n",
    "print(x^y)                              # {10, 50, 20, 60}"
   ]
  },
  {
   "cell_type": "code",
   "execution_count": null,
   "id": "5d374d70-3c00-4ef3-907d-c581f281e2f3",
   "metadata": {},
   "outputs": [],
   "source": []
  }
 ],
 "metadata": {
  "kernelspec": {
   "display_name": "Python 3 (ipykernel)",
   "language": "python",
   "name": "python3"
  },
  "language_info": {
   "codemirror_mode": {
    "name": "ipython",
    "version": 3
   },
   "file_extension": ".py",
   "mimetype": "text/x-python",
   "name": "python",
   "nbconvert_exporter": "python",
   "pygments_lexer": "ipython3",
   "version": "3.12.5"
  }
 },
 "nbformat": 4,
 "nbformat_minor": 5
}
