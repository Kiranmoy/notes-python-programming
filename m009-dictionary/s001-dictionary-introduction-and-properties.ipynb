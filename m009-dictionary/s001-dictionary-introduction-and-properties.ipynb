{
 "cells": [
  {
   "cell_type": "markdown",
   "id": "807f1225-5041-4875-8aa3-973cf5ed4e59",
   "metadata": {},
   "source": [
    "# Dictionary Properties"
   ]
  },
  {
   "cell_type": "markdown",
   "id": "f8a73b6a-8981-414e-bf28-4096c1de055a",
   "metadata": {},
   "source": [
    "* We can use a `list`, `tuple`, and `set` to represent a **group of individual objects as a single entity**.\n",
    "* If we want to represent a **group of objects as key-value pairs** then we should go for a **dictionary**.\n",
    "* Duplicate keys are not allowed but values can be duplicated.\n",
    "* Heterogeneous objects are allowed for both keys and values.\n",
    "* Insertion order is not preserved → Hence, indexing and slicing concepts are not applicable.\n",
    "* Dictionaries are mutable.\n",
    "* Dictionaries are dynamic.\n",
    "\n",
    "> **NOTE**: In C++ and Java dictionaries are known as \"Map\" where as in Perl and Ruby it is known as \"Hash\"."
   ]
  },
  {
   "cell_type": "markdown",
   "id": "0b785f23-3a11-40bd-a9f9-05c1c3b7b2ea",
   "metadata": {},
   "source": [
    "***Duplicate keys are not allowed but values can be duplicated.*** \n",
    "\n",
    "If we try to add a duplicate key then the value of the existing key will get updated with a new value."
   ]
  },
  {
   "cell_type": "code",
   "execution_count": 1,
   "id": "69b5b84b-9be1-41df-b8e3-11f8db9e1e62",
   "metadata": {},
   "outputs": [
    {
     "name": "stdout",
     "output_type": "stream",
     "text": [
      "{100: 'Ravi', 200: 'moy', 300: 'paul', 'salary': 1000}\n"
     ]
    }
   ],
   "source": [
    "d = { 100:'Kiran', 200: 'moy', 300: 'paul', 'salary': 1000}\n",
    "d[100] = 'Ravi'\n",
    "print(d)    # { 100:'Ravi', 200: 'moy', 300: 'paul', 'salary': 1000}"
   ]
  },
  {
   "cell_type": "markdown",
   "id": "27ca038a-0287-4612-a352-168221cc52c6",
   "metadata": {},
   "source": [
    "# Dictionary Creation"
   ]
  },
  {
   "cell_type": "code",
   "execution_count": 2,
   "id": "d3add9f1-7ba3-4d8b-a42c-4e39c66a5aa0",
   "metadata": {},
   "outputs": [
    {
     "name": "stdout",
     "output_type": "stream",
     "text": [
      "<class 'dict'>\n",
      "{100: 'kiran', 200: 'paul'}\n"
     ]
    }
   ],
   "source": [
    "d = {100:'kiran', 200:'paul'}\n",
    "print(type(d))                  # <class 'dict'>\n",
    "print(d)                        # {100:'kiran', 200:'paul'}"
   ]
  },
  {
   "cell_type": "markdown",
   "id": "6f14c3cf-f591-42b0-8f95-c470b6d508ed",
   "metadata": {},
   "source": [
    "# From other collections by using dict( ) in-built python function"
   ]
  },
  {
   "cell_type": "code",
   "execution_count": 3,
   "id": "0585403a-3b35-40ae-aed7-ddfd2d0f9b16",
   "metadata": {},
   "outputs": [
    {
     "name": "stdout",
     "output_type": "stream",
     "text": [
      "{100: 'a', 200: 'b', 300: 'c'}\n"
     ]
    }
   ],
   "source": [
    "l = [(100,'a'),(200,'b'),(300,'c')]       # List of Tuples\n",
    "d = dict(l)\n",
    "print(d)      # { 100:'a', 200:'b', 300:'c'}"
   ]
  },
  {
   "cell_type": "markdown",
   "id": "79cbb7b2-5531-49d8-8af3-e5af18e4020f",
   "metadata": {},
   "source": [
    "> **NOTE:**\n",
    "> \n",
    "> Possible collections that can be converted to dictionary are:\n",
    "> * **List of tuples**: Each tuple should contain only `2` values that can be a key-value pair.\n",
    "> * **Tuple of tuples**: Each tuple should contain only `2` values that can be a key-value pair.\n",
    "> * **Set of tuples**: Each tuple should contain only `2` values that can be a key-value pair.\n",
    "> * **List of lists**: Each list should contain only `2` values that can be a key-value pair.\n",
    "> * **Tuple of lists**: Each list should contain only `2` values that can be a key-value pair.\n",
    "> * **Set of lists**: Since list are not hashable, they cannot be the element of set.\n",
    "\n",
    "Each Internal object should contain exactly two elements that can be a key-value pair.\n",
    "\n",
    "If not → it will throw **`ValueError`**: dictionary update sequence element # has length 3; 2 is required."
   ]
  },
  {
   "cell_type": "code",
   "execution_count": 4,
   "id": "11d274d3-09db-4be4-94ff-f2d26f04a74c",
   "metadata": {},
   "outputs": [
    {
     "ename": "ValueError",
     "evalue": "dictionary update sequence element #0 has length 3; 2 is required",
     "output_type": "error",
     "traceback": [
      "\u001b[1;31m---------------------------------------------------------------------------\u001b[0m",
      "\u001b[1;31mValueError\u001b[0m                                Traceback (most recent call last)",
      "Cell \u001b[1;32mIn[4], line 2\u001b[0m\n\u001b[0;32m      1\u001b[0m l \u001b[38;5;241m=\u001b[39m [(\u001b[38;5;241m100\u001b[39m,\u001b[38;5;124m'\u001b[39m\u001b[38;5;124ma\u001b[39m\u001b[38;5;124m'\u001b[39m, \u001b[38;5;241m1\u001b[39m),(\u001b[38;5;241m200\u001b[39m,\u001b[38;5;124m'\u001b[39m\u001b[38;5;124mb\u001b[39m\u001b[38;5;124m'\u001b[39m),(\u001b[38;5;241m300\u001b[39m,\u001b[38;5;124m'\u001b[39m\u001b[38;5;124mc\u001b[39m\u001b[38;5;124m'\u001b[39m)]       \u001b[38;5;66;03m# List of Tuples\u001b[39;00m\n\u001b[1;32m----> 2\u001b[0m d \u001b[38;5;241m=\u001b[39m \u001b[38;5;28;43mdict\u001b[39;49m\u001b[43m(\u001b[49m\u001b[43ml\u001b[49m\u001b[43m)\u001b[49m \u001b[38;5;66;03m# ValueError: dinctionary update sequence element #0 has length 3; 2 is required.\u001b[39;00m\n",
      "\u001b[1;31mValueError\u001b[0m: dictionary update sequence element #0 has length 3; 2 is required"
     ]
    }
   ],
   "source": [
    "l = [(100,'a', 1),(200,'b'),(300,'c')]       # List of Tuples\n",
    "d = dict(l) # ValueError: dinctionary update sequence element #0 has length 3; 2 is required."
   ]
  },
  {
   "cell_type": "markdown",
   "id": "f8a41184-f378-4db0-a6d0-8f519fb3fa2c",
   "metadata": {},
   "source": [
    "# By using dynamic Input"
   ]
  },
  {
   "cell_type": "markdown",
   "id": "f6937471-7819-49ea-9650-2efeaef4c242",
   "metadata": {},
   "source": [
    "The **`input( )`** function always returns the string type. we need to explicitly convert it to a set object using **`eval( )`** function."
   ]
  },
  {
   "cell_type": "code",
   "execution_count": 5,
   "id": "6bd09be0-e0c2-4b0d-8ac2-7b3670c11f5f",
   "metadata": {},
   "outputs": [
    {
     "name": "stdin",
     "output_type": "stream",
     "text": [
      "Enter dictionay elements:  {100: 'Kiran'}\n"
     ]
    },
    {
     "name": "stdout",
     "output_type": "stream",
     "text": [
      "{100: 'Kiran'}\n"
     ]
    }
   ],
   "source": [
    "d = eval ( input('Enter dictionay elements: ') )   # Enter dictionay elements: {100: 'Kiran'}\n",
    "print(d)                                           # {100: 'Kiran'}"
   ]
  },
  {
   "cell_type": "markdown",
   "id": "4761254e-a7c9-48ac-8320-96c11b21d1ba",
   "metadata": {},
   "source": [
    "# Empty Dictionary"
   ]
  },
  {
   "cell_type": "markdown",
   "id": "4f3eed5f-1aba-4b89-b16a-ac6dd2d29920",
   "metadata": {},
   "source": [
    "**`d = { }`** OR **`d = dict( )`**"
   ]
  },
  {
   "cell_type": "code",
   "execution_count": 6,
   "id": "b95a8a3f-cf1d-4634-b184-ab8752294adb",
   "metadata": {},
   "outputs": [
    {
     "name": "stdout",
     "output_type": "stream",
     "text": [
      "<class 'dict'>\n",
      "<class 'dict'>\n",
      "{100: 'durga', 200: 'ravi', 300: 'shiva'}\n"
     ]
    }
   ],
   "source": [
    "d = {}\n",
    "print(type(d))    # <class 'dict'>\n",
    "\n",
    "d = dict()\n",
    "print(type(d))    # <class 'dict'>\n",
    "\n",
    "d[100]=\"durga\"\n",
    "d[200]=\"ravi\"\n",
    "d[300]=\"shiva\"\n",
    "\n",
    "print(d)          # {100: 'durga', 200: 'ravi', 300: 'shiva'}"
   ]
  },
  {
   "cell_type": "code",
   "execution_count": null,
   "id": "1cf4f62c-60f7-4cc5-973b-076a042116a0",
   "metadata": {},
   "outputs": [],
   "source": []
  }
 ],
 "metadata": {
  "kernelspec": {
   "display_name": "Python 3 (ipykernel)",
   "language": "python",
   "name": "python3"
  },
  "language_info": {
   "codemirror_mode": {
    "name": "ipython",
    "version": 3
   },
   "file_extension": ".py",
   "mimetype": "text/x-python",
   "name": "python",
   "nbconvert_exporter": "python",
   "pygments_lexer": "ipython3",
   "version": "3.12.5"
  }
 },
 "nbformat": 4,
 "nbformat_minor": 5
}
