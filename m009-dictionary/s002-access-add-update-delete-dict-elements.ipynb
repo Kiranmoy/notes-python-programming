{
 "cells": [
  {
   "cell_type": "markdown",
   "id": "0b706104-3e62-46fb-aa41-0c09456b5c04",
   "metadata": {},
   "source": [
    "# Access elements of the dictionary"
   ]
  },
  {
   "cell_type": "markdown",
   "id": "4c3734de-12fd-48d9-b121-1190b256dfa1",
   "metadata": {},
   "source": [
    "* We can access data by using keys.\n",
    "* If the specified key is not available then we will get **`KeyError`**.\n",
    "* We can prevent this by checking whether the key is already available or not by using **`in`** operator."
   ]
  },
  {
   "cell_type": "code",
   "execution_count": 2,
   "id": "43cedeae-d1d2-4867-a67a-05de47370e8f",
   "metadata": {},
   "outputs": [
    {
     "name": "stdout",
     "output_type": "stream",
     "text": [
      "durga\n",
      "shiva\n"
     ]
    }
   ],
   "source": [
    "d = {100:'durga',200:'ravi', 300:'shiva'}\n",
    "print(d[100])   # durga\n",
    "print(d[300])   # shiva\n",
    "\n",
    "if 400 in d:\n",
    "  print(d[400])"
   ]
  },
  {
   "cell_type": "code",
   "execution_count": 3,
   "id": "6da06194-af70-499f-a5c2-2279d8a6e811",
   "metadata": {},
   "outputs": [
    {
     "ename": "KeyError",
     "evalue": "400",
     "output_type": "error",
     "traceback": [
      "\u001b[1;31m---------------------------------------------------------------------------\u001b[0m",
      "\u001b[1;31mKeyError\u001b[0m                                  Traceback (most recent call last)",
      "Cell \u001b[1;32mIn[3], line 1\u001b[0m\n\u001b[1;32m----> 1\u001b[0m \u001b[38;5;28mprint\u001b[39m(\u001b[43md\u001b[49m\u001b[43m[\u001b[49m\u001b[38;5;241;43m400\u001b[39;49m\u001b[43m]\u001b[49m)   \u001b[38;5;66;03m# KeyError: 400\u001b[39;00m\n",
      "\u001b[1;31mKeyError\u001b[0m: 400"
     ]
    }
   ],
   "source": [
    "print(d[400])   # KeyError: 400"
   ]
  },
  {
   "cell_type": "markdown",
   "id": "563e1ee1-a30d-4c41-b854-a48dbf35b74b",
   "metadata": {},
   "source": [
    "# Add / Update elements of the dictionary"
   ]
  },
  {
   "cell_type": "markdown",
   "id": "084cf43c-0d4a-4c3b-9030-ea759808014b",
   "metadata": {},
   "source": [
    "* **SYNTAX** → `d[key] = value`\n",
    "* If the key is not available then a new entry will be added to the dictionary with the specified key-value pair.\n",
    "* If the key is already available then the old value will be replaced with the new value."
   ]
  },
  {
   "cell_type": "code",
   "execution_count": 4,
   "id": "748a8826-d4c1-4341-822c-1a8e19ff981b",
   "metadata": {},
   "outputs": [
    {
     "name": "stdout",
     "output_type": "stream",
     "text": [
      "{100: 'durga', 200: 'ravi', 300: 'shiva'}\n",
      "{100: 'durga', 200: 'ravi', 300: 'shiva', 400: 'pavan'}\n",
      "{100: 'sunny', 200: 'ravi', 300: 'shiva', 400: 'pavan'}\n"
     ]
    }
   ],
   "source": [
    "d={100:\"durga\",200:\"ravi\",300:\"shiva\"}\n",
    "\n",
    "print(d)            # {100: 'durga', 200: 'ravi', 300: 'shiva'}\n",
    "\n",
    "d[400]=\"pavan\"\n",
    "print(d)            # {100: 'durga', 200: 'ravi', 300: 'shiva', 400: 'pavan'}\n",
    "\n",
    "d[100]=\"sunny\"\n",
    "print(d)            # {100: 'sunny', 200: 'ravi', 300: 'shiva', 400: 'pavan'}"
   ]
  },
  {
   "cell_type": "markdown",
   "id": "b0c667d6-d44c-44ae-86cf-52d964823ca7",
   "metadata": {},
   "source": [
    "# Delete elements of the dictionary"
   ]
  },
  {
   "cell_type": "markdown",
   "id": "85268fe2-3c69-4152-8113-d8ce475079f1",
   "metadata": {},
   "source": [
    "## Using the del keyword to delete specific dictionary element"
   ]
  },
  {
   "cell_type": "markdown",
   "id": "c0fb9891-770f-4b9e-a6a2-f52f2579e6b9",
   "metadata": {},
   "source": [
    "* **`del d[key]`**\n",
    "* It deletes an entry associated with the specified key.\n",
    "* If the key is not available then we will get **KeyError**."
   ]
  },
  {
   "cell_type": "code",
   "execution_count": 6,
   "id": "0abe8668-ff17-4380-a804-0dd135113ce4",
   "metadata": {},
   "outputs": [
    {
     "name": "stdout",
     "output_type": "stream",
     "text": [
      "{100: 'durga', 200: 'ravi', 300: 'shiva'}\n",
      "{300: 'shiva'}\n",
      "{}\n"
     ]
    }
   ],
   "source": [
    "d={100:\"durga\",200:\"ravi\",300:\"shiva\"}\n",
    "\n",
    "print(d)      # {100: 'durga', 200: 'ravi', 300: 'shiva'}\n",
    "\n",
    "del d[100], d[200]\n",
    "print(d)      # {300: 'shiva'}\n",
    "\n",
    "del d[300]\n",
    "print(d)      # {}"
   ]
  },
  {
   "cell_type": "code",
   "execution_count": 7,
   "id": "19ca309d-3dfd-48e8-9895-9a3cf30936ac",
   "metadata": {},
   "outputs": [
    {
     "ename": "KeyError",
     "evalue": "400",
     "output_type": "error",
     "traceback": [
      "\u001b[1;31m---------------------------------------------------------------------------\u001b[0m",
      "\u001b[1;31mKeyError\u001b[0m                                  Traceback (most recent call last)",
      "Cell \u001b[1;32mIn[7], line 1\u001b[0m\n\u001b[1;32m----> 1\u001b[0m \u001b[38;5;28;01mdel\u001b[39;00m \u001b[43md\u001b[49m\u001b[43m[\u001b[49m\u001b[38;5;241;43m400\u001b[39;49m\u001b[43m]\u001b[49m    \u001b[38;5;66;03m# KeyError: 400\u001b[39;00m\n",
      "\u001b[1;31mKeyError\u001b[0m: 400"
     ]
    }
   ],
   "source": [
    "del d[400]    # KeyError: 400"
   ]
  },
  {
   "cell_type": "markdown",
   "id": "f3fd4271-e334-42d5-aea3-d8af7e8c0b45",
   "metadata": {},
   "source": [
    "## Using clear( ) method"
   ]
  },
  {
   "cell_type": "markdown",
   "id": "4fdcb23d-6077-48a6-bc47-c8bad82e5d8b",
   "metadata": {},
   "source": [
    "The **`clear( )`** method removes all entries from the dictionary. "
   ]
  },
  {
   "cell_type": "code",
   "execution_count": 8,
   "id": "cb6a4d2e-3a0d-457f-906a-5e988483476f",
   "metadata": {},
   "outputs": [
    {
     "name": "stdout",
     "output_type": "stream",
     "text": [
      "{100: 'durga', 200: 'ravi', 300: 'shiva'}\n",
      "{}\n"
     ]
    }
   ],
   "source": [
    "d = {100:\"durga\",200:\"ravi\",300:\"shiva\"}\n",
    "\n",
    "print(d)    # {100:\"durga\",200:\"ravi\",300:\"shiva\"}\n",
    "\n",
    "d.clear()\n",
    "print(d)    # {}"
   ]
  },
  {
   "cell_type": "markdown",
   "id": "2d144b51-8aea-4708-87ce-b3b347a3b4ee",
   "metadata": {},
   "source": [
    "## Delete the entire dictionary object"
   ]
  },
  {
   "cell_type": "markdown",
   "id": "6382c959-820e-4634-845d-eda40bbab0e2",
   "metadata": {},
   "source": [
    "* **`del d`**\n",
    "* deletes the entire dictionary object.\n",
    "* Now we cannot access d. \n",
    "* If we try to access the dictionary object, we’ll get **NameError**."
   ]
  },
  {
   "cell_type": "code",
   "execution_count": 9,
   "id": "0caaa678-1f1d-410c-a8ce-9fdca787f917",
   "metadata": {},
   "outputs": [
    {
     "name": "stdout",
     "output_type": "stream",
     "text": [
      "{100: 'durga', 200: 'ravi', 300: 'shiva'}\n"
     ]
    },
    {
     "ename": "NameError",
     "evalue": "name 'd' is not defined",
     "output_type": "error",
     "traceback": [
      "\u001b[1;31m---------------------------------------------------------------------------\u001b[0m",
      "\u001b[1;31mNameError\u001b[0m                                 Traceback (most recent call last)",
      "Cell \u001b[1;32mIn[9], line 6\u001b[0m\n\u001b[0;32m      3\u001b[0m \u001b[38;5;28mprint\u001b[39m(d)    \u001b[38;5;66;03m# {100:\"durga\",200:\"ravi\",300:\"shiva\"}\u001b[39;00m\n\u001b[0;32m      5\u001b[0m \u001b[38;5;28;01mdel\u001b[39;00m d\n\u001b[1;32m----> 6\u001b[0m \u001b[38;5;28mprint\u001b[39m(\u001b[43md\u001b[49m)    \u001b[38;5;66;03m# NameError: name 'd' is not defined\u001b[39;00m\n",
      "\u001b[1;31mNameError\u001b[0m: name 'd' is not defined"
     ]
    }
   ],
   "source": [
    "d = {100:\"durga\",200:\"ravi\",300:\"shiva\"}\n",
    "\n",
    "print(d)    # {100:\"durga\",200:\"ravi\",300:\"shiva\"}\n",
    "\n",
    "del d\n",
    "print(d)    # NameError: name 'd' is not defined"
   ]
  },
  {
   "cell_type": "code",
   "execution_count": null,
   "id": "4cfa289a-a47e-4716-a28a-3e088e90fe94",
   "metadata": {},
   "outputs": [],
   "source": []
  }
 ],
 "metadata": {
  "kernelspec": {
   "display_name": "Python 3 (ipykernel)",
   "language": "python",
   "name": "python3"
  },
  "language_info": {
   "codemirror_mode": {
    "name": "ipython",
    "version": 3
   },
   "file_extension": ".py",
   "mimetype": "text/x-python",
   "name": "python",
   "nbconvert_exporter": "python",
   "pygments_lexer": "ipython3",
   "version": "3.12.5"
  }
 },
 "nbformat": 4,
 "nbformat_minor": 5
}
