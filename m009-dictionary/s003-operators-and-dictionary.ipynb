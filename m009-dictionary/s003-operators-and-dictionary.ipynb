{
 "cells": [
  {
   "cell_type": "markdown",
   "id": "e77b218c-b307-461a-881a-dfea560d85c4",
   "metadata": {},
   "source": [
    "# Mathematical Operators( +, * )"
   ]
  },
  {
   "cell_type": "markdown",
   "id": "3d0d9879-ceb8-4e94-8989-0da20ad9afb8",
   "metadata": {},
   "source": [
    "Mathematical operators are not applicable to dictionary objects."
   ]
  },
  {
   "cell_type": "code",
   "execution_count": 1,
   "id": "02174881-e538-4b42-8853-5bcc63bfd120",
   "metadata": {},
   "outputs": [],
   "source": [
    "d1 = {100: 'A', 200: 'B'}\n",
    "d2 = {300: 'C', 400: 'D'}"
   ]
  },
  {
   "cell_type": "code",
   "execution_count": 2,
   "id": "cb374742-a607-443e-ae12-8334ca46d83e",
   "metadata": {},
   "outputs": [
    {
     "ename": "TypeError",
     "evalue": "unsupported operand type(s) for +: 'dict' and 'dict'",
     "output_type": "error",
     "traceback": [
      "\u001b[1;31m---------------------------------------------------------------------------\u001b[0m",
      "\u001b[1;31mTypeError\u001b[0m                                 Traceback (most recent call last)",
      "Cell \u001b[1;32mIn[2], line 1\u001b[0m\n\u001b[1;32m----> 1\u001b[0m d3 \u001b[38;5;241m=\u001b[39m \u001b[43md1\u001b[49m\u001b[43m \u001b[49m\u001b[38;5;241;43m+\u001b[39;49m\u001b[43m \u001b[49m\u001b[43md2\u001b[49m    \u001b[38;5;66;03m# TypeError: unsupported operand type(s) for +: 'dict' and 'dict'\u001b[39;00m\n",
      "\u001b[1;31mTypeError\u001b[0m: unsupported operand type(s) for +: 'dict' and 'dict'"
     ]
    }
   ],
   "source": [
    "d3 = d1 + d2    # TypeError: unsupported operand type(s) for +: 'dict' and 'dict'"
   ]
  },
  {
   "cell_type": "code",
   "execution_count": 3,
   "id": "7d03b41c-1f17-41a6-8a5b-a581b22c8e1f",
   "metadata": {},
   "outputs": [
    {
     "ename": "TypeError",
     "evalue": "unsupported operand type(s) for *: 'dict' and 'int'",
     "output_type": "error",
     "traceback": [
      "\u001b[1;31m---------------------------------------------------------------------------\u001b[0m",
      "\u001b[1;31mTypeError\u001b[0m                                 Traceback (most recent call last)",
      "Cell \u001b[1;32mIn[3], line 1\u001b[0m\n\u001b[1;32m----> 1\u001b[0m d4 \u001b[38;5;241m=\u001b[39m \u001b[43md1\u001b[49m\u001b[43m \u001b[49m\u001b[38;5;241;43m*\u001b[39;49m\u001b[43m \u001b[49m\u001b[38;5;241;43m3\u001b[39;49m     \u001b[38;5;66;03m# TypeError: unsupported operand type(s) for *: 'dict' and 'int'\u001b[39;00m\n",
      "\u001b[1;31mTypeError\u001b[0m: unsupported operand type(s) for *: 'dict' and 'int'"
     ]
    }
   ],
   "source": [
    "d4 = d1 * 3     # TypeError: unsupported operand type(s) for *: 'dict' and 'int'"
   ]
  },
  {
   "cell_type": "markdown",
   "id": "2893ec1f-80a9-4744-a93c-48b8924e89f1",
   "metadata": {},
   "source": [
    "# Equality Operators( ==, != )"
   ]
  },
  {
   "cell_type": "markdown",
   "id": "799a4525-e3ed-402f-8be5-b1573d041381",
   "metadata": {},
   "source": [
    "For **`==`** operators, two dictionaries are equal, if they both contain\n",
    "* the same number of elements\n",
    "* the same key-value pairs\n",
    "* order is not important"
   ]
  },
  {
   "cell_type": "code",
   "execution_count": 4,
   "id": "e63aeff0-8389-49c2-92e2-e294ff386639",
   "metadata": {},
   "outputs": [
    {
     "name": "stdout",
     "output_type": "stream",
     "text": [
      "False\n",
      "True\n",
      "True\n"
     ]
    }
   ],
   "source": [
    "d1 = {100: 'A', 200: 'B'}\n",
    "d2 = {300: 'C', 400: 'D'}\n",
    "d3 = {200: 'B', 100: 'A'}\n",
    "\n",
    "print(d1 == d2)     # False\n",
    "print(d1 != d2)     # True\n",
    "\n",
    "print(d1 == d3)     # True"
   ]
  },
  {
   "cell_type": "markdown",
   "id": "58cc7b07-4d6a-4a94-83f4-0255da8c76b3",
   "metadata": {},
   "source": [
    "# Relational Operators( >, >=, <, <= )"
   ]
  },
  {
   "cell_type": "markdown",
   "id": "8fcbee70-a3ab-43c8-9090-d1b5a482a3a6",
   "metadata": {},
   "source": [
    "Relational operators are not applicable to dictionary objects."
   ]
  },
  {
   "cell_type": "code",
   "execution_count": 5,
   "id": "de43d50d-e6f5-42d7-ab71-d204c2f8f49a",
   "metadata": {},
   "outputs": [],
   "source": [
    "d1 = {100: 'A', 200: 'B'}\n",
    "d2 = {300: 'C', 400: 'D'}"
   ]
  },
  {
   "cell_type": "code",
   "execution_count": 6,
   "id": "d4707363-0695-4f23-bc86-c6a144f90d48",
   "metadata": {},
   "outputs": [
    {
     "ename": "TypeError",
     "evalue": "'>' not supported between instances of 'dict' and 'dict'",
     "output_type": "error",
     "traceback": [
      "\u001b[1;31m---------------------------------------------------------------------------\u001b[0m",
      "\u001b[1;31mTypeError\u001b[0m                                 Traceback (most recent call last)",
      "Cell \u001b[1;32mIn[6], line 1\u001b[0m\n\u001b[1;32m----> 1\u001b[0m \u001b[38;5;28mprint\u001b[39m(\u001b[43md1\u001b[49m\u001b[43m \u001b[49m\u001b[38;5;241;43m>\u001b[39;49m\u001b[43m \u001b[49m\u001b[43md2\u001b[49m)    \u001b[38;5;66;03m# TypeError: '>' not supported between instances of 'dict' and 'dict'\u001b[39;00m\n",
      "\u001b[1;31mTypeError\u001b[0m: '>' not supported between instances of 'dict' and 'dict'"
     ]
    }
   ],
   "source": [
    "print(d1 > d2)    # TypeError: '>' not supported between instances of 'dict' and 'dict'"
   ]
  },
  {
   "cell_type": "code",
   "execution_count": 7,
   "id": "f8361934-ceac-4a4c-848a-eb3cf160de9c",
   "metadata": {},
   "outputs": [
    {
     "ename": "TypeError",
     "evalue": "'<' not supported between instances of 'dict' and 'dict'",
     "output_type": "error",
     "traceback": [
      "\u001b[1;31m---------------------------------------------------------------------------\u001b[0m",
      "\u001b[1;31mTypeError\u001b[0m                                 Traceback (most recent call last)",
      "Cell \u001b[1;32mIn[7], line 1\u001b[0m\n\u001b[1;32m----> 1\u001b[0m \u001b[38;5;28mprint\u001b[39m(\u001b[43md1\u001b[49m\u001b[43m \u001b[49m\u001b[38;5;241;43m<\u001b[39;49m\u001b[43m \u001b[49m\u001b[43md2\u001b[49m)    \u001b[38;5;66;03m# TypeError: '<' not supported between instances of 'dict' and 'dict'\u001b[39;00m\n",
      "\u001b[1;31mTypeError\u001b[0m: '<' not supported between instances of 'dict' and 'dict'"
     ]
    }
   ],
   "source": [
    "print(d1 < d2)    # TypeError: '<' not supported between instances of 'dict' and 'dict'"
   ]
  },
  {
   "cell_type": "markdown",
   "id": "f01ed84a-8613-4c47-8242-7fbfe643254f",
   "metadata": {},
   "source": [
    "# Membership Operators "
   ]
  },
  {
   "cell_type": "markdown",
   "id": "aa967119-3006-4af4-b30f-8864cd794d04",
   "metadata": {},
   "source": [
    "We can check only whether the key is a member of the dictionary or not by using membership operators.\n",
    "* **`in`** Operator\n",
    "* **`not in`** Operator\n",
    "\n",
    "> ***NOTE**: Membership operator only checks for keys, not values.*"
   ]
  },
  {
   "cell_type": "code",
   "execution_count": 8,
   "id": "d71e090b-2fe1-4387-aac5-7500b8b792f6",
   "metadata": {},
   "outputs": [
    {
     "name": "stdout",
     "output_type": "stream",
     "text": [
      "True\n",
      "False\n",
      "False\n"
     ]
    }
   ],
   "source": [
    "d1 = {100: 'A', 200: 'B'}\n",
    "\n",
    "print(100 in d1)    # True\n",
    "print(300 in d1)    # False\n",
    "\n",
    "print('A' in d1)    # False"
   ]
  },
  {
   "cell_type": "code",
   "execution_count": null,
   "id": "16cb297f-1659-4bbf-b98f-dde523036e3d",
   "metadata": {},
   "outputs": [],
   "source": []
  }
 ],
 "metadata": {
  "kernelspec": {
   "display_name": "Python 3 (ipykernel)",
   "language": "python",
   "name": "python3"
  },
  "language_info": {
   "codemirror_mode": {
    "name": "ipython",
    "version": 3
   },
   "file_extension": ".py",
   "mimetype": "text/x-python",
   "name": "python",
   "nbconvert_exporter": "python",
   "pygments_lexer": "ipython3",
   "version": "3.12.5"
  }
 },
 "nbformat": 4,
 "nbformat_minor": 5
}
