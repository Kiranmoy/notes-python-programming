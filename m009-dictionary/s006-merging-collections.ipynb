{
 "cells": [
  {
   "cell_type": "markdown",
   "id": "6faec112-6162-4dc8-ad78-ecdfc1580d8f",
   "metadata": {},
   "source": [
    "# List Merging"
   ]
  },
  {
   "cell_type": "code",
   "execution_count": 1,
   "id": "f62ed4fc-b4b7-4b21-8954-56eac422ddaa",
   "metadata": {},
   "outputs": [
    {
     "name": "stdout",
     "output_type": "stream",
     "text": [
      "[10, 20, 30, 40]\n",
      "[10, 20, 30, 40]\n"
     ]
    }
   ],
   "source": [
    "l1 = [10, 20]\n",
    "l2 = [30, 40]\n",
    "\n",
    "# WAY 1\n",
    "l3 = l1 + l2\n",
    "print(l3)       # [10, 20, 30, 40]\n",
    "\n",
    "# WAY 2\n",
    "l4 = [ *l1, *l2 ]\n",
    "print(l4)       # [10, 20, 30, 40]"
   ]
  },
  {
   "cell_type": "markdown",
   "id": "61fbe58b-a716-4dcc-9fb7-5674d174e6eb",
   "metadata": {},
   "source": [
    "# Tuple Merging"
   ]
  },
  {
   "cell_type": "code",
   "execution_count": 2,
   "id": "054832fd-2ba2-4803-9b3f-3a2fb7763fcd",
   "metadata": {},
   "outputs": [
    {
     "name": "stdout",
     "output_type": "stream",
     "text": [
      "(10, 20, 30, 40)\n",
      "(10, 20, 30, 40)\n"
     ]
    }
   ],
   "source": [
    "t1 = (10, 20)\n",
    "t2 = (30, 40)\n",
    "\n",
    "# WAY 1\n",
    "t3 = t1 + t2\n",
    "print(t3)       # (10, 20, 30, 40)\n",
    "\n",
    "# WAY 2\n",
    "t4 = ( *t1, *t2 )\n",
    "print(t4)       # (10, 20, 30, 40)"
   ]
  },
  {
   "cell_type": "markdown",
   "id": "62aaa717-fc34-4c26-8e6c-3ae231204626",
   "metadata": {},
   "source": [
    "# Set Merging"
   ]
  },
  {
   "cell_type": "code",
   "execution_count": 3,
   "id": "b19e247d-98c4-4c13-af26-4df8d0c6bc4b",
   "metadata": {},
   "outputs": [
    {
     "name": "stdout",
     "output_type": "stream",
     "text": [
      "{50, 20, 40, 10, 30}\n"
     ]
    }
   ],
   "source": [
    "s1 = {10, 20, 50}\n",
    "s2 = {30, 40, 50}\n",
    "\n",
    "# WAY 1\n",
    "s3 = { *s1, *s2 }\n",
    "print(s3)       # {10, 20, 30, 40, 50}"
   ]
  },
  {
   "cell_type": "code",
   "execution_count": 4,
   "id": "a7bf746d-5b26-44a6-a241-cae1ffbc36c3",
   "metadata": {},
   "outputs": [
    {
     "ename": "TypeError",
     "evalue": "unsupported operand type(s) for +: 'set' and 'set'",
     "output_type": "error",
     "traceback": [
      "\u001b[1;31m---------------------------------------------------------------------------\u001b[0m",
      "\u001b[1;31mTypeError\u001b[0m                                 Traceback (most recent call last)",
      "Cell \u001b[1;32mIn[4], line 1\u001b[0m\n\u001b[1;32m----> 1\u001b[0m s3 \u001b[38;5;241m=\u001b[39m \u001b[43ms1\u001b[49m\u001b[43m \u001b[49m\u001b[38;5;241;43m+\u001b[39;49m\u001b[43m \u001b[49m\u001b[43ms2\u001b[49m    \u001b[38;5;66;03m# TypeError: unsupported operand type(s) for +: 'set' and 'set'\u001b[39;00m\n",
      "\u001b[1;31mTypeError\u001b[0m: unsupported operand type(s) for +: 'set' and 'set'"
     ]
    }
   ],
   "source": [
    "s3 = s1 + s2    # TypeError: unsupported operand type(s) for +: 'set' and 'set'"
   ]
  },
  {
   "cell_type": "markdown",
   "id": "53074db8-174f-4e8b-b276-390792fc66d3",
   "metadata": {},
   "source": [
    "# Dictionary Merging"
   ]
  },
  {
   "cell_type": "code",
   "execution_count": 6,
   "id": "65474bd3-ebc7-4bd0-8a5e-ab0fcf3e8082",
   "metadata": {},
   "outputs": [
    {
     "name": "stdout",
     "output_type": "stream",
     "text": [
      "{100: 'E', 200: 'B', 300: 'C', 400: 'D'}\n"
     ]
    }
   ],
   "source": [
    "d1 = {100: 'A', 200: 'B'}\n",
    "d2 = {300: 'C', 400: 'D', 100: 'E'}\n",
    "\n",
    "# WAY 1\n",
    "d3 = { **d1, **d2 }\n",
    "print(d3)             # {100: 'E', 200: 'B', 300: 'C', 400: 'D}"
   ]
  },
  {
   "cell_type": "code",
   "execution_count": 7,
   "id": "4b97dc29-507f-4463-bcc2-9da450873a31",
   "metadata": {},
   "outputs": [
    {
     "ename": "TypeError",
     "evalue": "unsupported operand type(s) for +: 'dict' and 'dict'",
     "output_type": "error",
     "traceback": [
      "\u001b[1;31m---------------------------------------------------------------------------\u001b[0m",
      "\u001b[1;31mTypeError\u001b[0m                                 Traceback (most recent call last)",
      "Cell \u001b[1;32mIn[7], line 1\u001b[0m\n\u001b[1;32m----> 1\u001b[0m d3 \u001b[38;5;241m=\u001b[39m \u001b[43md1\u001b[49m\u001b[43m \u001b[49m\u001b[38;5;241;43m+\u001b[39;49m\u001b[43m \u001b[49m\u001b[43md2\u001b[49m          \u001b[38;5;66;03m# TypeError: unsupported operand type(s) for +: 'dict' and 'dict'\u001b[39;00m\n",
      "\u001b[1;31mTypeError\u001b[0m: unsupported operand type(s) for +: 'dict' and 'dict'"
     ]
    }
   ],
   "source": [
    "d3 = d1 + d2          # TypeError: unsupported operand type(s) for +: 'dict' and 'dict'"
   ]
  },
  {
   "cell_type": "markdown",
   "id": "61aa424c-9c9d-4db8-bf7c-98c00f1f6629",
   "metadata": {},
   "source": [
    "> **NOTE:** If a duplicate key is there, then the old value (**`**d1`**) will be replaced by the new value (**`**d2`**)."
   ]
  },
  {
   "cell_type": "code",
   "execution_count": null,
   "id": "299a047d-c724-4d1d-bafd-d5c5c5def8b2",
   "metadata": {},
   "outputs": [],
   "source": []
  }
 ],
 "metadata": {
  "kernelspec": {
   "display_name": "Python 3 (ipykernel)",
   "language": "python",
   "name": "python3"
  },
  "language_info": {
   "codemirror_mode": {
    "name": "ipython",
    "version": 3
   },
   "file_extension": ".py",
   "mimetype": "text/x-python",
   "name": "python",
   "nbconvert_exporter": "python",
   "pygments_lexer": "ipython3",
   "version": "3.12.5"
  }
 },
 "nbformat": 4,
 "nbformat_minor": 5
}
