{
 "cells": [
  {
   "cell_type": "markdown",
   "id": "84c33f98-de1a-4d7d-b15f-8e16885a958c",
   "metadata": {},
   "source": [
    "# Need & advantages of function"
   ]
  },
  {
   "cell_type": "markdown",
   "id": "0eea7bcd-9d23-4b5c-8b61-95660096167c",
   "metadata": {},
   "source": [
    "* If a group of statements is repeatedly required then it is not recommended to write these statements every time separately. We have to define these statements as a **single unit** and we can call that unit any number of times based on our requirement without writing. **This unit is nothing but function**.\n",
    "* A function is a sequence of statements/instructions that performs a particular task. A function is like a black box that can take certain input(s) as its parameters and can output a value after performing a few operations on the parameters. \n",
    "* The main advantage of functions is **Code Reusability**.\n",
    "* Other advantages are:\n",
    "    * **Neat code**: A code containing functions is concise and easy to read.\n",
    "    * **Modularisation**:  Functions help in modularizing code. Modularization means dividing the code into smaller modules, each performing a specific task.\n",
    "    * **Easy Debugging**:  It is easy to find and correct errors in a function as compared to raw code.\n",
    "\n",
    "> ***Note**: In other languages, functions are known as methods, procedures, subroutines, etc.*"
   ]
  },
  {
   "cell_type": "markdown",
   "id": "65af6399-9c9e-42e0-b4c5-4edfd3533a18",
   "metadata": {},
   "source": [
    "# Declaring function"
   ]
  },
  {
   "attachments": {
    "f824ee4f-9823-47af-92c5-19154293d5c2.png": {
     "image/png": "[encoded data removed]"
    }
   },
   "cell_type": "markdown",
   "id": "bd17c836-c606-4e56-8a97-fb1cc7c96cd0",
   "metadata": {},
   "source": [
    "A function, once defined, can be invoked as many times as needed by using its name, without having to rewrite its code.\n",
    "\n",
    "**SYNTAX:**\n",
    "\n",
    "![image.png](attachment:f824ee4f-9823-47af-92c5-19154293d5c2.png)\n",
    "\n",
    "* Function blocks begin with the keyword **`def`** followed by the **function name** and **`parentheses( )`**.\n",
    "* The input **parameters** and **arguments** should be placed within these parentheses. You can also define parameters inside these parentheses.\n",
    "* The first statement of a function is optional - the documentation string of the function or **docstring**. The **docstring** describes the functionality of a function.\n",
    "* The code block within every function starts with a **colon ( : )** and is indented. All statements within the same code block are at the same indentation level.\n",
    "* The return statement exits a function, optionally passing back an expression/value to the function caller.\n",
    "\n",
    "> ***NOTE**: In python, you need not need to specify the return type → that is, the data type of the value returned by the function.*"
   ]
  },
  {
   "cell_type": "code",
   "execution_count": 1,
   "id": "58509115-f78a-4085-b234-32943fc5cd37",
   "metadata": {},
   "outputs": [],
   "source": [
    "# Declaring function\n",
    "def add(a,b):\n",
    "  return a + b"
   ]
  },
  {
   "cell_type": "markdown",
   "id": "7a4e35ef-a8a5-44df-a43a-2a02fff456e7",
   "metadata": {},
   "source": [
    "## Calling/Invoking function"
   ]
  },
  {
   "cell_type": "markdown",
   "id": "460ffebc-42f5-4259-aba1-e3eba57722d2",
   "metadata": {},
   "source": [
    "The function definition does not execute the function body. The function gets executed only when it is called or invoked. To call the above function we can write:"
   ]
  },
  {
   "cell_type": "code",
   "execution_count": 2,
   "id": "420171f3-eb7e-4847-ae18-4639b191a12f",
   "metadata": {},
   "outputs": [
    {
     "name": "stdout",
     "output_type": "stream",
     "text": [
      "12\n"
     ]
    }
   ],
   "source": [
    "print(add(5,7))  # 12"
   ]
  },
  {
   "cell_type": "markdown",
   "id": "11094264-c267-465e-9e76-5a6201343492",
   "metadata": {},
   "source": [
    "## Arguments and parameters"
   ]
  },
  {
   "cell_type": "markdown",
   "id": "40f1e4c6-8e07-4afd-93f4-251a21c4b86c",
   "metadata": {},
   "source": [
    "* **Arguments**: The values being passed to the function from the function call statement are called arguments. Example → `5` and `7` are arguments to the **`add( )`** function.\n",
    "* **Parameters**: The values received by the function as inputs are called parameters. Example → `a` and `b` are the parameters of the **`add( )`** function."
   ]
  },
  {
   "cell_type": "markdown",
   "id": "9c9e2c9e-c985-4e9e-baf7-6a3c351d4a23",
   "metadata": {},
   "source": [
    "# Types of functions"
   ]
  },
  {
   "cell_type": "markdown",
   "id": "5e6542a5-bab6-48ba-b162-771085dfe65e",
   "metadata": {},
   "source": [
    "Python supports 2 types of functions:\n",
    "* Built-in Functions\n",
    "* User Defined Functions"
   ]
  },
  {
   "cell_type": "markdown",
   "id": "2b015aad-1f44-42e0-8712-4480cc40cc41",
   "metadata": {},
   "source": [
    "## Built-in Functions"
   ]
  },
  {
   "cell_type": "markdown",
   "id": "d5e13344-3bbd-4ade-9c09-b5554172e97a",
   "metadata": {},
   "source": [
    "The functions which are coming along with python software automatically, are called **built-in functions** or **pre-defined functions**.\n",
    "\n",
    "**Example**:\n",
    "* **`id( )`**\n",
    "* **`type( )`**\n",
    "* **`input( )`**\n",
    "* **`eval( )`**, etc. "
   ]
  },
  {
   "cell_type": "markdown",
   "id": "c51e1ec6-b02c-40ba-a9cf-92276078381b",
   "metadata": {},
   "source": [
    "## User Defined Functions"
   ]
  },
  {
   "cell_type": "markdown",
   "id": "0b5e2b64-c503-4a1e-bbd3-f2455ef729bc",
   "metadata": {},
   "source": [
    "The functions which are developed by programmers explicitly according to business requirements are called **user-defined functions** or **custom functions**.\n",
    "\n",
    "**Syntax**:"
   ]
  },
  {
   "cell_type": "code",
   "execution_count": 3,
   "id": "dab22873-5c75-44cb-984e-42469f95114d",
   "metadata": {},
   "outputs": [],
   "source": [
    "def function_name(parameters):\n",
    "  \"\"\" doc string\"\"\"\n",
    "  # BODY\n",
    "  return value"
   ]
  },
  {
   "cell_type": "markdown",
   "id": "8b00c293-f43a-4419-b468-ac459153c620",
   "metadata": {},
   "source": [
    "**NOTE:**\n",
    "\n",
    "While creating functions we can use 2 keywords:\n",
    "* **`def`** → mandatory\n",
    "* **`return`** → optional"
   ]
  },
  {
   "cell_type": "markdown",
   "id": "8020f7a4-82f4-4f67-8c10-87499c3474ae",
   "metadata": {},
   "source": [
    "**Example:**"
   ]
  },
  {
   "cell_type": "code",
   "execution_count": 4,
   "id": "38e895b9-2f4d-4366-86a2-95c912afa026",
   "metadata": {},
   "outputs": [
    {
     "name": "stdout",
     "output_type": "stream",
     "text": [
      "Hello Good Morning\n",
      "Hello Good Morning\n"
     ]
    }
   ],
   "source": [
    "def wish():\n",
    "  print(\"Hello Good Morning\")\n",
    "  \n",
    "wish()    # Hello Good Morning\n",
    "wish()    # Hello Good Morning"
   ]
  },
  {
   "cell_type": "code",
   "execution_count": null,
   "id": "dcbe421f-6afa-4618-a1c4-845139ec7d3d",
   "metadata": {},
   "outputs": [],
   "source": []
  }
 ],
 "metadata": {
  "kernelspec": {
   "display_name": "Python 3 (ipykernel)",
   "language": "python",
   "name": "python3"
  },
  "language_info": {
   "codemirror_mode": {
    "name": "ipython",
    "version": 3
   },
   "file_extension": ".py",
   "mimetype": "text/x-python",
   "name": "python",
   "nbconvert_exporter": "python",
   "pygments_lexer": "ipython3",
   "version": "3.12.5"
  }
 },
 "nbformat": 4,
 "nbformat_minor": 5
}
