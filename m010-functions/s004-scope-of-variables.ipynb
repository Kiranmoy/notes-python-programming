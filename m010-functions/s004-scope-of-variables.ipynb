{
 "cells": [
  {
   "cell_type": "markdown",
   "id": "8cfdf5be-6dd1-4ced-aaff-8107a20a8d89",
   "metadata": {},
   "source": [
    "# Scope of Variables"
   ]
  },
  {
   "cell_type": "markdown",
   "id": "7aae3adb-29d0-4ab8-9d5b-6509fc6f356a",
   "metadata": {},
   "source": [
    "All variables in a program may not be accessible at all locations in that program. \n",
    "\n",
    "Part(s) of the program within which the variable name is legal and accessible, is called the **scope of the variable**. \n",
    "\n",
    "A variable will only be visible to and accessible by the code blocks in its scope.\n",
    "\n",
    "There are broadly two kinds of scopes in Python:\n",
    "* Global Scope (Global Variables)\n",
    "* Local Scope (Local Variables)"
   ]
  },
  {
   "cell_type": "markdown",
   "id": "c35790b3-5532-41f5-847c-01930b146c75",
   "metadata": {},
   "source": [
    "# Global Scope"
   ]
  },
  {
   "cell_type": "markdown",
   "id": "1288aaa1-7360-4b71-9645-7072863736e9",
   "metadata": {},
   "source": [
    "A variable or name declared in the top-level segment **(__main__)** of a program is said to have a global scope and is usable inside the whole program - can be accessed from anywhere in the program.\n",
    "\n",
    "In python, a variable declared outside a function is known as a global variable. This means that a global variable can be accessed from inside or outside of the function."
   ]
  },
  {
   "cell_type": "markdown",
   "id": "8e0890ee-c4e7-4161-9e52-ba9aaf034854",
   "metadata": {},
   "source": [
    "## Creating global variables"
   ]
  },
  {
   "cell_type": "markdown",
   "id": "5c383d1a-f04a-4199-a7e6-824ec1a5ff4b",
   "metadata": {},
   "source": [
    "The variables which are declared **outside of the function** are called **global variables**.\n",
    "\n",
    "These variables can be **accessed in all functions of that module** (**.py** file)."
   ]
  },
  {
   "cell_type": "code",
   "execution_count": null,
   "id": "91b29ebb-f9b0-4970-9d9d-afb16de4bd7e",
   "metadata": {},
   "outputs": [],
   "source": [
    "a = 10    # global variable\n",
    "\n",
    "def f1():\n",
    "  print(a)\n",
    "  \n",
    "def f2():\n",
    "  print(a)\n",
    "  \n",
    "f1()      # 10\n",
    "f2()      # 10"
   ]
  },
  {
   "cell_type": "markdown",
   "id": "04037b3a-00f2-4e86-809c-f599b9ad6545",
   "metadata": {},
   "source": [
    "Here we created a global variable **“a = 10”**. Then we created a function f1 & f2 and print the value of the global variable from inside the function. Thus we can conclude that we can access a global variable from inside any function."
   ]
  },
  {
   "cell_type": "markdown",
   "id": "7d6498ba-768c-4bfc-927c-bcb69b272b60",
   "metadata": {},
   "source": [
    "**What if we want to change the value of a Global variable from inside a function?**"
   ]
  },
  {
   "cell_type": "code",
   "execution_count": 3,
   "id": "05a0017a-533f-4605-be78-071109619cc4",
   "metadata": {},
   "outputs": [
    {
     "name": "stdout",
     "output_type": "stream",
     "text": [
      "10\n"
     ]
    }
   ],
   "source": [
    "a = 10    # global variable\n",
    "\n",
    "def f1():\n",
    "  print(a)\n",
    "  \n",
    "def f2():\n",
    "  a = a-1\n",
    "  print(a)\n",
    "  \n",
    "f1()      # 10"
   ]
  },
  {
   "cell_type": "code",
   "execution_count": 4,
   "id": "d129eaa3-077e-4879-b779-e2a16ae66cb2",
   "metadata": {},
   "outputs": [
    {
     "ename": "UnboundLocalError",
     "evalue": "cannot access local variable 'a' where it is not associated with a value",
     "output_type": "error",
     "traceback": [
      "\u001b[1;31m---------------------------------------------------------------------------\u001b[0m",
      "\u001b[1;31mUnboundLocalError\u001b[0m                         Traceback (most recent call last)",
      "Cell \u001b[1;32mIn[4], line 1\u001b[0m\n\u001b[1;32m----> 1\u001b[0m \u001b[43mf2\u001b[49m\u001b[43m(\u001b[49m\u001b[43m)\u001b[49m      \u001b[38;5;66;03m# UnboundLocalError: local variable 'a' referenced before assignment\u001b[39;00m\n",
      "Cell \u001b[1;32mIn[3], line 7\u001b[0m, in \u001b[0;36mf2\u001b[1;34m()\u001b[0m\n\u001b[0;32m      6\u001b[0m \u001b[38;5;28;01mdef\u001b[39;00m \u001b[38;5;21mf2\u001b[39m():\n\u001b[1;32m----> 7\u001b[0m   a \u001b[38;5;241m=\u001b[39m \u001b[43ma\u001b[49m\u001b[38;5;241m-\u001b[39m\u001b[38;5;241m1\u001b[39m\n\u001b[0;32m      8\u001b[0m   \u001b[38;5;28mprint\u001b[39m(a)\n",
      "\u001b[1;31mUnboundLocalError\u001b[0m: cannot access local variable 'a' where it is not associated with a value"
     ]
    }
   ],
   "source": [
    "f2()      # UnboundLocalError: local variable 'a' referenced before assignment"
   ]
  },
  {
   "cell_type": "markdown",
   "id": "2aa0db4e-5786-4cdc-95c9-f058fd03b099",
   "metadata": {},
   "source": [
    "Here we tried to update the value of the global variable **'a'** and got the **'UnboundLocalError'** exception.\n",
    "\n",
    "This happens when the command **`a=a-1`** is interpreted. Python treats this **“a”** as a local variable and we have not defined any local variable **“a”** inside the function **f2( )**.\n",
    "\n",
    "**Solution**: use the **global keyword**."
   ]
  },
  {
   "cell_type": "markdown",
   "id": "3218384e-24fc-460d-824d-4b54651c0648",
   "metadata": {},
   "source": [
    "# Local Scope"
   ]
  },
  {
   "cell_type": "markdown",
   "id": "6f3e2ed2-aded-42ad-a484-f27f85b840bd",
   "metadata": {},
   "source": [
    "The variables which are defined inside a function body have a local scope. This implies that local variables can be accessed only inside the function in which they are declared."
   ]
  },
  {
   "cell_type": "markdown",
   "id": "865bfaa4-c3c8-4930-87e8-81f8a51bb23a",
   "metadata": {},
   "source": [
    "## Creating local variables"
   ]
  },
  {
   "cell_type": "markdown",
   "id": "0c41691a-f7fd-4e86-83db-477c1bf74b59",
   "metadata": {},
   "source": [
    "The variables which are declared **inside a function** are called **local variables**.\n",
    "\n",
    "Local variables are available only for the function in which we declared it.\n",
    "\n",
    "That is, from outside of function we cannot access."
   ]
  },
  {
   "cell_type": "code",
   "execution_count": 7,
   "id": "b9413813-2d29-4117-964f-a5f17ab40790",
   "metadata": {},
   "outputs": [
    {
     "name": "stdout",
     "output_type": "stream",
     "text": [
      "10\n"
     ]
    },
    {
     "ename": "NameError",
     "evalue": "name 'x' is not defined",
     "output_type": "error",
     "traceback": [
      "\u001b[1;31m---------------------------------------------------------------------------\u001b[0m",
      "\u001b[1;31mNameError\u001b[0m                                 Traceback (most recent call last)",
      "Cell \u001b[1;32mIn[7], line 9\u001b[0m\n\u001b[0;32m      6\u001b[0m   \u001b[38;5;28mprint\u001b[39m(x)        \u001b[38;5;66;03m# invalid | NameError: name 'a' is not defined\u001b[39;00m\n\u001b[0;32m      8\u001b[0m f1()      \u001b[38;5;66;03m# 10\u001b[39;00m\n\u001b[1;32m----> 9\u001b[0m \u001b[43mf2\u001b[49m\u001b[43m(\u001b[49m\u001b[43m)\u001b[49m      \u001b[38;5;66;03m# NameError: name 'a' is not defined\u001b[39;00m\n",
      "Cell \u001b[1;32mIn[7], line 6\u001b[0m, in \u001b[0;36mf2\u001b[1;34m()\u001b[0m\n\u001b[0;32m      5\u001b[0m \u001b[38;5;28;01mdef\u001b[39;00m \u001b[38;5;21mf2\u001b[39m():\n\u001b[1;32m----> 6\u001b[0m   \u001b[38;5;28mprint\u001b[39m(\u001b[43mx\u001b[49m)\n",
      "\u001b[1;31mNameError\u001b[0m: name 'x' is not defined"
     ]
    }
   ],
   "source": [
    "def f1():\n",
    "  x = 10          # local variable\n",
    "  print(x)        # valid\n",
    "  \n",
    "def f2():\n",
    "  print(x)        # invalid | NameError: name 'a' is not defined\n",
    "  \n",
    "f1()      # 10\n",
    "f2()      # NameError: name 'a' is not defined"
   ]
  },
  {
   "cell_type": "markdown",
   "id": "f6056d21-817f-45e0-9640-e4ec1544951b",
   "metadata": {},
   "source": [
    "We got an error when we tried to access the variable **‘a'** in function **`f2( )`** because the variable **'a’** has been defined inside the function **`f1( )`** and the lifetime of a local variable is within the function where it is defined.\n",
    "\n",
    "Outside of the function, the variable doesn’t exist and cannot be accessed. In other words, a variable cannot be accessed outside of its scope."
   ]
  },
  {
   "cell_type": "markdown",
   "id": "386f5ab0-d4b2-404a-b208-e7883ccaf472",
   "metadata": {},
   "source": [
    "## The lifetime of a variable"
   ]
  },
  {
   "cell_type": "markdown",
   "id": "da7b5c55-6931-478a-abe9-fc3471c93289",
   "metadata": {},
   "source": [
    "The time from which the variable exists in memory is called the lifetime of that variable.\n",
    "* The lifetime of a global variable is the entire program run. That is, they live in the memory as long as the program is being executed.\n",
    "* The lifetime of a local variable its function’s run, that’s as long as their function is being executed."
   ]
  },
  {
   "cell_type": "markdown",
   "id": "041912b8-0f3b-4ede-83fe-10d9a4aee2ab",
   "metadata": {},
   "source": [
    "# global Keyword"
   ]
  },
  {
   "cell_type": "markdown",
   "id": "1519fb7a-4c4a-40c2-96b6-fc8e825feed7",
   "metadata": {},
   "source": [
    "We can use the global keyword for the following two purposes:\n",
    "* To declare a global variable inside the function.\n",
    "* To make a global variable available to the function so that we can perform the required modifications.\n",
    "\n",
    "If both the global variable and local variable has same, local variable will get priority."
   ]
  },
  {
   "cell_type": "code",
   "execution_count": 11,
   "id": "4111f285-f840-4934-8275-0bbce9e3e040",
   "metadata": {},
   "outputs": [
    {
     "name": "stdout",
     "output_type": "stream",
     "text": [
      "777\n",
      "10\n"
     ]
    }
   ],
   "source": [
    "a = 10       # global variable\n",
    "\n",
    "def f1():\n",
    "    a=777    # local variable\n",
    "    print(a)\n",
    "  \n",
    "def f2():\n",
    "    print(a)   # global variable\n",
    "  \n",
    "f1()      # 777\n",
    "f2()      # 10"
   ]
  },
  {
   "cell_type": "markdown",
   "id": "f8989134-0955-44d7-b575-3a5928c24bfe",
   "metadata": {},
   "source": [
    "To make a global variable available to the function, we have to use the **global** keyword."
   ]
  },
  {
   "cell_type": "code",
   "execution_count": 12,
   "id": "aa9998d8-77bf-4eb1-99fa-d8b7d0587451",
   "metadata": {},
   "outputs": [
    {
     "name": "stdout",
     "output_type": "stream",
     "text": [
      "777\n",
      "777\n"
     ]
    }
   ],
   "source": [
    "a = 10          # global variable\n",
    "\n",
    "def f1():\n",
    "  global a      # make global variable available\n",
    "  a=777         # modifying global variable\n",
    "  print(a)\n",
    "  \n",
    "def f2():\n",
    "  print(a)\n",
    "  \n",
    "f1()      # 777\n",
    "f2()      # 777"
   ]
  },
  {
   "cell_type": "markdown",
   "id": "0272db86-27a8-482a-9528-fe21edf5b0b0",
   "metadata": {},
   "source": [
    "Cannont access local variables outside the function."
   ]
  },
  {
   "cell_type": "code",
   "execution_count": 14,
   "id": "2d4dd554-a447-4bce-a359-3199a72f499b",
   "metadata": {},
   "outputs": [
    {
     "name": "stdout",
     "output_type": "stream",
     "text": [
      "10\n"
     ]
    },
    {
     "ename": "NameError",
     "evalue": "name 'z' is not defined",
     "output_type": "error",
     "traceback": [
      "\u001b[1;31m---------------------------------------------------------------------------\u001b[0m",
      "\u001b[1;31mNameError\u001b[0m                                 Traceback (most recent call last)",
      "Cell \u001b[1;32mIn[14], line 9\u001b[0m\n\u001b[0;32m      6\u001b[0m   \u001b[38;5;28mprint\u001b[39m(z)        \u001b[38;5;66;03m# invalid | NameError: name 'a' is not defined\u001b[39;00m\n\u001b[0;32m      8\u001b[0m f1()              \u001b[38;5;66;03m# 10\u001b[39;00m\n\u001b[1;32m----> 9\u001b[0m \u001b[43mf2\u001b[49m\u001b[43m(\u001b[49m\u001b[43m)\u001b[49m              \u001b[38;5;66;03m# NameError: name 'a' is not defined\u001b[39;00m\n",
      "Cell \u001b[1;32mIn[14], line 6\u001b[0m, in \u001b[0;36mf2\u001b[1;34m()\u001b[0m\n\u001b[0;32m      5\u001b[0m \u001b[38;5;28;01mdef\u001b[39;00m \u001b[38;5;21mf2\u001b[39m():\n\u001b[1;32m----> 6\u001b[0m   \u001b[38;5;28mprint\u001b[39m(\u001b[43mz\u001b[49m)\n",
      "\u001b[1;31mNameError\u001b[0m: name 'z' is not defined"
     ]
    }
   ],
   "source": [
    "def f1():\n",
    "  z = 10          # local variable\n",
    "  print(z)        # valid\n",
    "  \n",
    "def f2():\n",
    "  print(z)        # invalid | NameError: name 'a' is not defined\n",
    "  \n",
    "f1()              # 10\n",
    "f2()              # NameError: name 'a' is not defined"
   ]
  },
  {
   "cell_type": "markdown",
   "id": "4fa81d81-cc1e-4f29-aac2-19d6ffa8646a",
   "metadata": {},
   "source": [
    "**Declare a global variable inside a function explicitly.**"
   ]
  },
  {
   "cell_type": "code",
   "execution_count": 16,
   "id": "e4c5fde8-764b-40f8-86e9-13c1baef9e5d",
   "metadata": {},
   "outputs": [
    {
     "name": "stdout",
     "output_type": "stream",
     "text": [
      "10\n",
      "10\n"
     ]
    }
   ],
   "source": [
    "def f1():\n",
    "  global a        # Declare global variable inside the function\n",
    "  a = 10          # modify global variable\n",
    "  print(a)        \n",
    "  \n",
    "def f2():\n",
    "  print(a)        # global variable  \n",
    "  \n",
    "f1()              # 10\n",
    "f2()              # 10"
   ]
  },
  {
   "cell_type": "markdown",
   "id": "7a81c562-7b9b-48a6-9151-c52c6d39bdb7",
   "metadata": {},
   "source": [
    "***Prior to global declarion, we cannot use that variable.***\n",
    "* That is, before using global keyword, we cannot use that variable.\n",
    "* First global declaration and then use the variable."
   ]
  },
  {
   "cell_type": "code",
   "execution_count": 17,
   "id": "09563e75-aede-4657-9576-7db567797f56",
   "metadata": {},
   "outputs": [
    {
     "ename": "SyntaxError",
     "evalue": "name 'a' is used prior to global declaration (1193698431.py, line 5)",
     "output_type": "error",
     "traceback": [
      "\u001b[1;36m  Cell \u001b[1;32mIn[17], line 5\u001b[1;36m\u001b[0m\n\u001b[1;33m    global a      # make global variable available\u001b[0m\n\u001b[1;37m    ^\u001b[0m\n\u001b[1;31mSyntaxError\u001b[0m\u001b[1;31m:\u001b[0m name 'a' is used prior to global declaration\n"
     ]
    }
   ],
   "source": [
    "a = 10          # global variable\n",
    "\n",
    "def f1():\n",
    "  print(a)      # SyntaxError: name 'a' is used prior to global declaration\n",
    "  global a      # make global variable available\n",
    "  a=777         # modifying global variable\n",
    "  print(a)\n",
    "  \n",
    "f1()    "
   ]
  },
  {
   "cell_type": "markdown",
   "id": "7a8b8dd5-2eee-489c-aac4-7d2821880ee8",
   "metadata": {},
   "source": [
    "**Both global and local copy are present - how to access global copy?**\n",
    "\n",
    "The ***global( )*** function returns all the global variables available within a module in the form of dictionary."
   ]
  },
  {
   "cell_type": "code",
   "execution_count": 24,
   "id": "89e3683b-ddb4-4f8b-9476-ccaaf73cd218",
   "metadata": {},
   "outputs": [
    {
     "name": "stdout",
     "output_type": "stream",
     "text": [
      "777\n",
      "10\n",
      "10\n"
     ]
    }
   ],
   "source": [
    "c = 10                        # global variable\n",
    "\n",
    "def f1():\n",
    "    c = 777                     # local variable\n",
    "    print(c)                    # printing value of local variable a\n",
    "    # print(globals())\n",
    "    print(globals()['c'])        # printing value of global variable a   \n",
    "    print(globals().get('c'))     # printing value of global variable a\n",
    "  \n",
    "f1()  # 777 10 10"
   ]
  },
  {
   "cell_type": "code",
   "execution_count": null,
   "id": "700bdf22-1470-40ca-8588-6b8c32358435",
   "metadata": {},
   "outputs": [],
   "source": []
  }
 ],
 "metadata": {
  "kernelspec": {
   "display_name": "Python 3 (ipykernel)",
   "language": "python",
   "name": "python3"
  },
  "language_info": {
   "codemirror_mode": {
    "name": "ipython",
    "version": 3
   },
   "file_extension": ".py",
   "mimetype": "text/x-python",
   "name": "python",
   "nbconvert_exporter": "python",
   "pygments_lexer": "ipython3",
   "version": "3.12.5"
  }
 },
 "nbformat": 4,
 "nbformat_minor": 5
}
