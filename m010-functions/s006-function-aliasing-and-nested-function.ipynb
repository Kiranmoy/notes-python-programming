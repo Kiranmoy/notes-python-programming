{
 "cells": [
  {
   "cell_type": "markdown",
   "id": "f3571f64-97fe-4c44-97da-79607744666a",
   "metadata": {},
   "source": [
    "# Everything is an Object"
   ]
  },
  {
   "cell_type": "markdown",
   "id": "d1e169be-dd55-45fc-8622-e040762bf487",
   "metadata": {},
   "source": [
    "In Python, everything is treated as an object.\n",
    "\n",
    "Even functions are also internally treated as objects only."
   ]
  },
  {
   "cell_type": "code",
   "execution_count": 1,
   "id": "75f9bf88-c836-4ba8-8296-83fc65b004be",
   "metadata": {},
   "outputs": [
    {
     "name": "stdout",
     "output_type": "stream",
     "text": [
      "<function f1 at 0x000002369BE2A0C0>\n",
      "2433566810304\n"
     ]
    }
   ],
   "source": [
    "def f1():\n",
    "  print(\"Hello\")\n",
    "\n",
    "print(f1)         # <function f1 at 0x00419618>\n",
    "print(id(f1))     # 4298264"
   ]
  },
  {
   "cell_type": "markdown",
   "id": "35e87d06-6605-40bf-bf90-e166bef4a853",
   "metadata": {},
   "source": [
    "# Function Aliasing"
   ]
  },
  {
   "cell_type": "markdown",
   "id": "acff0d7f-9165-428f-9b39-f4af3fd66e6e",
   "metadata": {},
   "source": [
    "For the existing function, we can give another name, which is nothing but **function aliasing**."
   ]
  },
  {
   "cell_type": "code",
   "execution_count": 2,
   "id": "33d6fe76-8c39-4cae-9702-f6ab7a9624d4",
   "metadata": {},
   "outputs": [
    {
     "name": "stdout",
     "output_type": "stream",
     "text": [
      "2433566815904\n",
      "2433566815904\n",
      "Good Morning: Durga\n",
      "Good Morning: Durga\n"
     ]
    }
   ],
   "source": [
    "def wish(name):\n",
    "  print(\"Good Morning:\",name)\n",
    "\n",
    "greeting = wish\n",
    "\n",
    "print(id(wish))         # 4429336\n",
    "print(id(greeting))     # 4429336\n",
    "\n",
    "greeting('Durga')       # Good Morning: Durga\n",
    "wish('Durga')           # Good Morning: Durga"
   ]
  },
  {
   "cell_type": "markdown",
   "id": "69c3c135-2435-4888-a447-75cfbc2cb63a",
   "metadata": {},
   "source": [
    "**NOTE:**\n",
    "* In the above example only one function is available but we can call that function by using either a wish name or a greeting name.\n",
    "* If we delete one name still we can access that function by using an alias name. "
   ]
  },
  {
   "cell_type": "code",
   "execution_count": 3,
   "id": "b935b6aa-72f8-4877-8ad8-232e094b0ed6",
   "metadata": {},
   "outputs": [
    {
     "name": "stdout",
     "output_type": "stream",
     "text": [
      "Good Morning: Durga\n",
      "Good Morning: Durga\n",
      "Good Morning: Pavan\n"
     ]
    }
   ],
   "source": [
    "def wish(name):\n",
    "  print(\"Good Morning:\",name)\n",
    "\n",
    "greeting = wish\n",
    "\n",
    "greeting('Durga')       # Good Morning: Durga\n",
    "wish('Durga')           # Good Morning: Durga\n",
    "\n",
    "del wish\n",
    "\n",
    "greeting('Pavan')       # Good Morning: Pavan"
   ]
  },
  {
   "cell_type": "code",
   "execution_count": 4,
   "id": "6cb032af-7547-42d8-a586-c36cd7ac650f",
   "metadata": {},
   "outputs": [
    {
     "ename": "NameError",
     "evalue": "name 'wish' is not defined",
     "output_type": "error",
     "traceback": [
      "\u001b[1;31m---------------------------------------------------------------------------\u001b[0m",
      "\u001b[1;31mNameError\u001b[0m                                 Traceback (most recent call last)",
      "Cell \u001b[1;32mIn[4], line 1\u001b[0m\n\u001b[1;32m----> 1\u001b[0m \u001b[43mwish\u001b[49m(\u001b[38;5;124m'\u001b[39m\u001b[38;5;124mDurga\u001b[39m\u001b[38;5;124m'\u001b[39m)            \u001b[38;5;66;03m# NameError: name 'wish' is not defined\u001b[39;00m\n",
      "\u001b[1;31mNameError\u001b[0m: name 'wish' is not defined"
     ]
    }
   ],
   "source": [
    "wish('Durga')            # NameError: name 'wish' is not defined"
   ]
  },
  {
   "cell_type": "markdown",
   "id": "afe29932-3bdb-4e3a-a9c8-b4994607540c",
   "metadata": {},
   "source": [
    "# Nested Functions"
   ]
  },
  {
   "cell_type": "markdown",
   "id": "c474edff-0a99-4f39-b9b1-19e0ab6b037c",
   "metadata": {},
   "source": [
    "We can declare a function inside another function, such types of functions are called **Nested functions**."
   ]
  },
  {
   "cell_type": "code",
   "execution_count": 5,
   "id": "e69f4408-68aa-4792-9055-926ae7bbfcc4",
   "metadata": {},
   "outputs": [
    {
     "name": "stdout",
     "output_type": "stream",
     "text": [
      "outer function started\n",
      "outer function calling inner function\n",
      "inner function execution\n"
     ]
    },
    {
     "ename": "NameError",
     "evalue": "name 'inner' is not defined",
     "output_type": "error",
     "traceback": [
      "\u001b[1;31m---------------------------------------------------------------------------\u001b[0m",
      "\u001b[1;31mNameError\u001b[0m                                 Traceback (most recent call last)",
      "Cell \u001b[1;32mIn[5], line 10\u001b[0m\n\u001b[0;32m      6\u001b[0m   inner()\n\u001b[0;32m      8\u001b[0m outer()\n\u001b[1;32m---> 10\u001b[0m \u001b[43minner\u001b[49m()       \u001b[38;5;66;03m# NameError: name 'inner' is not defined\u001b[39;00m\n",
      "\u001b[1;31mNameError\u001b[0m: name 'inner' is not defined"
     ]
    }
   ],
   "source": [
    "def outer():\n",
    "  print(\"outer function started\")\n",
    "  def inner():\n",
    "    print(\"inner function execution\")\n",
    "  print(\"outer function calling inner function\")\n",
    "  inner()\n",
    "  \n",
    "outer()\n",
    "\n",
    "inner()       # NameError: name 'inner' is not defined"
   ]
  },
  {
   "cell_type": "markdown",
   "id": "be3584a2-3a27-476a-af93-b12f9fafdb8e",
   "metadata": {},
   "source": [
    "In the above example, the **inner( )** function is local to the **outer( )** function and hence it is not possible to call directly from outside of the **outer( )** function.\n",
    "\n",
    "**Note:** A function can return another function."
   ]
  },
  {
   "cell_type": "code",
   "execution_count": 6,
   "id": "2c35258e-3058-4d72-be77-82616d8b1691",
   "metadata": {},
   "outputs": [
    {
     "name": "stdout",
     "output_type": "stream",
     "text": [
      "outer function started\n",
      "outer function returning inner function\n",
      "inner function execution\n",
      "inner function execution\n",
      "inner function execution\n"
     ]
    }
   ],
   "source": [
    "def outer():\n",
    "  print(\"outer function started\")\n",
    "  def inner():\n",
    "    print(\"inner function execution\")\n",
    "  print(\"outer function returning inner function\")\n",
    "  return inner\n",
    "  \n",
    "f1 = outer()\n",
    "f1()\n",
    "f1()\n",
    "f1()"
   ]
  },
  {
   "cell_type": "markdown",
   "id": "06f4290e-1397-4bae-ab60-50273b96590c",
   "metadata": {},
   "source": [
    "# What is the difference between the following lines?\n",
    "```\n",
    "f1 = outer\n",
    "f1 = outer( )\n",
    "```\n",
    "\n",
    "**ANS:**\n",
    "\n",
    "In the first case for the **`outer( )`** function we are providing another name **`f1`** (**function aliasing**).\n",
    "\n",
    "But in the second case, we call the **`outer( )`** function, which returns the inner function.\n",
    "\n",
    "For that **`inner( )`** function we are providing another name **`f1`**.\n",
    "\n",
    "**NOTE:**\n",
    "\n",
    "We can pass function as argument to another function\n",
    "* `filter ( function, sequence )`\n",
    "* `map ( function, sequence )`\n",
    "* `reduce ( function, sequence )`"
   ]
  },
  {
   "cell_type": "code",
   "execution_count": null,
   "id": "900fa0aa-2a70-4cba-b46f-8af8bef397b6",
   "metadata": {},
   "outputs": [],
   "source": []
  }
 ],
 "metadata": {
  "kernelspec": {
   "display_name": "Python 3 (ipykernel)",
   "language": "python",
   "name": "python3"
  },
  "language_info": {
   "codemirror_mode": {
    "name": "ipython",
    "version": 3
   },
   "file_extension": ".py",
   "mimetype": "text/x-python",
   "name": "python",
   "nbconvert_exporter": "python",
   "pygments_lexer": "ipython3",
   "version": "3.12.5"
  }
 },
 "nbformat": 4,
 "nbformat_minor": 5
}
