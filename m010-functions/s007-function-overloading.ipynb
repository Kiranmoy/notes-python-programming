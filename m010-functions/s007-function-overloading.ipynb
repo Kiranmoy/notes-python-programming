{
 "cells": [
  {
   "cell_type": "markdown",
   "id": "5ad64e92-ea26-4562-9fb9-1fe55f880aaf",
   "metadata": {},
   "source": [
    "As opposed to other languages (such as C++, and Java), method or function overloading is not supported in python by default but that can be achieved using **“Multiple Dispatch Decorator”**.\n",
    "\n",
    "We can define multiple functions with the same name and different arguments, but only the last function will be considered, and all the rest will be hidden."
   ]
  },
  {
   "cell_type": "markdown",
   "id": "831752c0-ef75-468d-b2b3-7021833fad7b",
   "metadata": {},
   "source": [
    "# Method 1 (Not Efficient)"
   ]
  },
  {
   "cell_type": "code",
   "execution_count": 1,
   "id": "fb56cb2c-0416-431d-964b-503e01f15528",
   "metadata": {},
   "outputs": [
    {
     "name": "stdout",
     "output_type": "stream",
     "text": [
      "24\n"
     ]
    }
   ],
   "source": [
    "def mul(a, b):\n",
    "  print(a*b)\n",
    "  \n",
    "def mul(a, b, c):\n",
    "  print(a*b*c)\n",
    "  \n",
    "mul(2, 3, 4)  # 24"
   ]
  },
  {
   "cell_type": "code",
   "execution_count": 2,
   "id": "44c0e159-fc93-4aeb-b045-24c38813b459",
   "metadata": {},
   "outputs": [
    {
     "ename": "TypeError",
     "evalue": "mul() missing 1 required positional argument: 'c'",
     "output_type": "error",
     "traceback": [
      "\u001b[1;31m---------------------------------------------------------------------------\u001b[0m",
      "\u001b[1;31mTypeError\u001b[0m                                 Traceback (most recent call last)",
      "Cell \u001b[1;32mIn[2], line 1\u001b[0m\n\u001b[1;32m----> 1\u001b[0m \u001b[43mmul\u001b[49m\u001b[43m(\u001b[49m\u001b[38;5;241;43m2\u001b[39;49m\u001b[43m,\u001b[49m\u001b[43m \u001b[49m\u001b[38;5;241;43m7\u001b[39;49m\u001b[43m)\u001b[49m     \u001b[38;5;66;03m# TypeError: mult() missing 1 required positional argument: 'c'\u001b[39;00m\n",
      "\u001b[1;31mTypeError\u001b[0m: mul() missing 1 required positional argument: 'c'"
     ]
    }
   ],
   "source": [
    "mul(2, 7)     # TypeError: mult() missing 1 required positional argument: 'c'"
   ]
  },
  {
   "cell_type": "markdown",
   "id": "35d1157e-9614-4eba-837d-f4cdeb9d8961",
   "metadata": {},
   "source": [
    "* In the above code, there are two **mul( )** methods, but the python compiler can only see the last, that is, the one with 3 parameters. \n",
    "* Therefore, even though we can define multiple methods with the same name and different arguments, only the last method of them can be used. \n",
    "* Calling any of the other methods will produce an error. Like here calling will **mul(2, 7)** an error."
   ]
  },
  {
   "cell_type": "markdown",
   "id": "914f43b1-5f26-45cc-b1f5-4945d95afcfe",
   "metadata": {},
   "source": [
    "# Method 2 (Efficient): By using Multiple Dispatch Decorator"
   ]
  },
  {
   "cell_type": "markdown",
   "id": "1e614b62-510e-4cdb-98b5-fa6f40fcc90e",
   "metadata": {},
   "source": [
    "Multiple Dispatch Decorator can be installed using pip: `pip3 install multipledispatch`"
   ]
  },
  {
   "cell_type": "markdown",
   "id": "9274bc7f-691e-4236-a377-1fcfb5823b9b",
   "metadata": {},
   "source": [
    "```\n",
    "from multipledispatch import dispatch\n",
    "\n",
    "@dispatch(int, int)\n",
    "def mul(a, b):\n",
    "  print(a*b)\n",
    "  \n",
    "@dispatch(int, int, int)\n",
    "def mul(a, b, c):\n",
    "  print(a*b*c)\n",
    "  \n",
    "mul(2, 3, 4)  # 24\n",
    "mul(2, 7)     # 14\n",
    "```"
   ]
  },
  {
   "cell_type": "code",
   "execution_count": null,
   "id": "a9de6d39-569f-47bc-90c4-27758ec78de8",
   "metadata": {},
   "outputs": [],
   "source": []
  }
 ],
 "metadata": {
  "kernelspec": {
   "display_name": "Python 3 (ipykernel)",
   "language": "python",
   "name": "python3"
  },
  "language_info": {
   "codemirror_mode": {
    "name": "ipython",
    "version": 3
   },
   "file_extension": ".py",
   "mimetype": "text/x-python",
   "name": "python",
   "nbconvert_exporter": "python",
   "pygments_lexer": "ipython3",
   "version": "3.12.5"
  }
 },
 "nbformat": 4,
 "nbformat_minor": 5
}
