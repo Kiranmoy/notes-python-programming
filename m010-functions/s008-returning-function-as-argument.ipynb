{
 "cells": [
  {
   "cell_type": "markdown",
   "id": "143902be-aeb7-4573-95bb-4083d53f5d66",
   "metadata": {},
   "source": [
    "We have a list of dictionaries:"
   ]
  },
  {
   "cell_type": "code",
   "execution_count": 1,
   "id": "84053e84-595c-485c-936e-4e7e097f94f4",
   "metadata": {},
   "outputs": [],
   "source": [
    "friends = [\n",
    "    {'name': 'Sam', 'gender': 'male', 'sport': 'Basketball'},\n",
    "    {'name': 'Emily', 'gender': 'female', 'sport': 'volleyball'},\n",
    "]"
   ]
  },
  {
   "cell_type": "markdown",
   "id": "cb12707b-8643-458f-bb5c-1d334a17ca72",
   "metadata": {},
   "source": [
    "Create functions `query`, `select`, and `field_filter` to work with lists similar to `friends`. \n",
    "\n",
    "Stubs for these functions have already created.\n",
    "\n",
    "**Example:**"
   ]
  },
  {
   "cell_type": "markdown",
   "id": "17d50b9f-7a95-4d40-8d1c-af560bb2e4c4",
   "metadata": {},
   "source": [
    "```\n",
    ">>> result = query(\n",
    "    friends,\n",
    "    select('name', 'gender', 'sport'),\n",
    "    field_filter('sport', *('Basketball', 'volleyball')),\n",
    "    field_filter('gender', *('male',)),\n",
    ")\n",
    ">>> result\n",
    "[{'gender': 'male', 'name': 'Sam', 'sport': 'Basketball'}]\n",
    "```\n",
    "\n",
    "These functions have to provide with possibility to select necessary columns and filter by these columns\n",
    "\n",
    "Do not forget the documentation for each function!"
   ]
  },
  {
   "cell_type": "markdown",
   "id": "bd6c83d8-d4ce-4df0-9988-d90fbc8ae2b1",
   "metadata": {},
   "source": [
    "# SOLUTION"
   ]
  },
  {
   "cell_type": "code",
   "execution_count": 2,
   "id": "24f272c0-66e8-47f4-b680-193122d08f4d",
   "metadata": {},
   "outputs": [
    {
     "name": "stdout",
     "output_type": "stream",
     "text": [
      "[{'name': 'Sam', 'gender': 'male', 'sport': 'Basketball'}]\n"
     ]
    }
   ],
   "source": [
    "from typing import Dict, Any, Callable, Iterable\n",
    "\n",
    "DataType = Iterable[Dict[str, Any]]\n",
    "ModifierFunc = Callable[[DataType], DataType]\n",
    "\n",
    "\n",
    "def query(data: DataType, selector: ModifierFunc,\n",
    "          *filters: ModifierFunc) -> DataType:\n",
    "    \"\"\"\n",
    "    Query data with column selection and filters\n",
    "    :param data: List of dictionaries with columns and values\n",
    "    :param selector: result of `select` function call\n",
    "    :param filters: Any number of results of `field_filter` function calls\n",
    "    :return: Filtered data\n",
    "    \"\"\"\n",
    "    # Apply the selector function to the data\n",
    "    selected_data = selector(data)\n",
    "    # Apply each filter function to the selected data\n",
    "    for filter in filters:\n",
    "        selected_data = filter(selected_data)\n",
    "    # Return the filtered data\n",
    "    return selected_data\n",
    "\n",
    "\n",
    "def select(*columns: str) -> ModifierFunc:\n",
    "    \"\"\"Return function that selects only specific columns from dataset\"\"\"\n",
    "\n",
    "    def selector(data: DataType) -> DataType:\n",
    "        # Create a new list of dictionaries with only the specified columns\n",
    "        selected_data = []\n",
    "        for record in data:\n",
    "            selected_record = {}\n",
    "            for column in columns:\n",
    "                if column in record:\n",
    "                    selected_record[column] = record[column]\n",
    "            selected_data.append(selected_record)\n",
    "        # Return the new list of dictionaries\n",
    "        return selected_data\n",
    "\n",
    "    # Return the selector function\n",
    "    return selector\n",
    "\n",
    "\n",
    "def field_filter(column: str, *values: Any) -> ModifierFunc:\n",
    "    \"\"\"Return function that filters specific column to be one of `values`\"\"\"\n",
    "    def filter(data: DataType) -> DataType:\n",
    "        # Create a new list of dictionaries with only the records that match the filter criteria\n",
    "        filtered_data = []\n",
    "        for record in data:\n",
    "            if column in record and record[column] in values:\n",
    "                filtered_data.append(record)\n",
    "        # Return the new list of dictionaries\n",
    "        return filtered_data\n",
    "\n",
    "    # Return the filter function\n",
    "    return filter\n",
    "\n",
    "\n",
    "def test_query():\n",
    "    friends = [\n",
    "        {'name': 'Sam', 'gender': 'male', 'sport': 'Basketball'}\n",
    "    ]\n",
    "    value = query(\n",
    "        friends,\n",
    "        select(*('name', 'gender', 'sport')),\n",
    "        field_filter(*('sport', *('Basketball', 'volleyball'))),\n",
    "        field_filter(*('gender', *('male',))),\n",
    "    )\n",
    "    return value\n",
    "\n",
    "\n",
    "if __name__ == \"__main__\":\n",
    "    print(test_query())\n"
   ]
  },
  {
   "cell_type": "markdown",
   "id": "0c49dca6-f2d0-4e40-a4ee-68625b90a997",
   "metadata": {},
   "source": [
    " \n",
    "https://stackoverflow.com/questions/74418076/query-to-a-list-of-dictionaries-python\n",
    "\n",
    "https://stackoverflow.com/questions/29051573/python-filter-list-of-dictionaries-based-on-key-value \n",
    "\n",
    "https://blog.finxter.com/how-to-filter-a-dictionary-in-python/ \n",
    "\n",
    "https://blog.finxter.com/how-to-filter-a-list-of-dictionaries-in-python/ "
   ]
  },
  {
   "cell_type": "code",
   "execution_count": null,
   "id": "3a05bc65-c087-45fd-9ba6-1371a32fd3dd",
   "metadata": {},
   "outputs": [],
   "source": []
  }
 ],
 "metadata": {
  "kernelspec": {
   "display_name": "Python 3 (ipykernel)",
   "language": "python",
   "name": "python3"
  },
  "language_info": {
   "codemirror_mode": {
    "name": "ipython",
    "version": 3
   },
   "file_extension": ".py",
   "mimetype": "text/x-python",
   "name": "python",
   "nbconvert_exporter": "python",
   "pygments_lexer": "ipython3",
   "version": "3.12.5"
  }
 },
 "nbformat": 4,
 "nbformat_minor": 5
}
