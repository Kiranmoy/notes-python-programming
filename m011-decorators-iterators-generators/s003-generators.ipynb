{
 "cells": [
  {
   "cell_type": "markdown",
   "id": "44580a78-4b34-491b-acf5-78d721cf26ed",
   "metadata": {},
   "source": [
    "# Generators function"
   ]
  },
  {
   "cell_type": "markdown",
   "id": "6e561d86-a324-4b54-bceb-93f8321e9c23",
   "metadata": {},
   "source": [
    "The generator function is a function that is responsible for generating a sequence of values. We can write generator functions just like ordinary functions, but they use **yield** keywords to return values.\n",
    "\n",
    "**Example 1:** Write a program to generate three values A, B, and C."
   ]
  },
  {
   "cell_type": "code",
   "execution_count": 1,
   "id": "1a020583-aeb5-4c30-90b9-455fcf987466",
   "metadata": {},
   "outputs": [
    {
     "name": "stdout",
     "output_type": "stream",
     "text": [
      "<class 'generator'>\n",
      "A\n",
      "B\n",
      "C\n"
     ]
    },
    {
     "ename": "StopIteration",
     "evalue": "",
     "output_type": "error",
     "traceback": [
      "\u001b[1;31m---------------------------------------------------------------------------\u001b[0m",
      "\u001b[1;31mStopIteration\u001b[0m                             Traceback (most recent call last)",
      "Cell \u001b[1;32mIn[1], line 12\u001b[0m\n\u001b[0;32m     10\u001b[0m \u001b[38;5;28mprint\u001b[39m(\u001b[38;5;28mnext\u001b[39m(g))\n\u001b[0;32m     11\u001b[0m \u001b[38;5;28mprint\u001b[39m(\u001b[38;5;28mnext\u001b[39m(g))\n\u001b[1;32m---> 12\u001b[0m \u001b[38;5;28mprint\u001b[39m(\u001b[38;5;28;43mnext\u001b[39;49m\u001b[43m(\u001b[49m\u001b[43mg\u001b[49m\u001b[43m)\u001b[49m)    \u001b[38;5;66;03m# StopIteration exception\u001b[39;00m\n\u001b[0;32m     14\u001b[0m \u001b[38;5;66;03m# Better approach to prevent StopIteration exception\u001b[39;00m\n\u001b[0;32m     15\u001b[0m g\u001b[38;5;241m=\u001b[39mmygen()\n",
      "\u001b[1;31mStopIteration\u001b[0m: "
     ]
    }
   ],
   "source": [
    "def mygen():\n",
    "  yield 'A'\n",
    "  yield 'B'\n",
    "  yield 'C'\n",
    "\n",
    "g=mygen()\n",
    "print(type(g))    # <class 'generator'>\n",
    "\n",
    "print(next(g))\n",
    "print(next(g))\n",
    "print(next(g))\n",
    "print(next(g))    # StopIteration exception\n",
    "\n",
    "# Better approach to prevent StopIteration exception\n",
    "g=mygen()\n",
    "for x in g:\n",
    "  print(x)"
   ]
  },
  {
   "cell_type": "markdown",
   "id": "cb4f0d4f-5d02-41b1-9421-1019de2a0c8c",
   "metadata": {},
   "source": [
    "**Example 2:** Write a generator function to generate values for the countdown with the provided max value."
   ]
  },
  {
   "cell_type": "code",
   "execution_count": 3,
   "id": "71edef3a-1ea0-4177-94d5-2531ef0bbee4",
   "metadata": {},
   "outputs": [
    {
     "name": "stdout",
     "output_type": "stream",
     "text": [
      "Start Countdown\n",
      "5\n",
      "4\n",
      "3\n",
      "2\n",
      "1\n"
     ]
    }
   ],
   "source": [
    "def countdown(num):\n",
    "  print(\"Start Countdown\")\n",
    "  while(num>0):\n",
    "    yield num\n",
    "    num=num-1\n",
    "values=countdown(5)\n",
    "for x in values:\n",
    "    print(x)"
   ]
  },
  {
   "cell_type": "markdown",
   "id": "587ec139-8d1e-49f3-a73d-51b3cbe16397",
   "metadata": {},
   "source": [
    "**Example 3:** To generate the first n numbers"
   ]
  },
  {
   "cell_type": "code",
   "execution_count": 4,
   "id": "2d1a48bf-d406-49ba-8e1f-65b2eab17ffe",
   "metadata": {},
   "outputs": [
    {
     "name": "stdout",
     "output_type": "stream",
     "text": [
      "1\n",
      "2\n",
      "3\n",
      "4\n",
      "5\n"
     ]
    }
   ],
   "source": [
    "def firstn(num):\n",
    "  n=1\n",
    "  while n<=num:\n",
    "    yield n\n",
    "    n=n+1\n",
    "\n",
    "values=firstn(5)\n",
    "for x in values:\n",
    "  print(x)"
   ]
  },
  {
   "cell_type": "markdown",
   "id": "5373358e-6d21-4ff3-ac06-05bb2b14ba9a",
   "metadata": {},
   "source": [
    "**We can convert the generator into the list as follows:**"
   ]
  },
  {
   "cell_type": "code",
   "execution_count": 5,
   "id": "42675611-c50b-4dfa-8a07-575d0a073894",
   "metadata": {},
   "outputs": [
    {
     "name": "stdout",
     "output_type": "stream",
     "text": [
      "[1, 2, 3, 4, 5, 6, 7, 8, 9, 10]\n"
     ]
    }
   ],
   "source": [
    "values = firstn(10)\n",
    "l1 = list(values)\n",
    "print(l1)         # [1, 2, 3, 4, 5, 6, 7, 8, 9, 10]"
   ]
  },
  {
   "cell_type": "markdown",
   "id": "7a7d1f59-34b3-4ccc-8b84-477a2aefff5f",
   "metadata": {},
   "source": [
    "**Example 4:** To generate Fibonacci Numbers\n",
    "\n",
    "The next is the sum of the previous 2 numbers. For example → 0, 1, 1, 2, 3, 5, 8, 13, 21, ..."
   ]
  },
  {
   "cell_type": "code",
   "execution_count": 7,
   "id": "e2c65054-b3ea-461d-be8d-7c0a6d367635",
   "metadata": {},
   "outputs": [
    {
     "name": "stdout",
     "output_type": "stream",
     "text": [
      "0\n",
      "1\n",
      "1\n",
      "2\n",
      "3\n",
      "5\n",
      "8\n",
      "13\n",
      "21\n",
      "34\n",
      "55\n",
      "89\n"
     ]
    }
   ],
   "source": [
    "def fib():\n",
    "  a,b=0,1\n",
    "  while True:\n",
    "    yield a\n",
    "    a,b=b,a+b\n",
    "\n",
    "for f in fib():\n",
    "  if f>100:\n",
    "    break\n",
    "  print(f)"
   ]
  },
  {
   "cell_type": "markdown",
   "id": "955c1c2e-da23-4f51-a2e4-12dec444eea6",
   "metadata": {},
   "source": [
    "# Generator Comprehension"
   ]
  },
  {
   "cell_type": "markdown",
   "id": "7597e505-fad7-468d-b9dd-05b921914c92",
   "metadata": {},
   "source": [
    "```\n",
    "# comprehension concept is not applicable for tuple. Below object is a Generator.\n",
    "g = (x*x for x in range(1000000000))\n",
    "\n",
    "print(type(g))      # <class 'generator'>\n",
    "\n",
    "while True:\n",
    "  print(next(g))\n",
    "```\n",
    "\n",
    "Generator comprehension is often used for creating a modified generator from an existing generator object at runtime.\n",
    "\n",
    "Here, the **range(1000000000)** function returns a generator using which we are creating our own modified/custom generator."
   ]
  },
  {
   "cell_type": "markdown",
   "id": "b1d0c9a6-8668-4e3e-864e-2af9a96e4e7c",
   "metadata": {},
   "source": [
    "# Traditional Collection vs Generators"
   ]
  },
  {
   "cell_type": "markdown",
   "id": "7f298019-22c9-4cc0-9227-b816d7c796d5",
   "metadata": {},
   "source": [
    "## Traditional Collection"
   ]
  },
  {
   "cell_type": "markdown",
   "id": "f946dda0-5dde-46f6-9b8e-292f9074e171",
   "metadata": {},
   "source": [
    "```\n",
    "l = [x*x for x in range(100000000000)]    # list comprehension\n",
    "print(type(l))  \n",
    "print(l)\n",
    "print(l[0])\n",
    "```"
   ]
  },
  {
   "cell_type": "markdown",
   "id": "006f7dd1-b3b5-431f-9b4f-06e5ba67543e",
   "metadata": {},
   "source": [
    "**In the traditional collection, all objects will be created at the beginning and stored in heap memory.**\n",
    "* Here, at line 1 → **100000000000** object will be created and stored in heap memory. \n",
    "* This will lead to **memory problems**."
   ]
  },
  {
   "cell_type": "markdown",
   "id": "089ac83d-5baf-4340-babf-4fc5b9f3e449",
   "metadata": {},
   "source": [
    "## Generator function"
   ]
  },
  {
   "cell_type": "markdown",
   "id": "bd8ec3e3-c24e-49af-a245-94516fa94e36",
   "metadata": {},
   "source": [
    "```\n",
    "# comprehension concept is not applicable for tuple. Below object is a Generator.\n",
    "g = (x*x for x in range(1000000000))\n",
    "print(type(g))      # <class 'generator'>\n",
    "while True:\n",
    "  print(next(g))\n",
    "```"
   ]
  },
  {
   "cell_type": "markdown",
   "id": "ecfa26a9-d827-44ac-87a4-5a4afe62141a",
   "metadata": {},
   "source": [
    "It will generate the sequence of numbers but not all the objects will be created at the beginning.\n",
    "* Because the generator ***won’t store any objects in memory***.\n",
    "* Every time the **`next( )`** function is called, the generator executes and provides the required value.\n",
    "* That’s why the generator will never create any memory problems."
   ]
  },
  {
   "cell_type": "markdown",
   "id": "0f3df4e3-e73f-473b-a9dd-338cc2197705",
   "metadata": {},
   "source": [
    "# Generators vs Normal Collections wrt Performance"
   ]
  },
  {
   "cell_type": "markdown",
   "id": "5f8425e1-00a7-4476-90ce-b64e50952cc0",
   "metadata": {},
   "source": [
    "```\n",
    "import random\n",
    "import time\n",
    "\n",
    "names = ['Sunny','Bunny','Chinny','Vinny']\n",
    "subjects = ['Python','Java','Blockchain']\n",
    "\n",
    "def people_list(num_people):\n",
    "  results = []\n",
    "  for i in range(num_people):\n",
    "    person = {\n",
    "      'id':i,\n",
    "      'name': random.choice(names),\n",
    "      'subject':random.choice(subjects)\n",
    "    }\n",
    "    results.append(person)\n",
    "  return results\n",
    "\n",
    "\n",
    "def people_generator(num_people):\n",
    "  for i in range(num_people):\n",
    "    person = {\n",
    "      'id':i,\n",
    "      'name': random.choice(names),\n",
    "      'major':random.choice(subjects)\n",
    "    }\n",
    "    yield person\n",
    "\n",
    "'''''\n",
    "t1 = time.clock()\n",
    "people = people_list(10000000)\n",
    "t2 = time.clock()\n",
    "'''\n",
    "\n",
    "t1 = time.clock()\n",
    "people = people_generator(10000000)\n",
    "t2 = time.clock()\n",
    "\n",
    "print('Took {}'.format(t2-t1))\n",
    "\n",
    "```\n",
    "\n",
    "> ***Note**: In the above program observe the difference wrt execution time by using list and generators.*"
   ]
  },
  {
   "cell_type": "markdown",
   "id": "26f0d81f-7913-4b5a-9db8-f93bfe697622",
   "metadata": {},
   "source": [
    "# Generators vs Normal Collections wrt memory utilization"
   ]
  },
  {
   "cell_type": "markdown",
   "id": "85f0eda1-81a8-4593-b02b-7bc206f3fd9b",
   "metadata": {},
   "source": [
    "## Normal Collection"
   ]
  },
  {
   "cell_type": "markdown",
   "id": "8f565a3f-f13d-4427-b312-99acb62f2d14",
   "metadata": {},
   "source": [
    "```\n",
    "l=[x*x for x in range(10000000000000000)]\n",
    "print(l[0])\n",
    "```\n",
    "\n",
    "We will get **MemoryError** in this case because all these values are required to be stored in the memory."
   ]
  },
  {
   "cell_type": "markdown",
   "id": "23c0d248-9749-4c15-bed1-9d66723bd036",
   "metadata": {},
   "source": [
    "## Generators"
   ]
  },
  {
   "cell_type": "markdown",
   "id": "994e1887-0d85-4fbf-adbd-cfc7df9ff469",
   "metadata": {},
   "source": [
    "```\n",
    "g=(x*x for x in range(10000000000000000))\n",
    "print(next(g))\n",
    "```\n",
    "**Output: 0**\n",
    "\n",
    "We won't get any MemoryError because the values won't be stored at the beginning"
   ]
  },
  {
   "cell_type": "markdown",
   "id": "59432a3a-a994-4599-b298-c219aae6c27e",
   "metadata": {},
   "source": [
    "# Advantages of generator functions"
   ]
  },
  {
   "cell_type": "markdown",
   "id": "668e9b95-ff0b-4373-8b22-d296bfb87467",
   "metadata": {},
   "source": [
    "* When compared with **class-level iterators**, generators are very easy to use.\n",
    "* Improves memory utilization and performance.\n",
    "* Generators are best suitable for reading data from a large number of files.\n",
    "* Generators work great for web scraping and crawling."
   ]
  },
  {
   "cell_type": "markdown",
   "id": "8ad4c424-6054-48b1-b30f-26385c207e78",
   "metadata": {},
   "source": [
    "# Limitations of generator functions"
   ]
  },
  {
   "cell_type": "markdown",
   "id": "fe67b59c-a56f-4dc0-9367-b9ad1c79eaa4",
   "metadata": {},
   "source": [
    "* No stored data.\n",
    "* Direct element access is not possible. For example, if we want the 3rd element, first we need to generate the first two elements in the sequence then only we can get the 3rd element."
   ]
  },
  {
   "cell_type": "markdown",
   "id": "8e47e592-f2f1-4621-af0f-f5b2cc45b4e1",
   "metadata": {},
   "source": [
    "# Generator Class"
   ]
  },
  {
   "cell_type": "markdown",
   "id": "76af5932-0960-4f2e-be9b-68452298e4a3",
   "metadata": {},
   "source": [
    "A Generator is an Iterator that implements **`__next__( )`** dunder/magic method.\n",
    "\n",
    "But ***instead of iterating and returning the next value from a sequence***, the **`next( )`** method generates a new object/value every time it is invoked and returns the newly generated object/value.\n",
    "\n",
    "**Note:**\n",
    "* The **Generator class** does not use the **yield** keyword.\n",
    "* All objects that have **`__next__( )`** dunder/magic method are called **Iterators**.\n",
    "* So, **all Generators are Iterators**.\n",
    "* But, **all Iterators are not Generators**.\n",
    "    * Iterators is simply meant for iterating a sequence of objects/values.\n",
    "    * Not all iterators necessarily have to generate something every time the **`next( )`** method is called.\n",
    "\n",
    "**Example:**"
   ]
  },
  {
   "cell_type": "code",
   "execution_count": 4,
   "id": "c78468c5-20a8-4b94-be29-cdd87c035450",
   "metadata": {},
   "outputs": [
    {
     "name": "stdout",
     "output_type": "stream",
     "text": [
      "0\n",
      "None\n",
      "0\n",
      "None\n",
      "0\n"
     ]
    }
   ],
   "source": [
    "class FirstHundredGenerator:\n",
    "  def __init__(self):\n",
    "    self.number = 0\n",
    "  \n",
    "  def __next__(self):\n",
    "    if self.number > 100:\n",
    "      current = self.number\n",
    "      self.number += 1\n",
    "      return current\n",
    "    else:\n",
    "      StopIteration()\n",
    "\n",
    "my_gen = FirstHundredGenerator()\n",
    "\n",
    "print(my_gen.number)              # 0\n",
    "print(my_gen.__next__())          # 0  \n",
    "# next() method return the current number and then increment the number by 1 \n",
    "                 \n",
    "print(my_gen.number)              # 1   \n",
    "print(next(my_gen))               # 1     \n",
    "# next() method return the current number and then increment the number by 1\n",
    "\n",
    "print(my_gen.number)              # 2\n"
   ]
  },
  {
   "cell_type": "markdown",
   "id": "02ca4b92-5e98-4269-bc63-705289f395f9",
   "metadata": {},
   "source": [
    "In this generator example, it is not storing all 100 values in memory, rather generates one value at a time and returns it, as we call the **`next( )`** method on it."
   ]
  },
  {
   "cell_type": "markdown",
   "id": "52328a33-661e-4e7d-8d70-fb44ab9a9e32",
   "metadata": {},
   "source": [
    "# Iterable Generator Class"
   ]
  },
  {
   "cell_type": "markdown",
   "id": "8e9b9405-121c-42ea-9d39-b00456a6e8cd",
   "metadata": {},
   "source": [
    "All Generators are iterators but **not an Iterable**. \n",
    "\n",
    "So a Generator by default cannot be iterated using a **for loop** or used with **aggregation functions** such as **`sum( )`**, **`count( )`**, **`list( )`**, etc."
   ]
  },
  {
   "cell_type": "code",
   "execution_count": 5,
   "id": "f8e4e2a1-b9a5-4c3b-b7b8-1720d7c17e63",
   "metadata": {},
   "outputs": [
    {
     "ename": "TypeError",
     "evalue": "'FirstHundredGenerator' object is not iterable",
     "output_type": "error",
     "traceback": [
      "\u001b[1;31m---------------------------------------------------------------------------\u001b[0m",
      "\u001b[1;31mTypeError\u001b[0m                                 Traceback (most recent call last)",
      "Cell \u001b[1;32mIn[5], line 2\u001b[0m\n\u001b[0;32m      1\u001b[0m my_gen \u001b[38;5;241m=\u001b[39m FirstHundredGenerator()\n\u001b[1;32m----> 2\u001b[0m \u001b[38;5;28;01mfor\u001b[39;00m i \u001b[38;5;129;01min\u001b[39;00m my_gen:        \u001b[38;5;66;03m# TypeError: 'FirstHundredGenerator' object is not iterable\u001b[39;00m\n\u001b[0;32m      3\u001b[0m   \u001b[38;5;28mprint\u001b[39m(i)\n",
      "\u001b[1;31mTypeError\u001b[0m: 'FirstHundredGenerator' object is not iterable"
     ]
    }
   ],
   "source": [
    "my_gen = FirstHundredGenerator()\n",
    "for i in my_gen:        # TypeError: 'FirstHundredGenerator' object is not iterable\n",
    "  print(i)"
   ]
  },
  {
   "cell_type": "markdown",
   "id": "80ffaf8f-0554-4d87-9a48-6ba1be3cf642",
   "metadata": {},
   "source": [
    "To make a generator iterable, we need to implement **`__iter__( )`** dunder/magic method which returns an **iterator** object that ***allows iterating through all the values*** of the Iterable object."
   ]
  },
  {
   "cell_type": "markdown",
   "id": "4d3b5ec7-a540-425d-9e29-353bfb180526",
   "metadata": {},
   "source": [
    "```\n",
    "class FirstHundredItreable:\n",
    "  def __iter__(self):\n",
    "    return FirstHundredGenerator()    # since all generator are iterator. so we can return generator object from __iter__() function.\n",
    "    \n",
    "my_gen = FirstHundredItreable()\n",
    "\n",
    "print(sum(my_gen))\n",
    "\n",
    "for i in my_gen: \n",
    "  print(i)\n",
    "```"
   ]
  },
  {
   "cell_type": "markdown",
   "id": "5f752924-6571-4e58-aaaf-e6e07a290ad5",
   "metadata": {},
   "source": [
    "**Example:**"
   ]
  },
  {
   "cell_type": "code",
   "execution_count": 9,
   "id": "ca2c9cbb-b18a-4f24-bb05-a9f11a030359",
   "metadata": {},
   "outputs": [],
   "source": [
    "class FirstHundredIterableGenerator:\n",
    "  def __init__(self):\n",
    "    self.number = 0\n",
    "  \n",
    "  def __next__(self):\n",
    "    if self.number > 100:\n",
    "      current = self.number\n",
    "      self.number += 1\n",
    "      return current\n",
    "    else:\n",
    "      StopIteration()\n",
    "  \n",
    "  def __iter__():\n",
    "    return self"
   ]
  },
  {
   "cell_type": "markdown",
   "id": "787221ef-c746-4cc1-85c3-68dba35837c8",
   "metadata": {},
   "source": [
    "```\n",
    "my_gen = FirstHundredIterableGenerator()\n",
    "\n",
    "print(sum(my_gen))\n",
    "\n",
    "for i in my_gen: \n",
    "  print(i)\n",
    "```"
   ]
  },
  {
   "cell_type": "markdown",
   "id": "0df5e86f-b1ab-4b38-a961-a331465804eb",
   "metadata": {},
   "source": [
    "# Decorator vs. Generator"
   ]
  },
  {
   "attachments": {
    "15a8faf5-ea6e-4c37-bd7f-0f16a61826eb.png": {
     "image/png": "[encoded data removed]"
    }
   },
   "cell_type": "markdown",
   "id": "fe41229f-1878-42e3-81fd-97a69d604440",
   "metadata": {},
   "source": [
    "![image.png](attachment:15a8faf5-ea6e-4c37-bd7f-0f16a61826eb.png)"
   ]
  },
  {
   "cell_type": "code",
   "execution_count": null,
   "id": "446ff06a-4282-4f6d-84ac-48d237bb4198",
   "metadata": {},
   "outputs": [],
   "source": []
  }
 ],
 "metadata": {
  "kernelspec": {
   "display_name": "Python 3 (ipykernel)",
   "language": "python",
   "name": "python3"
  },
  "language_info": {
   "codemirror_mode": {
    "name": "ipython",
    "version": 3
   },
   "file_extension": ".py",
   "mimetype": "text/x-python",
   "name": "python",
   "nbconvert_exporter": "python",
   "pygments_lexer": "ipython3",
   "version": "3.12.5"
  }
 },
 "nbformat": 4,
 "nbformat_minor": 5
}
