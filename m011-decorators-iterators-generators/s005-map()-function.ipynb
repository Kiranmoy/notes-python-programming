{
 "cells": [
  {
   "cell_type": "markdown",
   "id": "12aa5d5d-df6d-49f9-a7e6-4a27ac2e0534",
   "metadata": {},
   "source": [
    "# map( ) function"
   ]
  },
  {
   "cell_type": "markdown",
   "id": "b86f35f8-5f53-491a-8484-91c8df968da9",
   "metadata": {},
   "source": [
    "For every element present in the given **iterable**, apply some function and generate a new iterable where each element has been modified according to some function. For this requirement, we should go for the **`map( )`** function.\n",
    "\n",
    "**For example** → for every element present in the list perform a double and generate a new list of doubles.\n",
    "\n",
    "**SYNTAX:** `map ( function, iterable)`\n",
    "* The function can be applied to each element of the **iterable** and generates a new **iterable**, where each element of the input iterable has been modified according to the function.\n",
    "* The **iterable** sequence can be **List** OR **Tuple** OR **String** OR any **Iterable** object.\n",
    "* The return type of the **`map( )`** function is a **map** object, which is a **generator**."
   ]
  },
  {
   "cell_type": "markdown",
   "id": "7d398195-b892-414d-9b0a-363ee51c82a5",
   "metadata": {},
   "source": [
    "# Using map( ) - without lambda"
   ]
  },
  {
   "cell_type": "markdown",
   "id": "e16ce6b3-edc4-45f4-9bb9-6580ac768279",
   "metadata": {},
   "source": [
    "**Double It**"
   ]
  },
  {
   "cell_type": "code",
   "execution_count": 2,
   "id": "912eea47-8ae7-4ad7-b883-82fc063a7cce",
   "metadata": {},
   "outputs": [],
   "source": [
    "def doubleIt(x):\n",
    "    return 2*x\n",
    "\n",
    "l=[1,2,3,4,5]"
   ]
  },
  {
   "cell_type": "markdown",
   "id": "7af461c8-84bc-4d48-a2a4-12b72a1428d8",
   "metadata": {},
   "source": [
    "**Example 1:**"
   ]
  },
  {
   "cell_type": "code",
   "execution_count": 4,
   "id": "14ec861a-9cd0-4790-98c6-b37bb4ed0a3b",
   "metadata": {},
   "outputs": [
    {
     "name": "stdout",
     "output_type": "stream",
     "text": [
      "<class 'map'>\n",
      "2\n",
      "4\n",
      "6\n",
      "8\n",
      "10\n"
     ]
    },
    {
     "ename": "StopIteration",
     "evalue": "",
     "output_type": "error",
     "traceback": [
      "\u001b[1;31m---------------------------------------------------------------------------\u001b[0m",
      "\u001b[1;31mStopIteration\u001b[0m                             Traceback (most recent call last)",
      "Cell \u001b[1;32mIn[4], line 8\u001b[0m\n\u001b[0;32m      6\u001b[0m \u001b[38;5;28mprint\u001b[39m(\u001b[38;5;28mnext\u001b[39m(l1))       \u001b[38;5;66;03m# 8\u001b[39;00m\n\u001b[0;32m      7\u001b[0m \u001b[38;5;28mprint\u001b[39m(\u001b[38;5;28mnext\u001b[39m(l1))       \u001b[38;5;66;03m# 10\u001b[39;00m\n\u001b[1;32m----> 8\u001b[0m \u001b[38;5;28mprint\u001b[39m(\u001b[38;5;28;43mnext\u001b[39;49m\u001b[43m(\u001b[49m\u001b[43ml1\u001b[49m\u001b[43m)\u001b[49m)       \u001b[38;5;66;03m# StopIteration Exception\u001b[39;00m\n",
      "\u001b[1;31mStopIteration\u001b[0m: "
     ]
    }
   ],
   "source": [
    "l1 = map(doubleIt,l)\n",
    "print(type(l1))       # <class 'map'> - an Iterable Generator\n",
    "print(next(l1))       # 2    \n",
    "print(next(l1))       # 4\n",
    "print(next(l1))       # 6\n",
    "print(next(l1))       # 8\n",
    "print(next(l1))       # 10\n",
    "print(next(l1))       # StopIteration Exception"
   ]
  },
  {
   "cell_type": "markdown",
   "id": "d4c20921-3139-40a6-808c-b005856a687d",
   "metadata": {},
   "source": [
    "**Example 2:**"
   ]
  },
  {
   "cell_type": "code",
   "execution_count": 5,
   "id": "eb6afb0c-4af9-46ea-b72d-84553f14b041",
   "metadata": {},
   "outputs": [
    {
     "name": "stdout",
     "output_type": "stream",
     "text": [
      "2\n",
      "4\n",
      "6\n",
      "8\n",
      "10\n"
     ]
    }
   ],
   "source": [
    "l2 = map(doubleIt,l)\n",
    "\n",
    "# The for loop is calling next() method in the background and stops when gets StopIteration exception.\n",
    "for x in l2:           \n",
    "  print(x)"
   ]
  },
  {
   "cell_type": "markdown",
   "id": "d325418b-1221-4f17-b221-2506fbd13c03",
   "metadata": {},
   "source": [
    "**Example 3:**"
   ]
  },
  {
   "cell_type": "code",
   "execution_count": 6,
   "id": "9e066293-02a4-4f05-9283-944443bcc61e",
   "metadata": {},
   "outputs": [
    {
     "name": "stdout",
     "output_type": "stream",
     "text": [
      "[2, 4, 6, 8, 10]\n",
      "[]\n"
     ]
    }
   ],
   "source": [
    "my_gen = map(doubleIt,l)\n",
    "\n",
    "my_list = list(my_gen)\n",
    "print(my_list)                      # [2, 4, 6, 8, 10]      \n",
    "\n",
    "# Since the generator is already used and it raised StopIteration.\n",
    "# list() function does not raise StopIteration, \n",
    "# list() will simply just return an empty list on getting StopItertion exception.\n",
    "\n",
    "my_list = list(my_gen)   \n",
    "print(my_list)                      # []"
   ]
  },
  {
   "cell_type": "markdown",
   "id": "deeded0f-5ddc-4d38-a367-2a1c3789e95a",
   "metadata": {},
   "source": [
    "# Using map( ) - with lambda"
   ]
  },
  {
   "cell_type": "markdown",
   "id": "261a69a2-cd20-4b81-9727-933a6634cc37",
   "metadata": {},
   "source": [
    "**Double It**"
   ]
  },
  {
   "cell_type": "code",
   "execution_count": 7,
   "id": "5f9d3266-bd48-4369-8fce-dd22ba85462d",
   "metadata": {},
   "outputs": [
    {
     "name": "stdout",
     "output_type": "stream",
     "text": [
      "[2, 4, 6, 8, 10]\n"
     ]
    }
   ],
   "source": [
    "l=[1,2,3,4,5]\n",
    "\n",
    "l1 = list(map(lambda x:2*x, l))\n",
    "print(l1)                   # [2, 4, 6, 8, 10]"
   ]
  },
  {
   "cell_type": "markdown",
   "id": "dc97efb6-3e25-4bd2-be62-857890ed9156",
   "metadata": {},
   "source": [
    "**Equivalent comprehension statement**"
   ]
  },
  {
   "cell_type": "code",
   "execution_count": 8,
   "id": "5e8aeccc-c0e8-4770-8764-140a0beb9541",
   "metadata": {},
   "outputs": [],
   "source": [
    "l2 = [2*x for x in l]   # List Comprehension\n",
    "l3 = (2*x for x in l)   # Generator Comprehension (More efficient)"
   ]
  },
  {
   "cell_type": "markdown",
   "id": "ae1232c5-cb82-41f7-91a3-d0717edc160b",
   "metadata": {},
   "source": [
    "**Square It**"
   ]
  },
  {
   "cell_type": "code",
   "execution_count": 9,
   "id": "c73ee8ee-9ff5-4ffb-950e-c316250eac34",
   "metadata": {},
   "outputs": [
    {
     "name": "stdout",
     "output_type": "stream",
     "text": [
      "[1, 4, 9, 16, 25]\n"
     ]
    }
   ],
   "source": [
    "l=[1,2,3,4,5]\n",
    "\n",
    "l1 = list(map(lambda x:x*x, l))\n",
    "print(l1)                   # [1, 4, 9, 16, 25]"
   ]
  },
  {
   "cell_type": "markdown",
   "id": "831b2a3e-9002-4c0c-b458-a3ccb16033a8",
   "metadata": {},
   "source": [
    "**Equivalent comprehension statement**"
   ]
  },
  {
   "cell_type": "code",
   "execution_count": 10,
   "id": "93064461-9a8b-4522-a6d4-71f39633b3ad",
   "metadata": {},
   "outputs": [],
   "source": [
    "l2 = [x*x for x in l]   # List Comprehension\n",
    "l3 = (X*x for x in l)   # Generator Comprehension (More efficient)"
   ]
  },
  {
   "cell_type": "markdown",
   "id": "be72cefc-2f24-4567-9029-31af9e1a86c7",
   "metadata": {},
   "source": [
    "We can apply the **`map( )`** function on **multiple lists** also. \n",
    "\n",
    "If multiple list are not of the same length then the **`map( )`** function will be applied according to the minimum length list and other extra elements present in the remaining lists will be ignored."
   ]
  },
  {
   "cell_type": "markdown",
   "id": "c4e37604-28e5-4e98-9d43-161ff2c80b61",
   "metadata": {},
   "source": [
    "# Using map( ) - on multiple iterables together"
   ]
  },
  {
   "cell_type": "markdown",
   "id": "dc03df5d-60e3-410d-9c32-6b872faa5671",
   "metadata": {},
   "source": [
    "**SYNTAX:** `map ( lambda x, y: x*y, l1, l2) )`\n",
    "\n",
    "**`x`** is from **`l1`** and **`y`** is from **`l2w`**"
   ]
  },
  {
   "cell_type": "code",
   "execution_count": 11,
   "id": "d1063ad2-3e83-410d-9a68-fcb89b006739",
   "metadata": {},
   "outputs": [
    {
     "name": "stdout",
     "output_type": "stream",
     "text": [
      "[2, 6, 12, 20]\n"
     ]
    }
   ],
   "source": [
    "l1=[1,2,3,4]\n",
    "l2=[2,3,4,5]\n",
    "\n",
    "l3 = list(map(lambda x,y: x*y, l1, l2))\n",
    "print(l3)                                 # [2, 6, 12, 20]"
   ]
  },
  {
   "cell_type": "code",
   "execution_count": null,
   "id": "729d5c06-7e64-4862-9115-b220975e12d6",
   "metadata": {},
   "outputs": [],
   "source": []
  }
 ],
 "metadata": {
  "kernelspec": {
   "display_name": "Python 3 (ipykernel)",
   "language": "python",
   "name": "python3"
  },
  "language_info": {
   "codemirror_mode": {
    "name": "ipython",
    "version": 3
   },
   "file_extension": ".py",
   "mimetype": "text/x-python",
   "name": "python",
   "nbconvert_exporter": "python",
   "pygments_lexer": "ipython3",
   "version": "3.12.5"
  }
 },
 "nbformat": 4,
 "nbformat_minor": 5
}
