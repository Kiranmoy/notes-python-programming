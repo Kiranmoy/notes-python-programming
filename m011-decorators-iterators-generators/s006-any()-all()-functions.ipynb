{
 "cells": [
  {
   "cell_type": "markdown",
   "id": "bf141ebd-2370-4c93-972b-f7e03ee8ab8d",
   "metadata": {},
   "source": [
    "# any( ) function"
   ]
  },
  {
   "cell_type": "markdown",
   "id": "062b1c09-582d-4736-997d-9d979a65cd04",
   "metadata": {},
   "source": [
    "It takes an **iterable** → iterates each element.\n",
    "\n",
    "If any of the elements/values evaluate to **`True`** → **`any( )`** function returns **`True`**, else returns **`False`**."
   ]
  },
  {
   "cell_type": "markdown",
   "id": "55394bd5-ad94-4455-b2d6-d1c5841129ce",
   "metadata": {},
   "source": [
    "# all( ) function"
   ]
  },
  {
   "cell_type": "markdown",
   "id": "2a7f46d4-3d66-4625-89a6-1008f9dc7d5d",
   "metadata": {},
   "source": [
    "It takes an **iterable** → iterates each element.\n",
    "\n",
    "If all of the elements/values are evaluated to **`True`** → **`all( )`** function returns **`True`**, else return **`False`**."
   ]
  },
  {
   "cell_type": "markdown",
   "id": "6c4a6758-5724-49be-9ada-0f376fe188ba",
   "metadata": {},
   "source": [
    "**Note:**\n",
    "* Values evaluate to **`False`** → `0`, `0.0`, `None`, empy string `''`,  `[ ]`, `( )`, `{ }`, `False`.\n",
    "* Anything else will be considered as **`True`**."
   ]
  },
  {
   "cell_type": "code",
   "execution_count": 4,
   "id": "99915f63-c1a9-488e-bc38-1ed79f8547a0",
   "metadata": {},
   "outputs": [
    {
     "name": "stdin",
     "output_type": "stream",
     "text": [
      "Where are you right now?  Italy\n"
     ]
    },
    {
     "name": "stdout",
     "output_type": "stream",
     "text": [
      "[{'name': 'Charlie', 'location': 'Italy'}]\n"
     ]
    }
   ],
   "source": [
    "friends = [\n",
    "  {'name': 'Rolf', 'location':'Washington DC'},\n",
    "  {'name': 'Anna', 'location':'San Fransisco'},\n",
    "  {'name': 'Charlie', 'location':'Italy'},\n",
    "  {'name': 'Jose', 'location':'Spain'}\n",
    "]\n",
    "\n",
    "your_location = input('Where are you right now? ')\n",
    "\n",
    "friends_nearby = [f for f in friends if f['location']==your_location]\n",
    "print(friends_nearby)\n"
   ]
  },
  {
   "cell_type": "markdown",
   "id": "3c190ea5-a385-4542-9aa6-fda863c327c3",
   "metadata": {},
   "source": [
    "## any( ) function usecase"
   ]
  },
  {
   "cell_type": "code",
   "execution_count": 5,
   "id": "5e7bd63b-6daf-4497-91c6-3cb951d9081f",
   "metadata": {},
   "outputs": [
    {
     "name": "stdout",
     "output_type": "stream",
     "text": [
      "You're not alone\n",
      "You're not alone\n"
     ]
    }
   ],
   "source": [
    "if len(friends_nearby)>0:\n",
    "  print(\"You're not alone\")\n",
    "\n",
    "# Equivalent statement\n",
    "if any(friends_nearby):\n",
    "  print(\"You're not alone\")"
   ]
  },
  {
   "cell_type": "markdown",
   "id": "b76f5aca-208b-4328-a3fd-8bf34949764f",
   "metadata": {},
   "source": [
    "## all( ) function usecase"
   ]
  },
  {
   "cell_type": "code",
   "execution_count": 6,
   "id": "4b85e9d2-ba69-47c2-92f5-fe2f81929e47",
   "metadata": {},
   "outputs": [
    {
     "name": "stdout",
     "output_type": "stream",
     "text": [
      "You have all your friends\n"
     ]
    }
   ],
   "source": [
    "if len(friends_nearby) == len(friends):\n",
    "  print(\"You have all your friends\")\n",
    "\n",
    "# Equivalent statement\n",
    "if all(friends_nearby):\n",
    "  print(\"You have all your friends\")"
   ]
  },
  {
   "cell_type": "code",
   "execution_count": null,
   "id": "e1b59cc6-af9d-4246-bed8-9c1d21515b6f",
   "metadata": {},
   "outputs": [],
   "source": []
  }
 ],
 "metadata": {
  "kernelspec": {
   "display_name": "Python 3 (ipykernel)",
   "language": "python",
   "name": "python3"
  },
  "language_info": {
   "codemirror_mode": {
    "name": "ipython",
    "version": 3
   },
   "file_extension": ".py",
   "mimetype": "text/x-python",
   "name": "python",
   "nbconvert_exporter": "python",
   "pygments_lexer": "ipython3",
   "version": "3.12.5"
  }
 },
 "nbformat": 4,
 "nbformat_minor": 5
}
