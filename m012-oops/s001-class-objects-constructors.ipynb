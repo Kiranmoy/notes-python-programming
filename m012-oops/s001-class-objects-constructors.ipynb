{
 "cells": [
  {
   "cell_type": "markdown",
   "id": "7126a5ed-72a4-4962-abd2-c540b8e6a586",
   "metadata": {},
   "source": [
    "# Class"
   ]
  },
  {
   "cell_type": "markdown",
   "id": "3f69f736-3aa2-402e-9a9a-c265b8518d46",
   "metadata": {},
   "source": [
    "* In Python, everything is an object. \n",
    "* To create objects we required some model or plan or blueprint, which is nothing but class.\n",
    "* We can write a class to represent the properties (**attributes**) and actions (**behavior**) of the object.\n",
    "* **Properties** can be represented by **variables**.\n",
    "* **Actions** can be represented by **methods**.\n",
    "* Hence class contains both **variables** and **methods**.\n",
    "\n",
    "> * *A class is a **blueprint** (a plan basically) that is used to define (bind together) a set of variables and methods (Characteristics) that are common to all objects of a particular kind.*\n",
    "> * *Classes are used to create **user-defined data structures**.*\n",
    "> * *Classes define functions called methods , which identify the behaviors and actions that an object created from the class can perform with its data.*"
   ]
  },
  {
   "cell_type": "markdown",
   "id": "bf258b31-aec0-4115-98b0-436627c5d575",
   "metadata": {},
   "source": [
    "# Defining a Class"
   ]
  },
  {
   "cell_type": "markdown",
   "id": "d8ca8b79-a00b-408f-b8cf-b021e33cc919",
   "metadata": {},
   "source": [
    "We can define a class by using the class keyword.\n",
    "\n",
    "**Syntax:**\n",
    "```\n",
    "class className:\n",
    "  ''' documenttation string '''\n",
    "  # variables:instance variables,static and local variables\n",
    "  # methods: instance methods,static methods,class methods\n",
    "```\n",
    "\n",
    "The documentation string represents the description of the class.\n",
    "\n",
    "Within the class, the doc string is always optional. \n",
    "\n",
    "We can get a doc string by using the following 2 ways:\n",
    "\n",
    "```\n",
    "print(classname.__doc__)\n",
    "help(classname)\n",
    "```\n",
    "**Example:**\n",
    "```\n",
    "class Student:\n",
    "  ''''' This is student class with required data'''\n",
    "  \n",
    "print(Student.__doc__)    # This is student class with required data\n",
    "help(Student)             # This is student class with required data\n",
    "```"
   ]
  },
  {
   "cell_type": "markdown",
   "id": "90d4421a-37c6-48c8-a9f4-b34871faff78",
   "metadata": {},
   "source": [
    "# Types of variables"
   ]
  },
  {
   "cell_type": "markdown",
   "id": "bd3ce0b8-33fc-4a38-a4a6-501ef7a9ecac",
   "metadata": {},
   "source": [
    "Within the Python class, we can represent data by using variables.\n",
    "\n",
    "There are 3 types of variables that are allowed.\n",
    "* Instance variables ( **Object level variables** )\n",
    "* Static variables ( **Class level variables** )\n",
    "* Local variables ( **Method level variables** )\n",
    "\n",
    "**Example:**"
   ]
  },
  {
   "cell_type": "code",
   "execution_count": 2,
   "id": "52c1f1c8-4787-457f-a0f7-22d0ec987989",
   "metadata": {},
   "outputs": [],
   "source": [
    "class Student:\n",
    "\n",
    "  '''''Developed by durga for python demo'''\n",
    "  \n",
    "  def __init__(self):\n",
    "    self.name='durga'\n",
    "    self.age=40\n",
    "    self.marks=80\n",
    "\n",
    "  def talk(self):\n",
    "    print(\"Hello I am :\",self.name)\n",
    "    print(\"My Age is:\",self.age)\n",
    "    print(\"My Marks are:\",self.marks)\n"
   ]
  },
  {
   "cell_type": "markdown",
   "id": "9de409e9-8327-4b5b-b9b2-6ca21ef06200",
   "metadata": {},
   "source": [
    "# Types of methods"
   ]
  },
  {
   "cell_type": "markdown",
   "id": "be8da1d7-f881-4f8c-b9fa-476a8192d4d0",
   "metadata": {},
   "source": [
    "Within the Python class, we can represent operations by using methods. \n",
    "\n",
    "The following are various types of allowed methods:\n",
    "* Instance Methods\n",
    "* Class Methods\n",
    "* Static Methods"
   ]
  },
  {
   "cell_type": "markdown",
   "id": "cfc09acd-e365-482d-816c-e624bb8da30a",
   "metadata": {},
   "source": [
    "# Object"
   ]
  },
  {
   "cell_type": "markdown",
   "id": "2b1c64b0-0ee9-49ac-b310-584befa66763",
   "metadata": {},
   "source": [
    "The physical existence of a class is nothing but an object. We can create any number of objects for a class.\n",
    "\n",
    "**Syntax** → `referencevariable = classname( )` \n",
    "\n",
    "**Example:** `s = Student()`\n",
    "        "
   ]
  },
  {
   "cell_type": "markdown",
   "id": "f0aa80d2-6606-4a36-88d1-0f2af66596b1",
   "metadata": {},
   "source": [
    "# Reference Variable"
   ]
  },
  {
   "cell_type": "markdown",
   "id": "11a3c9bf-701d-4a65-9fe0-d94d000ab533",
   "metadata": {},
   "source": [
    "The variable which can be used to refer object is called a **reference variable**.\n",
    "\n",
    "By using reference variables, we can access the properties and methods of objects."
   ]
  },
  {
   "cell_type": "code",
   "execution_count": 4,
   "id": "33ca1aca-a962-4641-b075-5e98c4c8ce01",
   "metadata": {},
   "outputs": [
    {
     "name": "stdout",
     "output_type": "stream",
     "text": [
      "Hello My Name is: Durga\n",
      "My Rollno is: 101\n",
      "My Marks are: 80\n"
     ]
    }
   ],
   "source": [
    "class Student:\n",
    "\n",
    "  def __init__(self,name,rollno,marks):\n",
    "    self.name=name\n",
    "    self.rollno=rollno\n",
    "    self.marks=marks\n",
    "    \n",
    "  def talk(self):\n",
    "    print(\"Hello My Name is:\",self.name)\n",
    "    print(\"My Rollno is:\",self.rollno)\n",
    "    print(\"My Marks are:\",self.marks)\n",
    "    \n",
    "s1=Student(\"Durga\",101,80)\n",
    "s1.talk()"
   ]
  },
  {
   "cell_type": "markdown",
   "id": "7a25a070-c4d6-43de-875c-8f11b519b306",
   "metadata": {},
   "source": [
    "# self variable"
   ]
  },
  {
   "cell_type": "markdown",
   "id": "2ebe4734-913a-44e4-94dd-25c460021723",
   "metadata": {},
   "source": [
    "Within python class to refer current object, some variable must be required, which is nothing but `self`.\n",
    "\n",
    "`self` is the default variable which is always **pointing to the current object** (like this keyword in Java).\n",
    "\n",
    "By using `self` we can access instance variables and instance methods of objects\n",
    "\n",
    "The first argument to the constructor or instance methods should be `self`.\n",
    "\n",
    "The main purpose of the `self` variable is to \n",
    "* declare instance variables, and \n",
    "* access instance variables & methods.\n",
    "\n",
    "At the time of calling the **constructor** ( creating object ) or the instance method, we’re not required to pass any value to the `self` variable. Internally PVM is responsible to provide value.\n",
    "\n",
    "The `self` is not a keyword but rather a convention. We can use any other name instead of `self`, but that is not recommended.\n",
    "\n",
    "We cannot use `self` from outside of the class.\n",
    "\n",
    "> **NOTE**:\n",
    "> * `self` should be the first parameter inside constructor: `def __init__( self ):`\n",
    "> * `self` should be the first parameter inside instance methods: `def talk( self ):`\n"
   ]
  },
  {
   "cell_type": "code",
   "execution_count": 5,
   "id": "6fd975b0-6f1f-4c98-912b-74d1547a40a4",
   "metadata": {},
   "outputs": [
    {
     "name": "stdout",
     "output_type": "stream",
     "text": [
      "Address of object pointed by the self variable:  1838044371648\n",
      "Address of object pointed by t variable:  1838044371648\n"
     ]
    }
   ],
   "source": [
    "class Test:\n",
    "  def __init__(self):\n",
    "    print('Address of object pointed by the self variable: ', id(self))\n",
    "\n",
    "t = Test()\n",
    "print(\"Address of object pointed by t variable: \", id(t))"
   ]
  },
  {
   "cell_type": "markdown",
   "id": "3d562435-4ec5-4fa3-870d-3c8995cf786f",
   "metadata": {},
   "source": [
    "**OUTPUT**\n",
    "* Address of object pointed by the self variable: **41866744**\n",
    "* Address of object pointed by t variable: **41866744**\n",
    "\n",
    "> **NOTE:**\n",
    "> * The '`self`' is a **convention** but **not a keyword** in Python. \n",
    "> * Instead of ‘`self`’ we can use any other name.\n",
    "> * Whatever the **first argument** to the constructor or instance method declaration is by *`default considered as the implicit variable pointing to the current object or reference to current object`*."
   ]
  },
  {
   "cell_type": "code",
   "execution_count": 6,
   "id": "4c17d677-61e9-41a0-9d1e-ae45cb61e00d",
   "metadata": {},
   "outputs": [
    {
     "name": "stdout",
     "output_type": "stream",
     "text": [
      "Hello My Name is: Durga\n",
      "My Rollno is: 101\n",
      "My Marks are: 80\n"
     ]
    }
   ],
   "source": [
    "class Student:\n",
    "\n",
    "  '''''Developed by durga for python demo'''\n",
    "  \n",
    "  def __init__(DELF):\n",
    "    DELF.name='Durga'\n",
    "    DELF.roll=101\n",
    "    DELF.marks=80\n",
    "\n",
    "  def talk(KELF):\n",
    "    print(\"Hello My Name is:\",KELF.name)\n",
    "    print(\"My Rollno is:\",KELF.roll)\n",
    "    print(\"My Marks are:\",KELF.marks)\n",
    "\n",
    "s1=Student()\n",
    "s1.talk()"
   ]
  },
  {
   "cell_type": "markdown",
   "id": "86978610-4919-4348-9feb-98462166f5bc",
   "metadata": {},
   "source": [
    "# Constructor"
   ]
  },
  {
   "cell_type": "markdown",
   "id": "ca5d35d8-5abd-479b-9101-02e7d5321bb0",
   "metadata": {},
   "source": [
    "* Constructor is a special method in python.\n",
    "* The **name of the constructor** should be `__init__(self)`.\n",
    "* We are not required to call the constructor explicitly.\n",
    "* Whenever we’re creating an object, the constructor will be executed automatically at the time of object creation.\n",
    "* ***The main purpose of the constructor is to declare and initialize instance variables.***\n",
    "* Per object, the constructor will be executed only once.\n",
    "* A constructor can take at least one argument(at least self).\n",
    "* Constructor is optional and if we are not providing any constructor then python will provide the default constructor.\n",
    "* Based on our requirements, we can call the constructor explicitly.\n",
    "* But if we call the constructor explicitly then it won’t create a new object, instead, it will be executed just like a normal method.\n",
    "* The **overloading** concept is not applicable to the constructor.\n",
    "* Hence, we cannot define multiple constructors within the same class.\n",
    "* If we define multiple constructors within the same class, then only the last defined constructor will be considered."
   ]
  },
  {
   "cell_type": "code",
   "execution_count": 7,
   "id": "944c88b3-e095-4fdc-886f-a864dbc03f2f",
   "metadata": {},
   "outputs": [],
   "source": [
    "def __init__(self,name,rollno,marks):\n",
    "  self.name=name\n",
    "  self.rollno=rollno\n",
    "  self.marks=marks"
   ]
  },
  {
   "cell_type": "markdown",
   "id": "e457fe55-38bc-4f1d-9e77-aaf1464d8d92",
   "metadata": {},
   "source": [
    "**Demonstrate constructor will execute only once per object**"
   ]
  },
  {
   "cell_type": "code",
   "execution_count": 8,
   "id": "0b051479-072b-472a-8766-0b2270e1a306",
   "metadata": {},
   "outputs": [
    {
     "name": "stdout",
     "output_type": "stream",
     "text": [
      "Constructor exeuction...\n",
      "Constructor exeuction...\n",
      "Constructor exeuction...\n",
      "Method execution...\n"
     ]
    }
   ],
   "source": [
    "class Test:\n",
    "\n",
    " def __init__(self):\n",
    "  print(\"Constructor exeuction...\")\n",
    "\n",
    " def m1(self):\n",
    "  print(\"Method execution...\")\n",
    "\n",
    "t1=Test()\n",
    "t2=Test()\n",
    "t3=Test()\n",
    "t1.m1()"
   ]
  },
  {
   "cell_type": "markdown",
   "id": "c775cc9f-e99a-40b5-ae4c-b924f76b6e5d",
   "metadata": {},
   "source": [
    "> * We are not required to call the constructor explicitly. Whenever we’re creating an object, the constructor will be executed automatically at the time of object creation.\n",
    "> * But based on our requirements, we can call the constructor explicitly. If we call the constructor explicitly then it won’t create a new object, instead, it will be executed just like a normal method."
   ]
  },
  {
   "cell_type": "code",
   "execution_count": 9,
   "id": "532cdddb-c40b-40ce-a87a-4a4c85aa7337",
   "metadata": {},
   "outputs": [
    {
     "name": "stdout",
     "output_type": "stream",
     "text": [
      "Constructor exeuction...\n",
      "1838065822624\n",
      "Constructor exeuction...\n",
      "1838065822624\n",
      "Constructor exeuction...\n",
      "1838065822624\n",
      "Constructor exeuction...\n",
      "1838065822624\n"
     ]
    }
   ],
   "source": [
    "class Test:\n",
    "\n",
    " def __init__(self):\n",
    "  print(\"Constructor exeuction...\")\n",
    "  \n",
    "t = Test()      # Constructor exeuction...\n",
    "print(id(t))    # 59235235\n",
    "\n",
    "t.__init__()    # Constructor exeuction...\n",
    "print(id(t))    # 59235235\n",
    "\n",
    "t.__init__()    # Constructor exeuction...\n",
    "print(id(t))    # 59235235\n",
    "\n",
    "t.__init__()    # Constructor exeuction...\n",
    "print(id(t))    # 59235235"
   ]
  },
  {
   "cell_type": "markdown",
   "id": "a37b3608-d357-42f0-9464-c99e65c7c284",
   "metadata": {},
   "source": [
    "> * **Python doesn’t support method overloading and constructor overload.**\n",
    "> * If two or more constructor or methods with same name is there, python always consider the last declared version of the method/constrcutor."
   ]
  },
  {
   "cell_type": "code",
   "execution_count": 12,
   "id": "b740152e-32c6-4d48-a45a-53bc0d799425",
   "metadata": {},
   "outputs": [
    {
     "name": "stdout",
     "output_type": "stream",
     "text": [
      "one-arg constructor\n"
     ]
    }
   ],
   "source": [
    "class Test:\n",
    "  def __init__(self):\n",
    "    print(\"no-arg constructor\")\n",
    "    \n",
    "  def __init__(self, x):\n",
    "    print(\"one-arg constructor\")\n",
    "    \n",
    "t1 = Test(10)   # This will execute."
   ]
  },
  {
   "cell_type": "code",
   "execution_count": 13,
   "id": "e2b2397c-9b65-486c-bb04-b31738cf465e",
   "metadata": {},
   "outputs": [
    {
     "ename": "TypeError",
     "evalue": "Test.__init__() missing 1 required positional argument: 'x'",
     "output_type": "error",
     "traceback": [
      "\u001b[1;31m---------------------------------------------------------------------------\u001b[0m",
      "\u001b[1;31mTypeError\u001b[0m                                 Traceback (most recent call last)",
      "Cell \u001b[1;32mIn[13], line 1\u001b[0m\n\u001b[1;32m----> 1\u001b[0m t2 \u001b[38;5;241m=\u001b[39m \u001b[43mTest\u001b[49m\u001b[43m(\u001b[49m\u001b[43m)\u001b[49m     \u001b[38;5;66;03m# TypeError: __init__() missing 1 required positional argument: 'x'\u001b[39;00m\n",
      "\u001b[1;31mTypeError\u001b[0m: Test.__init__() missing 1 required positional argument: 'x'"
     ]
    }
   ],
   "source": [
    "t2 = Test()     # TypeError: __init__() missing 1 required positional argument: 'x'"
   ]
  },
  {
   "cell_type": "markdown",
   "id": "829c667d-93cc-422b-b72c-c833a717dc73",
   "metadata": {},
   "source": [
    "# Differences between methods and constructors?"
   ]
  },
  {
   "attachments": {
    "de6d9092-bb20-4ef2-937f-b736721993de.png": {
     "image/png": "[encoded data removed]"
    }
   },
   "cell_type": "markdown",
   "id": "0d4119d8-6172-498f-b329-37ccae8be187",
   "metadata": {},
   "source": [
    "![image.png](attachment:de6d9092-bb20-4ef2-937f-b736721993de.png)\n",
    "\n",
    "> **We can use the method name, the same as the class name, but not recommended.**"
   ]
  },
  {
   "cell_type": "code",
   "execution_count": 14,
   "id": "cf73961b-d4e3-4350-bbd2-7bb557dc65c7",
   "metadata": {},
   "outputs": [
    {
     "name": "stdout",
     "output_type": "stream",
     "text": [
      "no-arg constructor\n",
      "Method name - same as - Class name\n"
     ]
    }
   ],
   "source": [
    "class Test:\n",
    "  def __init__(self):\n",
    "    print(\"no-arg constructor\")\n",
    "    \n",
    "  def Test(self):\n",
    "    print(\"Method name - same as - Class name\")\n",
    "    \n",
    "t = Test()    # no-arg constructor\n",
    "t.Test()      # Method name - same as - Class name"
   ]
  },
  {
   "cell_type": "code",
   "execution_count": null,
   "id": "733355df-dfa4-44b7-b09f-0e8a96f74ce8",
   "metadata": {},
   "outputs": [],
   "source": []
  }
 ],
 "metadata": {
  "kernelspec": {
   "display_name": "Python 3 (ipykernel)",
   "language": "python",
   "name": "python3"
  },
  "language_info": {
   "codemirror_mode": {
    "name": "ipython",
    "version": 3
   },
   "file_extension": ".py",
   "mimetype": "text/x-python",
   "name": "python",
   "nbconvert_exporter": "python",
   "pygments_lexer": "ipython3",
   "version": "3.12.5"
  }
 },
 "nbformat": 4,
 "nbformat_minor": 5
}
