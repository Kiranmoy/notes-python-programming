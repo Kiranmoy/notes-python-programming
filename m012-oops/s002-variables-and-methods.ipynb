{
 "cells": [
  {
   "cell_type": "markdown",
   "id": "39ed4ab8-8d32-463f-bc6d-8df8c159717d",
   "metadata": {},
   "source": [
    "# Types of variables"
   ]
  },
  {
   "cell_type": "markdown",
   "id": "fe5fb6d5-f76d-4fd4-ae92-eee74030e8c9",
   "metadata": {},
   "source": [
    "Within the Python class, we can represent data by using variables.\n",
    "\n",
    "There are 3 types of variables that are allowed.\n",
    "* Instance variables ( **Object level variables** )\n",
    "* Static variables ( **Class level variables** )\n",
    "* Local variables ( **Method level variables** )"
   ]
  },
  {
   "cell_type": "code",
   "execution_count": 1,
   "id": "ecd6cac7-0b2d-48bb-8f51-f7e32aff4e1f",
   "metadata": {},
   "outputs": [],
   "source": [
    "class Student:\n",
    "\n",
    "  school_name = 'MIT'                 # STATIC VARIABLE\n",
    "  \n",
    "  def __init__(self, name, rollno):\n",
    "    self.name = name                  # INSTANCE VARIABLE\n",
    "    self.rollno = rollno              # INSTANCE VARIABLE\n",
    "    \n",
    "  def info(self):\n",
    "    x = 10                            # LOCAL VARIABLE\n",
    "    for i in range(x):                # i  - LOCAL VARIABLE\n",
    "      print(i)\n",
    "    "
   ]
  },
  {
   "cell_type": "markdown",
   "id": "b0dbcf5f-9084-487a-a467-7e32d934a74c",
   "metadata": {},
   "source": [
    "## Instance Variables"
   ]
  },
  {
   "cell_type": "markdown",
   "id": "74617fcf-9502-4756-a7a0-20721aec9624",
   "metadata": {},
   "source": [
    "* If the value of a variable varies from object to object, such variables are called **instance variables** or **object-level** variables.\n",
    "* A separate copy of the instance variable will be created for each object.\n",
    "* Most of the time instance variables will be declared inside the constructor by using a `self` variable."
   ]
  },
  {
   "cell_type": "markdown",
   "id": "3c2e7f36-6d23-4c5b-b18a-5c6cf6c4b3ae",
   "metadata": {},
   "source": [
    "## Static Variables"
   ]
  },
  {
   "cell_type": "markdown",
   "id": "5695e1cc-8eae-478d-9181-89dd7a452e5d",
   "metadata": {},
   "source": [
    "* If the value of a variable is not varied from object to object, then it is not recommended to declare those variables as instance variables. We have to declare them as **static variables**.\n",
    "* In the case of instance variables, for every object, a separate copy will be created. But in the case of static variables at the class level, only one copy will be created and shared by every object of that class.\n",
    "* Most of the time, static variables should be declared within the class directly."
   ]
  },
  {
   "cell_type": "markdown",
   "id": "c7dc41cc-81ae-4dbf-a9f1-3e91fc1e8f26",
   "metadata": {},
   "source": [
    "## Local Variables"
   ]
  },
  {
   "cell_type": "markdown",
   "id": "2bd29afe-3b6c-4297-af80-360e9dfe30df",
   "metadata": {},
   "source": [
    "To meet the temporary requirements of the programmer, sometimes we declare variables inside methods, such types of variables are called **local variables** or **method-level** variables. "
   ]
  },
  {
   "cell_type": "markdown",
   "id": "7bf1fc8b-365d-4192-83d5-5f40f68a2a2a",
   "metadata": {},
   "source": [
    "# Types of methods"
   ]
  },
  {
   "cell_type": "markdown",
   "id": "bb4a8d68-1023-47ad-8e75-91e5743244c6",
   "metadata": {},
   "source": [
    "Within the Python class, we can represent operations by using methods.\n",
    "\n",
    "The following are various types of allowed methods:\n",
    "* Instance Methods\n",
    "* Class Methods\n",
    "* Static Methods"
   ]
  },
  {
   "cell_type": "code",
   "execution_count": 2,
   "id": "5eac14b3-ddf2-4ae9-8065-0f6b177c02d4",
   "metadata": {},
   "outputs": [],
   "source": [
    "class Student:\n",
    "\n",
    "  school_name = 'MIT'                 # STATIC VARIABLE\n",
    "  \n",
    "  def __init__(self, name, rollno):\n",
    "    self.name = name                  # INSTANCE VARIABLE\n",
    "    self.rollno = rollno              # INSTANCE VARIABLE\n",
    "    \n",
    "  def getStudentInfo(self):           # INSTANCE METHOD\n",
    "    print(\"NAME : \", self.name)\n",
    "    print(\"ROL NO: \", self.rollno)\n",
    "  \n",
    "  @classmethod\n",
    "  def getSchoolInfo(cls):             # CLASS METHOD\n",
    "    # cls -> class reference variable to access class level information\n",
    "    print(\"SCHOOL NAME: \", cls.school_name) \n",
    "    print(id(cls))    # 32653453\n",
    "    print(Student)    # 32653453\n",
    "  \n",
    "  @staticmethod \n",
    "  def getSum(a, b):                    # STATIC METHOD\n",
    "    return a + b\n"
   ]
  },
  {
   "cell_type": "markdown",
   "id": "a7082da4-9a33-4d7c-bd78-141daa96af1a",
   "metadata": {},
   "source": [
    "For every class, pvm creates a class-level object to hold class level information and name of that object is **`cls`**."
   ]
  },
  {
   "cell_type": "markdown",
   "id": "c66f012b-1d8d-4165-8c8f-4a8d3d6eb52d",
   "metadata": {},
   "source": [
    "## Instance methods"
   ]
  },
  {
   "cell_type": "markdown",
   "id": "0d799dd1-0c58-49e3-9dc1-e09cf776b9bd",
   "metadata": {},
   "source": [
    "* Inside a method, if we are trying to access instance variables, then that method will always talk about a particular object and that method should be declared as an **instance method**.\n",
    "* The first argument to the instance method is always ‘`self`’ - which is a reference variable to the current object."
   ]
  },
  {
   "cell_type": "markdown",
   "id": "2a4aa688-ee6f-4dd7-b6cb-f87e2675b4e5",
   "metadata": {},
   "source": [
    "## Class methods"
   ]
  },
  {
   "cell_type": "markdown",
   "id": "9bda4937-467c-47a6-92b8-7568c1d69062",
   "metadata": {},
   "source": [
    "Inside the method if we are using only static variables and if we are not using any instance variable then that method is in no way related to a particular object and it is a `class-level` method. Such types of methods we have to declare as **class methods**.\n",
    "\n",
    "We have to declare a class method with the **`@classmethod`** decorator.\n",
    "\n",
    "The first argument to the class method is always **'`cls`'**, which is a reference variable to the class object.\n",
    "\n",
    "For every class one special object will be created by PVM to maintain class-level information, which is nothing but a class-level object. \n",
    "\n",
    "**`cls`** is the reference variable pointing to that class object."
   ]
  },
  {
   "cell_type": "markdown",
   "id": "3fb33558-be9a-40a9-bc10-3ba1e554673f",
   "metadata": {},
   "source": [
    "## Static methods"
   ]
  },
  {
   "cell_type": "markdown",
   "id": "45df9c3c-381e-4ece-aa45-bd478d2f29e6",
   "metadata": {},
   "source": [
    "* Inside a method, if we are not using any instance variable or static variable, such types of methods are general utility methods, and these methods we have to declare as **static methods**.\n",
    "* Static methods should be declared by using the **`@staticmethod`** decorator."
   ]
  },
  {
   "cell_type": "code",
   "execution_count": null,
   "id": "4737eced-3f73-442e-b3f0-35beb01e6aaa",
   "metadata": {},
   "outputs": [],
   "source": []
  }
 ],
 "metadata": {
  "kernelspec": {
   "display_name": "Python 3 (ipykernel)",
   "language": "python",
   "name": "python3"
  },
  "language_info": {
   "codemirror_mode": {
    "name": "ipython",
    "version": 3
   },
   "file_extension": ".py",
   "mimetype": "text/x-python",
   "name": "python",
   "nbconvert_exporter": "python",
   "pygments_lexer": "ipython3",
   "version": "3.12.5"
  }
 },
 "nbformat": 4,
 "nbformat_minor": 5
}
