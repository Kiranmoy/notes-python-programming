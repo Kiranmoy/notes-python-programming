{
 "cells": [
  {
   "cell_type": "markdown",
   "id": "59462094-2b87-42aa-b747-dfc171175dad",
   "metadata": {},
   "source": [
    "# Introduction"
   ]
  },
  {
   "cell_type": "markdown",
   "id": "739ec6e2-8e84-4044-8963-64183c92c511",
   "metadata": {},
   "source": [
    "* If the value of a variable varies from object to object, such variables are called **instance variables** or **object-level** variables.\n",
    "* A separate copy of the instance variable will be created for each object.\n",
    "* **Instance variables can be declared:**\n",
    "    * Inside Constructor by using self variable.\n",
    "    * Inside Instance Method by using self variable.\n",
    "    * Outside of the class by using object reference variable.\n",
    "* Most of the time instance variables will be declared inside the constructor by using a `self` variable."
   ]
  },
  {
   "cell_type": "markdown",
   "id": "0fa6d5db-ab96-4a19-94c5-071e2e94f205",
   "metadata": {},
   "source": [
    "# Declaring instance variable inside constructor by using ‘self’ variable"
   ]
  },
  {
   "cell_type": "markdown",
   "id": "11e87fc2-f4a9-44d6-a790-1008eb6af52c",
   "metadata": {},
   "source": [
    "We can declare instance variables inside a constructor by using the `self` keyword. \n",
    "\n",
    "Once we create an object, automatically these variables will be added to the object."
   ]
  },
  {
   "cell_type": "code",
   "execution_count": 1,
   "id": "1b240cac-e447-4fe3-87b4-efac19f3f586",
   "metadata": {},
   "outputs": [
    {
     "name": "stdout",
     "output_type": "stream",
     "text": [
      "{'eno': 100, 'ename': 'Durga', 'esal': 10000}\n"
     ]
    }
   ],
   "source": [
    "class Employee:\n",
    "\n",
    "  def __init__(self):\n",
    "    self.eno=100\n",
    "    self.ename='Durga'\n",
    "    self.esal=10000\n",
    "\n",
    "e=Employee()\n",
    "print(e.__dict__)           # {'eno': 100, 'ename': 'Durga', 'esal': 10000}"
   ]
  },
  {
   "cell_type": "markdown",
   "id": "a155aea9-181f-4f41-adf4-02a16adacc7a",
   "metadata": {},
   "source": [
    "# Declaring instance variable inside instance method by using ‘self’ variable"
   ]
  },
  {
   "cell_type": "markdown",
   "id": "a625cd74-cbfd-418f-95e6-b319041c523b",
   "metadata": {},
   "source": [
    "We can also declare instance variables inside the instance method by using the `self` keyword. \n",
    "\n",
    "If any instance variable is declared inside the instance method, that instance variable will be added only when we call that method. \n",
    "\n",
    "If we don’t call the method, the instance variable won’t get added."
   ]
  },
  {
   "cell_type": "code",
   "execution_count": 2,
   "id": "1ecc13ef-4a9a-4bb0-906a-fb2ad44eec9d",
   "metadata": {},
   "outputs": [
    {
     "name": "stdout",
     "output_type": "stream",
     "text": [
      "{'a': 10, 'b': 20}\n",
      "{'a': 10, 'b': 20, 'c': 30}\n"
     ]
    }
   ],
   "source": [
    "class Test:\n",
    "\n",
    "  def __init__(self):\n",
    "    self.a=10\n",
    "    self.b=20\n",
    "\n",
    "  def m1(self):\n",
    "    self.c=30\n",
    "\n",
    "t=Test()\n",
    "print(t.__dict__)       # {'a': 10, 'b': 20}\n",
    "\n",
    "t.m1()\n",
    "print(t.__dict__)       # {'a': 10, 'b': 20, 'c': 30}\n"
   ]
  },
  {
   "cell_type": "markdown",
   "id": "1da19933-48a9-44a7-bf7f-ad0c2b44a7e4",
   "metadata": {},
   "source": [
    "# Declaring instance variable outside of the class by using object reference variable"
   ]
  },
  {
   "cell_type": "markdown",
   "id": "dc0cfff0-ba32-4c1c-be40-42c3b9824f11",
   "metadata": {},
   "source": [
    "We can also add instance variables outside of a class to a particular object."
   ]
  },
  {
   "cell_type": "code",
   "execution_count": 3,
   "id": "dade4d6c-5b14-4d89-b0d8-0483d20b296d",
   "metadata": {},
   "outputs": [
    {
     "name": "stdout",
     "output_type": "stream",
     "text": [
      "{'a': 10, 'b': 20, 'c': 30, 'd': 40}\n"
     ]
    }
   ],
   "source": [
    "class Test:\n",
    "\n",
    "  def __init__(self):\n",
    "    self.a=10\n",
    "    self.b=20\n",
    "\n",
    "  def m1(self):\n",
    "    self.c=30\n",
    "\n",
    "t=Test()\n",
    "t.m1()\n",
    "t.d=40\n",
    "print(t.__dict__)     # {'a': 10, 'b': 20, 'c': 30, 'd': 40}"
   ]
  },
  {
   "cell_type": "markdown",
   "id": "a513d344-24fa-4194-b6e3-ef96e1934c4a",
   "metadata": {},
   "source": [
    "# Accessing instance variables"
   ]
  },
  {
   "cell_type": "markdown",
   "id": "fe3fcd11-48a7-4af9-b578-bd7f5b7a5483",
   "metadata": {},
   "source": [
    "We can access instance variables within the class by using `self` variables and outside of the class by using object reference."
   ]
  },
  {
   "cell_type": "code",
   "execution_count": 4,
   "id": "3ebfb154-029f-4e29-8646-11529a9460d8",
   "metadata": {},
   "outputs": [
    {
     "name": "stdout",
     "output_type": "stream",
     "text": [
      "10\n",
      "20\n",
      "10 20\n"
     ]
    }
   ],
   "source": [
    "class Test:\n",
    "\n",
    "  def __init__(self):\n",
    "    self.a=10\n",
    "    self.b=20\n",
    "\n",
    "  def display(self):\n",
    "    print(self.a)\n",
    "    print(self.b)\n",
    "\n",
    "t=Test()\n",
    "t.display()\n",
    "print(t.a,t.b)"
   ]
  },
  {
   "cell_type": "markdown",
   "id": "1cf53392-6dc1-4a80-a205-28bbd9a7a5f9",
   "metadata": {},
   "source": [
    "> * If we change the values of instance variables of one object then those changes won't be reflected to the remaining objects, because for every object we are separate copy of instance variables are available.\n",
    "> * The number of instance variable can be varied from object to object of the same class."
   ]
  },
  {
   "cell_type": "code",
   "execution_count": 5,
   "id": "0035711d-f00f-468c-a0ad-5ab88da02300",
   "metadata": {},
   "outputs": [
    {
     "name": "stdout",
     "output_type": "stream",
     "text": [
      "t1: 888 999\n",
      "t2: 10 20\n"
     ]
    }
   ],
   "source": [
    "class Test:\n",
    "  def __init__(self):\n",
    "    self.a=10\n",
    "    self.b=20\n",
    "\n",
    "t1=Test()\n",
    "t1.a=888\n",
    "t1.b=999\n",
    "\n",
    "t2=Test()\n",
    "\n",
    "print('t1:',t1.a,t1.b)\n",
    "print('t2:',t2.a,t2.b)"
   ]
  },
  {
   "cell_type": "markdown",
   "id": "055e0213-162b-4665-ae0a-459b14acb1ae",
   "metadata": {},
   "source": [
    "# Delete the Instance variable from the object"
   ]
  },
  {
   "cell_type": "markdown",
   "id": "da75bfce-d935-467f-8598-7135b2b9af46",
   "metadata": {},
   "source": [
    "* Within a class, we can delete instance variables as follows → `del self.variableName`\n",
    "* From outside of the class we can delete instance variables as follows → `del objectreference.variableName`"
   ]
  },
  {
   "cell_type": "markdown",
   "id": "2e228b99-dff5-4a55-9cde-93d821d7d8a7",
   "metadata": {},
   "source": [
    "## Delete instance variable from within the class"
   ]
  },
  {
   "cell_type": "code",
   "execution_count": 6,
   "id": "d3f610d5-39d1-4648-b404-afb80ae8ee18",
   "metadata": {},
   "outputs": [
    {
     "name": "stdout",
     "output_type": "stream",
     "text": [
      "{'a': 10, 'b': 20, 'c': 30, 'd': 40}\n",
      "{'a': 10, 'b': 20, 'c': 30}\n",
      "{'a': 10, 'b': 20}\n"
     ]
    }
   ],
   "source": [
    "class Test:\n",
    "  def __init__(self):\n",
    "    self.a=10\n",
    "    self.b=20\n",
    "    self.c=30\n",
    "    self.d=40\n",
    "\n",
    "  def m1(self):\n",
    "    del self.d\n",
    "\n",
    "t=Test()\n",
    "print(t.__dict__)\n",
    "\n",
    "t.m1()\n",
    "print(t.__dict__)\n",
    "\n",
    "del t.c\n",
    "print(t.__dict__)"
   ]
  },
  {
   "cell_type": "markdown",
   "id": "a68435fa-8e80-46d4-8818-44fd06c26b15",
   "metadata": {},
   "source": [
    "## Delete instance variable from outside the class"
   ]
  },
  {
   "cell_type": "markdown",
   "id": "2e524e68-17d7-4328-a50f-273e9779340b",
   "metadata": {},
   "source": [
    "> ***NOTE**: The instance variables which are deleted from one object, will not get deleted from other objects.*"
   ]
  },
  {
   "cell_type": "code",
   "execution_count": 7,
   "id": "d47d3095-60b0-445a-bf2c-d95ba18c6b5d",
   "metadata": {},
   "outputs": [
    {
     "name": "stdout",
     "output_type": "stream",
     "text": [
      "{'a': 10, 'b': 20, 'c': 30, 'd': 40}\n",
      "{'a': 10, 'b': 20, 'c': 30}\n",
      "{'a': 10, 'b': 20}\n"
     ]
    }
   ],
   "source": [
    "class Test:\n",
    "  def __init__(self):\n",
    "    self.a=10\n",
    "    self.b=20\n",
    "    self.c=30\n",
    "    self.d=40\n",
    "\n",
    "  def m1(self):\n",
    "    del self.d\n",
    "\n",
    "t=Test()\n",
    "print(t.__dict__)\n",
    "\n",
    "t.m1()\n",
    "print(t.__dict__)\n",
    "\n",
    "del t.c\n",
    "print(t.__dict__)"
   ]
  },
  {
   "cell_type": "markdown",
   "id": "eff6690a-7f75-48ad-92c5-95d55f4509a4",
   "metadata": {},
   "source": [
    "> ***We can delete multiple variables at once also: `del t1.a, t1.b, t1.c`***"
   ]
  },
  {
   "cell_type": "code",
   "execution_count": null,
   "id": "bb88f2ce-6282-41ce-ae73-20a86d6c72c9",
   "metadata": {},
   "outputs": [],
   "source": []
  }
 ],
 "metadata": {
  "kernelspec": {
   "display_name": "Python 3 (ipykernel)",
   "language": "python",
   "name": "python3"
  },
  "language_info": {
   "codemirror_mode": {
    "name": "ipython",
    "version": 3
   },
   "file_extension": ".py",
   "mimetype": "text/x-python",
   "name": "python",
   "nbconvert_exporter": "python",
   "pygments_lexer": "ipython3",
   "version": "3.12.5"
  }
 },
 "nbformat": 4,
 "nbformat_minor": 5
}
