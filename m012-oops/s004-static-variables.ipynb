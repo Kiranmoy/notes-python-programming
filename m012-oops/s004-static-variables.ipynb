{
 "cells": [
  {
   "cell_type": "markdown",
   "id": "7f1f6212-51c8-45d8-ac10-ea660efca11b",
   "metadata": {},
   "source": [
    "# Introduction"
   ]
  },
  {
   "cell_type": "markdown",
   "id": "a27fdbfe-815d-4cdd-a1c7-5fbdaba2f890",
   "metadata": {},
   "source": [
    "* If the value of a variable is not varied from object to object, such type variables we have to declare within the class directly but outside of methods. Such types of variables are called **static variables**.\n",
    "* For the total class, only **one copy of the static variable** will be created and shared by all objects of that class.\n",
    "* We can access static variables either by **class name** or by **object reference**. \n",
    "* But recommended using the class name."
   ]
  },
  {
   "cell_type": "markdown",
   "id": "d97328c0-e160-4bc2-8181-5ccbb15688b0",
   "metadata": {},
   "source": [
    "# Various places to declare static variables"
   ]
  },
  {
   "cell_type": "markdown",
   "id": "ba0dfbd5-82d5-47f2-beb9-55827091fda0",
   "metadata": {},
   "source": [
    "* In general, we can declare within the class directly but from outside of any method.\n",
    "* Inside the **constructor** by using the `classname`.\n",
    "* Inside **instance method** by using the `classname`.\n",
    "* Inside **class method** by using either `classname` or `cls` variable.\n",
    "* Inside **static method** by using the `classname`.\n",
    "* Outside of the class by using the `classname`."
   ]
  },
  {
   "cell_type": "code",
   "execution_count": 1,
   "id": "49e40e59-ef23-470d-88c0-a169b538b1ec",
   "metadata": {},
   "outputs": [
    {
     "name": "stdout",
     "output_type": "stream",
     "text": [
      "{'__module__': '__main__', 'a': 10, '__init__': <function Test.__init__ at 0x0000013BE779EDE0>, 'm1': <function Test.m1 at 0x0000013BE779E0C0>, 'm2': <classmethod(<function Test.m2 at 0x0000013BE779E8E0>)>, 'm3': <staticmethod(<function Test.m3 at 0x0000013BE779F240>)>, '__dict__': <attribute '__dict__' of 'Test' objects>, '__weakref__': <attribute '__weakref__' of 'Test' objects>, '__doc__': None}\n",
      "{'__module__': '__main__', 'a': 10, '__init__': <function Test.__init__ at 0x0000013BE779EDE0>, 'm1': <function Test.m1 at 0x0000013BE779E0C0>, 'm2': <classmethod(<function Test.m2 at 0x0000013BE779E8E0>)>, 'm3': <staticmethod(<function Test.m3 at 0x0000013BE779F240>)>, '__dict__': <attribute '__dict__' of 'Test' objects>, '__weakref__': <attribute '__weakref__' of 'Test' objects>, '__doc__': None, 'b': 20}\n",
      "{'__module__': '__main__', 'a': 10, '__init__': <function Test.__init__ at 0x0000013BE779EDE0>, 'm1': <function Test.m1 at 0x0000013BE779E0C0>, 'm2': <classmethod(<function Test.m2 at 0x0000013BE779E8E0>)>, 'm3': <staticmethod(<function Test.m3 at 0x0000013BE779F240>)>, '__dict__': <attribute '__dict__' of 'Test' objects>, '__weakref__': <attribute '__weakref__' of 'Test' objects>, '__doc__': None, 'b': 20, 'c': 30}\n",
      "{'__module__': '__main__', 'a': 10, '__init__': <function Test.__init__ at 0x0000013BE779EDE0>, 'm1': <function Test.m1 at 0x0000013BE779E0C0>, 'm2': <classmethod(<function Test.m2 at 0x0000013BE779E8E0>)>, 'm3': <staticmethod(<function Test.m3 at 0x0000013BE779F240>)>, '__dict__': <attribute '__dict__' of 'Test' objects>, '__weakref__': <attribute '__weakref__' of 'Test' objects>, '__doc__': None, 'b': 20, 'c': 30, 'd1': 40, 'd2': 400}\n",
      "{'__module__': '__main__', 'a': 10, '__init__': <function Test.__init__ at 0x0000013BE779EDE0>, 'm1': <function Test.m1 at 0x0000013BE779E0C0>, 'm2': <classmethod(<function Test.m2 at 0x0000013BE779E8E0>)>, 'm3': <staticmethod(<function Test.m3 at 0x0000013BE779F240>)>, '__dict__': <attribute '__dict__' of 'Test' objects>, '__weakref__': <attribute '__weakref__' of 'Test' objects>, '__doc__': None, 'b': 20, 'c': 30, 'd1': 40, 'd2': 400, 'e': 50}\n",
      "{'__module__': '__main__', 'a': 10, '__init__': <function Test.__init__ at 0x0000013BE779EDE0>, 'm1': <function Test.m1 at 0x0000013BE779E0C0>, 'm2': <classmethod(<function Test.m2 at 0x0000013BE779E8E0>)>, 'm3': <staticmethod(<function Test.m3 at 0x0000013BE779F240>)>, '__dict__': <attribute '__dict__' of 'Test' objects>, '__weakref__': <attribute '__weakref__' of 'Test' objects>, '__doc__': None, 'b': 20, 'c': 30, 'd1': 40, 'd2': 400, 'e': 50, 'f': 60}\n"
     ]
    }
   ],
   "source": [
    "class Test:\n",
    "\n",
    "  # In general, we can declare within the class directly but from outside of any method.\n",
    "  a=10\n",
    "  \n",
    "  # Inside the constructor by using the class name.\n",
    "  def __init__(self):\n",
    "    Test.b=20\n",
    "  \n",
    "  # Inside instance method by using the class name.\n",
    "  def m1(self):\n",
    "    Test.c=30\n",
    "  \n",
    "  # Inside class method by using either class name or cls variable.\n",
    "  @classmethod\n",
    "  def m2(cls):\n",
    "    cls.d1=40\n",
    "    Test.d2=400\n",
    "  \n",
    "  # Inside static method by using the class name.\n",
    "  @staticmethod\n",
    "  def m3():\n",
    "    Test.e=50\n",
    "\n",
    "print(Test.__dict__)\n",
    "\n",
    "t=Test()\n",
    "print(Test.__dict__)\n",
    "\n",
    "t.m1()\n",
    "print(Test.__dict__)\n",
    "\n",
    "Test.m2()\n",
    "print(Test.__dict__)\n",
    "\n",
    "Test.m3()\n",
    "print(Test.__dict__)\n",
    "\n",
    "# Outside of the class by using the class name.\n",
    "Test.f=60\n",
    "print(Test.__dict__)"
   ]
  },
  {
   "cell_type": "markdown",
   "id": "a6264f89-627c-4442-a062-9a2352c7bd49",
   "metadata": {},
   "source": [
    "# Accessing static variables"
   ]
  },
  {
   "cell_type": "markdown",
   "id": "ebef8adc-582b-4ab2-9746-947ac417c8cf",
   "metadata": {},
   "source": [
    "* Inside the constructor: by using either `self` or `classname`.\n",
    "* Inside instance method: by using either `self` or `classname`.\n",
    "* Inside the class method: by using either the `cls` variable or the `classname`.\n",
    "* Inside the static method: by using the `classname`.\n",
    "* From outside of class: by using either `object reference` or `classname`.\n",
    "\n",
    "**Recommended to use the class name.**"
   ]
  },
  {
   "cell_type": "code",
   "execution_count": 2,
   "id": "852eaed3-fc49-47da-940e-acd27e7c6445",
   "metadata": {},
   "outputs": [
    {
     "name": "stdout",
     "output_type": "stream",
     "text": [
      "10\n",
      "10\n",
      "10\n",
      "10\n",
      "10\n",
      "10\n",
      "10\n",
      "10\n",
      "10\n"
     ]
    }
   ],
   "source": [
    "class Test:\n",
    "  a=10\n",
    "  \n",
    "  def __init__(self):\n",
    "    print(self.a)\n",
    "    print(Test.a)\n",
    "\n",
    "  def m1(self):\n",
    "    print(self.a)\n",
    "    print(Test.a)\n",
    "\n",
    "  @classmethod\n",
    "  def m2(cls):\n",
    "    print(cls.a)\n",
    "    print(Test.a)\n",
    "  \n",
    "  @staticmethod\n",
    "  def m3():\n",
    "    print(Test.a)\n",
    "\n",
    "t=Test()\n",
    "print(Test.a)\n",
    "print(t.a)\n",
    "t.m1()\n",
    "t.m2()\n",
    "t.m3()"
   ]
  },
  {
   "cell_type": "markdown",
   "id": "32e51075-ac7a-4551-84df-049d5fe96b9e",
   "metadata": {},
   "source": [
    "# Modifying static variables"
   ]
  },
  {
   "cell_type": "markdown",
   "id": "e7a7e7b0-183e-4f3a-bcaa-06f17c86219c",
   "metadata": {},
   "source": [
    "Anywhere either within the class or outside of the class, we can modify a static variable by using the `classname`. \n",
    "\n",
    "But inside the class method, we can modify a static variable by using the `cls` variable.\n",
    "\n",
    "> ***NOTE**: we cannot modify the static variable value by using `self` or `object reference`.*"
   ]
  },
  {
   "cell_type": "code",
   "execution_count": 3,
   "id": "957ac250-7d9c-4556-9d03-d5c320135987",
   "metadata": {},
   "outputs": [
    {
     "name": "stdout",
     "output_type": "stream",
     "text": [
      "777\n",
      "888\n",
      "999\n"
     ]
    }
   ],
   "source": [
    "class Test:\n",
    "\n",
    "  a=777\n",
    "  \n",
    "  @classmethod\n",
    "  def m1(cls):\n",
    "    cls.a=888\n",
    "\n",
    "  @staticmethod\n",
    "  def m2():\n",
    "    Test.a=999\n",
    "    \n",
    "print(Test.a)   # 777\n",
    "\n",
    "Test.m1()     \n",
    "print(Test.a)   # 888\n",
    "\n",
    "Test.m2()\n",
    "print(Test.a)   # 999"
   ]
  },
  {
   "cell_type": "markdown",
   "id": "424466cd-23ca-4e4e-9c66-2a4e17b81bcb",
   "metadata": {},
   "source": [
    "If we change the value of static variable by using either `self` or `object reference` variable, then the value of static variable won't be changed, **just a new instance variable** with that name will be added to that particular object."
   ]
  },
  {
   "cell_type": "code",
   "execution_count": 4,
   "id": "175437cc-0f0d-458b-86c2-3b09dbdef9bc",
   "metadata": {},
   "outputs": [
    {
     "name": "stdout",
     "output_type": "stream",
     "text": [
      "10\n",
      "888\n"
     ]
    }
   ],
   "source": [
    "class Test:\n",
    "  a=10\n",
    "  \n",
    "  def m1(self): \n",
    "    self.a=888\n",
    "\n",
    "t1=Test()\n",
    "t1.m1()\n",
    "\n",
    "print(Test.a)   # 10\n",
    "print(t1.a)     # 888"
   ]
  },
  {
   "cell_type": "markdown",
   "id": "d97b79e5-54d5-42b5-b843-ee762f7f5c4d",
   "metadata": {},
   "source": [
    "**Example 1:**"
   ]
  },
  {
   "cell_type": "code",
   "execution_count": 5,
   "id": "1aaebd2a-ce52-41ff-9b3f-60b512be0c49",
   "metadata": {},
   "outputs": [
    {
     "name": "stdout",
     "output_type": "stream",
     "text": [
      "t1: 10 20\n",
      "t2: 10 20\n",
      "t1: 888 999\n",
      "t2: 10 20\n"
     ]
    }
   ],
   "source": [
    "class Test:\n",
    "  x=10\n",
    "  def __init__(self):\n",
    "    self.y=20\n",
    "\n",
    "t1=Test()\n",
    "t2=Test()\n",
    "print('t1:',t1.x,t1.y)    # t1: 10 20\n",
    "print('t2:',t2.x,t2.y)    # t2: 10 20\n",
    "\n",
    "t1.x=888\n",
    "t1.y=999\n",
    "print('t1:',t1.x,t1.y)    # t1: 888 999\n",
    "print('t2:',t2.x,t2.y)    # t2: 10 20"
   ]
  },
  {
   "cell_type": "markdown",
   "id": "ca27fa44-c365-4944-97a1-b10882666aa0",
   "metadata": {},
   "source": [
    "**Example 2:**"
   ]
  },
  {
   "cell_type": "code",
   "execution_count": 7,
   "id": "e2311ddf-7926-4690-9228-5073063ec977",
   "metadata": {},
   "outputs": [
    {
     "name": "stdout",
     "output_type": "stream",
     "text": [
      "888 999\n",
      "888 20\n"
     ]
    }
   ],
   "source": [
    "class Test:\n",
    "  a=10\n",
    "  def __init__(self):\n",
    "    self.b=20\n",
    "\n",
    "t1=Test()\n",
    "t2=Test()\n",
    "Test.a=888\n",
    "t1.b=999\n",
    "print(t1.a,t1.b)    # 888 999\n",
    "print(t2.a,t2.b)    # 888 20"
   ]
  },
  {
   "cell_type": "markdown",
   "id": "9d9f4b67-ca93-4943-8cc2-ded37e82b1e5",
   "metadata": {},
   "source": [
    "**Example 3:**"
   ]
  },
  {
   "cell_type": "code",
   "execution_count": 9,
   "id": "2cb0e857-2f23-49e4-afbc-2b2679428fe1",
   "metadata": {},
   "outputs": [
    {
     "name": "stdout",
     "output_type": "stream",
     "text": [
      "888 999\n",
      "10 20\n"
     ]
    }
   ],
   "source": [
    "class Test:\n",
    "  a=10\n",
    "  def __init__(self):\n",
    "    self.b=20\n",
    "  def m1(self):\n",
    "    self.a=888\n",
    "    self.b=999\n",
    "\n",
    "t1=Test()\n",
    "t2=Test()\n",
    "t1.m1()\n",
    "print(t1.a,t1.b)  # 888 999\n",
    "print(t2.a,t2.b)  # 10 20\n"
   ]
  },
  {
   "cell_type": "markdown",
   "id": "65581794-da2f-4e25-9355-67262b05d3b9",
   "metadata": {},
   "source": [
    "**Example 4:**"
   ]
  },
  {
   "cell_type": "code",
   "execution_count": 10,
   "id": "49aeb83c-8931-410b-959b-19307c873740",
   "metadata": {},
   "outputs": [
    {
     "name": "stdout",
     "output_type": "stream",
     "text": [
      "888 20\n",
      "888 20\n",
      "888 999\n"
     ]
    }
   ],
   "source": [
    "class Test:\n",
    "  a=10\n",
    "  def __init__(self):\n",
    "    self.b=20\n",
    "  \n",
    "  @classmethod\n",
    "  def m1(cls):\n",
    "    cls.a=888\n",
    "    cls.b=999\n",
    "\n",
    "t1=Test()\n",
    "t2=Test()\n",
    "t1.m1()\n",
    "print(t1.a,t1.b)        # 888 20\n",
    "print(t2.a,t2.b)        # 888 20\n",
    "print(Test.a,Test.b)    # 888 999"
   ]
  },
  {
   "cell_type": "markdown",
   "id": "23aa7d90-6e01-4f8f-85a0-bfb0c08a987c",
   "metadata": {},
   "source": [
    "# Delete static variable of a class"
   ]
  },
  {
   "cell_type": "markdown",
   "id": "bef10733-f7a5-46c2-9a9f-81efccd12c3f",
   "metadata": {},
   "source": [
    "* We can delete static variables from anywhere by using the following syntax → ‘`del class_name.variable_name`’\n",
    "* But inside the class method, we can also use **cls** variable → '`del cls.variable_name`'"
   ]
  },
  {
   "cell_type": "code",
   "execution_count": 11,
   "id": "eef742e5-4b09-4f16-8eb4-ffe14fb0e48c",
   "metadata": {},
   "outputs": [],
   "source": [
    "class Test:\n",
    "  a=10\n",
    "  def __init__(self):\n",
    "    Test.b=20\n",
    "    del Test.a\n",
    "\n",
    "  def m1(self):\n",
    "    Test.c=30\n",
    "    del Test.b\n",
    "    \n",
    "  @classmethod\n",
    "  def m2(cls):\n",
    "    cls.d=40\n",
    "    del Test.c\n",
    "\n",
    "  @staticmethod\n",
    "  def m3():\n",
    "    Test.e=50\n",
    "    del Test.d"
   ]
  },
  {
   "cell_type": "code",
   "execution_count": 12,
   "id": "5b658dee-1b35-417b-ab1e-c38a00f73283",
   "metadata": {},
   "outputs": [
    {
     "name": "stdout",
     "output_type": "stream",
     "text": [
      "{'__module__': '__main__', 'a': 10, '__init__': <function Test.__init__ at 0x0000013BE779EAC0>, 'm1': <function Test.m1 at 0x0000013BE779FD80>, 'm2': <classmethod(<function Test.m2 at 0x0000013BE7800180>)>, 'm3': <staticmethod(<function Test.m3 at 0x0000013BE7800360>)>, '__dict__': <attribute '__dict__' of 'Test' objects>, '__weakref__': <attribute '__weakref__' of 'Test' objects>, '__doc__': None}\n",
      "{'__module__': '__main__', '__init__': <function Test.__init__ at 0x0000013BE779EAC0>, 'm1': <function Test.m1 at 0x0000013BE779FD80>, 'm2': <classmethod(<function Test.m2 at 0x0000013BE7800180>)>, 'm3': <staticmethod(<function Test.m3 at 0x0000013BE7800360>)>, '__dict__': <attribute '__dict__' of 'Test' objects>, '__weakref__': <attribute '__weakref__' of 'Test' objects>, '__doc__': None, 'b': 20}\n",
      "{'__module__': '__main__', '__init__': <function Test.__init__ at 0x0000013BE779EAC0>, 'm1': <function Test.m1 at 0x0000013BE779FD80>, 'm2': <classmethod(<function Test.m2 at 0x0000013BE7800180>)>, 'm3': <staticmethod(<function Test.m3 at 0x0000013BE7800360>)>, '__dict__': <attribute '__dict__' of 'Test' objects>, '__weakref__': <attribute '__weakref__' of 'Test' objects>, '__doc__': None, 'c': 30}\n",
      "{'__module__': '__main__', '__init__': <function Test.__init__ at 0x0000013BE779EAC0>, 'm1': <function Test.m1 at 0x0000013BE779FD80>, 'm2': <classmethod(<function Test.m2 at 0x0000013BE7800180>)>, 'm3': <staticmethod(<function Test.m3 at 0x0000013BE7800360>)>, '__dict__': <attribute '__dict__' of 'Test' objects>, '__weakref__': <attribute '__weakref__' of 'Test' objects>, '__doc__': None, 'd': 40}\n",
      "{'__module__': '__main__', '__init__': <function Test.__init__ at 0x0000013BE779EAC0>, 'm1': <function Test.m1 at 0x0000013BE779FD80>, 'm2': <classmethod(<function Test.m2 at 0x0000013BE7800180>)>, 'm3': <staticmethod(<function Test.m3 at 0x0000013BE7800360>)>, '__dict__': <attribute '__dict__' of 'Test' objects>, '__weakref__': <attribute '__weakref__' of 'Test' objects>, '__doc__': None, 'e': 50}\n",
      "{'__module__': '__main__', '__init__': <function Test.__init__ at 0x0000013BE779EAC0>, 'm1': <function Test.m1 at 0x0000013BE779FD80>, 'm2': <classmethod(<function Test.m2 at 0x0000013BE7800180>)>, 'm3': <staticmethod(<function Test.m3 at 0x0000013BE7800360>)>, '__dict__': <attribute '__dict__' of 'Test' objects>, '__weakref__': <attribute '__weakref__' of 'Test' objects>, '__doc__': None, 'e': 50, 'f': 60}\n",
      "{'__module__': '__main__', '__init__': <function Test.__init__ at 0x0000013BE779EAC0>, 'm1': <function Test.m1 at 0x0000013BE779FD80>, 'm2': <classmethod(<function Test.m2 at 0x0000013BE7800180>)>, 'm3': <staticmethod(<function Test.m3 at 0x0000013BE7800360>)>, '__dict__': <attribute '__dict__' of 'Test' objects>, '__weakref__': <attribute '__weakref__' of 'Test' objects>, '__doc__': None, 'f': 60}\n"
     ]
    }
   ],
   "source": [
    "print(Test.__dict__)\n",
    "\n",
    "t=Test()\n",
    "print(Test.__dict__)\n",
    "\n",
    "t.m1()\n",
    "print(Test.__dict__)\n",
    "\n",
    "Test.m2()\n",
    "print(Test.__dict__)\n",
    "\n",
    "Test.m3()\n",
    "print(Test.__dict__)\n",
    "\n",
    "Test.f=60\n",
    "print(Test.__dict__)\n",
    "\n",
    "del Test.e\n",
    "print(Test.__dict__)"
   ]
  },
  {
   "cell_type": "markdown",
   "id": "411666f5-bb75-41ae-8da5-8e92582cf360",
   "metadata": {},
   "source": [
    "We can modify or delete static variables only by using the **`classname`** or **`cls`** variable. "
   ]
  },
  {
   "cell_type": "markdown",
   "id": "ca1d18d0-72ab-4744-a6e9-62c4194551c3",
   "metadata": {},
   "source": [
    "**Important Note:**\n",
    "* By using **object reference variable/self** we can **read static variables**, but we **cannot modify or delete them**.\n",
    "* If we are trying to **modify static** using **object reference variable/self**, then a new instance variable will be added to that particular object.\n",
    "    * t1.a = 70\n",
    "* If we are trying to delete static variable using **object reference variable/self** then we will get an error."
   ]
  },
  {
   "cell_type": "code",
   "execution_count": 13,
   "id": "b4e2f614-b77c-4eec-9dc0-8cf9bd3d8b9d",
   "metadata": {},
   "outputs": [
    {
     "ename": "AttributeError",
     "evalue": "'Test' object has no attribute 'a'",
     "output_type": "error",
     "traceback": [
      "\u001b[1;31m---------------------------------------------------------------------------\u001b[0m",
      "\u001b[1;31mAttributeError\u001b[0m                            Traceback (most recent call last)",
      "Cell \u001b[1;32mIn[13], line 5\u001b[0m\n\u001b[0;32m      2\u001b[0m   a\u001b[38;5;241m=\u001b[39m\u001b[38;5;241m10\u001b[39m\n\u001b[0;32m      4\u001b[0m t1\u001b[38;5;241m=\u001b[39mTest()\n\u001b[1;32m----> 5\u001b[0m \u001b[38;5;28;01mdel\u001b[39;00m \u001b[43mt1\u001b[49m\u001b[38;5;241;43m.\u001b[39;49m\u001b[43ma\u001b[49m    \u001b[38;5;66;03m# AttributeError: a\u001b[39;00m\n",
      "\u001b[1;31mAttributeError\u001b[0m: 'Test' object has no attribute 'a'"
     ]
    }
   ],
   "source": [
    "class Test:\n",
    "  a=10\n",
    "\n",
    "t1=Test()\n",
    "del t1.a    # AttributeError: a"
   ]
  },
  {
   "cell_type": "code",
   "execution_count": null,
   "id": "53b66960-3b6b-4509-bb6c-a201ea318952",
   "metadata": {},
   "outputs": [],
   "source": []
  }
 ],
 "metadata": {
  "kernelspec": {
   "display_name": "Python 3 (ipykernel)",
   "language": "python",
   "name": "python3"
  },
  "language_info": {
   "codemirror_mode": {
    "name": "ipython",
    "version": 3
   },
   "file_extension": ".py",
   "mimetype": "text/x-python",
   "name": "python",
   "nbconvert_exporter": "python",
   "pygments_lexer": "ipython3",
   "version": "3.12.5"
  }
 },
 "nbformat": 4,
 "nbformat_minor": 5
}
