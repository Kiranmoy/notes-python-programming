{
 "cells": [
  {
   "cell_type": "markdown",
   "id": "d68e68f8-018c-4b42-ad7d-9ec0874e18f4",
   "metadata": {},
   "source": [
    "# Inner Class Introduction"
   ]
  },
  {
   "cell_type": "markdown",
   "id": "8be1e3f7-3f5d-4549-a713-cfaba56ad73e",
   "metadata": {},
   "source": [
    "Sometimes we can declare a class inside another class, such types of classes are called **inner classes**. \n",
    "\n",
    "Without existing one type of object if there is no chance of existing another type of object, then we should go for inner classes.\n",
    "\n",
    "**Example:** \n",
    "* Without an existing **Car** object, there is no chance of an existing **Engine** object. \n",
    "* Hence **Engine** class should be part of the **Car** class\n",
    "\n",
    "```\n",
    "class Car:\n",
    "  class Engine:\n",
    "```\n",
    "\n",
    "**Example:**\n",
    "* Without an existing university object, there is no chance of an existing Department object.\n",
    "```\n",
    "class University:\n",
    "  class Department:\n",
    "```\n",
    "\n",
    "> **NOTE:**\n",
    "> * *Without existing outer class object there is no chance of an existing inner class object.*\n",
    "> * *Hence **inner-class object** is always **strongly associated** with an **outer class object**.*"
   ]
  },
  {
   "cell_type": "markdown",
   "id": "71914fd5-c152-4b8f-894c-4f61f2d693f6",
   "metadata": {},
   "source": [
    "# Advantages of Inner classes"
   ]
  },
  {
   "cell_type": "markdown",
   "id": "514ab26e-0598-4ac1-bb0a-444f152b057b",
   "metadata": {},
   "source": [
    "* It improves the modularity of the application.\n",
    "* It improves the security of the application."
   ]
  },
  {
   "cell_type": "code",
   "execution_count": 3,
   "id": "87175833-eeb3-4caa-a846-1e6ba52e050f",
   "metadata": {},
   "outputs": [
    {
     "name": "stdout",
     "output_type": "stream",
     "text": [
      "outer class object creation\n",
      "inner class object creation\n",
      "inner class method\n"
     ]
    }
   ],
   "source": [
    "class Outer:\n",
    "  def __init__(self):\n",
    "      print(\"outer class object creation\")\n",
    "  \n",
    "  class Inner:\n",
    "    def __init__(self):\n",
    "      print(\"inner class object creation\")\n",
    "    \n",
    "    def m1(self):\n",
    "      print(\"inner class method\")\n",
    "      \n",
    "o=Outer()       # outer class object creation\n",
    "i=o.Inner()     # inner class object creation\n",
    "i.m1()          # inner class method"
   ]
  },
  {
   "cell_type": "markdown",
   "id": "093cbfa2-21d4-4198-9a54-db89152a2ef1",
   "metadata": {},
   "source": [
    "The following are various possible syntaxes for calling the inner class method:"
   ]
  },
  {
   "cell_type": "code",
   "execution_count": 7,
   "id": "e1cb0938-452b-436f-b0c2-cdf02cd34044",
   "metadata": {},
   "outputs": [
    {
     "name": "stdout",
     "output_type": "stream",
     "text": [
      "Approach 1\n",
      "outer class object creation\n",
      "inner class object creation\n",
      "inner class method\n",
      "Approach 2\n",
      "outer class object creation\n",
      "inner class object creation\n",
      "inner class method\n",
      "Approach 3\n",
      "outer class object creation\n",
      "inner class object creation\n",
      "inner class method\n"
     ]
    }
   ],
   "source": [
    "# Approach 1\n",
    "print(\"Approach 1\")\n",
    "o = Outer()\n",
    "i = o.Inner()\n",
    "i.m1()\n",
    "\n",
    "# Approach 2\n",
    "print(\"Approach 2\")\n",
    "i = Outer().Inner()\n",
    "i.m1()\n",
    "\n",
    "# Approach 3\n",
    "print(\"Approach 3\")\n",
    "Outer().Inner().m1()\n"
   ]
  },
  {
   "cell_type": "markdown",
   "id": "7e241eb7-bd37-4f96-a8f7-aea9f0c3f18a",
   "metadata": {},
   "source": [
    "**An inner Class object is created automatically when an outer class object is created.**"
   ]
  },
  {
   "cell_type": "code",
   "execution_count": 8,
   "id": "2049b00c-2abc-4148-8f23-8f95c03cdc77",
   "metadata": {},
   "outputs": [
    {
     "name": "stdout",
     "output_type": "stream",
     "text": [
      "Name: durga\n",
      "Dob=10/5/1947\n"
     ]
    }
   ],
   "source": [
    "class Person:\n",
    "  def __init__(self):\n",
    "    self.name='durga'\n",
    "    self.db=self.Dob()\n",
    "  \n",
    "  def display(self):\n",
    "    print('Name:',self.name)\n",
    "\n",
    "  class Dob:\n",
    "    def __init__(self):\n",
    "      self.dd=10\n",
    "      self.mm=5\n",
    "      self.yy=1947\n",
    "  \n",
    "    def display(self):\n",
    "      print('Dob={}/{}/{}'.format(self.dd,self.mm,self.yy))\n",
    "\n",
    "p=Person()\n",
    "p.display()     # Name: durga\n",
    "\n",
    "x=p.db\n",
    "x.display()     # Dob=10/5/1947"
   ]
  },
  {
   "cell_type": "markdown",
   "id": "a7bac79c-65fe-4ca3-82ac-ecc527286fdf",
   "metadata": {},
   "source": [
    "**An inner Class object is created automatically when an outer class object is created.**"
   ]
  },
  {
   "cell_type": "code",
   "execution_count": 9,
   "id": "91f78a78-e77f-49fa-836d-668f1734f144",
   "metadata": {},
   "outputs": [
    {
     "name": "stdout",
     "output_type": "stream",
     "text": [
      "Hello.. Sunny\n",
      "Talking...\n",
      "Thinking...\n"
     ]
    }
   ],
   "source": [
    "class Human:\n",
    "  def __init__(self):\n",
    "    self.name = 'Sunny'\n",
    "    self.head = self.Head()\n",
    "    self.brain = self.Brain()\n",
    "  \n",
    "  def display(self):\n",
    "    print(\"Hello..\",self.name)\n",
    "\n",
    "  class Head:\n",
    "    def talk(self):\n",
    "      print('Talking...')\n",
    "\n",
    "  class Brain:\n",
    "    def think(self):\n",
    "      print('Thinking...')\n",
    "\n",
    "h=Human()\n",
    "h.display()         # Hello.. Sunny\n",
    "h.head.talk()       # Talking...\n",
    "h.brain.think()     # Thinking...\n"
   ]
  },
  {
   "cell_type": "markdown",
   "id": "ef403369-fa3f-454e-89df-65b21d971bf4",
   "metadata": {},
   "source": [
    "# Nested Inner Classes"
   ]
  },
  {
   "cell_type": "code",
   "execution_count": 12,
   "id": "63ca1580-76f4-4e0b-8b92-5abbf49e9216",
   "metadata": {},
   "outputs": [
    {
     "name": "stdout",
     "output_type": "stream",
     "text": [
      "outer class object creation\n",
      "inner class object creation\n",
      "nested inner class object creation\n",
      "nested inner class method\n",
      "outer class object creation\n",
      "inner class object creation\n",
      "nested inner class object creation\n",
      "nested inner class static method\n",
      "outer class object creation\n",
      "inner class object creation\n",
      "nested inner class static method\n"
     ]
    }
   ],
   "source": [
    "class Outer:\n",
    "  def __init__(self):\n",
    "      print(\"outer class object creation\")\n",
    "  \n",
    "  class Inner:\n",
    "    def __init__(self):\n",
    "      print(\"inner class object creation\")\n",
    "      \n",
    "    class NestedInner:\n",
    "      def __init__(self):\n",
    "        print(\"nested inner class object creation\")\n",
    "        \n",
    "      def m1(self):\n",
    "        print(\"nested inner class method\")\n",
    "        \n",
    "      @staticmethod\n",
    "      def m2():\n",
    "        print(\"nested inner class static method\")\n",
    "\n",
    "outer = Outer()                             # outer class object creation\n",
    "inner = outer.Inner()                       # inner class object creation\n",
    "nestedInner = inner.NestedInner()           # nested inner class object creation\n",
    "nestedInner.m1()                            # nested inner class method\n",
    "\n",
    "Outer().Inner().NestedInner().m2()          # nested inner class static method\n",
    "Outer().Inner().NestedInner.m2()            # nested inner class static method\n",
    "\n",
    "# SHORTCUT : Outer().Inner().NestedInner().m1()\n"
   ]
  },
  {
   "cell_type": "code",
   "execution_count": 14,
   "id": "2f35a195-1bd2-45f7-9406-613c9d3b2787",
   "metadata": {},
   "outputs": [
    {
     "name": "stdout",
     "output_type": "stream",
     "text": [
      "Hello  Kiran\n",
      "Talking...\n",
      "None\n",
      "Thinking...\n",
      "None\n"
     ]
    }
   ],
   "source": [
    "class Human:\n",
    "  def __init__(self,name):\n",
    "    self.name = name\n",
    "    self.head = self.Head()    \n",
    "  \n",
    "  def info(self):\n",
    "    print(\"Hello \",self.name)\n",
    "    print(self.head.talk())\n",
    "    print(self.head.brain.think())\n",
    "\n",
    "  class Head:\n",
    "    def __init__(self):\n",
    "      self.brain = self.Brain()\n",
    "      \n",
    "    def talk(self):\n",
    "      print('Talking...')\n",
    "\n",
    "    class Brain:\n",
    "      def think(self):\n",
    "        print('Thinking...')\n",
    "        \n",
    "human = Human(\"Kiran\")\n",
    "human.info()\n",
    "\n",
    "# OUTPUT\n",
    "# Hello Kiran\n",
    "# Talking...\n",
    "# Thinking...\n"
   ]
  },
  {
   "cell_type": "markdown",
   "id": "fe4ee22a-b97d-49f8-bb86-ed692fe8594b",
   "metadata": {},
   "source": [
    "# Nested Methods"
   ]
  },
  {
   "cell_type": "markdown",
   "id": "327a0325-eba2-4439-9986-0d2c1f07b1be",
   "metadata": {},
   "source": [
    "We can declare a method inside another method, such types of methods are called **Nested Methods**.\n",
    "\n",
    "Inside a method, if any functionality is repeatedly required, that functionality we can define as a separate method and we can call that method any number of times based on our requirement.\n",
    "\n",
    "**Advantage:**\n",
    "* Code Reusability\n",
    "* The modularity of the application will be improved."
   ]
  },
  {
   "cell_type": "code",
   "execution_count": 15,
   "id": "d6c5e00c-555e-4945-b42b-c2e36801b6f0",
   "metadata": {},
   "outputs": [
    {
     "name": "stdout",
     "output_type": "stream",
     "text": [
      "SUM =  30\n",
      "DIFF=  30\n",
      "AVG=  15.0\n",
      "SUM =  300\n",
      "DIFF=  300\n",
      "AVG=  150.0\n",
      "SUM =  3000\n",
      "DIFF=  3000\n",
      "AVG=  1500.0\n"
     ]
    }
   ],
   "source": [
    "class Test:\n",
    "  def m1(self):\n",
    "    def calc(a,b):\n",
    "      print('SUM = ', (a+b))\n",
    "      print('DIFF= ', (a+b))\n",
    "      print('AVG= ', (a+b)/2)\n",
    "    calc(10,20)                 # \n",
    "    calc(100,200)               # \n",
    "    calc(1000,2000)             # \n",
    "\n",
    "t = Test()\n",
    "t.m1()"
   ]
  },
  {
   "cell_type": "code",
   "execution_count": null,
   "id": "d610be15-b705-4514-9ee3-eea47ef9999c",
   "metadata": {},
   "outputs": [],
   "source": []
  }
 ],
 "metadata": {
  "kernelspec": {
   "display_name": "Python 3 (ipykernel)",
   "language": "python",
   "name": "python3"
  },
  "language_info": {
   "codemirror_mode": {
    "name": "ipython",
    "version": 3
   },
   "file_extension": ".py",
   "mimetype": "text/x-python",
   "name": "python",
   "nbconvert_exporter": "python",
   "pygments_lexer": "ipython3",
   "version": "3.12.5"
  }
 },
 "nbformat": 4,
 "nbformat_minor": 5
}
