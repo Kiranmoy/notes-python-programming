{
 "cells": [
  {
   "cell_type": "markdown",
   "id": "4ac1fbd3-0e96-445b-bf2e-45066968d9ab",
   "metadata": {},
   "source": [
    "# Garbage Collection"
   ]
  },
  {
   "cell_type": "markdown",
   "id": "d5f4b2f9-1c68-4e56-8b59-ecf577140868",
   "metadata": {},
   "source": [
    "* In old languages like **C++**, the programmer is responsible for both the creation and destruction of objects.\n",
    "    * Usually, programmers take very much care while creating objects, but neglect the destruction of useless objects.\n",
    "    * Because of this neglect, total memory can be filled with useless objects which creates memory problems.\n",
    "    * Total application will be down with **out-of-memory errors**.\n",
    "* But in Python, We have some assistant which is always running in the background to destroy useless objects.\n",
    "    * Because of this assistant, the chance of failing Python programs with memory problems is very less.\n",
    "    * This assistant is nothing but **Garbage Collector**.\n",
    "* Hence **the main objective of the Garbage Collector is to destroy useless objects**.\n",
    "* If an object does not have any reference variable then that object is eligible for Garbage Collection."
   ]
  },
  {
   "cell_type": "markdown",
   "id": "197f26d7-9227-425c-9558-9ce3ab087c7f",
   "metadata": {},
   "source": [
    "# Enable and disable the garbage collector"
   ]
  },
  {
   "cell_type": "markdown",
   "id": "8953af30-7c81-4f9e-b93a-87c96f96f407",
   "metadata": {},
   "source": [
    "By default, the garbage collector is **enabled**, but we can disable based on our requirements. \n",
    "\n",
    "In this context, we can use the following functions of `gc` module.\n",
    "* `gc.isenabled( )` →  Returns True if GC enabled.\n",
    "* `gc.disable( )` →  To disable GC explicitly.\n",
    "* `gc.enable( )` → To enable GC explicitly."
   ]
  },
  {
   "cell_type": "code",
   "execution_count": 1,
   "id": "4731e29b-3362-41d6-a834-29e9884da3d9",
   "metadata": {},
   "outputs": [
    {
     "name": "stdout",
     "output_type": "stream",
     "text": [
      "True\n",
      "False\n",
      "True\n"
     ]
    }
   ],
   "source": [
    "import gc\n",
    "\n",
    "print(gc.isenabled())   # True\n",
    "\n",
    "gc.disable()\n",
    "print(gc.isenabled())   # False\n",
    "\n",
    "gc.enable()\n",
    "print(gc.isenabled())   # True"
   ]
  },
  {
   "cell_type": "markdown",
   "id": "49b756f1-21f3-45b1-81e9-1cb3c24eec05",
   "metadata": {},
   "source": [
    "# Destructors"
   ]
  },
  {
   "cell_type": "markdown",
   "id": "42331751-3df5-4648-8e1d-d8201b2aa9fe",
   "metadata": {},
   "source": [
    "* Destructor is a special method and the name should be **`__del__`**. \n",
    "* Just before destroying an object **Garbage Collector** always calls the **destructor** to perform clean-up activities ( Resource deallocation activities like closing database connection etc ). \n",
    "* Once destructor execution is completed, the Garbage Collector automatically destroys that object.\n",
    "\n",
    "> ***NOTE:** The job of destructor is **not to destroy objects** and it is just **to perform clean-up activities**.* "
   ]
  },
  {
   "cell_type": "code",
   "execution_count": 3,
   "id": "ac007f3b-5840-4e0a-9fef-2dfe01d0630c",
   "metadata": {},
   "outputs": [
    {
     "name": "stdout",
     "output_type": "stream",
     "text": [
      "Object Initialization...\n",
      "Fulfilling Last Wish and performing clean up activities...\n",
      "End of application\n"
     ]
    }
   ],
   "source": [
    "import time\n",
    "\n",
    "class Test:\n",
    "  def __init__(self):\n",
    "    print(\"Object Initialization...\")\n",
    "\n",
    "  def __del__(self):\n",
    "    print(\"Fulfilling Last Wish and performing clean up activities...\")\n",
    "\n",
    "t1=Test()                       # Object Initialization...\n",
    "t1=None                         \n",
    "time.sleep(5)               \n",
    "                                # Fulfilling Last Wish and performing clean up activities...\n",
    "                                \n",
    "print(\"End of application\")     # End of application"
   ]
  },
  {
   "cell_type": "markdown",
   "id": "ef611078-16ef-4687-858d-b07c11b0838d",
   "metadata": {},
   "source": [
    "> **NOTE:** \n",
    "> * *If the object does not contain any reference variable then only it is eligible for GC.*\n",
    "> * *That is, if the reference count is zero then only the object eligible for GC.* "
   ]
  },
  {
   "cell_type": "code",
   "execution_count": 4,
   "id": "16ce6c1d-bc0c-4571-b157-4dcd802b9be2",
   "metadata": {},
   "outputs": [
    {
     "name": "stdout",
     "output_type": "stream",
     "text": [
      "Constructor Execution...\n",
      "object not yet destroyed after deleting t1\n",
      "object not yet destroyed even after deleting t2\n",
      "I am trying to delete last reference variable...\n",
      "Destructor Execution...\n"
     ]
    }
   ],
   "source": [
    "import time\n",
    "\n",
    "class Test:\n",
    "  def __init__(self):\n",
    "    print(\"Constructor Execution...\")\n",
    "\n",
    "  def __del__(self):\n",
    "    print(\"Destructor Execution...\")\n",
    "\n",
    "t1=Test()\n",
    "t2=t1\n",
    "t3=t2\n",
    "del t1\n",
    "time.sleep(5)\n",
    "print(\"object not yet destroyed after deleting t1\")\n",
    "del t2\n",
    "time.sleep(5)\n",
    "print(\"object not yet destroyed even after deleting t2\")\n",
    "print(\"I am trying to delete last reference variable...\")\n",
    "del t3"
   ]
  },
  {
   "cell_type": "markdown",
   "id": "6f6c33eb-726a-41dd-89fb-bfa0202343d6",
   "metadata": {},
   "source": [
    "> **NOTE:**\n",
    "> * *For a list containing objects in it, if the list doesn’t have any reference then it will be destroyed by GC regardless of having objects in it.*\n",
    "> * *That is, if the list object is eligible for GC means all objects inside the list is also eligible for GC.*"
   ]
  },
  {
   "cell_type": "code",
   "execution_count": 5,
   "id": "61bc765c-bf74-480a-908d-c8a33a858cd6",
   "metadata": {},
   "outputs": [
    {
     "name": "stdout",
     "output_type": "stream",
     "text": [
      "Constructor Execution...\n",
      "Constructor Execution...\n",
      "Constructor Execution...\n",
      "Destructor Execution...\n",
      "Destructor Execution...\n",
      "Destructor Execution...\n",
      "End of application\n"
     ]
    }
   ],
   "source": [
    "import time\n",
    "class Test:\n",
    "  def __init__(self):\n",
    "    print(\"Constructor Execution...\")\n",
    "\n",
    "  def __del__(self):\n",
    "    print(\"Destructor Execution...\")\n",
    "\n",
    "list=[Test(),Test(),Test()]\n",
    "\n",
    "del list\n",
    "time.sleep(5)\n",
    "print(\"End of application\")"
   ]
  },
  {
   "cell_type": "markdown",
   "id": "bf1ba24e-9a42-4990-bcd3-498dea1a5161",
   "metadata": {},
   "source": [
    "# Three important interview questions"
   ]
  },
  {
   "cell_type": "markdown",
   "id": "8a921b73-aa85-4e14-8ac0-8fd2a1181e4b",
   "metadata": {},
   "source": [
    "## What is the difference between `del t1` and `t1 = None`?"
   ]
  },
  {
   "cell_type": "markdown",
   "id": "d28aa1b9-7f5a-4631-811b-b064fa578207",
   "metadata": {},
   "source": [
    "**`del t1`**\n",
    "* delete `t1` reference variable → As a result the object referenced by `t1` is eligible for garbage collection.\n",
    "* both `t1` and its corresponding objects get deleted.\n",
    "* we cannot use `t1` anymore.\n",
    "* if we don’t want the object and its corresponding reference variable then we have to use this approach.\n",
    "\n",
    "**`t1 = None`**\n",
    "* reassign `t1` to points None object → As a result the existing object referenced by `t1` is eligible for garbage collection.\n",
    "* only the existing object referenced by `t1` gets deleted, but variable `t1` still exists in memory and can be reused.\n",
    "* we can use `t1` and it currently pointing to None object.\n",
    "* If we want the reference variable but not the object, then we have to use this approach."
   ]
  },
  {
   "cell_type": "markdown",
   "id": "ba68a02e-0cd4-4302-ba12-5b7d0fb43943",
   "metadata": {},
   "source": [
    "## Find the number of references to an object"
   ]
  },
  {
   "cell_type": "code",
   "execution_count": 6,
   "id": "477160a6-5fbf-440a-8e6f-50297c3db58d",
   "metadata": {},
   "outputs": [
    {
     "name": "stdout",
     "output_type": "stream",
     "text": [
      "5\n"
     ]
    }
   ],
   "source": [
    "# sys module contains getrefcount() function for this purpose.\n",
    "# sys.getrefcount (objectreference)\n",
    "\n",
    "import sys\n",
    "\n",
    "class Test:\n",
    "  pass\n",
    "  \n",
    "t1=Test()\n",
    "t2=t1\n",
    "t3=t1\n",
    "t4=t1\n",
    "print(sys.getrefcount(t1))    # 5              [ 4 + 1 ]->  python internally maintains one default reference variable self."
   ]
  },
  {
   "cell_type": "markdown",
   "id": "1df5bf8b-5273-43bc-96c6-20dfae821a53",
   "metadata": {},
   "source": [
    "> ***NOTE:** For every object, python internally maintains one default reference variable `self`.* "
   ]
  },
  {
   "cell_type": "markdown",
   "id": "347cf6ae-9388-406a-92c8-4ce7009f812b",
   "metadata": {},
   "source": [
    "## What is the difference between a constructor and a destructor?"
   ]
  },
  {
   "attachments": {
    "5e1ee354-2ebb-4d13-a7d7-ec2f67528e2a.png": {
     "image/png": "[encoded data removed]"
    }
   },
   "cell_type": "markdown",
   "id": "a036f2d8-935b-4a87-ae8a-2415d02eaa19",
   "metadata": {},
   "source": [
    "![image.png](attachment:5e1ee354-2ebb-4d13-a7d7-ec2f67528e2a.png)"
   ]
  },
  {
   "cell_type": "code",
   "execution_count": null,
   "id": "243e53cb-da13-4757-aaef-ba9d8d034605",
   "metadata": {},
   "outputs": [],
   "source": []
  }
 ],
 "metadata": {
  "kernelspec": {
   "display_name": "Python 3 (ipykernel)",
   "language": "python",
   "name": "python3"
  },
  "language_info": {
   "codemirror_mode": {
    "name": "ipython",
    "version": 3
   },
   "file_extension": ".py",
   "mimetype": "text/x-python",
   "name": "python",
   "nbconvert_exporter": "python",
   "pygments_lexer": "ipython3",
   "version": "3.12.5"
  }
 },
 "nbformat": 4,
 "nbformat_minor": 5
}
