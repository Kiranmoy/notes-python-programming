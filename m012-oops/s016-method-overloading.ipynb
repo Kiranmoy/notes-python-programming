{
 "cells": [
  {
   "cell_type": "markdown",
   "id": "0d3f75f7-0bc4-44ee-9cf2-862838493fe5",
   "metadata": {},
   "source": [
    "# Method Overloading"
   ]
  },
  {
   "cell_type": "markdown",
   "id": "4d213f18-e55b-48aa-85bd-9551da702813",
   "metadata": {},
   "source": [
    "If two methods have the **same name** but **different types of arguments** then those methods are said to be **overloaded methods**.\n",
    "\n",
    "**Example:**\n",
    "* `m1(int a)`\n",
    "* `m1(double d)` \n",
    "\n",
    "**NOTE:**\n",
    "* But in python, we can’t declare the type explicitly. Based on the provided value type will be considered automatically (**dynamically typed**). \n",
    "* As the **type concept is not applicable**, the **method overloading concept is not applicable in python**.\n",
    "* Hence python, **does not support method overloading**.\n",
    "* If we are trying to declare multiple methods with the same name and different numbers of arguments then **python will always consider only last method**."
   ]
  },
  {
   "cell_type": "code",
   "execution_count": 1,
   "id": "9c7b18d9-e0d3-484f-831f-b42bb5ce4bb4",
   "metadata": {},
   "outputs": [
    {
     "name": "stdout",
     "output_type": "stream",
     "text": [
      "two-arg method\n"
     ]
    }
   ],
   "source": [
    "class Test:\n",
    "  def m1(self):\n",
    "    print('no-arg method')\n",
    "  \n",
    "  def m1(self,a):\n",
    "    print('one-arg method')\n",
    "\n",
    "  def m1(self,a,b):\n",
    "    print('two-arg method')\n",
    "\n",
    "t=Test()\n",
    "t.m1(10,20)     # two-arg method"
   ]
  },
  {
   "cell_type": "code",
   "execution_count": 2,
   "id": "96801be2-8648-4514-8a7a-15662b7a2599",
   "metadata": {},
   "outputs": [
    {
     "ename": "TypeError",
     "evalue": "Test.m1() missing 2 required positional arguments: 'a' and 'b'",
     "output_type": "error",
     "traceback": [
      "\u001b[1;31m---------------------------------------------------------------------------\u001b[0m",
      "\u001b[1;31mTypeError\u001b[0m                                 Traceback (most recent call last)",
      "Cell \u001b[1;32mIn[2], line 1\u001b[0m\n\u001b[1;32m----> 1\u001b[0m \u001b[43mt\u001b[49m\u001b[38;5;241;43m.\u001b[39;49m\u001b[43mm1\u001b[49m\u001b[43m(\u001b[49m\u001b[43m)\u001b[49m          \u001b[38;5;66;03m# TypeError: m1() missing 2 positional arguments: 'a' and 'b'\u001b[39;00m\n",
      "\u001b[1;31mTypeError\u001b[0m: Test.m1() missing 2 required positional arguments: 'a' and 'b'"
     ]
    }
   ],
   "source": [
    "t.m1()          # TypeError: m1() missing 2 positional arguments: 'a' and 'b'"
   ]
  },
  {
   "cell_type": "code",
   "execution_count": 3,
   "id": "247ec0c8-7931-4550-a643-374e9b00ccc4",
   "metadata": {},
   "outputs": [
    {
     "ename": "TypeError",
     "evalue": "Test.m1() missing 1 required positional argument: 'b'",
     "output_type": "error",
     "traceback": [
      "\u001b[1;31m---------------------------------------------------------------------------\u001b[0m",
      "\u001b[1;31mTypeError\u001b[0m                                 Traceback (most recent call last)",
      "Cell \u001b[1;32mIn[3], line 1\u001b[0m\n\u001b[1;32m----> 1\u001b[0m \u001b[43mt\u001b[49m\u001b[38;5;241;43m.\u001b[39;49m\u001b[43mm1\u001b[49m\u001b[43m(\u001b[49m\u001b[38;5;241;43m10\u001b[39;49m\u001b[43m)\u001b[49m        \u001b[38;5;66;03m# TypeError: m1() missing 1 positional arguments: 'b'\u001b[39;00m\n",
      "\u001b[1;31mTypeError\u001b[0m: Test.m1() missing 1 required positional argument: 'b'"
     ]
    }
   ],
   "source": [
    "t.m1(10)        # TypeError: m1() missing 1 positional arguments: 'b'"
   ]
  },
  {
   "cell_type": "markdown",
   "id": "fc14b629-5630-45be-a1f6-3418e9f0c87c",
   "metadata": {},
   "source": [
    "# Python way of handling different type argument requirements without method overloading"
   ]
  },
  {
   "cell_type": "code",
   "execution_count": 5,
   "id": "62df9358-f05d-4dfe-9a2d-010bc63dd8c7",
   "metadata": {},
   "outputs": [
    {
     "name": "stdout",
     "output_type": "stream",
     "text": [
      "int - argument method\n",
      "float - argument method\n",
      "str - argument method\n"
     ]
    }
   ],
   "source": [
    "class Test:\n",
    "  def m1(self, x):\n",
    "    print('{} - argument method'.format(x.__class__.__name__))\n",
    "    \n",
    "t = Test()\n",
    "t.m1(10)          # int - argument method\n",
    "t.m1(10.5)        # float - argument method\n",
    "t.m1('durga')    # str - argument method"
   ]
  },
  {
   "cell_type": "markdown",
   "id": "c05b6f49-d564-4b50-89e0-851a7438e8bd",
   "metadata": {},
   "source": [
    "# How can we handle overloaded method requirements in python?"
   ]
  },
  {
   "cell_type": "markdown",
   "id": "83808b11-7d1a-4fe6-89b6-5112c7dc3712",
   "metadata": {},
   "source": [
    "Most of the time, **if a method with a variable number of arguments** is required then we can handle it with **default arguments** or with **a variable number of argument** methods."
   ]
  },
  {
   "cell_type": "markdown",
   "id": "a506f18e-1aef-4761-a4b7-0079251fc44c",
   "metadata": {},
   "source": [
    "**Default Arguments**"
   ]
  },
  {
   "cell_type": "code",
   "execution_count": 6,
   "id": "a25d5573-d666-455b-ae36-648fdfed8e45",
   "metadata": {},
   "outputs": [
    {
     "name": "stdout",
     "output_type": "stream",
     "text": [
      "The Sum of 2 Numbers: 30\n",
      "The Sum of 3 Numbers: 60\n",
      "Please provide 2 or 3 arguments\n"
     ]
    }
   ],
   "source": [
    "class Test:\n",
    "  def sum(self,a=None,b=None,c=None):\n",
    "    if a!=None and b!= None and c!= None:\n",
    "      print('The Sum of 3 Numbers:',a+b+c)\n",
    "    elif a!=None and b!= None:\n",
    "      print('The Sum of 2 Numbers:',a+b)\n",
    "    else:\n",
    "      print('Please provide 2 or 3 arguments')\n",
    "      \n",
    "t=Test()\n",
    "t.sum(10,20)      # The Sum of 2 Numbers: 30\n",
    "t.sum(10,20,30)   # The Sum of 3 Numbers: 60\n",
    "t.sum(10)         # Please provide 2 or 3 arguments"
   ]
  },
  {
   "cell_type": "markdown",
   "id": "34da8820-5a62-469f-82b5-90fd2a880d07",
   "metadata": {},
   "source": [
    "**Variable number of arguments**"
   ]
  },
  {
   "cell_type": "code",
   "execution_count": 7,
   "id": "1487976d-a25c-40eb-beb2-2011bbf3f0e1",
   "metadata": {},
   "outputs": [
    {
     "name": "stdout",
     "output_type": "stream",
     "text": [
      "The Sum: 30\n",
      "The Sum: 60\n",
      "The Sum: 10\n",
      "The Sum: 0\n"
     ]
    }
   ],
   "source": [
    "class Test:\n",
    "  def sum(self,*a):\n",
    "    total=0\n",
    "    for x in a:\n",
    "      total=total+x\n",
    "    print('The Sum:',total)\n",
    "\n",
    "t=Test()\n",
    "t.sum(10,20)      # The Sum: 30\n",
    "t.sum(10,20,30)   # The Sum: 60\n",
    "t.sum(10)         # The Sum: 10\n",
    "t.sum()           # The Sum: 0"
   ]
  },
  {
   "cell_type": "code",
   "execution_count": null,
   "id": "ad190652-b8aa-4969-aa30-90d9293e55bd",
   "metadata": {},
   "outputs": [],
   "source": []
  }
 ],
 "metadata": {
  "kernelspec": {
   "display_name": "Python 3 (ipykernel)",
   "language": "python",
   "name": "python3"
  },
  "language_info": {
   "codemirror_mode": {
    "name": "ipython",
    "version": 3
   },
   "file_extension": ".py",
   "mimetype": "text/x-python",
   "name": "python",
   "nbconvert_exporter": "python",
   "pygments_lexer": "ipython3",
   "version": "3.12.5"
  }
 },
 "nbformat": 4,
 "nbformat_minor": 5
}
