{
 "cells": [
  {
   "cell_type": "markdown",
   "id": "4e231f47-f969-432d-b802-79e23740cda4",
   "metadata": {},
   "source": [
    "# Constructor Overloading"
   ]
  },
  {
   "cell_type": "markdown",
   "id": "917e7269-c10b-44b8-8102-e339c57aa42d",
   "metadata": {},
   "source": [
    "Constructor overloading is not supported in Python.\n",
    "\n",
    "If we define multiple constructors then the last constructor will be considered."
   ]
  },
  {
   "cell_type": "code",
   "execution_count": 1,
   "id": "b2748430-ee14-4afd-b643-225ad71c46e2",
   "metadata": {},
   "outputs": [
    {
     "name": "stdout",
     "output_type": "stream",
     "text": [
      "Two-Arg constructor\n"
     ]
    }
   ],
   "source": [
    "class Test:\n",
    "  def __init__(self):\n",
    "    print('No-Arg Constructor')\n",
    "\n",
    "  def __init__(self,a):\n",
    "    print('One-Arg constructor')\n",
    "\n",
    "  def __init__(self,a,b):\n",
    "    print('Two-Arg constructor')\n",
    "\n",
    "t1 = Test(10,20)    # Two-Arg constructor"
   ]
  },
  {
   "cell_type": "code",
   "execution_count": 2,
   "id": "536d441e-cc04-4b33-ab45-ed0134d4abd3",
   "metadata": {},
   "outputs": [
    {
     "ename": "TypeError",
     "evalue": "Test.__init__() missing 2 required positional arguments: 'a' and 'b'",
     "output_type": "error",
     "traceback": [
      "\u001b[1;31m---------------------------------------------------------------------------\u001b[0m",
      "\u001b[1;31mTypeError\u001b[0m                                 Traceback (most recent call last)",
      "Cell \u001b[1;32mIn[2], line 1\u001b[0m\n\u001b[1;32m----> 1\u001b[0m t1 \u001b[38;5;241m=\u001b[39m \u001b[43mTest\u001b[49m\u001b[43m(\u001b[49m\u001b[43m)\u001b[49m         \u001b[38;5;66;03m# TypeError: __init__() missing 2 required positional arguments: 'a' and 'b'\u001b[39;00m\n",
      "\u001b[1;31mTypeError\u001b[0m: Test.__init__() missing 2 required positional arguments: 'a' and 'b'"
     ]
    }
   ],
   "source": [
    "t1 = Test()         # TypeError: __init__() missing 2 required positional arguments: 'a' and 'b'"
   ]
  },
  {
   "cell_type": "code",
   "execution_count": 3,
   "id": "8bd727b0-0813-4a92-932d-54d4986d4400",
   "metadata": {},
   "outputs": [
    {
     "ename": "TypeError",
     "evalue": "Test.__init__() missing 1 required positional argument: 'b'",
     "output_type": "error",
     "traceback": [
      "\u001b[1;31m---------------------------------------------------------------------------\u001b[0m",
      "\u001b[1;31mTypeError\u001b[0m                                 Traceback (most recent call last)",
      "Cell \u001b[1;32mIn[3], line 1\u001b[0m\n\u001b[1;32m----> 1\u001b[0m t1 \u001b[38;5;241m=\u001b[39m \u001b[43mTest\u001b[49m\u001b[43m(\u001b[49m\u001b[38;5;241;43m10\u001b[39;49m\u001b[43m)\u001b[49m       \u001b[38;5;66;03m# TypeError: __init__() missing 1 required positional arguments: 'b'\u001b[39;00m\n",
      "\u001b[1;31mTypeError\u001b[0m: Test.__init__() missing 1 required positional argument: 'b'"
     ]
    }
   ],
   "source": [
    "t1 = Test(10)       # TypeError: __init__() missing 1 required positional arguments: 'b'"
   ]
  },
  {
   "cell_type": "markdown",
   "id": "fd902293-8c50-4059-9431-563060899cab",
   "metadata": {},
   "source": [
    "In the above program, only **two-arg** Constructor is available.\n",
    "\n",
    "But based on our requirement we can declare a constructor with default arguments and a variable number of arguments."
   ]
  },
  {
   "cell_type": "markdown",
   "id": "630f6167-6069-4f18-a439-9e8cc65a53c8",
   "metadata": {},
   "source": [
    "# Constructor with default arguments"
   ]
  },
  {
   "cell_type": "code",
   "execution_count": 4,
   "id": "62b56e67-b913-4eca-bf07-a3e9678bee96",
   "metadata": {},
   "outputs": [
    {
     "name": "stdout",
     "output_type": "stream",
     "text": [
      "Constructor with 0|1|2|3 number of arguments\n",
      "Constructor with 0|1|2|3 number of arguments\n",
      "Constructor with 0|1|2|3 number of arguments\n",
      "Constructor with 0|1|2|3 number of arguments\n"
     ]
    }
   ],
   "source": [
    "class Test:\n",
    "  def __init__(self,a=None,b=None,c=None):\n",
    "    print('Constructor with 0|1|2|3 number of arguments')\n",
    "\n",
    "t1 = Test()             # Constructor with 0|1|2|3 number of arguments\n",
    "t2 = Test(10)           # Constructor with 0|1|2|3 number of arguments\n",
    "t3 = Test(10,20)        # Constructor with 0|1|2|3 number of arguments\n",
    "t4 = Test(10,20,30)     # Constructor with 0|1|2|3 number of arguments"
   ]
  },
  {
   "cell_type": "markdown",
   "id": "9ffe681e-be1e-42e4-a8d6-b69cc88c53b4",
   "metadata": {},
   "source": [
    "# Constructor with a variable number of arguments"
   ]
  },
  {
   "cell_type": "code",
   "execution_count": 5,
   "id": "163a54a6-9edb-4ea0-ad84-8b3ef7bc4c9a",
   "metadata": {},
   "outputs": [
    {
     "name": "stdout",
     "output_type": "stream",
     "text": [
      "Constructor with variable number of arguments\n",
      "Constructor with variable number of arguments\n",
      "Constructor with variable number of arguments\n",
      "Constructor with variable number of arguments\n",
      "Constructor with variable number of arguments\n"
     ]
    }
   ],
   "source": [
    "class Test:\n",
    "  def __init__(self,*a):\n",
    "    print('Constructor with variable number of arguments')\n",
    "\n",
    "t1 = Test()                       # Constructor with variable number of arguments\n",
    "t2 = Test(10)                     # Constructor with variable number of arguments\n",
    "t3 = Test(10,20)                  # Constructor with variable number of arguments\n",
    "t4 = Test(10,20,30)               # Constructor with variable number of arguments\n",
    "t5 = Test(10,20,30,40,50,60)      # Constructor with variable number of arguments"
   ]
  },
  {
   "cell_type": "code",
   "execution_count": null,
   "id": "f64311b6-8d9e-40e2-8af1-b79561e6a7ae",
   "metadata": {},
   "outputs": [],
   "source": []
  }
 ],
 "metadata": {
  "kernelspec": {
   "display_name": "Python 3 (ipykernel)",
   "language": "python",
   "name": "python3"
  },
  "language_info": {
   "codemirror_mode": {
    "name": "ipython",
    "version": 3
   },
   "file_extension": ".py",
   "mimetype": "text/x-python",
   "name": "python",
   "nbconvert_exporter": "python",
   "pygments_lexer": "ipython3",
   "version": "3.12.5"
  }
 },
 "nbformat": 4,
 "nbformat_minor": 5
}
