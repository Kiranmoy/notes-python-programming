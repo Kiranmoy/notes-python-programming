{
 "cells": [
  {
   "cell_type": "markdown",
   "id": "44164fd0-00a8-4892-b6cc-58f75a3737fe",
   "metadata": {},
   "source": [
    "# Abstract method"
   ]
  },
  {
   "cell_type": "markdown",
   "id": "3280d662-edbc-4a8c-b096-f3360e10b716",
   "metadata": {},
   "source": [
    "* Sometimes we don't know about implementation, but still, we can declare a method. Such types of methods are called **abstract methods**. \n",
    "* That is abstract method has only declaration but not implementation (empty implementation).\n",
    "* In python, we can declare the abstract method using the **`@abstractmethod`** decorator as follows:"
   ]
  },
  {
   "cell_type": "code",
   "execution_count": 2,
   "id": "9b9577ed-f2eb-4e4e-81dd-4f658b029ddd",
   "metadata": {},
   "outputs": [
    {
     "ename": "NameError",
     "evalue": "name 'abstractmethod' is not defined",
     "output_type": "error",
     "traceback": [
      "\u001b[1;31m---------------------------------------------------------------------------\u001b[0m",
      "\u001b[1;31mNameError\u001b[0m                                 Traceback (most recent call last)",
      "Cell \u001b[1;32mIn[2], line 1\u001b[0m\n\u001b[1;32m----> 1\u001b[0m \u001b[38;5;28;43;01mclass\u001b[39;49;00m\u001b[43m \u001b[49m\u001b[38;5;21;43;01mTest\u001b[39;49;00m\u001b[43m:\u001b[49m\n\u001b[0;32m      2\u001b[0m \u001b[43m  \u001b[49m\u001b[38;5;129;43m@abstractmethod\u001b[39;49m\u001b[43m         \u001b[49m\u001b[38;5;66;43;03m# NameError: name 'abstractmethod' is not defined\u001b[39;49;00m\n\u001b[0;32m      3\u001b[0m \u001b[43m  \u001b[49m\u001b[38;5;28;43;01mdef\u001b[39;49;00m\u001b[43m \u001b[49m\u001b[38;5;21;43mm1\u001b[39;49m\u001b[43m(\u001b[49m\u001b[38;5;28;43mself\u001b[39;49m\u001b[43m)\u001b[49m\u001b[43m:\u001b[49m\n\u001b[0;32m      4\u001b[0m \u001b[43m    \u001b[49m\u001b[38;5;28;43;01mpass\u001b[39;49;00m\n",
      "Cell \u001b[1;32mIn[2], line 2\u001b[0m, in \u001b[0;36mTest\u001b[1;34m()\u001b[0m\n\u001b[0;32m      1\u001b[0m \u001b[38;5;28;01mclass\u001b[39;00m \u001b[38;5;21;01mTest\u001b[39;00m:\n\u001b[1;32m----> 2\u001b[0m   \u001b[38;5;129m@abstractmethod\u001b[39m         \u001b[38;5;66;03m# NameError: name 'abstractmethod' is not defined\u001b[39;00m\n\u001b[0;32m      3\u001b[0m   \u001b[38;5;28;01mdef\u001b[39;00m \u001b[38;5;21mm1\u001b[39m(\u001b[38;5;28mself\u001b[39m):\n\u001b[0;32m      4\u001b[0m     \u001b[38;5;28;01mpass\u001b[39;00m\n",
      "\u001b[1;31mNameError\u001b[0m: name 'abstractmethod' is not defined"
     ]
    }
   ],
   "source": [
    "class Test:\n",
    "  @abstractmethod         # NameError: name 'abstractmethod' is not defined\n",
    "  def m1(self):\n",
    "    pass"
   ]
  },
  {
   "cell_type": "markdown",
   "id": "9cb850a6-877c-4a66-81e0-e0cbfae3678a",
   "metadata": {},
   "source": [
    "* **`@abstractmethod`** decorator present in abc module. \n",
    "* Hence compulsory we should import abc module, otherwise, we will get an error.\n",
    "* `abc` → abstract base class."
   ]
  },
  {
   "cell_type": "code",
   "execution_count": 3,
   "id": "cda83892-6ce7-446f-8cc6-8da2e7b38b50",
   "metadata": {},
   "outputs": [],
   "source": [
    "from abc import abstractmethod\n",
    "\n",
    "class Test:\n",
    "  @abstractmethod\n",
    "  def m1(self):\n",
    "    pass"
   ]
  },
  {
   "cell_type": "markdown",
   "id": "6c20eb1b-4e90-4b86-8d64-39f54d354880",
   "metadata": {},
   "source": [
    "> ***NOTE:** Child classes are responsible to provide implementation for parent class abstract methods.*"
   ]
  },
  {
   "cell_type": "markdown",
   "id": "221ce77b-a0a9-45e5-8d88-1f05c354c25b",
   "metadata": {},
   "source": [
    "# Abstract class"
   ]
  },
  {
   "cell_type": "markdown",
   "id": "58357372-5dc8-460f-8b7d-8e980343bf2d",
   "metadata": {},
   "source": [
    "* Sometimes implementation of a class is not complete, such types of partial implementation classes are called **abstract classes**.\n",
    "* Every abstract class in Python should be derived from the **`ABC`** class which is present in **`abc`** module."
   ]
  },
  {
   "cell_type": "markdown",
   "id": "64c24eab-b623-461d-83e1-26cb15d7c917",
   "metadata": {},
   "source": [
    "# CASE 1: Concrete class - instantiation possible."
   ]
  },
  {
   "cell_type": "code",
   "execution_count": 4,
   "id": "3a45715b-c6a2-45bc-9bcc-c09e4e363426",
   "metadata": {},
   "outputs": [],
   "source": [
    "from abc import *\n",
    "class Test:\n",
    "  pass\n",
    "\n",
    "t=Test()"
   ]
  },
  {
   "cell_type": "markdown",
   "id": "1b467a47-86e7-45bc-a912-9ed831f226f5",
   "metadata": {},
   "source": [
    "In the above code, we can create the object for the Test class because it is a concrete class and it does not contain any abstract method."
   ]
  },
  {
   "cell_type": "markdown",
   "id": "29dd9654-c09d-4c85-9fc8-c25e9d1ff374",
   "metadata": {},
   "source": [
    "# CASE 2: Abstract class without abstract method - instantiation possible."
   ]
  },
  {
   "cell_type": "code",
   "execution_count": 5,
   "id": "4cbbc669-4f23-4b25-a467-09f093c16e75",
   "metadata": {},
   "outputs": [],
   "source": [
    "from abc import *\n",
    "class Test(ABC):\n",
    "  pass\n",
    "\n",
    "t=Test()"
   ]
  },
  {
   "cell_type": "markdown",
   "id": "d4e01282-8a0a-451d-8693-2dd41d2a599f",
   "metadata": {},
   "source": [
    "In the above code, we can create the object, even if it is derived from the **`ABC`** class because it does not contain any abstract method. \n",
    "> ***NOTE:** An abstract class can contains ZERO or more abstract methods.*"
   ]
  },
  {
   "cell_type": "markdown",
   "id": "5977b5ea-3426-47bc-8414-df3f24565720",
   "metadata": {},
   "source": [
    "# CASE 3: Abstract class with abstract method - instantiation not possible."
   ]
  },
  {
   "cell_type": "code",
   "execution_count": 6,
   "id": "8e412d25-8e21-490b-996b-a97b5162c443",
   "metadata": {},
   "outputs": [
    {
     "ename": "TypeError",
     "evalue": "Can't instantiate abstract class Test without an implementation for abstract method 'm1'",
     "output_type": "error",
     "traceback": [
      "\u001b[1;31m---------------------------------------------------------------------------\u001b[0m",
      "\u001b[1;31mTypeError\u001b[0m                                 Traceback (most recent call last)",
      "Cell \u001b[1;32mIn[6], line 7\u001b[0m\n\u001b[0;32m      3\u001b[0m   \u001b[38;5;129m@abstractmethod\u001b[39m\n\u001b[0;32m      4\u001b[0m   \u001b[38;5;28;01mdef\u001b[39;00m \u001b[38;5;21mm1\u001b[39m(\u001b[38;5;28mself\u001b[39m):\n\u001b[0;32m      5\u001b[0m     \u001b[38;5;28;01mpass\u001b[39;00m\n\u001b[1;32m----> 7\u001b[0m t\u001b[38;5;241m=\u001b[39m\u001b[43mTest\u001b[49m\u001b[43m(\u001b[49m\u001b[43m)\u001b[49m\n",
      "\u001b[1;31mTypeError\u001b[0m: Can't instantiate abstract class Test without an implementation for abstract method 'm1'"
     ]
    }
   ],
   "source": [
    "from abc import *\n",
    "class Test(ABC):\n",
    "  @abstractmethod\n",
    "  def m1(self):\n",
    "    pass\n",
    "    \n",
    "t=Test()"
   ]
  },
  {
   "cell_type": "markdown",
   "id": "23f47121-b71d-47cd-87b5-86f071d6780f",
   "metadata": {},
   "source": [
    "# CASE 4: Non-abstract class with only abstract method- instantiation possible."
   ]
  },
  {
   "cell_type": "code",
   "execution_count": 7,
   "id": "cc6740c1-cab1-4e2c-a3db-324d2e9e7e3c",
   "metadata": {},
   "outputs": [],
   "source": [
    "from abc import *\n",
    "class Test:\n",
    "  @abstractmethod\n",
    "  def m1(self):\n",
    "    pass\n",
    "    \n",
    "t=Test()"
   ]
  },
  {
   "cell_type": "markdown",
   "id": "cc62dc78-f946-4e3c-89ee-f55e8dc4936a",
   "metadata": {},
   "source": [
    "We can create an object even class contains an abstract method because we are not extending the **`ABC`** class."
   ]
  },
  {
   "cell_type": "markdown",
   "id": "19b98985-57ea-460c-8f00-b6ed0a4514ce",
   "metadata": {},
   "source": [
    "# CASE 5:"
   ]
  },
  {
   "cell_type": "code",
   "execution_count": 8,
   "id": "71faffdc-10c3-49b8-a3de-5cf8782315f9",
   "metadata": {},
   "outputs": [
    {
     "name": "stdout",
     "output_type": "stream",
     "text": [
      "Hello\n"
     ]
    }
   ],
   "source": [
    "from abc import *\n",
    "class Test:\n",
    "  @abstractmethod\n",
    "  def m1(self):\n",
    "    print('Hello')\n",
    "\n",
    "t=Test()\n",
    "t.m1()              # Hello"
   ]
  },
  {
   "cell_type": "markdown",
   "id": "b0b5858b-718d-455d-99bc-0424057690f5",
   "metadata": {},
   "source": [
    "# Conclusion"
   ]
  },
  {
   "cell_type": "markdown",
   "id": "70102ab0-c105-44b3-a05e-049570282b10",
   "metadata": {},
   "source": [
    "* If a class contains at least one abstract method and if we are extending the **`ABC`** class then instantiation is not possible. \n",
    "* **\"abstract class with abstract method instantiation is not possible\"** \n",
    "* Parent class abstract methods should be implemented in the child classes. \n",
    "* Otherwise, we cannot instantiate child class. \n",
    "* That is, the child class also becomes an abstract class. \n",
    "* Hence, we cannot create objects for the child class also.\n",
    "* If we are not creating a child class object then we won't get any error. "
   ]
  },
  {
   "cell_type": "markdown",
   "id": "fbe2a820-e88c-4c57-9de2-9635a0ebb542",
   "metadata": {},
   "source": [
    "# EXAMPLE 1:"
   ]
  },
  {
   "cell_type": "code",
   "execution_count": 9,
   "id": "fced0e76-df73-4a3b-b44f-ba288b553679",
   "metadata": {},
   "outputs": [],
   "source": [
    "from abc import *\n",
    "class Vehicle(ABC):\n",
    "  @abstractmethod\n",
    "  def noofwheels(self):\n",
    "    pass\n",
    "\n",
    "class Bus(Vehicle):\n",
    "  pass"
   ]
  },
  {
   "cell_type": "markdown",
   "id": "33706ae7-e637-4137-ae82-734bc59f42a4",
   "metadata": {},
   "source": [
    "It is valid because we are not creating a **Child** class object."
   ]
  },
  {
   "cell_type": "markdown",
   "id": "bd5bf1d4-cdd2-4a4e-a7e6-cd1cb2d93d63",
   "metadata": {},
   "source": [
    "# EXAMPLE 2:"
   ]
  },
  {
   "cell_type": "code",
   "execution_count": 10,
   "id": "124b8e42-db63-472a-b227-8f1f88e4aa12",
   "metadata": {},
   "outputs": [
    {
     "ename": "TypeError",
     "evalue": "Can't instantiate abstract class Bus without an implementation for abstract method 'noofwheels'",
     "output_type": "error",
     "traceback": [
      "\u001b[1;31m---------------------------------------------------------------------------\u001b[0m",
      "\u001b[1;31mTypeError\u001b[0m                                 Traceback (most recent call last)",
      "Cell \u001b[1;32mIn[10], line 10\u001b[0m\n\u001b[0;32m      7\u001b[0m \u001b[38;5;28;01mclass\u001b[39;00m \u001b[38;5;21;01mBus\u001b[39;00m(Vehicle): \n\u001b[0;32m      8\u001b[0m   \u001b[38;5;28;01mpass\u001b[39;00m\n\u001b[1;32m---> 10\u001b[0m b\u001b[38;5;241m=\u001b[39m\u001b[43mBus\u001b[49m\u001b[43m(\u001b[49m\u001b[43m)\u001b[49m             \u001b[38;5;66;03m# TypeError: Can't instantiate abstract class Bus with abstract methods noofwheels\u001b[39;00m\n",
      "\u001b[1;31mTypeError\u001b[0m: Can't instantiate abstract class Bus without an implementation for abstract method 'noofwheels'"
     ]
    }
   ],
   "source": [
    "from abc import *\n",
    "class Vehicle(ABC):\n",
    "  @abstractmethod\n",
    "  def noofwheels(self):\n",
    "    pass\n",
    "\n",
    "class Bus(Vehicle): \n",
    "  pass\n",
    "  \n",
    "b=Bus()             # TypeError: Can't instantiate abstract class Bus with abstract methods noofwheels"
   ]
  },
  {
   "cell_type": "markdown",
   "id": "a6d8ad41-b917-4df0-99c8-4877d540c075",
   "metadata": {},
   "source": [
    "> ***NOTE:** If we are extending abstract class and does not override its abstract method the child class is also abstract and instantiation is not possible.*"
   ]
  },
  {
   "cell_type": "markdown",
   "id": "8dff7b11-b71d-4f0b-9210-93c16fcd8796",
   "metadata": {},
   "source": [
    "# EXAMPLE 3:"
   ]
  },
  {
   "cell_type": "code",
   "execution_count": 11,
   "id": "71dd139c-0339-4f39-9079-2f5be1642259",
   "metadata": {},
   "outputs": [
    {
     "name": "stdout",
     "output_type": "stream",
     "text": [
      "7\n",
      "3\n"
     ]
    }
   ],
   "source": [
    "from abc import *\n",
    "class Vehicle(ABC):\n",
    "  @abstractmethod\n",
    "  def noofwheels(self):\n",
    "    pass\n",
    "\n",
    "class Bus(Vehicle):\n",
    "  def noofwheels(self):\n",
    "    return 7\n",
    "\n",
    "class Auto(Vehicle):\n",
    "  def noofwheels(self):\n",
    "    return 3\n",
    "    \n",
    "b=Bus()\n",
    "print(b.noofwheels())   # 7\n",
    "\n",
    "a = Auto()\n",
    "print(a.noofwheels())   # 3"
   ]
  },
  {
   "cell_type": "markdown",
   "id": "a1daa75b-3ed1-4a05-bde9-ec590a877662",
   "metadata": {},
   "source": [
    "> ***NOTE:** Abstract class can contain both **abstract** and **non-abstract** methods also.*"
   ]
  },
  {
   "cell_type": "markdown",
   "id": "9a5bbc9d-152f-4199-8dd9-16eb705cf38c",
   "metadata": {},
   "source": [
    "# What is the advantage of declaring abstract methods in parent class?\n",
    "\n",
    "By declaring abstract methods in the parent class, we can provide guidelines/force the child classes to provide specific functionalities by implementing the abstract methods."
   ]
  },
  {
   "cell_type": "code",
   "execution_count": null,
   "id": "ddcf2239-1d8a-4a69-b73d-63fad301b61f",
   "metadata": {},
   "outputs": [],
   "source": []
  }
 ],
 "metadata": {
  "kernelspec": {
   "display_name": "Python 3 (ipykernel)",
   "language": "python",
   "name": "python3"
  },
  "language_info": {
   "codemirror_mode": {
    "name": "ipython",
    "version": 3
   },
   "file_extension": ".py",
   "mimetype": "text/x-python",
   "name": "python",
   "nbconvert_exporter": "python",
   "pygments_lexer": "ipython3",
   "version": "3.12.5"
  }
 },
 "nbformat": 4,
 "nbformat_minor": 5
}
