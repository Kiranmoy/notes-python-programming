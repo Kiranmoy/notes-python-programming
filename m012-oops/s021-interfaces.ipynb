{
 "cells": [
  {
   "cell_type": "markdown",
   "id": "6e30a94b-7d3b-4b91-8673-f2167621d462",
   "metadata": {},
   "source": [
    "# Interfaces"
   ]
  },
  {
   "cell_type": "markdown",
   "id": "8841a16f-aca8-4a40-9793-a059b2e9f60e",
   "metadata": {},
   "source": [
    "* An abstract class can contain both abstract and non-abstract methods.\n",
    "* If an **abstract class contains only abstract methods** such type of abstract class is nothing but an **interface**.\n",
    "* **`100%`** pure abstract class is nothing but an interface.\n",
    "* The interface simply acts as Service Requirement Specification (**SRS**)."
   ]
  },
  {
   "cell_type": "code",
   "execution_count": 1,
   "id": "cf227100-321d-407d-bf08-64637e4e3088",
   "metadata": {},
   "outputs": [
    {
     "name": "stdin",
     "output_type": "stream",
     "text": [
      "Enter Database Name: Oracle\n"
     ]
    },
    {
     "name": "stdout",
     "output_type": "stream",
     "text": [
      "Connecting to Oracle Database...\n",
      "Disconnecting to Oracle Database...\n"
     ]
    }
   ],
   "source": [
    "from abc import *\n",
    "\n",
    "class DBInterface(ABC):\n",
    "  @abstractmethod\n",
    "  def connect(self):\n",
    "    pass\n",
    "\n",
    "  @abstractmethod\n",
    "  def disconnect(self):\n",
    "    pass\n",
    "\n",
    "class Oracle(DBInterface):\n",
    "  \n",
    "  def connect(self):\n",
    "    print('Connecting to Oracle Database...')\n",
    "\n",
    "  def disconnect(self):\n",
    "    print('Disconnecting to Oracle Database...')\n",
    "\n",
    "class Sybase(DBInterface):\n",
    "  def connect(self):\n",
    "    print('Connecting to Sybase Database...')\n",
    "    \n",
    "  def disconnect(self):\n",
    "    print('Disconnecting to Sybase Database...')\n",
    "\n",
    "dbname = input('Enter Database Name:')\n",
    "classname = globals()[dbname]\n",
    "x = classname()\n",
    "x.connect()\n",
    "x.disconnect()"
   ]
  },
  {
   "cell_type": "markdown",
   "id": "d9bbd354-c9de-4312-9a49-f68c296d7a1b",
   "metadata": {},
   "source": [
    "> ***NOTE:** The inbuilt function `globals()[str]` converts the string **'str'** into a class name and returns the `classname`.* "
   ]
  },
  {
   "cell_type": "markdown",
   "id": "1eaf9ba7-2c07-4eb7-9dd4-fb2ffeb64006",
   "metadata": {},
   "source": [
    "# Concrete class vs Abstract class vs Interface"
   ]
  },
  {
   "cell_type": "markdown",
   "id": "8dcb062e-a8fb-4616-a95b-c23a8f9a7672",
   "metadata": {},
   "source": [
    "* If we don't know anything about implementation and just have requirement specifications then we should go for the interface.\n",
    "* If we are talking about implementation but not completely then we should go for an abstract class. (**partially implemented class**).\n",
    "* If we are talking about implementation completely and ready to provide service then we should go for concrete class."
   ]
  },
  {
   "cell_type": "code",
   "execution_count": 2,
   "id": "e612cba6-6630-4322-bd77-531f41514dd8",
   "metadata": {},
   "outputs": [
    {
     "name": "stdout",
     "output_type": "stream",
     "text": [
      "m1 method implementation\n",
      "m2 method implementation\n",
      "m3 method implemnentation\n"
     ]
    }
   ],
   "source": [
    "from abc import *\n",
    "\n",
    "class CollegeAutomation(ABC):\n",
    "  @abstractmethod\n",
    "  def m1(self): \n",
    "    pass\n",
    "  \n",
    "  @abstractmethod\n",
    "  def m2(self): \n",
    "    pass\n",
    "\n",
    "  @abstractmethod\n",
    "  def m3(self): \n",
    "    pass\n",
    "\n",
    "class AbsCls(CollegeAutomation):\n",
    "  def m1(self):\n",
    "    print('m1 method implementation')\n",
    "\n",
    "  def m2(self):\n",
    "    print('m2 method implementation')\n",
    "\n",
    "class ConcreteCls(AbsCls):\n",
    "  def m3(self):\n",
    "    print('m3 method implemnentation')\n",
    "\n",
    "c=ConcreteCls()\n",
    "c.m1()\n",
    "c.m2()\n",
    "c.m3()"
   ]
  },
  {
   "cell_type": "code",
   "execution_count": null,
   "id": "22f646a2-e779-4c99-86af-20aa0ace8ba6",
   "metadata": {},
   "outputs": [],
   "source": []
  }
 ],
 "metadata": {
  "kernelspec": {
   "display_name": "Python 3 (ipykernel)",
   "language": "python",
   "name": "python3"
  },
  "language_info": {
   "codemirror_mode": {
    "name": "ipython",
    "version": 3
   },
   "file_extension": ".py",
   "mimetype": "text/x-python",
   "name": "python",
   "nbconvert_exporter": "python",
   "pygments_lexer": "ipython3",
   "version": "3.12.5"
  }
 },
 "nbformat": 4,
 "nbformat_minor": 5
}
