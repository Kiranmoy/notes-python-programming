{
 "cells": [
  {
   "cell_type": "markdown",
   "id": "6b511194-872a-40ec-ae38-afd8d6ff39dd",
   "metadata": {},
   "source": [
    "# Public, Protected, and Private attributes"
   ]
  },
  {
   "attachments": {
    "48e6d388-99f5-435b-875d-62de544ccbae.png": {
     "image/png": "[encoded data removed]"
    }
   },
   "cell_type": "markdown",
   "id": "db7676a3-d62b-4712-bfcf-3d7ac2a8fc4f",
   "metadata": {},
   "source": [
    "![image.png](attachment:48e6d388-99f5-435b-875d-62de544ccbae.png)\n",
    "\n",
    "* By default every attribute is public. We can access it from anywhere either within the class or from outside of the class.\n",
    "* Protected attributes can be accessed within the class anywhere but from outside of the class only in child classes. \n",
    "* We can specify an attribute as protected by prefixing it with an underscore **`( _ )`** symbol. \n",
    "* But it is just convention and in reality, **does not exist protected attributes**.\n",
    "* Private attributes can be accessed only within the class. That is, from outside of the class we cannot access. \n",
    "* We can declare a variable as private explicitly by prefixing it with 2 underscore symbols.\n",
    "\n",
    "> ***NOTE:** The public, protected & private concepts are all conventions. They are not strictly implemented by python.*"
   ]
  },
  {
   "cell_type": "code",
   "execution_count": 3,
   "id": "c7203ce1-e6bd-4777-abd5-281b77853b72",
   "metadata": {},
   "outputs": [],
   "source": [
    "name = 'durga'                        # public member convention, not strictly implemented\n",
    "_protectedvariablename = 'value'      # convention for protected members, not strictly implemented\n",
    "__privatevariablename = 'value'       # private member convention, not strictly implemented"
   ]
  },
  {
   "cell_type": "markdown",
   "id": "da3ff17b-31b4-45ce-ba1c-b791f95ae9e8",
   "metadata": {},
   "source": [
    "**EXAMPLE:**"
   ]
  },
  {
   "cell_type": "code",
   "execution_count": 4,
   "id": "a26ab4e5-56f1-4471-ab67-fcb898840792",
   "metadata": {},
   "outputs": [
    {
     "name": "stdout",
     "output_type": "stream",
     "text": [
      "10\n",
      "20\n",
      "30\n",
      "10\n",
      "20\n"
     ]
    },
    {
     "ename": "AttributeError",
     "evalue": "type object 'Test' has no attribute '__z'",
     "output_type": "error",
     "traceback": [
      "\u001b[1;31m---------------------------------------------------------------------------\u001b[0m",
      "\u001b[1;31mAttributeError\u001b[0m                            Traceback (most recent call last)",
      "Cell \u001b[1;32mIn[4], line 17\u001b[0m\n\u001b[0;32m     14\u001b[0m \u001b[38;5;28mprint\u001b[39m(Test\u001b[38;5;241m.\u001b[39mx)     \u001b[38;5;66;03m# 10\u001b[39;00m\n\u001b[0;32m     15\u001b[0m \u001b[38;5;28mprint\u001b[39m(Test\u001b[38;5;241m.\u001b[39m_y)    \u001b[38;5;66;03m# 20\u001b[39;00m\n\u001b[1;32m---> 17\u001b[0m \u001b[38;5;28mprint\u001b[39m(\u001b[43mTest\u001b[49m\u001b[38;5;241;43m.\u001b[39;49m\u001b[43m__z\u001b[49m)   \n",
      "\u001b[1;31mAttributeError\u001b[0m: type object 'Test' has no attribute '__z'"
     ]
    }
   ],
   "source": [
    "class Test:\n",
    "  x=10\n",
    "  _y=20\n",
    "  __z=30\n",
    "\n",
    "  def m1(self):\n",
    "    print(Test.x)\n",
    "    print(Test._y)\n",
    "    print(Test.__z)\n",
    "\n",
    "t=Test()        \n",
    "t.m1()            # 10 20 30\n",
    "\n",
    "print(Test.x)     # 10\n",
    "print(Test._y)    # 20\n",
    "\n",
    "print(Test.__z)   "
   ]
  },
  {
   "cell_type": "markdown",
   "id": "2ec5c21b-4eb6-480c-b77f-1d599570e972",
   "metadata": {},
   "source": [
    "# How to access private variables from outside of the class?"
   ]
  },
  {
   "cell_type": "markdown",
   "id": "c81e0f9e-ea47-4db1-bbe0-47c2e0ffd1c9",
   "metadata": {},
   "source": [
    "* We cannot access private variables directly from outside of the class.\n",
    "* But we can access it indirectly as follows →  `objectreference._classname__variablename`  \n",
    "* This process of accessing private variables from outside the class is called **Name Mangling**."
   ]
  },
  {
   "cell_type": "code",
   "execution_count": 5,
   "id": "2005ac22-94a3-403b-b7ab-ab450b84019f",
   "metadata": {},
   "outputs": [
    {
     "name": "stdout",
     "output_type": "stream",
     "text": [
      "10\n"
     ]
    }
   ],
   "source": [
    "class Test:\n",
    "  def __init__(self):\n",
    "    self.__x=10\n",
    "\n",
    "t=Test()\n",
    "print(t._Test__x)   # 10"
   ]
  },
  {
   "cell_type": "code",
   "execution_count": null,
   "id": "6895f627-4dff-49c6-9a22-8191673a6224",
   "metadata": {},
   "outputs": [],
   "source": []
  }
 ],
 "metadata": {
  "kernelspec": {
   "display_name": "Python 3 (ipykernel)",
   "language": "python",
   "name": "python3"
  },
  "language_info": {
   "codemirror_mode": {
    "name": "ipython",
    "version": 3
   },
   "file_extension": ".py",
   "mimetype": "text/x-python",
   "name": "python",
   "nbconvert_exporter": "python",
   "pygments_lexer": "ipython3",
   "version": "3.12.5"
  }
 },
 "nbformat": 4,
 "nbformat_minor": 5
}
