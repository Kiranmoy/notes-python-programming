{
 "cells": [
  {
   "cell_type": "markdown",
   "id": "31efc007-f7be-4bf9-95fb-b556fd8bd709",
   "metadata": {},
   "source": [
    "# Three pillars of OOPs: Encapsulation | Inheritance | Polymorphism"
   ]
  },
  {
   "cell_type": "markdown",
   "id": "83f07f48-181e-4337-ac0b-e68d4367d920",
   "metadata": {},
   "source": [
    "**ENCAPSULATION** → Security\n",
    "\n",
    "**INHERITANCE** → Code reusability and extendibility.\n",
    "\n",
    "**POLYMORPHISM** → Flexibility."
   ]
  },
  {
   "cell_type": "markdown",
   "id": "3ba38c4c-6284-4aec-a373-9fc1d672265a",
   "metadata": {},
   "source": [
    "# DATA HIDING"
   ]
  },
  {
   "cell_type": "markdown",
   "id": "1a8dfe1a-9dff-439e-951a-957a18146f05",
   "metadata": {},
   "source": [
    "Our internal data should not go out directly. \n",
    "\n",
    "That is, an outside person should not access our internal data directly.\n",
    "\n",
    "This OOP feature is nothing but **DATA HIDING**.\n",
    "\n",
    "By declaring data members as private, we can implement **Data Hiding**.\n",
    "\n",
    "**Advantage:** Security."
   ]
  },
  {
   "cell_type": "markdown",
   "id": "f7000b77-9d14-407d-89af-43b6680cca39",
   "metadata": {},
   "source": [
    "# ABSTRACTION"
   ]
  },
  {
   "cell_type": "markdown",
   "id": "394a52f0-b18a-4800-b473-eb745497ea52",
   "metadata": {},
   "source": [
    "Hiding internal implementation and just showing the necessary details only.\n",
    "\n",
    "**Advantages:**\n",
    "* Security.\n",
    "* The enhancement will become easy.\n",
    "* The maintainability and modularity of the application will be improved."
   ]
  },
  {
   "cell_type": "markdown",
   "id": "284e129c-4bea-4593-aa0f-e5c6b68e7add",
   "metadata": {},
   "source": [
    "# ENCAPSULATION"
   ]
  },
  {
   "cell_type": "markdown",
   "id": "1b228f12-2c2d-4cdc-8feb-b959d6d22a7b",
   "metadata": {},
   "source": [
    "The process of binding or encapsulating data and corresponding behavior/methods into a single unit is nothing but encapsulation.\n",
    "\n",
    "Every Python class is an example of Encapsulation.\n",
    "\n",
    "**`Encapsulation = Data Hiding + Abstraction`**\n",
    "\n",
    "**Advantages:**\n",
    "* Security.\n",
    "* The enhancement will become easy.\n",
    "* The maintainability and modularity of the application will be improved.\n",
    "\n",
    "The main advantage of encapsualtion is security.\n",
    "\n",
    "Tha main limitation of encapsulation is that it increases the length of the code and slows down execution (i.e. **compromising performance**).\n",
    "* If we want security, we should compromise performance.\n",
    "* If we want performance, we should compromise security."
   ]
  },
  {
   "cell_type": "code",
   "execution_count": 6,
   "id": "947600ac-bf2a-42e3-a7ae-d2e491ae1fe1",
   "metadata": {},
   "outputs": [
    {
     "name": "stdout",
     "output_type": "stream",
     "text": [
      "Durga's Savings Account with Balance :10000\n",
      "Account Balance: 15000\n",
      "Sorry, Insufficient Funds\n",
      "Durga's Savings Account with Balance :0\n",
      "Ravi's Current Account with Balance :26000\n",
      "Ravi's Current Account with Balance :-1000\n"
     ]
    }
   ],
   "source": [
    "class Account:\n",
    "\n",
    "  def __init__(self,name,balance,min_balance):\n",
    "    self.__name=name\n",
    "    self.__balance=balance\n",
    "    self.__min_balance=min_balance\n",
    "\n",
    "  def deposit(self,amount):\n",
    "    self.__balance +=amount\n",
    "\n",
    "  def withdraw(self,amount):\n",
    "    if self.__balance-amount >= self.__min_balance:\n",
    "      self.__balance -=amount\n",
    "    else:\n",
    "      print(\"Sorry, Insufficient Funds\")\n",
    "\n",
    "  def printStatement(self):\n",
    "    print(\"Account Balance:\",self.__balance)\n",
    "\n",
    "class Current(Account):\n",
    "  \n",
    "  def __init__(self,name,balance):\n",
    "    super().__init__(name,balance,min_balance=-1000)\n",
    "\n",
    "  def __str__(self):\n",
    "    return \"{}'s Current Account with Balance :{}\".format(self._Account__name,self._Account__balance)\n",
    "\n",
    "class Savings(Account):\n",
    "\n",
    "  def __init__(self,name,balance):\n",
    "    super().__init__(name,balance,min_balance=0)\n",
    "\n",
    "  def __str__(self):\n",
    "    return \"{}'s Savings Account with Balance :{}\".format(self._Account__name,self._Account__balance)\n",
    "\n",
    "c=Savings(\"Durga\",10000)\n",
    "print(c)\n",
    "c.deposit(5000)\n",
    "c.printStatement()\n",
    "c.withdraw(16000)\n",
    "c.withdraw(15000)\n",
    "print(c)\n",
    "\n",
    "c2=Current('Ravi',20000)\n",
    "c2.deposit(6000)\n",
    "print(c2)\n",
    "\n",
    "c2.withdraw(27000)\n",
    "print(c2)"
   ]
  },
  {
   "cell_type": "code",
   "execution_count": null,
   "id": "ac5bfe35-5820-481c-884c-cb68b180fcb0",
   "metadata": {},
   "outputs": [],
   "source": []
  }
 ],
 "metadata": {
  "kernelspec": {
   "display_name": "Python 3 (ipykernel)",
   "language": "python",
   "name": "python3"
  },
  "language_info": {
   "codemirror_mode": {
    "name": "ipython",
    "version": 3
   },
   "file_extension": ".py",
   "mimetype": "text/x-python",
   "name": "python",
   "nbconvert_exporter": "python",
   "pygments_lexer": "ipython3",
   "version": "3.12.5"
  }
 },
 "nbformat": 4,
 "nbformat_minor": 5
}
