{
 "cells": [
  {
   "cell_type": "markdown",
   "id": "41dc6811-3868-4ef3-a0d9-7fe5291cde23",
   "metadata": {},
   "source": [
    "# Modules Overview"
   ]
  },
  {
   "cell_type": "markdown",
   "id": "03f012e2-6093-487f-bfa7-f89e381f1045",
   "metadata": {},
   "source": [
    "A group of functions, variables, and classes is saved to a file, which is nothing but a module.\n",
    "\n",
    "Every Python file (**.py**) acts as a module."
   ]
  },
  {
   "cell_type": "markdown",
   "id": "f27b052e-177f-4581-9849-78ebc583d204",
   "metadata": {},
   "source": [
    "**durgamath.py**"
   ]
  },
  {
   "cell_type": "code",
   "execution_count": 1,
   "id": "e86fcae9-ef89-45b6-a1b6-103d67379a6d",
   "metadata": {},
   "outputs": [],
   "source": [
    "x = 888\n",
    "\n",
    "def add(a,b):\n",
    "  print(\"The Sum:\",a+b)\n",
    "\n",
    "def product(a,b):\n",
    "  print(\"The Product:\",a*b)\n",
    "\n",
    "class A:\n",
    "  pass"
   ]
  },
  {
   "cell_type": "markdown",
   "id": "580dbd9e-dd67-4227-ae26-1b787bccb512",
   "metadata": {},
   "source": [
    "The `durgamath.py` module contains one variable and 2 functions.\n",
    "\n",
    "If we want to use members of the module in our program then we should import that module.\n",
    "* `import module name`\n",
    "\n",
    "We can access members by using the module name.\n",
    "* `module name.variable`\n",
    "* `modulename.function( )`"
   ]
  },
  {
   "cell_type": "markdown",
   "id": "37fff344-a65e-4366-b39a-36ef29dacbf4",
   "metadata": {},
   "source": [
    "**test.py**\n",
    "```\n",
    "import durgamath\n",
    "\n",
    "print(durgamath.x)          # 888\n",
    "durgamath.add(10,20)        # The Sum: 30\n",
    "durgamath.product(10,20)    # The Product: 200\n",
    "```"
   ]
  },
  {
   "cell_type": "markdown",
   "id": "9085197c-7e49-4e6d-bd39-2025ba68236c",
   "metadata": {},
   "source": [
    "> ***NOTE:** Whenever we are using a module in our program, for that module compiled file (`.pyc`) will be generated and stored in the hard disk permanently under `__pycache__` folder.*"
   ]
  },
  {
   "cell_type": "markdown",
   "id": "7b39daaf-0679-448d-b09d-df0c99c7dc4e",
   "metadata": {},
   "source": [
    "# Advantages of Module"
   ]
  },
  {
   "cell_type": "markdown",
   "id": "f03670e0-e4c0-4758-8e1d-a386fa683e5e",
   "metadata": {},
   "source": [
    "* Code Readability.\n",
    "* The length of the code is reduced.\n",
    "* Readability improves.\n",
    "* Maintainability improves."
   ]
  },
  {
   "cell_type": "markdown",
   "id": "79f2bb86-1050-449f-9ab5-ed28366bd232",
   "metadata": {},
   "source": [
    "# Module Aliasing"
   ]
  },
  {
   "cell_type": "markdown",
   "id": "fcfbcf3d-5bf3-4018-ad35-d709664827ea",
   "metadata": {},
   "source": [
    "Renaming a module at the time of import is called **Module Aliasing**.\n",
    "\n",
    "**Example** → `import durgamath as m`\n",
    "* Here, `durgamath` is the original module name and `m` is the alias name.\n",
    "* We can access members by using the alias name `m`.\n",
    "\n",
    "> * Once we defined as alias name,we should use alias name only and we cannot use original name.\n",
    "> * If we’re using original name after aliasing, we’ll get `NameError`.\n",
    "\n",
    "**Example:**\n",
    "```\n",
    "import durgamath as m\n",
    "\n",
    "print(m.x)      # 888\n",
    "m.add(10,20)    # The Sum: 30\n",
    "\n",
    "durgamath.product(10,20)    # NameError: name 'durgamath' is not defined.\n",
    "```"
   ]
  },
  {
   "cell_type": "markdown",
   "id": "7624db3b-8d41-4c36-a470-a848c0ecd2c3",
   "metadata": {},
   "source": [
    "# from ... import"
   ]
  },
  {
   "cell_type": "markdown",
   "id": "da815245-107a-4657-b1cd-e20b56ac3b1d",
   "metadata": {},
   "source": [
    "We can **import specific members** of the module by using `from ... import`.\n",
    "\n",
    "The main advantage of this is we can access members directly **without using the module name**."
   ]
  },
  {
   "cell_type": "markdown",
   "id": "5610bfdb-ff3e-4449-9add-1eebffb5657b",
   "metadata": {},
   "source": [
    "```\n",
    "from durgamath import x, add\n",
    "\n",
    "print(x)\n",
    "add(10,20)\n",
    "\n",
    "product(10,20)            # NameError: name 'product' is not defined\n",
    "\n",
    "```\n",
    "\n",
    "> We can import all members of a module as follows → **`from durgamath import *`**."
   ]
  },
  {
   "cell_type": "markdown",
   "id": "a06da31c-c064-437f-a629-eb8d31193e6b",
   "metadata": {},
   "source": [
    "```\n",
    "from durgamath import *\n",
    "\n",
    "print(x)        # 888\n",
    "add(10,20)      # The Sum: 30\n",
    "product(10,20)  # The Product: 200\n",
    "```"
   ]
  },
  {
   "cell_type": "markdown",
   "id": "633548e1-fda9-466d-8241-b6307f83df84",
   "metadata": {},
   "source": [
    "# Member Aliasing"
   ]
  },
  {
   "cell_type": "markdown",
   "id": "bcded1f6-980c-4a56-83f1-7d13d11a6b24",
   "metadata": {},
   "source": [
    "```\n",
    "from durgamath import x as y, add as sum\n",
    "\n",
    "print(y)    # 888\n",
    "sum(10,20)  # The Sum: 30\n",
    "```"
   ]
  },
  {
   "cell_type": "markdown",
   "id": "8a6ed256-d092-4cdc-8c50-073bb0debd87",
   "metadata": {},
   "source": [
    "Once we defined as alias name,we should use alias name only and we should not use original name.\n",
    "\n",
    "If we try to use the original name after aliasing, we’ll get **NameError**."
   ]
  },
  {
   "cell_type": "markdown",
   "id": "419a7214-6c02-4476-967c-451e6d03eb7f",
   "metadata": {},
   "source": [
    "```\n",
    "from durgamath import x as y\n",
    "print(x)    # NameError: name 'x' is not defined\n",
    "```"
   ]
  },
  {
   "cell_type": "markdown",
   "id": "3bbb3b95-f073-4ed6-bc85-59c7d26b82b1",
   "metadata": {},
   "source": [
    "# Various possibilities for import"
   ]
  },
  {
   "cell_type": "markdown",
   "id": "59067e28-13bc-4935-a053-24aafaef5755",
   "metadata": {},
   "source": [
    "```\n",
    "\n",
    "import modulename\n",
    "\n",
    "import module1, module2, module3\n",
    "\n",
    "import module1 as m\n",
    "\n",
    "import module1 as m1, module2 as m2, module3\n",
    "\n",
    "from module import member\n",
    "\n",
    "from module import member1, member2, memebr3\n",
    "\n",
    "from module import memeber1 as x\n",
    "\n",
    "from module import *\n",
    "\n",
    "```"
   ]
  },
  {
   "cell_type": "markdown",
   "id": "b809f522-81f1-4985-bd81-ab60d6417abb",
   "metadata": {},
   "source": [
    "# Module Naming Conflicts"
   ]
  },
  {
   "cell_type": "markdown",
   "id": "4aa59c03-ba35-4a50-b336-97c91a4ea9b9",
   "metadata": {},
   "source": [
    "**Which member will be used if two or more modules contain members with the same name?**\n",
    "\n",
    "**ANS:** In case of naming conflict, the most recent version will be invoked."
   ]
  },
  {
   "cell_type": "markdown",
   "id": "508b8cd5-76e7-417c-9463-1dc707f52b36",
   "metadata": {},
   "source": [
    "**module1.py**\n",
    "```\n",
    "def add( a, b):\n",
    "  print(\"Module 1 add( ) function\")\n",
    "  print(\"The Sum:\", (a+b))\n",
    "```"
   ]
  },
  {
   "cell_type": "markdown",
   "id": "93edfde5-9986-4187-90fd-b07d2961c6cf",
   "metadata": {},
   "source": [
    "**module2.py**\n",
    "```\n",
    "def add( a, b):\n",
    "  print(\"Module 2 add( ) function\")\n",
    "  print(\"The Sum:\", (a+b))\n",
    "```"
   ]
  },
  {
   "cell_type": "markdown",
   "id": "ab821f59-dd59-40e7-9ee1-5f842f3364cd",
   "metadata": {},
   "source": [
    "**test.py**\n",
    "```\n",
    "from module1 import *\n",
    "from module2 import *\n",
    "add(10,20)   # Module 2 add( ) function will be called, as it is the most recent version.\n",
    "```\n",
    "\n",
    "**Output**\n",
    "\n",
    "Module 2 add( ) function\n",
    "\n",
    "The Sum: 30"
   ]
  },
  {
   "cell_type": "markdown",
   "id": "4ddbe4b3-1eb1-491d-94f7-c61fe27b94ed",
   "metadata": {},
   "source": [
    "If you want to use module-specific functions, there are various ways:\n",
    "* `module1.add(10,20)`\n",
    "* `module2.add(10,20)`\n",
    "* `from module1 import add as a1`\n",
    "* `from module2 import add as a2`"
   ]
  },
  {
   "cell_type": "markdown",
   "id": "ae10b40d-dcf0-4419-88e4-421cf2d93b89",
   "metadata": {},
   "source": [
    "# Module Reloading"
   ]
  },
  {
   "attachments": {
    "c2ae7c82-5d63-46e5-888e-6c5ac29db465.png": {
     "image/png": "[encoded data removed]"
    }
   },
   "cell_type": "markdown",
   "id": "80598528-e2bc-4e80-a0db-096d78781463",
   "metadata": {},
   "source": [
    "By default, the module will be loaded only once even though we are importing multiple multiple times.\n",
    "\n",
    "**module1.py**\n",
    "```\n",
    "print(\"This is from module1\")\n",
    "```\n",
    "\n",
    "**test.py**\n",
    "```\n",
    "import module1\n",
    "import module1\n",
    "import module1\n",
    "import module1\n",
    "\n",
    "print(\"This is test module\")\n",
    "```\n",
    "\n",
    "![image.png](attachment:c2ae7c82-5d63-46e5-888e-6c5ac29db465.png)\n",
    "\n",
    "* In the above program test module will be loaded only once even though we are importing multiple times.\n",
    "* The problem with this approach is after loading a module if it is updated outside then the updated version of module1 is not available to our program.\n",
    "* We can solve this problem by reloading the module explicitly based on our requirements.\n",
    "* We can reload by using `reload( )` function of the imp module.\n",
    "    * `import imp`\n",
    "    * `imp.reload(module1)`\n",
    "\n",
    "\n",
    "In the above program `module 1` will be loaded `4` times in that `1` time by default and `3` times explicitly.\n",
    "\n",
    "In this case, the output is:\n",
    "* `This is from module1`\n",
    "* `This is from module1`\n",
    "* `This is from module1` \n",
    "* `This is from module1` \n",
    "* `This is a test module` \n",
    "\n",
    "**The main advantage of explicit module reloading is we can ensure that an updated version is always available to our program.**"
   ]
  },
  {
   "cell_type": "code",
   "execution_count": null,
   "id": "bec4a09d-a9df-4935-a233-a93d1a45b2b6",
   "metadata": {},
   "outputs": [],
   "source": []
  }
 ],
 "metadata": {
  "kernelspec": {
   "display_name": "Python 3 (ipykernel)",
   "language": "python",
   "name": "python3"
  },
  "language_info": {
   "codemirror_mode": {
    "name": "ipython",
    "version": 3
   },
   "file_extension": ".py",
   "mimetype": "text/x-python",
   "name": "python",
   "nbconvert_exporter": "python",
   "pygments_lexer": "ipython3",
   "version": "3.12.5"
  }
 },
 "nbformat": 4,
 "nbformat_minor": 5
}
