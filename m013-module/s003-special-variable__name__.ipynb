{
 "cells": [
  {
   "cell_type": "markdown",
   "id": "6178229c-ab06-4907-9361-57b4c89eb709",
   "metadata": {},
   "source": [
    "# Special Variable `__name__`"
   ]
  },
  {
   "cell_type": "markdown",
   "id": "c5911285-60dc-44cb-8bcb-f28f44dee1fd",
   "metadata": {},
   "source": [
    "* For every Python program, a special variable **`__name__`** will be added internally.\n",
    "* This variable stores information regarding whether the program is executed as an individual program or as a module.\n",
    "* If the program is executed as an individual program then the value of this variable is **`__main__`**.\n",
    "* If the program is executed as a module from some other program then the value of this variable is the **name of the module** where it is defined.\n",
    "* Hence by using this **`__name__`** variable we can identify whether the program is executed directly or as a module.\n",
    "\n",
    "**module1.py**"
   ]
  },
  {
   "cell_type": "code",
   "execution_count": 2,
   "id": "b0fd72a2-f7a7-4e13-8249-53527ed20a79",
   "metadata": {},
   "outputs": [
    {
     "name": "stdout",
     "output_type": "stream",
     "text": [
      "The code executed as a program\n"
     ]
    }
   ],
   "source": [
    "def f1():\n",
    "  if __name__=='__main__':\n",
    "    print(\"The code executed as a program\")\n",
    "  else:\n",
    "      print(\"The code executed as a module from some other program\")\n",
    "\n",
    "f1()"
   ]
  },
  {
   "attachments": {
    "6a30823b-e478-41fa-896b-2293f1151b0f.png": {
     "image/png": "[encoded data removed]"
    }
   },
   "cell_type": "markdown",
   "id": "df443ca7-d36c-4096-b489-9ebed9a00475",
   "metadata": {},
   "source": [
    "**test.py**\n",
    "\n",
    "```\n",
    "import module1\n",
    "module1.f1()\n",
    "```\n",
    "\n",
    "![image.png](attachment:6a30823b-e478-41fa-896b-2293f1151b0f.png)"
   ]
  },
  {
   "cell_type": "code",
   "execution_count": null,
   "id": "9f86e122-70a4-416e-942a-fd32c0f73d17",
   "metadata": {},
   "outputs": [],
   "source": []
  }
 ],
 "metadata": {
  "kernelspec": {
   "display_name": "Python 3 (ipykernel)",
   "language": "python",
   "name": "python3"
  },
  "language_info": {
   "codemirror_mode": {
    "name": "ipython",
    "version": 3
   },
   "file_extension": ".py",
   "mimetype": "text/x-python",
   "name": "python",
   "nbconvert_exporter": "python",
   "pygments_lexer": "ipython3",
   "version": "3.12.5"
  }
 },
 "nbformat": 4,
 "nbformat_minor": 5
}
