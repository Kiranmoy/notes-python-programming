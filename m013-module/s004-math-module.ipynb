{
 "cells": [
  {
   "cell_type": "markdown",
   "id": "dc5ee41a-489f-4f47-abf9-d5ac9a938402",
   "metadata": {},
   "source": [
    "* Python provides inbuilt module math.\n",
    "* This module defines several functions which can be used for mathematical operations.\n",
    "* The main important functions are:\n",
    "* `sqrt(x)`\n",
    "* `ceil(x)`\n",
    "* `floor(x)`\n",
    "* `fabs(x)`\n",
    "* `log(x)`\n",
    "* `sin(x)`\n",
    "* `tan(x)`, etc."
   ]
  },
  {
   "cell_type": "code",
   "execution_count": 1,
   "id": "713efa50-8b51-4c82-9f78-fed2f1a0e286",
   "metadata": {},
   "outputs": [
    {
     "name": "stdout",
     "output_type": "stream",
     "text": [
      "['__doc__', '__loader__', '__name__', '__package__', '__spec__', 'acos', 'acosh', 'asin', 'asinh', 'atan', 'atan2', 'atanh', 'cbrt', 'ceil', 'comb', 'copysign', 'cos', 'cosh', 'degrees', 'dist', 'e', 'erf', 'erfc', 'exp', 'exp2', 'expm1', 'fabs', 'factorial', 'floor', 'fmod', 'frexp', 'fsum', 'gamma', 'gcd', 'hypot', 'inf', 'isclose', 'isfinite', 'isinf', 'isnan', 'isqrt', 'lcm', 'ldexp', 'lgamma', 'log', 'log10', 'log1p', 'log2', 'modf', 'nan', 'nextafter', 'perm', 'pi', 'pow', 'prod', 'radians', 'remainder', 'sin', 'sinh', 'sqrt', 'sumprod', 'tan', 'tanh', 'tau', 'trunc', 'ulp']\n"
     ]
    }
   ],
   "source": [
    "import math\n",
    "print(dir(math))"
   ]
  },
  {
   "cell_type": "code",
   "execution_count": 2,
   "id": "71ea3e6c-1e4e-47a6-9679-1caae7f68946",
   "metadata": {},
   "outputs": [
    {
     "name": "stdout",
     "output_type": "stream",
     "text": [
      "2.0\n",
      "11\n",
      "10\n",
      "10.6\n",
      "10.6\n"
     ]
    }
   ],
   "source": [
    "from math import *\n",
    "\n",
    "print(sqrt(4))        # 2.0\n",
    "print(ceil(10.1))     # 11\n",
    "print(floor(10.1))    # 10\n",
    "print(fabs(-10.6))    # 10.6\n",
    "print(fabs(10.6))     # 10.6"
   ]
  },
  {
   "cell_type": "markdown",
   "id": "97dbbe63-36d2-4906-b079-28d6ecad00f3",
   "metadata": {},
   "source": [
    "> ***NOTE:** We can find help for any module by using the `help( )` function.*"
   ]
  },
  {
   "cell_type": "code",
   "execution_count": null,
   "id": "50b5faae-ddff-47eb-85d5-09ccd1711a3e",
   "metadata": {},
   "outputs": [],
   "source": []
  }
 ],
 "metadata": {
  "kernelspec": {
   "display_name": "Python 3 (ipykernel)",
   "language": "python",
   "name": "python3"
  },
  "language_info": {
   "codemirror_mode": {
    "name": "ipython",
    "version": 3
   },
   "file_extension": ".py",
   "mimetype": "text/x-python",
   "name": "python",
   "nbconvert_exporter": "python",
   "pygments_lexer": "ipython3",
   "version": "3.12.5"
  }
 },
 "nbformat": 4,
 "nbformat_minor": 5
}
