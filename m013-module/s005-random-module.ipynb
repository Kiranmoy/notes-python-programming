{
 "cells": [
  {
   "cell_type": "markdown",
   "id": "e5f894e6-d438-4eea-bb02-011b8dc1cb9b",
   "metadata": {},
   "source": [
    "This module defines several functions to generate random numbers.\n",
    "\n",
    "We can use these functions while developing games, in cryptography and to generate random numbers on the fly for authentication."
   ]
  },
  {
   "cell_type": "markdown",
   "id": "e5b6f648-ec52-4892-9133-65f73d254a2c",
   "metadata": {},
   "source": [
    "# random( ) function"
   ]
  },
  {
   "cell_type": "markdown",
   "id": "1adacfbc-3c0c-4b48-a6d7-4645406802ce",
   "metadata": {},
   "source": [
    "This function always generates some float value between `0` and `1` ( **not inclusive**) →` 0 < x < 1`"
   ]
  },
  {
   "cell_type": "code",
   "execution_count": 1,
   "id": "6f4dbe56-76f6-4289-8787-0b98b6c36d31",
   "metadata": {},
   "outputs": [
    {
     "name": "stdout",
     "output_type": "stream",
     "text": [
      "0.6069866498426396\n",
      "0.2524220818785494\n",
      "0.3955034273114024\n",
      "0.5370515383499594\n",
      "0.3928904503868369\n",
      "0.5747757051867132\n",
      "0.764853043455311\n",
      "0.9072017747036901\n",
      "0.8693601899560085\n",
      "0.5711494374708136\n"
     ]
    }
   ],
   "source": [
    "from random import *\n",
    "for i in range(10):\n",
    "  print(random())"
   ]
  },
  {
   "cell_type": "markdown",
   "id": "de421c24-a5b4-49b8-940c-8813c2bfedcb",
   "metadata": {},
   "source": [
    "# uniform( ) function"
   ]
  },
  {
   "cell_type": "markdown",
   "id": "2acd8307-ebe6-49b4-b7df-26e4656d56a6",
   "metadata": {},
   "source": [
    "It returns random float values between `2` given numbers (**not inclusive**)."
   ]
  },
  {
   "cell_type": "code",
   "execution_count": 2,
   "id": "261ac1c6-1dbf-48e2-a42e-562024b1cb06",
   "metadata": {},
   "outputs": [
    {
     "name": "stdout",
     "output_type": "stream",
     "text": [
      "5.568651125612772\n",
      "7.320778478780436\n",
      "6.418171605945905\n",
      "1.1051682019714564\n",
      "4.380321694664966\n",
      "7.860478101821038\n",
      "1.2555836160569616\n",
      "1.9022337306405608\n",
      "9.134767875856697\n",
      "6.778069602734889\n"
     ]
    }
   ],
   "source": [
    "from random import *\n",
    "\n",
    "for i in range(10):\n",
    "  print(uniform(1,10))"
   ]
  },
  {
   "cell_type": "markdown",
   "id": "4ec3032a-3bb1-4a36-a605-cc3d2c2a6a3d",
   "metadata": {},
   "source": [
    "# randint( ) function"
   ]
  },
  {
   "cell_type": "markdown",
   "id": "be9282de-b116-4f3a-9915-23a2dff7186c",
   "metadata": {},
   "source": [
    "To generate a random integer between two given numbers (**inclusive**)."
   ]
  },
  {
   "cell_type": "code",
   "execution_count": 4,
   "id": "5c25b259-06a3-4d8a-8259-b1477d73567f",
   "metadata": {},
   "outputs": [
    {
     "name": "stdout",
     "output_type": "stream",
     "text": [
      "19\n",
      "43\n",
      "52\n",
      "24\n",
      "65\n",
      "69\n",
      "52\n",
      "28\n",
      "31\n",
      "50\n"
     ]
    }
   ],
   "source": [
    "from random import *\n",
    "\n",
    "for i in range(10):\n",
    "  print(randint(1,100))     # generate random int value between 1 and 100(inclusive)"
   ]
  },
  {
   "cell_type": "markdown",
   "id": "72e99890-ea72-49df-bdf3-6bff026ce8a5",
   "metadata": {},
   "source": [
    "* **`random( )`** → in between `0` and `1` (**not inclusive**)             → `0 < a < 1`\n",
    "* **`uniform(x, y)`** → in between `x` and `y` (**not inclusive**)         → `X < a < Y`\n",
    "* **`randint(x, y)`** → in between `x` and `y` (**inclusive**)             → `X <=  a <= Y`"
   ]
  },
  {
   "cell_type": "markdown",
   "id": "36f11738-ce1a-4c36-803c-4d0a1474030d",
   "metadata": {},
   "source": [
    "# randrange ( [start] , stop , [step] )"
   ]
  },
  {
   "cell_type": "markdown",
   "id": "ad58fc0f-18f3-4e7c-9d26-623b189f170c",
   "metadata": {},
   "source": [
    "* Returns a random number from range from **`start`** to (**`stop - 1`**)\n",
    "* **`start <= x < stop`**\n",
    "* **start** argument is optional and the default value is `0`\n",
    "* **step** argument is optional and the default value is `1`\n",
    "* **`randrange(10)`** →  generates a number from `0` to `9`\n",
    "* **`randrange(1,11)`** → generates a number from `1` to `10`\n",
    "* **`randrange(1,11,2)`** → generates a number from `1`,`3`,`5`,`7`,`9`"
   ]
  },
  {
   "cell_type": "code",
   "execution_count": 5,
   "id": "67d1136d-35aa-4bdd-bcbe-d6038b7c966a",
   "metadata": {},
   "outputs": [
    {
     "name": "stdout",
     "output_type": "stream",
     "text": [
      "4\n",
      "1\n",
      "0\n",
      "3\n",
      "6\n",
      "7\n",
      "9\n",
      "2\n",
      "9\n",
      "4\n"
     ]
    }
   ],
   "source": [
    "from random import *\n",
    "for i in range(10):\n",
    "  print(randrange(10))"
   ]
  },
  {
   "cell_type": "code",
   "execution_count": 6,
   "id": "19ceb98f-af56-4050-bb95-facb9f3988f8",
   "metadata": {},
   "outputs": [
    {
     "name": "stdout",
     "output_type": "stream",
     "text": [
      "8\n",
      "3\n",
      "2\n",
      "7\n",
      "10\n",
      "3\n",
      "10\n",
      "10\n",
      "7\n",
      "10\n"
     ]
    }
   ],
   "source": [
    "from random import *\n",
    "for i in range(10):\n",
    "  print(randrange(1,11))"
   ]
  },
  {
   "cell_type": "code",
   "execution_count": 7,
   "id": "08ef6336-8445-40fc-9739-821991e31a66",
   "metadata": {},
   "outputs": [
    {
     "name": "stdout",
     "output_type": "stream",
     "text": [
      "7\n",
      "3\n",
      "5\n",
      "3\n",
      "1\n",
      "1\n",
      "7\n",
      "7\n",
      "3\n",
      "3\n"
     ]
    }
   ],
   "source": [
    "from random import *\n",
    "for i in range(10):\n",
    "  print(randrange(1,11,2))"
   ]
  },
  {
   "cell_type": "markdown",
   "id": "33790cc5-bd9f-4a9e-932d-52d88515acb6",
   "metadata": {},
   "source": [
    "# choice( ) function"
   ]
  },
  {
   "cell_type": "markdown",
   "id": "5f2c98e0-1a59-4659-875e-f369616d1fbe",
   "metadata": {},
   "source": [
    "* It won’t return a random number.\n",
    "* It will return a random object from the given list or tuple.\n",
    "* **SYNTAX** → `choice(sequence)`\n",
    "* The `sequence` should be indexable."
   ]
  },
  {
   "cell_type": "code",
   "execution_count": 8,
   "id": "b855c391-ced2-4d50-982d-6086939079ce",
   "metadata": {},
   "outputs": [
    {
     "name": "stdout",
     "output_type": "stream",
     "text": [
      "Bunny\n",
      "Vinny\n",
      "Sunny\n",
      "Vinny\n",
      "Bunny\n",
      "Sunny\n",
      "pinny\n",
      "Chinny\n",
      "Bunny\n",
      "Chinny\n"
     ]
    }
   ],
   "source": [
    "from random import *\n",
    "list=[\"Sunny\",\"Bunny\",\"Chinny\",\"Vinny\",\"pinny\"]\n",
    "for i in range(10):\n",
    "  print(choice(list))"
   ]
  },
  {
   "cell_type": "markdown",
   "id": "0cd4ce43-001f-4dd2-a6a6-2db5f809dcae",
   "metadata": {},
   "source": [
    "> **`choice(sequence)`** → if the sequence is **not indexable**, we’ll get **`TypeError`**.*"
   ]
  },
  {
   "cell_type": "code",
   "execution_count": 9,
   "id": "a8a1a878-d49c-4c3d-b3c6-41fb637ad29e",
   "metadata": {},
   "outputs": [
    {
     "ename": "TypeError",
     "evalue": "'set' object is not subscriptable",
     "output_type": "error",
     "traceback": [
      "\u001b[1;31m---------------------------------------------------------------------------\u001b[0m",
      "\u001b[1;31mTypeError\u001b[0m                                 Traceback (most recent call last)",
      "Cell \u001b[1;32mIn[9], line 4\u001b[0m\n\u001b[0;32m      2\u001b[0m \u001b[38;5;28mlist\u001b[39m\u001b[38;5;241m=\u001b[39m{\u001b[38;5;124m\"\u001b[39m\u001b[38;5;124mSunny\u001b[39m\u001b[38;5;124m\"\u001b[39m,\u001b[38;5;124m\"\u001b[39m\u001b[38;5;124mBunny\u001b[39m\u001b[38;5;124m\"\u001b[39m,\u001b[38;5;124m\"\u001b[39m\u001b[38;5;124mChinny\u001b[39m\u001b[38;5;124m\"\u001b[39m,\u001b[38;5;124m\"\u001b[39m\u001b[38;5;124mVinny\u001b[39m\u001b[38;5;124m\"\u001b[39m,\u001b[38;5;124m\"\u001b[39m\u001b[38;5;124mpinny\u001b[39m\u001b[38;5;124m\"\u001b[39m}\n\u001b[0;32m      3\u001b[0m \u001b[38;5;28;01mfor\u001b[39;00m i \u001b[38;5;129;01min\u001b[39;00m \u001b[38;5;28mrange\u001b[39m(\u001b[38;5;241m10\u001b[39m):\n\u001b[1;32m----> 4\u001b[0m   \u001b[38;5;28mprint\u001b[39m(\u001b[43mchoice\u001b[49m\u001b[43m(\u001b[49m\u001b[38;5;28;43mlist\u001b[39;49m\u001b[43m)\u001b[49m) \u001b[38;5;66;03m# TypeError: 'set' object doesn't support indexing\u001b[39;00m\n",
      "File \u001b[1;32m~\\AppData\\Roaming\\jupyterlab-desktop\\jlab_server\\Lib\\random.py:348\u001b[0m, in \u001b[0;36mRandom.choice\u001b[1;34m(self, seq)\u001b[0m\n\u001b[0;32m    346\u001b[0m \u001b[38;5;28;01mif\u001b[39;00m \u001b[38;5;129;01mnot\u001b[39;00m \u001b[38;5;28mlen\u001b[39m(seq):\n\u001b[0;32m    347\u001b[0m     \u001b[38;5;28;01mraise\u001b[39;00m \u001b[38;5;167;01mIndexError\u001b[39;00m(\u001b[38;5;124m'\u001b[39m\u001b[38;5;124mCannot choose from an empty sequence\u001b[39m\u001b[38;5;124m'\u001b[39m)\n\u001b[1;32m--> 348\u001b[0m \u001b[38;5;28;01mreturn\u001b[39;00m \u001b[43mseq\u001b[49m\u001b[43m[\u001b[49m\u001b[38;5;28;43mself\u001b[39;49m\u001b[38;5;241;43m.\u001b[39;49m\u001b[43m_randbelow\u001b[49m\u001b[43m(\u001b[49m\u001b[38;5;28;43mlen\u001b[39;49m\u001b[43m(\u001b[49m\u001b[43mseq\u001b[49m\u001b[43m)\u001b[49m\u001b[43m)\u001b[49m\u001b[43m]\u001b[49m\n",
      "\u001b[1;31mTypeError\u001b[0m: 'set' object is not subscriptable"
     ]
    }
   ],
   "source": [
    "from random import *\n",
    "list={\"Sunny\",\"Bunny\",\"Chinny\",\"Vinny\",\"pinny\"}\n",
    "for i in range(10):\n",
    "  print(choice(list)) # TypeError: 'set' object doesn't support indexing"
   ]
  },
  {
   "cell_type": "code",
   "execution_count": 10,
   "id": "4485dd73-c5f8-4a83-83d2-bd4fcd14179a",
   "metadata": {},
   "outputs": [
    {
     "name": "stdout",
     "output_type": "stream",
     "text": [
      "L\n"
     ]
    }
   ],
   "source": [
    "from random import *\n",
    "alphabets = 'ABCDEFGHIJKLMNOPQRSTUVWXYZ'\n",
    "print(choice(alphabets)) # K"
   ]
  },
  {
   "cell_type": "code",
   "execution_count": null,
   "id": "5526c216-21fe-4fdc-bba3-df31aa95061c",
   "metadata": {},
   "outputs": [],
   "source": []
  }
 ],
 "metadata": {
  "kernelspec": {
   "display_name": "Python 3 (ipykernel)",
   "language": "python",
   "name": "python3"
  },
  "language_info": {
   "codemirror_mode": {
    "name": "ipython",
    "version": 3
   },
   "file_extension": ".py",
   "mimetype": "text/x-python",
   "name": "python",
   "nbconvert_exporter": "python",
   "pygments_lexer": "ipython3",
   "version": "3.12.5"
  }
 },
 "nbformat": 4,
 "nbformat_minor": 5
}
