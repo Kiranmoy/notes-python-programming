{
 "cells": [
  {
   "cell_type": "markdown",
   "id": "10c27b10-08f2-4b81-a9ac-f72794e46605",
   "metadata": {},
   "source": [
    "In any programming language, there are 2 types of errors that are possible\n",
    "* **Syntax Errors**\n",
    "* **Runtime Errors**"
   ]
  },
  {
   "cell_type": "markdown",
   "id": "6a82367f-2790-457d-84bd-daeb1226b34b",
   "metadata": {},
   "source": [
    "# Syntax Errors"
   ]
  },
  {
   "cell_type": "markdown",
   "id": "43b11166-0c0e-4020-85a0-8a89e5e9dd71",
   "metadata": {},
   "source": [
    "The errors which occur because of invalid syntax are called **syntax errors**."
   ]
  },
  {
   "cell_type": "code",
   "execution_count": 1,
   "id": "32984c89-677a-42d3-ac2f-97363ddb9d44",
   "metadata": {},
   "outputs": [
    {
     "ename": "SyntaxError",
     "evalue": "expected ':' (960013340.py, line 2)",
     "output_type": "error",
     "traceback": [
      "\u001b[1;36m  Cell \u001b[1;32mIn[1], line 2\u001b[1;36m\u001b[0m\n\u001b[1;33m    if x == 10          # SyntaxError: invalid syntax\u001b[0m\n\u001b[1;37m                        ^\u001b[0m\n\u001b[1;31mSyntaxError\u001b[0m\u001b[1;31m:\u001b[0m expected ':'\n"
     ]
    }
   ],
   "source": [
    "x = 10\n",
    "if x == 10          # SyntaxError: invalid syntax\n",
    "  print(\"Hello\")"
   ]
  },
  {
   "cell_type": "code",
   "execution_count": 2,
   "id": "b29f11e9-a81c-4a70-a7e1-c7c39e4f38a2",
   "metadata": {},
   "outputs": [
    {
     "ename": "SyntaxError",
     "evalue": "Missing parentheses in call to 'print'. Did you mean print(...)? (3289399386.py, line 1)",
     "output_type": "error",
     "traceback": [
      "\u001b[1;36m  Cell \u001b[1;32mIn[2], line 1\u001b[1;36m\u001b[0m\n\u001b[1;33m    print \"Hello\"     # SyntaxError: Missing parentheses in call to 'print\u001b[0m\n\u001b[1;37m    ^\u001b[0m\n\u001b[1;31mSyntaxError\u001b[0m\u001b[1;31m:\u001b[0m Missing parentheses in call to 'print'. Did you mean print(...)?\n"
     ]
    }
   ],
   "source": [
    "print \"Hello\"     # SyntaxError: Missing parentheses in call to 'print"
   ]
  },
  {
   "cell_type": "markdown",
   "id": "b0df771a-073c-4261-9537-b5865b8fe70b",
   "metadata": {},
   "source": [
    "> **Note:**\n",
    "> * *The programmer is responsible to correct these syntax errors.*\n",
    "> * *Once all syntax errors are corrected then only program execution will be started.*"
   ]
  },
  {
   "cell_type": "markdown",
   "id": "431bf79f-c55e-41ef-a795-c8c96b29e80e",
   "metadata": {},
   "source": [
    "# Runtime Errors"
   ]
  },
  {
   "cell_type": "markdown",
   "id": "3b59727d-f8a7-4258-ae53-ef20af284710",
   "metadata": {},
   "source": [
    "Also known as **exceptions**.\n",
    "\n",
    "While executing the program if something goes wrong because of end-user input or programming logic or memory problems etc then we will get **Runtime Errors**."
   ]
  },
  {
   "cell_type": "code",
   "execution_count": 4,
   "id": "988302ee-a53e-4271-81b7-184a0a428f3f",
   "metadata": {},
   "outputs": [
    {
     "ename": "ZeroDivisionError",
     "evalue": "division by zero",
     "output_type": "error",
     "traceback": [
      "\u001b[1;31m---------------------------------------------------------------------------\u001b[0m",
      "\u001b[1;31mZeroDivisionError\u001b[0m                         Traceback (most recent call last)",
      "Cell \u001b[1;32mIn[4], line 1\u001b[0m\n\u001b[1;32m----> 1\u001b[0m \u001b[38;5;28mprint\u001b[39m(\u001b[38;5;241;43m10\u001b[39;49m\u001b[38;5;241;43m/\u001b[39;49m\u001b[38;5;241;43m0\u001b[39;49m)         \u001b[38;5;66;03m# ZeroDivisionError: division by zero\u001b[39;00m\n",
      "\u001b[1;31mZeroDivisionError\u001b[0m: division by zero"
     ]
    }
   ],
   "source": [
    "print(10/0)         # ZeroDivisionError: division by zero"
   ]
  },
  {
   "cell_type": "code",
   "execution_count": 5,
   "id": "4fb0bfe0-4c0d-4e7b-9a1d-9ba2e947d7f1",
   "metadata": {},
   "outputs": [
    {
     "ename": "TypeError",
     "evalue": "unsupported operand type(s) for /: 'int' and 'str'",
     "output_type": "error",
     "traceback": [
      "\u001b[1;31m---------------------------------------------------------------------------\u001b[0m",
      "\u001b[1;31mTypeError\u001b[0m                                 Traceback (most recent call last)",
      "Cell \u001b[1;32mIn[5], line 1\u001b[0m\n\u001b[1;32m----> 1\u001b[0m \u001b[38;5;28mprint\u001b[39m(\u001b[38;5;241;43m10\u001b[39;49m\u001b[38;5;241;43m/\u001b[39;49m\u001b[38;5;124;43m\"\u001b[39;49m\u001b[38;5;124;43mten\u001b[39;49m\u001b[38;5;124;43m\"\u001b[39;49m)     \u001b[38;5;66;03m# TypeError: unsupported operand type(s) for /: 'int' and 'str'\u001b[39;00m\n",
      "\u001b[1;31mTypeError\u001b[0m: unsupported operand type(s) for /: 'int' and 'str'"
     ]
    }
   ],
   "source": [
    "print(10/\"ten\")     # TypeError: unsupported operand type(s) for /: 'int' and 'str'"
   ]
  },
  {
   "cell_type": "code",
   "execution_count": 7,
   "id": "83f3103f-5889-401b-98fb-5f41b184c9e0",
   "metadata": {},
   "outputs": [
    {
     "ename": "ValueError",
     "evalue": "invalid literal for int() with base 10: 'ten'",
     "output_type": "error",
     "traceback": [
      "\u001b[1;31m---------------------------------------------------------------------------\u001b[0m",
      "\u001b[1;31mValueError\u001b[0m                                Traceback (most recent call last)",
      "Cell \u001b[1;32mIn[7], line 2\u001b[0m\n\u001b[0;32m      1\u001b[0m x \u001b[38;5;241m=\u001b[39m \u001b[38;5;124m\"\u001b[39m\u001b[38;5;124mten\u001b[39m\u001b[38;5;124m\"\u001b[39m\n\u001b[1;32m----> 2\u001b[0m \u001b[38;5;28mprint\u001b[39m(\u001b[38;5;28;43mint\u001b[39;49m\u001b[43m(\u001b[49m\u001b[43mx\u001b[49m\u001b[43m)\u001b[49m)      \u001b[38;5;66;03m# ValueError: invalid literal for int() with base 10: 'ten'\u001b[39;00m\n",
      "\u001b[1;31mValueError\u001b[0m: invalid literal for int() with base 10: 'ten'"
     ]
    }
   ],
   "source": [
    "x = \"ten\"\n",
    "print(int(x))      # ValueError: invalid literal for int() with base 10: 'ten'"
   ]
  },
  {
   "cell_type": "markdown",
   "id": "e37188d1-7602-4136-86dd-15a6cefdd83a",
   "metadata": {},
   "source": [
    "> ***Note:** Exception Handling concept applicable for Runtime Errors but **not for syntax errors**.* "
   ]
  },
  {
   "cell_type": "markdown",
   "id": "792e585f-8406-44db-a610-f3d7ba599585",
   "metadata": {},
   "source": [
    "# Exception"
   ]
  },
  {
   "cell_type": "markdown",
   "id": "69526fba-d2bc-4ac8-866c-70306b8e93b1",
   "metadata": {},
   "source": [
    "An unwanted and unexpected event during runtime that disturbs the normal flow of the program is called an **Exception**.\n",
    "\n",
    "**Example:**\n",
    "* `ZeroDivisionError`\n",
    "* `TypeError`\n",
    "* `ValueError`\n",
    "* `FileNotFoundError`\n",
    "* `EOFError`\n",
    "* `SleepingError`\n",
    "* `TyrePuncturedError`\n",
    "\n",
    "\n",
    "It is highly recommended to handle exceptions. \n",
    "\n",
    "The main objective of exception handling is **graceful termination of the program** (i.e we should not block our resources and we should not miss anything)\n",
    "\n",
    "Exception handling does not mean repairing exceptions.\n",
    "\n",
    "We have to define an alternative way to continue the rest of the program normally.\n",
    "\n",
    "For example: **our programming requirement is reading data from a remote file located in London.** \n",
    "* At runtime, if the London file is not available then the program should not be terminated abnormally.\n",
    "* We have to provide the local files to continue the rest of the program normally. \n",
    "* This way of defining alternatives is nothing but exception handling."
   ]
  },
  {
   "cell_type": "code",
   "execution_count": 9,
   "id": "477451ea-c63b-4131-ab73-6e7bd215b43d",
   "metadata": {},
   "outputs": [],
   "source": [
    "try:\n",
    "    # Read Data from a Remote File located in London.\n",
    "    pass\n",
    "    \n",
    "except FileNotFoundError:\n",
    "    # use a local file and continue the rest of the program normally\n",
    "    pass"
   ]
  },
  {
   "cell_type": "markdown",
   "id": "1b7e4515-16b9-460f-8eb1-f22f67d1f00b",
   "metadata": {},
   "source": [
    "* **Q.** What is an Exception?\n",
    "* **Q.** What is the purpose of Exception Handling?\n",
    "* **Q.** What is the meaning of Exception Handling?"
   ]
  },
  {
   "cell_type": "markdown",
   "id": "33db3c85-5294-4e53-bf92-dcc0f1b580ca",
   "metadata": {},
   "source": [
    "# Default Exception Handing"
   ]
  },
  {
   "cell_type": "markdown",
   "id": "df0b8978-b92e-4c4a-829d-18b7b5f297b6",
   "metadata": {},
   "source": [
    "* very exception in Python is an object. \n",
    "* For every exception type, the corresponding classes are available.\n",
    "* Whenever an exception occurs PVM will create the corresponding exception object and will check for handling code. \n",
    "* If handling code is available then it will be executed and the rest of the program will be executed normally.\n",
    "* If handling code is not available then the Python interpreter terminates the program abnormally and prints corresponding exception information to the console. The rest of the program won't be executed.\n",
    "* To prevent this abnormal termination, we should handle exceptions explicitly by using the **`try-except`** block."
   ]
  },
  {
   "cell_type": "code",
   "execution_count": 10,
   "id": "f5f8fa49-e7e2-4e0c-a451-8e9d5d6b3e34",
   "metadata": {},
   "outputs": [
    {
     "name": "stdout",
     "output_type": "stream",
     "text": [
      "Hello\n"
     ]
    },
    {
     "ename": "ZeroDivisionError",
     "evalue": "division by zero",
     "output_type": "error",
     "traceback": [
      "\u001b[1;31m---------------------------------------------------------------------------\u001b[0m",
      "\u001b[1;31mZeroDivisionError\u001b[0m                         Traceback (most recent call last)",
      "Cell \u001b[1;32mIn[10], line 2\u001b[0m\n\u001b[0;32m      1\u001b[0m \u001b[38;5;28mprint\u001b[39m(\u001b[38;5;124m\"\u001b[39m\u001b[38;5;124mHello\u001b[39m\u001b[38;5;124m\"\u001b[39m)\n\u001b[1;32m----> 2\u001b[0m \u001b[38;5;28mprint\u001b[39m(\u001b[38;5;241;43m10\u001b[39;49m\u001b[38;5;241;43m/\u001b[39;49m\u001b[38;5;241;43m0\u001b[39;49m)\n\u001b[0;32m      3\u001b[0m \u001b[38;5;28mprint\u001b[39m(\u001b[38;5;124m\"\u001b[39m\u001b[38;5;124mHi\u001b[39m\u001b[38;5;124m\"\u001b[39m)\n",
      "\u001b[1;31mZeroDivisionError\u001b[0m: division by zero"
     ]
    }
   ],
   "source": [
    "print(\"Hello\")\n",
    "print(10/0)\n",
    "print(\"Hi\")"
   ]
  },
  {
   "cell_type": "markdown",
   "id": "6e8bfb69-8784-4e86-8c32-2b308aca1b85",
   "metadata": {},
   "source": [
    "# Exception Hierarchy"
   ]
  },
  {
   "attachments": {
    "519cbdf4-69f7-49bb-8091-afc9a2ef6251.png": {
     "image/png": "[encoded data removed]"
    }
   },
   "cell_type": "markdown",
   "id": "232e6cf3-5d3f-4567-bd56-ba36fdda7348",
   "metadata": {},
   "source": [
    "* Every Exception in Python is a class.\n",
    "* All exception classes are child classes of **`BaseException`**.\n",
    "* That is, every exception class extends **`BaseException`** either directly or indirectly. \n",
    "* Hence **`BaseException`** acts as the root for Python Exception Hierarchy.\n",
    "* Most of the time as programmers, we have to concentrate on Exceptions and child classes.\n",
    "\n",
    "![image.png](attachment:519cbdf4-69f7-49bb-8091-afc9a2ef6251.png)"
   ]
  },
  {
   "cell_type": "code",
   "execution_count": null,
   "id": "0ddbf9b6-f73b-41fb-80bd-f176098dd80d",
   "metadata": {},
   "outputs": [],
   "source": []
  }
 ],
 "metadata": {
  "kernelspec": {
   "display_name": "Python 3 (ipykernel)",
   "language": "python",
   "name": "python3"
  },
  "language_info": {
   "codemirror_mode": {
    "name": "ipython",
    "version": 3
   },
   "file_extension": ".py",
   "mimetype": "text/x-python",
   "name": "python",
   "nbconvert_exporter": "python",
   "pygments_lexer": "ipython3",
   "version": "3.12.5"
  }
 },
 "nbformat": 4,
 "nbformat_minor": 5
}
