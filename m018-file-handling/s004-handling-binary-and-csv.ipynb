{
 "cells": [
  {
   "cell_type": "markdown",
   "id": "4987c3f6-b13d-426c-854a-2afdc78100c4",
   "metadata": {},
   "source": [
    "It is a very common requirement to read or write binary data like images, video files, audio files, etc."
   ]
  },
  {
   "cell_type": "markdown",
   "id": "c1a6a965-148b-4ada-8bc9-1a1f17ee69a7",
   "metadata": {},
   "source": [
    "# Handling binary file"
   ]
  },
  {
   "cell_type": "markdown",
   "id": "4cd2323c-f5ae-4b72-84a7-f48465799574",
   "metadata": {},
   "source": [
    "**Program to read the image file and write to a new image file?**\n",
    "```\n",
    "f1=open(\"rossum.jpg\",\"rb\")\n",
    "f2=open(\"newpic.jpg\",\"wb\")\n",
    "bytes=f1.read()\n",
    "f2.write(bytes)\n",
    "print(\"New Image is available with the name: newpic.jpg\")\n",
    "```"
   ]
  },
  {
   "cell_type": "markdown",
   "id": "84c2065c-818f-411a-8e7e-f2fd55701616",
   "metadata": {},
   "source": [
    "# Writing data to CSV file"
   ]
  },
  {
   "cell_type": "markdown",
   "id": "a99317b2-27e3-44cb-ba18-52e9c9f82d31",
   "metadata": {},
   "source": [
    "* **CSV** → comma-separated values\n",
    "* As part of programming, it is a very common requirement to write and read data w.r.t **CSV**files. \n",
    "* Python provides `csv` module to handle **CSV** files\n",
    "\n",
    "```\n",
    "import csv\n",
    "\n",
    "with open(\"emp.csv\",\"w\",newline='') as f:\n",
    "  w=csv.writer(f) # returns csv writer object\n",
    "  w.writerow([\"ENO\",\"ENAME\",\"ESAL\",\"EADDR\"])\n",
    "  n=int(input(\"Enter Number of Employees:\"))\n",
    "  for i in range(n):\n",
    "    eno=input(\"Enter Employee No:\")\n",
    "    ename=input(\"Enter Employee Name:\")\n",
    "    esal=input(\"Enter Employee Salary:\")\n",
    "    eaddr=input(\"Enter Employee Address:\")\n",
    "    w.writerow([eno,ename,esal,eaddr])\n",
    "    \n",
    "print(\"Total Employees data written to csv file successfully\")\n",
    "```\n",
    "\n",
    "> ***NOTE:** Observe the difference between the newline attribute and without*\n",
    "\n",
    "```\n",
    "# With newline attribute\n",
    "with open(\"emp.csv\",\"w\",newline='') as f:\n",
    "\n",
    "# Without newline attribute\n",
    "with open(\"emp.csv\",\"w\") as f:\n",
    "```\n",
    "\n",
    "> **NOTE:**\n",
    "> * If we are not using the newline attribute then in the CSV file blank lines will be included between data. \n",
    "> * To prevent these blank lines, a newline attribute is required in **Python-3**, but in **Python-2** just we can specify the mode as **`'wb'`** and we are not required to use a newline attribute. "
   ]
  },
  {
   "cell_type": "markdown",
   "id": "a8d0e49a-a727-4db3-bf97-09ddb683c611",
   "metadata": {},
   "source": [
    "# Reading data from CSV file"
   ]
  },
  {
   "attachments": {
    "681d9eb0-6aa3-4e58-8d66-f2772c76d906.png": {
     "image/png": "[encoded data removed]"
    }
   },
   "cell_type": "markdown",
   "id": "706b004b-1ea4-4717-949d-782437143353",
   "metadata": {},
   "source": [
    "```\n",
    "import csv\n",
    "\n",
    "f=open(\"emp.csv\",'r')\n",
    "r=csv.reader(f) #returns csv reader object\n",
    "data=list(r)\n",
    "#print(data)\n",
    "\n",
    "for line in data:\n",
    "  for word in line:\n",
    "    print(word,\"\\t\",end='')\n",
    "  print()\n",
    "```\n",
    "![image.png](attachment:681d9eb0-6aa3-4e58-8d66-f2772c76d906.png)"
   ]
  },
  {
   "cell_type": "code",
   "execution_count": null,
   "id": "56b49aa2-f080-4b9f-b9a3-494b4e646deb",
   "metadata": {},
   "outputs": [],
   "source": []
  }
 ],
 "metadata": {
  "kernelspec": {
   "display_name": "Python 3 (ipykernel)",
   "language": "python",
   "name": "python3"
  },
  "language_info": {
   "codemirror_mode": {
    "name": "ipython",
    "version": 3
   },
   "file_extension": ".py",
   "mimetype": "text/x-python",
   "name": "python",
   "nbconvert_exporter": "python",
   "pygments_lexer": "ipython3",
   "version": "3.12.5"
  }
 },
 "nbformat": 4,
 "nbformat_minor": 5
}
