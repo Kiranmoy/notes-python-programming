{
 "cells": [
  {
   "cell_type": "markdown",
   "id": "edd7dbb0-303f-4dba-b236-948dea8e2440",
   "metadata": {},
   "source": [
    "# Object Serialization"
   ]
  },
  {
   "cell_type": "markdown",
   "id": "eb06f856-b4c5-435d-9435-cc5c25f70f07",
   "metadata": {},
   "source": [
    "The process of converting an object from python supported form to either a file-supported form or a network-supported form is called **serialization** (**marshaling** or **pickling**).\n",
    "\n",
    "The process of converting an object from either file supported form or network-supported form to python supported form is called **deserialization** (**unmarshalling** or **unpickling**).\n",
    "\n",
    "* Object Serialization by using **Pickle**\n",
    "* Object Serialization by using **YAML**\n",
    "* Object Serialization using **JSON**\n"
   ]
  },
  {
   "cell_type": "markdown",
   "id": "3bb92909-1003-43e9-b132-9dce7c3118d8",
   "metadata": {},
   "source": [
    "# Object Serialization by using Pickle"
   ]
  },
  {
   "cell_type": "markdown",
   "id": "8f49d3a1-5d02-45f9-81f4-e24a218294b3",
   "metadata": {},
   "source": [
    "We can perform serialization and deserialization of an object w.r.t file by using the pickle module. It is Python's inbuilt module.\n",
    "* **`pickle`** module contains **`dump( )`** function to perform **Serialization** (**pickling**) → `pickle.dump(object,file)`\n",
    "* **`pickle`** module contains **`load( )`** function to perform **Deserialization** (**unpickling**) → `object = pickle.load(file)`"
   ]
  },
  {
   "cell_type": "markdown",
   "id": "757a8a4c-c26b-4ff2-8cdf-0ef181060f0f",
   "metadata": {},
   "source": [
    "# Program to perform pickling and unpickling of Employee object"
   ]
  },
  {
   "cell_type": "markdown",
   "id": "6ec6f390-90a2-46b9-b0e5-55c43462df68",
   "metadata": {},
   "source": [
    "```\n",
    "import pickle\n",
    "\n",
    "class Employee:\n",
    "  def __init__(self,eno,ename,esal,eaddr):\n",
    "    self.eno=eno\n",
    "    self.ename=ename\n",
    "    self.esal=esal\n",
    "    self.eaddr=eaddr    \n",
    "  def display(self):\n",
    "    print('ENO:{}, ENAME:{}, ESAL:{}, EADDR:{}'.format(self.eno,self.ename,self.esal,self.eaddr))\n",
    "\n",
    "e=Employee(100,'Durga',1000,'Hyderabad')\n",
    "with open('emp.dat','wb') as f:\n",
    "  pickle.dump(e,f)\n",
    "  print('Pickling of Employee object completed')\n",
    "\n",
    "with open('emp.dat','rb') as f:\n",
    "  obj = pickle.load(f)\n",
    "  print('Unpickling of Employee object complected')\n",
    "  print('Printing Employee Information:')\n",
    "  obj.display()\n",
    "```"
   ]
  },
  {
   "cell_type": "markdown",
   "id": "d4a71392-c099-41fe-9415-9ef1fd446005",
   "metadata": {},
   "source": [
    "# Program for serializing multiple Employee objects to the file"
   ]
  },
  {
   "cell_type": "markdown",
   "id": "691022fd-2bcb-4527-8660-19f09878b609",
   "metadata": {},
   "source": [
    "**emp.py**\n",
    "\n",
    "```\n",
    "class Employee:\n",
    "def __init__(self,eno,ename,esal,eaddr):\n",
    "  self.eno=eno\n",
    "  self.ename=ename\n",
    "  self.esal=esal\n",
    "  self.eaddr=eaddr\n",
    "def display(self):\n",
    "  print('ENO:{}, ENAME:{}, ESAL:{}, EADDR:{}'.format(\n",
    "    self.eno,\n",
    "    self.ename,\n",
    "    self.esal,\n",
    "    self.eaddr))\n",
    "```"
   ]
  },
  {
   "cell_type": "markdown",
   "id": "c73a3e1b-b3c4-412f-a021-653c72e4f60e",
   "metadata": {},
   "source": [
    "**sender.py**\n",
    "\n",
    "```\n",
    "# Sender is responsible to save Employee objects to the file\n",
    "\n",
    "from emp import *\n",
    "import pickle\n",
    "\n",
    "f=open('emp.dat','wb')\n",
    "while True:\n",
    "  eno=int(input('Enter Employee Number:'))\n",
    "  ename=input('Enter Employee Name:')\n",
    "  esal=float(input('Enter Employee Salary:'))\n",
    "  eaddr=input('Enter Employee Address:')\n",
    "  e=Employee(eno,ename,esal,eaddr)\n",
    "  pickle.dump(e,f)\n",
    "  option=input('Do you want to serialize one more Employee object[Yes|No]:')\n",
    "  if option.lower()=='no':\n",
    "  break\n",
    "print('All Employee objects serialized')\n",
    "```"
   ]
  },
  {
   "cell_type": "markdown",
   "id": "e290b62e-0be4-4df8-9523-ea6bfd683752",
   "metadata": {},
   "source": [
    "**receiver.py**\n",
    "\n",
    "```\n",
    "# Receiver is responsible to deserialize Employee objects\n",
    "import pickle\n",
    "\n",
    "f=open('emp.dat','rb')\n",
    "print('Deserializing Employee objects and printing data...')\n",
    "while True:\n",
    "  try:\n",
    "    obj=pickle.load(f)\n",
    "    obj.display()\n",
    "  except EOFError:\n",
    "    print('All Employees Completed')\n",
    "    break\n",
    "```"
   ]
  },
  {
   "cell_type": "code",
   "execution_count": null,
   "id": "7040ad43-6670-4341-9335-38980eb0280e",
   "metadata": {},
   "outputs": [],
   "source": []
  }
 ],
 "metadata": {
  "kernelspec": {
   "display_name": "Python 3 (ipykernel)",
   "language": "python",
   "name": "python3"
  },
  "language_info": {
   "codemirror_mode": {
    "name": "ipython",
    "version": 3
   },
   "file_extension": ".py",
   "mimetype": "text/x-python",
   "name": "python",
   "nbconvert_exporter": "python",
   "pygments_lexer": "ipython3",
   "version": "3.12.5"
  }
 },
 "nbformat": 4,
 "nbformat_minor": 5
}
