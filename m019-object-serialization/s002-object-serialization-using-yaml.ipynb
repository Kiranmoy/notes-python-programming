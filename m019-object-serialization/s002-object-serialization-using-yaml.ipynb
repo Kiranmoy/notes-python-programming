{
 "cells": [
  {
   "cell_type": "markdown",
   "id": "d9c11850-90fb-486c-a3fd-60b78f0b0180",
   "metadata": {},
   "source": [
    "# Object Serialization with YAML"
   ]
  },
  {
   "cell_type": "markdown",
   "id": "29404481-e80e-4aff-b009-44f7c7a2d6ac",
   "metadata": {},
   "source": [
    "* **YAML**: A retronym for YAML Ain't Markup Language that meant originally `Yet Another Markup Language`.\n",
    "* It is an alternative to **JSON**.\n",
    "* It is also lightweight and human understandable form.\n",
    "* It is more readable than **JSON**.\n",
    "* To serialize and deserialize our Python data to yaml, we have to go for the **`pyaml`** library. \n",
    "* This library by default is not available and we have to install it separately → `pip install pyaml`\n",
    "* The **`pyaml`** library contains the yaml module.\n",
    "* **`yaml`** module contains the following functions to perform **serialization** and **deserialization**.\n",
    "    * **`dump( )`** → To **serialize** `python dict object to yaml string or yaml file`.\n",
    "    * **`load( )`** → To **deserialize** `from yaml string or yaml file to python dict object`.\n",
    "\n",
    "> ***Note:** `load( )` is deprecated and we have to use `safe_load( )` function*"
   ]
  },
  {
   "cell_type": "markdown",
   "id": "a0f5c75c-bee5-4ad0-9731-b6fb67bd1b12",
   "metadata": {},
   "source": [
    "# Program for serialization and deserialization by using Yaml"
   ]
  },
  {
   "cell_type": "markdown",
   "id": "8afa8af6-86cd-49b2-b5f5-ce1ae0bf0c7d",
   "metadata": {},
   "source": [
    "```\n",
    "from pyaml import yaml\n",
    "emp_dict={'name':'Durga','age':35,'salary':1000.0,'isMarried':True}\n",
    "\n",
    "# Serialization to yaml string\n",
    "yaml_string=yaml.dump(emp_dict)\n",
    "print(yaml_string)\n",
    "\n",
    "# Serialization to yaml file\n",
    "with open('emp.yaml','w') as f:\n",
    "  yaml.dump(emp_dict,f)\n",
    "\n",
    "# Deserialization from yaml string\n",
    "ed=yaml.safe_load(yaml_string)\n",
    "print(ed)\n",
    "for k,v in ed.items():\n",
    "  print(k,':',v)\n",
    "\n",
    "# Deserialization from yaml file\n",
    "with open('emp.yaml','r') as f:\n",
    "  edf=yaml.safe_load(f)\n",
    "print(edf)\n",
    "```"
   ]
  },
  {
   "cell_type": "code",
   "execution_count": null,
   "id": "41487eaf-83b4-4453-b713-cb574e461706",
   "metadata": {},
   "outputs": [],
   "source": []
  }
 ],
 "metadata": {
  "kernelspec": {
   "display_name": "Python 3 (ipykernel)",
   "language": "python",
   "name": "python3"
  },
  "language_info": {
   "codemirror_mode": {
    "name": "ipython",
    "version": 3
   },
   "file_extension": ".py",
   "mimetype": "text/x-python",
   "name": "python",
   "nbconvert_exporter": "python",
   "pygments_lexer": "ipython3",
   "version": "3.12.5"
  }
 },
 "nbformat": 4,
 "nbformat_minor": 5
}
