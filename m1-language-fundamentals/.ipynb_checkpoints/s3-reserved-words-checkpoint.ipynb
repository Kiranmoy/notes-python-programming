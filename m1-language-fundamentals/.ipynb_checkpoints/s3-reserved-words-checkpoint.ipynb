{
 "cells": [
  {
   "cell_type": "markdown",
   "id": "27145d7f-c38e-4517-b4fd-01eb7aaeb539",
   "metadata": {},
   "source": [
    "# Reserved Words"
   ]
  },
  {
   "cell_type": "markdown",
   "id": "eff8ac14-cacf-4259-a3b9-4547fc505a47",
   "metadata": {},
   "source": [
    "In Python, some words are reserved to represent some meaning or functionality.\n",
    "\n",
    "Such types of words are called **reserved words**.\n",
    "\n",
    "There are **33 reserved words** available in Python. "
   ]
  },
  {
   "cell_type": "code",
   "execution_count": 1,
   "id": "99773bc0-039f-4098-a280-aa7c1c5f49a0",
   "metadata": {},
   "outputs": [],
   "source": [
    "# True, False, None\n",
    "# and, or ,not,is\n",
    "# if, elif, else\n",
    "# while, for, break, continue, return, in, yield\n",
    "# try, except, finally, raise, assert\n",
    "# import, from, as, class, def, pass, global, nonlocal, lambda, del, with"
   ]
  },
  {
   "cell_type": "markdown",
   "id": "8c069d7c-c307-410c-b3ca-518adb63ed0e",
   "metadata": {},
   "source": [
    "# Notes"
   ]
  },
  {
   "cell_type": "markdown",
   "id": "a4930f44-5a54-46a6-9c9b-577e52ce0ff3",
   "metadata": {},
   "source": [
    "* All Reserved words in Python contain only alphabet symbols."
   ]
  },
  {
   "cell_type": "markdown",
   "id": "ff3dd803-20f3-493b-b319-13022f750df0",
   "metadata": {},
   "source": [
    "* Except for the following 3 reserved words: **True**, **False** & **None**, all contain only lowercase alphabet symbols."
   ]
  },
  {
   "cell_type": "code",
   "execution_count": 3,
   "id": "4f678b3b-b8d6-4b81-ab8b-89f37996d9f4",
   "metadata": {},
   "outputs": [
    {
     "ename": "NameError",
     "evalue": "name 'true' is not defined",
     "output_type": "error",
     "traceback": [
      "\u001b[1;31m---------------------------------------------------------------------------\u001b[0m",
      "\u001b[1;31mNameError\u001b[0m                                 Traceback (most recent call last)",
      "Cell \u001b[1;32mIn[3], line 2\u001b[0m\n\u001b[0;32m      1\u001b[0m a\u001b[38;5;241m=\u001b[39m \u001b[38;5;28;01mTrue\u001b[39;00m \u001b[38;5;66;03m# correct\u001b[39;00m\n\u001b[1;32m----> 2\u001b[0m a\u001b[38;5;241m=\u001b[39m \u001b[43mtrue\u001b[49m \u001b[38;5;66;03m# NameError: name 'true' is not defined\u001b[39;00m\n",
      "\u001b[1;31mNameError\u001b[0m: name 'true' is not defined"
     ]
    }
   ],
   "source": [
    "a= True # correct\n",
    "a= true # NameError: name 'true' is not defined"
   ]
  },
  {
   "cell_type": "markdown",
   "id": "65359d4d-1c13-4022-a8be-7564ec142d27",
   "metadata": {},
   "source": [
    "**Print all python keywords**"
   ]
  },
  {
   "cell_type": "code",
   "execution_count": 4,
   "id": "a2099978-ec4c-4723-8b1e-8fae59a06794",
   "metadata": {},
   "outputs": [
    {
     "name": "stdout",
     "output_type": "stream",
     "text": [
      "['False', 'None', 'True', 'and', 'as', 'assert', 'async', 'await', 'break', 'class', 'continue', 'def', 'del', 'elif', 'else', 'except', 'finally', 'for', 'from', 'global', 'if', 'import', 'in', 'is', 'lambda', 'nonlocal', 'not', 'or', 'pass', 'raise', 'return', 'try', 'while', 'with', 'yield']\n"
     ]
    }
   ],
   "source": [
    "import keyword\n",
    "print(keyword.kwlist)"
   ]
  },
  {
   "cell_type": "markdown",
   "id": "daf16fcf-84c3-4ecf-943f-a92ce04b6d79",
   "metadata": {},
   "source": [
    "* The **switch**, **do-while** concept is not there in python."
   ]
  },
  {
   "cell_type": "markdown",
   "id": "29b1df07-fcdc-496d-9a08-0469c3a46220",
   "metadata": {},
   "source": [
    "Data type-related keywords such as **int**, **float**, **char**, etc. are not required in python because python is a dynamically typed language, so we don’t need to explicitly declare the type of the variable."
   ]
  },
  {
   "cell_type": "code",
   "execution_count": null,
   "id": "004a9aae-e2db-4cdb-b7df-a038595c42ae",
   "metadata": {},
   "outputs": [],
   "source": []
  }
 ],
 "metadata": {
  "kernelspec": {
   "display_name": "Python 3 (ipykernel)",
   "language": "python",
   "name": "python3"
  },
  "language_info": {
   "codemirror_mode": {
    "name": "ipython",
    "version": 3
   },
   "file_extension": ".py",
   "mimetype": "text/x-python",
   "name": "python",
   "nbconvert_exporter": "python",
   "pygments_lexer": "ipython3",
   "version": "3.12.5"
  }
 },
 "nbformat": 4,
 "nbformat_minor": 5
}
