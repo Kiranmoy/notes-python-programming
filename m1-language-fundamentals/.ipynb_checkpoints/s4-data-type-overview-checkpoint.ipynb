{
 "cells": [
  {
   "cell_type": "markdown",
   "id": "829347a6-bba4-4da7-a368-8c83656b3ad1",
   "metadata": {},
   "source": [
    "# Data type: Overview"
   ]
  },
  {
   "cell_type": "markdown",
   "id": "deb39bda-eb2d-4348-8295-45e29e1fa19f",
   "metadata": {},
   "source": [
    "* Data Type represents the type of data present inside a variable.\n",
    "* In Python, **type concept is available** but we are **not required to specify the type explicitly**. \n",
    "* Based on the value provided, the type will be assigned automatically. \n",
    "* Hence **Python is a dynamically Typed Language.**"
   ]
  },
  {
   "cell_type": "markdown",
   "id": "68f962fb-3554-464a-b0f7-99b758162374",
   "metadata": {},
   "source": [
    "**Statically Typed Language (Java)**"
   ]
  },
  {
   "cell_type": "markdown",
   "id": "0211392f-6c4e-47d6-9415-7d38c73f76ab",
   "metadata": {},
   "source": [
    "// Need to explicitly specify the type\n",
    "\n",
    "* int a = 10;\n",
    "* float f = 10.5f;"
   ]
  },
  {
   "cell_type": "markdown",
   "id": "dceb173e-d7f1-4f87-93ef-d069dddd2732",
   "metadata": {},
   "source": [
    "**Dynamically Typed Language (Python)**"
   ]
  },
  {
   "cell_type": "code",
   "execution_count": 3,
   "id": "2c9a5f3b-e8ad-4add-9e8a-4aa4736d799f",
   "metadata": {},
   "outputs": [
    {
     "name": "stdout",
     "output_type": "stream",
     "text": [
      "10\n",
      "10.5\n"
     ]
    }
   ],
   "source": [
    "# Type will be dtermined based on the value provided\n",
    "a = 10\n",
    "f = 10.5\n",
    "\n",
    "print(a)\n",
    "print(f)"
   ]
  },
  {
   "cell_type": "markdown",
   "id": "9ae36102-be9a-4709-8c9f-0e19487a616c",
   "metadata": {},
   "source": [
    "**Python contains the following inbuilt data types**"
   ]
  },
  {
   "cell_type": "code",
   "execution_count": 4,
   "id": "c29d3f04-5400-44de-8a40-1b729b6edcc6",
   "metadata": {},
   "outputs": [],
   "source": [
    "# int\n",
    "# float\n",
    "# complex\n",
    "# bool\n",
    "# str"
   ]
  },
  {
   "cell_type": "code",
   "execution_count": 5,
   "id": "b8b4ef0e-18a4-45f9-beba-2f3bb3eb55cd",
   "metadata": {},
   "outputs": [],
   "source": [
    "# list\n",
    "# tuple\n",
    "# set\n",
    "# frozenset\n",
    "# dict"
   ]
  },
  {
   "cell_type": "code",
   "execution_count": 7,
   "id": "2f645803-fe59-4a60-8f46-eb14b1e8a0c8",
   "metadata": {},
   "outputs": [],
   "source": [
    "# bytes\n",
    "# bytearray\n",
    "# range\n",
    "# None"
   ]
  },
  {
   "cell_type": "markdown",
   "id": "89f14e64-f5f3-4f95-9a1b-9b92d12f1668",
   "metadata": {},
   "source": [
    "**Everything in Python is an Object**"
   ]
  },
  {
   "cell_type": "markdown",
   "id": "f06729f2-6ad7-4083-9506-466e4c0f9b51",
   "metadata": {},
   "source": [
    "Python contains several inbuilt functions.\n",
    "* **type()** - to check the type of variable\n",
    "* **id()** - to get the address of an object\n",
    "* **print()** - to print the value "
   ]
  },
  {
   "cell_type": "code",
   "execution_count": 8,
   "id": "d8888126-00ff-4a75-9ccb-64339b074a43",
   "metadata": {},
   "outputs": [
    {
     "name": "stdout",
     "output_type": "stream",
     "text": [
      "<class 'int'>\n",
      "140708108733144\n",
      "10\n"
     ]
    }
   ],
   "source": [
    "if __name__ == '__main__':\n",
    "    a = 10\n",
    "\n",
    "    print(type(a))\n",
    "    print(id(a))\n",
    "    print(a)"
   ]
  },
  {
   "attachments": {
    "9a474d83-e2e4-4bf8-b2a1-0318c88c9d1a.png": {
     "image/png": "[encoded data removed]"
    }
   },
   "cell_type": "markdown",
   "id": "d0566112-1280-433f-9ac3-3e072f8c614b",
   "metadata": {},
   "source": [
    "![image.png](attachment:9a474d83-e2e4-4bf8-b2a1-0318c88c9d1a.png)"
   ]
  },
  {
   "cell_type": "code",
   "execution_count": null,
   "id": "d9fd1f73-fe8b-49f5-a01f-2beee323dab9",
   "metadata": {},
   "outputs": [],
   "source": []
  }
 ],
 "metadata": {
  "kernelspec": {
   "display_name": "Python 3 (ipykernel)",
   "language": "python",
   "name": "python3"
  },
  "language_info": {
   "codemirror_mode": {
    "name": "ipython",
    "version": 3
   },
   "file_extension": ".py",
   "mimetype": "text/x-python",
   "name": "python",
   "nbconvert_exporter": "python",
   "pygments_lexer": "ipython3",
   "version": "3.12.5"
  }
 },
 "nbformat": 4,
 "nbformat_minor": 5
}
