{
 "cells": [
  {
   "attachments": {
    "ce37708a-d7b8-4e37-ac7b-9d673e967155.png": {
     "image/png": "[encoded data removed]"
    }
   },
   "cell_type": "markdown",
   "id": "078ba20d-692f-4c9c-a46e-84345b6e0414",
   "metadata": {},
   "source": [
    "![image.png](attachment:ce37708a-d7b8-4e37-ac7b-9d673e967155.png)\n",
    "\n",
    "* A complex number is of the form ***“a + bj“***, where **‘a'** and **‘b’** contain ***integers or floating point*** values and **j** represent the imaginary number.\n",
    "* We can use either **‘j'** or **'J’**."
   ]
  },
  {
   "cell_type": "markdown",
   "id": "e8758139-b167-4f9b-b9bd-7d9e84875727",
   "metadata": {},
   "source": [
    "> Note that it is mandatory to use **‘*j'*** to represent the imaginary part.\n",
    "\n",
    "> If we use any other character instead of ***‘j’***, we’ll get a compile-time error.\n",
    "\n",
    "> We can use complex types generally in scientific Applications and electrical engineering Applications. "
   ]
  },
  {
   "cell_type": "markdown",
   "id": "acc7f8f9-188e-4f85-b1f1-79dd144c41b0",
   "metadata": {},
   "source": [
    "## Examples"
   ]
  },
  {
   "cell_type": "code",
   "execution_count": 1,
   "id": "1dabc6ac-e6b2-40b8-b743-4865d6189a98",
   "metadata": {},
   "outputs": [
    {
     "name": "stdout",
     "output_type": "stream",
     "text": [
      "(3+5j)\n",
      "(10+5.5j)\n",
      "(0.5+0.1j)\n",
      "<class 'complex'>\n",
      "<class 'complex'>\n"
     ]
    }
   ],
   "source": [
    "print(3 + 5j)       # (3+5j)\n",
    "print(10 + 5.5j)    # (10+5.5j)\n",
    "print(0.5 + 0.1j)   # (0.5+0.1j)\n",
    "\n",
    "print(type(3 + 5J)) # <class 'complex'>\n",
    "print(type(10 + 5J))"
   ]
  },
  {
   "cell_type": "code",
   "execution_count": 3,
   "id": "92699ef7-fd3f-4dfe-945d-25263363efc1",
   "metadata": {},
   "outputs": [
    {
     "ename": "SyntaxError",
     "evalue": "invalid decimal literal (4279487031.py, line 1)",
     "output_type": "error",
     "traceback": [
      "\u001b[1;36m  Cell \u001b[1;32mIn[3], line 1\u001b[1;36m\u001b[0m\n\u001b[1;33m    print(type(10 + 20i)) # SyntaxError: invalid decimal literal\u001b[0m\n\u001b[1;37m                     ^\u001b[0m\n\u001b[1;31mSyntaxError\u001b[0m\u001b[1;31m:\u001b[0m invalid decimal literal\n"
     ]
    }
   ],
   "source": [
    "print(type(10 + 20i)) # SyntaxError: invalid decimal literal"
   ]
  },
  {
   "cell_type": "markdown",
   "id": "b28cce2c-3c57-439a-ac23-207b4d5f0f86",
   "metadata": {},
   "source": [
    "In the ***real*** part if we use an int value then we can specify that either by ***decimal***, ***octal***, ***inary***, or ***hexadecimal*** form. But the ***imaginary*** parts should be specified only by using the ***decimal*** form."
   ]
  },
  {
   "cell_type": "code",
   "execution_count": 4,
   "id": "3560b831-cf59-469a-81d2-4b19cbf2b2d7",
   "metadata": {},
   "outputs": [
    {
     "name": "stdout",
     "output_type": "stream",
     "text": [
      "(3+5j)\n"
     ]
    }
   ],
   "source": [
    "print(0B11 + 5j)    # (3+5j)"
   ]
  },
  {
   "cell_type": "code",
   "execution_count": 5,
   "id": "7755e726-75fc-4ce3-a83b-c59639c6eb12",
   "metadata": {},
   "outputs": [
    {
     "ename": "SyntaxError",
     "evalue": "invalid binary literal (817409011.py, line 1)",
     "output_type": "error",
     "traceback": [
      "\u001b[1;36m  Cell \u001b[1;32mIn[5], line 1\u001b[1;36m\u001b[0m\n\u001b[1;33m    print(3 + 0B11j)    # SyntaxError: invalid binary literal\u001b[0m\n\u001b[1;37m                 ^\u001b[0m\n\u001b[1;31mSyntaxError\u001b[0m\u001b[1;31m:\u001b[0m invalid binary literal\n"
     ]
    }
   ],
   "source": [
    "print(3 + 0B11j)    # SyntaxError: invalid binary literal"
   ]
  },
  {
   "cell_type": "markdown",
   "id": "fc199bae-2cc2-4f8d-a44c-a705b30dda2f",
   "metadata": {},
   "source": [
    "The complex data type has some ***in-built attributes*** to retrieve the real part and the imaginary part."
   ]
  },
  {
   "cell_type": "code",
   "execution_count": 6,
   "id": "1a2a03b1-b7a3-4e84-af77-f8905c102141",
   "metadata": {},
   "outputs": [
    {
     "name": "stdout",
     "output_type": "stream",
     "text": [
      "10.5\n",
      "3.6\n"
     ]
    }
   ],
   "source": [
    "c = 10.5+3.6j\n",
    "print(c.real)   # 10.5\n",
    "print(c.imag)   # 3.6"
   ]
  },
  {
   "cell_type": "markdown",
   "id": "8ad99ce2-d02f-4194-b091-1ef81ae57842",
   "metadata": {},
   "source": [
    "Even we can perform operations on complex type values."
   ]
  },
  {
   "cell_type": "code",
   "execution_count": 7,
   "id": "60fee1cc-731f-4984-9c0a-c3f1332f2745",
   "metadata": {},
   "outputs": [
    {
     "name": "stdout",
     "output_type": "stream",
     "text": [
      "(30+4j)\n"
     ]
    }
   ],
   "source": [
    "a = 10 + 1.5j\n",
    "b = 20 + 2.5j\n",
    "c = a + b\n",
    "\n",
    "print(c)  # (30+4j)"
   ]
  },
  {
   "cell_type": "code",
   "execution_count": null,
   "id": "4146074f-5ff3-4b98-9330-4c3ed410d135",
   "metadata": {},
   "outputs": [],
   "source": []
  }
 ],
 "metadata": {
  "kernelspec": {
   "display_name": "Python 3 (ipykernel)",
   "language": "python",
   "name": "python3"
  },
  "language_info": {
   "codemirror_mode": {
    "name": "ipython",
    "version": 3
   },
   "file_extension": ".py",
   "mimetype": "text/x-python",
   "name": "python",
   "nbconvert_exporter": "python",
   "pygments_lexer": "ipython3",
   "version": "3.12.5"
  }
 },
 "nbformat": 4,
 "nbformat_minor": 5
}
