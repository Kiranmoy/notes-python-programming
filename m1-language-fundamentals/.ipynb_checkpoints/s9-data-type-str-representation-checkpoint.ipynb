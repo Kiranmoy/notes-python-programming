{
 "cells": [
  {
   "cell_type": "markdown",
   "id": "bf95f010-09eb-4111-8446-4ff5c4ec15fc",
   "metadata": {},
   "source": [
    "The ***str*** represents the string data type. \n",
    "\n",
    "A string is a sequence of Unicode characters enclosed within ***single quotes*** or ***double quotes***. \n",
    "\n",
    "***Unicode was introduced to include every character in all languages and bring uniformity in encoding. You can learn more about Unicode from Python Unicode.***"
   ]
  },
  {
   "cell_type": "code",
   "execution_count": 1,
   "id": "ebb11432-b572-4e8c-ae30-7a91223adca7",
   "metadata": {},
   "outputs": [
    {
     "name": "stdout",
     "output_type": "stream",
     "text": [
      "durga\n",
      "durga\n",
      "<class 'str'>\n",
      "<class 'str'>\n"
     ]
    }
   ],
   "source": [
    "s1='durga'    # string representation with single quotes.\n",
    "s2=\"durga\"    # string representation with double quotes.\n",
    "\n",
    "print(s1)     # durga\n",
    "print(s2)     # durga\n",
    "\n",
    "print(type(s1)) # <class 'str'>\n",
    "print(type(s2)) # <class 'str'>"
   ]
  },
  {
   "cell_type": "markdown",
   "id": "eaeda55b-fa87-4d7f-8eca-595b065f5c27",
   "metadata": {},
   "source": [
    "In Python, we can represent **char** values also by using **str** type and ***explicitly char type is not available***. \n",
    "\n",
    "Even a single character in a single quote is also treated as a string."
   ]
  },
  {
   "cell_type": "code",
   "execution_count": 2,
   "id": "4294be51-d59c-44d8-a646-c181859eb9b8",
   "metadata": {},
   "outputs": [
    {
     "name": "stdout",
     "output_type": "stream",
     "text": [
      "<class 'str'>\n"
     ]
    }
   ],
   "source": [
    "s = 'a'\n",
    "print(type(s))  # <class 'str'>"
   ]
  },
  {
   "cell_type": "markdown",
   "id": "4acf4a33-8181-45f9-aa66-4cabbcf6b4ed",
   "metadata": {},
   "source": [
    "# Triple Single Quotes or Triple Double Quotes"
   ]
  },
  {
   "cell_type": "markdown",
   "id": "1a359247-5aab-4acb-8c80-259c4f433069",
   "metadata": {},
   "source": [
    "By using ***single quotes*** or ***double quotes*** we cannot represent ***multi-line string*** literals."
   ]
  },
  {
   "cell_type": "code",
   "execution_count": 3,
   "id": "34b4dbdc-200c-4564-be25-17521ea0963d",
   "metadata": {},
   "outputs": [
    {
     "ename": "SyntaxError",
     "evalue": "unterminated string literal (detected at line 2) (2102035986.py, line 2)",
     "output_type": "error",
     "traceback": [
      "\u001b[1;36m  Cell \u001b[1;32mIn[3], line 2\u001b[1;36m\u001b[0m\n\u001b[1;33m    s = \"durga\u001b[0m\n\u001b[1;37m        ^\u001b[0m\n\u001b[1;31mSyntaxError\u001b[0m\u001b[1;31m:\u001b[0m unterminated string literal (detected at line 2)\n"
     ]
    }
   ],
   "source": [
    "# SyntaxError: unterminated string literal\n",
    "s = \"durga\n",
    "    soft\""
   ]
  },
  {
   "cell_type": "code",
   "execution_count": 4,
   "id": "c65d88f3-94b6-40ad-8a62-1039efaee7ff",
   "metadata": {},
   "outputs": [
    {
     "ename": "SyntaxError",
     "evalue": "unterminated string literal (detected at line 2) (2606871786.py, line 2)",
     "output_type": "error",
     "traceback": [
      "\u001b[1;36m  Cell \u001b[1;32mIn[4], line 2\u001b[1;36m\u001b[0m\n\u001b[1;33m    s = 'durga\u001b[0m\n\u001b[1;37m        ^\u001b[0m\n\u001b[1;31mSyntaxError\u001b[0m\u001b[1;31m:\u001b[0m unterminated string literal (detected at line 2)\n"
     ]
    }
   ],
   "source": [
    "# SyntaxError: unterminated string literal\n",
    "s = 'durga\n",
    "    soft'"
   ]
  },
  {
   "cell_type": "markdown",
   "id": "b4abaad2-1dc7-4a2a-bf6e-6120f4ef9a04",
   "metadata": {},
   "source": [
    "### Using triple quotes, we can represent multi-line string literals."
   ]
  },
  {
   "cell_type": "code",
   "execution_count": 8,
   "id": "b8f7ed3d-92b5-47c9-9afe-cca99e5257a7",
   "metadata": {},
   "outputs": [
    {
     "name": "stdout",
     "output_type": "stream",
     "text": [
      "Kiran\n",
      "    Moy\n",
      "    Paul\n",
      "    \n"
     ]
    }
   ],
   "source": [
    "# Triple Single Quotes\n",
    "s = '''Kiran\n",
    "    Moy\n",
    "    Paul\n",
    "    '''\n",
    "print(s)"
   ]
  },
  {
   "cell_type": "code",
   "execution_count": 9,
   "id": "e9ed235d-e9c2-465e-a691-99255a417eca",
   "metadata": {},
   "outputs": [
    {
     "name": "stdout",
     "output_type": "stream",
     "text": [
      "Kiran\n",
      "    Moy\n",
      "    Paul\n",
      "    \n"
     ]
    }
   ],
   "source": [
    "# Triple Double Quotes\n",
    "s =\"\"\"Kiran\n",
    "    Moy\n",
    "    Paul\n",
    "    \"\"\"\n",
    "print(s)"
   ]
  },
  {
   "cell_type": "markdown",
   "id": "e3a8d911-5517-4227-bdae-1026974e9e37",
   "metadata": {},
   "source": [
    "### Embedding a single quote in a string literal."
   ]
  },
  {
   "cell_type": "code",
   "execution_count": 10,
   "id": "cd8c83b6-7122-4ec3-843b-294fce53bb34",
   "metadata": {},
   "outputs": [
    {
     "name": "stdout",
     "output_type": "stream",
     "text": [
      " This is ' Character\n"
     ]
    }
   ],
   "source": [
    "print(\" This is ' Character\")   # This is ' Character"
   ]
  },
  {
   "cell_type": "markdown",
   "id": "9fc6e4dc-ae94-497a-b19b-ed7261edae99",
   "metadata": {},
   "source": [
    "### Embedding a double quote in a string literal."
   ]
  },
  {
   "cell_type": "code",
   "execution_count": 11,
   "id": "b6005060-2787-4c0f-ba6e-c12d817441ec",
   "metadata": {},
   "outputs": [
    {
     "name": "stdout",
     "output_type": "stream",
     "text": [
      " This is \" Character\n"
     ]
    }
   ],
   "source": [
    "print(' This is \" Character')   # This is \" Character"
   ]
  },
  {
   "cell_type": "markdown",
   "id": "bea150fe-b7e9-4f67-8e92-14b90e99e2e6",
   "metadata": {},
   "source": [
    "### If you want to use both single quotes & double quotes in a string literal as a normal character, you need to use triple quotes."
   ]
  },
  {
   "cell_type": "code",
   "execution_count": 12,
   "id": "506336ac-d0f8-4353-82a7-ee48346b8139",
   "metadata": {},
   "outputs": [
    {
     "name": "stdout",
     "output_type": "stream",
     "text": [
      "This is ' & \" Character\n",
      "This is ' & \" Character\n"
     ]
    }
   ],
   "source": [
    "print('''This is ' & \" Character''')   # This is ' & \" Character\n",
    "print(\"\"\"This is ' & \" Character\"\"\")   # This is ' & \" Character"
   ]
  },
  {
   "cell_type": "markdown",
   "id": "35fdb97f-3b73-465c-9c6c-a9264aebbab9",
   "metadata": {},
   "source": [
    "# USAGES OF TRIPLE QUOTES"
   ]
  },
  {
   "cell_type": "markdown",
   "id": "a2284e7c-be22-4259-855c-354167ad5c91",
   "metadata": {},
   "source": [
    "* To define multi-line string literals.\n",
    "\n",
    "* To use **'** and **“** as normal characters in a string literal.\n",
    "\n",
    "* To define doc string."
   ]
  },
  {
   "cell_type": "code",
   "execution_count": null,
   "id": "a51865d9-7b06-4a91-b4c7-71557805ce63",
   "metadata": {},
   "outputs": [],
   "source": []
  }
 ],
 "metadata": {
  "kernelspec": {
   "display_name": "Python 3 (ipykernel)",
   "language": "python",
   "name": "python3"
  },
  "language_info": {
   "codemirror_mode": {
    "name": "ipython",
    "version": 3
   },
   "file_extension": ".py",
   "mimetype": "text/x-python",
   "name": "python",
   "nbconvert_exporter": "python",
   "pygments_lexer": "ipython3",
   "version": "3.12.5"
  }
 },
 "nbformat": 4,
 "nbformat_minor": 5
}
