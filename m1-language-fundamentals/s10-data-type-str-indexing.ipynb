{
 "cells": [
  {
   "cell_type": "markdown",
   "id": "3b9f3120-1777-4037-8479-ce473565505e",
   "metadata": {},
   "source": [
    "A string is a sequence of characters. \n",
    "\n",
    "We can access the characters of the string by using an index. \n",
    "\n",
    "In Python, Strings follow a zero-based index, that is, the index starts from 0."
   ]
  },
  {
   "attachments": {
    "d7ab16fa-92fd-4302-90e3-18646ada173d.png": {
     "image/png": "[encoded data removed]"
    }
   },
   "cell_type": "markdown",
   "id": "0ab49df1-c956-4dfb-baa0-d0d784b47254",
   "metadata": {},
   "source": [
    "![image.png](attachment:d7ab16fa-92fd-4302-90e3-18646ada173d.png)"
   ]
  },
  {
   "cell_type": "markdown",
   "id": "db0869f9-cfbe-43c9-8983-0ec8c93f96ce",
   "metadata": {},
   "source": [
    "* Trying to access indexes out of the ***range (0, lengthOfString-1)***, will raise an ***IndexError***.\n",
    "* Also, the index must be an integer. We can't use float or other data types; this will result in a ***TypeError***."
   ]
  },
  {
   "cell_type": "code",
   "execution_count": 1,
   "id": "1ae17822-4568-4fe3-b65b-a7af07b4d0d0",
   "metadata": {},
   "outputs": [
    {
     "name": "stdout",
     "output_type": "stream",
     "text": [
      "d\n",
      "g\n"
     ]
    }
   ],
   "source": [
    "s = \"durga\"\n",
    "print(s[0])   # d\n",
    "print(s[3])   # g"
   ]
  },
  {
   "cell_type": "code",
   "execution_count": 2,
   "id": "baf7012b-35ba-48bf-8d42-751cdf110304",
   "metadata": {},
   "outputs": [
    {
     "ename": "IndexError",
     "evalue": "string index out of range",
     "output_type": "error",
     "traceback": [
      "\u001b[1;31m---------------------------------------------------------------------------\u001b[0m",
      "\u001b[1;31mIndexError\u001b[0m                                Traceback (most recent call last)",
      "Cell \u001b[1;32mIn[2], line 1\u001b[0m\n\u001b[1;32m----> 1\u001b[0m \u001b[38;5;28mprint\u001b[39m(\u001b[43ms\u001b[49m\u001b[43m[\u001b[49m\u001b[38;5;241;43m100\u001b[39;49m\u001b[43m]\u001b[49m) \u001b[38;5;66;03m# IndexError: string index out of range\u001b[39;00m\n",
      "\u001b[1;31mIndexError\u001b[0m: string index out of range"
     ]
    }
   ],
   "source": [
    "print(s[100]) # IndexError: string index out of range"
   ]
  },
  {
   "cell_type": "markdown",
   "id": "c17a9832-e9b5-4229-ac62-b07b0445877a",
   "metadata": {},
   "source": [
    "# Positive & Negative Indexing"
   ]
  },
  {
   "cell_type": "markdown",
   "id": "502de18c-a82a-46c2-98f7-224769a6d6a1",
   "metadata": {},
   "source": [
    "Python supports both positive and negative indexing, that is, the index can be either +ve or -ve.\n",
    "\n",
    "* ***+ve*** index means a forward direction from ***Left to Right***. \n",
    "* The positive index starts from **0**.\n",
    "* ***-ve*** index means a backward direction from ***Right to Left***.\n",
    "* The negative index starts from **-1**."
   ]
  },
  {
   "cell_type": "code",
   "execution_count": 3,
   "id": "bdb5d916-1318-4574-8a9f-fd64b56d1834",
   "metadata": {},
   "outputs": [],
   "source": [
    "s = \"durga\""
   ]
  },
  {
   "cell_type": "markdown",
   "id": "8fd25799-1f09-4995-8e90-602360fa4fe9",
   "metadata": {},
   "source": [
    "### Postive Indexing"
   ]
  },
  {
   "cell_type": "code",
   "execution_count": 4,
   "id": "c08f217b-45ee-4ec1-8966-fd9fae5cf7b5",
   "metadata": {},
   "outputs": [
    {
     "name": "stdout",
     "output_type": "stream",
     "text": [
      "d\n",
      "g\n"
     ]
    }
   ],
   "source": [
    "# POSITIVE INDEXING\n",
    "print(s[0])   # d\n",
    "print(s[3])   # g"
   ]
  },
  {
   "cell_type": "markdown",
   "id": "afee9cd4-c16f-41d1-a9d9-d2cbf2a6b3d5",
   "metadata": {},
   "source": [
    "### Negative Indexing"
   ]
  },
  {
   "cell_type": "code",
   "execution_count": 6,
   "id": "4c335d58-b47a-404b-b26c-ba04a0de3bdb",
   "metadata": {},
   "outputs": [
    {
     "name": "stdout",
     "output_type": "stream",
     "text": [
      "a\n",
      "d\n"
     ]
    }
   ],
   "source": [
    "# NEGATIVE INDEXING\n",
    "print(s[-1])   # a\n",
    "print(s[-5])   # d"
   ]
  },
  {
   "cell_type": "code",
   "execution_count": 7,
   "id": "174a5383-92cc-4bc1-bdd6-feece3d96934",
   "metadata": {},
   "outputs": [
    {
     "ename": "IndexError",
     "evalue": "string index out of range",
     "output_type": "error",
     "traceback": [
      "\u001b[1;31m---------------------------------------------------------------------------\u001b[0m",
      "\u001b[1;31mIndexError\u001b[0m                                Traceback (most recent call last)",
      "Cell \u001b[1;32mIn[7], line 1\u001b[0m\n\u001b[1;32m----> 1\u001b[0m \u001b[38;5;28mprint\u001b[39m(\u001b[43ms\u001b[49m\u001b[43m[\u001b[49m\u001b[38;5;241;43m-\u001b[39;49m\u001b[38;5;241;43m6\u001b[39;49m\u001b[43m]\u001b[49m) \u001b[38;5;66;03m# IndexError: string index out of range\u001b[39;00m\n",
      "\u001b[1;31mIndexError\u001b[0m: string index out of range"
     ]
    }
   ],
   "source": [
    "print(s[-6]) # IndexError: string index out of range"
   ]
  },
  {
   "cell_type": "code",
   "execution_count": null,
   "id": "21ec953b-7fc7-40d5-88b3-7903f39a0048",
   "metadata": {},
   "outputs": [],
   "source": []
  }
 ],
 "metadata": {
  "kernelspec": {
   "display_name": "Python 3 (ipykernel)",
   "language": "python",
   "name": "python3"
  },
  "language_info": {
   "codemirror_mode": {
    "name": "ipython",
    "version": 3
   },
   "file_extension": ".py",
   "mimetype": "text/x-python",
   "name": "python",
   "nbconvert_exporter": "python",
   "pygments_lexer": "ipython3",
   "version": "3.12.5"
  }
 },
 "nbformat": 4,
 "nbformat_minor": 5
}
