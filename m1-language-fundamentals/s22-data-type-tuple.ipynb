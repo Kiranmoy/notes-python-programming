{
 "cells": [
  {
   "cell_type": "markdown",
   "id": "69119527-0f38-4b77-8934-1199183bbb9a",
   "metadata": {},
   "source": [
    "# Tuple introduction"
   ]
  },
  {
   "cell_type": "markdown",
   "id": "49170888-4bc9-4bf4-bc8f-1fdf6cb8ce64",
   "metadata": {},
   "source": [
    "* The tuple data type is exactly the same as the list data type except that it is **immutable**. \n",
    "* That is, once we created a tuple object, we cannot perform any changes in that object.\n",
    "* Tuple elements can be represented within parenthesis **( )**.\n",
    "\n",
    "> ***NOTE**: Tuple is the read only version of list*"
   ]
  },
  {
   "cell_type": "code",
   "execution_count": 1,
   "id": "bc9eb7a5-e1c6-4860-ae51-ce831f013d19",
   "metadata": {},
   "outputs": [
    {
     "name": "stdout",
     "output_type": "stream",
     "text": [
      "<class 'tuple'>\n",
      "(10, 10.5, 'durga', True, 10)\n"
     ]
    }
   ],
   "source": [
    "# Duplicates allowed\n",
    "# Insertion order preserved\n",
    "# Heterogenoues objects allowed\n",
    "t = ( 10, 10.5, 'durga', True, 10 )\n",
    "\n",
    "print(type(t))                     # <class 'tuple'>\n",
    "print(t)                           # ( 10, 10.5, 'durga', True, 10 )"
   ]
  },
  {
   "cell_type": "markdown",
   "id": "96da3d13-4d3d-4093-868a-8280575b4f64",
   "metadata": {},
   "source": [
    "# Positive & negative indexing"
   ]
  },
  {
   "cell_type": "code",
   "execution_count": 3,
   "id": "8ce02d2e-d37c-43ec-8844-cbebdeedd080",
   "metadata": {},
   "outputs": [
    {
     "name": "stdout",
     "output_type": "stream",
     "text": [
      "10\n",
      "True\n"
     ]
    }
   ],
   "source": [
    "t= ( 10, 10.5, 'durga', True, 10 )\n",
    "\n",
    "print(t[0])                             # 10\n",
    "print(t[-2])                            # True"
   ]
  },
  {
   "cell_type": "markdown",
   "id": "a3e5f41e-c896-487e-bf75-1844ddb17e8b",
   "metadata": {},
   "source": [
    "# Slicing using slice operator ( : )"
   ]
  },
  {
   "cell_type": "code",
   "execution_count": 4,
   "id": "9391c6f3-443a-4cfe-b8b8-182193cf2ba6",
   "metadata": {},
   "outputs": [
    {
     "name": "stdout",
     "output_type": "stream",
     "text": [
      "(10.5, 'durga')\n"
     ]
    }
   ],
   "source": [
    "t = ( 10, 10.5, 'durga', True, 10 )\n",
    "print(t[1:3])                            # ( 10.5, 'durga' )"
   ]
  },
  {
   "cell_type": "markdown",
   "id": "4e013b48-489f-4bb8-a7fd-4d12035fc4a9",
   "metadata": {},
   "source": [
    "# Immutability"
   ]
  },
  {
   "cell_type": "code",
   "execution_count": 6,
   "id": "661d73a9-6b53-40f8-b2e4-0139e3454387",
   "metadata": {},
   "outputs": [
    {
     "ename": "TypeError",
     "evalue": "'tuple' object does not support item assignment",
     "output_type": "error",
     "traceback": [
      "\u001b[1;31m---------------------------------------------------------------------------\u001b[0m",
      "\u001b[1;31mTypeError\u001b[0m                                 Traceback (most recent call last)",
      "Cell \u001b[1;32mIn[6], line 3\u001b[0m\n\u001b[0;32m      1\u001b[0m t \u001b[38;5;241m=\u001b[39m ( \u001b[38;5;241m10\u001b[39m, \u001b[38;5;241m10.5\u001b[39m, \u001b[38;5;124m'\u001b[39m\u001b[38;5;124mdurga\u001b[39m\u001b[38;5;124m'\u001b[39m, \u001b[38;5;28;01mTrue\u001b[39;00m, \u001b[38;5;241m10\u001b[39m )\n\u001b[1;32m----> 3\u001b[0m \u001b[43mt\u001b[49m\u001b[43m[\u001b[49m\u001b[38;5;241;43m0\u001b[39;49m\u001b[43m]\u001b[49m\u001b[38;5;241m=\u001b[39m\u001b[38;5;241m100\u001b[39m              \u001b[38;5;66;03m# TypeError: 'tuple' object does not support item assignment\u001b[39;00m\n",
      "\u001b[1;31mTypeError\u001b[0m: 'tuple' object does not support item assignment"
     ]
    }
   ],
   "source": [
    "t = ( 10, 10.5, 'durga', True, 10 )\n",
    "\n",
    "t[0]=100              # TypeError: 'tuple' object does not support item assignment"
   ]
  },
  {
   "cell_type": "code",
   "execution_count": 7,
   "id": "e32f0046-c7fa-4dde-8b67-8ec071814f64",
   "metadata": {},
   "outputs": [
    {
     "ename": "AttributeError",
     "evalue": "'tuple' object has no attribute 'append'",
     "output_type": "error",
     "traceback": [
      "\u001b[1;31m---------------------------------------------------------------------------\u001b[0m",
      "\u001b[1;31mAttributeError\u001b[0m                            Traceback (most recent call last)",
      "Cell \u001b[1;32mIn[7], line 1\u001b[0m\n\u001b[1;32m----> 1\u001b[0m \u001b[43mt\u001b[49m\u001b[38;5;241;43m.\u001b[39;49m\u001b[43mappend\u001b[49m(\u001b[38;5;124m\"\u001b[39m\u001b[38;5;124mdurga\u001b[39m\u001b[38;5;124m\"\u001b[39m)     \u001b[38;5;66;03m# AttributeError: 'tuple' object has no attribute 'append'\u001b[39;00m\n",
      "\u001b[1;31mAttributeError\u001b[0m: 'tuple' object has no attribute 'append'"
     ]
    }
   ],
   "source": [
    "t.append(\"durga\")     # AttributeError: 'tuple' object has no attribute 'append'"
   ]
  },
  {
   "cell_type": "code",
   "execution_count": 8,
   "id": "22404a01-95bd-4087-8efb-399749a32d3f",
   "metadata": {},
   "outputs": [
    {
     "ename": "AttributeError",
     "evalue": "'tuple' object has no attribute 'remove'",
     "output_type": "error",
     "traceback": [
      "\u001b[1;31m---------------------------------------------------------------------------\u001b[0m",
      "\u001b[1;31mAttributeError\u001b[0m                            Traceback (most recent call last)",
      "Cell \u001b[1;32mIn[8], line 1\u001b[0m\n\u001b[1;32m----> 1\u001b[0m \u001b[43mt\u001b[49m\u001b[38;5;241;43m.\u001b[39;49m\u001b[43mremove\u001b[49m(\u001b[38;5;241m10\u001b[39m)          \u001b[38;5;66;03m# AttributeError: 'tuple' object has no attribute 'remove'\u001b[39;00m\n",
      "\u001b[1;31mAttributeError\u001b[0m: 'tuple' object has no attribute 'remove'"
     ]
    }
   ],
   "source": [
    "t.remove(10)          # AttributeError: 'tuple' object has no attribute 'remove'"
   ]
  },
  {
   "cell_type": "markdown",
   "id": "5f54f475-cdb0-4197-ac6e-a137e36dbb1d",
   "metadata": {},
   "source": [
    "# Special Case"
   ]
  },
  {
   "cell_type": "markdown",
   "id": "c4269919-f20a-4240-a395-e07cd3d99533",
   "metadata": {},
   "source": [
    "A single number value within parenthesis like **(10)** - is treated as **int**, not as a **tuple**."
   ]
  },
  {
   "cell_type": "code",
   "execution_count": 9,
   "id": "73e7e5c5-328f-410d-a970-d7c0f0f2f020",
   "metadata": {},
   "outputs": [
    {
     "name": "stdout",
     "output_type": "stream",
     "text": [
      "<class 'tuple'>\n",
      "<class 'int'>\n"
     ]
    }
   ],
   "source": [
    "t = ()\n",
    "print(type(t))      # <class 'tuple'>\n",
    "\n",
    "t = (10)\n",
    "print(type(t))      # <class 'int'>"
   ]
  },
  {
   "cell_type": "markdown",
   "id": "65fdf49f-9127-4e22-bb9c-3797dfe45612",
   "metadata": {},
   "source": [
    "**How to specify a single-valued tuple?**\n",
    "\n",
    "Add a comma at the end of the number. This is also called ***Single valued Tuple***.\n",
    "\n",
    "***Single-valued Tuple*** should compulsory ends with a comma."
   ]
  },
  {
   "cell_type": "code",
   "execution_count": 10,
   "id": "6c029131-2b0a-4f0b-a897-39207ff526c0",
   "metadata": {},
   "outputs": [
    {
     "name": "stdout",
     "output_type": "stream",
     "text": [
      "<class 'tuple'>\n"
     ]
    }
   ],
   "source": [
    "t = (10,)\n",
    "print(type(t))      # <class 'tuple'>"
   ]
  },
  {
   "cell_type": "markdown",
   "id": "8271c3a5-55d8-410e-976a-f8091f0d1e6e",
   "metadata": {},
   "source": [
    "# Iterating tuple object"
   ]
  },
  {
   "cell_type": "code",
   "execution_count": 11,
   "id": "edc1793a-ecdc-47ec-a194-d0f80520733b",
   "metadata": {},
   "outputs": [
    {
     "name": "stdout",
     "output_type": "stream",
     "text": [
      "10\n",
      "10.5\n",
      "durga\n",
      "True\n",
      "10\n"
     ]
    }
   ],
   "source": [
    "t = ( 10, 10.5, 'durga', True, 10 )\n",
    "for i in t:\n",
    "  print(i)"
   ]
  },
  {
   "cell_type": "markdown",
   "id": "6594a66d-5ca4-468d-b95b-724e7c8285ff",
   "metadata": {},
   "source": [
    "# Tuple vs. List"
   ]
  },
  {
   "attachments": {
    "a6d03855-90b4-4518-9dfe-7f8072d615d7.png": {
     "image/png": "[encoded data removed]"
    }
   },
   "cell_type": "markdown",
   "id": "385ca2db-07fb-4a6d-8ef5-198191502cb0",
   "metadata": {},
   "source": [
    "![image.png](attachment:a6d03855-90b4-4518-9dfe-7f8072d615d7.png)"
   ]
  },
  {
   "cell_type": "code",
   "execution_count": null,
   "id": "273f84ec-66b1-4383-94ce-4042c2077feb",
   "metadata": {},
   "outputs": [],
   "source": []
  }
 ],
 "metadata": {
  "kernelspec": {
   "display_name": "Python 3 (ipykernel)",
   "language": "python",
   "name": "python3"
  },
  "language_info": {
   "codemirror_mode": {
    "name": "ipython",
    "version": 3
   },
   "file_extension": ".py",
   "mimetype": "text/x-python",
   "name": "python",
   "nbconvert_exporter": "python",
   "pygments_lexer": "ipython3",
   "version": "3.12.5"
  }
 },
 "nbformat": 4,
 "nbformat_minor": 5
}
