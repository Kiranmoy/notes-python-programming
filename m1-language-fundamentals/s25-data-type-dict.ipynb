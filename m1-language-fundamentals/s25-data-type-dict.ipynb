{
 "cells": [
  {
   "cell_type": "markdown",
   "id": "3cfffa20-841c-4021-a36d-7072f1a33efe",
   "metadata": {},
   "source": [
    "If we want to represent a group of values as **key-value pairs** then we should go for **dict** data type."
   ]
  },
  {
   "cell_type": "markdown",
   "id": "b63f6849-d8da-488a-8d64-b1995bb6ba12",
   "metadata": {},
   "source": [
    "# Dictionary properties"
   ]
  },
  {
   "cell_type": "markdown",
   "id": "36dcaceb-d969-4b9e-9e81-ad193c07eae6",
   "metadata": {},
   "source": [
    "* Insertion order is not preserved.  \\[ Hence **Indexing & slicing** concept is not applicable \\]\n",
    "* **Duplicate keys are not allowed** but **values can be duplicated**. \n",
    "* If we are trying to insert an entry with the duplicate key then the old value will be replaced with the new value.\n",
    "* Heterogeneous objects are allowed\n",
    "* **Growable** in nature \\[ **i.e.** based on our requirement we can increase or decrease the size \\]\n",
    "* **Mutable** in nature \\[ **i.e.** once we created a dict, we can modify the existing dict object \\]\n",
    "* Values should be enclosed within curly braces **{ }**."
   ]
  },
  {
   "cell_type": "code",
   "execution_count": 2,
   "id": "e4bd2783-8bc5-45ea-824d-0131198c9f20",
   "metadata": {},
   "outputs": [
    {
     "name": "stdout",
     "output_type": "stream",
     "text": [
      "<class 'dict'>\n",
      "{101: 'durga', 102: 'ravi', 103: 'shiva'}\n"
     ]
    }
   ],
   "source": [
    "\n",
    "# Duplicates are not allowed\n",
    "# Insertion order not preserved\n",
    "# Heterogenoues objects allowed\n",
    "d = { \n",
    "  101:'durga',\n",
    "  102:'ravi',\n",
    "  103:'shiva'\n",
    "}\n",
    " \n",
    "print(type(d))                     # <class 'dict'>\n",
    "print(d)                           # { 101:'durga', 102:'ravi', 103:'shiva' }"
   ]
  },
  {
   "cell_type": "markdown",
   "id": "5e7cbd71-584e-446a-968b-3668b1b97461",
   "metadata": {},
   "source": [
    "# Accessing Dictionary items"
   ]
  },
  {
   "cell_type": "code",
   "execution_count": 3,
   "id": "741b89a1-eced-4e45-82b4-8551642db95a",
   "metadata": {},
   "outputs": [
    {
     "name": "stdout",
     "output_type": "stream",
     "text": [
      "durga\n",
      "durga\n",
      "durga\n"
     ]
    }
   ],
   "source": [
    "print(d[101])       # durga\n",
    "print(d[101])       # ravi\n",
    "print(d[101])       # shiva"
   ]
  },
  {
   "cell_type": "markdown",
   "id": "f378be38-ac8e-4c19-88e5-29b83cb74413",
   "metadata": {},
   "source": [
    "# Duplicate keys are not allowed but values can be duplicated."
   ]
  },
  {
   "cell_type": "markdown",
   "id": "82ec8320-9ffe-47ea-809f-0119f84a3f51",
   "metadata": {},
   "source": [
    "If we are trying to insert an entry with the duplicate key, then the old value will be replaced with the new value."
   ]
  },
  {
   "cell_type": "code",
   "execution_count": 5,
   "id": "088cc47c-730a-4afb-a968-3bbd20e36ff1",
   "metadata": {},
   "outputs": [
    {
     "name": "stdout",
     "output_type": "stream",
     "text": [
      "{101: 'kiran', 102: 'ravi', 103: 'shiva'}\n"
     ]
    }
   ],
   "source": [
    "d[101] = 'kiran'\n",
    "print(d)                        # { 101:'kiran', 102:'ravi', 103:'shiva' }"
   ]
  },
  {
   "cell_type": "markdown",
   "id": "9c3bd0eb-45dc-43b5-8bf3-71f52685bd83",
   "metadata": {},
   "source": [
    "# Growablity & Mutability"
   ]
  },
  {
   "cell_type": "code",
   "execution_count": 6,
   "id": "0487f36f-2ee7-4e1d-b67f-c3624dfbd4fa",
   "metadata": {},
   "outputs": [
    {
     "name": "stdout",
     "output_type": "stream",
     "text": [
      "<class 'dict'>\n",
      "2012971397888\n",
      "{}\n",
      "2012971397888\n",
      "{101: 'durga', 102: 'ravi', 103: 'shiva'}\n"
     ]
    }
   ],
   "source": [
    "d = { }               # CREATE EMPTY DICTIONARY\n",
    "\n",
    "print(type(d))        # <class 'dict'>\n",
    "print(id(d))          # 2984325345346\n",
    "print(d)              # {}\n",
    "\n",
    "d[101] = 'durga'      # Object Modified\n",
    "d[102] = 'ravi'       # Object Modified\n",
    "d[103] = 'shiva'      # Object Modified\n",
    "\n",
    "print(id(d))       # 2984325345346  (Mutability confirmed)\n",
    "print(d)           # { 101:'durga', 102:'ravi', 103:'shiva' }\n"
   ]
  },
  {
   "cell_type": "code",
   "execution_count": null,
   "id": "229d2201-775a-46be-b6ce-e3755860596d",
   "metadata": {},
   "outputs": [],
   "source": []
  }
 ],
 "metadata": {
  "kernelspec": {
   "display_name": "Python 3 (ipykernel)",
   "language": "python",
   "name": "python3"
  },
  "language_info": {
   "codemirror_mode": {
    "name": "ipython",
    "version": 3
   },
   "file_extension": ".py",
   "mimetype": "text/x-python",
   "name": "python",
   "nbconvert_exporter": "python",
   "pygments_lexer": "ipython3",
   "version": "3.12.5"
  }
 },
 "nbformat": 4,
 "nbformat_minor": 5
}
