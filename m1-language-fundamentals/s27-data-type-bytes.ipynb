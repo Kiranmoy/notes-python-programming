{
 "cells": [
  {
   "cell_type": "markdown",
   "id": "f8ed9975-4b05-464e-bfce-8a0fb4ecfe8d",
   "metadata": {},
   "source": [
    "# Bytes Overview"
   ]
  },
  {
   "cell_type": "markdown",
   "id": "9894aa0e-f7e2-480c-9c13-fdcf93979385",
   "metadata": {},
   "source": [
    "The **bytes** data type represents a group of byte numbers just like an array.\n",
    "\n",
    "It is useful for handling binary data such as images, videos, etc."
   ]
  },
  {
   "cell_type": "code",
   "execution_count": 2,
   "id": "7be329b4-41cf-4fa1-a6f7-24ca5bdc7dcb",
   "metadata": {},
   "outputs": [
    {
     "name": "stdout",
     "output_type": "stream",
     "text": [
      "<class 'bytes'>\n",
      "10\n",
      "20\n",
      "30\n",
      "40\n"
     ]
    }
   ],
   "source": [
    "l = [ 10, 20, 30, 40 ]\n",
    "b = bytes(l)\n",
    "print(type(b))                      # <class 'bytes'>\n",
    "\n",
    "for i in b: \n",
    "  print(i)"
   ]
  },
  {
   "cell_type": "markdown",
   "id": "126cea38-51fb-4b34-89e7-87f1ce2cc5ad",
   "metadata": {},
   "source": [
    "The only allowed values for byte data type are **0 to 256**. \n",
    "\n",
    "By mistake, if we are trying to provide any other values then we will get a **ValueError**. "
   ]
  },
  {
   "cell_type": "code",
   "execution_count": 3,
   "id": "88a2c78e-7ec8-4bae-b089-5c13d3e41b97",
   "metadata": {},
   "outputs": [
    {
     "ename": "ValueError",
     "evalue": "bytes must be in range(0, 256)",
     "output_type": "error",
     "traceback": [
      "\u001b[1;31m---------------------------------------------------------------------------\u001b[0m",
      "\u001b[1;31mValueError\u001b[0m                                Traceback (most recent call last)",
      "Cell \u001b[1;32mIn[3], line 2\u001b[0m\n\u001b[0;32m      1\u001b[0m l \u001b[38;5;241m=\u001b[39m [ \u001b[38;5;241m10\u001b[39m, \u001b[38;5;241m256\u001b[39m ]\n\u001b[1;32m----> 2\u001b[0m b \u001b[38;5;241m=\u001b[39m \u001b[38;5;28;43mbytes\u001b[39;49m\u001b[43m(\u001b[49m\u001b[43ml\u001b[49m\u001b[43m)\u001b[49m        \u001b[38;5;66;03m# ValueError: bytes must be in range(0, 256) --> 0 to 255\u001b[39;00m\n",
      "\u001b[1;31mValueError\u001b[0m: bytes must be in range(0, 256)"
     ]
    }
   ],
   "source": [
    "l = [ 10, 256 ]\n",
    "b = bytes(l)        # ValueError: bytes must be in range(0, 256) --> 0 to 255"
   ]
  },
  {
   "cell_type": "markdown",
   "id": "7c114420-bda8-41ec-8daf-bd9d0d70cca6",
   "metadata": {},
   "source": [
    "# Indexing & Slicing"
   ]
  },
  {
   "cell_type": "markdown",
   "id": "8ff66cc1-5f0c-4035-837f-e9af0831b83c",
   "metadata": {},
   "source": [
    "We can access elements present in the bytes data type by using an index. "
   ]
  },
  {
   "cell_type": "code",
   "execution_count": 5,
   "id": "cc78e553-872e-4469-a6aa-8c4c61097a0e",
   "metadata": {},
   "outputs": [
    {
     "name": "stdout",
     "output_type": "stream",
     "text": [
      "10\n",
      "40\n",
      "b'\\x14\\x1e('\n"
     ]
    }
   ],
   "source": [
    "l = [ 10, 20, 30, 40 ]\n",
    "b = bytes(l)\n",
    "\n",
    "# Indexing\n",
    "print(b[0])         # 10\n",
    "print(b[-1])        # 40\n",
    "\n",
    "# Slicing\n",
    "slice = b[1:4]      # 20, 30, 40\n",
    "print(slice)"
   ]
  },
  {
   "cell_type": "code",
   "execution_count": 6,
   "id": "92a823cd-a3b4-4ba6-9026-727d2b87466e",
   "metadata": {},
   "outputs": [
    {
     "ename": "IndexError",
     "evalue": "index out of range",
     "output_type": "error",
     "traceback": [
      "\u001b[1;31m---------------------------------------------------------------------------\u001b[0m",
      "\u001b[1;31mIndexError\u001b[0m                                Traceback (most recent call last)",
      "Cell \u001b[1;32mIn[6], line 1\u001b[0m\n\u001b[1;32m----> 1\u001b[0m \u001b[38;5;28mprint\u001b[39m(\u001b[43mb\u001b[49m\u001b[43m[\u001b[49m\u001b[38;5;241;43m15\u001b[39;49m\u001b[43m]\u001b[49m)        \u001b[38;5;66;03m# IndexError: bytes object index out of range\u001b[39;00m\n",
      "\u001b[1;31mIndexError\u001b[0m: index out of range"
     ]
    }
   ],
   "source": [
    "print(b[15])        # IndexError: bytes object index out of range"
   ]
  },
  {
   "cell_type": "markdown",
   "id": "8e120069-6fa6-4e9a-9114-9d099e4f0973",
   "metadata": {},
   "source": [
    "# Immutability"
   ]
  },
  {
   "cell_type": "markdown",
   "id": "887a46d4-c118-49f7-b43e-6298a6e8df46",
   "metadata": {},
   "source": [
    "Bytes object is **immutable**. \n",
    "\n",
    "Once we create a bytes data type value, we cannot change its values, otherwise, we will get **TypeError**. "
   ]
  },
  {
   "cell_type": "code",
   "execution_count": 7,
   "id": "aa87e564-305f-4e45-b80f-c3de731a3c3b",
   "metadata": {},
   "outputs": [
    {
     "ename": "TypeError",
     "evalue": "'bytes' object does not support item assignment",
     "output_type": "error",
     "traceback": [
      "\u001b[1;31m---------------------------------------------------------------------------\u001b[0m",
      "\u001b[1;31mTypeError\u001b[0m                                 Traceback (most recent call last)",
      "Cell \u001b[1;32mIn[7], line 3\u001b[0m\n\u001b[0;32m      1\u001b[0m l \u001b[38;5;241m=\u001b[39m [ \u001b[38;5;241m10\u001b[39m, \u001b[38;5;241m20\u001b[39m, \u001b[38;5;241m30\u001b[39m, \u001b[38;5;241m40\u001b[39m ]\n\u001b[0;32m      2\u001b[0m b \u001b[38;5;241m=\u001b[39m \u001b[38;5;28mbytes\u001b[39m(l)\n\u001b[1;32m----> 3\u001b[0m \u001b[43mb\u001b[49m\u001b[43m[\u001b[49m\u001b[38;5;241;43m0\u001b[39;49m\u001b[43m]\u001b[49m \u001b[38;5;241m=\u001b[39m \u001b[38;5;241m1\u001b[39m         \u001b[38;5;66;03m# TypeError: 'bytes' object does not support item assignment\u001b[39;00m\n",
      "\u001b[1;31mTypeError\u001b[0m: 'bytes' object does not support item assignment"
     ]
    }
   ],
   "source": [
    "l = [ 10, 20, 30, 40 ]\n",
    "b = bytes(l)\n",
    "b[0] = 1         # TypeError: 'bytes' object does not support item assignment"
   ]
  },
  {
   "cell_type": "code",
   "execution_count": null,
   "id": "979c32d2-7aa4-456a-b2ad-59c7de64b28a",
   "metadata": {},
   "outputs": [],
   "source": []
  }
 ],
 "metadata": {
  "kernelspec": {
   "display_name": "Python 3 (ipykernel)",
   "language": "python",
   "name": "python3"
  },
  "language_info": {
   "codemirror_mode": {
    "name": "ipython",
    "version": 3
   },
   "file_extension": ".py",
   "mimetype": "text/x-python",
   "name": "python",
   "nbconvert_exporter": "python",
   "pygments_lexer": "ipython3",
   "version": "3.12.5"
  }
 },
 "nbformat": 4,
 "nbformat_minor": 5
}
