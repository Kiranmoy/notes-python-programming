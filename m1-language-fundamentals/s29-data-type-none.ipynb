{
 "cells": [
  {
   "cell_type": "markdown",
   "id": "50f680b9-1457-41ab-b347-49272ac2d9a0",
   "metadata": {},
   "source": [
    "None means nothing or **No value associated**.\n",
    "\n",
    "If the value is not available, then to handle such types of cases **None** is introduced.\n",
    "\n",
    "It is something like a **null** value in Java."
   ]
  },
  {
   "cell_type": "code",
   "execution_count": 1,
   "id": "506e0924-4e15-49ae-92e6-be5348924c56",
   "metadata": {},
   "outputs": [
    {
     "name": "stdout",
     "output_type": "stream",
     "text": [
      "10\n",
      "None\n"
     ]
    }
   ],
   "source": [
    "\n",
    "# To make an object eligible for garbage-collection (GC)\n",
    "a = 10\n",
    "a = None # de-referencing variable a from object with value 10 and making it eligible for GC\n",
    "\n",
    "# Function returning value 10\n",
    "\n",
    "def m1(): \n",
    "  return 10\n",
    "  \n",
    "print(m1())      # 10\n",
    "\n",
    "# Function returning None\n",
    "\n",
    "def m2(): \n",
    "  a=10\n",
    "  \n",
    "print(m2())      # None\n"
   ]
  },
  {
   "cell_type": "markdown",
   "id": "f6be797f-2879-4930-9de9-0dfe1c854edb",
   "metadata": {},
   "source": [
    "# Internally None is also represented as an object."
   ]
  },
  {
   "cell_type": "code",
   "execution_count": 2,
   "id": "ee8fb168-7fa8-411a-aab3-25ffc792b9ce",
   "metadata": {},
   "outputs": [
    {
     "name": "stdout",
     "output_type": "stream",
     "text": [
      "140707585935408\n",
      "<class 'NoneType'>\n"
     ]
    }
   ],
   "source": [
    "a = None\n",
    "print(id(a))    # 2984325345346  \n",
    "print(type(a))  # <class 'NoneType'>"
   ]
  },
  {
   "cell_type": "markdown",
   "id": "4fe7a872-0d92-4f55-9dff-08615d545bbb",
   "metadata": {},
   "source": [
    "There will always be one **None** object in PVM, and the same object will be shared wherever is required."
   ]
  },
  {
   "cell_type": "code",
   "execution_count": 3,
   "id": "5a25781f-900e-4778-ae26-2b12a4e995eb",
   "metadata": {},
   "outputs": [
    {
     "name": "stdout",
     "output_type": "stream",
     "text": [
      "140707585935408\n",
      "140707585935408\n",
      "140707585935408\n",
      "140707585935408\n"
     ]
    }
   ],
   "source": [
    "a = None\n",
    "b = None\n",
    "c = None\n",
    "\n",
    "def m2(): \n",
    "  a=10\n",
    "\n",
    "d = m2()\n",
    "\n",
    "print(id(a))    # 2984325345346\n",
    "print(id(b))    # 2984325345346\n",
    "print(id(c))    # 2984325345346\n",
    "print(id(d))    # 2984325345346"
   ]
  },
  {
   "cell_type": "code",
   "execution_count": null,
   "id": "adbc445c-efa8-4861-8419-8735284c99ca",
   "metadata": {},
   "outputs": [],
   "source": []
  }
 ],
 "metadata": {
  "kernelspec": {
   "display_name": "Python 3 (ipykernel)",
   "language": "python",
   "name": "python3"
  },
  "language_info": {
   "codemirror_mode": {
    "name": "ipython",
    "version": 3
   },
   "file_extension": ".py",
   "mimetype": "text/x-python",
   "name": "python",
   "nbconvert_exporter": "python",
   "pygments_lexer": "ipython3",
   "version": "3.12.5"
  }
 },
 "nbformat": 4,
 "nbformat_minor": 5
}
