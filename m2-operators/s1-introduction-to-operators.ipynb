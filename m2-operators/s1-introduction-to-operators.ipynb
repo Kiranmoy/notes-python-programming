{
 "cells": [
  {
   "cell_type": "markdown",
   "id": "7ef17fc8-4395-4dd5-811b-b4a3c513b6bb",
   "metadata": {},
   "source": [
    "Operators are used to perform operations on variables and values.\n",
    "\n",
    "**Examples:**"
   ]
  },
  {
   "cell_type": "code",
   "execution_count": 1,
   "id": "b9b7d894-669c-4bbd-b266-2dea23cef701",
   "metadata": {},
   "outputs": [
    {
     "name": "stdout",
     "output_type": "stream",
     "text": [
      "15\n"
     ]
    }
   ],
   "source": [
    "print(10 + 5)"
   ]
  },
  {
   "cell_type": "markdown",
   "id": "ddb7facf-1f0f-4b04-9896-3f7f417e586e",
   "metadata": {},
   "source": [
    "Python provides the following set of operators:\n",
    "\n",
    "* Arithmetic Operators\n",
    "* Relational Operators\n",
    "* Equality Operators\n",
    "* Logical Operators\n",
    "* Bitwise operator\n",
    "* Shift Operators\n",
    "* Assignment Operators\n",
    "* Ternary Operators\n",
    "* Special Operators: Identity and Membership Operator\n",
    "* Operator Precedence\n",
    "* Mathematical Functions using Math Module"
   ]
  },
  {
   "cell_type": "code",
   "execution_count": null,
   "id": "fdb88971-08be-4fc0-8721-c066ef1be666",
   "metadata": {},
   "outputs": [],
   "source": []
  }
 ],
 "metadata": {
  "kernelspec": {
   "display_name": "Python 3 (ipykernel)",
   "language": "python",
   "name": "python3"
  },
  "language_info": {
   "codemirror_mode": {
    "name": "ipython",
    "version": 3
   },
   "file_extension": ".py",
   "mimetype": "text/x-python",
   "name": "python",
   "nbconvert_exporter": "python",
   "pygments_lexer": "ipython3",
   "version": "3.12.5"
  }
 },
 "nbformat": 4,
 "nbformat_minor": 5
}
