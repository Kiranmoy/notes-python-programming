{
 "cells": [
  {
   "cell_type": "markdown",
   "id": "6e469dbd-977d-4920-b7e4-9feeffcd713c",
   "metadata": {},
   "source": [
    "# Ternary Operator"
   ]
  },
  {
   "cell_type": "markdown",
   "id": "d905ff4e-d0e2-4af6-9e0d-c4b4fea9d688",
   "metadata": {},
   "source": [
    "* **Unary Operator** - requires one operand.\n",
    "* **Binary Operator** - requires two operands.\n",
    "* **Ternary Operator** - requires three operands."
   ]
  },
  {
   "cell_type": "markdown",
   "id": "c6da9907-6d86-40fc-8f0a-666f8bacac98",
   "metadata": {},
   "source": [
    "**SYNTAX:**\n",
    "\n",
    "**x** = firstValue **if condition else** secondValue \n",
    "\n",
    "If condition is True then firstValue will be considered else secondValue will be considered. "
   ]
  },
  {
   "cell_type": "code",
   "execution_count": 2,
   "id": "654880aa-b2b6-43f7-852b-4bf302ea6d9c",
   "metadata": {},
   "outputs": [
    {
     "name": "stdout",
     "output_type": "stream",
     "text": [
      "40\n"
     ]
    }
   ],
   "source": [
    "a = 10\n",
    "b = 20\n",
    "c = 30 if a>b else 40\n",
    "print(c)                # 40 "
   ]
  },
  {
   "cell_type": "markdown",
   "id": "74263087-6e97-4f4e-b434-b943f5249c68",
   "metadata": {},
   "source": [
    "# Program to read 3 numbers as input and print a minimum of 3 numbers "
   ]
  },
  {
   "cell_type": "code",
   "execution_count": 3,
   "id": "56d8b429-f003-4d1f-9653-746eed1ab911",
   "metadata": {},
   "outputs": [
    {
     "name": "stdin",
     "output_type": "stream",
     "text": [
      "Enter First Number: 1\n",
      "Enter Second Number: 2\n",
      "Enter Third Number: 3\n"
     ]
    },
    {
     "name": "stdout",
     "output_type": "stream",
     "text": [
      "Minimum Value: 1\n"
     ]
    }
   ],
   "source": [
    "a = int(input(\"Enter First Number:\"))\n",
    "b = int(input(\"Enter Second Number:\"))\n",
    "c = int(input(\"Enter Third Number:\"))\n",
    "\n",
    "min = a if a<b and a<c else b if b<c else c\n",
    "print(\"Minimum Value:\",min)"
   ]
  },
  {
   "cell_type": "code",
   "execution_count": null,
   "id": "1c8b53c0-b477-41d4-b99c-8485843085e8",
   "metadata": {},
   "outputs": [],
   "source": []
  }
 ],
 "metadata": {
  "kernelspec": {
   "display_name": "Python 3 (ipykernel)",
   "language": "python",
   "name": "python3"
  },
  "language_info": {
   "codemirror_mode": {
    "name": "ipython",
    "version": 3
   },
   "file_extension": ".py",
   "mimetype": "text/x-python",
   "name": "python",
   "nbconvert_exporter": "python",
   "pygments_lexer": "ipython3",
   "version": "3.12.5"
  }
 },
 "nbformat": 4,
 "nbformat_minor": 5
}
