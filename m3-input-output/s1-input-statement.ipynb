{
 "cells": [
  {
   "cell_type": "markdown",
   "id": "3da90625-c168-4f2c-836f-c800582e99dd",
   "metadata": {},
   "source": [
    "# The input( ) function"
   ]
  },
  {
   "cell_type": "markdown",
   "id": "3f005a1d-31e3-4b34-b2c4-18e1485f73e5",
   "metadata": {},
   "source": [
    "The **input()** function always reads the data from the keyboard in the form of a String Format. \n",
    "\n",
    "We have to convert that string type to our required type by using the corresponding type-casting methods."
   ]
  },
  {
   "cell_type": "markdown",
   "id": "9256aeab-086b-49fb-977f-e6e057146cfc",
   "metadata": {},
   "source": [
    "**Write a program to read 2 numbers from the keyboard and print sum?**"
   ]
  },
  {
   "cell_type": "code",
   "execution_count": 1,
   "id": "3f9dc5dd-cba5-4ff3-82cf-987d945be5af",
   "metadata": {},
   "outputs": [
    {
     "name": "stdin",
     "output_type": "stream",
     "text": [
      "Enter First Number: 1\n",
      "Enter Second Number: 2\n"
     ]
    },
    {
     "name": "stdout",
     "output_type": "stream",
     "text": [
      "The Sum: 3\n"
     ]
    }
   ],
   "source": [
    "x = input(\"Enter First Number:\")\n",
    "y = input(\"Enter Second Number:\")\n",
    "i = int(x)\n",
    "j = int(y)\n",
    "print(\"The Sum:\",i+j)"
   ]
  },
  {
   "cell_type": "markdown",
   "id": "68b955c5-93a3-4ad0-80af-37eb02bf120d",
   "metadata": {},
   "source": [
    "**Write a Program to read Employee Data from the Keyboard andprint that Data.**"
   ]
  },
  {
   "cell_type": "code",
   "execution_count": 3,
   "id": "fae4102f-ba56-440c-ad96-01539bd0bdc5",
   "metadata": {},
   "outputs": [
    {
     "name": "stdin",
     "output_type": "stream",
     "text": [
      "Enter Employee No: 592118\n",
      "Enter Employee Name: Kiran\n",
      "Enter Employee Salary: 1000\n",
      "Enter Employee Address: Balurghat\n",
      "Employee Married ?[True|False]: False\n"
     ]
    },
    {
     "name": "stdout",
     "output_type": "stream",
     "text": [
      "Please Confirm Information\n",
      "Employee No : 592118\n",
      "Employee Name : Kiran\n",
      "Employee Salary : 1000.0\n",
      "Employee Address : Balurghat\n",
      "Employee Married ? : True\n"
     ]
    }
   ],
   "source": [
    "eno = int(input(\"Enter Employee No:\"))\n",
    "ename = input(\"Enter Employee Name:\")\n",
    "esal = float(input(\"Enter Employee Salary:\"))\n",
    "eaddr = input(\"Enter Employee Address:\")\n",
    "married = bool(input(\"Employee Married ?[True|False]:\"))\n",
    "\n",
    "print(\"Please Confirm Information\")\n",
    "print(\"Employee No :\",eno)\n",
    "print(\"Employee Name :\",ename)\n",
    "print(\"Employee Salary :\",esal)\n",
    "print(\"Employee Address :\",eaddr)\n",
    "print(\"Employee Married ? :\",married)"
   ]
  },
  {
   "cell_type": "markdown",
   "id": "ebfb2195-e9b9-4dc7-bec7-48155dd79b94",
   "metadata": {},
   "source": [
    ">**NOTE:**\n",
    ">\n",
    "> married will always be **\"True\"**.\n",
    ">\n",
    "> Because when we provide the input as **False**, it is evaluated as below:\n",
    ">\n",
    "> married = bool(\"False\")   # bool ( non-empty string )\n",
    ">\n",
    "> married = True\n",
    ">\n",
    "> Because bool ( non-empty string ) is always **True**."
   ]
  },
  {
   "cell_type": "markdown",
   "id": "daaaae10-9c35-4662-8a08-c6eeb892ec3b",
   "metadata": {},
   "source": [
    "> **SOLUTION:**\n",
    ">\n",
    "> Instead of bool, use **eval( )** function.\n",
    ">\n",
    "> `married = eval ( input (\"Employee Married ? [True|False]:\") )`"
   ]
  },
  {
   "cell_type": "markdown",
   "id": "a4ab80fb-fbfd-4e53-913e-e2fc8bbb6555",
   "metadata": {},
   "source": [
    "# Reading multiple values in a single line"
   ]
  },
  {
   "cell_type": "code",
   "execution_count": 6,
   "id": "be1d8a7f-1d76-4921-b1af-ccf576458376",
   "metadata": {},
   "outputs": [
    {
     "name": "stdin",
     "output_type": "stream",
     "text": [
      "Enter 2 numbers : 1 2\n"
     ]
    },
    {
     "name": "stdout",
     "output_type": "stream",
     "text": [
      "Product is : 2\n"
     ]
    }
   ],
   "source": [
    "# LIST COMPREHENSION\n",
    "\n",
    "a,b= [ int(x) for x in input(\"Enter 2 numbers :\").split() ]   # LIST UNPACKING\n",
    "print(\"Product is :\", a*b)\n",
    "\n",
    "# OUTPUT\n",
    "# Enter 2 numbers :10 20\n",
    "# Product is : 200"
   ]
  },
  {
   "cell_type": "markdown",
   "id": "b7f75808-2a8d-4976-88ef-782bfdbac181",
   "metadata": {},
   "source": [
    "> **Note:** \n",
    ">\n",
    "> **split( )** function can take space as seperator by default.\n",
    ">\n",
    "> But we can passanything as seperator."
   ]
  },
  {
   "cell_type": "code",
   "execution_count": 7,
   "id": "fd4a4fcd-87a3-47e3-8910-e7cfeb7a9784",
   "metadata": {},
   "outputs": [
    {
     "name": "stdin",
     "output_type": "stream",
     "text": [
      "Enter 3 float numbers : 10.5,20.6,20.1\n"
     ]
    },
    {
     "name": "stdout",
     "output_type": "stream",
     "text": [
      "The Sum is : 51.2\n"
     ]
    }
   ],
   "source": [
    "# LIST COMPREHENSION\n",
    "\n",
    "a,b,c= [float(x) for x in input(\"Enter 3 float numbers :\").split(',')]    # LIST UNPACKING\n",
    "print(\"The Sum is :\", a+b+c)\n",
    "\n",
    "# OUTPUT\n",
    "# Enter 3 float numbers :10.5,20.6,20.1\n",
    "# The Sum is : 51.2"
   ]
  },
  {
   "cell_type": "markdown",
   "id": "d64ba765-d19f-4a3d-a72f-a44e41c429d0",
   "metadata": {},
   "source": [
    "# eval( ) function - Replacement of all Typecasting Functions"
   ]
  },
  {
   "cell_type": "markdown",
   "id": "f6bd4ed4-3978-4df0-90ed-143b8c9c175f",
   "metadata": {},
   "source": [
    "The **eval( )** function takes a string and evaluates the result. \n",
    "\n",
    "That is, **eval()** can evaluate the Input to **list**, **tuple**, **set**, etc based on the provided Input. "
   ]
  },
  {
   "cell_type": "markdown",
   "id": "a5e740c9-55a4-46fa-ba16-8e488a10cbca",
   "metadata": {},
   "source": [
    "```\n",
    "x = eval(input(“Enter Expression”))\n",
    "print(type(x))\n",
    "print(x)\n",
    " \n",
    "# OUTPUT\n",
    "# Enter Expression: 10\n",
    "# <class 'int'>\n",
    "# 10\n",
    "\n",
    "# OUTPUT\n",
    "# Enter Expression: 10.5\n",
    "# <class 'float'>\n",
    "# 10.5\n",
    "\n",
    "# OUTPUT\n",
    "# Enter Expression: false\n",
    "# <class 'bool'>\n",
    "# false\n",
    "\n",
    "# OUTPUT\n",
    "# Enter Expression: 10+2*3/4\n",
    "# <class 'float'>\n",
    "# 11.5\n",
    "\n",
    "# OUTPUT\n",
    "# Enter Expression: [10,20,30]\n",
    "# <class 'list'>\n",
    "# [10,20,30]\n",
    "\n",
    "\n",
    "```"
   ]
  },
  {
   "cell_type": "code",
   "execution_count": null,
   "id": "4e3e4923-f9c5-4a1a-a7a1-b32a127f5484",
   "metadata": {},
   "outputs": [],
   "source": []
  }
 ],
 "metadata": {
  "kernelspec": {
   "display_name": "Python 3 (ipykernel)",
   "language": "python",
   "name": "python3"
  },
  "language_info": {
   "codemirror_mode": {
    "name": "ipython",
    "version": 3
   },
   "file_extension": ".py",
   "mimetype": "text/x-python",
   "name": "python",
   "nbconvert_exporter": "python",
   "pygments_lexer": "ipython3",
   "version": "3.12.5"
  }
 },
 "nbformat": 4,
 "nbformat_minor": 5
}
