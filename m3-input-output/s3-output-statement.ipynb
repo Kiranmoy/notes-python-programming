{
 "cells": [
  {
   "cell_type": "markdown",
   "id": "ebd4e63d-25d3-444d-be3c-6a18ff130113",
   "metadata": {},
   "source": [
    "# print( ) function"
   ]
  },
  {
   "cell_type": "markdown",
   "id": "0579b58a-97a1-46c6-8fa3-f5274f2a7a01",
   "metadata": {},
   "source": [
    "We can use the **print( )** function to display output. \n",
    "\n",
    "The **print( )** function prints the specified message to the screen or any other standard output device. \n",
    "\n",
    "The message can be a string or any other object. \n",
    "\n",
    "The object will be converted to a string before being written to the screen. \n",
    "\n",
    "The simplest way to produce output is using the **print( )** function where you can pass zero or more expressions separated by commas. \n",
    "\n",
    "This function converts the expressions you pass into a string before writing to the screen."
   ]
  },
  {
   "cell_type": "code",
   "execution_count": 1,
   "id": "6205efc4-46c9-47b9-8515-577655e7b173",
   "metadata": {},
   "outputs": [
    {
     "name": "stdout",
     "output_type": "stream",
     "text": [
      "Hello\n",
      "Hello  World\n"
     ]
    }
   ],
   "source": [
    "# SYNTAX: print( objects, sep=separator, end=end, file=file, flush=flush)\n",
    "\n",
    "print(\"Hello\") # Hello\n",
    "print(\"Hello \", \"World\")  # Hello world"
   ]
  },
  {
   "cell_type": "markdown",
   "id": "f78c74d3-88d5-4537-b365-cca223dbc023",
   "metadata": {},
   "source": [
    "# Form-1: print() without any argument"
   ]
  },
  {
   "cell_type": "markdown",
   "id": "b20be53c-a456-4b85-97bd-e2ae53aa0837",
   "metadata": {},
   "source": [
    "The **print( )** without any argument prints a newline character."
   ]
  },
  {
   "cell_type": "code",
   "execution_count": 2,
   "id": "7388c8e6-47ca-406b-bcfd-defc838e4c66",
   "metadata": {},
   "outputs": [
    {
     "name": "stdout",
     "output_type": "stream",
     "text": [
      "Kiranmoy\n",
      "\n",
      "Paul\n"
     ]
    }
   ],
   "source": [
    "print(\"Kiranmoy\")\n",
    "print()\n",
    "print(\"Paul\")"
   ]
  },
  {
   "cell_type": "code",
   "execution_count": 3,
   "id": "3c12b2ec-4789-447e-90d9-73a7d6e38e9a",
   "metadata": {},
   "outputs": [
    {
     "name": "stdout",
     "output_type": "stream",
     "text": [
      "Name: {name}\n",
      "Street: {street}\n",
      "Postcode: {postcode}\n",
      "Country: United Kingdom\n"
     ]
    }
   ],
   "source": [
    "print(\"\"\"Name: {name}\n",
    "Street: {street}\n",
    "Postcode: {postcode}\n",
    "Country: United Kingdom\"\"\")"
   ]
  },
  {
   "cell_type": "markdown",
   "id": "6be39549-8569-41f3-8dc9-ef7b684432b3",
   "metadata": {},
   "source": [
    "# Form-2:  print( string-arg )"
   ]
  },
  {
   "cell_type": "code",
   "execution_count": 4,
   "id": "5f4c3c2b-4e5d-43fd-b82a-f9ad98a64362",
   "metadata": {},
   "outputs": [
    {
     "name": "stdout",
     "output_type": "stream",
     "text": [
      "Hello World\n",
      "Hello \n",
      " World\n",
      "Hello\tWorld\n",
      "HelloHelloHelloHelloHelloHelloHelloHelloHelloHello\n",
      "HelloHelloHelloHelloHelloHelloHelloHelloHelloHello\n",
      "HelloWorld\n"
     ]
    }
   ],
   "source": [
    "print(\"Hello World\")\n",
    "\n",
    "# We can use escape characters also\n",
    "print(\"Hello \\n World\")\n",
    "print(\"Hello\\tWorld\")\n",
    "\n",
    "# We can use repetetion operator (*) in the string\n",
    "print(10*\"Hello\")\n",
    "print(\"Hello\"*10)\n",
    "\n",
    "# We can use + operator also\n",
    "print(\"Hello\"+\"World\")"
   ]
  },
  {
   "cell_type": "markdown",
   "id": "822ef4e9-2bc7-452a-aec3-cbe18410db5e",
   "metadata": {},
   "source": [
    "> **Note: + operator behavior**\n",
    ">\n",
    "> * If both arguments are String type then + operator acts as concatenation operator.\n",
    "> * If one argument is string type and second is any other type like int then we will get Error.\n",
    "> * If both arguments are number type then + operator acts as arithmetic addition operator. "
   ]
  },
  {
   "cell_type": "code",
   "execution_count": 5,
   "id": "fa6ce9f9-d3f4-49a2-84c8-9f2529d635bc",
   "metadata": {},
   "outputs": [
    {
     "name": "stdout",
     "output_type": "stream",
     "text": [
      "HelloWorld\n",
      "Hello World\n"
     ]
    }
   ],
   "source": [
    "print(\"Hello\"+\"World\")      # HelloWorld\n",
    "print(\"Hello\",\"World\")      # Hello World"
   ]
  },
  {
   "cell_type": "markdown",
   "id": "6debad23-e3e9-465b-818d-29c0b79c7de5",
   "metadata": {},
   "source": [
    "# Form-3: print( ) with a variable number of arguments and sep attribute"
   ]
  },
  {
   "cell_type": "markdown",
   "id": "37930e62-b06e-4be4-b585-3ce81a797e66",
   "metadata": {},
   "source": [
    "The separator between the arguments to the **print( )** function in python is space by default (soft space feature), which can be modified and can be made to any **character**, **integer**, or **string** as per our choice.\n",
    "\n",
    "The **‘sep’** parameter is used to achieve the same, it is found only in python **3.X** or later. \n",
    "\n",
    "It is also used for formatting the output string."
   ]
  },
  {
   "cell_type": "code",
   "execution_count": 6,
   "id": "6c19a233-1bda-4896-b625-8882fea0e9cc",
   "metadata": {},
   "outputs": [
    {
     "name": "stdout",
     "output_type": "stream",
     "text": [
      "The Values are : 10 20 30\n"
     ]
    }
   ],
   "source": [
    "a,b,c=10,20,30\n",
    "print(\"The Values are :\",a,b,c)   # The Values are : 10 20 30"
   ]
  },
  {
   "cell_type": "markdown",
   "id": "209ca6bf-a1f2-4bd1-9b24-556f5f7baff3",
   "metadata": {},
   "source": [
    "> By ***default output values*** are separated by ***space***.\n",
    ">\n",
    "> If we want we can specify separator by using the ***\"sep\"*** attribute."
   ]
  },
  {
   "cell_type": "code",
   "execution_count": 7,
   "id": "b1d704ef-b5d5-45e6-a62c-a7f40a9e5399",
   "metadata": {},
   "outputs": [
    {
     "name": "stdout",
     "output_type": "stream",
     "text": [
      "10,20,30\n",
      "10:20:30\n",
      "01-01-2023\n"
     ]
    }
   ],
   "source": [
    "a,b,c=10,20,30\n",
    "print(a,b,c,sep=',')                # 10,20,30\n",
    "print(a,b,c,sep=':')                # 10:20:30\n",
    "print('01','01','2023', sep='-')    # 01-01-2023"
   ]
  },
  {
   "cell_type": "markdown",
   "id": "b61e5a11-504f-49f0-9298-00a5d97c8e30",
   "metadata": {},
   "source": [
    "# Form-4: print( ) with end attribute"
   ]
  },
  {
   "cell_type": "markdown",
   "id": "428bf5b2-22b3-4898-a2c6-70fce3028cc1",
   "metadata": {},
   "source": [
    "By default, python’s **print( )** function ends with a newline character (**\\n**). \n",
    "\n",
    "**How can we print without a newline character (\\n)?**\n",
    "\n",
    "The **print( )** function comes with a parameter called **‘end’**.\n",
    "\n",
    "By default, the value of this parameter is **‘\\n’**, that is, the newline character. \n",
    "\n",
    "You can end a print statement with any character/string using this parameter."
   ]
  },
  {
   "cell_type": "code",
   "execution_count": 8,
   "id": "d79a627e-506c-49cd-9dcd-bbe52b4de55b",
   "metadata": {},
   "outputs": [
    {
     "name": "stdout",
     "output_type": "stream",
     "text": [
      "Hello\n",
      "Durga\n",
      "Soft\n"
     ]
    }
   ],
   "source": [
    "print(\"Hello\")\n",
    "print(\"Durga\")\n",
    "print(\"Soft\")\n",
    "\n",
    "# OUTPUT\n",
    "# Hello\n",
    "# Durga\n",
    "# Soft"
   ]
  },
  {
   "cell_type": "markdown",
   "id": "f55b8e3e-fa60-4e47-bb73-35c7382c054d",
   "metadata": {},
   "source": [
    "> ***Note**: The default value for end attribute is \\n, which is nothing but new line character.* "
   ]
  },
  {
   "cell_type": "markdown",
   "id": "28b572e4-98cb-46e6-8fb6-59c56c77242d",
   "metadata": {},
   "source": [
    "If we want to output in the same line with space, use **end=' '**"
   ]
  },
  {
   "cell_type": "code",
   "execution_count": 9,
   "id": "69ca34df-ee31-4f6f-93f9-38d200291324",
   "metadata": {},
   "outputs": [
    {
     "name": "stdout",
     "output_type": "stream",
     "text": [
      "Hello Durga Soft\n",
      "Hello|Durga|Soft\n"
     ]
    }
   ],
   "source": [
    "print(\"Hello\",end=' ')\n",
    "print(\"Durga\",end=' ')\n",
    "print(\"Soft\")\n",
    "\n",
    "# OUTPUT\n",
    "# Hello Durga Soft\n",
    "\n",
    "\n",
    "print(\"Hello\",end='|')\n",
    "print(\"Durga\",end='|')\n",
    "print(\"Soft\")\n",
    "\n",
    "# OUTPUT\n",
    "# Hello|Durga|Soft"
   ]
  },
  {
   "cell_type": "markdown",
   "id": "f7cf92da-0ee0-4c5e-b000-b8300463c46b",
   "metadata": {},
   "source": [
    "# Form-5: print(object) statement"
   ]
  },
  {
   "cell_type": "markdown",
   "id": "f4834c26-ed29-4861-9165-61cd90a9a8ad",
   "metadata": {},
   "source": [
    "We can pass any object (like a list, tuple, set, etc) as an argument to the **print( )** statement.\n",
    "\n",
    "Internally the object will be converted to its string representation and gets printed."
   ]
  },
  {
   "cell_type": "code",
   "execution_count": 10,
   "id": "e402053d-b25a-4aa9-88f5-ce378f08456a",
   "metadata": {},
   "outputs": [
    {
     "name": "stdout",
     "output_type": "stream",
     "text": [
      "[10, 20, 30, 40]\n",
      "(10, 20, 30, 40)\n"
     ]
    }
   ],
   "source": [
    "l = [10,20,30,40]\n",
    "t = (10,20,30,40)\n",
    "print(l)\n",
    "print(t)\n",
    "\n",
    "# OUTPUT\n",
    "# [10,20,30,40]\n",
    "# (10,20,30,40)"
   ]
  },
  {
   "cell_type": "markdown",
   "id": "59771049-6e44-4d25-864c-34331bde6ccd",
   "metadata": {},
   "source": [
    "# Form-6: print( ) statement with replacement operator { }"
   ]
  },
  {
   "cell_type": "code",
   "execution_count": 12,
   "id": "ff864006-514e-4619-81b8-0bf0350ace68",
   "metadata": {},
   "outputs": [
    {
     "name": "stdout",
     "output_type": "stream",
     "text": [
      "Hello Durga your salary is 10000 and Your Friend Sunny is waiting\n",
      "Hello Durga your salary is 10000 and Your Friend Sunny is waiting\n",
      "Hello Durga your salary is 10000 and Your Friend Sunny is waiting\n"
     ]
    }
   ],
   "source": [
    "name = \"Durga\"\n",
    "salary = 10000\n",
    "gf = \"Sunny\"\n",
    "\n",
    "print(\"Hello {} your salary is {} and Your Friend {} is waiting\".format(name,salary,gf))\n",
    "\n",
    "print(\"Hello {0} your salary is {1} and Your Friend {2} is waiting\".format(name,salary,gf))\n",
    "\n",
    "print(\"Hello {x} your salary is {y} and Your Friend {z} is waiting\".format(x=name,y=salary,z=gf))\n"
   ]
  },
  {
   "cell_type": "markdown",
   "id": "36da1586-d235-45d9-bd01-73773c5ee150",
   "metadata": {},
   "source": [
    "# Form-7: print(String, variable list)"
   ]
  },
  {
   "cell_type": "markdown",
   "id": "2781ad13-ebc0-4dba-88b4-9e94442df2e6",
   "metadata": {},
   "source": [
    "We can use **print()** statement with String and any number of arguments. "
   ]
  },
  {
   "cell_type": "code",
   "execution_count": 14,
   "id": "f1619669-af66-4d7b-b16f-c5c31b1667c4",
   "metadata": {},
   "outputs": [
    {
     "name": "stdout",
     "output_type": "stream",
     "text": [
      "Hello Durga Your Age is 48\n",
      "You are teaching Java and Python\n"
     ]
    }
   ],
   "source": [
    "s = \"Durga\"\n",
    "a = 48\n",
    "s1 =\"Java\"\n",
    "s2 =\"Python\"\n",
    "print(\"Hello\",s,\"Your Age is\",a)\n",
    "print(\"You are teaching\",s1,\"and\",s2)\n",
    "\n",
    "# OUTPUT\n",
    "# Hello Durga Your Age is 48\n",
    "# You are teaching java and Python\n"
   ]
  },
  {
   "cell_type": "markdown",
   "id": "d30185ec-92cb-48c8-8a39-88521b5372f2",
   "metadata": {},
   "source": [
    "# Form-8: print (using formatted specifier)"
   ]
  },
  {
   "attachments": {
    "d2fbe66c-4d22-46d9-bfe0-d2dd66e68e16.png": {
     "image/png": "[encoded data removed]"
    }
   },
   "cell_type": "markdown",
   "id": "794fdb9f-1aa3-4e85-b797-d4d87db2b941",
   "metadata": {},
   "source": [
    "![image.png](attachment:d2fbe66c-4d22-46d9-bfe0-d2dd66e68e16.png)"
   ]
  },
  {
   "cell_type": "markdown",
   "id": "f3c6817b-6b06-4d87-bb61-4ec0b11b1b5f",
   "metadata": {},
   "source": [
    "**Example 1**"
   ]
  },
  {
   "cell_type": "code",
   "execution_count": 15,
   "id": "d7187164-2df7-47f1-b43b-5ce1a0857040",
   "metadata": {},
   "outputs": [
    {
     "name": "stdout",
     "output_type": "stream",
     "text": [
      "a value is 10\n",
      "b value is 20 and c value is 30\n"
     ]
    }
   ],
   "source": [
    "a=10\n",
    "b=20\n",
    "c=30\n",
    "print(\"a value is %i\" %a)\n",
    "print(\"b value is %d and c value is %d\" %(b,c))"
   ]
  },
  {
   "cell_type": "markdown",
   "id": "70eccb38-210f-4335-b9b7-542c9999f57a",
   "metadata": {},
   "source": [
    "**Example 2**"
   ]
  },
  {
   "cell_type": "code",
   "execution_count": 16,
   "id": "6cfc64cd-98f4-488a-a2d4-95ce5749a28c",
   "metadata": {},
   "outputs": [
    {
     "name": "stdout",
     "output_type": "stream",
     "text": [
      "Hello Durga ...The List of Items are [10, 20, 30, 40]\n"
     ]
    }
   ],
   "source": [
    "s=\"Durga\"\n",
    "list=[10,20,30,40]\n",
    "print(\"Hello %s ...The List of Items are %s\" %(s,list))"
   ]
  },
  {
   "cell_type": "markdown",
   "id": "806a8191-3bab-426a-8048-b16f1992c39e",
   "metadata": {},
   "source": [
    "**Example 3:** Take a float input and format it in such a way that after decimal only two digit is allowed."
   ]
  },
  {
   "cell_type": "code",
   "execution_count": 17,
   "id": "b23ba774-4b34-41eb-9c36-59c530ee5e3a",
   "metadata": {},
   "outputs": [
    {
     "name": "stdout",
     "output_type": "stream",
     "text": [
      "price = 70.56789\n",
      "price = 70.567890\n",
      "price = 70.57\n"
     ]
    }
   ],
   "source": [
    "price = 70.56789\n",
    "\n",
    "print(\"price = {}\".format(price))   # 70.56789\n",
    "\n",
    "print(\"price = %f\" %price)          # 70.56789\n",
    "\n",
    "print(\"price = %.2f\" %price)        # 70.56"
   ]
  },
  {
   "cell_type": "code",
   "execution_count": null,
   "id": "4768657e-46a1-4087-8070-a525ed8762a9",
   "metadata": {},
   "outputs": [],
   "source": []
  }
 ],
 "metadata": {
  "kernelspec": {
   "display_name": "Python 3 (ipykernel)",
   "language": "python",
   "name": "python3"
  },
  "language_info": {
   "codemirror_mode": {
    "name": "ipython",
    "version": 3
   },
   "file_extension": ".py",
   "mimetype": "text/x-python",
   "name": "python",
   "nbconvert_exporter": "python",
   "pygments_lexer": "ipython3",
   "version": "3.12.5"
  }
 },
 "nbformat": 4,
 "nbformat_minor": 5
}
