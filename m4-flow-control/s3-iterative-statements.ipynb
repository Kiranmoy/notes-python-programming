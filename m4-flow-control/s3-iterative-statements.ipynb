{
 "cells": [
  {
   "cell_type": "markdown",
   "id": "87f61bb1-cc03-414b-a369-fe5715b5592e",
   "metadata": {},
   "source": [
    "# Introduction to loops"
   ]
  },
  {
   "cell_type": "markdown",
   "id": "78e7b686-11b5-4dfb-940f-a52ae34e8e6a",
   "metadata": {},
   "source": [
    "If we want to execute a group of statements multiple times then we should go for Iterative statements.\n",
    "\n",
    "Python supports 2 types of iterative statements:\n",
    "* for loop\n",
    "* while loop"
   ]
  },
  {
   "cell_type": "markdown",
   "id": "4862a00c-93dd-45e0-934d-5a12e3b99c31",
   "metadata": {},
   "source": [
    "A  loop is used for iterating over a sequence (that is either a list, a tuple, a dictionary, a set, or a string)  or other iterable objects. \n",
    "\n",
    "Iterating over a sequence is called **traversal**."
   ]
  },
  {
   "cell_type": "markdown",
   "id": "608ce7f4-c052-4a50-9af6-4cf7c206ce1d",
   "metadata": {},
   "source": [
    "# for loop statement"
   ]
  },
  {
   "cell_type": "markdown",
   "id": "87a5e4ed-0d6a-480e-bd36-a291404c2615",
   "metadata": {},
   "source": [
    "If we want to execute some action for every element present in some sequence ( it may be a string or collection ) then we should use for loop."
   ]
  },
  {
   "cell_type": "markdown",
   "id": "d11fcfdc-3d08-4d47-8261-b93fd52e64a2",
   "metadata": {},
   "source": [
    "**Syntax:**\n",
    "```\n",
    "for x in sequence:\n",
    "    Body\n",
    "```\n",
    "\n",
    "Where a sequence can be a string or any collection.\n",
    "\n",
    "The body will be executed for every element present in the sequence."
   ]
  },
  {
   "cell_type": "markdown",
   "id": "65c62906-c198-4983-b2df-5a01f6625757",
   "metadata": {},
   "source": [
    "**Example 1:** To print characters present in the given string "
   ]
  },
  {
   "cell_type": "code",
   "execution_count": 1,
   "id": "9ff40166-6f14-425d-bbd7-4d8d5b92cfd4",
   "metadata": {},
   "outputs": [
    {
     "name": "stdout",
     "output_type": "stream",
     "text": [
      "S\n",
      "u\n",
      "n\n",
      "n\n",
      "y\n",
      " \n",
      "L\n",
      "e\n",
      "o\n",
      "n\n",
      "e\n"
     ]
    }
   ],
   "source": [
    "s=\"Sunny Leone\"\n",
    "for x in s :\n",
    "  print(x)"
   ]
  },
  {
   "cell_type": "markdown",
   "id": "2247cbb4-7c21-40a1-ba6f-68881c504358",
   "metadata": {},
   "source": [
    "**Example 2:** To print characters present in string index wise"
   ]
  },
  {
   "cell_type": "code",
   "execution_count": 2,
   "id": "f541b1a5-0fe5-45f6-ad8f-960366297b4b",
   "metadata": {},
   "outputs": [
    {
     "name": "stdin",
     "output_type": "stream",
     "text": [
      "Enter some String:  Kiranmoy\n"
     ]
    },
    {
     "name": "stdout",
     "output_type": "stream",
     "text": [
      "The character present at  0 index is : K\n",
      "The character present at  1 index is : i\n",
      "The character present at  2 index is : r\n",
      "The character present at  3 index is : a\n",
      "The character present at  4 index is : n\n",
      "The character present at  5 index is : m\n",
      "The character present at  6 index is : o\n",
      "The character present at  7 index is : y\n"
     ]
    }
   ],
   "source": [
    "s=input(\"Enter some String: \")\n",
    "i=0\n",
    "for x in s :\n",
    "  print(\"The character present at \",i,\"index is :\",x)\n",
    "  i=i+1"
   ]
  },
  {
   "cell_type": "markdown",
   "id": "81cfa904-cb86-4b84-87d1-9d1a98f63fb2",
   "metadata": {},
   "source": [
    "**Example 3:** To print Hello 10 times"
   ]
  },
  {
   "cell_type": "code",
   "execution_count": 3,
   "id": "4d4705db-0edf-405a-a319-d724ddbf67e2",
   "metadata": {},
   "outputs": [
    {
     "name": "stdout",
     "output_type": "stream",
     "text": [
      "Hello\n",
      "Hello\n",
      "Hello\n",
      "Hello\n",
      "Hello\n",
      "Hello\n",
      "Hello\n",
      "Hello\n",
      "Hello\n",
      "Hello\n"
     ]
    }
   ],
   "source": [
    "for x in range(10) :\n",
    "  print(\"Hello\")"
   ]
  },
  {
   "cell_type": "markdown",
   "id": "883397fa-2eb1-4f1f-968b-3baaabcedf28",
   "metadata": {},
   "source": [
    "**Example 4:** To display numbers from 0 to 10"
   ]
  },
  {
   "cell_type": "code",
   "execution_count": 4,
   "id": "b900bd3b-58eb-4658-82f9-856f1be8bf6f",
   "metadata": {},
   "outputs": [
    {
     "name": "stdout",
     "output_type": "stream",
     "text": [
      "0\n",
      "1\n",
      "2\n",
      "3\n",
      "4\n",
      "5\n",
      "6\n",
      "7\n",
      "8\n",
      "9\n",
      "10\n"
     ]
    }
   ],
   "source": [
    "for x in range(11) :\n",
    "  print(x)"
   ]
  },
  {
   "cell_type": "markdown",
   "id": "66146fad-0dd7-46eb-9667-96cbbeffc26b",
   "metadata": {},
   "source": [
    "**Example 5:** To display odd numbers from 0 to 20"
   ]
  },
  {
   "cell_type": "code",
   "execution_count": 5,
   "id": "bf468711-b128-4d5f-a5f5-150c38e3174e",
   "metadata": {},
   "outputs": [
    {
     "name": "stdout",
     "output_type": "stream",
     "text": [
      "1\n",
      "3\n",
      "5\n",
      "7\n",
      "9\n",
      "11\n",
      "13\n",
      "15\n",
      "17\n",
      "19\n"
     ]
    }
   ],
   "source": [
    "for x in range(21) :\n",
    "  if (x%2!=0):\n",
    "    print(x)"
   ]
  },
  {
   "cell_type": "markdown",
   "id": "8249cd4d-05a6-4da4-8d58-df4c7259b275",
   "metadata": {},
   "source": [
    "**Example 6:** To display numbers from 10 to 1 in descending order"
   ]
  },
  {
   "cell_type": "code",
   "execution_count": 6,
   "id": "c21abfd6-76eb-46a9-9b9e-b18862c326d3",
   "metadata": {},
   "outputs": [
    {
     "name": "stdout",
     "output_type": "stream",
     "text": [
      "10\n",
      "9\n",
      "8\n",
      "7\n",
      "6\n",
      "5\n",
      "4\n",
      "3\n",
      "2\n",
      "1\n"
     ]
    }
   ],
   "source": [
    "for x in range(10,0,-1) :\n",
    "  print(x)"
   ]
  },
  {
   "cell_type": "markdown",
   "id": "34697085-4ad9-4986-8e16-106e48288a11",
   "metadata": {},
   "source": [
    "**Example 7:** To print the sum of numbers present inside the list"
   ]
  },
  {
   "cell_type": "code",
   "execution_count": 7,
   "id": "df9a1fe7-5cb9-4c96-bbc7-4d79dcd52484",
   "metadata": {},
   "outputs": [
    {
     "name": "stdin",
     "output_type": "stream",
     "text": [
      "Enter List: [1,2,3,4]\n"
     ]
    },
    {
     "name": "stdout",
     "output_type": "stream",
     "text": [
      "The Sum= 10\n"
     ]
    }
   ],
   "source": [
    "list = eval(input(\"Enter List:\"))\n",
    "sum=0;\n",
    "for x in list:\n",
    "  sum=sum+x;\n",
    "print(\"The Sum=\",sum)"
   ]
  },
  {
   "cell_type": "markdown",
   "id": "ec00c4ab-e45e-46fa-9075-453e8bec9da4",
   "metadata": {},
   "source": [
    "# while loop statement"
   ]
  },
  {
   "cell_type": "markdown",
   "id": "d20823dd-bbe7-49d3-84c3-cced92214096",
   "metadata": {},
   "source": [
    "If we want to execute a group of statements iteratively until some condition is false, then we should go for a while loop.\n",
    "\n",
    "**Syntax:**\n",
    "```\n",
    "while condition :\n",
    "    body\n",
    "```"
   ]
  },
  {
   "cell_type": "markdown",
   "id": "22cf6cef-1344-4fb2-b781-2b91ec4b0ef7",
   "metadata": {},
   "source": [
    "**Example 1:** To print numbers from 1 to 10 by using a while loop"
   ]
  },
  {
   "cell_type": "code",
   "execution_count": 8,
   "id": "04e3e265-de97-4629-9783-a66e71056a0e",
   "metadata": {},
   "outputs": [
    {
     "name": "stdout",
     "output_type": "stream",
     "text": [
      "1\n",
      "2\n",
      "3\n",
      "4\n",
      "5\n",
      "6\n",
      "7\n",
      "8\n",
      "9\n",
      "10\n"
     ]
    }
   ],
   "source": [
    "x = 1\n",
    "while x <= 10:\n",
    "  print(x)\n",
    "  x = x+1"
   ]
  },
  {
   "cell_type": "markdown",
   "id": "37eda0bb-5f9f-4a2f-836a-1c3f6d324f28",
   "metadata": {},
   "source": [
    "**Example 2:** To display the sum of the first n numbers"
   ]
  },
  {
   "cell_type": "code",
   "execution_count": 9,
   "id": "ced9cef8-0803-44c2-8c93-b520470851a7",
   "metadata": {},
   "outputs": [
    {
     "name": "stdin",
     "output_type": "stream",
     "text": [
      "Enter number: 5\n"
     ]
    },
    {
     "name": "stdout",
     "output_type": "stream",
     "text": [
      "The sum of first 5 numbers is : 15\n"
     ]
    }
   ],
   "source": [
    "n=int(input(\"Enter number:\"))\n",
    "sum=0\n",
    "i=1\n",
    "while i<=n:\n",
    "  sum=sum+i\n",
    "  i=i+1\n",
    "print(\"The sum of first\",n,\"numbers is :\",sum)"
   ]
  },
  {
   "cell_type": "markdown",
   "id": "4d6a5830-f876-4a83-8b9f-9a67b7a9c450",
   "metadata": {},
   "source": [
    "**Example 3:** Write a program to prompt the user to enter some name until entering Durga"
   ]
  },
  {
   "cell_type": "code",
   "execution_count": 10,
   "id": "167073a8-4427-43b3-9de2-e49ec5a22f8a",
   "metadata": {},
   "outputs": [
    {
     "name": "stdin",
     "output_type": "stream",
     "text": [
      "Enter Name: Kiran\n",
      "Enter Name: Durga\n",
      "Enter Name: durga\n"
     ]
    },
    {
     "name": "stdout",
     "output_type": "stream",
     "text": [
      "Thanks for confirmation\n"
     ]
    }
   ],
   "source": [
    "name=\"\"\n",
    "while name!=\"durga\":\n",
    "  name=input(\"Enter Name:\")\n",
    "print(\"Thanks for confirmation\")"
   ]
  },
  {
   "cell_type": "markdown",
   "id": "ba18d744-c967-46d1-a948-1b5070012590",
   "metadata": {},
   "source": [
    "# Infinite loop"
   ]
  },
  {
   "cell_type": "markdown",
   "id": "6d92e944-aa0e-4172-9e4e-d9aa04ac0126",
   "metadata": {},
   "source": [
    "```\n",
    "i=0;\n",
    "while True :\n",
    "  i=i+1;\n",
    "  print(\"Hello\",i)\n",
    "```"
   ]
  },
  {
   "cell_type": "markdown",
   "id": "c7843193-bf94-4dcf-8be6-30ccc2f096f1",
   "metadata": {},
   "source": [
    "# Nested loop"
   ]
  },
  {
   "cell_type": "markdown",
   "id": "651d8e8a-023a-46b5-bed9-ac8300d926b1",
   "metadata": {},
   "source": [
    "Sometimes we can take a loop inside another loop, which is also known as a **nested loop**. "
   ]
  },
  {
   "cell_type": "code",
   "execution_count": 11,
   "id": "abb4e1bf-51f3-4bab-9ee5-95d0c3ccd89d",
   "metadata": {},
   "outputs": [
    {
     "name": "stdout",
     "output_type": "stream",
     "text": [
      "i= 0  j= 0\n",
      "i= 0  j= 1\n",
      "i= 0  j= 2\n",
      "i= 0  j= 3\n",
      "i= 1  j= 0\n",
      "i= 1  j= 1\n",
      "i= 1  j= 2\n",
      "i= 1  j= 3\n",
      "i= 2  j= 0\n",
      "i= 2  j= 1\n",
      "i= 2  j= 2\n",
      "i= 2  j= 3\n",
      "i= 3  j= 0\n",
      "i= 3  j= 1\n",
      "i= 3  j= 2\n",
      "i= 3  j= 3\n"
     ]
    }
   ],
   "source": [
    "for i in range(4):\n",
    "  for j in range(4):\n",
    "    print(\"i=\",i,\" j=\",j)"
   ]
  },
  {
   "cell_type": "code",
   "execution_count": null,
   "id": "c83eaa31-972b-4b8c-9602-2cde5bc759ec",
   "metadata": {},
   "outputs": [],
   "source": []
  }
 ],
 "metadata": {
  "kernelspec": {
   "display_name": "Python 3 (ipykernel)",
   "language": "python",
   "name": "python3"
  },
  "language_info": {
   "codemirror_mode": {
    "name": "ipython",
    "version": 3
   },
   "file_extension": ".py",
   "mimetype": "text/x-python",
   "name": "python",
   "nbconvert_exporter": "python",
   "pygments_lexer": "ipython3",
   "version": "3.12.5"
  }
 },
 "nbformat": 4,
 "nbformat_minor": 5
}
