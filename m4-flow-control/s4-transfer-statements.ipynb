{
 "cells": [
  {
   "cell_type": "markdown",
   "id": "a756d128-8674-41d3-bc03-b6ed01a00c5c",
   "metadata": {},
   "source": [
    "# break Statement"
   ]
  },
  {
   "cell_type": "markdown",
   "id": "eeca15c6-2501-4be4-b30d-03fbada0951b",
   "metadata": {},
   "source": [
    "We can use break statements inside loops to break loop execution based on some condition.\n",
    "* The break statement terminates the loop containing it. \n",
    "* Control of the program flows to the statement immediately after the body of the loop.\n",
    "* If the break statement is inside a nested loop (loop inside another loop), the break statement will terminate the innermost loop."
   ]
  },
  {
   "cell_type": "code",
   "execution_count": 1,
   "id": "5414b0f5-d09e-4df8-aa10-1603329ec721",
   "metadata": {},
   "outputs": [
    {
     "name": "stdout",
     "output_type": "stream",
     "text": [
      "0\n",
      "1\n",
      "2\n",
      "3\n",
      "4\n",
      "5\n",
      "6\n",
      "processing is enough..plz break\n"
     ]
    }
   ],
   "source": [
    "for i in range(10):\n",
    "  if i==7:\n",
    "    print(\"processing is enough..plz break\")\n",
    "    break\n",
    "  print(i)"
   ]
  },
  {
   "cell_type": "code",
   "execution_count": 2,
   "id": "da26dfc5-cd26-4ac6-97ca-92fe0fa5f065",
   "metadata": {},
   "outputs": [
    {
     "name": "stdout",
     "output_type": "stream",
     "text": [
      "10\n",
      "20\n",
      "To place this order insurence must be required\n"
     ]
    }
   ],
   "source": [
    "cart=[10,20,600,60,70]\n",
    "for item in cart:\n",
    "  if item>500:\n",
    "    print(\"To place this order insurence must be required\")\n",
    "    break\n",
    "  print(item)"
   ]
  },
  {
   "cell_type": "markdown",
   "id": "f1a7af05-3e88-4bad-91e7-04f7bdcfc623",
   "metadata": {},
   "source": [
    "If use a break statement outside the loop, we will get `SyntaxError: 'break' outside loop`."
   ]
  },
  {
   "cell_type": "code",
   "execution_count": 3,
   "id": "16c8ce23-8933-43cf-afd1-7dd63e1b7e22",
   "metadata": {},
   "outputs": [
    {
     "ename": "SyntaxError",
     "evalue": "'break' outside loop (3978436636.py, line 4)",
     "output_type": "error",
     "traceback": [
      "\u001b[1;36m  Cell \u001b[1;32mIn[3], line 4\u001b[1;36m\u001b[0m\n\u001b[1;33m    break\u001b[0m\n\u001b[1;37m    ^\u001b[0m\n\u001b[1;31mSyntaxError\u001b[0m\u001b[1;31m:\u001b[0m 'break' outside loop\n"
     ]
    }
   ],
   "source": [
    "x = 10\n",
    "if x > 40:\n",
    "  print(\"break statement executed\")\n",
    "  break\n",
    "print(x)\n",
    "\n",
    "# OUTPUT - SyntaxError: 'break' outside loop"
   ]
  },
  {
   "cell_type": "markdown",
   "id": "98d881ea-e7ec-4812-8452-c9dacd8b38ad",
   "metadata": {},
   "source": [
    "# continue Statement"
   ]
  },
  {
   "cell_type": "markdown",
   "id": "1eef8617-ab05-43b7-a9ed-805f0fb4d182",
   "metadata": {},
   "source": [
    "We can use the continue statement to **skip the current iteration and continue the next iteration.**\n",
    "* The continue statement in Python returns the control to the beginning of the while loop. \n",
    "* The continue statement rejects all the remaining statements in the current iteration of the loop and moves the control back to the top of the loop.\n",
    "* The continue statement can be used in both while and for loops."
   ]
  },
  {
   "cell_type": "code",
   "execution_count": 4,
   "id": "f497384c-77d2-48f2-ac8d-3faa9c870dd4",
   "metadata": {},
   "outputs": [
    {
     "name": "stdout",
     "output_type": "stream",
     "text": [
      "1\n",
      "3\n",
      "5\n",
      "7\n",
      "9\n"
     ]
    }
   ],
   "source": [
    "for i in range(10):\n",
    "  if i%2==0:\n",
    "    continue\n",
    "  print(i)"
   ]
  },
  {
   "cell_type": "code",
   "execution_count": 7,
   "id": "cb4048e2-3966-45aa-ae64-5dee90112028",
   "metadata": {},
   "outputs": [
    {
     "name": "stdout",
     "output_type": "stream",
     "text": [
      "10\n",
      "20\n",
      "We cannot process this item : 500\n",
      "We cannot process this item : 700\n",
      "50\n",
      "60\n"
     ]
    }
   ],
   "source": [
    "cart=[10,20,500,700,50,60]\n",
    "for item in cart:\n",
    "    if item>=500:\n",
    "        print(\"We cannot process this item :\",item)\n",
    "        continue\n",
    "    print(item)"
   ]
  },
  {
   "cell_type": "markdown",
   "id": "7774b272-d0dc-477c-bc57-6bd6b277e54d",
   "metadata": {},
   "source": [
    "If use a continue statement outside the loop, we will get `SyntaxError: 'continue' outside loop.`"
   ]
  },
  {
   "cell_type": "code",
   "execution_count": 8,
   "id": "a285d5ba-c1e9-4167-b3b2-6e6fe9e07a94",
   "metadata": {},
   "outputs": [
    {
     "ename": "SyntaxError",
     "evalue": "'continue' not properly in loop (3364119040.py, line 4)",
     "output_type": "error",
     "traceback": [
      "\u001b[1;36m  Cell \u001b[1;32mIn[8], line 4\u001b[1;36m\u001b[0m\n\u001b[1;33m    continue\u001b[0m\n\u001b[1;37m    ^\u001b[0m\n\u001b[1;31mSyntaxError\u001b[0m\u001b[1;31m:\u001b[0m 'continue' not properly in loop\n"
     ]
    }
   ],
   "source": [
    "x = 10\n",
    "if x > 40:\n",
    "  print(\"break statement executed\")\n",
    "  continue\n",
    "print(x)\n",
    "\n",
    "# OUTPUT - SyntaxError: 'break' outside loop"
   ]
  },
  {
   "cell_type": "markdown",
   "id": "0ef0b625-5a1d-48e8-8234-a49ef7b88da2",
   "metadata": {},
   "source": [
    "# Loops with else Block"
   ]
  },
  {
   "cell_type": "markdown",
   "id": "e0d90885-bc30-4958-811d-4ee127da7022",
   "metadata": {},
   "source": [
    "Inside loop execution, if the **break** statement is **not executed**, only then **else** part will be executed.\n",
    "\n",
    "**else** means loop without a break."
   ]
  },
  {
   "cell_type": "code",
   "execution_count": 10,
   "id": "e487b1d0-13e0-49bd-a3a9-96b6e7a62dc4",
   "metadata": {},
   "outputs": [
    {
     "name": "stdout",
     "output_type": "stream",
     "text": [
      "10\n",
      "20\n",
      "30\n",
      "40\n",
      "50\n",
      "Congrats ...all items processed successfully\n"
     ]
    }
   ],
   "source": [
    "cart=[10,20,30,40,50]\n",
    "for item in cart:\n",
    "    if item>=500:\n",
    "        print(\"We cannot process this order\")\n",
    "        break\n",
    "    print(item)\n",
    "else:\n",
    "    print(\"Congrats ...all items processed successfully\")\n"
   ]
  },
  {
   "cell_type": "code",
   "execution_count": 11,
   "id": "434e7a1d-5716-4b53-8cd6-b337b6694bda",
   "metadata": {},
   "outputs": [
    {
     "name": "stdout",
     "output_type": "stream",
     "text": [
      "10\n",
      "20\n",
      "We cannot process this order\n"
     ]
    }
   ],
   "source": [
    "cart=[10,20,600,30,40,50]\n",
    "for item in cart:\n",
    "    if item>=500:\n",
    "      print(\"We cannot process this order\")\n",
    "      break\n",
    "    print(item)\n",
    "else:\n",
    "    print(\"Congrats ...all items processed successfully\")"
   ]
  },
  {
   "cell_type": "markdown",
   "id": "2d2fa4f8-f74e-4905-803b-01b9a57b56af",
   "metadata": {},
   "source": [
    "> Inside loop execution, if the **break** statement is **not executed**, only then **else** part will be executed.\n",
    ">\n",
    "> Instead of break statement, if we use a continue statement, then also **else** part will be executed."
   ]
  },
  {
   "cell_type": "code",
   "execution_count": 12,
   "id": "66fd8f57-bf9c-49bb-a59d-6e8a40259631",
   "metadata": {},
   "outputs": [
    {
     "name": "stdout",
     "output_type": "stream",
     "text": [
      "10\n",
      "20\n",
      "30\n",
      "40\n",
      "50\n",
      "Congrats ...all items processed successfully\n"
     ]
    }
   ],
   "source": [
    "cart=[10,20,600,30,40,50]\n",
    "for item in cart:\n",
    "    if item>=500:\n",
    "      continue\n",
    "    print(item)\n",
    "else:\n",
    "    print(\"Congrats ...all items processed successfully\")"
   ]
  },
  {
   "cell_type": "markdown",
   "id": "5d7dc8b8-8543-4a6c-b529-08001765a900",
   "metadata": {},
   "source": [
    "# pass Statement"
   ]
  },
  {
   "cell_type": "markdown",
   "id": "f838d5b7-7200-4970-8d03-e3ebf3180757",
   "metadata": {},
   "source": [
    "The **pass** is a keyword in Python. In programming, syntactically if a block is required which won't do anything then we can define that empty block with the **pass** keyword. "
   ]
  },
  {
   "cell_type": "markdown",
   "id": "8b776ca7-3931-4785-ab4f-aecf494ec940",
   "metadata": {},
   "source": [
    "> * The **pass** statement is a null statement. \n",
    "> * But the difference between **pass** statement and comment is that comment is ignored by the interpreter whereas **pass** statement is not ignored.\n",
    "> * The pass statement is generally used as a placeholder i.e. when the user does not know what code to write. So user simply places a **pass** statement at that line. \n",
    "> * Sometimes, the **pass** statement is used when the user doesn’t want any code to execute. \n",
    "> * So user simply places the **pass** statement there as empty code is not allowed in loops, function definitions, class definitions, or in if statements. \n",
    "> * So using **pass** statement user avoids this error."
   ]
  },
  {
   "attachments": {
    "e4431695-61da-42c9-b7f4-d2296ba505f1.png": {
     "image/png": "[encoded data removed]"
    }
   },
   "cell_type": "markdown",
   "id": "abd3f404-1143-46f7-93d3-6dc9996c8d1f",
   "metadata": {},
   "source": [
    "![image.png](attachment:e4431695-61da-42c9-b7f4-d2296ba505f1.png)"
   ]
  },
  {
   "cell_type": "code",
   "execution_count": 13,
   "id": "6b06eac7-071f-43a7-ac40-b6e22c4996e7",
   "metadata": {},
   "outputs": [],
   "source": [
    "# if True:\n",
    "# SyntaxError: unexpected EOF while parsing\n",
    "\n",
    "# valid\n",
    "if True: pass\n",
    "\n",
    "# def m1():\n",
    "# SyntaxError: unexpected EOF while parsing \n",
    "\n",
    "# valid\n",
    "def m1(): pass"
   ]
  },
  {
   "cell_type": "markdown",
   "id": "f6f8e197-d5b5-4878-bedc-1e8fba334317",
   "metadata": {},
   "source": [
    "### Use case of pass statement"
   ]
  },
  {
   "cell_type": "markdown",
   "id": "87742d4d-4123-421c-bb7e-0bcccc6b7ec3",
   "metadata": {},
   "source": [
    "Sometimes in the parent class, we have to declare a function with an empty body, and the child class is responsible to provide the proper implementation. Such type of empty body can be defined by using the pass keyword. (It is something like an abstract method in Java)\n",
    "\n",
    " "
   ]
  },
  {
   "cell_type": "code",
   "execution_count": 14,
   "id": "390d61f9-052b-4d81-a357-e41f55538b99",
   "metadata": {},
   "outputs": [
    {
     "name": "stdout",
     "output_type": "stream",
     "text": [
      "0\n",
      "9\n",
      "18\n",
      "27\n",
      "36\n",
      "45\n",
      "54\n",
      "63\n",
      "72\n",
      "81\n",
      "90\n",
      "99\n"
     ]
    }
   ],
   "source": [
    "for i in range(100):\n",
    "  if i%9==0:\n",
    "    print(i)\n",
    "  else:\n",
    "    pass"
   ]
  },
  {
   "cell_type": "markdown",
   "id": "5b965cb5-79bc-4a44-8f18-6c9e94065086",
   "metadata": {},
   "source": [
    "### practical use case of pass statement - abstract method"
   ]
  },
  {
   "cell_type": "code",
   "execution_count": 16,
   "id": "a6b38167-63cc-455d-96fe-1040dbe9a678",
   "metadata": {},
   "outputs": [],
   "source": [
    "from abc import *\n",
    "\n",
    "class Loan(ABC):\n",
    "  @abstractmethod\n",
    "  def getInterestRate(self): pass\n",
    "\n",
    "class HomeLoan(Loan):\n",
    "  def getInterestRate(self):\n",
    "    return 8\n",
    "\n",
    "class VehicleLoan(Loan):\n",
    "  def getInterestRate(self):\n",
    "    return 11\n",
    "  "
   ]
  },
  {
   "cell_type": "markdown",
   "id": "33aa0fe0-8c5e-40de-a8a7-ad67e5fd6e91",
   "metadata": {},
   "source": [
    "### Conclusion about pass statement"
   ]
  },
  {
   "cell_type": "markdown",
   "id": "9892c47e-57bd-4a21-8517-a8ff7d763aa4",
   "metadata": {},
   "source": [
    "* The **pass** statement acts as an empty statement in python.\n",
    "* It acts as a placeholder to implement future code.\n",
    "* It can be used to define minimal classes and functions.\n",
    "* To define abstract methods, a **pass** statement is the best choice."
   ]
  },
  {
   "cell_type": "markdown",
   "id": "e67fbaa7-1154-485d-8ff0-c4e8966b7e7e",
   "metadata": {},
   "source": [
    "# del Statement"
   ]
  },
  {
   "cell_type": "markdown",
   "id": "2afff8b7-9b91-4cba-be82-52b274b9b83f",
   "metadata": {},
   "source": [
    "* **del** is a keyword in Python.\n",
    "* After using a variable, it is highly recommended to delete that variable if it is no longer required so that the corresponding object is eligible for Garbage Collection and memory utilization will be improved.\n",
    "* We can delete variables by using the del keyword.\n",
    "* We can use del to delete multiple reference variables. if we delete all reference variables then only objects are eligible for Garbage Collection."
   ]
  },
  {
   "cell_type": "code",
   "execution_count": 17,
   "id": "59bda7f3-63b0-4f95-abde-6457688a85a7",
   "metadata": {},
   "outputs": [
    {
     "name": "stdout",
     "output_type": "stream",
     "text": [
      "10\n"
     ]
    }
   ],
   "source": [
    "x = 10\n",
    "print(x)\n",
    "del x"
   ]
  },
  {
   "cell_type": "markdown",
   "id": "29f53371-a114-4aef-a743-6ee3a80fc288",
   "metadata": {},
   "source": [
    "> After deleting a variable we cannot access that variable otherwise we will get **NameError**."
   ]
  },
  {
   "cell_type": "code",
   "execution_count": 18,
   "id": "5e1cf6c4-213f-43f3-9276-0016de294153",
   "metadata": {},
   "outputs": [
    {
     "ename": "NameError",
     "evalue": "name 'x' is not defined",
     "output_type": "error",
     "traceback": [
      "\u001b[1;31m---------------------------------------------------------------------------\u001b[0m",
      "\u001b[1;31mNameError\u001b[0m                                 Traceback (most recent call last)",
      "Cell \u001b[1;32mIn[18], line 3\u001b[0m\n\u001b[0;32m      1\u001b[0m x \u001b[38;5;241m=\u001b[39m \u001b[38;5;241m10\u001b[39m\n\u001b[0;32m      2\u001b[0m \u001b[38;5;28;01mdel\u001b[39;00m x\n\u001b[1;32m----> 3\u001b[0m \u001b[38;5;28mprint\u001b[39m(\u001b[43mx\u001b[49m)    \u001b[38;5;66;03m# NameError: name 'x' is not defined.\u001b[39;00m\n",
      "\u001b[1;31mNameError\u001b[0m: name 'x' is not defined"
     ]
    }
   ],
   "source": [
    "x = 10\n",
    "del x\n",
    "print(x)    # NameError: name 'x' is not defined."
   ]
  },
  {
   "cell_type": "markdown",
   "id": "d8a90a5a-c5b0-412b-b5f2-1d29853e75fe",
   "metadata": {},
   "source": [
    "> Note that we can delete variables which are pointing to immutable objects. \n",
    ">\n",
    "> But we cannot delete the elements present inside immutable object."
   ]
  },
  {
   "cell_type": "code",
   "execution_count": 19,
   "id": "df4195d0-f1c3-4e80-ba57-7cd1e1785615",
   "metadata": {},
   "outputs": [
    {
     "name": "stdout",
     "output_type": "stream",
     "text": [
      "durga\n"
     ]
    },
    {
     "ename": "NameError",
     "evalue": "name 's' is not defined",
     "output_type": "error",
     "traceback": [
      "\u001b[1;31m---------------------------------------------------------------------------\u001b[0m",
      "\u001b[1;31mNameError\u001b[0m                                 Traceback (most recent call last)",
      "Cell \u001b[1;32mIn[19], line 4\u001b[0m\n\u001b[0;32m      2\u001b[0m \u001b[38;5;28mprint\u001b[39m(s)\n\u001b[0;32m      3\u001b[0m \u001b[38;5;28;01mdel\u001b[39;00m s       \u001b[38;5;66;03m# valid\u001b[39;00m\n\u001b[1;32m----> 4\u001b[0m \u001b[38;5;28;01mdel\u001b[39;00m \u001b[43ms\u001b[49m[\u001b[38;5;241m0\u001b[39m]    \u001b[38;5;66;03m# TypeError: 'str' object doesn't support item deletion\u001b[39;00m\n",
      "\u001b[1;31mNameError\u001b[0m: name 's' is not defined"
     ]
    }
   ],
   "source": [
    "s = \"durga\"\n",
    "print(s)\n",
    "del s       # valid\n",
    "del s[0]    # TypeError: 'str' object doesn't support item deletion"
   ]
  },
  {
   "cell_type": "markdown",
   "id": "56362eb6-1b6e-4b02-9a2e-5c3eea177ce3",
   "metadata": {},
   "source": [
    "### Difference between del and None?"
   ]
  },
  {
   "cell_type": "markdown",
   "id": "44985e20-33a8-4ee7-814e-8ce9b3afd47c",
   "metadata": {},
   "source": [
    "In the case of **del**, the variable will be **removed** and we cannot access that variable **(unbind operation)**."
   ]
  },
  {
   "cell_type": "code",
   "execution_count": 20,
   "id": "f02e28da-a392-4e00-8ef8-4b070d4c79a3",
   "metadata": {},
   "outputs": [
    {
     "ename": "NameError",
     "evalue": "name 's' is not defined",
     "output_type": "error",
     "traceback": [
      "\u001b[1;31m---------------------------------------------------------------------------\u001b[0m",
      "\u001b[1;31mNameError\u001b[0m                                 Traceback (most recent call last)",
      "Cell \u001b[1;32mIn[20], line 3\u001b[0m\n\u001b[0;32m      1\u001b[0m s \u001b[38;5;241m=\u001b[39m \u001b[38;5;124m\"\u001b[39m\u001b[38;5;124mdurga\u001b[39m\u001b[38;5;124m\"\u001b[39m\n\u001b[0;32m      2\u001b[0m \u001b[38;5;28;01mdel\u001b[39;00m s\n\u001b[1;32m----> 3\u001b[0m \u001b[38;5;28mprint\u001b[39m(\u001b[43ms\u001b[49m)          \u001b[38;5;66;03m# NameError: name 's' is not defined.\u001b[39;00m\n",
      "\u001b[1;31mNameError\u001b[0m: name 's' is not defined"
     ]
    }
   ],
   "source": [
    "s = \"durga\"\n",
    "del s\n",
    "print(s)          # NameError: name 's' is not defined."
   ]
  },
  {
   "cell_type": "markdown",
   "id": "9a4cac41-92bc-40ef-9f8f-341feb977f97",
   "metadata": {},
   "source": [
    "But in the case of **None** assignment, the variable **won't be removed** but the corresponding object is eligible for Garbage Collection **(rebind operation)**. Hence after assigning with **None** value, we can access that variable."
   ]
  },
  {
   "cell_type": "code",
   "execution_count": 21,
   "id": "d80d6e0a-bf74-4650-b082-b082c2a674aa",
   "metadata": {},
   "outputs": [
    {
     "name": "stdout",
     "output_type": "stream",
     "text": [
      "None\n"
     ]
    }
   ],
   "source": [
    "s = \"durga\"\n",
    "s = None\n",
    "print(s)      # None"
   ]
  },
  {
   "cell_type": "markdown",
   "id": "2598ca5a-158d-4d41-956e-82d426d34f20",
   "metadata": {},
   "source": [
    "# Important Interview Questions"
   ]
  },
  {
   "cell_type": "markdown",
   "id": "2f3849ba-2c9a-4dee-9eea-c4f9ff2a54c7",
   "metadata": {},
   "source": [
    "**What is the difference between for loop and a while loop in Python?**\n",
    "* We can use loops to repeat code execution\n",
    "* Repeat code for every item in **sequence** → **for** loop \n",
    "* Repeat code as long as the **condition is true** → **while** loop"
   ]
  },
  {
   "cell_type": "markdown",
   "id": "ac2863df-f58f-480b-af0c-448408a068c8",
   "metadata": {},
   "source": [
    "**How to exit from the loop?** → By using a **break** statement.\n",
    "\n",
    "**How to skip some iterations inside the loop?** → By using a **continue** statement.\n",
    "\n",
    "**When else part will be executed wrt the loops?** → If the **loop is executed without break** then only the **else block** will be executed."
   ]
  },
  {
   "cell_type": "code",
   "execution_count": null,
   "id": "3cbe3e1f-e90a-4e41-b891-9cd028c1eb40",
   "metadata": {},
   "outputs": [],
   "source": []
  }
 ],
 "metadata": {
  "kernelspec": {
   "display_name": "Python 3 (ipykernel)",
   "language": "python",
   "name": "python3"
  },
  "language_info": {
   "codemirror_mode": {
    "name": "ipython",
    "version": 3
   },
   "file_extension": ".py",
   "mimetype": "text/x-python",
   "name": "python",
   "nbconvert_exporter": "python",
   "pygments_lexer": "ipython3",
   "version": "3.12.5"
  }
 },
 "nbformat": 4,
 "nbformat_minor": 5
}
