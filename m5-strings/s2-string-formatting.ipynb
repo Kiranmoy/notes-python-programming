{
 "cells": [
  {
   "cell_type": "markdown",
   "id": "e6aeea41-2163-4997-b8e6-9f09cb25c691",
   "metadata": {},
   "source": [
    "# String formatting: Using f-string"
   ]
  },
  {
   "cell_type": "markdown",
   "id": "da71eeb7-2ef0-4879-bbea-63c9cb2add61",
   "metadata": {},
   "source": [
    "The **f-string** syntax allows embedding non-string arguments directly into the string literal."
   ]
  },
  {
   "cell_type": "code",
   "execution_count": 1,
   "id": "8fd4b76f-1a22-4316-907a-34a9fad25348",
   "metadata": {},
   "outputs": [
    {
     "name": "stdout",
     "output_type": "stream",
     "text": [
      "Your age is 34\n",
      "Your age is 34\n"
     ]
    }
   ],
   "source": [
    "age = 34\n",
    "message = f\"Your age is {age}\"\n",
    "print(message) # Your age is 34\n",
    "\n",
    "# Problem with f-string is that even if we change the value of the embedded variable, f-string doesn't get updated. The f-string will have the value when it was first calculated.\n",
    "age = 48\n",
    "print(message) # Your age is 34\n",
    "\n",
    "# Expected output: Your age is 48 | Actual Output: Your age is 34"
   ]
  },
  {
   "cell_type": "markdown",
   "id": "d63440b8-5e01-4488-ac22-dfa26ebd869d",
   "metadata": {},
   "source": [
    "> The **problem with f-string** is that even if we change the value of the embedded variable, **f-string** doesn't get updated.\n",
    ">\n",
    "> The **f-string** will have the value when it was first calculated.\n",
    "> \n",
    "> **Solution:** use replacement operator **{ }** with **format( ) method**."
   ]
  },
  {
   "cell_type": "markdown",
   "id": "4b8258a9-0698-4094-a6a3-f16a5d560309",
   "metadata": {},
   "source": [
    "One **advantage of f-string** is that it allows the usage of **multi-line string formatting**."
   ]
  },
  {
   "cell_type": "code",
   "execution_count": 2,
   "id": "2a4f47e1-4e95-40aa-bd77-cd97b63bbe5b",
   "metadata": {},
   "outputs": [
    {
     "name": "stdout",
     "output_type": "stream",
     "text": [
      "Name: Rolf Smith\n",
      "Street: 123 No Name Road\n",
      "Postcode: PY10 1CP\n",
      "Country: United Kingdom\n"
     ]
    }
   ],
   "source": [
    "name = \"Rolf Smith\"\n",
    "street = \"123 No Name Road\"\n",
    "postcode = \"PY10 1CP\"\n",
    " \n",
    "address = f\"\"\"Name: {name}\n",
    "Street: {street}\n",
    "Postcode: {postcode}\n",
    "Country: United Kingdom\"\"\"\n",
    " \n",
    "print(address)"
   ]
  },
  {
   "cell_type": "markdown",
   "id": "53a492b0-117b-41ae-837b-1a126c827fa3",
   "metadata": {},
   "source": [
    "# String formatting: Using replacement operator { } and format( ) method"
   ]
  },
  {
   "cell_type": "markdown",
   "id": "0bdd8739-72e0-4613-af50-121ad2f740a9",
   "metadata": {},
   "source": [
    "### Approach 1: positional argument"
   ]
  },
  {
   "cell_type": "code",
   "execution_count": 3,
   "id": "eb476d63-c253-4a38-a7a1-aeec5b187999",
   "metadata": {},
   "outputs": [
    {
     "name": "stdout",
     "output_type": "stream",
     "text": [
      "Your age is 34\n",
      "Your age is 48\n"
     ]
    }
   ],
   "source": [
    "age = 34\n",
    "message = \"Your age is {}\"\n",
    "print(message.format(age)) # Your age is 34\n",
    "\n",
    "age = 48\n",
    "print(message.format(age)) # Your age is 48"
   ]
  },
  {
   "cell_type": "markdown",
   "id": "90b65564-64d6-49b7-a12e-62235114dd36",
   "metadata": {},
   "source": [
    "### Approach 2: keyword argument (Recommended)"
   ]
  },
  {
   "cell_type": "code",
   "execution_count": 4,
   "id": "12db2d25-0bfd-4ca0-954e-114ba86f5221",
   "metadata": {},
   "outputs": [
    {
     "name": "stdout",
     "output_type": "stream",
     "text": [
      "Your age is 34\n",
      "Your age is 48\n"
     ]
    }
   ],
   "source": [
    "age = 34\n",
    "message = \"Your age is {myage}\"\n",
    "print(message.format(myage=age)) # Your age is 34\n",
    "\n",
    "age = 48\n",
    "print(message.format(myage=age)) # Your age is 48"
   ]
  },
  {
   "cell_type": "markdown",
   "id": "03241575-4aea-40bc-8e34-ba5382fca63e",
   "metadata": {},
   "source": [
    "We can format the strings with variable values by using the **replacement operator { }** and **format( ) method**."
   ]
  },
  {
   "cell_type": "code",
   "execution_count": 5,
   "id": "bc8119ca-6a77-4650-a2e9-d5fbf22738ad",
   "metadata": {},
   "outputs": [
    {
     "name": "stdout",
     "output_type": "stream",
     "text": [
      "durga 's salary is 10000 and his age is 48\n",
      "durga 's salary is 10000 and his age is 48\n",
      "durga 's salary is 10000 and his age is 48\n"
     ]
    }
   ],
   "source": [
    "name = 'durga'\n",
    "salary = 10000\n",
    "age = 48\n",
    "\n",
    "print(\"{} 's salary is {} and his age is {}\".format(name,salary,age))\n",
    "print(\"{0} 's salary is {1} and his age is {2}\".format(name,salary,age))\n",
    "print(\"{x} 's salary is {y} and his age is {z}\".format(z=age,y=salary,x=name))"
   ]
  },
  {
   "cell_type": "markdown",
   "id": "cd95c6d6-b092-44cb-aa19-ec4d1ad0ae1a",
   "metadata": {},
   "source": [
    "The replacement operator & format method also supports **multi-line string formatting**."
   ]
  },
  {
   "cell_type": "code",
   "execution_count": 6,
   "id": "3124971d-691c-4969-bbb7-3fcb251260c4",
   "metadata": {},
   "outputs": [
    {
     "name": "stdout",
     "output_type": "stream",
     "text": [
      "Name: Kiran\n",
      "Street: narayanpur\n",
      "Postcode: 733101\n",
      "Country: United Kingdom\n"
     ]
    }
   ],
   "source": [
    "print(\"\"\"Name: {name}\n",
    "Street: {street}\n",
    "Postcode: {postcode}\n",
    "Country: United Kingdom\"\"\".format(name=\"Kiran\",street=\"narayanpur\",postcode=\"733101\"))"
   ]
  },
  {
   "cell_type": "code",
   "execution_count": null,
   "id": "addd6764-28d9-4abf-99bb-c23b08059836",
   "metadata": {},
   "outputs": [],
   "source": []
  }
 ],
 "metadata": {
  "kernelspec": {
   "display_name": "Python 3 (ipykernel)",
   "language": "python",
   "name": "python3"
  },
  "language_info": {
   "codemirror_mode": {
    "name": "ipython",
    "version": 3
   },
   "file_extension": ".py",
   "mimetype": "text/x-python",
   "name": "python",
   "nbconvert_exporter": "python",
   "pygments_lexer": "ipython3",
   "version": "3.12.5"
  }
 },
 "nbformat": 4,
 "nbformat_minor": 5
}
