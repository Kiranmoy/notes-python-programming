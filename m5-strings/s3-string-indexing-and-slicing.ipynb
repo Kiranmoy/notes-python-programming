{
 "cells": [
  {
   "cell_type": "markdown",
   "id": "348a8f62-1ed6-463d-a46d-0a30eab30b90",
   "metadata": {},
   "source": [
    "We can access the characters of a string by using the following ways.\n",
    "* By using **index**\n",
    "* By using the **slice operator**"
   ]
  },
  {
   "cell_type": "markdown",
   "id": "b118cd5f-18d1-4e0d-ac8f-4c4b333952d1",
   "metadata": {},
   "source": [
    "# Accessing Characters by using Index"
   ]
  },
  {
   "cell_type": "markdown",
   "id": "b08b83ec-13f2-4902-8ebf-10d24dc8f377",
   "metadata": {},
   "source": [
    "* Python supports both **+ve** and **-ve** **Indexing**.\n",
    "* The **+ve Index** means Left to Right (**Forward Direction**)\n",
    "* The **-ve Index** means Right to Left (**Backward Direction**) "
   ]
  },
  {
   "cell_type": "code",
   "execution_count": 1,
   "id": "95c1f34e-141d-46d3-ad71-4f1c10ed7868",
   "metadata": {},
   "outputs": [
    {
     "name": "stdout",
     "output_type": "stream",
     "text": [
      "d\n",
      "a\n",
      "a\n"
     ]
    }
   ],
   "source": [
    " s='durga'\n",
    " print(s[0])    # d\n",
    " \n",
    " print(s[4])    # a\n",
    " print(s[-1])   # a"
   ]
  },
  {
   "cell_type": "code",
   "execution_count": 2,
   "id": "a483e568-50ad-4c22-bc4f-910f1595a09d",
   "metadata": {},
   "outputs": [
    {
     "ename": "IndexError",
     "evalue": "string index out of range",
     "output_type": "error",
     "traceback": [
      "\u001b[1;31m---------------------------------------------------------------------------\u001b[0m",
      "\u001b[1;31mIndexError\u001b[0m                                Traceback (most recent call last)",
      "Cell \u001b[1;32mIn[2], line 1\u001b[0m\n\u001b[1;32m----> 1\u001b[0m \u001b[38;5;28mprint\u001b[39m(\u001b[43ms\u001b[49m\u001b[43m[\u001b[49m\u001b[38;5;241;43m10\u001b[39;49m\u001b[43m]\u001b[49m)   \u001b[38;5;66;03m# IndexError: string index out of range\u001b[39;00m\n",
      "\u001b[1;31mIndexError\u001b[0m: string index out of range"
     ]
    }
   ],
   "source": [
    " print(s[10])   # IndexError: string index out of range"
   ]
  },
  {
   "cell_type": "markdown",
   "id": "5cb1fb7d-9beb-4279-9a56-806b2507155b",
   "metadata": {},
   "source": [
    "> **Note:** If we are trying to access characters of a string with out of range index then we will get **IndexError**."
   ]
  },
  {
   "cell_type": "markdown",
   "id": "27c34093-07f5-42a3-8459-2d0900659bfd",
   "metadata": {},
   "source": [
    "# Accessing Characters by using Slice Operator"
   ]
  },
  {
   "cell_type": "markdown",
   "id": "3ad1aed5-c7ae-45b4-8fc9-8352557a29c4",
   "metadata": {},
   "source": [
    "**Syntax:** `string [ beginIndex : endIndex : step ]`\n",
    "\n",
    "* It returns the substring from `beginIndex` to (`endIndex - 1`).\n",
    "\n",
    "* If we are not specifying begin index then it will consider from the beginning of the string \n",
    "* `beginIndex` is optional and the default value is `0`.\n",
    "\n",
    "* If we are not specifying the end index then it will consider up to the end of the string.\n",
    "* `endIndex` is optional and the default value is `len(string)`.\n",
    "\n",
    "* The default value for the step is `1`."
   ]
  },
  {
   "cell_type": "code",
   "execution_count": 3,
   "id": "9308aa91-76ae-4dee-94d5-cb345b9df284",
   "metadata": {},
   "outputs": [
    {
     "name": "stdout",
     "output_type": "stream",
     "text": [
      "earnin\n",
      "earnin\n",
      "eri\n",
      "Learnin\n",
      "g Python is very very easy!!!\n",
      "Learning Python is very very easy!!!\n",
      "Learning Python is very very easy!!!\n",
      "!!!ysae yrev yrev si nohtyP gninraeL\n"
     ]
    }
   ],
   "source": [
    " s=\"Learning Python is very very easy!!!\"\n",
    " \n",
    " print( s[ 1 : 7 : 1 ] )      # 'earnin'\n",
    " print( s[ 1 : 7 ] )          # 'earnin'\n",
    " print( s[ 1 : 7 : 2 ] )      # 'eri'\n",
    " \n",
    " print( s[ : 7 ] )            # 'Learnin'\n",
    " print( s[ 7 : ] )            # 'g Python is very very easy!!!'\n",
    " \n",
    " print( s[  : :  ] )          # 'Learning Python is very very easy!!!'\n",
    " print( s[  : ] )             # 'Learning Python is very very easy!!!'\n",
    " \n",
    " print( s[  : : -1 ] )        #  '!!!ysae yrev yrev si nohtyP gninraeL'"
   ]
  },
  {
   "cell_type": "code",
   "execution_count": null,
   "id": "be13a1a3-a087-473c-a7b8-ec5f51a52884",
   "metadata": {},
   "outputs": [],
   "source": []
  }
 ],
 "metadata": {
  "kernelspec": {
   "display_name": "Python 3 (ipykernel)",
   "language": "python",
   "name": "python3"
  },
  "language_info": {
   "codemirror_mode": {
    "name": "ipython",
    "version": 3
   },
   "file_extension": ".py",
   "mimetype": "text/x-python",
   "name": "python",
   "nbconvert_exporter": "python",
   "pygments_lexer": "ipython3",
   "version": "3.12.5"
  }
 },
 "nbformat": 4,
 "nbformat_minor": 5
}
