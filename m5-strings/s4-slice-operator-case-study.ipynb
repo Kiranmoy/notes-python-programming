{
 "cells": [
  {
   "cell_type": "markdown",
   "id": "5475e646-8d27-47b5-afde-65823dc220b5",
   "metadata": {},
   "source": [
    "# Slice Operator"
   ]
  },
  {
   "cell_type": "markdown",
   "id": "e996b07b-3c36-456b-96ce-3a0aca56b880",
   "metadata": {},
   "source": [
    "**Syntax:** `string [ beginIndex : endIndex : step ]`\n",
    "\n",
    "* The default value for the step is **1**.\n",
    "\n",
    "* **Step** value can be either **+ve** or **–ve**.\n",
    "\n",
    "* If **+ve** then it should be **forward direction** (left to right) and we have to consider **begin** to **end-1**.\n",
    "\n",
    "* If **-ve** then it should be **backward direction** (right to left) and we have to consider **begin*8 to **end+1**.\n",
    "\n",
    "* The **step** value cannot be **Zero**.\n",
    "\n",
    "* If provide **0** for the step value, we will get `ValueError: slice step cannot be zero`"
   ]
  },
  {
   "cell_type": "markdown",
   "id": "c0d8bdf2-de51-4ec3-9f81-af18a947a159",
   "metadata": {},
   "source": [
    "> **Note:**\n",
    ">\n",
    "> In the **backward direction** if the **end value** is `-1` then the result is always empty.\n",
    ">\n",
    "> In the **forward direction** if the **end value** is `0` then the result is always empty.\n",
    "> \n",
    "> Slice operator never raises **IndexError**. "
   ]
  },
  {
   "cell_type": "markdown",
   "id": "7ecc0546-44e5-40fb-aeb3-51308afb5e6b",
   "metadata": {},
   "source": [
    "# In Forward Direction"
   ]
  },
  {
   "cell_type": "markdown",
   "id": "7b94dd11-c23b-418a-8ec6-097f4a29fb2c",
   "metadata": {},
   "source": [
    "* The default value for the **begin index = 0**.\n",
    "* The default value for the **end index** = **the length of the string**.\n",
    "* The default value for **step = +1**."
   ]
  },
  {
   "cell_type": "markdown",
   "id": "5fae58af-9788-43d0-a1e5-230910466aba",
   "metadata": {},
   "source": [
    "# In Backward Direction"
   ]
  },
  {
   "cell_type": "markdown",
   "id": "b3fb4258-a320-46c7-9454-7871381f3826",
   "metadata": {},
   "source": [
    "* The default value for the **begin index = -1**.\n",
    "* The default value for the **end = - ( length of the string +1 )**."
   ]
  },
  {
   "cell_type": "markdown",
   "id": "5367579b-1510-4ebf-b29a-59438c8e0524",
   "metadata": {},
   "source": [
    "> **Note:** In both forward or backward directions, we can take both **+ve** and **-ve** values for begin and end index."
   ]
  },
  {
   "cell_type": "markdown",
   "id": "03fb9d57-867d-4c40-b40d-1e0ceeff4393",
   "metadata": {},
   "source": [
    "# Slice Operator Case Study"
   ]
  },
  {
   "cell_type": "code",
   "execution_count": 1,
   "id": "d3b3f298-a213-44c3-9578-a665d1714dc3",
   "metadata": {},
   "outputs": [
    {
     "name": "stdout",
     "output_type": "stream",
     "text": [
      "bdf\n",
      "abcdefghij\n",
      "jihgfedcba\n",
      "\n",
      "hgf\n",
      "abcdefghij\n",
      "gfedc\n",
      "gec\n",
      "\n",
      "\n",
      "a\n",
      "\n",
      "\n",
      "fd\n",
      "\n",
      "jihgfed\n"
     ]
    }
   ],
   "source": [
    "s = 'abcdefghij'\n",
    "print( s[1:6:2]\t)\t          # 'bdf'\n",
    "print( s[::1] )\t\t          # 'abcdefghij'\n",
    "print( s[::-1] )\t\t      # 'jihgfedcba'\n",
    "print( s[3:7:-1] )\t\t      # ''\n",
    "print( s[7:4:-1] )\t\t      # 'hgf'\n",
    "print( s[0:10000:1] )         # 'abcdefghij'\n",
    "print( s[-4:1:-1] )\t          # 'gfedc'\n",
    "print( s[-4:1:-2] )\t          # 'gec'\n",
    "print( s[5:0:1] )\t          # ''\n",
    "\n",
    "# print( s[9:0:0] )             # ValueError: slice step cannot be zero\n",
    "\n",
    "print( s[0:-10:-1] )\t\t  # ''\n",
    "print( s[0:-11:-1] )          # 'a'\n",
    "print( s[0:0:1] )             # ''\n",
    "print( s[0:-9:-2] )           # ''\n",
    "print( s[-5:-9:-2] )          # 'fd'\n",
    "print( s[10:-1:-1] )          # ''\n",
    "print( s[10000:2:-1] )        # 'jihgfed'"
   ]
  },
  {
   "cell_type": "code",
   "execution_count": null,
   "id": "f5f82ccb-2124-48c3-92b4-83b47e86a61a",
   "metadata": {},
   "outputs": [],
   "source": []
  }
 ],
 "metadata": {
  "kernelspec": {
   "display_name": "Python 3 (ipykernel)",
   "language": "python",
   "name": "python3"
  },
  "language_info": {
   "codemirror_mode": {
    "name": "ipython",
    "version": 3
   },
   "file_extension": ".py",
   "mimetype": "text/x-python",
   "name": "python",
   "nbconvert_exporter": "python",
   "pygments_lexer": "ipython3",
   "version": "3.12.5"
  }
 },
 "nbformat": 4,
 "nbformat_minor": 5
}
