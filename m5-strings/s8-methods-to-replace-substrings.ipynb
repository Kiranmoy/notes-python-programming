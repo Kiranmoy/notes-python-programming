{
 "cells": [
  {
   "cell_type": "markdown",
   "id": "88d20767-1282-49a5-912d-764dc96518a6",
   "metadata": {},
   "source": [
    "**SYNTAX →** `s.replace( old_string, new_string )`\n",
    "\n",
    "It replaces every occurrence of `old_string` with `new_string` for a given string."
   ]
  },
  {
   "cell_type": "code",
   "execution_count": 1,
   "id": "ce99520c-820d-41fd-97fc-9bc0cc0cb0f6",
   "metadata": {},
   "outputs": [
    {
     "name": "stdout",
     "output_type": "stream",
     "text": [
      "Learning Python is very easy\n",
      "bbbbbbbbbbbbbb\n"
     ]
    }
   ],
   "source": [
    "s = \"Learning Python is very difficult\"\n",
    "s1 = s.replace(\"difficult\",\"easy\")\n",
    "print(s1)                                   # Learning Python is very easy\n",
    "\n",
    "s = \"ababababababab\"\n",
    "s1 = s.replace(\"a\",\"b\")\n",
    "print(s1)                                   # bbbbbbbbbbbbbb\n"
   ]
  },
  {
   "cell_type": "markdown",
   "id": "4683b652-737b-4975-8463-4bc90d4b2cf2",
   "metadata": {},
   "source": [
    "> ***Q) String Objects are Immutable then how we can change the content by using replace() method?***\n",
    "> \n",
    "> * Once we create a string object, we cannot change the content. This non-changeable behavior is nothing but **immutability**. \n",
    "> \n",
    "> * If we are trying to change the content by using any method, then with those changes a new object will be created and changes won't happen in the existing object.\n",
    "> \n",
    "> * Hence with **replace( )** method also a new object got created but the existing object won't be changed."
   ]
  },
  {
   "cell_type": "markdown",
   "id": "0f92a67d-c068-4cd8-9461-10de7101dd3a",
   "metadata": {},
   "source": [
    "**PROOF**"
   ]
  },
  {
   "cell_type": "code",
   "execution_count": 2,
   "id": "40145439-8029-4a70-9684-c01c6014558d",
   "metadata": {},
   "outputs": [
    {
     "name": "stdout",
     "output_type": "stream",
     "text": [
      "abab is available at : 2002796365216\n",
      "bbbb is available at : 2002796370880\n"
     ]
    }
   ],
   "source": [
    "s = \"abab\"\n",
    "s1 = s.replace(\"a\",\"b\")\n",
    "print(s,\"is available at :\",id(s))      # abab is available at : 4568672\n",
    "print(s1,\"is available at :\",id(s1))    # bbbb is available at : 4568704"
   ]
  },
  {
   "cell_type": "markdown",
   "id": "c424d0d1-72b3-48a7-b5a0-61666228b493",
   "metadata": {},
   "source": [
    "In the above example, the original object is available and we can see the new object which was created because of **replace( )** method."
   ]
  },
  {
   "cell_type": "markdown",
   "id": "d1567276-a85f-462e-8fe1-5f1b72243114",
   "metadata": {},
   "source": [
    "***The replace( ) method is case sensitive.***"
   ]
  },
  {
   "cell_type": "code",
   "execution_count": 3,
   "id": "38f04c62-d624-41fa-848e-ab10dc5cec1e",
   "metadata": {},
   "outputs": [
    {
     "name": "stdout",
     "output_type": "stream",
     "text": [
      "Learning Python is very difficult\n"
     ]
    }
   ],
   "source": [
    "s = \"Learning Python is very difficult\"\n",
    "s1 = s.replace(\"Difficult\",\"easy\")\n",
    "print(s1)                                   # Learning Python is very difficult"
   ]
  },
  {
   "cell_type": "code",
   "execution_count": null,
   "id": "6f626ee4-6d8c-4e17-875c-1eea133d05a7",
   "metadata": {},
   "outputs": [],
   "source": []
  }
 ],
 "metadata": {
  "kernelspec": {
   "display_name": "Python 3 (ipykernel)",
   "language": "python",
   "name": "python3"
  },
  "language_info": {
   "codemirror_mode": {
    "name": "ipython",
    "version": 3
   },
   "file_extension": ".py",
   "mimetype": "text/x-python",
   "name": "python",
   "nbconvert_exporter": "python",
   "pygments_lexer": "ipython3",
   "version": "3.12.5"
  }
 },
 "nbformat": 4,
 "nbformat_minor": 5
}
